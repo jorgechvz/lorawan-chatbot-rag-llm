{
 "cells": [
  {
   "cell_type": "code",
   "execution_count": 13,
   "metadata": {},
   "outputs": [],
   "source": [
    "from llama_index.core import Settings\n",
    "from dotenv import load_dotenv\n",
    "from typing import List\n",
    "import os\n",
    "import itertools\n",
    "import numpy as np\n",
    "import pandas as pd\n",
    "import time\n",
    "\n",
    "from llama_index.vector_stores.pinecone import PineconeVectorStore\n",
    "from llama_index.core import VectorStoreIndex\n",
    "\n",
    "from llama_index.core.retrievers import VectorIndexRetriever\n",
    "from llama_index.core.query_engine import RetrieverQueryEngine\n",
    "from llama_index.core import get_response_synthesizer, PromptTemplate\n",
    "\n",
    "from llama_index.postprocessor.cohere_rerank import CohereRerank\n",
    "from llama_index.embeddings.gemini import GeminiEmbedding\n",
    "from llama_index.llms.gemini import Gemini\n",
    "from llama_index.core.llms.llm import LLM\n",
    "from pinecone import Pinecone\n",
    "from deepeval.metrics import FaithfulnessMetric\n",
    "from deepeval.metrics import AnswerRelevancyMetric\n",
    "from deepeval.metrics import ContextualPrecisionMetric\n",
    "from deepeval.metrics import ContextualRecallMetric\n",
    "from deepeval.metrics import ContextualRelevancyMetric\n",
    "from deepeval.test_case import LLMTestCase\n",
    "from deepeval import evaluate"
   ]
  },
  {
   "cell_type": "code",
   "execution_count": 2,
   "metadata": {},
   "outputs": [],
   "source": [
    "load_dotenv()\n",
    "GOOGLE_API_KEY = os.getenv(\"GOOGLE_API_KEY\")\n",
    "COHERE_API_KEY = os.getenv(\"COHERE_API_KEY\")\n",
    "PINECONE_API_KEY = os.getenv(\"PINECONE_API_KEY\")\n",
    "OPENAI_API_KEY = os.getenv(\"OPENAI_API_KEY\")"
   ]
  },
  {
   "cell_type": "code",
   "execution_count": 3,
   "metadata": {},
   "outputs": [],
   "source": [
    "gemini_llm = Gemini(api_key=os.getenv(\"GOOGLE_API_KEY\"), model=\"models/gemini-1.5-flash\")\n",
    "embed_model = GeminiEmbedding(model_name=\"models/embedding-001\")\n",
    "Settings.llm = gemini_llm\n",
    "Settings.embed_model = embed_model\n",
    "Settings.chunk_size = 768"
   ]
  },
  {
   "cell_type": "code",
   "execution_count": 4,
   "metadata": {},
   "outputs": [],
   "source": [
    "pinecone_client = Pinecone(api_key=os.getenv(\"PINECONE_API_KEY\"))\n",
    "pinecone_index = pinecone_client.Index(\"lorawan-rag\")\n",
    "vector_store = PineconeVectorStore(pinecone_index=pinecone_index)"
   ]
  },
  {
   "cell_type": "code",
   "execution_count": 5,
   "metadata": {},
   "outputs": [
    {
     "data": {
      "text/html": [
       "<div>\n",
       "<style scoped>\n",
       "    .dataframe tbody tr th:only-of-type {\n",
       "        vertical-align: middle;\n",
       "    }\n",
       "\n",
       "    .dataframe tbody tr th {\n",
       "        vertical-align: top;\n",
       "    }\n",
       "\n",
       "    .dataframe thead th {\n",
       "        text-align: right;\n",
       "    }\n",
       "</style>\n",
       "<table border=\"1\" class=\"dataframe\">\n",
       "  <thead>\n",
       "    <tr style=\"text-align: right;\">\n",
       "      <th></th>\n",
       "      <th>question</th>\n",
       "      <th>answer</th>\n",
       "      <th>manual quote</th>\n",
       "    </tr>\n",
       "  </thead>\n",
       "  <tbody>\n",
       "    <tr>\n",
       "      <th>0</th>\n",
       "      <td>How does LoRaWAN handle message fragmentation ...</td>\n",
       "      <td>LoRaWAN handles message fragmentation and reas...</td>\n",
       "      <td></td>\n",
       "    </tr>\n",
       "    <tr>\n",
       "      <th>1</th>\n",
       "      <td>What is the significance of the LoRaWAN region...</td>\n",
       "      <td>LoRaWAN regional parameters define the frequen...</td>\n",
       "      <td></td>\n",
       "    </tr>\n",
       "    <tr>\n",
       "      <th>2</th>\n",
       "      <td>How does LoRaWAN handle different data rates?</td>\n",
       "      <td>LoRaWAN handles different data rates by using ...</td>\n",
       "      <td></td>\n",
       "    </tr>\n",
       "    <tr>\n",
       "      <th>3</th>\n",
       "      <td>How does LoRaWAN enable long-range communication?</td>\n",
       "      <td>LoRaWAN enables long-range communication using...</td>\n",
       "      <td></td>\n",
       "    </tr>\n",
       "    <tr>\n",
       "      <th>4</th>\n",
       "      <td>What is the function of the network server in ...</td>\n",
       "      <td>The network server manages device registration...</td>\n",
       "      <td></td>\n",
       "    </tr>\n",
       "  </tbody>\n",
       "</table>\n",
       "</div>"
      ],
      "text/plain": [
       "                                            question  \\\n",
       "0  How does LoRaWAN handle message fragmentation ...   \n",
       "1  What is the significance of the LoRaWAN region...   \n",
       "2      How does LoRaWAN handle different data rates?   \n",
       "3  How does LoRaWAN enable long-range communication?   \n",
       "4  What is the function of the network server in ...   \n",
       "\n",
       "                                              answer manual quote  \n",
       "0  LoRaWAN handles message fragmentation and reas...               \n",
       "1  LoRaWAN regional parameters define the frequen...               \n",
       "2  LoRaWAN handles different data rates by using ...               \n",
       "3  LoRaWAN enables long-range communication using...               \n",
       "4  The network server manages device registration...               "
      ]
     },
     "execution_count": 5,
     "metadata": {},
     "output_type": "execute_result"
    }
   ],
   "source": [
    "# Load test data from file\n",
    "test_df = pd.read_csv(\"data/faq/qa-test.tsv\", sep=\"\\t\", na_filter=False)\n",
    "test_df.head()"
   ]
  },
  {
   "cell_type": "code",
   "execution_count": 6,
   "metadata": {},
   "outputs": [],
   "source": [
    "relevancy = AnswerRelevancyMetric(\n",
    "    threshold=0.7, model=\"gpt-4o-mini\", include_reason=True\n",
    ")\n",
    "faithfulness = FaithfulnessMetric(\n",
    "    threshold=0.7, model=\"gpt-4o-mini\", include_reason=True\n",
    ")"
   ]
  },
  {
   "cell_type": "code",
   "execution_count": 14,
   "metadata": {},
   "outputs": [],
   "source": [
    "def construct_test_cases(\n",
    "    model: LLM,\n",
    "    prompt: str,\n",
    "    similiarity_top_k: int = 3,\n",
    "    sparse_top_k: int = 10,\n",
    "    rerank_top_n: int = 2,\n",
    ") -> List[LLMTestCase]:\n",
    "    qa_prompt = PromptTemplate(prompt)\n",
    "    cohere_rank = CohereRerank(api_key=COHERE_API_KEY, top_n=rerank_top_n)\n",
    "    retriever = VectorIndexRetriever(\n",
    "        index=VectorStoreIndex.from_vector_store(vector_store=vector_store),\n",
    "        similiarity_top_k=similiarity_top_k,\n",
    "        sparse_top_k=sparse_top_k,\n",
    "        vector_store_query_mode=\"hybrid\",\n",
    "    )\n",
    "    response_synthesizer = get_response_synthesizer(\n",
    "        llm=model, text_qa_template=qa_prompt, response_mode=\"compact\"\n",
    "    )\n",
    "    query_engine = RetrieverQueryEngine(\n",
    "        retriever=retriever,\n",
    "        response_synthesizer=response_synthesizer,\n",
    "        node_postprocessors=[cohere_rank],\n",
    "    )\n",
    "    deepeval_test_cases: List[LLMTestCase] = []\n",
    "    for index, test_case in test_df.iterrows():\n",
    "        question = test_case[\"question\"]\n",
    "        expected_output = test_case[\"answer\"]\n",
    "        response = query_engine.query(question)\n",
    "        actual_output = response.response\n",
    "        retrieval_context = [node.get_content() for node in response.source_nodes]\n",
    "        tc = LLMTestCase(\n",
    "            input=question,\n",
    "            expected_output=expected_output,\n",
    "            actual_output=actual_output,\n",
    "            retrieval_context=retrieval_context,\n",
    "        )\n",
    "        deepeval_test_cases.append(tc)\n",
    "        time.sleep(10)\n",
    "    return deepeval_test_cases"
   ]
  },
  {
   "cell_type": "code",
   "execution_count": 8,
   "metadata": {},
   "outputs": [],
   "source": [
    "template = (\n",
    "    \"Given the context that I will provide you, answer the questions.\\n\"\n",
    "    \"Context:\\n\"\n",
    "    \"#####################################\\n\"\n",
    "    \"{context_str}\\n\"\n",
    "    \"Answer: {query_str}\\n\"\n",
    ")\n",
    "prompt_template = [template]\n",
    "\n",
    "llm = [gemini_llm]\n",
    "similiarity_top_k = [3]\n",
    "sparse_top_k = [10]\n",
    "rerank_top_n = [2]"
   ]
  },
  {
   "cell_type": "code",
   "execution_count": 9,
   "metadata": {},
   "outputs": [],
   "source": [
    "params = list(\n",
    "    itertools.product(\n",
    "        prompt_template, similiarity_top_k, sparse_top_k, rerank_top_n, llm\n",
    "    )\n",
    ")"
   ]
  },
  {
   "cell_type": "code",
   "execution_count": 15,
   "metadata": {},
   "outputs": [],
   "source": [
    "test_dataset = []\n",
    "for param in params:\n",
    "    (\n",
    "        prompt_template,\n",
    "        similiarity_top_k,\n",
    "        sparse_top_k,\n",
    "        rerank_top_n,\n",
    "        llm,\n",
    "    ) = param\n",
    "    param_test_cases = construct_test_cases(\n",
    "        llm, prompt_template, similiarity_top_k, sparse_top_k, rerank_top_n\n",
    "    )\n",
    "    test_dataset.append((param, param_test_cases))"
   ]
  },
  {
   "cell_type": "code",
   "execution_count": 16,
   "metadata": {},
   "outputs": [
    {
     "data": {
      "text/html": [
       "<pre style=\"white-space:pre;overflow-x:auto;line-height:normal;font-family:Menlo,'DejaVu Sans Mono',consolas,'Courier New',monospace\">/Users/Jorge/Library/Caches/pypoetry/virtualenvs/lorawan-chatbot-rag-llm-Kbm_Xz7B-py3.11/lib/python3.11/site-packag\n",
       "es/rich/live.py:231: UserWarning: install \"ipywidgets\" for Jupyter support\n",
       "  warnings.warn('install \"ipywidgets\" for Jupyter support')\n",
       "</pre>\n"
      ],
      "text/plain": [
       "/Users/Jorge/Library/Caches/pypoetry/virtualenvs/lorawan-chatbot-rag-llm-Kbm_Xz7B-py3.11/lib/python3.11/site-packag\n",
       "es/rich/live.py:231: UserWarning: install \"ipywidgets\" for Jupyter support\n",
       "  warnings.warn('install \"ipywidgets\" for Jupyter support')\n"
      ]
     },
     "metadata": {},
     "output_type": "display_data"
    },
    {
     "data": {
      "text/html": [
       "<pre style=\"white-space:pre;overflow-x:auto;line-height:normal;font-family:Menlo,'DejaVu Sans Mono',consolas,'Courier New',monospace\">/Users/Jorge/Library/Caches/pypoetry/virtualenvs/lorawan-chatbot-rag-llm-Kbm_Xz7B-py3.11/lib/python3.11/site-packag\n",
       "es/rich/live.py:231: UserWarning: install \"ipywidgets\" for Jupyter support\n",
       "  warnings.warn('install \"ipywidgets\" for Jupyter support')\n",
       "</pre>\n"
      ],
      "text/plain": [
       "/Users/Jorge/Library/Caches/pypoetry/virtualenvs/lorawan-chatbot-rag-llm-Kbm_Xz7B-py3.11/lib/python3.11/site-packag\n",
       "es/rich/live.py:231: UserWarning: install \"ipywidgets\" for Jupyter support\n",
       "  warnings.warn('install \"ipywidgets\" for Jupyter support')\n"
      ]
     },
     "metadata": {},
     "output_type": "display_data"
    },
    {
     "name": "stdout",
     "output_type": "stream",
     "text": [
      "Evaluating test cases...\n",
      "Event loop is already running. Applying nest_asyncio patch to allow async execution...\n"
     ]
    },
    {
     "data": {
      "text/html": [
       "<pre style=\"white-space:pre;overflow-x:auto;line-height:normal;font-family:Menlo,'DejaVu Sans Mono',consolas,'Courier New',monospace\">/Users/Jorge/Library/Caches/pypoetry/virtualenvs/lorawan-chatbot-rag-llm-Kbm_Xz7B-py3.11/lib/python3.11/site-packag\n",
       "es/rich/live.py:231: UserWarning: install \"ipywidgets\" for Jupyter support\n",
       "  warnings.warn('install \"ipywidgets\" for Jupyter support')\n",
       "</pre>\n"
      ],
      "text/plain": [
       "/Users/Jorge/Library/Caches/pypoetry/virtualenvs/lorawan-chatbot-rag-llm-Kbm_Xz7B-py3.11/lib/python3.11/site-packag\n",
       "es/rich/live.py:231: UserWarning: install \"ipywidgets\" for Jupyter support\n",
       "  warnings.warn('install \"ipywidgets\" for Jupyter support')\n"
      ]
     },
     "metadata": {},
     "output_type": "display_data"
    },
    {
     "data": {
      "text/html": [
       "<pre style=\"white-space:pre;overflow-x:auto;line-height:normal;font-family:Menlo,'DejaVu Sans Mono',consolas,'Courier New',monospace\">/Users/Jorge/Library/Caches/pypoetry/virtualenvs/lorawan-chatbot-rag-llm-Kbm_Xz7B-py3.11/lib/python3.11/site-packag\n",
       "es/rich/live.py:231: UserWarning: install \"ipywidgets\" for Jupyter support\n",
       "  warnings.warn('install \"ipywidgets\" for Jupyter support')\n",
       "</pre>\n"
      ],
      "text/plain": [
       "/Users/Jorge/Library/Caches/pypoetry/virtualenvs/lorawan-chatbot-rag-llm-Kbm_Xz7B-py3.11/lib/python3.11/site-packag\n",
       "es/rich/live.py:231: UserWarning: install \"ipywidgets\" for Jupyter support\n",
       "  warnings.warn('install \"ipywidgets\" for Jupyter support')\n"
      ]
     },
     "metadata": {},
     "output_type": "display_data"
    },
    {
     "data": {
      "text/html": [
       "<pre style=\"white-space:pre;overflow-x:auto;line-height:normal;font-family:Menlo,'DejaVu Sans Mono',consolas,'Courier New',monospace\">/Users/Jorge/Library/Caches/pypoetry/virtualenvs/lorawan-chatbot-rag-llm-Kbm_Xz7B-py3.11/lib/python3.11/site-packag\n",
       "es/rich/live.py:231: UserWarning: install \"ipywidgets\" for Jupyter support\n",
       "  warnings.warn('install \"ipywidgets\" for Jupyter support')\n",
       "</pre>\n"
      ],
      "text/plain": [
       "/Users/Jorge/Library/Caches/pypoetry/virtualenvs/lorawan-chatbot-rag-llm-Kbm_Xz7B-py3.11/lib/python3.11/site-packag\n",
       "es/rich/live.py:231: UserWarning: install \"ipywidgets\" for Jupyter support\n",
       "  warnings.warn('install \"ipywidgets\" for Jupyter support')\n"
      ]
     },
     "metadata": {},
     "output_type": "display_data"
    },
    {
     "data": {
      "text/html": [
       "<pre style=\"white-space:pre;overflow-x:auto;line-height:normal;font-family:Menlo,'DejaVu Sans Mono',consolas,'Courier New',monospace\">/Users/Jorge/Library/Caches/pypoetry/virtualenvs/lorawan-chatbot-rag-llm-Kbm_Xz7B-py3.11/lib/python3.11/site-packag\n",
       "es/rich/live.py:231: UserWarning: install \"ipywidgets\" for Jupyter support\n",
       "  warnings.warn('install \"ipywidgets\" for Jupyter support')\n",
       "</pre>\n"
      ],
      "text/plain": [
       "/Users/Jorge/Library/Caches/pypoetry/virtualenvs/lorawan-chatbot-rag-llm-Kbm_Xz7B-py3.11/lib/python3.11/site-packag\n",
       "es/rich/live.py:231: UserWarning: install \"ipywidgets\" for Jupyter support\n",
       "  warnings.warn('install \"ipywidgets\" for Jupyter support')\n"
      ]
     },
     "metadata": {},
     "output_type": "display_data"
    },
    {
     "data": {
      "text/html": [
       "<pre style=\"white-space:pre;overflow-x:auto;line-height:normal;font-family:Menlo,'DejaVu Sans Mono',consolas,'Courier New',monospace\">/Users/Jorge/Library/Caches/pypoetry/virtualenvs/lorawan-chatbot-rag-llm-Kbm_Xz7B-py3.11/lib/python3.11/site-packag\n",
       "es/rich/live.py:231: UserWarning: install \"ipywidgets\" for Jupyter support\n",
       "  warnings.warn('install \"ipywidgets\" for Jupyter support')\n",
       "</pre>\n"
      ],
      "text/plain": [
       "/Users/Jorge/Library/Caches/pypoetry/virtualenvs/lorawan-chatbot-rag-llm-Kbm_Xz7B-py3.11/lib/python3.11/site-packag\n",
       "es/rich/live.py:231: UserWarning: install \"ipywidgets\" for Jupyter support\n",
       "  warnings.warn('install \"ipywidgets\" for Jupyter support')\n"
      ]
     },
     "metadata": {},
     "output_type": "display_data"
    },
    {
     "data": {
      "text/html": [
       "<pre style=\"white-space:pre;overflow-x:auto;line-height:normal;font-family:Menlo,'DejaVu Sans Mono',consolas,'Courier New',monospace\">/Users/Jorge/Library/Caches/pypoetry/virtualenvs/lorawan-chatbot-rag-llm-Kbm_Xz7B-py3.11/lib/python3.11/site-packag\n",
       "es/rich/live.py:231: UserWarning: install \"ipywidgets\" for Jupyter support\n",
       "  warnings.warn('install \"ipywidgets\" for Jupyter support')\n",
       "</pre>\n"
      ],
      "text/plain": [
       "/Users/Jorge/Library/Caches/pypoetry/virtualenvs/lorawan-chatbot-rag-llm-Kbm_Xz7B-py3.11/lib/python3.11/site-packag\n",
       "es/rich/live.py:231: UserWarning: install \"ipywidgets\" for Jupyter support\n",
       "  warnings.warn('install \"ipywidgets\" for Jupyter support')\n"
      ]
     },
     "metadata": {},
     "output_type": "display_data"
    },
    {
     "data": {
      "text/html": [
       "<pre style=\"white-space:pre;overflow-x:auto;line-height:normal;font-family:Menlo,'DejaVu Sans Mono',consolas,'Courier New',monospace\">/Users/Jorge/Library/Caches/pypoetry/virtualenvs/lorawan-chatbot-rag-llm-Kbm_Xz7B-py3.11/lib/python3.11/site-packag\n",
       "es/rich/live.py:231: UserWarning: install \"ipywidgets\" for Jupyter support\n",
       "  warnings.warn('install \"ipywidgets\" for Jupyter support')\n",
       "</pre>\n"
      ],
      "text/plain": [
       "/Users/Jorge/Library/Caches/pypoetry/virtualenvs/lorawan-chatbot-rag-llm-Kbm_Xz7B-py3.11/lib/python3.11/site-packag\n",
       "es/rich/live.py:231: UserWarning: install \"ipywidgets\" for Jupyter support\n",
       "  warnings.warn('install \"ipywidgets\" for Jupyter support')\n"
      ]
     },
     "metadata": {},
     "output_type": "display_data"
    },
    {
     "data": {
      "text/html": [
       "<pre style=\"white-space:pre;overflow-x:auto;line-height:normal;font-family:Menlo,'DejaVu Sans Mono',consolas,'Courier New',monospace\">/Users/Jorge/Library/Caches/pypoetry/virtualenvs/lorawan-chatbot-rag-llm-Kbm_Xz7B-py3.11/lib/python3.11/site-packag\n",
       "es/rich/live.py:231: UserWarning: install \"ipywidgets\" for Jupyter support\n",
       "  warnings.warn('install \"ipywidgets\" for Jupyter support')\n",
       "</pre>\n"
      ],
      "text/plain": [
       "/Users/Jorge/Library/Caches/pypoetry/virtualenvs/lorawan-chatbot-rag-llm-Kbm_Xz7B-py3.11/lib/python3.11/site-packag\n",
       "es/rich/live.py:231: UserWarning: install \"ipywidgets\" for Jupyter support\n",
       "  warnings.warn('install \"ipywidgets\" for Jupyter support')\n"
      ]
     },
     "metadata": {},
     "output_type": "display_data"
    },
    {
     "data": {
      "text/html": [
       "<pre style=\"white-space:pre;overflow-x:auto;line-height:normal;font-family:Menlo,'DejaVu Sans Mono',consolas,'Courier New',monospace\">/Users/Jorge/Library/Caches/pypoetry/virtualenvs/lorawan-chatbot-rag-llm-Kbm_Xz7B-py3.11/lib/python3.11/site-packag\n",
       "es/rich/live.py:231: UserWarning: install \"ipywidgets\" for Jupyter support\n",
       "  warnings.warn('install \"ipywidgets\" for Jupyter support')\n",
       "</pre>\n"
      ],
      "text/plain": [
       "/Users/Jorge/Library/Caches/pypoetry/virtualenvs/lorawan-chatbot-rag-llm-Kbm_Xz7B-py3.11/lib/python3.11/site-packag\n",
       "es/rich/live.py:231: UserWarning: install \"ipywidgets\" for Jupyter support\n",
       "  warnings.warn('install \"ipywidgets\" for Jupyter support')\n"
      ]
     },
     "metadata": {},
     "output_type": "display_data"
    },
    {
     "data": {
      "text/html": [
       "<pre style=\"white-space:pre;overflow-x:auto;line-height:normal;font-family:Menlo,'DejaVu Sans Mono',consolas,'Courier New',monospace\">/Users/Jorge/Library/Caches/pypoetry/virtualenvs/lorawan-chatbot-rag-llm-Kbm_Xz7B-py3.11/lib/python3.11/site-packag\n",
       "es/rich/live.py:231: UserWarning: install \"ipywidgets\" for Jupyter support\n",
       "  warnings.warn('install \"ipywidgets\" for Jupyter support')\n",
       "</pre>\n"
      ],
      "text/plain": [
       "/Users/Jorge/Library/Caches/pypoetry/virtualenvs/lorawan-chatbot-rag-llm-Kbm_Xz7B-py3.11/lib/python3.11/site-packag\n",
       "es/rich/live.py:231: UserWarning: install \"ipywidgets\" for Jupyter support\n",
       "  warnings.warn('install \"ipywidgets\" for Jupyter support')\n"
      ]
     },
     "metadata": {},
     "output_type": "display_data"
    },
    {
     "data": {
      "text/html": [
       "<pre style=\"white-space:pre;overflow-x:auto;line-height:normal;font-family:Menlo,'DejaVu Sans Mono',consolas,'Courier New',monospace\"></pre>\n"
      ],
      "text/plain": []
     },
     "metadata": {},
     "output_type": "display_data"
    },
    {
     "data": {
      "text/html": [
       "<pre style=\"white-space:pre;overflow-x:auto;line-height:normal;font-family:Menlo,'DejaVu Sans Mono',consolas,'Courier New',monospace\">\n",
       "</pre>\n"
      ],
      "text/plain": [
       "\n"
      ]
     },
     "metadata": {},
     "output_type": "display_data"
    },
    {
     "data": {
      "text/html": [
       "<pre style=\"white-space:pre;overflow-x:auto;line-height:normal;font-family:Menlo,'DejaVu Sans Mono',consolas,'Courier New',monospace\">/Users/Jorge/Library/Caches/pypoetry/virtualenvs/lorawan-chatbot-rag-llm-Kbm_Xz7B-py3.11/lib/python3.11/site-packag\n",
       "es/rich/live.py:231: UserWarning: install \"ipywidgets\" for Jupyter support\n",
       "  warnings.warn('install \"ipywidgets\" for Jupyter support')\n",
       "</pre>\n"
      ],
      "text/plain": [
       "/Users/Jorge/Library/Caches/pypoetry/virtualenvs/lorawan-chatbot-rag-llm-Kbm_Xz7B-py3.11/lib/python3.11/site-packag\n",
       "es/rich/live.py:231: UserWarning: install \"ipywidgets\" for Jupyter support\n",
       "  warnings.warn('install \"ipywidgets\" for Jupyter support')\n"
      ]
     },
     "metadata": {},
     "output_type": "display_data"
    },
    {
     "data": {
      "text/html": [
       "<pre style=\"white-space:pre;overflow-x:auto;line-height:normal;font-family:Menlo,'DejaVu Sans Mono',consolas,'Courier New',monospace\">/Users/Jorge/Library/Caches/pypoetry/virtualenvs/lorawan-chatbot-rag-llm-Kbm_Xz7B-py3.11/lib/python3.11/site-packag\n",
       "es/rich/live.py:231: UserWarning: install \"ipywidgets\" for Jupyter support\n",
       "  warnings.warn('install \"ipywidgets\" for Jupyter support')\n",
       "</pre>\n"
      ],
      "text/plain": [
       "/Users/Jorge/Library/Caches/pypoetry/virtualenvs/lorawan-chatbot-rag-llm-Kbm_Xz7B-py3.11/lib/python3.11/site-packag\n",
       "es/rich/live.py:231: UserWarning: install \"ipywidgets\" for Jupyter support\n",
       "  warnings.warn('install \"ipywidgets\" for Jupyter support')\n"
      ]
     },
     "metadata": {},
     "output_type": "display_data"
    },
    {
     "data": {
      "text/html": [
       "<pre style=\"white-space:pre;overflow-x:auto;line-height:normal;font-family:Menlo,'DejaVu Sans Mono',consolas,'Courier New',monospace\">/Users/Jorge/Library/Caches/pypoetry/virtualenvs/lorawan-chatbot-rag-llm-Kbm_Xz7B-py3.11/lib/python3.11/site-packag\n",
       "es/rich/live.py:231: UserWarning: install \"ipywidgets\" for Jupyter support\n",
       "  warnings.warn('install \"ipywidgets\" for Jupyter support')\n",
       "</pre>\n"
      ],
      "text/plain": [
       "/Users/Jorge/Library/Caches/pypoetry/virtualenvs/lorawan-chatbot-rag-llm-Kbm_Xz7B-py3.11/lib/python3.11/site-packag\n",
       "es/rich/live.py:231: UserWarning: install \"ipywidgets\" for Jupyter support\n",
       "  warnings.warn('install \"ipywidgets\" for Jupyter support')\n"
      ]
     },
     "metadata": {},
     "output_type": "display_data"
    },
    {
     "data": {
      "text/html": [
       "<pre style=\"white-space:pre;overflow-x:auto;line-height:normal;font-family:Menlo,'DejaVu Sans Mono',consolas,'Courier New',monospace\">/Users/Jorge/Library/Caches/pypoetry/virtualenvs/lorawan-chatbot-rag-llm-Kbm_Xz7B-py3.11/lib/python3.11/site-packag\n",
       "es/rich/live.py:231: UserWarning: install \"ipywidgets\" for Jupyter support\n",
       "  warnings.warn('install \"ipywidgets\" for Jupyter support')\n",
       "</pre>\n"
      ],
      "text/plain": [
       "/Users/Jorge/Library/Caches/pypoetry/virtualenvs/lorawan-chatbot-rag-llm-Kbm_Xz7B-py3.11/lib/python3.11/site-packag\n",
       "es/rich/live.py:231: UserWarning: install \"ipywidgets\" for Jupyter support\n",
       "  warnings.warn('install \"ipywidgets\" for Jupyter support')\n"
      ]
     },
     "metadata": {},
     "output_type": "display_data"
    },
    {
     "data": {
      "text/html": [
       "<pre style=\"white-space:pre;overflow-x:auto;line-height:normal;font-family:Menlo,'DejaVu Sans Mono',consolas,'Courier New',monospace\">/Users/Jorge/Library/Caches/pypoetry/virtualenvs/lorawan-chatbot-rag-llm-Kbm_Xz7B-py3.11/lib/python3.11/site-packag\n",
       "es/rich/live.py:231: UserWarning: install \"ipywidgets\" for Jupyter support\n",
       "  warnings.warn('install \"ipywidgets\" for Jupyter support')\n",
       "</pre>\n"
      ],
      "text/plain": [
       "/Users/Jorge/Library/Caches/pypoetry/virtualenvs/lorawan-chatbot-rag-llm-Kbm_Xz7B-py3.11/lib/python3.11/site-packag\n",
       "es/rich/live.py:231: UserWarning: install \"ipywidgets\" for Jupyter support\n",
       "  warnings.warn('install \"ipywidgets\" for Jupyter support')\n"
      ]
     },
     "metadata": {},
     "output_type": "display_data"
    },
    {
     "data": {
      "text/html": [
       "<pre style=\"white-space:pre;overflow-x:auto;line-height:normal;font-family:Menlo,'DejaVu Sans Mono',consolas,'Courier New',monospace\">/Users/Jorge/Library/Caches/pypoetry/virtualenvs/lorawan-chatbot-rag-llm-Kbm_Xz7B-py3.11/lib/python3.11/site-packag\n",
       "es/rich/live.py:231: UserWarning: install \"ipywidgets\" for Jupyter support\n",
       "  warnings.warn('install \"ipywidgets\" for Jupyter support')\n",
       "</pre>\n"
      ],
      "text/plain": [
       "/Users/Jorge/Library/Caches/pypoetry/virtualenvs/lorawan-chatbot-rag-llm-Kbm_Xz7B-py3.11/lib/python3.11/site-packag\n",
       "es/rich/live.py:231: UserWarning: install \"ipywidgets\" for Jupyter support\n",
       "  warnings.warn('install \"ipywidgets\" for Jupyter support')\n"
      ]
     },
     "metadata": {},
     "output_type": "display_data"
    },
    {
     "data": {
      "text/html": [
       "<pre style=\"white-space:pre;overflow-x:auto;line-height:normal;font-family:Menlo,'DejaVu Sans Mono',consolas,'Courier New',monospace\">/Users/Jorge/Library/Caches/pypoetry/virtualenvs/lorawan-chatbot-rag-llm-Kbm_Xz7B-py3.11/lib/python3.11/site-packag\n",
       "es/rich/live.py:231: UserWarning: install \"ipywidgets\" for Jupyter support\n",
       "  warnings.warn('install \"ipywidgets\" for Jupyter support')\n",
       "</pre>\n"
      ],
      "text/plain": [
       "/Users/Jorge/Library/Caches/pypoetry/virtualenvs/lorawan-chatbot-rag-llm-Kbm_Xz7B-py3.11/lib/python3.11/site-packag\n",
       "es/rich/live.py:231: UserWarning: install \"ipywidgets\" for Jupyter support\n",
       "  warnings.warn('install \"ipywidgets\" for Jupyter support')\n"
      ]
     },
     "metadata": {},
     "output_type": "display_data"
    },
    {
     "data": {
      "text/html": [
       "<pre style=\"white-space:pre;overflow-x:auto;line-height:normal;font-family:Menlo,'DejaVu Sans Mono',consolas,'Courier New',monospace\">/Users/Jorge/Library/Caches/pypoetry/virtualenvs/lorawan-chatbot-rag-llm-Kbm_Xz7B-py3.11/lib/python3.11/site-packag\n",
       "es/rich/live.py:231: UserWarning: install \"ipywidgets\" for Jupyter support\n",
       "  warnings.warn('install \"ipywidgets\" for Jupyter support')\n",
       "</pre>\n"
      ],
      "text/plain": [
       "/Users/Jorge/Library/Caches/pypoetry/virtualenvs/lorawan-chatbot-rag-llm-Kbm_Xz7B-py3.11/lib/python3.11/site-packag\n",
       "es/rich/live.py:231: UserWarning: install \"ipywidgets\" for Jupyter support\n",
       "  warnings.warn('install \"ipywidgets\" for Jupyter support')\n"
      ]
     },
     "metadata": {},
     "output_type": "display_data"
    },
    {
     "data": {
      "text/html": [
       "<pre style=\"white-space:pre;overflow-x:auto;line-height:normal;font-family:Menlo,'DejaVu Sans Mono',consolas,'Courier New',monospace\">/Users/Jorge/Library/Caches/pypoetry/virtualenvs/lorawan-chatbot-rag-llm-Kbm_Xz7B-py3.11/lib/python3.11/site-packag\n",
       "es/rich/live.py:231: UserWarning: install \"ipywidgets\" for Jupyter support\n",
       "  warnings.warn('install \"ipywidgets\" for Jupyter support')\n",
       "</pre>\n"
      ],
      "text/plain": [
       "/Users/Jorge/Library/Caches/pypoetry/virtualenvs/lorawan-chatbot-rag-llm-Kbm_Xz7B-py3.11/lib/python3.11/site-packag\n",
       "es/rich/live.py:231: UserWarning: install \"ipywidgets\" for Jupyter support\n",
       "  warnings.warn('install \"ipywidgets\" for Jupyter support')\n"
      ]
     },
     "metadata": {},
     "output_type": "display_data"
    },
    {
     "data": {
      "text/html": [
       "<pre style=\"white-space:pre;overflow-x:auto;line-height:normal;font-family:Menlo,'DejaVu Sans Mono',consolas,'Courier New',monospace\">/Users/Jorge/Library/Caches/pypoetry/virtualenvs/lorawan-chatbot-rag-llm-Kbm_Xz7B-py3.11/lib/python3.11/site-packag\n",
       "es/rich/live.py:231: UserWarning: install \"ipywidgets\" for Jupyter support\n",
       "  warnings.warn('install \"ipywidgets\" for Jupyter support')\n",
       "</pre>\n"
      ],
      "text/plain": [
       "/Users/Jorge/Library/Caches/pypoetry/virtualenvs/lorawan-chatbot-rag-llm-Kbm_Xz7B-py3.11/lib/python3.11/site-packag\n",
       "es/rich/live.py:231: UserWarning: install \"ipywidgets\" for Jupyter support\n",
       "  warnings.warn('install \"ipywidgets\" for Jupyter support')\n"
      ]
     },
     "metadata": {},
     "output_type": "display_data"
    },
    {
     "data": {
      "text/html": [
       "<pre style=\"white-space:pre;overflow-x:auto;line-height:normal;font-family:Menlo,'DejaVu Sans Mono',consolas,'Courier New',monospace\"></pre>\n"
      ],
      "text/plain": []
     },
     "metadata": {},
     "output_type": "display_data"
    },
    {
     "data": {
      "text/html": [
       "<pre style=\"white-space:pre;overflow-x:auto;line-height:normal;font-family:Menlo,'DejaVu Sans Mono',consolas,'Courier New',monospace\">\n",
       "</pre>\n"
      ],
      "text/plain": [
       "\n"
      ]
     },
     "metadata": {},
     "output_type": "display_data"
    },
    {
     "data": {
      "text/html": [
       "<pre style=\"white-space:pre;overflow-x:auto;line-height:normal;font-family:Menlo,'DejaVu Sans Mono',consolas,'Courier New',monospace\">/Users/Jorge/Library/Caches/pypoetry/virtualenvs/lorawan-chatbot-rag-llm-Kbm_Xz7B-py3.11/lib/python3.11/site-packag\n",
       "es/rich/live.py:231: UserWarning: install \"ipywidgets\" for Jupyter support\n",
       "  warnings.warn('install \"ipywidgets\" for Jupyter support')\n",
       "</pre>\n"
      ],
      "text/plain": [
       "/Users/Jorge/Library/Caches/pypoetry/virtualenvs/lorawan-chatbot-rag-llm-Kbm_Xz7B-py3.11/lib/python3.11/site-packag\n",
       "es/rich/live.py:231: UserWarning: install \"ipywidgets\" for Jupyter support\n",
       "  warnings.warn('install \"ipywidgets\" for Jupyter support')\n"
      ]
     },
     "metadata": {},
     "output_type": "display_data"
    },
    {
     "data": {
      "text/html": [
       "<pre style=\"white-space:pre;overflow-x:auto;line-height:normal;font-family:Menlo,'DejaVu Sans Mono',consolas,'Courier New',monospace\">/Users/Jorge/Library/Caches/pypoetry/virtualenvs/lorawan-chatbot-rag-llm-Kbm_Xz7B-py3.11/lib/python3.11/site-packag\n",
       "es/rich/live.py:231: UserWarning: install \"ipywidgets\" for Jupyter support\n",
       "  warnings.warn('install \"ipywidgets\" for Jupyter support')\n",
       "</pre>\n"
      ],
      "text/plain": [
       "/Users/Jorge/Library/Caches/pypoetry/virtualenvs/lorawan-chatbot-rag-llm-Kbm_Xz7B-py3.11/lib/python3.11/site-packag\n",
       "es/rich/live.py:231: UserWarning: install \"ipywidgets\" for Jupyter support\n",
       "  warnings.warn('install \"ipywidgets\" for Jupyter support')\n"
      ]
     },
     "metadata": {},
     "output_type": "display_data"
    },
    {
     "data": {
      "text/html": [
       "<pre style=\"white-space:pre;overflow-x:auto;line-height:normal;font-family:Menlo,'DejaVu Sans Mono',consolas,'Courier New',monospace\">/Users/Jorge/Library/Caches/pypoetry/virtualenvs/lorawan-chatbot-rag-llm-Kbm_Xz7B-py3.11/lib/python3.11/site-packag\n",
       "es/rich/live.py:231: UserWarning: install \"ipywidgets\" for Jupyter support\n",
       "  warnings.warn('install \"ipywidgets\" for Jupyter support')\n",
       "</pre>\n"
      ],
      "text/plain": [
       "/Users/Jorge/Library/Caches/pypoetry/virtualenvs/lorawan-chatbot-rag-llm-Kbm_Xz7B-py3.11/lib/python3.11/site-packag\n",
       "es/rich/live.py:231: UserWarning: install \"ipywidgets\" for Jupyter support\n",
       "  warnings.warn('install \"ipywidgets\" for Jupyter support')\n"
      ]
     },
     "metadata": {},
     "output_type": "display_data"
    },
    {
     "data": {
      "text/html": [
       "<pre style=\"white-space:pre;overflow-x:auto;line-height:normal;font-family:Menlo,'DejaVu Sans Mono',consolas,'Courier New',monospace\">/Users/Jorge/Library/Caches/pypoetry/virtualenvs/lorawan-chatbot-rag-llm-Kbm_Xz7B-py3.11/lib/python3.11/site-packag\n",
       "es/rich/live.py:231: UserWarning: install \"ipywidgets\" for Jupyter support\n",
       "  warnings.warn('install \"ipywidgets\" for Jupyter support')\n",
       "</pre>\n"
      ],
      "text/plain": [
       "/Users/Jorge/Library/Caches/pypoetry/virtualenvs/lorawan-chatbot-rag-llm-Kbm_Xz7B-py3.11/lib/python3.11/site-packag\n",
       "es/rich/live.py:231: UserWarning: install \"ipywidgets\" for Jupyter support\n",
       "  warnings.warn('install \"ipywidgets\" for Jupyter support')\n"
      ]
     },
     "metadata": {},
     "output_type": "display_data"
    },
    {
     "data": {
      "text/html": [
       "<pre style=\"white-space:pre;overflow-x:auto;line-height:normal;font-family:Menlo,'DejaVu Sans Mono',consolas,'Courier New',monospace\">/Users/Jorge/Library/Caches/pypoetry/virtualenvs/lorawan-chatbot-rag-llm-Kbm_Xz7B-py3.11/lib/python3.11/site-packag\n",
       "es/rich/live.py:231: UserWarning: install \"ipywidgets\" for Jupyter support\n",
       "  warnings.warn('install \"ipywidgets\" for Jupyter support')\n",
       "</pre>\n"
      ],
      "text/plain": [
       "/Users/Jorge/Library/Caches/pypoetry/virtualenvs/lorawan-chatbot-rag-llm-Kbm_Xz7B-py3.11/lib/python3.11/site-packag\n",
       "es/rich/live.py:231: UserWarning: install \"ipywidgets\" for Jupyter support\n",
       "  warnings.warn('install \"ipywidgets\" for Jupyter support')\n"
      ]
     },
     "metadata": {},
     "output_type": "display_data"
    },
    {
     "data": {
      "text/html": [
       "<pre style=\"white-space:pre;overflow-x:auto;line-height:normal;font-family:Menlo,'DejaVu Sans Mono',consolas,'Courier New',monospace\">/Users/Jorge/Library/Caches/pypoetry/virtualenvs/lorawan-chatbot-rag-llm-Kbm_Xz7B-py3.11/lib/python3.11/site-packag\n",
       "es/rich/live.py:231: UserWarning: install \"ipywidgets\" for Jupyter support\n",
       "  warnings.warn('install \"ipywidgets\" for Jupyter support')\n",
       "</pre>\n"
      ],
      "text/plain": [
       "/Users/Jorge/Library/Caches/pypoetry/virtualenvs/lorawan-chatbot-rag-llm-Kbm_Xz7B-py3.11/lib/python3.11/site-packag\n",
       "es/rich/live.py:231: UserWarning: install \"ipywidgets\" for Jupyter support\n",
       "  warnings.warn('install \"ipywidgets\" for Jupyter support')\n"
      ]
     },
     "metadata": {},
     "output_type": "display_data"
    },
    {
     "data": {
      "text/html": [
       "<pre style=\"white-space:pre;overflow-x:auto;line-height:normal;font-family:Menlo,'DejaVu Sans Mono',consolas,'Courier New',monospace\">/Users/Jorge/Library/Caches/pypoetry/virtualenvs/lorawan-chatbot-rag-llm-Kbm_Xz7B-py3.11/lib/python3.11/site-packag\n",
       "es/rich/live.py:231: UserWarning: install \"ipywidgets\" for Jupyter support\n",
       "  warnings.warn('install \"ipywidgets\" for Jupyter support')\n",
       "</pre>\n"
      ],
      "text/plain": [
       "/Users/Jorge/Library/Caches/pypoetry/virtualenvs/lorawan-chatbot-rag-llm-Kbm_Xz7B-py3.11/lib/python3.11/site-packag\n",
       "es/rich/live.py:231: UserWarning: install \"ipywidgets\" for Jupyter support\n",
       "  warnings.warn('install \"ipywidgets\" for Jupyter support')\n"
      ]
     },
     "metadata": {},
     "output_type": "display_data"
    },
    {
     "data": {
      "text/html": [
       "<pre style=\"white-space:pre;overflow-x:auto;line-height:normal;font-family:Menlo,'DejaVu Sans Mono',consolas,'Courier New',monospace\">/Users/Jorge/Library/Caches/pypoetry/virtualenvs/lorawan-chatbot-rag-llm-Kbm_Xz7B-py3.11/lib/python3.11/site-packag\n",
       "es/rich/live.py:231: UserWarning: install \"ipywidgets\" for Jupyter support\n",
       "  warnings.warn('install \"ipywidgets\" for Jupyter support')\n",
       "</pre>\n"
      ],
      "text/plain": [
       "/Users/Jorge/Library/Caches/pypoetry/virtualenvs/lorawan-chatbot-rag-llm-Kbm_Xz7B-py3.11/lib/python3.11/site-packag\n",
       "es/rich/live.py:231: UserWarning: install \"ipywidgets\" for Jupyter support\n",
       "  warnings.warn('install \"ipywidgets\" for Jupyter support')\n"
      ]
     },
     "metadata": {},
     "output_type": "display_data"
    },
    {
     "data": {
      "text/html": [
       "<pre style=\"white-space:pre;overflow-x:auto;line-height:normal;font-family:Menlo,'DejaVu Sans Mono',consolas,'Courier New',monospace\">/Users/Jorge/Library/Caches/pypoetry/virtualenvs/lorawan-chatbot-rag-llm-Kbm_Xz7B-py3.11/lib/python3.11/site-packag\n",
       "es/rich/live.py:231: UserWarning: install \"ipywidgets\" for Jupyter support\n",
       "  warnings.warn('install \"ipywidgets\" for Jupyter support')\n",
       "</pre>\n"
      ],
      "text/plain": [
       "/Users/Jorge/Library/Caches/pypoetry/virtualenvs/lorawan-chatbot-rag-llm-Kbm_Xz7B-py3.11/lib/python3.11/site-packag\n",
       "es/rich/live.py:231: UserWarning: install \"ipywidgets\" for Jupyter support\n",
       "  warnings.warn('install \"ipywidgets\" for Jupyter support')\n"
      ]
     },
     "metadata": {},
     "output_type": "display_data"
    },
    {
     "data": {
      "text/html": [
       "<pre style=\"white-space:pre;overflow-x:auto;line-height:normal;font-family:Menlo,'DejaVu Sans Mono',consolas,'Courier New',monospace\">/Users/Jorge/Library/Caches/pypoetry/virtualenvs/lorawan-chatbot-rag-llm-Kbm_Xz7B-py3.11/lib/python3.11/site-packag\n",
       "es/rich/live.py:231: UserWarning: install \"ipywidgets\" for Jupyter support\n",
       "  warnings.warn('install \"ipywidgets\" for Jupyter support')\n",
       "</pre>\n"
      ],
      "text/plain": [
       "/Users/Jorge/Library/Caches/pypoetry/virtualenvs/lorawan-chatbot-rag-llm-Kbm_Xz7B-py3.11/lib/python3.11/site-packag\n",
       "es/rich/live.py:231: UserWarning: install \"ipywidgets\" for Jupyter support\n",
       "  warnings.warn('install \"ipywidgets\" for Jupyter support')\n"
      ]
     },
     "metadata": {},
     "output_type": "display_data"
    },
    {
     "data": {
      "text/html": [
       "<pre style=\"white-space:pre;overflow-x:auto;line-height:normal;font-family:Menlo,'DejaVu Sans Mono',consolas,'Courier New',monospace\"></pre>\n"
      ],
      "text/plain": []
     },
     "metadata": {},
     "output_type": "display_data"
    },
    {
     "data": {
      "text/html": [
       "<pre style=\"white-space:pre;overflow-x:auto;line-height:normal;font-family:Menlo,'DejaVu Sans Mono',consolas,'Courier New',monospace\">\n",
       "</pre>\n"
      ],
      "text/plain": [
       "\n"
      ]
     },
     "metadata": {},
     "output_type": "display_data"
    },
    {
     "data": {
      "text/html": [
       "<pre style=\"white-space:pre;overflow-x:auto;line-height:normal;font-family:Menlo,'DejaVu Sans Mono',consolas,'Courier New',monospace\">/Users/Jorge/Library/Caches/pypoetry/virtualenvs/lorawan-chatbot-rag-llm-Kbm_Xz7B-py3.11/lib/python3.11/site-packag\n",
       "es/rich/live.py:231: UserWarning: install \"ipywidgets\" for Jupyter support\n",
       "  warnings.warn('install \"ipywidgets\" for Jupyter support')\n",
       "</pre>\n"
      ],
      "text/plain": [
       "/Users/Jorge/Library/Caches/pypoetry/virtualenvs/lorawan-chatbot-rag-llm-Kbm_Xz7B-py3.11/lib/python3.11/site-packag\n",
       "es/rich/live.py:231: UserWarning: install \"ipywidgets\" for Jupyter support\n",
       "  warnings.warn('install \"ipywidgets\" for Jupyter support')\n"
      ]
     },
     "metadata": {},
     "output_type": "display_data"
    },
    {
     "data": {
      "text/html": [
       "<pre style=\"white-space:pre;overflow-x:auto;line-height:normal;font-family:Menlo,'DejaVu Sans Mono',consolas,'Courier New',monospace\">/Users/Jorge/Library/Caches/pypoetry/virtualenvs/lorawan-chatbot-rag-llm-Kbm_Xz7B-py3.11/lib/python3.11/site-packag\n",
       "es/rich/live.py:231: UserWarning: install \"ipywidgets\" for Jupyter support\n",
       "  warnings.warn('install \"ipywidgets\" for Jupyter support')\n",
       "</pre>\n"
      ],
      "text/plain": [
       "/Users/Jorge/Library/Caches/pypoetry/virtualenvs/lorawan-chatbot-rag-llm-Kbm_Xz7B-py3.11/lib/python3.11/site-packag\n",
       "es/rich/live.py:231: UserWarning: install \"ipywidgets\" for Jupyter support\n",
       "  warnings.warn('install \"ipywidgets\" for Jupyter support')\n"
      ]
     },
     "metadata": {},
     "output_type": "display_data"
    },
    {
     "data": {
      "text/html": [
       "<pre style=\"white-space:pre;overflow-x:auto;line-height:normal;font-family:Menlo,'DejaVu Sans Mono',consolas,'Courier New',monospace\">/Users/Jorge/Library/Caches/pypoetry/virtualenvs/lorawan-chatbot-rag-llm-Kbm_Xz7B-py3.11/lib/python3.11/site-packag\n",
       "es/rich/live.py:231: UserWarning: install \"ipywidgets\" for Jupyter support\n",
       "  warnings.warn('install \"ipywidgets\" for Jupyter support')\n",
       "</pre>\n"
      ],
      "text/plain": [
       "/Users/Jorge/Library/Caches/pypoetry/virtualenvs/lorawan-chatbot-rag-llm-Kbm_Xz7B-py3.11/lib/python3.11/site-packag\n",
       "es/rich/live.py:231: UserWarning: install \"ipywidgets\" for Jupyter support\n",
       "  warnings.warn('install \"ipywidgets\" for Jupyter support')\n"
      ]
     },
     "metadata": {},
     "output_type": "display_data"
    },
    {
     "data": {
      "text/html": [
       "<pre style=\"white-space:pre;overflow-x:auto;line-height:normal;font-family:Menlo,'DejaVu Sans Mono',consolas,'Courier New',monospace\">/Users/Jorge/Library/Caches/pypoetry/virtualenvs/lorawan-chatbot-rag-llm-Kbm_Xz7B-py3.11/lib/python3.11/site-packag\n",
       "es/rich/live.py:231: UserWarning: install \"ipywidgets\" for Jupyter support\n",
       "  warnings.warn('install \"ipywidgets\" for Jupyter support')\n",
       "</pre>\n"
      ],
      "text/plain": [
       "/Users/Jorge/Library/Caches/pypoetry/virtualenvs/lorawan-chatbot-rag-llm-Kbm_Xz7B-py3.11/lib/python3.11/site-packag\n",
       "es/rich/live.py:231: UserWarning: install \"ipywidgets\" for Jupyter support\n",
       "  warnings.warn('install \"ipywidgets\" for Jupyter support')\n"
      ]
     },
     "metadata": {},
     "output_type": "display_data"
    },
    {
     "data": {
      "text/html": [
       "<pre style=\"white-space:pre;overflow-x:auto;line-height:normal;font-family:Menlo,'DejaVu Sans Mono',consolas,'Courier New',monospace\">/Users/Jorge/Library/Caches/pypoetry/virtualenvs/lorawan-chatbot-rag-llm-Kbm_Xz7B-py3.11/lib/python3.11/site-packag\n",
       "es/rich/live.py:231: UserWarning: install \"ipywidgets\" for Jupyter support\n",
       "  warnings.warn('install \"ipywidgets\" for Jupyter support')\n",
       "</pre>\n"
      ],
      "text/plain": [
       "/Users/Jorge/Library/Caches/pypoetry/virtualenvs/lorawan-chatbot-rag-llm-Kbm_Xz7B-py3.11/lib/python3.11/site-packag\n",
       "es/rich/live.py:231: UserWarning: install \"ipywidgets\" for Jupyter support\n",
       "  warnings.warn('install \"ipywidgets\" for Jupyter support')\n"
      ]
     },
     "metadata": {},
     "output_type": "display_data"
    },
    {
     "data": {
      "text/html": [
       "<pre style=\"white-space:pre;overflow-x:auto;line-height:normal;font-family:Menlo,'DejaVu Sans Mono',consolas,'Courier New',monospace\">/Users/Jorge/Library/Caches/pypoetry/virtualenvs/lorawan-chatbot-rag-llm-Kbm_Xz7B-py3.11/lib/python3.11/site-packag\n",
       "es/rich/live.py:231: UserWarning: install \"ipywidgets\" for Jupyter support\n",
       "  warnings.warn('install \"ipywidgets\" for Jupyter support')\n",
       "</pre>\n"
      ],
      "text/plain": [
       "/Users/Jorge/Library/Caches/pypoetry/virtualenvs/lorawan-chatbot-rag-llm-Kbm_Xz7B-py3.11/lib/python3.11/site-packag\n",
       "es/rich/live.py:231: UserWarning: install \"ipywidgets\" for Jupyter support\n",
       "  warnings.warn('install \"ipywidgets\" for Jupyter support')\n"
      ]
     },
     "metadata": {},
     "output_type": "display_data"
    },
    {
     "data": {
      "text/html": [
       "<pre style=\"white-space:pre;overflow-x:auto;line-height:normal;font-family:Menlo,'DejaVu Sans Mono',consolas,'Courier New',monospace\">/Users/Jorge/Library/Caches/pypoetry/virtualenvs/lorawan-chatbot-rag-llm-Kbm_Xz7B-py3.11/lib/python3.11/site-packag\n",
       "es/rich/live.py:231: UserWarning: install \"ipywidgets\" for Jupyter support\n",
       "  warnings.warn('install \"ipywidgets\" for Jupyter support')\n",
       "</pre>\n"
      ],
      "text/plain": [
       "/Users/Jorge/Library/Caches/pypoetry/virtualenvs/lorawan-chatbot-rag-llm-Kbm_Xz7B-py3.11/lib/python3.11/site-packag\n",
       "es/rich/live.py:231: UserWarning: install \"ipywidgets\" for Jupyter support\n",
       "  warnings.warn('install \"ipywidgets\" for Jupyter support')\n"
      ]
     },
     "metadata": {},
     "output_type": "display_data"
    },
    {
     "data": {
      "text/html": [
       "<pre style=\"white-space:pre;overflow-x:auto;line-height:normal;font-family:Menlo,'DejaVu Sans Mono',consolas,'Courier New',monospace\">/Users/Jorge/Library/Caches/pypoetry/virtualenvs/lorawan-chatbot-rag-llm-Kbm_Xz7B-py3.11/lib/python3.11/site-packag\n",
       "es/rich/live.py:231: UserWarning: install \"ipywidgets\" for Jupyter support\n",
       "  warnings.warn('install \"ipywidgets\" for Jupyter support')\n",
       "</pre>\n"
      ],
      "text/plain": [
       "/Users/Jorge/Library/Caches/pypoetry/virtualenvs/lorawan-chatbot-rag-llm-Kbm_Xz7B-py3.11/lib/python3.11/site-packag\n",
       "es/rich/live.py:231: UserWarning: install \"ipywidgets\" for Jupyter support\n",
       "  warnings.warn('install \"ipywidgets\" for Jupyter support')\n"
      ]
     },
     "metadata": {},
     "output_type": "display_data"
    },
    {
     "data": {
      "text/html": [
       "<pre style=\"white-space:pre;overflow-x:auto;line-height:normal;font-family:Menlo,'DejaVu Sans Mono',consolas,'Courier New',monospace\">/Users/Jorge/Library/Caches/pypoetry/virtualenvs/lorawan-chatbot-rag-llm-Kbm_Xz7B-py3.11/lib/python3.11/site-packag\n",
       "es/rich/live.py:231: UserWarning: install \"ipywidgets\" for Jupyter support\n",
       "  warnings.warn('install \"ipywidgets\" for Jupyter support')\n",
       "</pre>\n"
      ],
      "text/plain": [
       "/Users/Jorge/Library/Caches/pypoetry/virtualenvs/lorawan-chatbot-rag-llm-Kbm_Xz7B-py3.11/lib/python3.11/site-packag\n",
       "es/rich/live.py:231: UserWarning: install \"ipywidgets\" for Jupyter support\n",
       "  warnings.warn('install \"ipywidgets\" for Jupyter support')\n"
      ]
     },
     "metadata": {},
     "output_type": "display_data"
    },
    {
     "data": {
      "text/html": [
       "<pre style=\"white-space:pre;overflow-x:auto;line-height:normal;font-family:Menlo,'DejaVu Sans Mono',consolas,'Courier New',monospace\"></pre>\n"
      ],
      "text/plain": []
     },
     "metadata": {},
     "output_type": "display_data"
    },
    {
     "data": {
      "text/html": [
       "<pre style=\"white-space:pre;overflow-x:auto;line-height:normal;font-family:Menlo,'DejaVu Sans Mono',consolas,'Courier New',monospace\">\n",
       "</pre>\n"
      ],
      "text/plain": [
       "\n"
      ]
     },
     "metadata": {},
     "output_type": "display_data"
    },
    {
     "data": {
      "text/html": [
       "<pre style=\"white-space:pre;overflow-x:auto;line-height:normal;font-family:Menlo,'DejaVu Sans Mono',consolas,'Courier New',monospace\">/Users/Jorge/Library/Caches/pypoetry/virtualenvs/lorawan-chatbot-rag-llm-Kbm_Xz7B-py3.11/lib/python3.11/site-packag\n",
       "es/rich/live.py:231: UserWarning: install \"ipywidgets\" for Jupyter support\n",
       "  warnings.warn('install \"ipywidgets\" for Jupyter support')\n",
       "</pre>\n"
      ],
      "text/plain": [
       "/Users/Jorge/Library/Caches/pypoetry/virtualenvs/lorawan-chatbot-rag-llm-Kbm_Xz7B-py3.11/lib/python3.11/site-packag\n",
       "es/rich/live.py:231: UserWarning: install \"ipywidgets\" for Jupyter support\n",
       "  warnings.warn('install \"ipywidgets\" for Jupyter support')\n"
      ]
     },
     "metadata": {},
     "output_type": "display_data"
    },
    {
     "data": {
      "text/html": [
       "<pre style=\"white-space:pre;overflow-x:auto;line-height:normal;font-family:Menlo,'DejaVu Sans Mono',consolas,'Courier New',monospace\">/Users/Jorge/Library/Caches/pypoetry/virtualenvs/lorawan-chatbot-rag-llm-Kbm_Xz7B-py3.11/lib/python3.11/site-packag\n",
       "es/rich/live.py:231: UserWarning: install \"ipywidgets\" for Jupyter support\n",
       "  warnings.warn('install \"ipywidgets\" for Jupyter support')\n",
       "</pre>\n"
      ],
      "text/plain": [
       "/Users/Jorge/Library/Caches/pypoetry/virtualenvs/lorawan-chatbot-rag-llm-Kbm_Xz7B-py3.11/lib/python3.11/site-packag\n",
       "es/rich/live.py:231: UserWarning: install \"ipywidgets\" for Jupyter support\n",
       "  warnings.warn('install \"ipywidgets\" for Jupyter support')\n"
      ]
     },
     "metadata": {},
     "output_type": "display_data"
    },
    {
     "data": {
      "text/html": [
       "<pre style=\"white-space:pre;overflow-x:auto;line-height:normal;font-family:Menlo,'DejaVu Sans Mono',consolas,'Courier New',monospace\">/Users/Jorge/Library/Caches/pypoetry/virtualenvs/lorawan-chatbot-rag-llm-Kbm_Xz7B-py3.11/lib/python3.11/site-packag\n",
       "es/rich/live.py:231: UserWarning: install \"ipywidgets\" for Jupyter support\n",
       "  warnings.warn('install \"ipywidgets\" for Jupyter support')\n",
       "</pre>\n"
      ],
      "text/plain": [
       "/Users/Jorge/Library/Caches/pypoetry/virtualenvs/lorawan-chatbot-rag-llm-Kbm_Xz7B-py3.11/lib/python3.11/site-packag\n",
       "es/rich/live.py:231: UserWarning: install \"ipywidgets\" for Jupyter support\n",
       "  warnings.warn('install \"ipywidgets\" for Jupyter support')\n"
      ]
     },
     "metadata": {},
     "output_type": "display_data"
    },
    {
     "data": {
      "text/html": [
       "<pre style=\"white-space:pre;overflow-x:auto;line-height:normal;font-family:Menlo,'DejaVu Sans Mono',consolas,'Courier New',monospace\">/Users/Jorge/Library/Caches/pypoetry/virtualenvs/lorawan-chatbot-rag-llm-Kbm_Xz7B-py3.11/lib/python3.11/site-packag\n",
       "es/rich/live.py:231: UserWarning: install \"ipywidgets\" for Jupyter support\n",
       "  warnings.warn('install \"ipywidgets\" for Jupyter support')\n",
       "</pre>\n"
      ],
      "text/plain": [
       "/Users/Jorge/Library/Caches/pypoetry/virtualenvs/lorawan-chatbot-rag-llm-Kbm_Xz7B-py3.11/lib/python3.11/site-packag\n",
       "es/rich/live.py:231: UserWarning: install \"ipywidgets\" for Jupyter support\n",
       "  warnings.warn('install \"ipywidgets\" for Jupyter support')\n"
      ]
     },
     "metadata": {},
     "output_type": "display_data"
    },
    {
     "data": {
      "text/html": [
       "<pre style=\"white-space:pre;overflow-x:auto;line-height:normal;font-family:Menlo,'DejaVu Sans Mono',consolas,'Courier New',monospace\">/Users/Jorge/Library/Caches/pypoetry/virtualenvs/lorawan-chatbot-rag-llm-Kbm_Xz7B-py3.11/lib/python3.11/site-packag\n",
       "es/rich/live.py:231: UserWarning: install \"ipywidgets\" for Jupyter support\n",
       "  warnings.warn('install \"ipywidgets\" for Jupyter support')\n",
       "</pre>\n"
      ],
      "text/plain": [
       "/Users/Jorge/Library/Caches/pypoetry/virtualenvs/lorawan-chatbot-rag-llm-Kbm_Xz7B-py3.11/lib/python3.11/site-packag\n",
       "es/rich/live.py:231: UserWarning: install \"ipywidgets\" for Jupyter support\n",
       "  warnings.warn('install \"ipywidgets\" for Jupyter support')\n"
      ]
     },
     "metadata": {},
     "output_type": "display_data"
    },
    {
     "data": {
      "text/html": [
       "<pre style=\"white-space:pre;overflow-x:auto;line-height:normal;font-family:Menlo,'DejaVu Sans Mono',consolas,'Courier New',monospace\">/Users/Jorge/Library/Caches/pypoetry/virtualenvs/lorawan-chatbot-rag-llm-Kbm_Xz7B-py3.11/lib/python3.11/site-packag\n",
       "es/rich/live.py:231: UserWarning: install \"ipywidgets\" for Jupyter support\n",
       "  warnings.warn('install \"ipywidgets\" for Jupyter support')\n",
       "</pre>\n"
      ],
      "text/plain": [
       "/Users/Jorge/Library/Caches/pypoetry/virtualenvs/lorawan-chatbot-rag-llm-Kbm_Xz7B-py3.11/lib/python3.11/site-packag\n",
       "es/rich/live.py:231: UserWarning: install \"ipywidgets\" for Jupyter support\n",
       "  warnings.warn('install \"ipywidgets\" for Jupyter support')\n"
      ]
     },
     "metadata": {},
     "output_type": "display_data"
    },
    {
     "data": {
      "text/html": [
       "<pre style=\"white-space:pre;overflow-x:auto;line-height:normal;font-family:Menlo,'DejaVu Sans Mono',consolas,'Courier New',monospace\">/Users/Jorge/Library/Caches/pypoetry/virtualenvs/lorawan-chatbot-rag-llm-Kbm_Xz7B-py3.11/lib/python3.11/site-packag\n",
       "es/rich/live.py:231: UserWarning: install \"ipywidgets\" for Jupyter support\n",
       "  warnings.warn('install \"ipywidgets\" for Jupyter support')\n",
       "</pre>\n"
      ],
      "text/plain": [
       "/Users/Jorge/Library/Caches/pypoetry/virtualenvs/lorawan-chatbot-rag-llm-Kbm_Xz7B-py3.11/lib/python3.11/site-packag\n",
       "es/rich/live.py:231: UserWarning: install \"ipywidgets\" for Jupyter support\n",
       "  warnings.warn('install \"ipywidgets\" for Jupyter support')\n"
      ]
     },
     "metadata": {},
     "output_type": "display_data"
    },
    {
     "data": {
      "text/html": [
       "<pre style=\"white-space:pre;overflow-x:auto;line-height:normal;font-family:Menlo,'DejaVu Sans Mono',consolas,'Courier New',monospace\">/Users/Jorge/Library/Caches/pypoetry/virtualenvs/lorawan-chatbot-rag-llm-Kbm_Xz7B-py3.11/lib/python3.11/site-packag\n",
       "es/rich/live.py:231: UserWarning: install \"ipywidgets\" for Jupyter support\n",
       "  warnings.warn('install \"ipywidgets\" for Jupyter support')\n",
       "</pre>\n"
      ],
      "text/plain": [
       "/Users/Jorge/Library/Caches/pypoetry/virtualenvs/lorawan-chatbot-rag-llm-Kbm_Xz7B-py3.11/lib/python3.11/site-packag\n",
       "es/rich/live.py:231: UserWarning: install \"ipywidgets\" for Jupyter support\n",
       "  warnings.warn('install \"ipywidgets\" for Jupyter support')\n"
      ]
     },
     "metadata": {},
     "output_type": "display_data"
    },
    {
     "data": {
      "text/html": [
       "<pre style=\"white-space:pre;overflow-x:auto;line-height:normal;font-family:Menlo,'DejaVu Sans Mono',consolas,'Courier New',monospace\">/Users/Jorge/Library/Caches/pypoetry/virtualenvs/lorawan-chatbot-rag-llm-Kbm_Xz7B-py3.11/lib/python3.11/site-packag\n",
       "es/rich/live.py:231: UserWarning: install \"ipywidgets\" for Jupyter support\n",
       "  warnings.warn('install \"ipywidgets\" for Jupyter support')\n",
       "</pre>\n"
      ],
      "text/plain": [
       "/Users/Jorge/Library/Caches/pypoetry/virtualenvs/lorawan-chatbot-rag-llm-Kbm_Xz7B-py3.11/lib/python3.11/site-packag\n",
       "es/rich/live.py:231: UserWarning: install \"ipywidgets\" for Jupyter support\n",
       "  warnings.warn('install \"ipywidgets\" for Jupyter support')\n"
      ]
     },
     "metadata": {},
     "output_type": "display_data"
    },
    {
     "data": {
      "text/html": [
       "<pre style=\"white-space:pre;overflow-x:auto;line-height:normal;font-family:Menlo,'DejaVu Sans Mono',consolas,'Courier New',monospace\"></pre>\n"
      ],
      "text/plain": []
     },
     "metadata": {},
     "output_type": "display_data"
    },
    {
     "data": {
      "text/html": [
       "<pre style=\"white-space:pre;overflow-x:auto;line-height:normal;font-family:Menlo,'DejaVu Sans Mono',consolas,'Courier New',monospace\">\n",
       "</pre>\n"
      ],
      "text/plain": [
       "\n"
      ]
     },
     "metadata": {},
     "output_type": "display_data"
    },
    {
     "data": {
      "text/html": [
       "<pre style=\"white-space:pre;overflow-x:auto;line-height:normal;font-family:Menlo,'DejaVu Sans Mono',consolas,'Courier New',monospace\">/Users/Jorge/Library/Caches/pypoetry/virtualenvs/lorawan-chatbot-rag-llm-Kbm_Xz7B-py3.11/lib/python3.11/site-packag\n",
       "es/rich/live.py:231: UserWarning: install \"ipywidgets\" for Jupyter support\n",
       "  warnings.warn('install \"ipywidgets\" for Jupyter support')\n",
       "</pre>\n"
      ],
      "text/plain": [
       "/Users/Jorge/Library/Caches/pypoetry/virtualenvs/lorawan-chatbot-rag-llm-Kbm_Xz7B-py3.11/lib/python3.11/site-packag\n",
       "es/rich/live.py:231: UserWarning: install \"ipywidgets\" for Jupyter support\n",
       "  warnings.warn('install \"ipywidgets\" for Jupyter support')\n"
      ]
     },
     "metadata": {},
     "output_type": "display_data"
    },
    {
     "data": {
      "text/html": [
       "<pre style=\"white-space:pre;overflow-x:auto;line-height:normal;font-family:Menlo,'DejaVu Sans Mono',consolas,'Courier New',monospace\">/Users/Jorge/Library/Caches/pypoetry/virtualenvs/lorawan-chatbot-rag-llm-Kbm_Xz7B-py3.11/lib/python3.11/site-packag\n",
       "es/rich/live.py:231: UserWarning: install \"ipywidgets\" for Jupyter support\n",
       "  warnings.warn('install \"ipywidgets\" for Jupyter support')\n",
       "</pre>\n"
      ],
      "text/plain": [
       "/Users/Jorge/Library/Caches/pypoetry/virtualenvs/lorawan-chatbot-rag-llm-Kbm_Xz7B-py3.11/lib/python3.11/site-packag\n",
       "es/rich/live.py:231: UserWarning: install \"ipywidgets\" for Jupyter support\n",
       "  warnings.warn('install \"ipywidgets\" for Jupyter support')\n"
      ]
     },
     "metadata": {},
     "output_type": "display_data"
    },
    {
     "data": {
      "text/html": [
       "<pre style=\"white-space:pre;overflow-x:auto;line-height:normal;font-family:Menlo,'DejaVu Sans Mono',consolas,'Courier New',monospace\">/Users/Jorge/Library/Caches/pypoetry/virtualenvs/lorawan-chatbot-rag-llm-Kbm_Xz7B-py3.11/lib/python3.11/site-packag\n",
       "es/rich/live.py:231: UserWarning: install \"ipywidgets\" for Jupyter support\n",
       "  warnings.warn('install \"ipywidgets\" for Jupyter support')\n",
       "</pre>\n"
      ],
      "text/plain": [
       "/Users/Jorge/Library/Caches/pypoetry/virtualenvs/lorawan-chatbot-rag-llm-Kbm_Xz7B-py3.11/lib/python3.11/site-packag\n",
       "es/rich/live.py:231: UserWarning: install \"ipywidgets\" for Jupyter support\n",
       "  warnings.warn('install \"ipywidgets\" for Jupyter support')\n"
      ]
     },
     "metadata": {},
     "output_type": "display_data"
    },
    {
     "data": {
      "text/html": [
       "<pre style=\"white-space:pre;overflow-x:auto;line-height:normal;font-family:Menlo,'DejaVu Sans Mono',consolas,'Courier New',monospace\">/Users/Jorge/Library/Caches/pypoetry/virtualenvs/lorawan-chatbot-rag-llm-Kbm_Xz7B-py3.11/lib/python3.11/site-packag\n",
       "es/rich/live.py:231: UserWarning: install \"ipywidgets\" for Jupyter support\n",
       "  warnings.warn('install \"ipywidgets\" for Jupyter support')\n",
       "</pre>\n"
      ],
      "text/plain": [
       "/Users/Jorge/Library/Caches/pypoetry/virtualenvs/lorawan-chatbot-rag-llm-Kbm_Xz7B-py3.11/lib/python3.11/site-packag\n",
       "es/rich/live.py:231: UserWarning: install \"ipywidgets\" for Jupyter support\n",
       "  warnings.warn('install \"ipywidgets\" for Jupyter support')\n"
      ]
     },
     "metadata": {},
     "output_type": "display_data"
    },
    {
     "data": {
      "text/html": [
       "<pre style=\"white-space:pre;overflow-x:auto;line-height:normal;font-family:Menlo,'DejaVu Sans Mono',consolas,'Courier New',monospace\">/Users/Jorge/Library/Caches/pypoetry/virtualenvs/lorawan-chatbot-rag-llm-Kbm_Xz7B-py3.11/lib/python3.11/site-packag\n",
       "es/rich/live.py:231: UserWarning: install \"ipywidgets\" for Jupyter support\n",
       "  warnings.warn('install \"ipywidgets\" for Jupyter support')\n",
       "</pre>\n"
      ],
      "text/plain": [
       "/Users/Jorge/Library/Caches/pypoetry/virtualenvs/lorawan-chatbot-rag-llm-Kbm_Xz7B-py3.11/lib/python3.11/site-packag\n",
       "es/rich/live.py:231: UserWarning: install \"ipywidgets\" for Jupyter support\n",
       "  warnings.warn('install \"ipywidgets\" for Jupyter support')\n"
      ]
     },
     "metadata": {},
     "output_type": "display_data"
    },
    {
     "data": {
      "text/html": [
       "<pre style=\"white-space:pre;overflow-x:auto;line-height:normal;font-family:Menlo,'DejaVu Sans Mono',consolas,'Courier New',monospace\">/Users/Jorge/Library/Caches/pypoetry/virtualenvs/lorawan-chatbot-rag-llm-Kbm_Xz7B-py3.11/lib/python3.11/site-packag\n",
       "es/rich/live.py:231: UserWarning: install \"ipywidgets\" for Jupyter support\n",
       "  warnings.warn('install \"ipywidgets\" for Jupyter support')\n",
       "</pre>\n"
      ],
      "text/plain": [
       "/Users/Jorge/Library/Caches/pypoetry/virtualenvs/lorawan-chatbot-rag-llm-Kbm_Xz7B-py3.11/lib/python3.11/site-packag\n",
       "es/rich/live.py:231: UserWarning: install \"ipywidgets\" for Jupyter support\n",
       "  warnings.warn('install \"ipywidgets\" for Jupyter support')\n"
      ]
     },
     "metadata": {},
     "output_type": "display_data"
    },
    {
     "data": {
      "text/html": [
       "<pre style=\"white-space:pre;overflow-x:auto;line-height:normal;font-family:Menlo,'DejaVu Sans Mono',consolas,'Courier New',monospace\">/Users/Jorge/Library/Caches/pypoetry/virtualenvs/lorawan-chatbot-rag-llm-Kbm_Xz7B-py3.11/lib/python3.11/site-packag\n",
       "es/rich/live.py:231: UserWarning: install \"ipywidgets\" for Jupyter support\n",
       "  warnings.warn('install \"ipywidgets\" for Jupyter support')\n",
       "</pre>\n"
      ],
      "text/plain": [
       "/Users/Jorge/Library/Caches/pypoetry/virtualenvs/lorawan-chatbot-rag-llm-Kbm_Xz7B-py3.11/lib/python3.11/site-packag\n",
       "es/rich/live.py:231: UserWarning: install \"ipywidgets\" for Jupyter support\n",
       "  warnings.warn('install \"ipywidgets\" for Jupyter support')\n"
      ]
     },
     "metadata": {},
     "output_type": "display_data"
    },
    {
     "data": {
      "text/html": [
       "<pre style=\"white-space:pre;overflow-x:auto;line-height:normal;font-family:Menlo,'DejaVu Sans Mono',consolas,'Courier New',monospace\">/Users/Jorge/Library/Caches/pypoetry/virtualenvs/lorawan-chatbot-rag-llm-Kbm_Xz7B-py3.11/lib/python3.11/site-packag\n",
       "es/rich/live.py:231: UserWarning: install \"ipywidgets\" for Jupyter support\n",
       "  warnings.warn('install \"ipywidgets\" for Jupyter support')\n",
       "</pre>\n"
      ],
      "text/plain": [
       "/Users/Jorge/Library/Caches/pypoetry/virtualenvs/lorawan-chatbot-rag-llm-Kbm_Xz7B-py3.11/lib/python3.11/site-packag\n",
       "es/rich/live.py:231: UserWarning: install \"ipywidgets\" for Jupyter support\n",
       "  warnings.warn('install \"ipywidgets\" for Jupyter support')\n"
      ]
     },
     "metadata": {},
     "output_type": "display_data"
    },
    {
     "data": {
      "text/html": [
       "<pre style=\"white-space:pre;overflow-x:auto;line-height:normal;font-family:Menlo,'DejaVu Sans Mono',consolas,'Courier New',monospace\">/Users/Jorge/Library/Caches/pypoetry/virtualenvs/lorawan-chatbot-rag-llm-Kbm_Xz7B-py3.11/lib/python3.11/site-packag\n",
       "es/rich/live.py:231: UserWarning: install \"ipywidgets\" for Jupyter support\n",
       "  warnings.warn('install \"ipywidgets\" for Jupyter support')\n",
       "</pre>\n"
      ],
      "text/plain": [
       "/Users/Jorge/Library/Caches/pypoetry/virtualenvs/lorawan-chatbot-rag-llm-Kbm_Xz7B-py3.11/lib/python3.11/site-packag\n",
       "es/rich/live.py:231: UserWarning: install \"ipywidgets\" for Jupyter support\n",
       "  warnings.warn('install \"ipywidgets\" for Jupyter support')\n"
      ]
     },
     "metadata": {},
     "output_type": "display_data"
    },
    {
     "data": {
      "text/html": [
       "<pre style=\"white-space:pre;overflow-x:auto;line-height:normal;font-family:Menlo,'DejaVu Sans Mono',consolas,'Courier New',monospace\">/Users/Jorge/Library/Caches/pypoetry/virtualenvs/lorawan-chatbot-rag-llm-Kbm_Xz7B-py3.11/lib/python3.11/site-packag\n",
       "es/rich/live.py:231: UserWarning: install \"ipywidgets\" for Jupyter support\n",
       "  warnings.warn('install \"ipywidgets\" for Jupyter support')\n",
       "</pre>\n"
      ],
      "text/plain": [
       "/Users/Jorge/Library/Caches/pypoetry/virtualenvs/lorawan-chatbot-rag-llm-Kbm_Xz7B-py3.11/lib/python3.11/site-packag\n",
       "es/rich/live.py:231: UserWarning: install \"ipywidgets\" for Jupyter support\n",
       "  warnings.warn('install \"ipywidgets\" for Jupyter support')\n"
      ]
     },
     "metadata": {},
     "output_type": "display_data"
    },
    {
     "data": {
      "text/html": [
       "<pre style=\"white-space:pre;overflow-x:auto;line-height:normal;font-family:Menlo,'DejaVu Sans Mono',consolas,'Courier New',monospace\"></pre>\n"
      ],
      "text/plain": []
     },
     "metadata": {},
     "output_type": "display_data"
    },
    {
     "data": {
      "text/html": [
       "<pre style=\"white-space:pre;overflow-x:auto;line-height:normal;font-family:Menlo,'DejaVu Sans Mono',consolas,'Courier New',monospace\">\n",
       "</pre>\n"
      ],
      "text/plain": [
       "\n"
      ]
     },
     "metadata": {},
     "output_type": "display_data"
    },
    {
     "data": {
      "text/html": [
       "<pre style=\"white-space:pre;overflow-x:auto;line-height:normal;font-family:Menlo,'DejaVu Sans Mono',consolas,'Courier New',monospace\">/Users/Jorge/Library/Caches/pypoetry/virtualenvs/lorawan-chatbot-rag-llm-Kbm_Xz7B-py3.11/lib/python3.11/site-packag\n",
       "es/rich/live.py:231: UserWarning: install \"ipywidgets\" for Jupyter support\n",
       "  warnings.warn('install \"ipywidgets\" for Jupyter support')\n",
       "</pre>\n"
      ],
      "text/plain": [
       "/Users/Jorge/Library/Caches/pypoetry/virtualenvs/lorawan-chatbot-rag-llm-Kbm_Xz7B-py3.11/lib/python3.11/site-packag\n",
       "es/rich/live.py:231: UserWarning: install \"ipywidgets\" for Jupyter support\n",
       "  warnings.warn('install \"ipywidgets\" for Jupyter support')\n"
      ]
     },
     "metadata": {},
     "output_type": "display_data"
    },
    {
     "data": {
      "text/html": [
       "<pre style=\"white-space:pre;overflow-x:auto;line-height:normal;font-family:Menlo,'DejaVu Sans Mono',consolas,'Courier New',monospace\">/Users/Jorge/Library/Caches/pypoetry/virtualenvs/lorawan-chatbot-rag-llm-Kbm_Xz7B-py3.11/lib/python3.11/site-packag\n",
       "es/rich/live.py:231: UserWarning: install \"ipywidgets\" for Jupyter support\n",
       "  warnings.warn('install \"ipywidgets\" for Jupyter support')\n",
       "</pre>\n"
      ],
      "text/plain": [
       "/Users/Jorge/Library/Caches/pypoetry/virtualenvs/lorawan-chatbot-rag-llm-Kbm_Xz7B-py3.11/lib/python3.11/site-packag\n",
       "es/rich/live.py:231: UserWarning: install \"ipywidgets\" for Jupyter support\n",
       "  warnings.warn('install \"ipywidgets\" for Jupyter support')\n"
      ]
     },
     "metadata": {},
     "output_type": "display_data"
    },
    {
     "data": {
      "text/html": [
       "<pre style=\"white-space:pre;overflow-x:auto;line-height:normal;font-family:Menlo,'DejaVu Sans Mono',consolas,'Courier New',monospace\">/Users/Jorge/Library/Caches/pypoetry/virtualenvs/lorawan-chatbot-rag-llm-Kbm_Xz7B-py3.11/lib/python3.11/site-packag\n",
       "es/rich/live.py:231: UserWarning: install \"ipywidgets\" for Jupyter support\n",
       "  warnings.warn('install \"ipywidgets\" for Jupyter support')\n",
       "</pre>\n"
      ],
      "text/plain": [
       "/Users/Jorge/Library/Caches/pypoetry/virtualenvs/lorawan-chatbot-rag-llm-Kbm_Xz7B-py3.11/lib/python3.11/site-packag\n",
       "es/rich/live.py:231: UserWarning: install \"ipywidgets\" for Jupyter support\n",
       "  warnings.warn('install \"ipywidgets\" for Jupyter support')\n"
      ]
     },
     "metadata": {},
     "output_type": "display_data"
    },
    {
     "data": {
      "text/html": [
       "<pre style=\"white-space:pre;overflow-x:auto;line-height:normal;font-family:Menlo,'DejaVu Sans Mono',consolas,'Courier New',monospace\">/Users/Jorge/Library/Caches/pypoetry/virtualenvs/lorawan-chatbot-rag-llm-Kbm_Xz7B-py3.11/lib/python3.11/site-packag\n",
       "es/rich/live.py:231: UserWarning: install \"ipywidgets\" for Jupyter support\n",
       "  warnings.warn('install \"ipywidgets\" for Jupyter support')\n",
       "</pre>\n"
      ],
      "text/plain": [
       "/Users/Jorge/Library/Caches/pypoetry/virtualenvs/lorawan-chatbot-rag-llm-Kbm_Xz7B-py3.11/lib/python3.11/site-packag\n",
       "es/rich/live.py:231: UserWarning: install \"ipywidgets\" for Jupyter support\n",
       "  warnings.warn('install \"ipywidgets\" for Jupyter support')\n"
      ]
     },
     "metadata": {},
     "output_type": "display_data"
    },
    {
     "data": {
      "text/html": [
       "<pre style=\"white-space:pre;overflow-x:auto;line-height:normal;font-family:Menlo,'DejaVu Sans Mono',consolas,'Courier New',monospace\">/Users/Jorge/Library/Caches/pypoetry/virtualenvs/lorawan-chatbot-rag-llm-Kbm_Xz7B-py3.11/lib/python3.11/site-packag\n",
       "es/rich/live.py:231: UserWarning: install \"ipywidgets\" for Jupyter support\n",
       "  warnings.warn('install \"ipywidgets\" for Jupyter support')\n",
       "</pre>\n"
      ],
      "text/plain": [
       "/Users/Jorge/Library/Caches/pypoetry/virtualenvs/lorawan-chatbot-rag-llm-Kbm_Xz7B-py3.11/lib/python3.11/site-packag\n",
       "es/rich/live.py:231: UserWarning: install \"ipywidgets\" for Jupyter support\n",
       "  warnings.warn('install \"ipywidgets\" for Jupyter support')\n"
      ]
     },
     "metadata": {},
     "output_type": "display_data"
    },
    {
     "data": {
      "text/html": [
       "<pre style=\"white-space:pre;overflow-x:auto;line-height:normal;font-family:Menlo,'DejaVu Sans Mono',consolas,'Courier New',monospace\">/Users/Jorge/Library/Caches/pypoetry/virtualenvs/lorawan-chatbot-rag-llm-Kbm_Xz7B-py3.11/lib/python3.11/site-packag\n",
       "es/rich/live.py:231: UserWarning: install \"ipywidgets\" for Jupyter support\n",
       "  warnings.warn('install \"ipywidgets\" for Jupyter support')\n",
       "</pre>\n"
      ],
      "text/plain": [
       "/Users/Jorge/Library/Caches/pypoetry/virtualenvs/lorawan-chatbot-rag-llm-Kbm_Xz7B-py3.11/lib/python3.11/site-packag\n",
       "es/rich/live.py:231: UserWarning: install \"ipywidgets\" for Jupyter support\n",
       "  warnings.warn('install \"ipywidgets\" for Jupyter support')\n"
      ]
     },
     "metadata": {},
     "output_type": "display_data"
    },
    {
     "data": {
      "text/html": [
       "<pre style=\"white-space:pre;overflow-x:auto;line-height:normal;font-family:Menlo,'DejaVu Sans Mono',consolas,'Courier New',monospace\">/Users/Jorge/Library/Caches/pypoetry/virtualenvs/lorawan-chatbot-rag-llm-Kbm_Xz7B-py3.11/lib/python3.11/site-packag\n",
       "es/rich/live.py:231: UserWarning: install \"ipywidgets\" for Jupyter support\n",
       "  warnings.warn('install \"ipywidgets\" for Jupyter support')\n",
       "</pre>\n"
      ],
      "text/plain": [
       "/Users/Jorge/Library/Caches/pypoetry/virtualenvs/lorawan-chatbot-rag-llm-Kbm_Xz7B-py3.11/lib/python3.11/site-packag\n",
       "es/rich/live.py:231: UserWarning: install \"ipywidgets\" for Jupyter support\n",
       "  warnings.warn('install \"ipywidgets\" for Jupyter support')\n"
      ]
     },
     "metadata": {},
     "output_type": "display_data"
    },
    {
     "data": {
      "text/html": [
       "<pre style=\"white-space:pre;overflow-x:auto;line-height:normal;font-family:Menlo,'DejaVu Sans Mono',consolas,'Courier New',monospace\">/Users/Jorge/Library/Caches/pypoetry/virtualenvs/lorawan-chatbot-rag-llm-Kbm_Xz7B-py3.11/lib/python3.11/site-packag\n",
       "es/rich/live.py:231: UserWarning: install \"ipywidgets\" for Jupyter support\n",
       "  warnings.warn('install \"ipywidgets\" for Jupyter support')\n",
       "</pre>\n"
      ],
      "text/plain": [
       "/Users/Jorge/Library/Caches/pypoetry/virtualenvs/lorawan-chatbot-rag-llm-Kbm_Xz7B-py3.11/lib/python3.11/site-packag\n",
       "es/rich/live.py:231: UserWarning: install \"ipywidgets\" for Jupyter support\n",
       "  warnings.warn('install \"ipywidgets\" for Jupyter support')\n"
      ]
     },
     "metadata": {},
     "output_type": "display_data"
    },
    {
     "data": {
      "text/html": [
       "<pre style=\"white-space:pre;overflow-x:auto;line-height:normal;font-family:Menlo,'DejaVu Sans Mono',consolas,'Courier New',monospace\">/Users/Jorge/Library/Caches/pypoetry/virtualenvs/lorawan-chatbot-rag-llm-Kbm_Xz7B-py3.11/lib/python3.11/site-packag\n",
       "es/rich/live.py:231: UserWarning: install \"ipywidgets\" for Jupyter support\n",
       "  warnings.warn('install \"ipywidgets\" for Jupyter support')\n",
       "</pre>\n"
      ],
      "text/plain": [
       "/Users/Jorge/Library/Caches/pypoetry/virtualenvs/lorawan-chatbot-rag-llm-Kbm_Xz7B-py3.11/lib/python3.11/site-packag\n",
       "es/rich/live.py:231: UserWarning: install \"ipywidgets\" for Jupyter support\n",
       "  warnings.warn('install \"ipywidgets\" for Jupyter support')\n"
      ]
     },
     "metadata": {},
     "output_type": "display_data"
    },
    {
     "data": {
      "text/html": [
       "<pre style=\"white-space:pre;overflow-x:auto;line-height:normal;font-family:Menlo,'DejaVu Sans Mono',consolas,'Courier New',monospace\"></pre>\n"
      ],
      "text/plain": []
     },
     "metadata": {},
     "output_type": "display_data"
    },
    {
     "data": {
      "text/html": [
       "<pre style=\"white-space:pre;overflow-x:auto;line-height:normal;font-family:Menlo,'DejaVu Sans Mono',consolas,'Courier New',monospace\">\n",
       "</pre>\n"
      ],
      "text/plain": [
       "\n"
      ]
     },
     "metadata": {},
     "output_type": "display_data"
    },
    {
     "data": {
      "text/html": [
       "<pre style=\"white-space:pre;overflow-x:auto;line-height:normal;font-family:Menlo,'DejaVu Sans Mono',consolas,'Courier New',monospace\">/Users/Jorge/Library/Caches/pypoetry/virtualenvs/lorawan-chatbot-rag-llm-Kbm_Xz7B-py3.11/lib/python3.11/site-packag\n",
       "es/rich/live.py:231: UserWarning: install \"ipywidgets\" for Jupyter support\n",
       "  warnings.warn('install \"ipywidgets\" for Jupyter support')\n",
       "</pre>\n"
      ],
      "text/plain": [
       "/Users/Jorge/Library/Caches/pypoetry/virtualenvs/lorawan-chatbot-rag-llm-Kbm_Xz7B-py3.11/lib/python3.11/site-packag\n",
       "es/rich/live.py:231: UserWarning: install \"ipywidgets\" for Jupyter support\n",
       "  warnings.warn('install \"ipywidgets\" for Jupyter support')\n"
      ]
     },
     "metadata": {},
     "output_type": "display_data"
    },
    {
     "data": {
      "text/html": [
       "<pre style=\"white-space:pre;overflow-x:auto;line-height:normal;font-family:Menlo,'DejaVu Sans Mono',consolas,'Courier New',monospace\">/Users/Jorge/Library/Caches/pypoetry/virtualenvs/lorawan-chatbot-rag-llm-Kbm_Xz7B-py3.11/lib/python3.11/site-packag\n",
       "es/rich/live.py:231: UserWarning: install \"ipywidgets\" for Jupyter support\n",
       "  warnings.warn('install \"ipywidgets\" for Jupyter support')\n",
       "</pre>\n"
      ],
      "text/plain": [
       "/Users/Jorge/Library/Caches/pypoetry/virtualenvs/lorawan-chatbot-rag-llm-Kbm_Xz7B-py3.11/lib/python3.11/site-packag\n",
       "es/rich/live.py:231: UserWarning: install \"ipywidgets\" for Jupyter support\n",
       "  warnings.warn('install \"ipywidgets\" for Jupyter support')\n"
      ]
     },
     "metadata": {},
     "output_type": "display_data"
    },
    {
     "data": {
      "text/html": [
       "<pre style=\"white-space:pre;overflow-x:auto;line-height:normal;font-family:Menlo,'DejaVu Sans Mono',consolas,'Courier New',monospace\">/Users/Jorge/Library/Caches/pypoetry/virtualenvs/lorawan-chatbot-rag-llm-Kbm_Xz7B-py3.11/lib/python3.11/site-packag\n",
       "es/rich/live.py:231: UserWarning: install \"ipywidgets\" for Jupyter support\n",
       "  warnings.warn('install \"ipywidgets\" for Jupyter support')\n",
       "</pre>\n"
      ],
      "text/plain": [
       "/Users/Jorge/Library/Caches/pypoetry/virtualenvs/lorawan-chatbot-rag-llm-Kbm_Xz7B-py3.11/lib/python3.11/site-packag\n",
       "es/rich/live.py:231: UserWarning: install \"ipywidgets\" for Jupyter support\n",
       "  warnings.warn('install \"ipywidgets\" for Jupyter support')\n"
      ]
     },
     "metadata": {},
     "output_type": "display_data"
    },
    {
     "data": {
      "text/html": [
       "<pre style=\"white-space:pre;overflow-x:auto;line-height:normal;font-family:Menlo,'DejaVu Sans Mono',consolas,'Courier New',monospace\">/Users/Jorge/Library/Caches/pypoetry/virtualenvs/lorawan-chatbot-rag-llm-Kbm_Xz7B-py3.11/lib/python3.11/site-packag\n",
       "es/rich/live.py:231: UserWarning: install \"ipywidgets\" for Jupyter support\n",
       "  warnings.warn('install \"ipywidgets\" for Jupyter support')\n",
       "</pre>\n"
      ],
      "text/plain": [
       "/Users/Jorge/Library/Caches/pypoetry/virtualenvs/lorawan-chatbot-rag-llm-Kbm_Xz7B-py3.11/lib/python3.11/site-packag\n",
       "es/rich/live.py:231: UserWarning: install \"ipywidgets\" for Jupyter support\n",
       "  warnings.warn('install \"ipywidgets\" for Jupyter support')\n"
      ]
     },
     "metadata": {},
     "output_type": "display_data"
    },
    {
     "data": {
      "text/html": [
       "<pre style=\"white-space:pre;overflow-x:auto;line-height:normal;font-family:Menlo,'DejaVu Sans Mono',consolas,'Courier New',monospace\">/Users/Jorge/Library/Caches/pypoetry/virtualenvs/lorawan-chatbot-rag-llm-Kbm_Xz7B-py3.11/lib/python3.11/site-packag\n",
       "es/rich/live.py:231: UserWarning: install \"ipywidgets\" for Jupyter support\n",
       "  warnings.warn('install \"ipywidgets\" for Jupyter support')\n",
       "</pre>\n"
      ],
      "text/plain": [
       "/Users/Jorge/Library/Caches/pypoetry/virtualenvs/lorawan-chatbot-rag-llm-Kbm_Xz7B-py3.11/lib/python3.11/site-packag\n",
       "es/rich/live.py:231: UserWarning: install \"ipywidgets\" for Jupyter support\n",
       "  warnings.warn('install \"ipywidgets\" for Jupyter support')\n"
      ]
     },
     "metadata": {},
     "output_type": "display_data"
    },
    {
     "data": {
      "text/html": [
       "<pre style=\"white-space:pre;overflow-x:auto;line-height:normal;font-family:Menlo,'DejaVu Sans Mono',consolas,'Courier New',monospace\">/Users/Jorge/Library/Caches/pypoetry/virtualenvs/lorawan-chatbot-rag-llm-Kbm_Xz7B-py3.11/lib/python3.11/site-packag\n",
       "es/rich/live.py:231: UserWarning: install \"ipywidgets\" for Jupyter support\n",
       "  warnings.warn('install \"ipywidgets\" for Jupyter support')\n",
       "</pre>\n"
      ],
      "text/plain": [
       "/Users/Jorge/Library/Caches/pypoetry/virtualenvs/lorawan-chatbot-rag-llm-Kbm_Xz7B-py3.11/lib/python3.11/site-packag\n",
       "es/rich/live.py:231: UserWarning: install \"ipywidgets\" for Jupyter support\n",
       "  warnings.warn('install \"ipywidgets\" for Jupyter support')\n"
      ]
     },
     "metadata": {},
     "output_type": "display_data"
    },
    {
     "data": {
      "text/html": [
       "<pre style=\"white-space:pre;overflow-x:auto;line-height:normal;font-family:Menlo,'DejaVu Sans Mono',consolas,'Courier New',monospace\">/Users/Jorge/Library/Caches/pypoetry/virtualenvs/lorawan-chatbot-rag-llm-Kbm_Xz7B-py3.11/lib/python3.11/site-packag\n",
       "es/rich/live.py:231: UserWarning: install \"ipywidgets\" for Jupyter support\n",
       "  warnings.warn('install \"ipywidgets\" for Jupyter support')\n",
       "</pre>\n"
      ],
      "text/plain": [
       "/Users/Jorge/Library/Caches/pypoetry/virtualenvs/lorawan-chatbot-rag-llm-Kbm_Xz7B-py3.11/lib/python3.11/site-packag\n",
       "es/rich/live.py:231: UserWarning: install \"ipywidgets\" for Jupyter support\n",
       "  warnings.warn('install \"ipywidgets\" for Jupyter support')\n"
      ]
     },
     "metadata": {},
     "output_type": "display_data"
    },
    {
     "data": {
      "text/html": [
       "<pre style=\"white-space:pre;overflow-x:auto;line-height:normal;font-family:Menlo,'DejaVu Sans Mono',consolas,'Courier New',monospace\">/Users/Jorge/Library/Caches/pypoetry/virtualenvs/lorawan-chatbot-rag-llm-Kbm_Xz7B-py3.11/lib/python3.11/site-packag\n",
       "es/rich/live.py:231: UserWarning: install \"ipywidgets\" for Jupyter support\n",
       "  warnings.warn('install \"ipywidgets\" for Jupyter support')\n",
       "</pre>\n"
      ],
      "text/plain": [
       "/Users/Jorge/Library/Caches/pypoetry/virtualenvs/lorawan-chatbot-rag-llm-Kbm_Xz7B-py3.11/lib/python3.11/site-packag\n",
       "es/rich/live.py:231: UserWarning: install \"ipywidgets\" for Jupyter support\n",
       "  warnings.warn('install \"ipywidgets\" for Jupyter support')\n"
      ]
     },
     "metadata": {},
     "output_type": "display_data"
    },
    {
     "data": {
      "text/html": [
       "<pre style=\"white-space:pre;overflow-x:auto;line-height:normal;font-family:Menlo,'DejaVu Sans Mono',consolas,'Courier New',monospace\">/Users/Jorge/Library/Caches/pypoetry/virtualenvs/lorawan-chatbot-rag-llm-Kbm_Xz7B-py3.11/lib/python3.11/site-packag\n",
       "es/rich/live.py:231: UserWarning: install \"ipywidgets\" for Jupyter support\n",
       "  warnings.warn('install \"ipywidgets\" for Jupyter support')\n",
       "</pre>\n"
      ],
      "text/plain": [
       "/Users/Jorge/Library/Caches/pypoetry/virtualenvs/lorawan-chatbot-rag-llm-Kbm_Xz7B-py3.11/lib/python3.11/site-packag\n",
       "es/rich/live.py:231: UserWarning: install \"ipywidgets\" for Jupyter support\n",
       "  warnings.warn('install \"ipywidgets\" for Jupyter support')\n"
      ]
     },
     "metadata": {},
     "output_type": "display_data"
    },
    {
     "data": {
      "text/html": [
       "<pre style=\"white-space:pre;overflow-x:auto;line-height:normal;font-family:Menlo,'DejaVu Sans Mono',consolas,'Courier New',monospace\">/Users/Jorge/Library/Caches/pypoetry/virtualenvs/lorawan-chatbot-rag-llm-Kbm_Xz7B-py3.11/lib/python3.11/site-packag\n",
       "es/rich/live.py:231: UserWarning: install \"ipywidgets\" for Jupyter support\n",
       "  warnings.warn('install \"ipywidgets\" for Jupyter support')\n",
       "</pre>\n"
      ],
      "text/plain": [
       "/Users/Jorge/Library/Caches/pypoetry/virtualenvs/lorawan-chatbot-rag-llm-Kbm_Xz7B-py3.11/lib/python3.11/site-packag\n",
       "es/rich/live.py:231: UserWarning: install \"ipywidgets\" for Jupyter support\n",
       "  warnings.warn('install \"ipywidgets\" for Jupyter support')\n"
      ]
     },
     "metadata": {},
     "output_type": "display_data"
    },
    {
     "data": {
      "text/html": [
       "<pre style=\"white-space:pre;overflow-x:auto;line-height:normal;font-family:Menlo,'DejaVu Sans Mono',consolas,'Courier New',monospace\">/Users/Jorge/Library/Caches/pypoetry/virtualenvs/lorawan-chatbot-rag-llm-Kbm_Xz7B-py3.11/lib/python3.11/site-packag\n",
       "es/rich/live.py:231: UserWarning: install \"ipywidgets\" for Jupyter support\n",
       "  warnings.warn('install \"ipywidgets\" for Jupyter support')\n",
       "</pre>\n"
      ],
      "text/plain": [
       "/Users/Jorge/Library/Caches/pypoetry/virtualenvs/lorawan-chatbot-rag-llm-Kbm_Xz7B-py3.11/lib/python3.11/site-packag\n",
       "es/rich/live.py:231: UserWarning: install \"ipywidgets\" for Jupyter support\n",
       "  warnings.warn('install \"ipywidgets\" for Jupyter support')\n"
      ]
     },
     "metadata": {},
     "output_type": "display_data"
    },
    {
     "data": {
      "text/html": [
       "<pre style=\"white-space:pre;overflow-x:auto;line-height:normal;font-family:Menlo,'DejaVu Sans Mono',consolas,'Courier New',monospace\"></pre>\n"
      ],
      "text/plain": []
     },
     "metadata": {},
     "output_type": "display_data"
    },
    {
     "data": {
      "text/html": [
       "<pre style=\"white-space:pre;overflow-x:auto;line-height:normal;font-family:Menlo,'DejaVu Sans Mono',consolas,'Courier New',monospace\">\n",
       "</pre>\n"
      ],
      "text/plain": [
       "\n"
      ]
     },
     "metadata": {},
     "output_type": "display_data"
    },
    {
     "data": {
      "text/html": [
       "<pre style=\"white-space:pre;overflow-x:auto;line-height:normal;font-family:Menlo,'DejaVu Sans Mono',consolas,'Courier New',monospace\">/Users/Jorge/Library/Caches/pypoetry/virtualenvs/lorawan-chatbot-rag-llm-Kbm_Xz7B-py3.11/lib/python3.11/site-packag\n",
       "es/rich/live.py:231: UserWarning: install \"ipywidgets\" for Jupyter support\n",
       "  warnings.warn('install \"ipywidgets\" for Jupyter support')\n",
       "</pre>\n"
      ],
      "text/plain": [
       "/Users/Jorge/Library/Caches/pypoetry/virtualenvs/lorawan-chatbot-rag-llm-Kbm_Xz7B-py3.11/lib/python3.11/site-packag\n",
       "es/rich/live.py:231: UserWarning: install \"ipywidgets\" for Jupyter support\n",
       "  warnings.warn('install \"ipywidgets\" for Jupyter support')\n"
      ]
     },
     "metadata": {},
     "output_type": "display_data"
    },
    {
     "data": {
      "text/html": [
       "<pre style=\"white-space:pre;overflow-x:auto;line-height:normal;font-family:Menlo,'DejaVu Sans Mono',consolas,'Courier New',monospace\">/Users/Jorge/Library/Caches/pypoetry/virtualenvs/lorawan-chatbot-rag-llm-Kbm_Xz7B-py3.11/lib/python3.11/site-packag\n",
       "es/rich/live.py:231: UserWarning: install \"ipywidgets\" for Jupyter support\n",
       "  warnings.warn('install \"ipywidgets\" for Jupyter support')\n",
       "</pre>\n"
      ],
      "text/plain": [
       "/Users/Jorge/Library/Caches/pypoetry/virtualenvs/lorawan-chatbot-rag-llm-Kbm_Xz7B-py3.11/lib/python3.11/site-packag\n",
       "es/rich/live.py:231: UserWarning: install \"ipywidgets\" for Jupyter support\n",
       "  warnings.warn('install \"ipywidgets\" for Jupyter support')\n"
      ]
     },
     "metadata": {},
     "output_type": "display_data"
    },
    {
     "data": {
      "text/html": [
       "<pre style=\"white-space:pre;overflow-x:auto;line-height:normal;font-family:Menlo,'DejaVu Sans Mono',consolas,'Courier New',monospace\">/Users/Jorge/Library/Caches/pypoetry/virtualenvs/lorawan-chatbot-rag-llm-Kbm_Xz7B-py3.11/lib/python3.11/site-packag\n",
       "es/rich/live.py:231: UserWarning: install \"ipywidgets\" for Jupyter support\n",
       "  warnings.warn('install \"ipywidgets\" for Jupyter support')\n",
       "</pre>\n"
      ],
      "text/plain": [
       "/Users/Jorge/Library/Caches/pypoetry/virtualenvs/lorawan-chatbot-rag-llm-Kbm_Xz7B-py3.11/lib/python3.11/site-packag\n",
       "es/rich/live.py:231: UserWarning: install \"ipywidgets\" for Jupyter support\n",
       "  warnings.warn('install \"ipywidgets\" for Jupyter support')\n"
      ]
     },
     "metadata": {},
     "output_type": "display_data"
    },
    {
     "data": {
      "text/html": [
       "<pre style=\"white-space:pre;overflow-x:auto;line-height:normal;font-family:Menlo,'DejaVu Sans Mono',consolas,'Courier New',monospace\">/Users/Jorge/Library/Caches/pypoetry/virtualenvs/lorawan-chatbot-rag-llm-Kbm_Xz7B-py3.11/lib/python3.11/site-packag\n",
       "es/rich/live.py:231: UserWarning: install \"ipywidgets\" for Jupyter support\n",
       "  warnings.warn('install \"ipywidgets\" for Jupyter support')\n",
       "</pre>\n"
      ],
      "text/plain": [
       "/Users/Jorge/Library/Caches/pypoetry/virtualenvs/lorawan-chatbot-rag-llm-Kbm_Xz7B-py3.11/lib/python3.11/site-packag\n",
       "es/rich/live.py:231: UserWarning: install \"ipywidgets\" for Jupyter support\n",
       "  warnings.warn('install \"ipywidgets\" for Jupyter support')\n"
      ]
     },
     "metadata": {},
     "output_type": "display_data"
    },
    {
     "data": {
      "text/html": [
       "<pre style=\"white-space:pre;overflow-x:auto;line-height:normal;font-family:Menlo,'DejaVu Sans Mono',consolas,'Courier New',monospace\">/Users/Jorge/Library/Caches/pypoetry/virtualenvs/lorawan-chatbot-rag-llm-Kbm_Xz7B-py3.11/lib/python3.11/site-packag\n",
       "es/rich/live.py:231: UserWarning: install \"ipywidgets\" for Jupyter support\n",
       "  warnings.warn('install \"ipywidgets\" for Jupyter support')\n",
       "</pre>\n"
      ],
      "text/plain": [
       "/Users/Jorge/Library/Caches/pypoetry/virtualenvs/lorawan-chatbot-rag-llm-Kbm_Xz7B-py3.11/lib/python3.11/site-packag\n",
       "es/rich/live.py:231: UserWarning: install \"ipywidgets\" for Jupyter support\n",
       "  warnings.warn('install \"ipywidgets\" for Jupyter support')\n"
      ]
     },
     "metadata": {},
     "output_type": "display_data"
    },
    {
     "data": {
      "text/html": [
       "<pre style=\"white-space:pre;overflow-x:auto;line-height:normal;font-family:Menlo,'DejaVu Sans Mono',consolas,'Courier New',monospace\">/Users/Jorge/Library/Caches/pypoetry/virtualenvs/lorawan-chatbot-rag-llm-Kbm_Xz7B-py3.11/lib/python3.11/site-packag\n",
       "es/rich/live.py:231: UserWarning: install \"ipywidgets\" for Jupyter support\n",
       "  warnings.warn('install \"ipywidgets\" for Jupyter support')\n",
       "</pre>\n"
      ],
      "text/plain": [
       "/Users/Jorge/Library/Caches/pypoetry/virtualenvs/lorawan-chatbot-rag-llm-Kbm_Xz7B-py3.11/lib/python3.11/site-packag\n",
       "es/rich/live.py:231: UserWarning: install \"ipywidgets\" for Jupyter support\n",
       "  warnings.warn('install \"ipywidgets\" for Jupyter support')\n"
      ]
     },
     "metadata": {},
     "output_type": "display_data"
    },
    {
     "data": {
      "text/html": [
       "<pre style=\"white-space:pre;overflow-x:auto;line-height:normal;font-family:Menlo,'DejaVu Sans Mono',consolas,'Courier New',monospace\">/Users/Jorge/Library/Caches/pypoetry/virtualenvs/lorawan-chatbot-rag-llm-Kbm_Xz7B-py3.11/lib/python3.11/site-packag\n",
       "es/rich/live.py:231: UserWarning: install \"ipywidgets\" for Jupyter support\n",
       "  warnings.warn('install \"ipywidgets\" for Jupyter support')\n",
       "</pre>\n"
      ],
      "text/plain": [
       "/Users/Jorge/Library/Caches/pypoetry/virtualenvs/lorawan-chatbot-rag-llm-Kbm_Xz7B-py3.11/lib/python3.11/site-packag\n",
       "es/rich/live.py:231: UserWarning: install \"ipywidgets\" for Jupyter support\n",
       "  warnings.warn('install \"ipywidgets\" for Jupyter support')\n"
      ]
     },
     "metadata": {},
     "output_type": "display_data"
    },
    {
     "data": {
      "text/html": [
       "<pre style=\"white-space:pre;overflow-x:auto;line-height:normal;font-family:Menlo,'DejaVu Sans Mono',consolas,'Courier New',monospace\">/Users/Jorge/Library/Caches/pypoetry/virtualenvs/lorawan-chatbot-rag-llm-Kbm_Xz7B-py3.11/lib/python3.11/site-packag\n",
       "es/rich/live.py:231: UserWarning: install \"ipywidgets\" for Jupyter support\n",
       "  warnings.warn('install \"ipywidgets\" for Jupyter support')\n",
       "</pre>\n"
      ],
      "text/plain": [
       "/Users/Jorge/Library/Caches/pypoetry/virtualenvs/lorawan-chatbot-rag-llm-Kbm_Xz7B-py3.11/lib/python3.11/site-packag\n",
       "es/rich/live.py:231: UserWarning: install \"ipywidgets\" for Jupyter support\n",
       "  warnings.warn('install \"ipywidgets\" for Jupyter support')\n"
      ]
     },
     "metadata": {},
     "output_type": "display_data"
    },
    {
     "data": {
      "text/html": [
       "<pre style=\"white-space:pre;overflow-x:auto;line-height:normal;font-family:Menlo,'DejaVu Sans Mono',consolas,'Courier New',monospace\">/Users/Jorge/Library/Caches/pypoetry/virtualenvs/lorawan-chatbot-rag-llm-Kbm_Xz7B-py3.11/lib/python3.11/site-packag\n",
       "es/rich/live.py:231: UserWarning: install \"ipywidgets\" for Jupyter support\n",
       "  warnings.warn('install \"ipywidgets\" for Jupyter support')\n",
       "</pre>\n"
      ],
      "text/plain": [
       "/Users/Jorge/Library/Caches/pypoetry/virtualenvs/lorawan-chatbot-rag-llm-Kbm_Xz7B-py3.11/lib/python3.11/site-packag\n",
       "es/rich/live.py:231: UserWarning: install \"ipywidgets\" for Jupyter support\n",
       "  warnings.warn('install \"ipywidgets\" for Jupyter support')\n"
      ]
     },
     "metadata": {},
     "output_type": "display_data"
    },
    {
     "data": {
      "text/html": [
       "<pre style=\"white-space:pre;overflow-x:auto;line-height:normal;font-family:Menlo,'DejaVu Sans Mono',consolas,'Courier New',monospace\"></pre>\n"
      ],
      "text/plain": []
     },
     "metadata": {},
     "output_type": "display_data"
    },
    {
     "data": {
      "text/html": [
       "<pre style=\"white-space:pre;overflow-x:auto;line-height:normal;font-family:Menlo,'DejaVu Sans Mono',consolas,'Courier New',monospace\">\n",
       "</pre>\n"
      ],
      "text/plain": [
       "\n"
      ]
     },
     "metadata": {},
     "output_type": "display_data"
    },
    {
     "data": {
      "text/html": [
       "<pre style=\"white-space:pre;overflow-x:auto;line-height:normal;font-family:Menlo,'DejaVu Sans Mono',consolas,'Courier New',monospace\">/Users/Jorge/Library/Caches/pypoetry/virtualenvs/lorawan-chatbot-rag-llm-Kbm_Xz7B-py3.11/lib/python3.11/site-packag\n",
       "es/rich/live.py:231: UserWarning: install \"ipywidgets\" for Jupyter support\n",
       "  warnings.warn('install \"ipywidgets\" for Jupyter support')\n",
       "</pre>\n"
      ],
      "text/plain": [
       "/Users/Jorge/Library/Caches/pypoetry/virtualenvs/lorawan-chatbot-rag-llm-Kbm_Xz7B-py3.11/lib/python3.11/site-packag\n",
       "es/rich/live.py:231: UserWarning: install \"ipywidgets\" for Jupyter support\n",
       "  warnings.warn('install \"ipywidgets\" for Jupyter support')\n"
      ]
     },
     "metadata": {},
     "output_type": "display_data"
    },
    {
     "data": {
      "text/html": [
       "<pre style=\"white-space:pre;overflow-x:auto;line-height:normal;font-family:Menlo,'DejaVu Sans Mono',consolas,'Courier New',monospace\">/Users/Jorge/Library/Caches/pypoetry/virtualenvs/lorawan-chatbot-rag-llm-Kbm_Xz7B-py3.11/lib/python3.11/site-packag\n",
       "es/rich/live.py:231: UserWarning: install \"ipywidgets\" for Jupyter support\n",
       "  warnings.warn('install \"ipywidgets\" for Jupyter support')\n",
       "</pre>\n"
      ],
      "text/plain": [
       "/Users/Jorge/Library/Caches/pypoetry/virtualenvs/lorawan-chatbot-rag-llm-Kbm_Xz7B-py3.11/lib/python3.11/site-packag\n",
       "es/rich/live.py:231: UserWarning: install \"ipywidgets\" for Jupyter support\n",
       "  warnings.warn('install \"ipywidgets\" for Jupyter support')\n"
      ]
     },
     "metadata": {},
     "output_type": "display_data"
    },
    {
     "data": {
      "text/html": [
       "<pre style=\"white-space:pre;overflow-x:auto;line-height:normal;font-family:Menlo,'DejaVu Sans Mono',consolas,'Courier New',monospace\">/Users/Jorge/Library/Caches/pypoetry/virtualenvs/lorawan-chatbot-rag-llm-Kbm_Xz7B-py3.11/lib/python3.11/site-packag\n",
       "es/rich/live.py:231: UserWarning: install \"ipywidgets\" for Jupyter support\n",
       "  warnings.warn('install \"ipywidgets\" for Jupyter support')\n",
       "</pre>\n"
      ],
      "text/plain": [
       "/Users/Jorge/Library/Caches/pypoetry/virtualenvs/lorawan-chatbot-rag-llm-Kbm_Xz7B-py3.11/lib/python3.11/site-packag\n",
       "es/rich/live.py:231: UserWarning: install \"ipywidgets\" for Jupyter support\n",
       "  warnings.warn('install \"ipywidgets\" for Jupyter support')\n"
      ]
     },
     "metadata": {},
     "output_type": "display_data"
    },
    {
     "data": {
      "text/html": [
       "<pre style=\"white-space:pre;overflow-x:auto;line-height:normal;font-family:Menlo,'DejaVu Sans Mono',consolas,'Courier New',monospace\">/Users/Jorge/Library/Caches/pypoetry/virtualenvs/lorawan-chatbot-rag-llm-Kbm_Xz7B-py3.11/lib/python3.11/site-packag\n",
       "es/rich/live.py:231: UserWarning: install \"ipywidgets\" for Jupyter support\n",
       "  warnings.warn('install \"ipywidgets\" for Jupyter support')\n",
       "</pre>\n"
      ],
      "text/plain": [
       "/Users/Jorge/Library/Caches/pypoetry/virtualenvs/lorawan-chatbot-rag-llm-Kbm_Xz7B-py3.11/lib/python3.11/site-packag\n",
       "es/rich/live.py:231: UserWarning: install \"ipywidgets\" for Jupyter support\n",
       "  warnings.warn('install \"ipywidgets\" for Jupyter support')\n"
      ]
     },
     "metadata": {},
     "output_type": "display_data"
    },
    {
     "data": {
      "text/html": [
       "<pre style=\"white-space:pre;overflow-x:auto;line-height:normal;font-family:Menlo,'DejaVu Sans Mono',consolas,'Courier New',monospace\">/Users/Jorge/Library/Caches/pypoetry/virtualenvs/lorawan-chatbot-rag-llm-Kbm_Xz7B-py3.11/lib/python3.11/site-packag\n",
       "es/rich/live.py:231: UserWarning: install \"ipywidgets\" for Jupyter support\n",
       "  warnings.warn('install \"ipywidgets\" for Jupyter support')\n",
       "</pre>\n"
      ],
      "text/plain": [
       "/Users/Jorge/Library/Caches/pypoetry/virtualenvs/lorawan-chatbot-rag-llm-Kbm_Xz7B-py3.11/lib/python3.11/site-packag\n",
       "es/rich/live.py:231: UserWarning: install \"ipywidgets\" for Jupyter support\n",
       "  warnings.warn('install \"ipywidgets\" for Jupyter support')\n"
      ]
     },
     "metadata": {},
     "output_type": "display_data"
    },
    {
     "data": {
      "text/html": [
       "<pre style=\"white-space:pre;overflow-x:auto;line-height:normal;font-family:Menlo,'DejaVu Sans Mono',consolas,'Courier New',monospace\">/Users/Jorge/Library/Caches/pypoetry/virtualenvs/lorawan-chatbot-rag-llm-Kbm_Xz7B-py3.11/lib/python3.11/site-packag\n",
       "es/rich/live.py:231: UserWarning: install \"ipywidgets\" for Jupyter support\n",
       "  warnings.warn('install \"ipywidgets\" for Jupyter support')\n",
       "</pre>\n"
      ],
      "text/plain": [
       "/Users/Jorge/Library/Caches/pypoetry/virtualenvs/lorawan-chatbot-rag-llm-Kbm_Xz7B-py3.11/lib/python3.11/site-packag\n",
       "es/rich/live.py:231: UserWarning: install \"ipywidgets\" for Jupyter support\n",
       "  warnings.warn('install \"ipywidgets\" for Jupyter support')\n"
      ]
     },
     "metadata": {},
     "output_type": "display_data"
    },
    {
     "data": {
      "text/html": [
       "<pre style=\"white-space:pre;overflow-x:auto;line-height:normal;font-family:Menlo,'DejaVu Sans Mono',consolas,'Courier New',monospace\">/Users/Jorge/Library/Caches/pypoetry/virtualenvs/lorawan-chatbot-rag-llm-Kbm_Xz7B-py3.11/lib/python3.11/site-packag\n",
       "es/rich/live.py:231: UserWarning: install \"ipywidgets\" for Jupyter support\n",
       "  warnings.warn('install \"ipywidgets\" for Jupyter support')\n",
       "</pre>\n"
      ],
      "text/plain": [
       "/Users/Jorge/Library/Caches/pypoetry/virtualenvs/lorawan-chatbot-rag-llm-Kbm_Xz7B-py3.11/lib/python3.11/site-packag\n",
       "es/rich/live.py:231: UserWarning: install \"ipywidgets\" for Jupyter support\n",
       "  warnings.warn('install \"ipywidgets\" for Jupyter support')\n"
      ]
     },
     "metadata": {},
     "output_type": "display_data"
    },
    {
     "data": {
      "text/html": [
       "<pre style=\"white-space:pre;overflow-x:auto;line-height:normal;font-family:Menlo,'DejaVu Sans Mono',consolas,'Courier New',monospace\">/Users/Jorge/Library/Caches/pypoetry/virtualenvs/lorawan-chatbot-rag-llm-Kbm_Xz7B-py3.11/lib/python3.11/site-packag\n",
       "es/rich/live.py:231: UserWarning: install \"ipywidgets\" for Jupyter support\n",
       "  warnings.warn('install \"ipywidgets\" for Jupyter support')\n",
       "</pre>\n"
      ],
      "text/plain": [
       "/Users/Jorge/Library/Caches/pypoetry/virtualenvs/lorawan-chatbot-rag-llm-Kbm_Xz7B-py3.11/lib/python3.11/site-packag\n",
       "es/rich/live.py:231: UserWarning: install \"ipywidgets\" for Jupyter support\n",
       "  warnings.warn('install \"ipywidgets\" for Jupyter support')\n"
      ]
     },
     "metadata": {},
     "output_type": "display_data"
    },
    {
     "data": {
      "text/html": [
       "<pre style=\"white-space:pre;overflow-x:auto;line-height:normal;font-family:Menlo,'DejaVu Sans Mono',consolas,'Courier New',monospace\">/Users/Jorge/Library/Caches/pypoetry/virtualenvs/lorawan-chatbot-rag-llm-Kbm_Xz7B-py3.11/lib/python3.11/site-packag\n",
       "es/rich/live.py:231: UserWarning: install \"ipywidgets\" for Jupyter support\n",
       "  warnings.warn('install \"ipywidgets\" for Jupyter support')\n",
       "</pre>\n"
      ],
      "text/plain": [
       "/Users/Jorge/Library/Caches/pypoetry/virtualenvs/lorawan-chatbot-rag-llm-Kbm_Xz7B-py3.11/lib/python3.11/site-packag\n",
       "es/rich/live.py:231: UserWarning: install \"ipywidgets\" for Jupyter support\n",
       "  warnings.warn('install \"ipywidgets\" for Jupyter support')\n"
      ]
     },
     "metadata": {},
     "output_type": "display_data"
    },
    {
     "data": {
      "text/html": [
       "<pre style=\"white-space:pre;overflow-x:auto;line-height:normal;font-family:Menlo,'DejaVu Sans Mono',consolas,'Courier New',monospace\">/Users/Jorge/Library/Caches/pypoetry/virtualenvs/lorawan-chatbot-rag-llm-Kbm_Xz7B-py3.11/lib/python3.11/site-packag\n",
       "es/rich/live.py:231: UserWarning: install \"ipywidgets\" for Jupyter support\n",
       "  warnings.warn('install \"ipywidgets\" for Jupyter support')\n",
       "</pre>\n"
      ],
      "text/plain": [
       "/Users/Jorge/Library/Caches/pypoetry/virtualenvs/lorawan-chatbot-rag-llm-Kbm_Xz7B-py3.11/lib/python3.11/site-packag\n",
       "es/rich/live.py:231: UserWarning: install \"ipywidgets\" for Jupyter support\n",
       "  warnings.warn('install \"ipywidgets\" for Jupyter support')\n"
      ]
     },
     "metadata": {},
     "output_type": "display_data"
    },
    {
     "data": {
      "text/html": [
       "<pre style=\"white-space:pre;overflow-x:auto;line-height:normal;font-family:Menlo,'DejaVu Sans Mono',consolas,'Courier New',monospace\"></pre>\n"
      ],
      "text/plain": []
     },
     "metadata": {},
     "output_type": "display_data"
    },
    {
     "data": {
      "text/html": [
       "<pre style=\"white-space:pre;overflow-x:auto;line-height:normal;font-family:Menlo,'DejaVu Sans Mono',consolas,'Courier New',monospace\">\n",
       "</pre>\n"
      ],
      "text/plain": [
       "\n"
      ]
     },
     "metadata": {},
     "output_type": "display_data"
    },
    {
     "data": {
      "text/html": [
       "<pre style=\"white-space:pre;overflow-x:auto;line-height:normal;font-family:Menlo,'DejaVu Sans Mono',consolas,'Courier New',monospace\">/Users/Jorge/Library/Caches/pypoetry/virtualenvs/lorawan-chatbot-rag-llm-Kbm_Xz7B-py3.11/lib/python3.11/site-packag\n",
       "es/rich/live.py:231: UserWarning: install \"ipywidgets\" for Jupyter support\n",
       "  warnings.warn('install \"ipywidgets\" for Jupyter support')\n",
       "</pre>\n"
      ],
      "text/plain": [
       "/Users/Jorge/Library/Caches/pypoetry/virtualenvs/lorawan-chatbot-rag-llm-Kbm_Xz7B-py3.11/lib/python3.11/site-packag\n",
       "es/rich/live.py:231: UserWarning: install \"ipywidgets\" for Jupyter support\n",
       "  warnings.warn('install \"ipywidgets\" for Jupyter support')\n"
      ]
     },
     "metadata": {},
     "output_type": "display_data"
    },
    {
     "data": {
      "text/html": [
       "<pre style=\"white-space:pre;overflow-x:auto;line-height:normal;font-family:Menlo,'DejaVu Sans Mono',consolas,'Courier New',monospace\">/Users/Jorge/Library/Caches/pypoetry/virtualenvs/lorawan-chatbot-rag-llm-Kbm_Xz7B-py3.11/lib/python3.11/site-packag\n",
       "es/rich/live.py:231: UserWarning: install \"ipywidgets\" for Jupyter support\n",
       "  warnings.warn('install \"ipywidgets\" for Jupyter support')\n",
       "</pre>\n"
      ],
      "text/plain": [
       "/Users/Jorge/Library/Caches/pypoetry/virtualenvs/lorawan-chatbot-rag-llm-Kbm_Xz7B-py3.11/lib/python3.11/site-packag\n",
       "es/rich/live.py:231: UserWarning: install \"ipywidgets\" for Jupyter support\n",
       "  warnings.warn('install \"ipywidgets\" for Jupyter support')\n"
      ]
     },
     "metadata": {},
     "output_type": "display_data"
    },
    {
     "data": {
      "text/html": [
       "<pre style=\"white-space:pre;overflow-x:auto;line-height:normal;font-family:Menlo,'DejaVu Sans Mono',consolas,'Courier New',monospace\">/Users/Jorge/Library/Caches/pypoetry/virtualenvs/lorawan-chatbot-rag-llm-Kbm_Xz7B-py3.11/lib/python3.11/site-packag\n",
       "es/rich/live.py:231: UserWarning: install \"ipywidgets\" for Jupyter support\n",
       "  warnings.warn('install \"ipywidgets\" for Jupyter support')\n",
       "</pre>\n"
      ],
      "text/plain": [
       "/Users/Jorge/Library/Caches/pypoetry/virtualenvs/lorawan-chatbot-rag-llm-Kbm_Xz7B-py3.11/lib/python3.11/site-packag\n",
       "es/rich/live.py:231: UserWarning: install \"ipywidgets\" for Jupyter support\n",
       "  warnings.warn('install \"ipywidgets\" for Jupyter support')\n"
      ]
     },
     "metadata": {},
     "output_type": "display_data"
    },
    {
     "data": {
      "text/html": [
       "<pre style=\"white-space:pre;overflow-x:auto;line-height:normal;font-family:Menlo,'DejaVu Sans Mono',consolas,'Courier New',monospace\">/Users/Jorge/Library/Caches/pypoetry/virtualenvs/lorawan-chatbot-rag-llm-Kbm_Xz7B-py3.11/lib/python3.11/site-packag\n",
       "es/rich/live.py:231: UserWarning: install \"ipywidgets\" for Jupyter support\n",
       "  warnings.warn('install \"ipywidgets\" for Jupyter support')\n",
       "</pre>\n"
      ],
      "text/plain": [
       "/Users/Jorge/Library/Caches/pypoetry/virtualenvs/lorawan-chatbot-rag-llm-Kbm_Xz7B-py3.11/lib/python3.11/site-packag\n",
       "es/rich/live.py:231: UserWarning: install \"ipywidgets\" for Jupyter support\n",
       "  warnings.warn('install \"ipywidgets\" for Jupyter support')\n"
      ]
     },
     "metadata": {},
     "output_type": "display_data"
    },
    {
     "data": {
      "text/html": [
       "<pre style=\"white-space:pre;overflow-x:auto;line-height:normal;font-family:Menlo,'DejaVu Sans Mono',consolas,'Courier New',monospace\">/Users/Jorge/Library/Caches/pypoetry/virtualenvs/lorawan-chatbot-rag-llm-Kbm_Xz7B-py3.11/lib/python3.11/site-packag\n",
       "es/rich/live.py:231: UserWarning: install \"ipywidgets\" for Jupyter support\n",
       "  warnings.warn('install \"ipywidgets\" for Jupyter support')\n",
       "</pre>\n"
      ],
      "text/plain": [
       "/Users/Jorge/Library/Caches/pypoetry/virtualenvs/lorawan-chatbot-rag-llm-Kbm_Xz7B-py3.11/lib/python3.11/site-packag\n",
       "es/rich/live.py:231: UserWarning: install \"ipywidgets\" for Jupyter support\n",
       "  warnings.warn('install \"ipywidgets\" for Jupyter support')\n"
      ]
     },
     "metadata": {},
     "output_type": "display_data"
    },
    {
     "data": {
      "text/html": [
       "<pre style=\"white-space:pre;overflow-x:auto;line-height:normal;font-family:Menlo,'DejaVu Sans Mono',consolas,'Courier New',monospace\">/Users/Jorge/Library/Caches/pypoetry/virtualenvs/lorawan-chatbot-rag-llm-Kbm_Xz7B-py3.11/lib/python3.11/site-packag\n",
       "es/rich/live.py:231: UserWarning: install \"ipywidgets\" for Jupyter support\n",
       "  warnings.warn('install \"ipywidgets\" for Jupyter support')\n",
       "</pre>\n"
      ],
      "text/plain": [
       "/Users/Jorge/Library/Caches/pypoetry/virtualenvs/lorawan-chatbot-rag-llm-Kbm_Xz7B-py3.11/lib/python3.11/site-packag\n",
       "es/rich/live.py:231: UserWarning: install \"ipywidgets\" for Jupyter support\n",
       "  warnings.warn('install \"ipywidgets\" for Jupyter support')\n"
      ]
     },
     "metadata": {},
     "output_type": "display_data"
    },
    {
     "data": {
      "text/html": [
       "<pre style=\"white-space:pre;overflow-x:auto;line-height:normal;font-family:Menlo,'DejaVu Sans Mono',consolas,'Courier New',monospace\">/Users/Jorge/Library/Caches/pypoetry/virtualenvs/lorawan-chatbot-rag-llm-Kbm_Xz7B-py3.11/lib/python3.11/site-packag\n",
       "es/rich/live.py:231: UserWarning: install \"ipywidgets\" for Jupyter support\n",
       "  warnings.warn('install \"ipywidgets\" for Jupyter support')\n",
       "</pre>\n"
      ],
      "text/plain": [
       "/Users/Jorge/Library/Caches/pypoetry/virtualenvs/lorawan-chatbot-rag-llm-Kbm_Xz7B-py3.11/lib/python3.11/site-packag\n",
       "es/rich/live.py:231: UserWarning: install \"ipywidgets\" for Jupyter support\n",
       "  warnings.warn('install \"ipywidgets\" for Jupyter support')\n"
      ]
     },
     "metadata": {},
     "output_type": "display_data"
    },
    {
     "data": {
      "text/html": [
       "<pre style=\"white-space:pre;overflow-x:auto;line-height:normal;font-family:Menlo,'DejaVu Sans Mono',consolas,'Courier New',monospace\">/Users/Jorge/Library/Caches/pypoetry/virtualenvs/lorawan-chatbot-rag-llm-Kbm_Xz7B-py3.11/lib/python3.11/site-packag\n",
       "es/rich/live.py:231: UserWarning: install \"ipywidgets\" for Jupyter support\n",
       "  warnings.warn('install \"ipywidgets\" for Jupyter support')\n",
       "</pre>\n"
      ],
      "text/plain": [
       "/Users/Jorge/Library/Caches/pypoetry/virtualenvs/lorawan-chatbot-rag-llm-Kbm_Xz7B-py3.11/lib/python3.11/site-packag\n",
       "es/rich/live.py:231: UserWarning: install \"ipywidgets\" for Jupyter support\n",
       "  warnings.warn('install \"ipywidgets\" for Jupyter support')\n"
      ]
     },
     "metadata": {},
     "output_type": "display_data"
    },
    {
     "data": {
      "text/html": [
       "<pre style=\"white-space:pre;overflow-x:auto;line-height:normal;font-family:Menlo,'DejaVu Sans Mono',consolas,'Courier New',monospace\">/Users/Jorge/Library/Caches/pypoetry/virtualenvs/lorawan-chatbot-rag-llm-Kbm_Xz7B-py3.11/lib/python3.11/site-packag\n",
       "es/rich/live.py:231: UserWarning: install \"ipywidgets\" for Jupyter support\n",
       "  warnings.warn('install \"ipywidgets\" for Jupyter support')\n",
       "</pre>\n"
      ],
      "text/plain": [
       "/Users/Jorge/Library/Caches/pypoetry/virtualenvs/lorawan-chatbot-rag-llm-Kbm_Xz7B-py3.11/lib/python3.11/site-packag\n",
       "es/rich/live.py:231: UserWarning: install \"ipywidgets\" for Jupyter support\n",
       "  warnings.warn('install \"ipywidgets\" for Jupyter support')\n"
      ]
     },
     "metadata": {},
     "output_type": "display_data"
    },
    {
     "data": {
      "text/html": [
       "<pre style=\"white-space:pre;overflow-x:auto;line-height:normal;font-family:Menlo,'DejaVu Sans Mono',consolas,'Courier New',monospace\"></pre>\n"
      ],
      "text/plain": []
     },
     "metadata": {},
     "output_type": "display_data"
    },
    {
     "data": {
      "text/html": [
       "<pre style=\"white-space:pre;overflow-x:auto;line-height:normal;font-family:Menlo,'DejaVu Sans Mono',consolas,'Courier New',monospace\">\n",
       "</pre>\n"
      ],
      "text/plain": [
       "\n"
      ]
     },
     "metadata": {},
     "output_type": "display_data"
    },
    {
     "data": {
      "text/html": [
       "<pre style=\"white-space:pre;overflow-x:auto;line-height:normal;font-family:Menlo,'DejaVu Sans Mono',consolas,'Courier New',monospace\">/Users/Jorge/Library/Caches/pypoetry/virtualenvs/lorawan-chatbot-rag-llm-Kbm_Xz7B-py3.11/lib/python3.11/site-packag\n",
       "es/rich/live.py:231: UserWarning: install \"ipywidgets\" for Jupyter support\n",
       "  warnings.warn('install \"ipywidgets\" for Jupyter support')\n",
       "</pre>\n"
      ],
      "text/plain": [
       "/Users/Jorge/Library/Caches/pypoetry/virtualenvs/lorawan-chatbot-rag-llm-Kbm_Xz7B-py3.11/lib/python3.11/site-packag\n",
       "es/rich/live.py:231: UserWarning: install \"ipywidgets\" for Jupyter support\n",
       "  warnings.warn('install \"ipywidgets\" for Jupyter support')\n"
      ]
     },
     "metadata": {},
     "output_type": "display_data"
    },
    {
     "data": {
      "text/html": [
       "<pre style=\"white-space:pre;overflow-x:auto;line-height:normal;font-family:Menlo,'DejaVu Sans Mono',consolas,'Courier New',monospace\">/Users/Jorge/Library/Caches/pypoetry/virtualenvs/lorawan-chatbot-rag-llm-Kbm_Xz7B-py3.11/lib/python3.11/site-packag\n",
       "es/rich/live.py:231: UserWarning: install \"ipywidgets\" for Jupyter support\n",
       "  warnings.warn('install \"ipywidgets\" for Jupyter support')\n",
       "</pre>\n"
      ],
      "text/plain": [
       "/Users/Jorge/Library/Caches/pypoetry/virtualenvs/lorawan-chatbot-rag-llm-Kbm_Xz7B-py3.11/lib/python3.11/site-packag\n",
       "es/rich/live.py:231: UserWarning: install \"ipywidgets\" for Jupyter support\n",
       "  warnings.warn('install \"ipywidgets\" for Jupyter support')\n"
      ]
     },
     "metadata": {},
     "output_type": "display_data"
    },
    {
     "data": {
      "text/html": [
       "<pre style=\"white-space:pre;overflow-x:auto;line-height:normal;font-family:Menlo,'DejaVu Sans Mono',consolas,'Courier New',monospace\">/Users/Jorge/Library/Caches/pypoetry/virtualenvs/lorawan-chatbot-rag-llm-Kbm_Xz7B-py3.11/lib/python3.11/site-packag\n",
       "es/rich/live.py:231: UserWarning: install \"ipywidgets\" for Jupyter support\n",
       "  warnings.warn('install \"ipywidgets\" for Jupyter support')\n",
       "</pre>\n"
      ],
      "text/plain": [
       "/Users/Jorge/Library/Caches/pypoetry/virtualenvs/lorawan-chatbot-rag-llm-Kbm_Xz7B-py3.11/lib/python3.11/site-packag\n",
       "es/rich/live.py:231: UserWarning: install \"ipywidgets\" for Jupyter support\n",
       "  warnings.warn('install \"ipywidgets\" for Jupyter support')\n"
      ]
     },
     "metadata": {},
     "output_type": "display_data"
    },
    {
     "data": {
      "text/html": [
       "<pre style=\"white-space:pre;overflow-x:auto;line-height:normal;font-family:Menlo,'DejaVu Sans Mono',consolas,'Courier New',monospace\">/Users/Jorge/Library/Caches/pypoetry/virtualenvs/lorawan-chatbot-rag-llm-Kbm_Xz7B-py3.11/lib/python3.11/site-packag\n",
       "es/rich/live.py:231: UserWarning: install \"ipywidgets\" for Jupyter support\n",
       "  warnings.warn('install \"ipywidgets\" for Jupyter support')\n",
       "</pre>\n"
      ],
      "text/plain": [
       "/Users/Jorge/Library/Caches/pypoetry/virtualenvs/lorawan-chatbot-rag-llm-Kbm_Xz7B-py3.11/lib/python3.11/site-packag\n",
       "es/rich/live.py:231: UserWarning: install \"ipywidgets\" for Jupyter support\n",
       "  warnings.warn('install \"ipywidgets\" for Jupyter support')\n"
      ]
     },
     "metadata": {},
     "output_type": "display_data"
    },
    {
     "data": {
      "text/html": [
       "<pre style=\"white-space:pre;overflow-x:auto;line-height:normal;font-family:Menlo,'DejaVu Sans Mono',consolas,'Courier New',monospace\">/Users/Jorge/Library/Caches/pypoetry/virtualenvs/lorawan-chatbot-rag-llm-Kbm_Xz7B-py3.11/lib/python3.11/site-packag\n",
       "es/rich/live.py:231: UserWarning: install \"ipywidgets\" for Jupyter support\n",
       "  warnings.warn('install \"ipywidgets\" for Jupyter support')\n",
       "</pre>\n"
      ],
      "text/plain": [
       "/Users/Jorge/Library/Caches/pypoetry/virtualenvs/lorawan-chatbot-rag-llm-Kbm_Xz7B-py3.11/lib/python3.11/site-packag\n",
       "es/rich/live.py:231: UserWarning: install \"ipywidgets\" for Jupyter support\n",
       "  warnings.warn('install \"ipywidgets\" for Jupyter support')\n"
      ]
     },
     "metadata": {},
     "output_type": "display_data"
    },
    {
     "data": {
      "text/html": [
       "<pre style=\"white-space:pre;overflow-x:auto;line-height:normal;font-family:Menlo,'DejaVu Sans Mono',consolas,'Courier New',monospace\">/Users/Jorge/Library/Caches/pypoetry/virtualenvs/lorawan-chatbot-rag-llm-Kbm_Xz7B-py3.11/lib/python3.11/site-packag\n",
       "es/rich/live.py:231: UserWarning: install \"ipywidgets\" for Jupyter support\n",
       "  warnings.warn('install \"ipywidgets\" for Jupyter support')\n",
       "</pre>\n"
      ],
      "text/plain": [
       "/Users/Jorge/Library/Caches/pypoetry/virtualenvs/lorawan-chatbot-rag-llm-Kbm_Xz7B-py3.11/lib/python3.11/site-packag\n",
       "es/rich/live.py:231: UserWarning: install \"ipywidgets\" for Jupyter support\n",
       "  warnings.warn('install \"ipywidgets\" for Jupyter support')\n"
      ]
     },
     "metadata": {},
     "output_type": "display_data"
    },
    {
     "data": {
      "text/html": [
       "<pre style=\"white-space:pre;overflow-x:auto;line-height:normal;font-family:Menlo,'DejaVu Sans Mono',consolas,'Courier New',monospace\">/Users/Jorge/Library/Caches/pypoetry/virtualenvs/lorawan-chatbot-rag-llm-Kbm_Xz7B-py3.11/lib/python3.11/site-packag\n",
       "es/rich/live.py:231: UserWarning: install \"ipywidgets\" for Jupyter support\n",
       "  warnings.warn('install \"ipywidgets\" for Jupyter support')\n",
       "</pre>\n"
      ],
      "text/plain": [
       "/Users/Jorge/Library/Caches/pypoetry/virtualenvs/lorawan-chatbot-rag-llm-Kbm_Xz7B-py3.11/lib/python3.11/site-packag\n",
       "es/rich/live.py:231: UserWarning: install \"ipywidgets\" for Jupyter support\n",
       "  warnings.warn('install \"ipywidgets\" for Jupyter support')\n"
      ]
     },
     "metadata": {},
     "output_type": "display_data"
    },
    {
     "data": {
      "text/html": [
       "<pre style=\"white-space:pre;overflow-x:auto;line-height:normal;font-family:Menlo,'DejaVu Sans Mono',consolas,'Courier New',monospace\">/Users/Jorge/Library/Caches/pypoetry/virtualenvs/lorawan-chatbot-rag-llm-Kbm_Xz7B-py3.11/lib/python3.11/site-packag\n",
       "es/rich/live.py:231: UserWarning: install \"ipywidgets\" for Jupyter support\n",
       "  warnings.warn('install \"ipywidgets\" for Jupyter support')\n",
       "</pre>\n"
      ],
      "text/plain": [
       "/Users/Jorge/Library/Caches/pypoetry/virtualenvs/lorawan-chatbot-rag-llm-Kbm_Xz7B-py3.11/lib/python3.11/site-packag\n",
       "es/rich/live.py:231: UserWarning: install \"ipywidgets\" for Jupyter support\n",
       "  warnings.warn('install \"ipywidgets\" for Jupyter support')\n"
      ]
     },
     "metadata": {},
     "output_type": "display_data"
    },
    {
     "data": {
      "text/html": [
       "<pre style=\"white-space:pre;overflow-x:auto;line-height:normal;font-family:Menlo,'DejaVu Sans Mono',consolas,'Courier New',monospace\">/Users/Jorge/Library/Caches/pypoetry/virtualenvs/lorawan-chatbot-rag-llm-Kbm_Xz7B-py3.11/lib/python3.11/site-packag\n",
       "es/rich/live.py:231: UserWarning: install \"ipywidgets\" for Jupyter support\n",
       "  warnings.warn('install \"ipywidgets\" for Jupyter support')\n",
       "</pre>\n"
      ],
      "text/plain": [
       "/Users/Jorge/Library/Caches/pypoetry/virtualenvs/lorawan-chatbot-rag-llm-Kbm_Xz7B-py3.11/lib/python3.11/site-packag\n",
       "es/rich/live.py:231: UserWarning: install \"ipywidgets\" for Jupyter support\n",
       "  warnings.warn('install \"ipywidgets\" for Jupyter support')\n"
      ]
     },
     "metadata": {},
     "output_type": "display_data"
    },
    {
     "data": {
      "text/html": [
       "<pre style=\"white-space:pre;overflow-x:auto;line-height:normal;font-family:Menlo,'DejaVu Sans Mono',consolas,'Courier New',monospace\">/Users/Jorge/Library/Caches/pypoetry/virtualenvs/lorawan-chatbot-rag-llm-Kbm_Xz7B-py3.11/lib/python3.11/site-packag\n",
       "es/rich/live.py:231: UserWarning: install \"ipywidgets\" for Jupyter support\n",
       "  warnings.warn('install \"ipywidgets\" for Jupyter support')\n",
       "</pre>\n"
      ],
      "text/plain": [
       "/Users/Jorge/Library/Caches/pypoetry/virtualenvs/lorawan-chatbot-rag-llm-Kbm_Xz7B-py3.11/lib/python3.11/site-packag\n",
       "es/rich/live.py:231: UserWarning: install \"ipywidgets\" for Jupyter support\n",
       "  warnings.warn('install \"ipywidgets\" for Jupyter support')\n"
      ]
     },
     "metadata": {},
     "output_type": "display_data"
    },
    {
     "data": {
      "text/html": [
       "<pre style=\"white-space:pre;overflow-x:auto;line-height:normal;font-family:Menlo,'DejaVu Sans Mono',consolas,'Courier New',monospace\">/Users/Jorge/Library/Caches/pypoetry/virtualenvs/lorawan-chatbot-rag-llm-Kbm_Xz7B-py3.11/lib/python3.11/site-packag\n",
       "es/rich/live.py:231: UserWarning: install \"ipywidgets\" for Jupyter support\n",
       "  warnings.warn('install \"ipywidgets\" for Jupyter support')\n",
       "</pre>\n"
      ],
      "text/plain": [
       "/Users/Jorge/Library/Caches/pypoetry/virtualenvs/lorawan-chatbot-rag-llm-Kbm_Xz7B-py3.11/lib/python3.11/site-packag\n",
       "es/rich/live.py:231: UserWarning: install \"ipywidgets\" for Jupyter support\n",
       "  warnings.warn('install \"ipywidgets\" for Jupyter support')\n"
      ]
     },
     "metadata": {},
     "output_type": "display_data"
    },
    {
     "data": {
      "text/html": [
       "<pre style=\"white-space:pre;overflow-x:auto;line-height:normal;font-family:Menlo,'DejaVu Sans Mono',consolas,'Courier New',monospace\"></pre>\n"
      ],
      "text/plain": []
     },
     "metadata": {},
     "output_type": "display_data"
    },
    {
     "data": {
      "text/html": [
       "<pre style=\"white-space:pre;overflow-x:auto;line-height:normal;font-family:Menlo,'DejaVu Sans Mono',consolas,'Courier New',monospace\">\n",
       "</pre>\n"
      ],
      "text/plain": [
       "\n"
      ]
     },
     "metadata": {},
     "output_type": "display_data"
    },
    {
     "data": {
      "text/html": [
       "<pre style=\"white-space:pre;overflow-x:auto;line-height:normal;font-family:Menlo,'DejaVu Sans Mono',consolas,'Courier New',monospace\">/Users/Jorge/Library/Caches/pypoetry/virtualenvs/lorawan-chatbot-rag-llm-Kbm_Xz7B-py3.11/lib/python3.11/site-packag\n",
       "es/rich/live.py:231: UserWarning: install \"ipywidgets\" for Jupyter support\n",
       "  warnings.warn('install \"ipywidgets\" for Jupyter support')\n",
       "</pre>\n"
      ],
      "text/plain": [
       "/Users/Jorge/Library/Caches/pypoetry/virtualenvs/lorawan-chatbot-rag-llm-Kbm_Xz7B-py3.11/lib/python3.11/site-packag\n",
       "es/rich/live.py:231: UserWarning: install \"ipywidgets\" for Jupyter support\n",
       "  warnings.warn('install \"ipywidgets\" for Jupyter support')\n"
      ]
     },
     "metadata": {},
     "output_type": "display_data"
    },
    {
     "data": {
      "text/html": [
       "<pre style=\"white-space:pre;overflow-x:auto;line-height:normal;font-family:Menlo,'DejaVu Sans Mono',consolas,'Courier New',monospace\">/Users/Jorge/Library/Caches/pypoetry/virtualenvs/lorawan-chatbot-rag-llm-Kbm_Xz7B-py3.11/lib/python3.11/site-packag\n",
       "es/rich/live.py:231: UserWarning: install \"ipywidgets\" for Jupyter support\n",
       "  warnings.warn('install \"ipywidgets\" for Jupyter support')\n",
       "</pre>\n"
      ],
      "text/plain": [
       "/Users/Jorge/Library/Caches/pypoetry/virtualenvs/lorawan-chatbot-rag-llm-Kbm_Xz7B-py3.11/lib/python3.11/site-packag\n",
       "es/rich/live.py:231: UserWarning: install \"ipywidgets\" for Jupyter support\n",
       "  warnings.warn('install \"ipywidgets\" for Jupyter support')\n"
      ]
     },
     "metadata": {},
     "output_type": "display_data"
    },
    {
     "data": {
      "text/html": [
       "<pre style=\"white-space:pre;overflow-x:auto;line-height:normal;font-family:Menlo,'DejaVu Sans Mono',consolas,'Courier New',monospace\">/Users/Jorge/Library/Caches/pypoetry/virtualenvs/lorawan-chatbot-rag-llm-Kbm_Xz7B-py3.11/lib/python3.11/site-packag\n",
       "es/rich/live.py:231: UserWarning: install \"ipywidgets\" for Jupyter support\n",
       "  warnings.warn('install \"ipywidgets\" for Jupyter support')\n",
       "</pre>\n"
      ],
      "text/plain": [
       "/Users/Jorge/Library/Caches/pypoetry/virtualenvs/lorawan-chatbot-rag-llm-Kbm_Xz7B-py3.11/lib/python3.11/site-packag\n",
       "es/rich/live.py:231: UserWarning: install \"ipywidgets\" for Jupyter support\n",
       "  warnings.warn('install \"ipywidgets\" for Jupyter support')\n"
      ]
     },
     "metadata": {},
     "output_type": "display_data"
    },
    {
     "data": {
      "text/html": [
       "<pre style=\"white-space:pre;overflow-x:auto;line-height:normal;font-family:Menlo,'DejaVu Sans Mono',consolas,'Courier New',monospace\">/Users/Jorge/Library/Caches/pypoetry/virtualenvs/lorawan-chatbot-rag-llm-Kbm_Xz7B-py3.11/lib/python3.11/site-packag\n",
       "es/rich/live.py:231: UserWarning: install \"ipywidgets\" for Jupyter support\n",
       "  warnings.warn('install \"ipywidgets\" for Jupyter support')\n",
       "</pre>\n"
      ],
      "text/plain": [
       "/Users/Jorge/Library/Caches/pypoetry/virtualenvs/lorawan-chatbot-rag-llm-Kbm_Xz7B-py3.11/lib/python3.11/site-packag\n",
       "es/rich/live.py:231: UserWarning: install \"ipywidgets\" for Jupyter support\n",
       "  warnings.warn('install \"ipywidgets\" for Jupyter support')\n"
      ]
     },
     "metadata": {},
     "output_type": "display_data"
    },
    {
     "data": {
      "text/html": [
       "<pre style=\"white-space:pre;overflow-x:auto;line-height:normal;font-family:Menlo,'DejaVu Sans Mono',consolas,'Courier New',monospace\">/Users/Jorge/Library/Caches/pypoetry/virtualenvs/lorawan-chatbot-rag-llm-Kbm_Xz7B-py3.11/lib/python3.11/site-packag\n",
       "es/rich/live.py:231: UserWarning: install \"ipywidgets\" for Jupyter support\n",
       "  warnings.warn('install \"ipywidgets\" for Jupyter support')\n",
       "</pre>\n"
      ],
      "text/plain": [
       "/Users/Jorge/Library/Caches/pypoetry/virtualenvs/lorawan-chatbot-rag-llm-Kbm_Xz7B-py3.11/lib/python3.11/site-packag\n",
       "es/rich/live.py:231: UserWarning: install \"ipywidgets\" for Jupyter support\n",
       "  warnings.warn('install \"ipywidgets\" for Jupyter support')\n"
      ]
     },
     "metadata": {},
     "output_type": "display_data"
    },
    {
     "data": {
      "text/html": [
       "<pre style=\"white-space:pre;overflow-x:auto;line-height:normal;font-family:Menlo,'DejaVu Sans Mono',consolas,'Courier New',monospace\">/Users/Jorge/Library/Caches/pypoetry/virtualenvs/lorawan-chatbot-rag-llm-Kbm_Xz7B-py3.11/lib/python3.11/site-packag\n",
       "es/rich/live.py:231: UserWarning: install \"ipywidgets\" for Jupyter support\n",
       "  warnings.warn('install \"ipywidgets\" for Jupyter support')\n",
       "</pre>\n"
      ],
      "text/plain": [
       "/Users/Jorge/Library/Caches/pypoetry/virtualenvs/lorawan-chatbot-rag-llm-Kbm_Xz7B-py3.11/lib/python3.11/site-packag\n",
       "es/rich/live.py:231: UserWarning: install \"ipywidgets\" for Jupyter support\n",
       "  warnings.warn('install \"ipywidgets\" for Jupyter support')\n"
      ]
     },
     "metadata": {},
     "output_type": "display_data"
    },
    {
     "data": {
      "text/html": [
       "<pre style=\"white-space:pre;overflow-x:auto;line-height:normal;font-family:Menlo,'DejaVu Sans Mono',consolas,'Courier New',monospace\">/Users/Jorge/Library/Caches/pypoetry/virtualenvs/lorawan-chatbot-rag-llm-Kbm_Xz7B-py3.11/lib/python3.11/site-packag\n",
       "es/rich/live.py:231: UserWarning: install \"ipywidgets\" for Jupyter support\n",
       "  warnings.warn('install \"ipywidgets\" for Jupyter support')\n",
       "</pre>\n"
      ],
      "text/plain": [
       "/Users/Jorge/Library/Caches/pypoetry/virtualenvs/lorawan-chatbot-rag-llm-Kbm_Xz7B-py3.11/lib/python3.11/site-packag\n",
       "es/rich/live.py:231: UserWarning: install \"ipywidgets\" for Jupyter support\n",
       "  warnings.warn('install \"ipywidgets\" for Jupyter support')\n"
      ]
     },
     "metadata": {},
     "output_type": "display_data"
    },
    {
     "data": {
      "text/html": [
       "<pre style=\"white-space:pre;overflow-x:auto;line-height:normal;font-family:Menlo,'DejaVu Sans Mono',consolas,'Courier New',monospace\">/Users/Jorge/Library/Caches/pypoetry/virtualenvs/lorawan-chatbot-rag-llm-Kbm_Xz7B-py3.11/lib/python3.11/site-packag\n",
       "es/rich/live.py:231: UserWarning: install \"ipywidgets\" for Jupyter support\n",
       "  warnings.warn('install \"ipywidgets\" for Jupyter support')\n",
       "</pre>\n"
      ],
      "text/plain": [
       "/Users/Jorge/Library/Caches/pypoetry/virtualenvs/lorawan-chatbot-rag-llm-Kbm_Xz7B-py3.11/lib/python3.11/site-packag\n",
       "es/rich/live.py:231: UserWarning: install \"ipywidgets\" for Jupyter support\n",
       "  warnings.warn('install \"ipywidgets\" for Jupyter support')\n"
      ]
     },
     "metadata": {},
     "output_type": "display_data"
    },
    {
     "data": {
      "text/html": [
       "<pre style=\"white-space:pre;overflow-x:auto;line-height:normal;font-family:Menlo,'DejaVu Sans Mono',consolas,'Courier New',monospace\">/Users/Jorge/Library/Caches/pypoetry/virtualenvs/lorawan-chatbot-rag-llm-Kbm_Xz7B-py3.11/lib/python3.11/site-packag\n",
       "es/rich/live.py:231: UserWarning: install \"ipywidgets\" for Jupyter support\n",
       "  warnings.warn('install \"ipywidgets\" for Jupyter support')\n",
       "</pre>\n"
      ],
      "text/plain": [
       "/Users/Jorge/Library/Caches/pypoetry/virtualenvs/lorawan-chatbot-rag-llm-Kbm_Xz7B-py3.11/lib/python3.11/site-packag\n",
       "es/rich/live.py:231: UserWarning: install \"ipywidgets\" for Jupyter support\n",
       "  warnings.warn('install \"ipywidgets\" for Jupyter support')\n"
      ]
     },
     "metadata": {},
     "output_type": "display_data"
    },
    {
     "data": {
      "text/html": [
       "<pre style=\"white-space:pre;overflow-x:auto;line-height:normal;font-family:Menlo,'DejaVu Sans Mono',consolas,'Courier New',monospace\">/Users/Jorge/Library/Caches/pypoetry/virtualenvs/lorawan-chatbot-rag-llm-Kbm_Xz7B-py3.11/lib/python3.11/site-packag\n",
       "es/rich/live.py:231: UserWarning: install \"ipywidgets\" for Jupyter support\n",
       "  warnings.warn('install \"ipywidgets\" for Jupyter support')\n",
       "</pre>\n"
      ],
      "text/plain": [
       "/Users/Jorge/Library/Caches/pypoetry/virtualenvs/lorawan-chatbot-rag-llm-Kbm_Xz7B-py3.11/lib/python3.11/site-packag\n",
       "es/rich/live.py:231: UserWarning: install \"ipywidgets\" for Jupyter support\n",
       "  warnings.warn('install \"ipywidgets\" for Jupyter support')\n"
      ]
     },
     "metadata": {},
     "output_type": "display_data"
    },
    {
     "data": {
      "text/html": [
       "<pre style=\"white-space:pre;overflow-x:auto;line-height:normal;font-family:Menlo,'DejaVu Sans Mono',consolas,'Courier New',monospace\">/Users/Jorge/Library/Caches/pypoetry/virtualenvs/lorawan-chatbot-rag-llm-Kbm_Xz7B-py3.11/lib/python3.11/site-packag\n",
       "es/rich/live.py:231: UserWarning: install \"ipywidgets\" for Jupyter support\n",
       "  warnings.warn('install \"ipywidgets\" for Jupyter support')\n",
       "</pre>\n"
      ],
      "text/plain": [
       "/Users/Jorge/Library/Caches/pypoetry/virtualenvs/lorawan-chatbot-rag-llm-Kbm_Xz7B-py3.11/lib/python3.11/site-packag\n",
       "es/rich/live.py:231: UserWarning: install \"ipywidgets\" for Jupyter support\n",
       "  warnings.warn('install \"ipywidgets\" for Jupyter support')\n"
      ]
     },
     "metadata": {},
     "output_type": "display_data"
    },
    {
     "data": {
      "text/html": [
       "<pre style=\"white-space:pre;overflow-x:auto;line-height:normal;font-family:Menlo,'DejaVu Sans Mono',consolas,'Courier New',monospace\"></pre>\n"
      ],
      "text/plain": []
     },
     "metadata": {},
     "output_type": "display_data"
    },
    {
     "data": {
      "text/html": [
       "<pre style=\"white-space:pre;overflow-x:auto;line-height:normal;font-family:Menlo,'DejaVu Sans Mono',consolas,'Courier New',monospace\">\n",
       "</pre>\n"
      ],
      "text/plain": [
       "\n"
      ]
     },
     "metadata": {},
     "output_type": "display_data"
    },
    {
     "data": {
      "text/html": [
       "<pre style=\"white-space:pre;overflow-x:auto;line-height:normal;font-family:Menlo,'DejaVu Sans Mono',consolas,'Courier New',monospace\">/Users/Jorge/Library/Caches/pypoetry/virtualenvs/lorawan-chatbot-rag-llm-Kbm_Xz7B-py3.11/lib/python3.11/site-packag\n",
       "es/rich/live.py:231: UserWarning: install \"ipywidgets\" for Jupyter support\n",
       "  warnings.warn('install \"ipywidgets\" for Jupyter support')\n",
       "</pre>\n"
      ],
      "text/plain": [
       "/Users/Jorge/Library/Caches/pypoetry/virtualenvs/lorawan-chatbot-rag-llm-Kbm_Xz7B-py3.11/lib/python3.11/site-packag\n",
       "es/rich/live.py:231: UserWarning: install \"ipywidgets\" for Jupyter support\n",
       "  warnings.warn('install \"ipywidgets\" for Jupyter support')\n"
      ]
     },
     "metadata": {},
     "output_type": "display_data"
    },
    {
     "data": {
      "text/html": [
       "<pre style=\"white-space:pre;overflow-x:auto;line-height:normal;font-family:Menlo,'DejaVu Sans Mono',consolas,'Courier New',monospace\">/Users/Jorge/Library/Caches/pypoetry/virtualenvs/lorawan-chatbot-rag-llm-Kbm_Xz7B-py3.11/lib/python3.11/site-packag\n",
       "es/rich/live.py:231: UserWarning: install \"ipywidgets\" for Jupyter support\n",
       "  warnings.warn('install \"ipywidgets\" for Jupyter support')\n",
       "</pre>\n"
      ],
      "text/plain": [
       "/Users/Jorge/Library/Caches/pypoetry/virtualenvs/lorawan-chatbot-rag-llm-Kbm_Xz7B-py3.11/lib/python3.11/site-packag\n",
       "es/rich/live.py:231: UserWarning: install \"ipywidgets\" for Jupyter support\n",
       "  warnings.warn('install \"ipywidgets\" for Jupyter support')\n"
      ]
     },
     "metadata": {},
     "output_type": "display_data"
    },
    {
     "data": {
      "text/html": [
       "<pre style=\"white-space:pre;overflow-x:auto;line-height:normal;font-family:Menlo,'DejaVu Sans Mono',consolas,'Courier New',monospace\">/Users/Jorge/Library/Caches/pypoetry/virtualenvs/lorawan-chatbot-rag-llm-Kbm_Xz7B-py3.11/lib/python3.11/site-packag\n",
       "es/rich/live.py:231: UserWarning: install \"ipywidgets\" for Jupyter support\n",
       "  warnings.warn('install \"ipywidgets\" for Jupyter support')\n",
       "</pre>\n"
      ],
      "text/plain": [
       "/Users/Jorge/Library/Caches/pypoetry/virtualenvs/lorawan-chatbot-rag-llm-Kbm_Xz7B-py3.11/lib/python3.11/site-packag\n",
       "es/rich/live.py:231: UserWarning: install \"ipywidgets\" for Jupyter support\n",
       "  warnings.warn('install \"ipywidgets\" for Jupyter support')\n"
      ]
     },
     "metadata": {},
     "output_type": "display_data"
    },
    {
     "data": {
      "text/html": [
       "<pre style=\"white-space:pre;overflow-x:auto;line-height:normal;font-family:Menlo,'DejaVu Sans Mono',consolas,'Courier New',monospace\">/Users/Jorge/Library/Caches/pypoetry/virtualenvs/lorawan-chatbot-rag-llm-Kbm_Xz7B-py3.11/lib/python3.11/site-packag\n",
       "es/rich/live.py:231: UserWarning: install \"ipywidgets\" for Jupyter support\n",
       "  warnings.warn('install \"ipywidgets\" for Jupyter support')\n",
       "</pre>\n"
      ],
      "text/plain": [
       "/Users/Jorge/Library/Caches/pypoetry/virtualenvs/lorawan-chatbot-rag-llm-Kbm_Xz7B-py3.11/lib/python3.11/site-packag\n",
       "es/rich/live.py:231: UserWarning: install \"ipywidgets\" for Jupyter support\n",
       "  warnings.warn('install \"ipywidgets\" for Jupyter support')\n"
      ]
     },
     "metadata": {},
     "output_type": "display_data"
    },
    {
     "data": {
      "text/html": [
       "<pre style=\"white-space:pre;overflow-x:auto;line-height:normal;font-family:Menlo,'DejaVu Sans Mono',consolas,'Courier New',monospace\">/Users/Jorge/Library/Caches/pypoetry/virtualenvs/lorawan-chatbot-rag-llm-Kbm_Xz7B-py3.11/lib/python3.11/site-packag\n",
       "es/rich/live.py:231: UserWarning: install \"ipywidgets\" for Jupyter support\n",
       "  warnings.warn('install \"ipywidgets\" for Jupyter support')\n",
       "</pre>\n"
      ],
      "text/plain": [
       "/Users/Jorge/Library/Caches/pypoetry/virtualenvs/lorawan-chatbot-rag-llm-Kbm_Xz7B-py3.11/lib/python3.11/site-packag\n",
       "es/rich/live.py:231: UserWarning: install \"ipywidgets\" for Jupyter support\n",
       "  warnings.warn('install \"ipywidgets\" for Jupyter support')\n"
      ]
     },
     "metadata": {},
     "output_type": "display_data"
    },
    {
     "data": {
      "text/html": [
       "<pre style=\"white-space:pre;overflow-x:auto;line-height:normal;font-family:Menlo,'DejaVu Sans Mono',consolas,'Courier New',monospace\">/Users/Jorge/Library/Caches/pypoetry/virtualenvs/lorawan-chatbot-rag-llm-Kbm_Xz7B-py3.11/lib/python3.11/site-packag\n",
       "es/rich/live.py:231: UserWarning: install \"ipywidgets\" for Jupyter support\n",
       "  warnings.warn('install \"ipywidgets\" for Jupyter support')\n",
       "</pre>\n"
      ],
      "text/plain": [
       "/Users/Jorge/Library/Caches/pypoetry/virtualenvs/lorawan-chatbot-rag-llm-Kbm_Xz7B-py3.11/lib/python3.11/site-packag\n",
       "es/rich/live.py:231: UserWarning: install \"ipywidgets\" for Jupyter support\n",
       "  warnings.warn('install \"ipywidgets\" for Jupyter support')\n"
      ]
     },
     "metadata": {},
     "output_type": "display_data"
    },
    {
     "data": {
      "text/html": [
       "<pre style=\"white-space:pre;overflow-x:auto;line-height:normal;font-family:Menlo,'DejaVu Sans Mono',consolas,'Courier New',monospace\">/Users/Jorge/Library/Caches/pypoetry/virtualenvs/lorawan-chatbot-rag-llm-Kbm_Xz7B-py3.11/lib/python3.11/site-packag\n",
       "es/rich/live.py:231: UserWarning: install \"ipywidgets\" for Jupyter support\n",
       "  warnings.warn('install \"ipywidgets\" for Jupyter support')\n",
       "</pre>\n"
      ],
      "text/plain": [
       "/Users/Jorge/Library/Caches/pypoetry/virtualenvs/lorawan-chatbot-rag-llm-Kbm_Xz7B-py3.11/lib/python3.11/site-packag\n",
       "es/rich/live.py:231: UserWarning: install \"ipywidgets\" for Jupyter support\n",
       "  warnings.warn('install \"ipywidgets\" for Jupyter support')\n"
      ]
     },
     "metadata": {},
     "output_type": "display_data"
    },
    {
     "data": {
      "text/html": [
       "<pre style=\"white-space:pre;overflow-x:auto;line-height:normal;font-family:Menlo,'DejaVu Sans Mono',consolas,'Courier New',monospace\">/Users/Jorge/Library/Caches/pypoetry/virtualenvs/lorawan-chatbot-rag-llm-Kbm_Xz7B-py3.11/lib/python3.11/site-packag\n",
       "es/rich/live.py:231: UserWarning: install \"ipywidgets\" for Jupyter support\n",
       "  warnings.warn('install \"ipywidgets\" for Jupyter support')\n",
       "</pre>\n"
      ],
      "text/plain": [
       "/Users/Jorge/Library/Caches/pypoetry/virtualenvs/lorawan-chatbot-rag-llm-Kbm_Xz7B-py3.11/lib/python3.11/site-packag\n",
       "es/rich/live.py:231: UserWarning: install \"ipywidgets\" for Jupyter support\n",
       "  warnings.warn('install \"ipywidgets\" for Jupyter support')\n"
      ]
     },
     "metadata": {},
     "output_type": "display_data"
    },
    {
     "data": {
      "text/html": [
       "<pre style=\"white-space:pre;overflow-x:auto;line-height:normal;font-family:Menlo,'DejaVu Sans Mono',consolas,'Courier New',monospace\">/Users/Jorge/Library/Caches/pypoetry/virtualenvs/lorawan-chatbot-rag-llm-Kbm_Xz7B-py3.11/lib/python3.11/site-packag\n",
       "es/rich/live.py:231: UserWarning: install \"ipywidgets\" for Jupyter support\n",
       "  warnings.warn('install \"ipywidgets\" for Jupyter support')\n",
       "</pre>\n"
      ],
      "text/plain": [
       "/Users/Jorge/Library/Caches/pypoetry/virtualenvs/lorawan-chatbot-rag-llm-Kbm_Xz7B-py3.11/lib/python3.11/site-packag\n",
       "es/rich/live.py:231: UserWarning: install \"ipywidgets\" for Jupyter support\n",
       "  warnings.warn('install \"ipywidgets\" for Jupyter support')\n"
      ]
     },
     "metadata": {},
     "output_type": "display_data"
    },
    {
     "data": {
      "text/html": [
       "<pre style=\"white-space:pre;overflow-x:auto;line-height:normal;font-family:Menlo,'DejaVu Sans Mono',consolas,'Courier New',monospace\">/Users/Jorge/Library/Caches/pypoetry/virtualenvs/lorawan-chatbot-rag-llm-Kbm_Xz7B-py3.11/lib/python3.11/site-packag\n",
       "es/rich/live.py:231: UserWarning: install \"ipywidgets\" for Jupyter support\n",
       "  warnings.warn('install \"ipywidgets\" for Jupyter support')\n",
       "</pre>\n"
      ],
      "text/plain": [
       "/Users/Jorge/Library/Caches/pypoetry/virtualenvs/lorawan-chatbot-rag-llm-Kbm_Xz7B-py3.11/lib/python3.11/site-packag\n",
       "es/rich/live.py:231: UserWarning: install \"ipywidgets\" for Jupyter support\n",
       "  warnings.warn('install \"ipywidgets\" for Jupyter support')\n"
      ]
     },
     "metadata": {},
     "output_type": "display_data"
    },
    {
     "data": {
      "text/html": [
       "<pre style=\"white-space:pre;overflow-x:auto;line-height:normal;font-family:Menlo,'DejaVu Sans Mono',consolas,'Courier New',monospace\">/Users/Jorge/Library/Caches/pypoetry/virtualenvs/lorawan-chatbot-rag-llm-Kbm_Xz7B-py3.11/lib/python3.11/site-packag\n",
       "es/rich/live.py:231: UserWarning: install \"ipywidgets\" for Jupyter support\n",
       "  warnings.warn('install \"ipywidgets\" for Jupyter support')\n",
       "</pre>\n"
      ],
      "text/plain": [
       "/Users/Jorge/Library/Caches/pypoetry/virtualenvs/lorawan-chatbot-rag-llm-Kbm_Xz7B-py3.11/lib/python3.11/site-packag\n",
       "es/rich/live.py:231: UserWarning: install \"ipywidgets\" for Jupyter support\n",
       "  warnings.warn('install \"ipywidgets\" for Jupyter support')\n"
      ]
     },
     "metadata": {},
     "output_type": "display_data"
    },
    {
     "data": {
      "text/html": [
       "<pre style=\"white-space:pre;overflow-x:auto;line-height:normal;font-family:Menlo,'DejaVu Sans Mono',consolas,'Courier New',monospace\"></pre>\n"
      ],
      "text/plain": []
     },
     "metadata": {},
     "output_type": "display_data"
    },
    {
     "data": {
      "text/html": [
       "<pre style=\"white-space:pre;overflow-x:auto;line-height:normal;font-family:Menlo,'DejaVu Sans Mono',consolas,'Courier New',monospace\">\n",
       "</pre>\n"
      ],
      "text/plain": [
       "\n"
      ]
     },
     "metadata": {},
     "output_type": "display_data"
    },
    {
     "data": {
      "text/html": [
       "<pre style=\"white-space:pre;overflow-x:auto;line-height:normal;font-family:Menlo,'DejaVu Sans Mono',consolas,'Courier New',monospace\">/Users/Jorge/Library/Caches/pypoetry/virtualenvs/lorawan-chatbot-rag-llm-Kbm_Xz7B-py3.11/lib/python3.11/site-packag\n",
       "es/rich/live.py:231: UserWarning: install \"ipywidgets\" for Jupyter support\n",
       "  warnings.warn('install \"ipywidgets\" for Jupyter support')\n",
       "</pre>\n"
      ],
      "text/plain": [
       "/Users/Jorge/Library/Caches/pypoetry/virtualenvs/lorawan-chatbot-rag-llm-Kbm_Xz7B-py3.11/lib/python3.11/site-packag\n",
       "es/rich/live.py:231: UserWarning: install \"ipywidgets\" for Jupyter support\n",
       "  warnings.warn('install \"ipywidgets\" for Jupyter support')\n"
      ]
     },
     "metadata": {},
     "output_type": "display_data"
    },
    {
     "data": {
      "text/html": [
       "<pre style=\"white-space:pre;overflow-x:auto;line-height:normal;font-family:Menlo,'DejaVu Sans Mono',consolas,'Courier New',monospace\">/Users/Jorge/Library/Caches/pypoetry/virtualenvs/lorawan-chatbot-rag-llm-Kbm_Xz7B-py3.11/lib/python3.11/site-packag\n",
       "es/rich/live.py:231: UserWarning: install \"ipywidgets\" for Jupyter support\n",
       "  warnings.warn('install \"ipywidgets\" for Jupyter support')\n",
       "</pre>\n"
      ],
      "text/plain": [
       "/Users/Jorge/Library/Caches/pypoetry/virtualenvs/lorawan-chatbot-rag-llm-Kbm_Xz7B-py3.11/lib/python3.11/site-packag\n",
       "es/rich/live.py:231: UserWarning: install \"ipywidgets\" for Jupyter support\n",
       "  warnings.warn('install \"ipywidgets\" for Jupyter support')\n"
      ]
     },
     "metadata": {},
     "output_type": "display_data"
    },
    {
     "data": {
      "text/html": [
       "<pre style=\"white-space:pre;overflow-x:auto;line-height:normal;font-family:Menlo,'DejaVu Sans Mono',consolas,'Courier New',monospace\">/Users/Jorge/Library/Caches/pypoetry/virtualenvs/lorawan-chatbot-rag-llm-Kbm_Xz7B-py3.11/lib/python3.11/site-packag\n",
       "es/rich/live.py:231: UserWarning: install \"ipywidgets\" for Jupyter support\n",
       "  warnings.warn('install \"ipywidgets\" for Jupyter support')\n",
       "</pre>\n"
      ],
      "text/plain": [
       "/Users/Jorge/Library/Caches/pypoetry/virtualenvs/lorawan-chatbot-rag-llm-Kbm_Xz7B-py3.11/lib/python3.11/site-packag\n",
       "es/rich/live.py:231: UserWarning: install \"ipywidgets\" for Jupyter support\n",
       "  warnings.warn('install \"ipywidgets\" for Jupyter support')\n"
      ]
     },
     "metadata": {},
     "output_type": "display_data"
    },
    {
     "data": {
      "text/html": [
       "<pre style=\"white-space:pre;overflow-x:auto;line-height:normal;font-family:Menlo,'DejaVu Sans Mono',consolas,'Courier New',monospace\">/Users/Jorge/Library/Caches/pypoetry/virtualenvs/lorawan-chatbot-rag-llm-Kbm_Xz7B-py3.11/lib/python3.11/site-packag\n",
       "es/rich/live.py:231: UserWarning: install \"ipywidgets\" for Jupyter support\n",
       "  warnings.warn('install \"ipywidgets\" for Jupyter support')\n",
       "</pre>\n"
      ],
      "text/plain": [
       "/Users/Jorge/Library/Caches/pypoetry/virtualenvs/lorawan-chatbot-rag-llm-Kbm_Xz7B-py3.11/lib/python3.11/site-packag\n",
       "es/rich/live.py:231: UserWarning: install \"ipywidgets\" for Jupyter support\n",
       "  warnings.warn('install \"ipywidgets\" for Jupyter support')\n"
      ]
     },
     "metadata": {},
     "output_type": "display_data"
    },
    {
     "data": {
      "text/html": [
       "<pre style=\"white-space:pre;overflow-x:auto;line-height:normal;font-family:Menlo,'DejaVu Sans Mono',consolas,'Courier New',monospace\">/Users/Jorge/Library/Caches/pypoetry/virtualenvs/lorawan-chatbot-rag-llm-Kbm_Xz7B-py3.11/lib/python3.11/site-packag\n",
       "es/rich/live.py:231: UserWarning: install \"ipywidgets\" for Jupyter support\n",
       "  warnings.warn('install \"ipywidgets\" for Jupyter support')\n",
       "</pre>\n"
      ],
      "text/plain": [
       "/Users/Jorge/Library/Caches/pypoetry/virtualenvs/lorawan-chatbot-rag-llm-Kbm_Xz7B-py3.11/lib/python3.11/site-packag\n",
       "es/rich/live.py:231: UserWarning: install \"ipywidgets\" for Jupyter support\n",
       "  warnings.warn('install \"ipywidgets\" for Jupyter support')\n"
      ]
     },
     "metadata": {},
     "output_type": "display_data"
    },
    {
     "data": {
      "text/html": [
       "<pre style=\"white-space:pre;overflow-x:auto;line-height:normal;font-family:Menlo,'DejaVu Sans Mono',consolas,'Courier New',monospace\">/Users/Jorge/Library/Caches/pypoetry/virtualenvs/lorawan-chatbot-rag-llm-Kbm_Xz7B-py3.11/lib/python3.11/site-packag\n",
       "es/rich/live.py:231: UserWarning: install \"ipywidgets\" for Jupyter support\n",
       "  warnings.warn('install \"ipywidgets\" for Jupyter support')\n",
       "</pre>\n"
      ],
      "text/plain": [
       "/Users/Jorge/Library/Caches/pypoetry/virtualenvs/lorawan-chatbot-rag-llm-Kbm_Xz7B-py3.11/lib/python3.11/site-packag\n",
       "es/rich/live.py:231: UserWarning: install \"ipywidgets\" for Jupyter support\n",
       "  warnings.warn('install \"ipywidgets\" for Jupyter support')\n"
      ]
     },
     "metadata": {},
     "output_type": "display_data"
    },
    {
     "data": {
      "text/html": [
       "<pre style=\"white-space:pre;overflow-x:auto;line-height:normal;font-family:Menlo,'DejaVu Sans Mono',consolas,'Courier New',monospace\">/Users/Jorge/Library/Caches/pypoetry/virtualenvs/lorawan-chatbot-rag-llm-Kbm_Xz7B-py3.11/lib/python3.11/site-packag\n",
       "es/rich/live.py:231: UserWarning: install \"ipywidgets\" for Jupyter support\n",
       "  warnings.warn('install \"ipywidgets\" for Jupyter support')\n",
       "</pre>\n"
      ],
      "text/plain": [
       "/Users/Jorge/Library/Caches/pypoetry/virtualenvs/lorawan-chatbot-rag-llm-Kbm_Xz7B-py3.11/lib/python3.11/site-packag\n",
       "es/rich/live.py:231: UserWarning: install \"ipywidgets\" for Jupyter support\n",
       "  warnings.warn('install \"ipywidgets\" for Jupyter support')\n"
      ]
     },
     "metadata": {},
     "output_type": "display_data"
    },
    {
     "data": {
      "text/html": [
       "<pre style=\"white-space:pre;overflow-x:auto;line-height:normal;font-family:Menlo,'DejaVu Sans Mono',consolas,'Courier New',monospace\">/Users/Jorge/Library/Caches/pypoetry/virtualenvs/lorawan-chatbot-rag-llm-Kbm_Xz7B-py3.11/lib/python3.11/site-packag\n",
       "es/rich/live.py:231: UserWarning: install \"ipywidgets\" for Jupyter support\n",
       "  warnings.warn('install \"ipywidgets\" for Jupyter support')\n",
       "</pre>\n"
      ],
      "text/plain": [
       "/Users/Jorge/Library/Caches/pypoetry/virtualenvs/lorawan-chatbot-rag-llm-Kbm_Xz7B-py3.11/lib/python3.11/site-packag\n",
       "es/rich/live.py:231: UserWarning: install \"ipywidgets\" for Jupyter support\n",
       "  warnings.warn('install \"ipywidgets\" for Jupyter support')\n"
      ]
     },
     "metadata": {},
     "output_type": "display_data"
    },
    {
     "data": {
      "text/html": [
       "<pre style=\"white-space:pre;overflow-x:auto;line-height:normal;font-family:Menlo,'DejaVu Sans Mono',consolas,'Courier New',monospace\">/Users/Jorge/Library/Caches/pypoetry/virtualenvs/lorawan-chatbot-rag-llm-Kbm_Xz7B-py3.11/lib/python3.11/site-packag\n",
       "es/rich/live.py:231: UserWarning: install \"ipywidgets\" for Jupyter support\n",
       "  warnings.warn('install \"ipywidgets\" for Jupyter support')\n",
       "</pre>\n"
      ],
      "text/plain": [
       "/Users/Jorge/Library/Caches/pypoetry/virtualenvs/lorawan-chatbot-rag-llm-Kbm_Xz7B-py3.11/lib/python3.11/site-packag\n",
       "es/rich/live.py:231: UserWarning: install \"ipywidgets\" for Jupyter support\n",
       "  warnings.warn('install \"ipywidgets\" for Jupyter support')\n"
      ]
     },
     "metadata": {},
     "output_type": "display_data"
    },
    {
     "data": {
      "text/html": [
       "<pre style=\"white-space:pre;overflow-x:auto;line-height:normal;font-family:Menlo,'DejaVu Sans Mono',consolas,'Courier New',monospace\">/Users/Jorge/Library/Caches/pypoetry/virtualenvs/lorawan-chatbot-rag-llm-Kbm_Xz7B-py3.11/lib/python3.11/site-packag\n",
       "es/rich/live.py:231: UserWarning: install \"ipywidgets\" for Jupyter support\n",
       "  warnings.warn('install \"ipywidgets\" for Jupyter support')\n",
       "</pre>\n"
      ],
      "text/plain": [
       "/Users/Jorge/Library/Caches/pypoetry/virtualenvs/lorawan-chatbot-rag-llm-Kbm_Xz7B-py3.11/lib/python3.11/site-packag\n",
       "es/rich/live.py:231: UserWarning: install \"ipywidgets\" for Jupyter support\n",
       "  warnings.warn('install \"ipywidgets\" for Jupyter support')\n"
      ]
     },
     "metadata": {},
     "output_type": "display_data"
    },
    {
     "data": {
      "text/html": [
       "<pre style=\"white-space:pre;overflow-x:auto;line-height:normal;font-family:Menlo,'DejaVu Sans Mono',consolas,'Courier New',monospace\"></pre>\n"
      ],
      "text/plain": []
     },
     "metadata": {},
     "output_type": "display_data"
    },
    {
     "data": {
      "text/html": [
       "<pre style=\"white-space:pre;overflow-x:auto;line-height:normal;font-family:Menlo,'DejaVu Sans Mono',consolas,'Courier New',monospace\">\n",
       "</pre>\n"
      ],
      "text/plain": [
       "\n"
      ]
     },
     "metadata": {},
     "output_type": "display_data"
    },
    {
     "data": {
      "text/html": [
       "<pre style=\"white-space:pre;overflow-x:auto;line-height:normal;font-family:Menlo,'DejaVu Sans Mono',consolas,'Courier New',monospace\">/Users/Jorge/Library/Caches/pypoetry/virtualenvs/lorawan-chatbot-rag-llm-Kbm_Xz7B-py3.11/lib/python3.11/site-packag\n",
       "es/rich/live.py:231: UserWarning: install \"ipywidgets\" for Jupyter support\n",
       "  warnings.warn('install \"ipywidgets\" for Jupyter support')\n",
       "</pre>\n"
      ],
      "text/plain": [
       "/Users/Jorge/Library/Caches/pypoetry/virtualenvs/lorawan-chatbot-rag-llm-Kbm_Xz7B-py3.11/lib/python3.11/site-packag\n",
       "es/rich/live.py:231: UserWarning: install \"ipywidgets\" for Jupyter support\n",
       "  warnings.warn('install \"ipywidgets\" for Jupyter support')\n"
      ]
     },
     "metadata": {},
     "output_type": "display_data"
    },
    {
     "data": {
      "text/html": [
       "<pre style=\"white-space:pre;overflow-x:auto;line-height:normal;font-family:Menlo,'DejaVu Sans Mono',consolas,'Courier New',monospace\">/Users/Jorge/Library/Caches/pypoetry/virtualenvs/lorawan-chatbot-rag-llm-Kbm_Xz7B-py3.11/lib/python3.11/site-packag\n",
       "es/rich/live.py:231: UserWarning: install \"ipywidgets\" for Jupyter support\n",
       "  warnings.warn('install \"ipywidgets\" for Jupyter support')\n",
       "</pre>\n"
      ],
      "text/plain": [
       "/Users/Jorge/Library/Caches/pypoetry/virtualenvs/lorawan-chatbot-rag-llm-Kbm_Xz7B-py3.11/lib/python3.11/site-packag\n",
       "es/rich/live.py:231: UserWarning: install \"ipywidgets\" for Jupyter support\n",
       "  warnings.warn('install \"ipywidgets\" for Jupyter support')\n"
      ]
     },
     "metadata": {},
     "output_type": "display_data"
    },
    {
     "data": {
      "text/html": [
       "<pre style=\"white-space:pre;overflow-x:auto;line-height:normal;font-family:Menlo,'DejaVu Sans Mono',consolas,'Courier New',monospace\">/Users/Jorge/Library/Caches/pypoetry/virtualenvs/lorawan-chatbot-rag-llm-Kbm_Xz7B-py3.11/lib/python3.11/site-packag\n",
       "es/rich/live.py:231: UserWarning: install \"ipywidgets\" for Jupyter support\n",
       "  warnings.warn('install \"ipywidgets\" for Jupyter support')\n",
       "</pre>\n"
      ],
      "text/plain": [
       "/Users/Jorge/Library/Caches/pypoetry/virtualenvs/lorawan-chatbot-rag-llm-Kbm_Xz7B-py3.11/lib/python3.11/site-packag\n",
       "es/rich/live.py:231: UserWarning: install \"ipywidgets\" for Jupyter support\n",
       "  warnings.warn('install \"ipywidgets\" for Jupyter support')\n"
      ]
     },
     "metadata": {},
     "output_type": "display_data"
    },
    {
     "data": {
      "text/html": [
       "<pre style=\"white-space:pre;overflow-x:auto;line-height:normal;font-family:Menlo,'DejaVu Sans Mono',consolas,'Courier New',monospace\">/Users/Jorge/Library/Caches/pypoetry/virtualenvs/lorawan-chatbot-rag-llm-Kbm_Xz7B-py3.11/lib/python3.11/site-packag\n",
       "es/rich/live.py:231: UserWarning: install \"ipywidgets\" for Jupyter support\n",
       "  warnings.warn('install \"ipywidgets\" for Jupyter support')\n",
       "</pre>\n"
      ],
      "text/plain": [
       "/Users/Jorge/Library/Caches/pypoetry/virtualenvs/lorawan-chatbot-rag-llm-Kbm_Xz7B-py3.11/lib/python3.11/site-packag\n",
       "es/rich/live.py:231: UserWarning: install \"ipywidgets\" for Jupyter support\n",
       "  warnings.warn('install \"ipywidgets\" for Jupyter support')\n"
      ]
     },
     "metadata": {},
     "output_type": "display_data"
    },
    {
     "data": {
      "text/html": [
       "<pre style=\"white-space:pre;overflow-x:auto;line-height:normal;font-family:Menlo,'DejaVu Sans Mono',consolas,'Courier New',monospace\">/Users/Jorge/Library/Caches/pypoetry/virtualenvs/lorawan-chatbot-rag-llm-Kbm_Xz7B-py3.11/lib/python3.11/site-packag\n",
       "es/rich/live.py:231: UserWarning: install \"ipywidgets\" for Jupyter support\n",
       "  warnings.warn('install \"ipywidgets\" for Jupyter support')\n",
       "</pre>\n"
      ],
      "text/plain": [
       "/Users/Jorge/Library/Caches/pypoetry/virtualenvs/lorawan-chatbot-rag-llm-Kbm_Xz7B-py3.11/lib/python3.11/site-packag\n",
       "es/rich/live.py:231: UserWarning: install \"ipywidgets\" for Jupyter support\n",
       "  warnings.warn('install \"ipywidgets\" for Jupyter support')\n"
      ]
     },
     "metadata": {},
     "output_type": "display_data"
    },
    {
     "data": {
      "text/html": [
       "<pre style=\"white-space:pre;overflow-x:auto;line-height:normal;font-family:Menlo,'DejaVu Sans Mono',consolas,'Courier New',monospace\">/Users/Jorge/Library/Caches/pypoetry/virtualenvs/lorawan-chatbot-rag-llm-Kbm_Xz7B-py3.11/lib/python3.11/site-packag\n",
       "es/rich/live.py:231: UserWarning: install \"ipywidgets\" for Jupyter support\n",
       "  warnings.warn('install \"ipywidgets\" for Jupyter support')\n",
       "</pre>\n"
      ],
      "text/plain": [
       "/Users/Jorge/Library/Caches/pypoetry/virtualenvs/lorawan-chatbot-rag-llm-Kbm_Xz7B-py3.11/lib/python3.11/site-packag\n",
       "es/rich/live.py:231: UserWarning: install \"ipywidgets\" for Jupyter support\n",
       "  warnings.warn('install \"ipywidgets\" for Jupyter support')\n"
      ]
     },
     "metadata": {},
     "output_type": "display_data"
    },
    {
     "data": {
      "text/html": [
       "<pre style=\"white-space:pre;overflow-x:auto;line-height:normal;font-family:Menlo,'DejaVu Sans Mono',consolas,'Courier New',monospace\">/Users/Jorge/Library/Caches/pypoetry/virtualenvs/lorawan-chatbot-rag-llm-Kbm_Xz7B-py3.11/lib/python3.11/site-packag\n",
       "es/rich/live.py:231: UserWarning: install \"ipywidgets\" for Jupyter support\n",
       "  warnings.warn('install \"ipywidgets\" for Jupyter support')\n",
       "</pre>\n"
      ],
      "text/plain": [
       "/Users/Jorge/Library/Caches/pypoetry/virtualenvs/lorawan-chatbot-rag-llm-Kbm_Xz7B-py3.11/lib/python3.11/site-packag\n",
       "es/rich/live.py:231: UserWarning: install \"ipywidgets\" for Jupyter support\n",
       "  warnings.warn('install \"ipywidgets\" for Jupyter support')\n"
      ]
     },
     "metadata": {},
     "output_type": "display_data"
    },
    {
     "data": {
      "text/html": [
       "<pre style=\"white-space:pre;overflow-x:auto;line-height:normal;font-family:Menlo,'DejaVu Sans Mono',consolas,'Courier New',monospace\">/Users/Jorge/Library/Caches/pypoetry/virtualenvs/lorawan-chatbot-rag-llm-Kbm_Xz7B-py3.11/lib/python3.11/site-packag\n",
       "es/rich/live.py:231: UserWarning: install \"ipywidgets\" for Jupyter support\n",
       "  warnings.warn('install \"ipywidgets\" for Jupyter support')\n",
       "</pre>\n"
      ],
      "text/plain": [
       "/Users/Jorge/Library/Caches/pypoetry/virtualenvs/lorawan-chatbot-rag-llm-Kbm_Xz7B-py3.11/lib/python3.11/site-packag\n",
       "es/rich/live.py:231: UserWarning: install \"ipywidgets\" for Jupyter support\n",
       "  warnings.warn('install \"ipywidgets\" for Jupyter support')\n"
      ]
     },
     "metadata": {},
     "output_type": "display_data"
    },
    {
     "data": {
      "text/html": [
       "<pre style=\"white-space:pre;overflow-x:auto;line-height:normal;font-family:Menlo,'DejaVu Sans Mono',consolas,'Courier New',monospace\">/Users/Jorge/Library/Caches/pypoetry/virtualenvs/lorawan-chatbot-rag-llm-Kbm_Xz7B-py3.11/lib/python3.11/site-packag\n",
       "es/rich/live.py:231: UserWarning: install \"ipywidgets\" for Jupyter support\n",
       "  warnings.warn('install \"ipywidgets\" for Jupyter support')\n",
       "</pre>\n"
      ],
      "text/plain": [
       "/Users/Jorge/Library/Caches/pypoetry/virtualenvs/lorawan-chatbot-rag-llm-Kbm_Xz7B-py3.11/lib/python3.11/site-packag\n",
       "es/rich/live.py:231: UserWarning: install \"ipywidgets\" for Jupyter support\n",
       "  warnings.warn('install \"ipywidgets\" for Jupyter support')\n"
      ]
     },
     "metadata": {},
     "output_type": "display_data"
    },
    {
     "data": {
      "text/html": [
       "<pre style=\"white-space:pre;overflow-x:auto;line-height:normal;font-family:Menlo,'DejaVu Sans Mono',consolas,'Courier New',monospace\">/Users/Jorge/Library/Caches/pypoetry/virtualenvs/lorawan-chatbot-rag-llm-Kbm_Xz7B-py3.11/lib/python3.11/site-packag\n",
       "es/rich/live.py:231: UserWarning: install \"ipywidgets\" for Jupyter support\n",
       "  warnings.warn('install \"ipywidgets\" for Jupyter support')\n",
       "</pre>\n"
      ],
      "text/plain": [
       "/Users/Jorge/Library/Caches/pypoetry/virtualenvs/lorawan-chatbot-rag-llm-Kbm_Xz7B-py3.11/lib/python3.11/site-packag\n",
       "es/rich/live.py:231: UserWarning: install \"ipywidgets\" for Jupyter support\n",
       "  warnings.warn('install \"ipywidgets\" for Jupyter support')\n"
      ]
     },
     "metadata": {},
     "output_type": "display_data"
    },
    {
     "data": {
      "text/html": [
       "<pre style=\"white-space:pre;overflow-x:auto;line-height:normal;font-family:Menlo,'DejaVu Sans Mono',consolas,'Courier New',monospace\"></pre>\n"
      ],
      "text/plain": []
     },
     "metadata": {},
     "output_type": "display_data"
    },
    {
     "data": {
      "text/html": [
       "<pre style=\"white-space:pre;overflow-x:auto;line-height:normal;font-family:Menlo,'DejaVu Sans Mono',consolas,'Courier New',monospace\">\n",
       "</pre>\n"
      ],
      "text/plain": [
       "\n"
      ]
     },
     "metadata": {},
     "output_type": "display_data"
    },
    {
     "data": {
      "text/html": [
       "<pre style=\"white-space:pre;overflow-x:auto;line-height:normal;font-family:Menlo,'DejaVu Sans Mono',consolas,'Courier New',monospace\">/Users/Jorge/Library/Caches/pypoetry/virtualenvs/lorawan-chatbot-rag-llm-Kbm_Xz7B-py3.11/lib/python3.11/site-packag\n",
       "es/rich/live.py:231: UserWarning: install \"ipywidgets\" for Jupyter support\n",
       "  warnings.warn('install \"ipywidgets\" for Jupyter support')\n",
       "</pre>\n"
      ],
      "text/plain": [
       "/Users/Jorge/Library/Caches/pypoetry/virtualenvs/lorawan-chatbot-rag-llm-Kbm_Xz7B-py3.11/lib/python3.11/site-packag\n",
       "es/rich/live.py:231: UserWarning: install \"ipywidgets\" for Jupyter support\n",
       "  warnings.warn('install \"ipywidgets\" for Jupyter support')\n"
      ]
     },
     "metadata": {},
     "output_type": "display_data"
    },
    {
     "data": {
      "text/html": [
       "<pre style=\"white-space:pre;overflow-x:auto;line-height:normal;font-family:Menlo,'DejaVu Sans Mono',consolas,'Courier New',monospace\">/Users/Jorge/Library/Caches/pypoetry/virtualenvs/lorawan-chatbot-rag-llm-Kbm_Xz7B-py3.11/lib/python3.11/site-packag\n",
       "es/rich/live.py:231: UserWarning: install \"ipywidgets\" for Jupyter support\n",
       "  warnings.warn('install \"ipywidgets\" for Jupyter support')\n",
       "</pre>\n"
      ],
      "text/plain": [
       "/Users/Jorge/Library/Caches/pypoetry/virtualenvs/lorawan-chatbot-rag-llm-Kbm_Xz7B-py3.11/lib/python3.11/site-packag\n",
       "es/rich/live.py:231: UserWarning: install \"ipywidgets\" for Jupyter support\n",
       "  warnings.warn('install \"ipywidgets\" for Jupyter support')\n"
      ]
     },
     "metadata": {},
     "output_type": "display_data"
    },
    {
     "data": {
      "text/html": [
       "<pre style=\"white-space:pre;overflow-x:auto;line-height:normal;font-family:Menlo,'DejaVu Sans Mono',consolas,'Courier New',monospace\">/Users/Jorge/Library/Caches/pypoetry/virtualenvs/lorawan-chatbot-rag-llm-Kbm_Xz7B-py3.11/lib/python3.11/site-packag\n",
       "es/rich/live.py:231: UserWarning: install \"ipywidgets\" for Jupyter support\n",
       "  warnings.warn('install \"ipywidgets\" for Jupyter support')\n",
       "</pre>\n"
      ],
      "text/plain": [
       "/Users/Jorge/Library/Caches/pypoetry/virtualenvs/lorawan-chatbot-rag-llm-Kbm_Xz7B-py3.11/lib/python3.11/site-packag\n",
       "es/rich/live.py:231: UserWarning: install \"ipywidgets\" for Jupyter support\n",
       "  warnings.warn('install \"ipywidgets\" for Jupyter support')\n"
      ]
     },
     "metadata": {},
     "output_type": "display_data"
    },
    {
     "data": {
      "text/html": [
       "<pre style=\"white-space:pre;overflow-x:auto;line-height:normal;font-family:Menlo,'DejaVu Sans Mono',consolas,'Courier New',monospace\">/Users/Jorge/Library/Caches/pypoetry/virtualenvs/lorawan-chatbot-rag-llm-Kbm_Xz7B-py3.11/lib/python3.11/site-packag\n",
       "es/rich/live.py:231: UserWarning: install \"ipywidgets\" for Jupyter support\n",
       "  warnings.warn('install \"ipywidgets\" for Jupyter support')\n",
       "</pre>\n"
      ],
      "text/plain": [
       "/Users/Jorge/Library/Caches/pypoetry/virtualenvs/lorawan-chatbot-rag-llm-Kbm_Xz7B-py3.11/lib/python3.11/site-packag\n",
       "es/rich/live.py:231: UserWarning: install \"ipywidgets\" for Jupyter support\n",
       "  warnings.warn('install \"ipywidgets\" for Jupyter support')\n"
      ]
     },
     "metadata": {},
     "output_type": "display_data"
    },
    {
     "data": {
      "text/html": [
       "<pre style=\"white-space:pre;overflow-x:auto;line-height:normal;font-family:Menlo,'DejaVu Sans Mono',consolas,'Courier New',monospace\">/Users/Jorge/Library/Caches/pypoetry/virtualenvs/lorawan-chatbot-rag-llm-Kbm_Xz7B-py3.11/lib/python3.11/site-packag\n",
       "es/rich/live.py:231: UserWarning: install \"ipywidgets\" for Jupyter support\n",
       "  warnings.warn('install \"ipywidgets\" for Jupyter support')\n",
       "</pre>\n"
      ],
      "text/plain": [
       "/Users/Jorge/Library/Caches/pypoetry/virtualenvs/lorawan-chatbot-rag-llm-Kbm_Xz7B-py3.11/lib/python3.11/site-packag\n",
       "es/rich/live.py:231: UserWarning: install \"ipywidgets\" for Jupyter support\n",
       "  warnings.warn('install \"ipywidgets\" for Jupyter support')\n"
      ]
     },
     "metadata": {},
     "output_type": "display_data"
    },
    {
     "data": {
      "text/html": [
       "<pre style=\"white-space:pre;overflow-x:auto;line-height:normal;font-family:Menlo,'DejaVu Sans Mono',consolas,'Courier New',monospace\">/Users/Jorge/Library/Caches/pypoetry/virtualenvs/lorawan-chatbot-rag-llm-Kbm_Xz7B-py3.11/lib/python3.11/site-packag\n",
       "es/rich/live.py:231: UserWarning: install \"ipywidgets\" for Jupyter support\n",
       "  warnings.warn('install \"ipywidgets\" for Jupyter support')\n",
       "</pre>\n"
      ],
      "text/plain": [
       "/Users/Jorge/Library/Caches/pypoetry/virtualenvs/lorawan-chatbot-rag-llm-Kbm_Xz7B-py3.11/lib/python3.11/site-packag\n",
       "es/rich/live.py:231: UserWarning: install \"ipywidgets\" for Jupyter support\n",
       "  warnings.warn('install \"ipywidgets\" for Jupyter support')\n"
      ]
     },
     "metadata": {},
     "output_type": "display_data"
    },
    {
     "data": {
      "text/html": [
       "<pre style=\"white-space:pre;overflow-x:auto;line-height:normal;font-family:Menlo,'DejaVu Sans Mono',consolas,'Courier New',monospace\">/Users/Jorge/Library/Caches/pypoetry/virtualenvs/lorawan-chatbot-rag-llm-Kbm_Xz7B-py3.11/lib/python3.11/site-packag\n",
       "es/rich/live.py:231: UserWarning: install \"ipywidgets\" for Jupyter support\n",
       "  warnings.warn('install \"ipywidgets\" for Jupyter support')\n",
       "</pre>\n"
      ],
      "text/plain": [
       "/Users/Jorge/Library/Caches/pypoetry/virtualenvs/lorawan-chatbot-rag-llm-Kbm_Xz7B-py3.11/lib/python3.11/site-packag\n",
       "es/rich/live.py:231: UserWarning: install \"ipywidgets\" for Jupyter support\n",
       "  warnings.warn('install \"ipywidgets\" for Jupyter support')\n"
      ]
     },
     "metadata": {},
     "output_type": "display_data"
    },
    {
     "data": {
      "text/html": [
       "<pre style=\"white-space:pre;overflow-x:auto;line-height:normal;font-family:Menlo,'DejaVu Sans Mono',consolas,'Courier New',monospace\">/Users/Jorge/Library/Caches/pypoetry/virtualenvs/lorawan-chatbot-rag-llm-Kbm_Xz7B-py3.11/lib/python3.11/site-packag\n",
       "es/rich/live.py:231: UserWarning: install \"ipywidgets\" for Jupyter support\n",
       "  warnings.warn('install \"ipywidgets\" for Jupyter support')\n",
       "</pre>\n"
      ],
      "text/plain": [
       "/Users/Jorge/Library/Caches/pypoetry/virtualenvs/lorawan-chatbot-rag-llm-Kbm_Xz7B-py3.11/lib/python3.11/site-packag\n",
       "es/rich/live.py:231: UserWarning: install \"ipywidgets\" for Jupyter support\n",
       "  warnings.warn('install \"ipywidgets\" for Jupyter support')\n"
      ]
     },
     "metadata": {},
     "output_type": "display_data"
    },
    {
     "data": {
      "text/html": [
       "<pre style=\"white-space:pre;overflow-x:auto;line-height:normal;font-family:Menlo,'DejaVu Sans Mono',consolas,'Courier New',monospace\">/Users/Jorge/Library/Caches/pypoetry/virtualenvs/lorawan-chatbot-rag-llm-Kbm_Xz7B-py3.11/lib/python3.11/site-packag\n",
       "es/rich/live.py:231: UserWarning: install \"ipywidgets\" for Jupyter support\n",
       "  warnings.warn('install \"ipywidgets\" for Jupyter support')\n",
       "</pre>\n"
      ],
      "text/plain": [
       "/Users/Jorge/Library/Caches/pypoetry/virtualenvs/lorawan-chatbot-rag-llm-Kbm_Xz7B-py3.11/lib/python3.11/site-packag\n",
       "es/rich/live.py:231: UserWarning: install \"ipywidgets\" for Jupyter support\n",
       "  warnings.warn('install \"ipywidgets\" for Jupyter support')\n"
      ]
     },
     "metadata": {},
     "output_type": "display_data"
    },
    {
     "data": {
      "text/html": [
       "<pre style=\"white-space:pre;overflow-x:auto;line-height:normal;font-family:Menlo,'DejaVu Sans Mono',consolas,'Courier New',monospace\">/Users/Jorge/Library/Caches/pypoetry/virtualenvs/lorawan-chatbot-rag-llm-Kbm_Xz7B-py3.11/lib/python3.11/site-packag\n",
       "es/rich/live.py:231: UserWarning: install \"ipywidgets\" for Jupyter support\n",
       "  warnings.warn('install \"ipywidgets\" for Jupyter support')\n",
       "</pre>\n"
      ],
      "text/plain": [
       "/Users/Jorge/Library/Caches/pypoetry/virtualenvs/lorawan-chatbot-rag-llm-Kbm_Xz7B-py3.11/lib/python3.11/site-packag\n",
       "es/rich/live.py:231: UserWarning: install \"ipywidgets\" for Jupyter support\n",
       "  warnings.warn('install \"ipywidgets\" for Jupyter support')\n"
      ]
     },
     "metadata": {},
     "output_type": "display_data"
    },
    {
     "data": {
      "text/html": [
       "<pre style=\"white-space:pre;overflow-x:auto;line-height:normal;font-family:Menlo,'DejaVu Sans Mono',consolas,'Courier New',monospace\"></pre>\n"
      ],
      "text/plain": []
     },
     "metadata": {},
     "output_type": "display_data"
    },
    {
     "data": {
      "text/html": [
       "<pre style=\"white-space:pre;overflow-x:auto;line-height:normal;font-family:Menlo,'DejaVu Sans Mono',consolas,'Courier New',monospace\">\n",
       "</pre>\n"
      ],
      "text/plain": [
       "\n"
      ]
     },
     "metadata": {},
     "output_type": "display_data"
    },
    {
     "data": {
      "text/html": [
       "<pre style=\"white-space:pre;overflow-x:auto;line-height:normal;font-family:Menlo,'DejaVu Sans Mono',consolas,'Courier New',monospace\">/Users/Jorge/Library/Caches/pypoetry/virtualenvs/lorawan-chatbot-rag-llm-Kbm_Xz7B-py3.11/lib/python3.11/site-packag\n",
       "es/rich/live.py:231: UserWarning: install \"ipywidgets\" for Jupyter support\n",
       "  warnings.warn('install \"ipywidgets\" for Jupyter support')\n",
       "</pre>\n"
      ],
      "text/plain": [
       "/Users/Jorge/Library/Caches/pypoetry/virtualenvs/lorawan-chatbot-rag-llm-Kbm_Xz7B-py3.11/lib/python3.11/site-packag\n",
       "es/rich/live.py:231: UserWarning: install \"ipywidgets\" for Jupyter support\n",
       "  warnings.warn('install \"ipywidgets\" for Jupyter support')\n"
      ]
     },
     "metadata": {},
     "output_type": "display_data"
    },
    {
     "data": {
      "text/html": [
       "<pre style=\"white-space:pre;overflow-x:auto;line-height:normal;font-family:Menlo,'DejaVu Sans Mono',consolas,'Courier New',monospace\">/Users/Jorge/Library/Caches/pypoetry/virtualenvs/lorawan-chatbot-rag-llm-Kbm_Xz7B-py3.11/lib/python3.11/site-packag\n",
       "es/rich/live.py:231: UserWarning: install \"ipywidgets\" for Jupyter support\n",
       "  warnings.warn('install \"ipywidgets\" for Jupyter support')\n",
       "</pre>\n"
      ],
      "text/plain": [
       "/Users/Jorge/Library/Caches/pypoetry/virtualenvs/lorawan-chatbot-rag-llm-Kbm_Xz7B-py3.11/lib/python3.11/site-packag\n",
       "es/rich/live.py:231: UserWarning: install \"ipywidgets\" for Jupyter support\n",
       "  warnings.warn('install \"ipywidgets\" for Jupyter support')\n"
      ]
     },
     "metadata": {},
     "output_type": "display_data"
    },
    {
     "data": {
      "text/html": [
       "<pre style=\"white-space:pre;overflow-x:auto;line-height:normal;font-family:Menlo,'DejaVu Sans Mono',consolas,'Courier New',monospace\">/Users/Jorge/Library/Caches/pypoetry/virtualenvs/lorawan-chatbot-rag-llm-Kbm_Xz7B-py3.11/lib/python3.11/site-packag\n",
       "es/rich/live.py:231: UserWarning: install \"ipywidgets\" for Jupyter support\n",
       "  warnings.warn('install \"ipywidgets\" for Jupyter support')\n",
       "</pre>\n"
      ],
      "text/plain": [
       "/Users/Jorge/Library/Caches/pypoetry/virtualenvs/lorawan-chatbot-rag-llm-Kbm_Xz7B-py3.11/lib/python3.11/site-packag\n",
       "es/rich/live.py:231: UserWarning: install \"ipywidgets\" for Jupyter support\n",
       "  warnings.warn('install \"ipywidgets\" for Jupyter support')\n"
      ]
     },
     "metadata": {},
     "output_type": "display_data"
    },
    {
     "data": {
      "text/html": [
       "<pre style=\"white-space:pre;overflow-x:auto;line-height:normal;font-family:Menlo,'DejaVu Sans Mono',consolas,'Courier New',monospace\">/Users/Jorge/Library/Caches/pypoetry/virtualenvs/lorawan-chatbot-rag-llm-Kbm_Xz7B-py3.11/lib/python3.11/site-packag\n",
       "es/rich/live.py:231: UserWarning: install \"ipywidgets\" for Jupyter support\n",
       "  warnings.warn('install \"ipywidgets\" for Jupyter support')\n",
       "</pre>\n"
      ],
      "text/plain": [
       "/Users/Jorge/Library/Caches/pypoetry/virtualenvs/lorawan-chatbot-rag-llm-Kbm_Xz7B-py3.11/lib/python3.11/site-packag\n",
       "es/rich/live.py:231: UserWarning: install \"ipywidgets\" for Jupyter support\n",
       "  warnings.warn('install \"ipywidgets\" for Jupyter support')\n"
      ]
     },
     "metadata": {},
     "output_type": "display_data"
    },
    {
     "data": {
      "text/html": [
       "<pre style=\"white-space:pre;overflow-x:auto;line-height:normal;font-family:Menlo,'DejaVu Sans Mono',consolas,'Courier New',monospace\">/Users/Jorge/Library/Caches/pypoetry/virtualenvs/lorawan-chatbot-rag-llm-Kbm_Xz7B-py3.11/lib/python3.11/site-packag\n",
       "es/rich/live.py:231: UserWarning: install \"ipywidgets\" for Jupyter support\n",
       "  warnings.warn('install \"ipywidgets\" for Jupyter support')\n",
       "</pre>\n"
      ],
      "text/plain": [
       "/Users/Jorge/Library/Caches/pypoetry/virtualenvs/lorawan-chatbot-rag-llm-Kbm_Xz7B-py3.11/lib/python3.11/site-packag\n",
       "es/rich/live.py:231: UserWarning: install \"ipywidgets\" for Jupyter support\n",
       "  warnings.warn('install \"ipywidgets\" for Jupyter support')\n"
      ]
     },
     "metadata": {},
     "output_type": "display_data"
    },
    {
     "data": {
      "text/html": [
       "<pre style=\"white-space:pre;overflow-x:auto;line-height:normal;font-family:Menlo,'DejaVu Sans Mono',consolas,'Courier New',monospace\">/Users/Jorge/Library/Caches/pypoetry/virtualenvs/lorawan-chatbot-rag-llm-Kbm_Xz7B-py3.11/lib/python3.11/site-packag\n",
       "es/rich/live.py:231: UserWarning: install \"ipywidgets\" for Jupyter support\n",
       "  warnings.warn('install \"ipywidgets\" for Jupyter support')\n",
       "</pre>\n"
      ],
      "text/plain": [
       "/Users/Jorge/Library/Caches/pypoetry/virtualenvs/lorawan-chatbot-rag-llm-Kbm_Xz7B-py3.11/lib/python3.11/site-packag\n",
       "es/rich/live.py:231: UserWarning: install \"ipywidgets\" for Jupyter support\n",
       "  warnings.warn('install \"ipywidgets\" for Jupyter support')\n"
      ]
     },
     "metadata": {},
     "output_type": "display_data"
    },
    {
     "data": {
      "text/html": [
       "<pre style=\"white-space:pre;overflow-x:auto;line-height:normal;font-family:Menlo,'DejaVu Sans Mono',consolas,'Courier New',monospace\">/Users/Jorge/Library/Caches/pypoetry/virtualenvs/lorawan-chatbot-rag-llm-Kbm_Xz7B-py3.11/lib/python3.11/site-packag\n",
       "es/rich/live.py:231: UserWarning: install \"ipywidgets\" for Jupyter support\n",
       "  warnings.warn('install \"ipywidgets\" for Jupyter support')\n",
       "</pre>\n"
      ],
      "text/plain": [
       "/Users/Jorge/Library/Caches/pypoetry/virtualenvs/lorawan-chatbot-rag-llm-Kbm_Xz7B-py3.11/lib/python3.11/site-packag\n",
       "es/rich/live.py:231: UserWarning: install \"ipywidgets\" for Jupyter support\n",
       "  warnings.warn('install \"ipywidgets\" for Jupyter support')\n"
      ]
     },
     "metadata": {},
     "output_type": "display_data"
    },
    {
     "data": {
      "text/html": [
       "<pre style=\"white-space:pre;overflow-x:auto;line-height:normal;font-family:Menlo,'DejaVu Sans Mono',consolas,'Courier New',monospace\">/Users/Jorge/Library/Caches/pypoetry/virtualenvs/lorawan-chatbot-rag-llm-Kbm_Xz7B-py3.11/lib/python3.11/site-packag\n",
       "es/rich/live.py:231: UserWarning: install \"ipywidgets\" for Jupyter support\n",
       "  warnings.warn('install \"ipywidgets\" for Jupyter support')\n",
       "</pre>\n"
      ],
      "text/plain": [
       "/Users/Jorge/Library/Caches/pypoetry/virtualenvs/lorawan-chatbot-rag-llm-Kbm_Xz7B-py3.11/lib/python3.11/site-packag\n",
       "es/rich/live.py:231: UserWarning: install \"ipywidgets\" for Jupyter support\n",
       "  warnings.warn('install \"ipywidgets\" for Jupyter support')\n"
      ]
     },
     "metadata": {},
     "output_type": "display_data"
    },
    {
     "data": {
      "text/html": [
       "<pre style=\"white-space:pre;overflow-x:auto;line-height:normal;font-family:Menlo,'DejaVu Sans Mono',consolas,'Courier New',monospace\">/Users/Jorge/Library/Caches/pypoetry/virtualenvs/lorawan-chatbot-rag-llm-Kbm_Xz7B-py3.11/lib/python3.11/site-packag\n",
       "es/rich/live.py:231: UserWarning: install \"ipywidgets\" for Jupyter support\n",
       "  warnings.warn('install \"ipywidgets\" for Jupyter support')\n",
       "</pre>\n"
      ],
      "text/plain": [
       "/Users/Jorge/Library/Caches/pypoetry/virtualenvs/lorawan-chatbot-rag-llm-Kbm_Xz7B-py3.11/lib/python3.11/site-packag\n",
       "es/rich/live.py:231: UserWarning: install \"ipywidgets\" for Jupyter support\n",
       "  warnings.warn('install \"ipywidgets\" for Jupyter support')\n"
      ]
     },
     "metadata": {},
     "output_type": "display_data"
    },
    {
     "data": {
      "text/html": [
       "<pre style=\"white-space:pre;overflow-x:auto;line-height:normal;font-family:Menlo,'DejaVu Sans Mono',consolas,'Courier New',monospace\">/Users/Jorge/Library/Caches/pypoetry/virtualenvs/lorawan-chatbot-rag-llm-Kbm_Xz7B-py3.11/lib/python3.11/site-packag\n",
       "es/rich/live.py:231: UserWarning: install \"ipywidgets\" for Jupyter support\n",
       "  warnings.warn('install \"ipywidgets\" for Jupyter support')\n",
       "</pre>\n"
      ],
      "text/plain": [
       "/Users/Jorge/Library/Caches/pypoetry/virtualenvs/lorawan-chatbot-rag-llm-Kbm_Xz7B-py3.11/lib/python3.11/site-packag\n",
       "es/rich/live.py:231: UserWarning: install \"ipywidgets\" for Jupyter support\n",
       "  warnings.warn('install \"ipywidgets\" for Jupyter support')\n"
      ]
     },
     "metadata": {},
     "output_type": "display_data"
    },
    {
     "data": {
      "text/html": [
       "<pre style=\"white-space:pre;overflow-x:auto;line-height:normal;font-family:Menlo,'DejaVu Sans Mono',consolas,'Courier New',monospace\"></pre>\n"
      ],
      "text/plain": []
     },
     "metadata": {},
     "output_type": "display_data"
    },
    {
     "data": {
      "text/html": [
       "<pre style=\"white-space:pre;overflow-x:auto;line-height:normal;font-family:Menlo,'DejaVu Sans Mono',consolas,'Courier New',monospace\">\n",
       "</pre>\n"
      ],
      "text/plain": [
       "\n"
      ]
     },
     "metadata": {},
     "output_type": "display_data"
    },
    {
     "data": {
      "text/html": [
       "<pre style=\"white-space:pre;overflow-x:auto;line-height:normal;font-family:Menlo,'DejaVu Sans Mono',consolas,'Courier New',monospace\">/Users/Jorge/Library/Caches/pypoetry/virtualenvs/lorawan-chatbot-rag-llm-Kbm_Xz7B-py3.11/lib/python3.11/site-packag\n",
       "es/rich/live.py:231: UserWarning: install \"ipywidgets\" for Jupyter support\n",
       "  warnings.warn('install \"ipywidgets\" for Jupyter support')\n",
       "</pre>\n"
      ],
      "text/plain": [
       "/Users/Jorge/Library/Caches/pypoetry/virtualenvs/lorawan-chatbot-rag-llm-Kbm_Xz7B-py3.11/lib/python3.11/site-packag\n",
       "es/rich/live.py:231: UserWarning: install \"ipywidgets\" for Jupyter support\n",
       "  warnings.warn('install \"ipywidgets\" for Jupyter support')\n"
      ]
     },
     "metadata": {},
     "output_type": "display_data"
    },
    {
     "data": {
      "text/html": [
       "<pre style=\"white-space:pre;overflow-x:auto;line-height:normal;font-family:Menlo,'DejaVu Sans Mono',consolas,'Courier New',monospace\">/Users/Jorge/Library/Caches/pypoetry/virtualenvs/lorawan-chatbot-rag-llm-Kbm_Xz7B-py3.11/lib/python3.11/site-packag\n",
       "es/rich/live.py:231: UserWarning: install \"ipywidgets\" for Jupyter support\n",
       "  warnings.warn('install \"ipywidgets\" for Jupyter support')\n",
       "</pre>\n"
      ],
      "text/plain": [
       "/Users/Jorge/Library/Caches/pypoetry/virtualenvs/lorawan-chatbot-rag-llm-Kbm_Xz7B-py3.11/lib/python3.11/site-packag\n",
       "es/rich/live.py:231: UserWarning: install \"ipywidgets\" for Jupyter support\n",
       "  warnings.warn('install \"ipywidgets\" for Jupyter support')\n"
      ]
     },
     "metadata": {},
     "output_type": "display_data"
    },
    {
     "data": {
      "text/html": [
       "<pre style=\"white-space:pre;overflow-x:auto;line-height:normal;font-family:Menlo,'DejaVu Sans Mono',consolas,'Courier New',monospace\">/Users/Jorge/Library/Caches/pypoetry/virtualenvs/lorawan-chatbot-rag-llm-Kbm_Xz7B-py3.11/lib/python3.11/site-packag\n",
       "es/rich/live.py:231: UserWarning: install \"ipywidgets\" for Jupyter support\n",
       "  warnings.warn('install \"ipywidgets\" for Jupyter support')\n",
       "</pre>\n"
      ],
      "text/plain": [
       "/Users/Jorge/Library/Caches/pypoetry/virtualenvs/lorawan-chatbot-rag-llm-Kbm_Xz7B-py3.11/lib/python3.11/site-packag\n",
       "es/rich/live.py:231: UserWarning: install \"ipywidgets\" for Jupyter support\n",
       "  warnings.warn('install \"ipywidgets\" for Jupyter support')\n"
      ]
     },
     "metadata": {},
     "output_type": "display_data"
    },
    {
     "data": {
      "text/html": [
       "<pre style=\"white-space:pre;overflow-x:auto;line-height:normal;font-family:Menlo,'DejaVu Sans Mono',consolas,'Courier New',monospace\">/Users/Jorge/Library/Caches/pypoetry/virtualenvs/lorawan-chatbot-rag-llm-Kbm_Xz7B-py3.11/lib/python3.11/site-packag\n",
       "es/rich/live.py:231: UserWarning: install \"ipywidgets\" for Jupyter support\n",
       "  warnings.warn('install \"ipywidgets\" for Jupyter support')\n",
       "</pre>\n"
      ],
      "text/plain": [
       "/Users/Jorge/Library/Caches/pypoetry/virtualenvs/lorawan-chatbot-rag-llm-Kbm_Xz7B-py3.11/lib/python3.11/site-packag\n",
       "es/rich/live.py:231: UserWarning: install \"ipywidgets\" for Jupyter support\n",
       "  warnings.warn('install \"ipywidgets\" for Jupyter support')\n"
      ]
     },
     "metadata": {},
     "output_type": "display_data"
    },
    {
     "data": {
      "text/html": [
       "<pre style=\"white-space:pre;overflow-x:auto;line-height:normal;font-family:Menlo,'DejaVu Sans Mono',consolas,'Courier New',monospace\">/Users/Jorge/Library/Caches/pypoetry/virtualenvs/lorawan-chatbot-rag-llm-Kbm_Xz7B-py3.11/lib/python3.11/site-packag\n",
       "es/rich/live.py:231: UserWarning: install \"ipywidgets\" for Jupyter support\n",
       "  warnings.warn('install \"ipywidgets\" for Jupyter support')\n",
       "</pre>\n"
      ],
      "text/plain": [
       "/Users/Jorge/Library/Caches/pypoetry/virtualenvs/lorawan-chatbot-rag-llm-Kbm_Xz7B-py3.11/lib/python3.11/site-packag\n",
       "es/rich/live.py:231: UserWarning: install \"ipywidgets\" for Jupyter support\n",
       "  warnings.warn('install \"ipywidgets\" for Jupyter support')\n"
      ]
     },
     "metadata": {},
     "output_type": "display_data"
    },
    {
     "data": {
      "text/html": [
       "<pre style=\"white-space:pre;overflow-x:auto;line-height:normal;font-family:Menlo,'DejaVu Sans Mono',consolas,'Courier New',monospace\">/Users/Jorge/Library/Caches/pypoetry/virtualenvs/lorawan-chatbot-rag-llm-Kbm_Xz7B-py3.11/lib/python3.11/site-packag\n",
       "es/rich/live.py:231: UserWarning: install \"ipywidgets\" for Jupyter support\n",
       "  warnings.warn('install \"ipywidgets\" for Jupyter support')\n",
       "</pre>\n"
      ],
      "text/plain": [
       "/Users/Jorge/Library/Caches/pypoetry/virtualenvs/lorawan-chatbot-rag-llm-Kbm_Xz7B-py3.11/lib/python3.11/site-packag\n",
       "es/rich/live.py:231: UserWarning: install \"ipywidgets\" for Jupyter support\n",
       "  warnings.warn('install \"ipywidgets\" for Jupyter support')\n"
      ]
     },
     "metadata": {},
     "output_type": "display_data"
    },
    {
     "data": {
      "text/html": [
       "<pre style=\"white-space:pre;overflow-x:auto;line-height:normal;font-family:Menlo,'DejaVu Sans Mono',consolas,'Courier New',monospace\">/Users/Jorge/Library/Caches/pypoetry/virtualenvs/lorawan-chatbot-rag-llm-Kbm_Xz7B-py3.11/lib/python3.11/site-packag\n",
       "es/rich/live.py:231: UserWarning: install \"ipywidgets\" for Jupyter support\n",
       "  warnings.warn('install \"ipywidgets\" for Jupyter support')\n",
       "</pre>\n"
      ],
      "text/plain": [
       "/Users/Jorge/Library/Caches/pypoetry/virtualenvs/lorawan-chatbot-rag-llm-Kbm_Xz7B-py3.11/lib/python3.11/site-packag\n",
       "es/rich/live.py:231: UserWarning: install \"ipywidgets\" for Jupyter support\n",
       "  warnings.warn('install \"ipywidgets\" for Jupyter support')\n"
      ]
     },
     "metadata": {},
     "output_type": "display_data"
    },
    {
     "data": {
      "text/html": [
       "<pre style=\"white-space:pre;overflow-x:auto;line-height:normal;font-family:Menlo,'DejaVu Sans Mono',consolas,'Courier New',monospace\">/Users/Jorge/Library/Caches/pypoetry/virtualenvs/lorawan-chatbot-rag-llm-Kbm_Xz7B-py3.11/lib/python3.11/site-packag\n",
       "es/rich/live.py:231: UserWarning: install \"ipywidgets\" for Jupyter support\n",
       "  warnings.warn('install \"ipywidgets\" for Jupyter support')\n",
       "</pre>\n"
      ],
      "text/plain": [
       "/Users/Jorge/Library/Caches/pypoetry/virtualenvs/lorawan-chatbot-rag-llm-Kbm_Xz7B-py3.11/lib/python3.11/site-packag\n",
       "es/rich/live.py:231: UserWarning: install \"ipywidgets\" for Jupyter support\n",
       "  warnings.warn('install \"ipywidgets\" for Jupyter support')\n"
      ]
     },
     "metadata": {},
     "output_type": "display_data"
    },
    {
     "data": {
      "text/html": [
       "<pre style=\"white-space:pre;overflow-x:auto;line-height:normal;font-family:Menlo,'DejaVu Sans Mono',consolas,'Courier New',monospace\">/Users/Jorge/Library/Caches/pypoetry/virtualenvs/lorawan-chatbot-rag-llm-Kbm_Xz7B-py3.11/lib/python3.11/site-packag\n",
       "es/rich/live.py:231: UserWarning: install \"ipywidgets\" for Jupyter support\n",
       "  warnings.warn('install \"ipywidgets\" for Jupyter support')\n",
       "</pre>\n"
      ],
      "text/plain": [
       "/Users/Jorge/Library/Caches/pypoetry/virtualenvs/lorawan-chatbot-rag-llm-Kbm_Xz7B-py3.11/lib/python3.11/site-packag\n",
       "es/rich/live.py:231: UserWarning: install \"ipywidgets\" for Jupyter support\n",
       "  warnings.warn('install \"ipywidgets\" for Jupyter support')\n"
      ]
     },
     "metadata": {},
     "output_type": "display_data"
    },
    {
     "data": {
      "text/html": [
       "<pre style=\"white-space:pre;overflow-x:auto;line-height:normal;font-family:Menlo,'DejaVu Sans Mono',consolas,'Courier New',monospace\">/Users/Jorge/Library/Caches/pypoetry/virtualenvs/lorawan-chatbot-rag-llm-Kbm_Xz7B-py3.11/lib/python3.11/site-packag\n",
       "es/rich/live.py:231: UserWarning: install \"ipywidgets\" for Jupyter support\n",
       "  warnings.warn('install \"ipywidgets\" for Jupyter support')\n",
       "</pre>\n"
      ],
      "text/plain": [
       "/Users/Jorge/Library/Caches/pypoetry/virtualenvs/lorawan-chatbot-rag-llm-Kbm_Xz7B-py3.11/lib/python3.11/site-packag\n",
       "es/rich/live.py:231: UserWarning: install \"ipywidgets\" for Jupyter support\n",
       "  warnings.warn('install \"ipywidgets\" for Jupyter support')\n"
      ]
     },
     "metadata": {},
     "output_type": "display_data"
    },
    {
     "data": {
      "text/html": [
       "<pre style=\"white-space:pre;overflow-x:auto;line-height:normal;font-family:Menlo,'DejaVu Sans Mono',consolas,'Courier New',monospace\">/Users/Jorge/Library/Caches/pypoetry/virtualenvs/lorawan-chatbot-rag-llm-Kbm_Xz7B-py3.11/lib/python3.11/site-packag\n",
       "es/rich/live.py:231: UserWarning: install \"ipywidgets\" for Jupyter support\n",
       "  warnings.warn('install \"ipywidgets\" for Jupyter support')\n",
       "</pre>\n"
      ],
      "text/plain": [
       "/Users/Jorge/Library/Caches/pypoetry/virtualenvs/lorawan-chatbot-rag-llm-Kbm_Xz7B-py3.11/lib/python3.11/site-packag\n",
       "es/rich/live.py:231: UserWarning: install \"ipywidgets\" for Jupyter support\n",
       "  warnings.warn('install \"ipywidgets\" for Jupyter support')\n"
      ]
     },
     "metadata": {},
     "output_type": "display_data"
    },
    {
     "data": {
      "text/html": [
       "<pre style=\"white-space:pre;overflow-x:auto;line-height:normal;font-family:Menlo,'DejaVu Sans Mono',consolas,'Courier New',monospace\"></pre>\n"
      ],
      "text/plain": []
     },
     "metadata": {},
     "output_type": "display_data"
    },
    {
     "data": {
      "text/html": [
       "<pre style=\"white-space:pre;overflow-x:auto;line-height:normal;font-family:Menlo,'DejaVu Sans Mono',consolas,'Courier New',monospace\">\n",
       "</pre>\n"
      ],
      "text/plain": [
       "\n"
      ]
     },
     "metadata": {},
     "output_type": "display_data"
    },
    {
     "data": {
      "text/html": [
       "<pre style=\"white-space:pre;overflow-x:auto;line-height:normal;font-family:Menlo,'DejaVu Sans Mono',consolas,'Courier New',monospace\">/Users/Jorge/Library/Caches/pypoetry/virtualenvs/lorawan-chatbot-rag-llm-Kbm_Xz7B-py3.11/lib/python3.11/site-packag\n",
       "es/rich/live.py:231: UserWarning: install \"ipywidgets\" for Jupyter support\n",
       "  warnings.warn('install \"ipywidgets\" for Jupyter support')\n",
       "</pre>\n"
      ],
      "text/plain": [
       "/Users/Jorge/Library/Caches/pypoetry/virtualenvs/lorawan-chatbot-rag-llm-Kbm_Xz7B-py3.11/lib/python3.11/site-packag\n",
       "es/rich/live.py:231: UserWarning: install \"ipywidgets\" for Jupyter support\n",
       "  warnings.warn('install \"ipywidgets\" for Jupyter support')\n"
      ]
     },
     "metadata": {},
     "output_type": "display_data"
    },
    {
     "data": {
      "text/html": [
       "<pre style=\"white-space:pre;overflow-x:auto;line-height:normal;font-family:Menlo,'DejaVu Sans Mono',consolas,'Courier New',monospace\">/Users/Jorge/Library/Caches/pypoetry/virtualenvs/lorawan-chatbot-rag-llm-Kbm_Xz7B-py3.11/lib/python3.11/site-packag\n",
       "es/rich/live.py:231: UserWarning: install \"ipywidgets\" for Jupyter support\n",
       "  warnings.warn('install \"ipywidgets\" for Jupyter support')\n",
       "</pre>\n"
      ],
      "text/plain": [
       "/Users/Jorge/Library/Caches/pypoetry/virtualenvs/lorawan-chatbot-rag-llm-Kbm_Xz7B-py3.11/lib/python3.11/site-packag\n",
       "es/rich/live.py:231: UserWarning: install \"ipywidgets\" for Jupyter support\n",
       "  warnings.warn('install \"ipywidgets\" for Jupyter support')\n"
      ]
     },
     "metadata": {},
     "output_type": "display_data"
    },
    {
     "data": {
      "text/html": [
       "<pre style=\"white-space:pre;overflow-x:auto;line-height:normal;font-family:Menlo,'DejaVu Sans Mono',consolas,'Courier New',monospace\">/Users/Jorge/Library/Caches/pypoetry/virtualenvs/lorawan-chatbot-rag-llm-Kbm_Xz7B-py3.11/lib/python3.11/site-packag\n",
       "es/rich/live.py:231: UserWarning: install \"ipywidgets\" for Jupyter support\n",
       "  warnings.warn('install \"ipywidgets\" for Jupyter support')\n",
       "</pre>\n"
      ],
      "text/plain": [
       "/Users/Jorge/Library/Caches/pypoetry/virtualenvs/lorawan-chatbot-rag-llm-Kbm_Xz7B-py3.11/lib/python3.11/site-packag\n",
       "es/rich/live.py:231: UserWarning: install \"ipywidgets\" for Jupyter support\n",
       "  warnings.warn('install \"ipywidgets\" for Jupyter support')\n"
      ]
     },
     "metadata": {},
     "output_type": "display_data"
    },
    {
     "data": {
      "text/html": [
       "<pre style=\"white-space:pre;overflow-x:auto;line-height:normal;font-family:Menlo,'DejaVu Sans Mono',consolas,'Courier New',monospace\">/Users/Jorge/Library/Caches/pypoetry/virtualenvs/lorawan-chatbot-rag-llm-Kbm_Xz7B-py3.11/lib/python3.11/site-packag\n",
       "es/rich/live.py:231: UserWarning: install \"ipywidgets\" for Jupyter support\n",
       "  warnings.warn('install \"ipywidgets\" for Jupyter support')\n",
       "</pre>\n"
      ],
      "text/plain": [
       "/Users/Jorge/Library/Caches/pypoetry/virtualenvs/lorawan-chatbot-rag-llm-Kbm_Xz7B-py3.11/lib/python3.11/site-packag\n",
       "es/rich/live.py:231: UserWarning: install \"ipywidgets\" for Jupyter support\n",
       "  warnings.warn('install \"ipywidgets\" for Jupyter support')\n"
      ]
     },
     "metadata": {},
     "output_type": "display_data"
    },
    {
     "data": {
      "text/html": [
       "<pre style=\"white-space:pre;overflow-x:auto;line-height:normal;font-family:Menlo,'DejaVu Sans Mono',consolas,'Courier New',monospace\">/Users/Jorge/Library/Caches/pypoetry/virtualenvs/lorawan-chatbot-rag-llm-Kbm_Xz7B-py3.11/lib/python3.11/site-packag\n",
       "es/rich/live.py:231: UserWarning: install \"ipywidgets\" for Jupyter support\n",
       "  warnings.warn('install \"ipywidgets\" for Jupyter support')\n",
       "</pre>\n"
      ],
      "text/plain": [
       "/Users/Jorge/Library/Caches/pypoetry/virtualenvs/lorawan-chatbot-rag-llm-Kbm_Xz7B-py3.11/lib/python3.11/site-packag\n",
       "es/rich/live.py:231: UserWarning: install \"ipywidgets\" for Jupyter support\n",
       "  warnings.warn('install \"ipywidgets\" for Jupyter support')\n"
      ]
     },
     "metadata": {},
     "output_type": "display_data"
    },
    {
     "data": {
      "text/html": [
       "<pre style=\"white-space:pre;overflow-x:auto;line-height:normal;font-family:Menlo,'DejaVu Sans Mono',consolas,'Courier New',monospace\">/Users/Jorge/Library/Caches/pypoetry/virtualenvs/lorawan-chatbot-rag-llm-Kbm_Xz7B-py3.11/lib/python3.11/site-packag\n",
       "es/rich/live.py:231: UserWarning: install \"ipywidgets\" for Jupyter support\n",
       "  warnings.warn('install \"ipywidgets\" for Jupyter support')\n",
       "</pre>\n"
      ],
      "text/plain": [
       "/Users/Jorge/Library/Caches/pypoetry/virtualenvs/lorawan-chatbot-rag-llm-Kbm_Xz7B-py3.11/lib/python3.11/site-packag\n",
       "es/rich/live.py:231: UserWarning: install \"ipywidgets\" for Jupyter support\n",
       "  warnings.warn('install \"ipywidgets\" for Jupyter support')\n"
      ]
     },
     "metadata": {},
     "output_type": "display_data"
    },
    {
     "data": {
      "text/html": [
       "<pre style=\"white-space:pre;overflow-x:auto;line-height:normal;font-family:Menlo,'DejaVu Sans Mono',consolas,'Courier New',monospace\">/Users/Jorge/Library/Caches/pypoetry/virtualenvs/lorawan-chatbot-rag-llm-Kbm_Xz7B-py3.11/lib/python3.11/site-packag\n",
       "es/rich/live.py:231: UserWarning: install \"ipywidgets\" for Jupyter support\n",
       "  warnings.warn('install \"ipywidgets\" for Jupyter support')\n",
       "</pre>\n"
      ],
      "text/plain": [
       "/Users/Jorge/Library/Caches/pypoetry/virtualenvs/lorawan-chatbot-rag-llm-Kbm_Xz7B-py3.11/lib/python3.11/site-packag\n",
       "es/rich/live.py:231: UserWarning: install \"ipywidgets\" for Jupyter support\n",
       "  warnings.warn('install \"ipywidgets\" for Jupyter support')\n"
      ]
     },
     "metadata": {},
     "output_type": "display_data"
    },
    {
     "data": {
      "text/html": [
       "<pre style=\"white-space:pre;overflow-x:auto;line-height:normal;font-family:Menlo,'DejaVu Sans Mono',consolas,'Courier New',monospace\">/Users/Jorge/Library/Caches/pypoetry/virtualenvs/lorawan-chatbot-rag-llm-Kbm_Xz7B-py3.11/lib/python3.11/site-packag\n",
       "es/rich/live.py:231: UserWarning: install \"ipywidgets\" for Jupyter support\n",
       "  warnings.warn('install \"ipywidgets\" for Jupyter support')\n",
       "</pre>\n"
      ],
      "text/plain": [
       "/Users/Jorge/Library/Caches/pypoetry/virtualenvs/lorawan-chatbot-rag-llm-Kbm_Xz7B-py3.11/lib/python3.11/site-packag\n",
       "es/rich/live.py:231: UserWarning: install \"ipywidgets\" for Jupyter support\n",
       "  warnings.warn('install \"ipywidgets\" for Jupyter support')\n"
      ]
     },
     "metadata": {},
     "output_type": "display_data"
    },
    {
     "data": {
      "text/html": [
       "<pre style=\"white-space:pre;overflow-x:auto;line-height:normal;font-family:Menlo,'DejaVu Sans Mono',consolas,'Courier New',monospace\">/Users/Jorge/Library/Caches/pypoetry/virtualenvs/lorawan-chatbot-rag-llm-Kbm_Xz7B-py3.11/lib/python3.11/site-packag\n",
       "es/rich/live.py:231: UserWarning: install \"ipywidgets\" for Jupyter support\n",
       "  warnings.warn('install \"ipywidgets\" for Jupyter support')\n",
       "</pre>\n"
      ],
      "text/plain": [
       "/Users/Jorge/Library/Caches/pypoetry/virtualenvs/lorawan-chatbot-rag-llm-Kbm_Xz7B-py3.11/lib/python3.11/site-packag\n",
       "es/rich/live.py:231: UserWarning: install \"ipywidgets\" for Jupyter support\n",
       "  warnings.warn('install \"ipywidgets\" for Jupyter support')\n"
      ]
     },
     "metadata": {},
     "output_type": "display_data"
    },
    {
     "data": {
      "text/html": [
       "<pre style=\"white-space:pre;overflow-x:auto;line-height:normal;font-family:Menlo,'DejaVu Sans Mono',consolas,'Courier New',monospace\">/Users/Jorge/Library/Caches/pypoetry/virtualenvs/lorawan-chatbot-rag-llm-Kbm_Xz7B-py3.11/lib/python3.11/site-packag\n",
       "es/rich/live.py:231: UserWarning: install \"ipywidgets\" for Jupyter support\n",
       "  warnings.warn('install \"ipywidgets\" for Jupyter support')\n",
       "</pre>\n"
      ],
      "text/plain": [
       "/Users/Jorge/Library/Caches/pypoetry/virtualenvs/lorawan-chatbot-rag-llm-Kbm_Xz7B-py3.11/lib/python3.11/site-packag\n",
       "es/rich/live.py:231: UserWarning: install \"ipywidgets\" for Jupyter support\n",
       "  warnings.warn('install \"ipywidgets\" for Jupyter support')\n"
      ]
     },
     "metadata": {},
     "output_type": "display_data"
    },
    {
     "data": {
      "text/html": [
       "<pre style=\"white-space:pre;overflow-x:auto;line-height:normal;font-family:Menlo,'DejaVu Sans Mono',consolas,'Courier New',monospace\">/Users/Jorge/Library/Caches/pypoetry/virtualenvs/lorawan-chatbot-rag-llm-Kbm_Xz7B-py3.11/lib/python3.11/site-packag\n",
       "es/rich/live.py:231: UserWarning: install \"ipywidgets\" for Jupyter support\n",
       "  warnings.warn('install \"ipywidgets\" for Jupyter support')\n",
       "</pre>\n"
      ],
      "text/plain": [
       "/Users/Jorge/Library/Caches/pypoetry/virtualenvs/lorawan-chatbot-rag-llm-Kbm_Xz7B-py3.11/lib/python3.11/site-packag\n",
       "es/rich/live.py:231: UserWarning: install \"ipywidgets\" for Jupyter support\n",
       "  warnings.warn('install \"ipywidgets\" for Jupyter support')\n"
      ]
     },
     "metadata": {},
     "output_type": "display_data"
    },
    {
     "data": {
      "text/html": [
       "<pre style=\"white-space:pre;overflow-x:auto;line-height:normal;font-family:Menlo,'DejaVu Sans Mono',consolas,'Courier New',monospace\"></pre>\n"
      ],
      "text/plain": []
     },
     "metadata": {},
     "output_type": "display_data"
    },
    {
     "data": {
      "text/html": [
       "<pre style=\"white-space:pre;overflow-x:auto;line-height:normal;font-family:Menlo,'DejaVu Sans Mono',consolas,'Courier New',monospace\">\n",
       "</pre>\n"
      ],
      "text/plain": [
       "\n"
      ]
     },
     "metadata": {},
     "output_type": "display_data"
    },
    {
     "data": {
      "text/html": [
       "<pre style=\"white-space:pre;overflow-x:auto;line-height:normal;font-family:Menlo,'DejaVu Sans Mono',consolas,'Courier New',monospace\">/Users/Jorge/Library/Caches/pypoetry/virtualenvs/lorawan-chatbot-rag-llm-Kbm_Xz7B-py3.11/lib/python3.11/site-packag\n",
       "es/rich/live.py:231: UserWarning: install \"ipywidgets\" for Jupyter support\n",
       "  warnings.warn('install \"ipywidgets\" for Jupyter support')\n",
       "</pre>\n"
      ],
      "text/plain": [
       "/Users/Jorge/Library/Caches/pypoetry/virtualenvs/lorawan-chatbot-rag-llm-Kbm_Xz7B-py3.11/lib/python3.11/site-packag\n",
       "es/rich/live.py:231: UserWarning: install \"ipywidgets\" for Jupyter support\n",
       "  warnings.warn('install \"ipywidgets\" for Jupyter support')\n"
      ]
     },
     "metadata": {},
     "output_type": "display_data"
    },
    {
     "data": {
      "text/html": [
       "<pre style=\"white-space:pre;overflow-x:auto;line-height:normal;font-family:Menlo,'DejaVu Sans Mono',consolas,'Courier New',monospace\">/Users/Jorge/Library/Caches/pypoetry/virtualenvs/lorawan-chatbot-rag-llm-Kbm_Xz7B-py3.11/lib/python3.11/site-packag\n",
       "es/rich/live.py:231: UserWarning: install \"ipywidgets\" for Jupyter support\n",
       "  warnings.warn('install \"ipywidgets\" for Jupyter support')\n",
       "</pre>\n"
      ],
      "text/plain": [
       "/Users/Jorge/Library/Caches/pypoetry/virtualenvs/lorawan-chatbot-rag-llm-Kbm_Xz7B-py3.11/lib/python3.11/site-packag\n",
       "es/rich/live.py:231: UserWarning: install \"ipywidgets\" for Jupyter support\n",
       "  warnings.warn('install \"ipywidgets\" for Jupyter support')\n"
      ]
     },
     "metadata": {},
     "output_type": "display_data"
    },
    {
     "data": {
      "text/html": [
       "<pre style=\"white-space:pre;overflow-x:auto;line-height:normal;font-family:Menlo,'DejaVu Sans Mono',consolas,'Courier New',monospace\">/Users/Jorge/Library/Caches/pypoetry/virtualenvs/lorawan-chatbot-rag-llm-Kbm_Xz7B-py3.11/lib/python3.11/site-packag\n",
       "es/rich/live.py:231: UserWarning: install \"ipywidgets\" for Jupyter support\n",
       "  warnings.warn('install \"ipywidgets\" for Jupyter support')\n",
       "</pre>\n"
      ],
      "text/plain": [
       "/Users/Jorge/Library/Caches/pypoetry/virtualenvs/lorawan-chatbot-rag-llm-Kbm_Xz7B-py3.11/lib/python3.11/site-packag\n",
       "es/rich/live.py:231: UserWarning: install \"ipywidgets\" for Jupyter support\n",
       "  warnings.warn('install \"ipywidgets\" for Jupyter support')\n"
      ]
     },
     "metadata": {},
     "output_type": "display_data"
    },
    {
     "data": {
      "text/html": [
       "<pre style=\"white-space:pre;overflow-x:auto;line-height:normal;font-family:Menlo,'DejaVu Sans Mono',consolas,'Courier New',monospace\">/Users/Jorge/Library/Caches/pypoetry/virtualenvs/lorawan-chatbot-rag-llm-Kbm_Xz7B-py3.11/lib/python3.11/site-packag\n",
       "es/rich/live.py:231: UserWarning: install \"ipywidgets\" for Jupyter support\n",
       "  warnings.warn('install \"ipywidgets\" for Jupyter support')\n",
       "</pre>\n"
      ],
      "text/plain": [
       "/Users/Jorge/Library/Caches/pypoetry/virtualenvs/lorawan-chatbot-rag-llm-Kbm_Xz7B-py3.11/lib/python3.11/site-packag\n",
       "es/rich/live.py:231: UserWarning: install \"ipywidgets\" for Jupyter support\n",
       "  warnings.warn('install \"ipywidgets\" for Jupyter support')\n"
      ]
     },
     "metadata": {},
     "output_type": "display_data"
    },
    {
     "data": {
      "text/html": [
       "<pre style=\"white-space:pre;overflow-x:auto;line-height:normal;font-family:Menlo,'DejaVu Sans Mono',consolas,'Courier New',monospace\">/Users/Jorge/Library/Caches/pypoetry/virtualenvs/lorawan-chatbot-rag-llm-Kbm_Xz7B-py3.11/lib/python3.11/site-packag\n",
       "es/rich/live.py:231: UserWarning: install \"ipywidgets\" for Jupyter support\n",
       "  warnings.warn('install \"ipywidgets\" for Jupyter support')\n",
       "</pre>\n"
      ],
      "text/plain": [
       "/Users/Jorge/Library/Caches/pypoetry/virtualenvs/lorawan-chatbot-rag-llm-Kbm_Xz7B-py3.11/lib/python3.11/site-packag\n",
       "es/rich/live.py:231: UserWarning: install \"ipywidgets\" for Jupyter support\n",
       "  warnings.warn('install \"ipywidgets\" for Jupyter support')\n"
      ]
     },
     "metadata": {},
     "output_type": "display_data"
    },
    {
     "data": {
      "text/html": [
       "<pre style=\"white-space:pre;overflow-x:auto;line-height:normal;font-family:Menlo,'DejaVu Sans Mono',consolas,'Courier New',monospace\">/Users/Jorge/Library/Caches/pypoetry/virtualenvs/lorawan-chatbot-rag-llm-Kbm_Xz7B-py3.11/lib/python3.11/site-packag\n",
       "es/rich/live.py:231: UserWarning: install \"ipywidgets\" for Jupyter support\n",
       "  warnings.warn('install \"ipywidgets\" for Jupyter support')\n",
       "</pre>\n"
      ],
      "text/plain": [
       "/Users/Jorge/Library/Caches/pypoetry/virtualenvs/lorawan-chatbot-rag-llm-Kbm_Xz7B-py3.11/lib/python3.11/site-packag\n",
       "es/rich/live.py:231: UserWarning: install \"ipywidgets\" for Jupyter support\n",
       "  warnings.warn('install \"ipywidgets\" for Jupyter support')\n"
      ]
     },
     "metadata": {},
     "output_type": "display_data"
    },
    {
     "data": {
      "text/html": [
       "<pre style=\"white-space:pre;overflow-x:auto;line-height:normal;font-family:Menlo,'DejaVu Sans Mono',consolas,'Courier New',monospace\">/Users/Jorge/Library/Caches/pypoetry/virtualenvs/lorawan-chatbot-rag-llm-Kbm_Xz7B-py3.11/lib/python3.11/site-packag\n",
       "es/rich/live.py:231: UserWarning: install \"ipywidgets\" for Jupyter support\n",
       "  warnings.warn('install \"ipywidgets\" for Jupyter support')\n",
       "</pre>\n"
      ],
      "text/plain": [
       "/Users/Jorge/Library/Caches/pypoetry/virtualenvs/lorawan-chatbot-rag-llm-Kbm_Xz7B-py3.11/lib/python3.11/site-packag\n",
       "es/rich/live.py:231: UserWarning: install \"ipywidgets\" for Jupyter support\n",
       "  warnings.warn('install \"ipywidgets\" for Jupyter support')\n"
      ]
     },
     "metadata": {},
     "output_type": "display_data"
    },
    {
     "data": {
      "text/html": [
       "<pre style=\"white-space:pre;overflow-x:auto;line-height:normal;font-family:Menlo,'DejaVu Sans Mono',consolas,'Courier New',monospace\">/Users/Jorge/Library/Caches/pypoetry/virtualenvs/lorawan-chatbot-rag-llm-Kbm_Xz7B-py3.11/lib/python3.11/site-packag\n",
       "es/rich/live.py:231: UserWarning: install \"ipywidgets\" for Jupyter support\n",
       "  warnings.warn('install \"ipywidgets\" for Jupyter support')\n",
       "</pre>\n"
      ],
      "text/plain": [
       "/Users/Jorge/Library/Caches/pypoetry/virtualenvs/lorawan-chatbot-rag-llm-Kbm_Xz7B-py3.11/lib/python3.11/site-packag\n",
       "es/rich/live.py:231: UserWarning: install \"ipywidgets\" for Jupyter support\n",
       "  warnings.warn('install \"ipywidgets\" for Jupyter support')\n"
      ]
     },
     "metadata": {},
     "output_type": "display_data"
    },
    {
     "data": {
      "text/html": [
       "<pre style=\"white-space:pre;overflow-x:auto;line-height:normal;font-family:Menlo,'DejaVu Sans Mono',consolas,'Courier New',monospace\">/Users/Jorge/Library/Caches/pypoetry/virtualenvs/lorawan-chatbot-rag-llm-Kbm_Xz7B-py3.11/lib/python3.11/site-packag\n",
       "es/rich/live.py:231: UserWarning: install \"ipywidgets\" for Jupyter support\n",
       "  warnings.warn('install \"ipywidgets\" for Jupyter support')\n",
       "</pre>\n"
      ],
      "text/plain": [
       "/Users/Jorge/Library/Caches/pypoetry/virtualenvs/lorawan-chatbot-rag-llm-Kbm_Xz7B-py3.11/lib/python3.11/site-packag\n",
       "es/rich/live.py:231: UserWarning: install \"ipywidgets\" for Jupyter support\n",
       "  warnings.warn('install \"ipywidgets\" for Jupyter support')\n"
      ]
     },
     "metadata": {},
     "output_type": "display_data"
    },
    {
     "data": {
      "text/html": [
       "<pre style=\"white-space:pre;overflow-x:auto;line-height:normal;font-family:Menlo,'DejaVu Sans Mono',consolas,'Courier New',monospace\">/Users/Jorge/Library/Caches/pypoetry/virtualenvs/lorawan-chatbot-rag-llm-Kbm_Xz7B-py3.11/lib/python3.11/site-packag\n",
       "es/rich/live.py:231: UserWarning: install \"ipywidgets\" for Jupyter support\n",
       "  warnings.warn('install \"ipywidgets\" for Jupyter support')\n",
       "</pre>\n"
      ],
      "text/plain": [
       "/Users/Jorge/Library/Caches/pypoetry/virtualenvs/lorawan-chatbot-rag-llm-Kbm_Xz7B-py3.11/lib/python3.11/site-packag\n",
       "es/rich/live.py:231: UserWarning: install \"ipywidgets\" for Jupyter support\n",
       "  warnings.warn('install \"ipywidgets\" for Jupyter support')\n"
      ]
     },
     "metadata": {},
     "output_type": "display_data"
    },
    {
     "data": {
      "text/html": [
       "<pre style=\"white-space:pre;overflow-x:auto;line-height:normal;font-family:Menlo,'DejaVu Sans Mono',consolas,'Courier New',monospace\"></pre>\n"
      ],
      "text/plain": []
     },
     "metadata": {},
     "output_type": "display_data"
    },
    {
     "data": {
      "text/html": [
       "<pre style=\"white-space:pre;overflow-x:auto;line-height:normal;font-family:Menlo,'DejaVu Sans Mono',consolas,'Courier New',monospace\">\n",
       "</pre>\n"
      ],
      "text/plain": [
       "\n"
      ]
     },
     "metadata": {},
     "output_type": "display_data"
    },
    {
     "data": {
      "text/html": [
       "<pre style=\"white-space:pre;overflow-x:auto;line-height:normal;font-family:Menlo,'DejaVu Sans Mono',consolas,'Courier New',monospace\">/Users/Jorge/Library/Caches/pypoetry/virtualenvs/lorawan-chatbot-rag-llm-Kbm_Xz7B-py3.11/lib/python3.11/site-packag\n",
       "es/rich/live.py:231: UserWarning: install \"ipywidgets\" for Jupyter support\n",
       "  warnings.warn('install \"ipywidgets\" for Jupyter support')\n",
       "</pre>\n"
      ],
      "text/plain": [
       "/Users/Jorge/Library/Caches/pypoetry/virtualenvs/lorawan-chatbot-rag-llm-Kbm_Xz7B-py3.11/lib/python3.11/site-packag\n",
       "es/rich/live.py:231: UserWarning: install \"ipywidgets\" for Jupyter support\n",
       "  warnings.warn('install \"ipywidgets\" for Jupyter support')\n"
      ]
     },
     "metadata": {},
     "output_type": "display_data"
    },
    {
     "data": {
      "text/html": [
       "<pre style=\"white-space:pre;overflow-x:auto;line-height:normal;font-family:Menlo,'DejaVu Sans Mono',consolas,'Courier New',monospace\">/Users/Jorge/Library/Caches/pypoetry/virtualenvs/lorawan-chatbot-rag-llm-Kbm_Xz7B-py3.11/lib/python3.11/site-packag\n",
       "es/rich/live.py:231: UserWarning: install \"ipywidgets\" for Jupyter support\n",
       "  warnings.warn('install \"ipywidgets\" for Jupyter support')\n",
       "</pre>\n"
      ],
      "text/plain": [
       "/Users/Jorge/Library/Caches/pypoetry/virtualenvs/lorawan-chatbot-rag-llm-Kbm_Xz7B-py3.11/lib/python3.11/site-packag\n",
       "es/rich/live.py:231: UserWarning: install \"ipywidgets\" for Jupyter support\n",
       "  warnings.warn('install \"ipywidgets\" for Jupyter support')\n"
      ]
     },
     "metadata": {},
     "output_type": "display_data"
    },
    {
     "data": {
      "text/html": [
       "<pre style=\"white-space:pre;overflow-x:auto;line-height:normal;font-family:Menlo,'DejaVu Sans Mono',consolas,'Courier New',monospace\">/Users/Jorge/Library/Caches/pypoetry/virtualenvs/lorawan-chatbot-rag-llm-Kbm_Xz7B-py3.11/lib/python3.11/site-packag\n",
       "es/rich/live.py:231: UserWarning: install \"ipywidgets\" for Jupyter support\n",
       "  warnings.warn('install \"ipywidgets\" for Jupyter support')\n",
       "</pre>\n"
      ],
      "text/plain": [
       "/Users/Jorge/Library/Caches/pypoetry/virtualenvs/lorawan-chatbot-rag-llm-Kbm_Xz7B-py3.11/lib/python3.11/site-packag\n",
       "es/rich/live.py:231: UserWarning: install \"ipywidgets\" for Jupyter support\n",
       "  warnings.warn('install \"ipywidgets\" for Jupyter support')\n"
      ]
     },
     "metadata": {},
     "output_type": "display_data"
    },
    {
     "data": {
      "text/html": [
       "<pre style=\"white-space:pre;overflow-x:auto;line-height:normal;font-family:Menlo,'DejaVu Sans Mono',consolas,'Courier New',monospace\">/Users/Jorge/Library/Caches/pypoetry/virtualenvs/lorawan-chatbot-rag-llm-Kbm_Xz7B-py3.11/lib/python3.11/site-packag\n",
       "es/rich/live.py:231: UserWarning: install \"ipywidgets\" for Jupyter support\n",
       "  warnings.warn('install \"ipywidgets\" for Jupyter support')\n",
       "</pre>\n"
      ],
      "text/plain": [
       "/Users/Jorge/Library/Caches/pypoetry/virtualenvs/lorawan-chatbot-rag-llm-Kbm_Xz7B-py3.11/lib/python3.11/site-packag\n",
       "es/rich/live.py:231: UserWarning: install \"ipywidgets\" for Jupyter support\n",
       "  warnings.warn('install \"ipywidgets\" for Jupyter support')\n"
      ]
     },
     "metadata": {},
     "output_type": "display_data"
    },
    {
     "data": {
      "text/html": [
       "<pre style=\"white-space:pre;overflow-x:auto;line-height:normal;font-family:Menlo,'DejaVu Sans Mono',consolas,'Courier New',monospace\">/Users/Jorge/Library/Caches/pypoetry/virtualenvs/lorawan-chatbot-rag-llm-Kbm_Xz7B-py3.11/lib/python3.11/site-packag\n",
       "es/rich/live.py:231: UserWarning: install \"ipywidgets\" for Jupyter support\n",
       "  warnings.warn('install \"ipywidgets\" for Jupyter support')\n",
       "</pre>\n"
      ],
      "text/plain": [
       "/Users/Jorge/Library/Caches/pypoetry/virtualenvs/lorawan-chatbot-rag-llm-Kbm_Xz7B-py3.11/lib/python3.11/site-packag\n",
       "es/rich/live.py:231: UserWarning: install \"ipywidgets\" for Jupyter support\n",
       "  warnings.warn('install \"ipywidgets\" for Jupyter support')\n"
      ]
     },
     "metadata": {},
     "output_type": "display_data"
    },
    {
     "data": {
      "text/html": [
       "<pre style=\"white-space:pre;overflow-x:auto;line-height:normal;font-family:Menlo,'DejaVu Sans Mono',consolas,'Courier New',monospace\">/Users/Jorge/Library/Caches/pypoetry/virtualenvs/lorawan-chatbot-rag-llm-Kbm_Xz7B-py3.11/lib/python3.11/site-packag\n",
       "es/rich/live.py:231: UserWarning: install \"ipywidgets\" for Jupyter support\n",
       "  warnings.warn('install \"ipywidgets\" for Jupyter support')\n",
       "</pre>\n"
      ],
      "text/plain": [
       "/Users/Jorge/Library/Caches/pypoetry/virtualenvs/lorawan-chatbot-rag-llm-Kbm_Xz7B-py3.11/lib/python3.11/site-packag\n",
       "es/rich/live.py:231: UserWarning: install \"ipywidgets\" for Jupyter support\n",
       "  warnings.warn('install \"ipywidgets\" for Jupyter support')\n"
      ]
     },
     "metadata": {},
     "output_type": "display_data"
    },
    {
     "data": {
      "text/html": [
       "<pre style=\"white-space:pre;overflow-x:auto;line-height:normal;font-family:Menlo,'DejaVu Sans Mono',consolas,'Courier New',monospace\">/Users/Jorge/Library/Caches/pypoetry/virtualenvs/lorawan-chatbot-rag-llm-Kbm_Xz7B-py3.11/lib/python3.11/site-packag\n",
       "es/rich/live.py:231: UserWarning: install \"ipywidgets\" for Jupyter support\n",
       "  warnings.warn('install \"ipywidgets\" for Jupyter support')\n",
       "</pre>\n"
      ],
      "text/plain": [
       "/Users/Jorge/Library/Caches/pypoetry/virtualenvs/lorawan-chatbot-rag-llm-Kbm_Xz7B-py3.11/lib/python3.11/site-packag\n",
       "es/rich/live.py:231: UserWarning: install \"ipywidgets\" for Jupyter support\n",
       "  warnings.warn('install \"ipywidgets\" for Jupyter support')\n"
      ]
     },
     "metadata": {},
     "output_type": "display_data"
    },
    {
     "data": {
      "text/html": [
       "<pre style=\"white-space:pre;overflow-x:auto;line-height:normal;font-family:Menlo,'DejaVu Sans Mono',consolas,'Courier New',monospace\">/Users/Jorge/Library/Caches/pypoetry/virtualenvs/lorawan-chatbot-rag-llm-Kbm_Xz7B-py3.11/lib/python3.11/site-packag\n",
       "es/rich/live.py:231: UserWarning: install \"ipywidgets\" for Jupyter support\n",
       "  warnings.warn('install \"ipywidgets\" for Jupyter support')\n",
       "</pre>\n"
      ],
      "text/plain": [
       "/Users/Jorge/Library/Caches/pypoetry/virtualenvs/lorawan-chatbot-rag-llm-Kbm_Xz7B-py3.11/lib/python3.11/site-packag\n",
       "es/rich/live.py:231: UserWarning: install \"ipywidgets\" for Jupyter support\n",
       "  warnings.warn('install \"ipywidgets\" for Jupyter support')\n"
      ]
     },
     "metadata": {},
     "output_type": "display_data"
    },
    {
     "data": {
      "text/html": [
       "<pre style=\"white-space:pre;overflow-x:auto;line-height:normal;font-family:Menlo,'DejaVu Sans Mono',consolas,'Courier New',monospace\">/Users/Jorge/Library/Caches/pypoetry/virtualenvs/lorawan-chatbot-rag-llm-Kbm_Xz7B-py3.11/lib/python3.11/site-packag\n",
       "es/rich/live.py:231: UserWarning: install \"ipywidgets\" for Jupyter support\n",
       "  warnings.warn('install \"ipywidgets\" for Jupyter support')\n",
       "</pre>\n"
      ],
      "text/plain": [
       "/Users/Jorge/Library/Caches/pypoetry/virtualenvs/lorawan-chatbot-rag-llm-Kbm_Xz7B-py3.11/lib/python3.11/site-packag\n",
       "es/rich/live.py:231: UserWarning: install \"ipywidgets\" for Jupyter support\n",
       "  warnings.warn('install \"ipywidgets\" for Jupyter support')\n"
      ]
     },
     "metadata": {},
     "output_type": "display_data"
    },
    {
     "data": {
      "text/html": [
       "<pre style=\"white-space:pre;overflow-x:auto;line-height:normal;font-family:Menlo,'DejaVu Sans Mono',consolas,'Courier New',monospace\">/Users/Jorge/Library/Caches/pypoetry/virtualenvs/lorawan-chatbot-rag-llm-Kbm_Xz7B-py3.11/lib/python3.11/site-packag\n",
       "es/rich/live.py:231: UserWarning: install \"ipywidgets\" for Jupyter support\n",
       "  warnings.warn('install \"ipywidgets\" for Jupyter support')\n",
       "</pre>\n"
      ],
      "text/plain": [
       "/Users/Jorge/Library/Caches/pypoetry/virtualenvs/lorawan-chatbot-rag-llm-Kbm_Xz7B-py3.11/lib/python3.11/site-packag\n",
       "es/rich/live.py:231: UserWarning: install \"ipywidgets\" for Jupyter support\n",
       "  warnings.warn('install \"ipywidgets\" for Jupyter support')\n"
      ]
     },
     "metadata": {},
     "output_type": "display_data"
    },
    {
     "data": {
      "text/html": [
       "<pre style=\"white-space:pre;overflow-x:auto;line-height:normal;font-family:Menlo,'DejaVu Sans Mono',consolas,'Courier New',monospace\">/Users/Jorge/Library/Caches/pypoetry/virtualenvs/lorawan-chatbot-rag-llm-Kbm_Xz7B-py3.11/lib/python3.11/site-packag\n",
       "es/rich/live.py:231: UserWarning: install \"ipywidgets\" for Jupyter support\n",
       "  warnings.warn('install \"ipywidgets\" for Jupyter support')\n",
       "</pre>\n"
      ],
      "text/plain": [
       "/Users/Jorge/Library/Caches/pypoetry/virtualenvs/lorawan-chatbot-rag-llm-Kbm_Xz7B-py3.11/lib/python3.11/site-packag\n",
       "es/rich/live.py:231: UserWarning: install \"ipywidgets\" for Jupyter support\n",
       "  warnings.warn('install \"ipywidgets\" for Jupyter support')\n"
      ]
     },
     "metadata": {},
     "output_type": "display_data"
    },
    {
     "data": {
      "text/html": [
       "<pre style=\"white-space:pre;overflow-x:auto;line-height:normal;font-family:Menlo,'DejaVu Sans Mono',consolas,'Courier New',monospace\"></pre>\n"
      ],
      "text/plain": []
     },
     "metadata": {},
     "output_type": "display_data"
    },
    {
     "data": {
      "text/html": [
       "<pre style=\"white-space:pre;overflow-x:auto;line-height:normal;font-family:Menlo,'DejaVu Sans Mono',consolas,'Courier New',monospace\">\n",
       "</pre>\n"
      ],
      "text/plain": [
       "\n"
      ]
     },
     "metadata": {},
     "output_type": "display_data"
    },
    {
     "data": {
      "text/html": [
       "<pre style=\"white-space:pre;overflow-x:auto;line-height:normal;font-family:Menlo,'DejaVu Sans Mono',consolas,'Courier New',monospace\">/Users/Jorge/Library/Caches/pypoetry/virtualenvs/lorawan-chatbot-rag-llm-Kbm_Xz7B-py3.11/lib/python3.11/site-packag\n",
       "es/rich/live.py:231: UserWarning: install \"ipywidgets\" for Jupyter support\n",
       "  warnings.warn('install \"ipywidgets\" for Jupyter support')\n",
       "</pre>\n"
      ],
      "text/plain": [
       "/Users/Jorge/Library/Caches/pypoetry/virtualenvs/lorawan-chatbot-rag-llm-Kbm_Xz7B-py3.11/lib/python3.11/site-packag\n",
       "es/rich/live.py:231: UserWarning: install \"ipywidgets\" for Jupyter support\n",
       "  warnings.warn('install \"ipywidgets\" for Jupyter support')\n"
      ]
     },
     "metadata": {},
     "output_type": "display_data"
    },
    {
     "data": {
      "text/html": [
       "<pre style=\"white-space:pre;overflow-x:auto;line-height:normal;font-family:Menlo,'DejaVu Sans Mono',consolas,'Courier New',monospace\">/Users/Jorge/Library/Caches/pypoetry/virtualenvs/lorawan-chatbot-rag-llm-Kbm_Xz7B-py3.11/lib/python3.11/site-packag\n",
       "es/rich/live.py:231: UserWarning: install \"ipywidgets\" for Jupyter support\n",
       "  warnings.warn('install \"ipywidgets\" for Jupyter support')\n",
       "</pre>\n"
      ],
      "text/plain": [
       "/Users/Jorge/Library/Caches/pypoetry/virtualenvs/lorawan-chatbot-rag-llm-Kbm_Xz7B-py3.11/lib/python3.11/site-packag\n",
       "es/rich/live.py:231: UserWarning: install \"ipywidgets\" for Jupyter support\n",
       "  warnings.warn('install \"ipywidgets\" for Jupyter support')\n"
      ]
     },
     "metadata": {},
     "output_type": "display_data"
    },
    {
     "data": {
      "text/html": [
       "<pre style=\"white-space:pre;overflow-x:auto;line-height:normal;font-family:Menlo,'DejaVu Sans Mono',consolas,'Courier New',monospace\">/Users/Jorge/Library/Caches/pypoetry/virtualenvs/lorawan-chatbot-rag-llm-Kbm_Xz7B-py3.11/lib/python3.11/site-packag\n",
       "es/rich/live.py:231: UserWarning: install \"ipywidgets\" for Jupyter support\n",
       "  warnings.warn('install \"ipywidgets\" for Jupyter support')\n",
       "</pre>\n"
      ],
      "text/plain": [
       "/Users/Jorge/Library/Caches/pypoetry/virtualenvs/lorawan-chatbot-rag-llm-Kbm_Xz7B-py3.11/lib/python3.11/site-packag\n",
       "es/rich/live.py:231: UserWarning: install \"ipywidgets\" for Jupyter support\n",
       "  warnings.warn('install \"ipywidgets\" for Jupyter support')\n"
      ]
     },
     "metadata": {},
     "output_type": "display_data"
    },
    {
     "data": {
      "text/html": [
       "<pre style=\"white-space:pre;overflow-x:auto;line-height:normal;font-family:Menlo,'DejaVu Sans Mono',consolas,'Courier New',monospace\">/Users/Jorge/Library/Caches/pypoetry/virtualenvs/lorawan-chatbot-rag-llm-Kbm_Xz7B-py3.11/lib/python3.11/site-packag\n",
       "es/rich/live.py:231: UserWarning: install \"ipywidgets\" for Jupyter support\n",
       "  warnings.warn('install \"ipywidgets\" for Jupyter support')\n",
       "</pre>\n"
      ],
      "text/plain": [
       "/Users/Jorge/Library/Caches/pypoetry/virtualenvs/lorawan-chatbot-rag-llm-Kbm_Xz7B-py3.11/lib/python3.11/site-packag\n",
       "es/rich/live.py:231: UserWarning: install \"ipywidgets\" for Jupyter support\n",
       "  warnings.warn('install \"ipywidgets\" for Jupyter support')\n"
      ]
     },
     "metadata": {},
     "output_type": "display_data"
    },
    {
     "data": {
      "text/html": [
       "<pre style=\"white-space:pre;overflow-x:auto;line-height:normal;font-family:Menlo,'DejaVu Sans Mono',consolas,'Courier New',monospace\">/Users/Jorge/Library/Caches/pypoetry/virtualenvs/lorawan-chatbot-rag-llm-Kbm_Xz7B-py3.11/lib/python3.11/site-packag\n",
       "es/rich/live.py:231: UserWarning: install \"ipywidgets\" for Jupyter support\n",
       "  warnings.warn('install \"ipywidgets\" for Jupyter support')\n",
       "</pre>\n"
      ],
      "text/plain": [
       "/Users/Jorge/Library/Caches/pypoetry/virtualenvs/lorawan-chatbot-rag-llm-Kbm_Xz7B-py3.11/lib/python3.11/site-packag\n",
       "es/rich/live.py:231: UserWarning: install \"ipywidgets\" for Jupyter support\n",
       "  warnings.warn('install \"ipywidgets\" for Jupyter support')\n"
      ]
     },
     "metadata": {},
     "output_type": "display_data"
    },
    {
     "data": {
      "text/html": [
       "<pre style=\"white-space:pre;overflow-x:auto;line-height:normal;font-family:Menlo,'DejaVu Sans Mono',consolas,'Courier New',monospace\">/Users/Jorge/Library/Caches/pypoetry/virtualenvs/lorawan-chatbot-rag-llm-Kbm_Xz7B-py3.11/lib/python3.11/site-packag\n",
       "es/rich/live.py:231: UserWarning: install \"ipywidgets\" for Jupyter support\n",
       "  warnings.warn('install \"ipywidgets\" for Jupyter support')\n",
       "</pre>\n"
      ],
      "text/plain": [
       "/Users/Jorge/Library/Caches/pypoetry/virtualenvs/lorawan-chatbot-rag-llm-Kbm_Xz7B-py3.11/lib/python3.11/site-packag\n",
       "es/rich/live.py:231: UserWarning: install \"ipywidgets\" for Jupyter support\n",
       "  warnings.warn('install \"ipywidgets\" for Jupyter support')\n"
      ]
     },
     "metadata": {},
     "output_type": "display_data"
    },
    {
     "data": {
      "text/html": [
       "<pre style=\"white-space:pre;overflow-x:auto;line-height:normal;font-family:Menlo,'DejaVu Sans Mono',consolas,'Courier New',monospace\">/Users/Jorge/Library/Caches/pypoetry/virtualenvs/lorawan-chatbot-rag-llm-Kbm_Xz7B-py3.11/lib/python3.11/site-packag\n",
       "es/rich/live.py:231: UserWarning: install \"ipywidgets\" for Jupyter support\n",
       "  warnings.warn('install \"ipywidgets\" for Jupyter support')\n",
       "</pre>\n"
      ],
      "text/plain": [
       "/Users/Jorge/Library/Caches/pypoetry/virtualenvs/lorawan-chatbot-rag-llm-Kbm_Xz7B-py3.11/lib/python3.11/site-packag\n",
       "es/rich/live.py:231: UserWarning: install \"ipywidgets\" for Jupyter support\n",
       "  warnings.warn('install \"ipywidgets\" for Jupyter support')\n"
      ]
     },
     "metadata": {},
     "output_type": "display_data"
    },
    {
     "data": {
      "text/html": [
       "<pre style=\"white-space:pre;overflow-x:auto;line-height:normal;font-family:Menlo,'DejaVu Sans Mono',consolas,'Courier New',monospace\">/Users/Jorge/Library/Caches/pypoetry/virtualenvs/lorawan-chatbot-rag-llm-Kbm_Xz7B-py3.11/lib/python3.11/site-packag\n",
       "es/rich/live.py:231: UserWarning: install \"ipywidgets\" for Jupyter support\n",
       "  warnings.warn('install \"ipywidgets\" for Jupyter support')\n",
       "</pre>\n"
      ],
      "text/plain": [
       "/Users/Jorge/Library/Caches/pypoetry/virtualenvs/lorawan-chatbot-rag-llm-Kbm_Xz7B-py3.11/lib/python3.11/site-packag\n",
       "es/rich/live.py:231: UserWarning: install \"ipywidgets\" for Jupyter support\n",
       "  warnings.warn('install \"ipywidgets\" for Jupyter support')\n"
      ]
     },
     "metadata": {},
     "output_type": "display_data"
    },
    {
     "data": {
      "text/html": [
       "<pre style=\"white-space:pre;overflow-x:auto;line-height:normal;font-family:Menlo,'DejaVu Sans Mono',consolas,'Courier New',monospace\">/Users/Jorge/Library/Caches/pypoetry/virtualenvs/lorawan-chatbot-rag-llm-Kbm_Xz7B-py3.11/lib/python3.11/site-packag\n",
       "es/rich/live.py:231: UserWarning: install \"ipywidgets\" for Jupyter support\n",
       "  warnings.warn('install \"ipywidgets\" for Jupyter support')\n",
       "</pre>\n"
      ],
      "text/plain": [
       "/Users/Jorge/Library/Caches/pypoetry/virtualenvs/lorawan-chatbot-rag-llm-Kbm_Xz7B-py3.11/lib/python3.11/site-packag\n",
       "es/rich/live.py:231: UserWarning: install \"ipywidgets\" for Jupyter support\n",
       "  warnings.warn('install \"ipywidgets\" for Jupyter support')\n"
      ]
     },
     "metadata": {},
     "output_type": "display_data"
    },
    {
     "data": {
      "text/html": [
       "<pre style=\"white-space:pre;overflow-x:auto;line-height:normal;font-family:Menlo,'DejaVu Sans Mono',consolas,'Courier New',monospace\">/Users/Jorge/Library/Caches/pypoetry/virtualenvs/lorawan-chatbot-rag-llm-Kbm_Xz7B-py3.11/lib/python3.11/site-packag\n",
       "es/rich/live.py:231: UserWarning: install \"ipywidgets\" for Jupyter support\n",
       "  warnings.warn('install \"ipywidgets\" for Jupyter support')\n",
       "</pre>\n"
      ],
      "text/plain": [
       "/Users/Jorge/Library/Caches/pypoetry/virtualenvs/lorawan-chatbot-rag-llm-Kbm_Xz7B-py3.11/lib/python3.11/site-packag\n",
       "es/rich/live.py:231: UserWarning: install \"ipywidgets\" for Jupyter support\n",
       "  warnings.warn('install \"ipywidgets\" for Jupyter support')\n"
      ]
     },
     "metadata": {},
     "output_type": "display_data"
    },
    {
     "data": {
      "text/html": [
       "<pre style=\"white-space:pre;overflow-x:auto;line-height:normal;font-family:Menlo,'DejaVu Sans Mono',consolas,'Courier New',monospace\"></pre>\n"
      ],
      "text/plain": []
     },
     "metadata": {},
     "output_type": "display_data"
    },
    {
     "data": {
      "text/html": [
       "<pre style=\"white-space:pre;overflow-x:auto;line-height:normal;font-family:Menlo,'DejaVu Sans Mono',consolas,'Courier New',monospace\">\n",
       "</pre>\n"
      ],
      "text/plain": [
       "\n"
      ]
     },
     "metadata": {},
     "output_type": "display_data"
    },
    {
     "data": {
      "text/html": [
       "<pre style=\"white-space:pre;overflow-x:auto;line-height:normal;font-family:Menlo,'DejaVu Sans Mono',consolas,'Courier New',monospace\">/Users/Jorge/Library/Caches/pypoetry/virtualenvs/lorawan-chatbot-rag-llm-Kbm_Xz7B-py3.11/lib/python3.11/site-packag\n",
       "es/rich/live.py:231: UserWarning: install \"ipywidgets\" for Jupyter support\n",
       "  warnings.warn('install \"ipywidgets\" for Jupyter support')\n",
       "</pre>\n"
      ],
      "text/plain": [
       "/Users/Jorge/Library/Caches/pypoetry/virtualenvs/lorawan-chatbot-rag-llm-Kbm_Xz7B-py3.11/lib/python3.11/site-packag\n",
       "es/rich/live.py:231: UserWarning: install \"ipywidgets\" for Jupyter support\n",
       "  warnings.warn('install \"ipywidgets\" for Jupyter support')\n"
      ]
     },
     "metadata": {},
     "output_type": "display_data"
    },
    {
     "data": {
      "text/html": [
       "<pre style=\"white-space:pre;overflow-x:auto;line-height:normal;font-family:Menlo,'DejaVu Sans Mono',consolas,'Courier New',monospace\">/Users/Jorge/Library/Caches/pypoetry/virtualenvs/lorawan-chatbot-rag-llm-Kbm_Xz7B-py3.11/lib/python3.11/site-packag\n",
       "es/rich/live.py:231: UserWarning: install \"ipywidgets\" for Jupyter support\n",
       "  warnings.warn('install \"ipywidgets\" for Jupyter support')\n",
       "</pre>\n"
      ],
      "text/plain": [
       "/Users/Jorge/Library/Caches/pypoetry/virtualenvs/lorawan-chatbot-rag-llm-Kbm_Xz7B-py3.11/lib/python3.11/site-packag\n",
       "es/rich/live.py:231: UserWarning: install \"ipywidgets\" for Jupyter support\n",
       "  warnings.warn('install \"ipywidgets\" for Jupyter support')\n"
      ]
     },
     "metadata": {},
     "output_type": "display_data"
    },
    {
     "data": {
      "text/html": [
       "<pre style=\"white-space:pre;overflow-x:auto;line-height:normal;font-family:Menlo,'DejaVu Sans Mono',consolas,'Courier New',monospace\">/Users/Jorge/Library/Caches/pypoetry/virtualenvs/lorawan-chatbot-rag-llm-Kbm_Xz7B-py3.11/lib/python3.11/site-packag\n",
       "es/rich/live.py:231: UserWarning: install \"ipywidgets\" for Jupyter support\n",
       "  warnings.warn('install \"ipywidgets\" for Jupyter support')\n",
       "</pre>\n"
      ],
      "text/plain": [
       "/Users/Jorge/Library/Caches/pypoetry/virtualenvs/lorawan-chatbot-rag-llm-Kbm_Xz7B-py3.11/lib/python3.11/site-packag\n",
       "es/rich/live.py:231: UserWarning: install \"ipywidgets\" for Jupyter support\n",
       "  warnings.warn('install \"ipywidgets\" for Jupyter support')\n"
      ]
     },
     "metadata": {},
     "output_type": "display_data"
    },
    {
     "data": {
      "text/html": [
       "<pre style=\"white-space:pre;overflow-x:auto;line-height:normal;font-family:Menlo,'DejaVu Sans Mono',consolas,'Courier New',monospace\">/Users/Jorge/Library/Caches/pypoetry/virtualenvs/lorawan-chatbot-rag-llm-Kbm_Xz7B-py3.11/lib/python3.11/site-packag\n",
       "es/rich/live.py:231: UserWarning: install \"ipywidgets\" for Jupyter support\n",
       "  warnings.warn('install \"ipywidgets\" for Jupyter support')\n",
       "</pre>\n"
      ],
      "text/plain": [
       "/Users/Jorge/Library/Caches/pypoetry/virtualenvs/lorawan-chatbot-rag-llm-Kbm_Xz7B-py3.11/lib/python3.11/site-packag\n",
       "es/rich/live.py:231: UserWarning: install \"ipywidgets\" for Jupyter support\n",
       "  warnings.warn('install \"ipywidgets\" for Jupyter support')\n"
      ]
     },
     "metadata": {},
     "output_type": "display_data"
    },
    {
     "data": {
      "text/html": [
       "<pre style=\"white-space:pre;overflow-x:auto;line-height:normal;font-family:Menlo,'DejaVu Sans Mono',consolas,'Courier New',monospace\">/Users/Jorge/Library/Caches/pypoetry/virtualenvs/lorawan-chatbot-rag-llm-Kbm_Xz7B-py3.11/lib/python3.11/site-packag\n",
       "es/rich/live.py:231: UserWarning: install \"ipywidgets\" for Jupyter support\n",
       "  warnings.warn('install \"ipywidgets\" for Jupyter support')\n",
       "</pre>\n"
      ],
      "text/plain": [
       "/Users/Jorge/Library/Caches/pypoetry/virtualenvs/lorawan-chatbot-rag-llm-Kbm_Xz7B-py3.11/lib/python3.11/site-packag\n",
       "es/rich/live.py:231: UserWarning: install \"ipywidgets\" for Jupyter support\n",
       "  warnings.warn('install \"ipywidgets\" for Jupyter support')\n"
      ]
     },
     "metadata": {},
     "output_type": "display_data"
    },
    {
     "data": {
      "text/html": [
       "<pre style=\"white-space:pre;overflow-x:auto;line-height:normal;font-family:Menlo,'DejaVu Sans Mono',consolas,'Courier New',monospace\">/Users/Jorge/Library/Caches/pypoetry/virtualenvs/lorawan-chatbot-rag-llm-Kbm_Xz7B-py3.11/lib/python3.11/site-packag\n",
       "es/rich/live.py:231: UserWarning: install \"ipywidgets\" for Jupyter support\n",
       "  warnings.warn('install \"ipywidgets\" for Jupyter support')\n",
       "</pre>\n"
      ],
      "text/plain": [
       "/Users/Jorge/Library/Caches/pypoetry/virtualenvs/lorawan-chatbot-rag-llm-Kbm_Xz7B-py3.11/lib/python3.11/site-packag\n",
       "es/rich/live.py:231: UserWarning: install \"ipywidgets\" for Jupyter support\n",
       "  warnings.warn('install \"ipywidgets\" for Jupyter support')\n"
      ]
     },
     "metadata": {},
     "output_type": "display_data"
    },
    {
     "data": {
      "text/html": [
       "<pre style=\"white-space:pre;overflow-x:auto;line-height:normal;font-family:Menlo,'DejaVu Sans Mono',consolas,'Courier New',monospace\">/Users/Jorge/Library/Caches/pypoetry/virtualenvs/lorawan-chatbot-rag-llm-Kbm_Xz7B-py3.11/lib/python3.11/site-packag\n",
       "es/rich/live.py:231: UserWarning: install \"ipywidgets\" for Jupyter support\n",
       "  warnings.warn('install \"ipywidgets\" for Jupyter support')\n",
       "</pre>\n"
      ],
      "text/plain": [
       "/Users/Jorge/Library/Caches/pypoetry/virtualenvs/lorawan-chatbot-rag-llm-Kbm_Xz7B-py3.11/lib/python3.11/site-packag\n",
       "es/rich/live.py:231: UserWarning: install \"ipywidgets\" for Jupyter support\n",
       "  warnings.warn('install \"ipywidgets\" for Jupyter support')\n"
      ]
     },
     "metadata": {},
     "output_type": "display_data"
    },
    {
     "data": {
      "text/html": [
       "<pre style=\"white-space:pre;overflow-x:auto;line-height:normal;font-family:Menlo,'DejaVu Sans Mono',consolas,'Courier New',monospace\">/Users/Jorge/Library/Caches/pypoetry/virtualenvs/lorawan-chatbot-rag-llm-Kbm_Xz7B-py3.11/lib/python3.11/site-packag\n",
       "es/rich/live.py:231: UserWarning: install \"ipywidgets\" for Jupyter support\n",
       "  warnings.warn('install \"ipywidgets\" for Jupyter support')\n",
       "</pre>\n"
      ],
      "text/plain": [
       "/Users/Jorge/Library/Caches/pypoetry/virtualenvs/lorawan-chatbot-rag-llm-Kbm_Xz7B-py3.11/lib/python3.11/site-packag\n",
       "es/rich/live.py:231: UserWarning: install \"ipywidgets\" for Jupyter support\n",
       "  warnings.warn('install \"ipywidgets\" for Jupyter support')\n"
      ]
     },
     "metadata": {},
     "output_type": "display_data"
    },
    {
     "data": {
      "text/html": [
       "<pre style=\"white-space:pre;overflow-x:auto;line-height:normal;font-family:Menlo,'DejaVu Sans Mono',consolas,'Courier New',monospace\">/Users/Jorge/Library/Caches/pypoetry/virtualenvs/lorawan-chatbot-rag-llm-Kbm_Xz7B-py3.11/lib/python3.11/site-packag\n",
       "es/rich/live.py:231: UserWarning: install \"ipywidgets\" for Jupyter support\n",
       "  warnings.warn('install \"ipywidgets\" for Jupyter support')\n",
       "</pre>\n"
      ],
      "text/plain": [
       "/Users/Jorge/Library/Caches/pypoetry/virtualenvs/lorawan-chatbot-rag-llm-Kbm_Xz7B-py3.11/lib/python3.11/site-packag\n",
       "es/rich/live.py:231: UserWarning: install \"ipywidgets\" for Jupyter support\n",
       "  warnings.warn('install \"ipywidgets\" for Jupyter support')\n"
      ]
     },
     "metadata": {},
     "output_type": "display_data"
    },
    {
     "data": {
      "text/html": [
       "<pre style=\"white-space:pre;overflow-x:auto;line-height:normal;font-family:Menlo,'DejaVu Sans Mono',consolas,'Courier New',monospace\">/Users/Jorge/Library/Caches/pypoetry/virtualenvs/lorawan-chatbot-rag-llm-Kbm_Xz7B-py3.11/lib/python3.11/site-packag\n",
       "es/rich/live.py:231: UserWarning: install \"ipywidgets\" for Jupyter support\n",
       "  warnings.warn('install \"ipywidgets\" for Jupyter support')\n",
       "</pre>\n"
      ],
      "text/plain": [
       "/Users/Jorge/Library/Caches/pypoetry/virtualenvs/lorawan-chatbot-rag-llm-Kbm_Xz7B-py3.11/lib/python3.11/site-packag\n",
       "es/rich/live.py:231: UserWarning: install \"ipywidgets\" for Jupyter support\n",
       "  warnings.warn('install \"ipywidgets\" for Jupyter support')\n"
      ]
     },
     "metadata": {},
     "output_type": "display_data"
    },
    {
     "data": {
      "text/html": [
       "<pre style=\"white-space:pre;overflow-x:auto;line-height:normal;font-family:Menlo,'DejaVu Sans Mono',consolas,'Courier New',monospace\">/Users/Jorge/Library/Caches/pypoetry/virtualenvs/lorawan-chatbot-rag-llm-Kbm_Xz7B-py3.11/lib/python3.11/site-packag\n",
       "es/rich/live.py:231: UserWarning: install \"ipywidgets\" for Jupyter support\n",
       "  warnings.warn('install \"ipywidgets\" for Jupyter support')\n",
       "</pre>\n"
      ],
      "text/plain": [
       "/Users/Jorge/Library/Caches/pypoetry/virtualenvs/lorawan-chatbot-rag-llm-Kbm_Xz7B-py3.11/lib/python3.11/site-packag\n",
       "es/rich/live.py:231: UserWarning: install \"ipywidgets\" for Jupyter support\n",
       "  warnings.warn('install \"ipywidgets\" for Jupyter support')\n"
      ]
     },
     "metadata": {},
     "output_type": "display_data"
    },
    {
     "data": {
      "text/html": [
       "<pre style=\"white-space:pre;overflow-x:auto;line-height:normal;font-family:Menlo,'DejaVu Sans Mono',consolas,'Courier New',monospace\"></pre>\n"
      ],
      "text/plain": []
     },
     "metadata": {},
     "output_type": "display_data"
    },
    {
     "data": {
      "text/html": [
       "<pre style=\"white-space:pre;overflow-x:auto;line-height:normal;font-family:Menlo,'DejaVu Sans Mono',consolas,'Courier New',monospace\">\n",
       "</pre>\n"
      ],
      "text/plain": [
       "\n"
      ]
     },
     "metadata": {},
     "output_type": "display_data"
    },
    {
     "data": {
      "text/html": [
       "<pre style=\"white-space:pre;overflow-x:auto;line-height:normal;font-family:Menlo,'DejaVu Sans Mono',consolas,'Courier New',monospace\">/Users/Jorge/Library/Caches/pypoetry/virtualenvs/lorawan-chatbot-rag-llm-Kbm_Xz7B-py3.11/lib/python3.11/site-packag\n",
       "es/rich/live.py:231: UserWarning: install \"ipywidgets\" for Jupyter support\n",
       "  warnings.warn('install \"ipywidgets\" for Jupyter support')\n",
       "</pre>\n"
      ],
      "text/plain": [
       "/Users/Jorge/Library/Caches/pypoetry/virtualenvs/lorawan-chatbot-rag-llm-Kbm_Xz7B-py3.11/lib/python3.11/site-packag\n",
       "es/rich/live.py:231: UserWarning: install \"ipywidgets\" for Jupyter support\n",
       "  warnings.warn('install \"ipywidgets\" for Jupyter support')\n"
      ]
     },
     "metadata": {},
     "output_type": "display_data"
    },
    {
     "data": {
      "text/html": [
       "<pre style=\"white-space:pre;overflow-x:auto;line-height:normal;font-family:Menlo,'DejaVu Sans Mono',consolas,'Courier New',monospace\">/Users/Jorge/Library/Caches/pypoetry/virtualenvs/lorawan-chatbot-rag-llm-Kbm_Xz7B-py3.11/lib/python3.11/site-packag\n",
       "es/rich/live.py:231: UserWarning: install \"ipywidgets\" for Jupyter support\n",
       "  warnings.warn('install \"ipywidgets\" for Jupyter support')\n",
       "</pre>\n"
      ],
      "text/plain": [
       "/Users/Jorge/Library/Caches/pypoetry/virtualenvs/lorawan-chatbot-rag-llm-Kbm_Xz7B-py3.11/lib/python3.11/site-packag\n",
       "es/rich/live.py:231: UserWarning: install \"ipywidgets\" for Jupyter support\n",
       "  warnings.warn('install \"ipywidgets\" for Jupyter support')\n"
      ]
     },
     "metadata": {},
     "output_type": "display_data"
    },
    {
     "data": {
      "text/html": [
       "<pre style=\"white-space:pre;overflow-x:auto;line-height:normal;font-family:Menlo,'DejaVu Sans Mono',consolas,'Courier New',monospace\">/Users/Jorge/Library/Caches/pypoetry/virtualenvs/lorawan-chatbot-rag-llm-Kbm_Xz7B-py3.11/lib/python3.11/site-packag\n",
       "es/rich/live.py:231: UserWarning: install \"ipywidgets\" for Jupyter support\n",
       "  warnings.warn('install \"ipywidgets\" for Jupyter support')\n",
       "</pre>\n"
      ],
      "text/plain": [
       "/Users/Jorge/Library/Caches/pypoetry/virtualenvs/lorawan-chatbot-rag-llm-Kbm_Xz7B-py3.11/lib/python3.11/site-packag\n",
       "es/rich/live.py:231: UserWarning: install \"ipywidgets\" for Jupyter support\n",
       "  warnings.warn('install \"ipywidgets\" for Jupyter support')\n"
      ]
     },
     "metadata": {},
     "output_type": "display_data"
    },
    {
     "data": {
      "text/html": [
       "<pre style=\"white-space:pre;overflow-x:auto;line-height:normal;font-family:Menlo,'DejaVu Sans Mono',consolas,'Courier New',monospace\">/Users/Jorge/Library/Caches/pypoetry/virtualenvs/lorawan-chatbot-rag-llm-Kbm_Xz7B-py3.11/lib/python3.11/site-packag\n",
       "es/rich/live.py:231: UserWarning: install \"ipywidgets\" for Jupyter support\n",
       "  warnings.warn('install \"ipywidgets\" for Jupyter support')\n",
       "</pre>\n"
      ],
      "text/plain": [
       "/Users/Jorge/Library/Caches/pypoetry/virtualenvs/lorawan-chatbot-rag-llm-Kbm_Xz7B-py3.11/lib/python3.11/site-packag\n",
       "es/rich/live.py:231: UserWarning: install \"ipywidgets\" for Jupyter support\n",
       "  warnings.warn('install \"ipywidgets\" for Jupyter support')\n"
      ]
     },
     "metadata": {},
     "output_type": "display_data"
    },
    {
     "data": {
      "text/html": [
       "<pre style=\"white-space:pre;overflow-x:auto;line-height:normal;font-family:Menlo,'DejaVu Sans Mono',consolas,'Courier New',monospace\">/Users/Jorge/Library/Caches/pypoetry/virtualenvs/lorawan-chatbot-rag-llm-Kbm_Xz7B-py3.11/lib/python3.11/site-packag\n",
       "es/rich/live.py:231: UserWarning: install \"ipywidgets\" for Jupyter support\n",
       "  warnings.warn('install \"ipywidgets\" for Jupyter support')\n",
       "</pre>\n"
      ],
      "text/plain": [
       "/Users/Jorge/Library/Caches/pypoetry/virtualenvs/lorawan-chatbot-rag-llm-Kbm_Xz7B-py3.11/lib/python3.11/site-packag\n",
       "es/rich/live.py:231: UserWarning: install \"ipywidgets\" for Jupyter support\n",
       "  warnings.warn('install \"ipywidgets\" for Jupyter support')\n"
      ]
     },
     "metadata": {},
     "output_type": "display_data"
    },
    {
     "data": {
      "text/html": [
       "<pre style=\"white-space:pre;overflow-x:auto;line-height:normal;font-family:Menlo,'DejaVu Sans Mono',consolas,'Courier New',monospace\">/Users/Jorge/Library/Caches/pypoetry/virtualenvs/lorawan-chatbot-rag-llm-Kbm_Xz7B-py3.11/lib/python3.11/site-packag\n",
       "es/rich/live.py:231: UserWarning: install \"ipywidgets\" for Jupyter support\n",
       "  warnings.warn('install \"ipywidgets\" for Jupyter support')\n",
       "</pre>\n"
      ],
      "text/plain": [
       "/Users/Jorge/Library/Caches/pypoetry/virtualenvs/lorawan-chatbot-rag-llm-Kbm_Xz7B-py3.11/lib/python3.11/site-packag\n",
       "es/rich/live.py:231: UserWarning: install \"ipywidgets\" for Jupyter support\n",
       "  warnings.warn('install \"ipywidgets\" for Jupyter support')\n"
      ]
     },
     "metadata": {},
     "output_type": "display_data"
    },
    {
     "data": {
      "text/html": [
       "<pre style=\"white-space:pre;overflow-x:auto;line-height:normal;font-family:Menlo,'DejaVu Sans Mono',consolas,'Courier New',monospace\">/Users/Jorge/Library/Caches/pypoetry/virtualenvs/lorawan-chatbot-rag-llm-Kbm_Xz7B-py3.11/lib/python3.11/site-packag\n",
       "es/rich/live.py:231: UserWarning: install \"ipywidgets\" for Jupyter support\n",
       "  warnings.warn('install \"ipywidgets\" for Jupyter support')\n",
       "</pre>\n"
      ],
      "text/plain": [
       "/Users/Jorge/Library/Caches/pypoetry/virtualenvs/lorawan-chatbot-rag-llm-Kbm_Xz7B-py3.11/lib/python3.11/site-packag\n",
       "es/rich/live.py:231: UserWarning: install \"ipywidgets\" for Jupyter support\n",
       "  warnings.warn('install \"ipywidgets\" for Jupyter support')\n"
      ]
     },
     "metadata": {},
     "output_type": "display_data"
    },
    {
     "data": {
      "text/html": [
       "<pre style=\"white-space:pre;overflow-x:auto;line-height:normal;font-family:Menlo,'DejaVu Sans Mono',consolas,'Courier New',monospace\">/Users/Jorge/Library/Caches/pypoetry/virtualenvs/lorawan-chatbot-rag-llm-Kbm_Xz7B-py3.11/lib/python3.11/site-packag\n",
       "es/rich/live.py:231: UserWarning: install \"ipywidgets\" for Jupyter support\n",
       "  warnings.warn('install \"ipywidgets\" for Jupyter support')\n",
       "</pre>\n"
      ],
      "text/plain": [
       "/Users/Jorge/Library/Caches/pypoetry/virtualenvs/lorawan-chatbot-rag-llm-Kbm_Xz7B-py3.11/lib/python3.11/site-packag\n",
       "es/rich/live.py:231: UserWarning: install \"ipywidgets\" for Jupyter support\n",
       "  warnings.warn('install \"ipywidgets\" for Jupyter support')\n"
      ]
     },
     "metadata": {},
     "output_type": "display_data"
    },
    {
     "data": {
      "text/html": [
       "<pre style=\"white-space:pre;overflow-x:auto;line-height:normal;font-family:Menlo,'DejaVu Sans Mono',consolas,'Courier New',monospace\">/Users/Jorge/Library/Caches/pypoetry/virtualenvs/lorawan-chatbot-rag-llm-Kbm_Xz7B-py3.11/lib/python3.11/site-packag\n",
       "es/rich/live.py:231: UserWarning: install \"ipywidgets\" for Jupyter support\n",
       "  warnings.warn('install \"ipywidgets\" for Jupyter support')\n",
       "</pre>\n"
      ],
      "text/plain": [
       "/Users/Jorge/Library/Caches/pypoetry/virtualenvs/lorawan-chatbot-rag-llm-Kbm_Xz7B-py3.11/lib/python3.11/site-packag\n",
       "es/rich/live.py:231: UserWarning: install \"ipywidgets\" for Jupyter support\n",
       "  warnings.warn('install \"ipywidgets\" for Jupyter support')\n"
      ]
     },
     "metadata": {},
     "output_type": "display_data"
    },
    {
     "data": {
      "text/html": [
       "<pre style=\"white-space:pre;overflow-x:auto;line-height:normal;font-family:Menlo,'DejaVu Sans Mono',consolas,'Courier New',monospace\">/Users/Jorge/Library/Caches/pypoetry/virtualenvs/lorawan-chatbot-rag-llm-Kbm_Xz7B-py3.11/lib/python3.11/site-packag\n",
       "es/rich/live.py:231: UserWarning: install \"ipywidgets\" for Jupyter support\n",
       "  warnings.warn('install \"ipywidgets\" for Jupyter support')\n",
       "</pre>\n"
      ],
      "text/plain": [
       "/Users/Jorge/Library/Caches/pypoetry/virtualenvs/lorawan-chatbot-rag-llm-Kbm_Xz7B-py3.11/lib/python3.11/site-packag\n",
       "es/rich/live.py:231: UserWarning: install \"ipywidgets\" for Jupyter support\n",
       "  warnings.warn('install \"ipywidgets\" for Jupyter support')\n"
      ]
     },
     "metadata": {},
     "output_type": "display_data"
    },
    {
     "data": {
      "text/html": [
       "<pre style=\"white-space:pre;overflow-x:auto;line-height:normal;font-family:Menlo,'DejaVu Sans Mono',consolas,'Courier New',monospace\"></pre>\n"
      ],
      "text/plain": []
     },
     "metadata": {},
     "output_type": "display_data"
    },
    {
     "data": {
      "text/html": [
       "<pre style=\"white-space:pre;overflow-x:auto;line-height:normal;font-family:Menlo,'DejaVu Sans Mono',consolas,'Courier New',monospace\">\n",
       "</pre>\n"
      ],
      "text/plain": [
       "\n"
      ]
     },
     "metadata": {},
     "output_type": "display_data"
    },
    {
     "data": {
      "text/html": [
       "<pre style=\"white-space:pre;overflow-x:auto;line-height:normal;font-family:Menlo,'DejaVu Sans Mono',consolas,'Courier New',monospace\">/Users/Jorge/Library/Caches/pypoetry/virtualenvs/lorawan-chatbot-rag-llm-Kbm_Xz7B-py3.11/lib/python3.11/site-packag\n",
       "es/rich/live.py:231: UserWarning: install \"ipywidgets\" for Jupyter support\n",
       "  warnings.warn('install \"ipywidgets\" for Jupyter support')\n",
       "</pre>\n"
      ],
      "text/plain": [
       "/Users/Jorge/Library/Caches/pypoetry/virtualenvs/lorawan-chatbot-rag-llm-Kbm_Xz7B-py3.11/lib/python3.11/site-packag\n",
       "es/rich/live.py:231: UserWarning: install \"ipywidgets\" for Jupyter support\n",
       "  warnings.warn('install \"ipywidgets\" for Jupyter support')\n"
      ]
     },
     "metadata": {},
     "output_type": "display_data"
    },
    {
     "data": {
      "text/html": [
       "<pre style=\"white-space:pre;overflow-x:auto;line-height:normal;font-family:Menlo,'DejaVu Sans Mono',consolas,'Courier New',monospace\">/Users/Jorge/Library/Caches/pypoetry/virtualenvs/lorawan-chatbot-rag-llm-Kbm_Xz7B-py3.11/lib/python3.11/site-packag\n",
       "es/rich/live.py:231: UserWarning: install \"ipywidgets\" for Jupyter support\n",
       "  warnings.warn('install \"ipywidgets\" for Jupyter support')\n",
       "</pre>\n"
      ],
      "text/plain": [
       "/Users/Jorge/Library/Caches/pypoetry/virtualenvs/lorawan-chatbot-rag-llm-Kbm_Xz7B-py3.11/lib/python3.11/site-packag\n",
       "es/rich/live.py:231: UserWarning: install \"ipywidgets\" for Jupyter support\n",
       "  warnings.warn('install \"ipywidgets\" for Jupyter support')\n"
      ]
     },
     "metadata": {},
     "output_type": "display_data"
    },
    {
     "data": {
      "text/html": [
       "<pre style=\"white-space:pre;overflow-x:auto;line-height:normal;font-family:Menlo,'DejaVu Sans Mono',consolas,'Courier New',monospace\">/Users/Jorge/Library/Caches/pypoetry/virtualenvs/lorawan-chatbot-rag-llm-Kbm_Xz7B-py3.11/lib/python3.11/site-packag\n",
       "es/rich/live.py:231: UserWarning: install \"ipywidgets\" for Jupyter support\n",
       "  warnings.warn('install \"ipywidgets\" for Jupyter support')\n",
       "</pre>\n"
      ],
      "text/plain": [
       "/Users/Jorge/Library/Caches/pypoetry/virtualenvs/lorawan-chatbot-rag-llm-Kbm_Xz7B-py3.11/lib/python3.11/site-packag\n",
       "es/rich/live.py:231: UserWarning: install \"ipywidgets\" for Jupyter support\n",
       "  warnings.warn('install \"ipywidgets\" for Jupyter support')\n"
      ]
     },
     "metadata": {},
     "output_type": "display_data"
    },
    {
     "data": {
      "text/html": [
       "<pre style=\"white-space:pre;overflow-x:auto;line-height:normal;font-family:Menlo,'DejaVu Sans Mono',consolas,'Courier New',monospace\">/Users/Jorge/Library/Caches/pypoetry/virtualenvs/lorawan-chatbot-rag-llm-Kbm_Xz7B-py3.11/lib/python3.11/site-packag\n",
       "es/rich/live.py:231: UserWarning: install \"ipywidgets\" for Jupyter support\n",
       "  warnings.warn('install \"ipywidgets\" for Jupyter support')\n",
       "</pre>\n"
      ],
      "text/plain": [
       "/Users/Jorge/Library/Caches/pypoetry/virtualenvs/lorawan-chatbot-rag-llm-Kbm_Xz7B-py3.11/lib/python3.11/site-packag\n",
       "es/rich/live.py:231: UserWarning: install \"ipywidgets\" for Jupyter support\n",
       "  warnings.warn('install \"ipywidgets\" for Jupyter support')\n"
      ]
     },
     "metadata": {},
     "output_type": "display_data"
    },
    {
     "data": {
      "text/html": [
       "<pre style=\"white-space:pre;overflow-x:auto;line-height:normal;font-family:Menlo,'DejaVu Sans Mono',consolas,'Courier New',monospace\">/Users/Jorge/Library/Caches/pypoetry/virtualenvs/lorawan-chatbot-rag-llm-Kbm_Xz7B-py3.11/lib/python3.11/site-packag\n",
       "es/rich/live.py:231: UserWarning: install \"ipywidgets\" for Jupyter support\n",
       "  warnings.warn('install \"ipywidgets\" for Jupyter support')\n",
       "</pre>\n"
      ],
      "text/plain": [
       "/Users/Jorge/Library/Caches/pypoetry/virtualenvs/lorawan-chatbot-rag-llm-Kbm_Xz7B-py3.11/lib/python3.11/site-packag\n",
       "es/rich/live.py:231: UserWarning: install \"ipywidgets\" for Jupyter support\n",
       "  warnings.warn('install \"ipywidgets\" for Jupyter support')\n"
      ]
     },
     "metadata": {},
     "output_type": "display_data"
    },
    {
     "data": {
      "text/html": [
       "<pre style=\"white-space:pre;overflow-x:auto;line-height:normal;font-family:Menlo,'DejaVu Sans Mono',consolas,'Courier New',monospace\">/Users/Jorge/Library/Caches/pypoetry/virtualenvs/lorawan-chatbot-rag-llm-Kbm_Xz7B-py3.11/lib/python3.11/site-packag\n",
       "es/rich/live.py:231: UserWarning: install \"ipywidgets\" for Jupyter support\n",
       "  warnings.warn('install \"ipywidgets\" for Jupyter support')\n",
       "</pre>\n"
      ],
      "text/plain": [
       "/Users/Jorge/Library/Caches/pypoetry/virtualenvs/lorawan-chatbot-rag-llm-Kbm_Xz7B-py3.11/lib/python3.11/site-packag\n",
       "es/rich/live.py:231: UserWarning: install \"ipywidgets\" for Jupyter support\n",
       "  warnings.warn('install \"ipywidgets\" for Jupyter support')\n"
      ]
     },
     "metadata": {},
     "output_type": "display_data"
    },
    {
     "data": {
      "text/html": [
       "<pre style=\"white-space:pre;overflow-x:auto;line-height:normal;font-family:Menlo,'DejaVu Sans Mono',consolas,'Courier New',monospace\">/Users/Jorge/Library/Caches/pypoetry/virtualenvs/lorawan-chatbot-rag-llm-Kbm_Xz7B-py3.11/lib/python3.11/site-packag\n",
       "es/rich/live.py:231: UserWarning: install \"ipywidgets\" for Jupyter support\n",
       "  warnings.warn('install \"ipywidgets\" for Jupyter support')\n",
       "</pre>\n"
      ],
      "text/plain": [
       "/Users/Jorge/Library/Caches/pypoetry/virtualenvs/lorawan-chatbot-rag-llm-Kbm_Xz7B-py3.11/lib/python3.11/site-packag\n",
       "es/rich/live.py:231: UserWarning: install \"ipywidgets\" for Jupyter support\n",
       "  warnings.warn('install \"ipywidgets\" for Jupyter support')\n"
      ]
     },
     "metadata": {},
     "output_type": "display_data"
    },
    {
     "data": {
      "text/html": [
       "<pre style=\"white-space:pre;overflow-x:auto;line-height:normal;font-family:Menlo,'DejaVu Sans Mono',consolas,'Courier New',monospace\">/Users/Jorge/Library/Caches/pypoetry/virtualenvs/lorawan-chatbot-rag-llm-Kbm_Xz7B-py3.11/lib/python3.11/site-packag\n",
       "es/rich/live.py:231: UserWarning: install \"ipywidgets\" for Jupyter support\n",
       "  warnings.warn('install \"ipywidgets\" for Jupyter support')\n",
       "</pre>\n"
      ],
      "text/plain": [
       "/Users/Jorge/Library/Caches/pypoetry/virtualenvs/lorawan-chatbot-rag-llm-Kbm_Xz7B-py3.11/lib/python3.11/site-packag\n",
       "es/rich/live.py:231: UserWarning: install \"ipywidgets\" for Jupyter support\n",
       "  warnings.warn('install \"ipywidgets\" for Jupyter support')\n"
      ]
     },
     "metadata": {},
     "output_type": "display_data"
    },
    {
     "data": {
      "text/html": [
       "<pre style=\"white-space:pre;overflow-x:auto;line-height:normal;font-family:Menlo,'DejaVu Sans Mono',consolas,'Courier New',monospace\"></pre>\n"
      ],
      "text/plain": []
     },
     "metadata": {},
     "output_type": "display_data"
    },
    {
     "data": {
      "text/html": [
       "<pre style=\"white-space:pre;overflow-x:auto;line-height:normal;font-family:Menlo,'DejaVu Sans Mono',consolas,'Courier New',monospace\">\n",
       "</pre>\n"
      ],
      "text/plain": [
       "\n"
      ]
     },
     "metadata": {},
     "output_type": "display_data"
    },
    {
     "data": {
      "text/html": [
       "<pre style=\"white-space:pre;overflow-x:auto;line-height:normal;font-family:Menlo,'DejaVu Sans Mono',consolas,'Courier New',monospace\">/Users/Jorge/Library/Caches/pypoetry/virtualenvs/lorawan-chatbot-rag-llm-Kbm_Xz7B-py3.11/lib/python3.11/site-packag\n",
       "es/rich/live.py:231: UserWarning: install \"ipywidgets\" for Jupyter support\n",
       "  warnings.warn('install \"ipywidgets\" for Jupyter support')\n",
       "</pre>\n"
      ],
      "text/plain": [
       "/Users/Jorge/Library/Caches/pypoetry/virtualenvs/lorawan-chatbot-rag-llm-Kbm_Xz7B-py3.11/lib/python3.11/site-packag\n",
       "es/rich/live.py:231: UserWarning: install \"ipywidgets\" for Jupyter support\n",
       "  warnings.warn('install \"ipywidgets\" for Jupyter support')\n"
      ]
     },
     "metadata": {},
     "output_type": "display_data"
    },
    {
     "data": {
      "text/html": [
       "<pre style=\"white-space:pre;overflow-x:auto;line-height:normal;font-family:Menlo,'DejaVu Sans Mono',consolas,'Courier New',monospace\">/Users/Jorge/Library/Caches/pypoetry/virtualenvs/lorawan-chatbot-rag-llm-Kbm_Xz7B-py3.11/lib/python3.11/site-packag\n",
       "es/rich/live.py:231: UserWarning: install \"ipywidgets\" for Jupyter support\n",
       "  warnings.warn('install \"ipywidgets\" for Jupyter support')\n",
       "</pre>\n"
      ],
      "text/plain": [
       "/Users/Jorge/Library/Caches/pypoetry/virtualenvs/lorawan-chatbot-rag-llm-Kbm_Xz7B-py3.11/lib/python3.11/site-packag\n",
       "es/rich/live.py:231: UserWarning: install \"ipywidgets\" for Jupyter support\n",
       "  warnings.warn('install \"ipywidgets\" for Jupyter support')\n"
      ]
     },
     "metadata": {},
     "output_type": "display_data"
    },
    {
     "data": {
      "text/html": [
       "<pre style=\"white-space:pre;overflow-x:auto;line-height:normal;font-family:Menlo,'DejaVu Sans Mono',consolas,'Courier New',monospace\">/Users/Jorge/Library/Caches/pypoetry/virtualenvs/lorawan-chatbot-rag-llm-Kbm_Xz7B-py3.11/lib/python3.11/site-packag\n",
       "es/rich/live.py:231: UserWarning: install \"ipywidgets\" for Jupyter support\n",
       "  warnings.warn('install \"ipywidgets\" for Jupyter support')\n",
       "</pre>\n"
      ],
      "text/plain": [
       "/Users/Jorge/Library/Caches/pypoetry/virtualenvs/lorawan-chatbot-rag-llm-Kbm_Xz7B-py3.11/lib/python3.11/site-packag\n",
       "es/rich/live.py:231: UserWarning: install \"ipywidgets\" for Jupyter support\n",
       "  warnings.warn('install \"ipywidgets\" for Jupyter support')\n"
      ]
     },
     "metadata": {},
     "output_type": "display_data"
    },
    {
     "data": {
      "text/html": [
       "<pre style=\"white-space:pre;overflow-x:auto;line-height:normal;font-family:Menlo,'DejaVu Sans Mono',consolas,'Courier New',monospace\">/Users/Jorge/Library/Caches/pypoetry/virtualenvs/lorawan-chatbot-rag-llm-Kbm_Xz7B-py3.11/lib/python3.11/site-packag\n",
       "es/rich/live.py:231: UserWarning: install \"ipywidgets\" for Jupyter support\n",
       "  warnings.warn('install \"ipywidgets\" for Jupyter support')\n",
       "</pre>\n"
      ],
      "text/plain": [
       "/Users/Jorge/Library/Caches/pypoetry/virtualenvs/lorawan-chatbot-rag-llm-Kbm_Xz7B-py3.11/lib/python3.11/site-packag\n",
       "es/rich/live.py:231: UserWarning: install \"ipywidgets\" for Jupyter support\n",
       "  warnings.warn('install \"ipywidgets\" for Jupyter support')\n"
      ]
     },
     "metadata": {},
     "output_type": "display_data"
    },
    {
     "data": {
      "text/html": [
       "<pre style=\"white-space:pre;overflow-x:auto;line-height:normal;font-family:Menlo,'DejaVu Sans Mono',consolas,'Courier New',monospace\">/Users/Jorge/Library/Caches/pypoetry/virtualenvs/lorawan-chatbot-rag-llm-Kbm_Xz7B-py3.11/lib/python3.11/site-packag\n",
       "es/rich/live.py:231: UserWarning: install \"ipywidgets\" for Jupyter support\n",
       "  warnings.warn('install \"ipywidgets\" for Jupyter support')\n",
       "</pre>\n"
      ],
      "text/plain": [
       "/Users/Jorge/Library/Caches/pypoetry/virtualenvs/lorawan-chatbot-rag-llm-Kbm_Xz7B-py3.11/lib/python3.11/site-packag\n",
       "es/rich/live.py:231: UserWarning: install \"ipywidgets\" for Jupyter support\n",
       "  warnings.warn('install \"ipywidgets\" for Jupyter support')\n"
      ]
     },
     "metadata": {},
     "output_type": "display_data"
    },
    {
     "data": {
      "text/html": [
       "<pre style=\"white-space:pre;overflow-x:auto;line-height:normal;font-family:Menlo,'DejaVu Sans Mono',consolas,'Courier New',monospace\">/Users/Jorge/Library/Caches/pypoetry/virtualenvs/lorawan-chatbot-rag-llm-Kbm_Xz7B-py3.11/lib/python3.11/site-packag\n",
       "es/rich/live.py:231: UserWarning: install \"ipywidgets\" for Jupyter support\n",
       "  warnings.warn('install \"ipywidgets\" for Jupyter support')\n",
       "</pre>\n"
      ],
      "text/plain": [
       "/Users/Jorge/Library/Caches/pypoetry/virtualenvs/lorawan-chatbot-rag-llm-Kbm_Xz7B-py3.11/lib/python3.11/site-packag\n",
       "es/rich/live.py:231: UserWarning: install \"ipywidgets\" for Jupyter support\n",
       "  warnings.warn('install \"ipywidgets\" for Jupyter support')\n"
      ]
     },
     "metadata": {},
     "output_type": "display_data"
    },
    {
     "data": {
      "text/html": [
       "<pre style=\"white-space:pre;overflow-x:auto;line-height:normal;font-family:Menlo,'DejaVu Sans Mono',consolas,'Courier New',monospace\">/Users/Jorge/Library/Caches/pypoetry/virtualenvs/lorawan-chatbot-rag-llm-Kbm_Xz7B-py3.11/lib/python3.11/site-packag\n",
       "es/rich/live.py:231: UserWarning: install \"ipywidgets\" for Jupyter support\n",
       "  warnings.warn('install \"ipywidgets\" for Jupyter support')\n",
       "</pre>\n"
      ],
      "text/plain": [
       "/Users/Jorge/Library/Caches/pypoetry/virtualenvs/lorawan-chatbot-rag-llm-Kbm_Xz7B-py3.11/lib/python3.11/site-packag\n",
       "es/rich/live.py:231: UserWarning: install \"ipywidgets\" for Jupyter support\n",
       "  warnings.warn('install \"ipywidgets\" for Jupyter support')\n"
      ]
     },
     "metadata": {},
     "output_type": "display_data"
    },
    {
     "data": {
      "text/html": [
       "<pre style=\"white-space:pre;overflow-x:auto;line-height:normal;font-family:Menlo,'DejaVu Sans Mono',consolas,'Courier New',monospace\">/Users/Jorge/Library/Caches/pypoetry/virtualenvs/lorawan-chatbot-rag-llm-Kbm_Xz7B-py3.11/lib/python3.11/site-packag\n",
       "es/rich/live.py:231: UserWarning: install \"ipywidgets\" for Jupyter support\n",
       "  warnings.warn('install \"ipywidgets\" for Jupyter support')\n",
       "</pre>\n"
      ],
      "text/plain": [
       "/Users/Jorge/Library/Caches/pypoetry/virtualenvs/lorawan-chatbot-rag-llm-Kbm_Xz7B-py3.11/lib/python3.11/site-packag\n",
       "es/rich/live.py:231: UserWarning: install \"ipywidgets\" for Jupyter support\n",
       "  warnings.warn('install \"ipywidgets\" for Jupyter support')\n"
      ]
     },
     "metadata": {},
     "output_type": "display_data"
    },
    {
     "data": {
      "text/html": [
       "<pre style=\"white-space:pre;overflow-x:auto;line-height:normal;font-family:Menlo,'DejaVu Sans Mono',consolas,'Courier New',monospace\">/Users/Jorge/Library/Caches/pypoetry/virtualenvs/lorawan-chatbot-rag-llm-Kbm_Xz7B-py3.11/lib/python3.11/site-packag\n",
       "es/rich/live.py:231: UserWarning: install \"ipywidgets\" for Jupyter support\n",
       "  warnings.warn('install \"ipywidgets\" for Jupyter support')\n",
       "</pre>\n"
      ],
      "text/plain": [
       "/Users/Jorge/Library/Caches/pypoetry/virtualenvs/lorawan-chatbot-rag-llm-Kbm_Xz7B-py3.11/lib/python3.11/site-packag\n",
       "es/rich/live.py:231: UserWarning: install \"ipywidgets\" for Jupyter support\n",
       "  warnings.warn('install \"ipywidgets\" for Jupyter support')\n"
      ]
     },
     "metadata": {},
     "output_type": "display_data"
    },
    {
     "data": {
      "text/html": [
       "<pre style=\"white-space:pre;overflow-x:auto;line-height:normal;font-family:Menlo,'DejaVu Sans Mono',consolas,'Courier New',monospace\">/Users/Jorge/Library/Caches/pypoetry/virtualenvs/lorawan-chatbot-rag-llm-Kbm_Xz7B-py3.11/lib/python3.11/site-packag\n",
       "es/rich/live.py:231: UserWarning: install \"ipywidgets\" for Jupyter support\n",
       "  warnings.warn('install \"ipywidgets\" for Jupyter support')\n",
       "</pre>\n"
      ],
      "text/plain": [
       "/Users/Jorge/Library/Caches/pypoetry/virtualenvs/lorawan-chatbot-rag-llm-Kbm_Xz7B-py3.11/lib/python3.11/site-packag\n",
       "es/rich/live.py:231: UserWarning: install \"ipywidgets\" for Jupyter support\n",
       "  warnings.warn('install \"ipywidgets\" for Jupyter support')\n"
      ]
     },
     "metadata": {},
     "output_type": "display_data"
    },
    {
     "data": {
      "text/html": [
       "<pre style=\"white-space:pre;overflow-x:auto;line-height:normal;font-family:Menlo,'DejaVu Sans Mono',consolas,'Courier New',monospace\">/Users/Jorge/Library/Caches/pypoetry/virtualenvs/lorawan-chatbot-rag-llm-Kbm_Xz7B-py3.11/lib/python3.11/site-packag\n",
       "es/rich/live.py:231: UserWarning: install \"ipywidgets\" for Jupyter support\n",
       "  warnings.warn('install \"ipywidgets\" for Jupyter support')\n",
       "</pre>\n"
      ],
      "text/plain": [
       "/Users/Jorge/Library/Caches/pypoetry/virtualenvs/lorawan-chatbot-rag-llm-Kbm_Xz7B-py3.11/lib/python3.11/site-packag\n",
       "es/rich/live.py:231: UserWarning: install \"ipywidgets\" for Jupyter support\n",
       "  warnings.warn('install \"ipywidgets\" for Jupyter support')\n"
      ]
     },
     "metadata": {},
     "output_type": "display_data"
    },
    {
     "data": {
      "text/html": [
       "<pre style=\"white-space:pre;overflow-x:auto;line-height:normal;font-family:Menlo,'DejaVu Sans Mono',consolas,'Courier New',monospace\"></pre>\n"
      ],
      "text/plain": []
     },
     "metadata": {},
     "output_type": "display_data"
    },
    {
     "data": {
      "text/html": [
       "<pre style=\"white-space:pre;overflow-x:auto;line-height:normal;font-family:Menlo,'DejaVu Sans Mono',consolas,'Courier New',monospace\">\n",
       "</pre>\n"
      ],
      "text/plain": [
       "\n"
      ]
     },
     "metadata": {},
     "output_type": "display_data"
    },
    {
     "data": {
      "text/html": [
       "<pre style=\"white-space:pre;overflow-x:auto;line-height:normal;font-family:Menlo,'DejaVu Sans Mono',consolas,'Courier New',monospace\">/Users/Jorge/Library/Caches/pypoetry/virtualenvs/lorawan-chatbot-rag-llm-Kbm_Xz7B-py3.11/lib/python3.11/site-packag\n",
       "es/rich/live.py:231: UserWarning: install \"ipywidgets\" for Jupyter support\n",
       "  warnings.warn('install \"ipywidgets\" for Jupyter support')\n",
       "</pre>\n"
      ],
      "text/plain": [
       "/Users/Jorge/Library/Caches/pypoetry/virtualenvs/lorawan-chatbot-rag-llm-Kbm_Xz7B-py3.11/lib/python3.11/site-packag\n",
       "es/rich/live.py:231: UserWarning: install \"ipywidgets\" for Jupyter support\n",
       "  warnings.warn('install \"ipywidgets\" for Jupyter support')\n"
      ]
     },
     "metadata": {},
     "output_type": "display_data"
    },
    {
     "data": {
      "text/html": [
       "<pre style=\"white-space:pre;overflow-x:auto;line-height:normal;font-family:Menlo,'DejaVu Sans Mono',consolas,'Courier New',monospace\">/Users/Jorge/Library/Caches/pypoetry/virtualenvs/lorawan-chatbot-rag-llm-Kbm_Xz7B-py3.11/lib/python3.11/site-packag\n",
       "es/rich/live.py:231: UserWarning: install \"ipywidgets\" for Jupyter support\n",
       "  warnings.warn('install \"ipywidgets\" for Jupyter support')\n",
       "</pre>\n"
      ],
      "text/plain": [
       "/Users/Jorge/Library/Caches/pypoetry/virtualenvs/lorawan-chatbot-rag-llm-Kbm_Xz7B-py3.11/lib/python3.11/site-packag\n",
       "es/rich/live.py:231: UserWarning: install \"ipywidgets\" for Jupyter support\n",
       "  warnings.warn('install \"ipywidgets\" for Jupyter support')\n"
      ]
     },
     "metadata": {},
     "output_type": "display_data"
    },
    {
     "data": {
      "text/html": [
       "<pre style=\"white-space:pre;overflow-x:auto;line-height:normal;font-family:Menlo,'DejaVu Sans Mono',consolas,'Courier New',monospace\">/Users/Jorge/Library/Caches/pypoetry/virtualenvs/lorawan-chatbot-rag-llm-Kbm_Xz7B-py3.11/lib/python3.11/site-packag\n",
       "es/rich/live.py:231: UserWarning: install \"ipywidgets\" for Jupyter support\n",
       "  warnings.warn('install \"ipywidgets\" for Jupyter support')\n",
       "</pre>\n"
      ],
      "text/plain": [
       "/Users/Jorge/Library/Caches/pypoetry/virtualenvs/lorawan-chatbot-rag-llm-Kbm_Xz7B-py3.11/lib/python3.11/site-packag\n",
       "es/rich/live.py:231: UserWarning: install \"ipywidgets\" for Jupyter support\n",
       "  warnings.warn('install \"ipywidgets\" for Jupyter support')\n"
      ]
     },
     "metadata": {},
     "output_type": "display_data"
    },
    {
     "data": {
      "text/html": [
       "<pre style=\"white-space:pre;overflow-x:auto;line-height:normal;font-family:Menlo,'DejaVu Sans Mono',consolas,'Courier New',monospace\">/Users/Jorge/Library/Caches/pypoetry/virtualenvs/lorawan-chatbot-rag-llm-Kbm_Xz7B-py3.11/lib/python3.11/site-packag\n",
       "es/rich/live.py:231: UserWarning: install \"ipywidgets\" for Jupyter support\n",
       "  warnings.warn('install \"ipywidgets\" for Jupyter support')\n",
       "</pre>\n"
      ],
      "text/plain": [
       "/Users/Jorge/Library/Caches/pypoetry/virtualenvs/lorawan-chatbot-rag-llm-Kbm_Xz7B-py3.11/lib/python3.11/site-packag\n",
       "es/rich/live.py:231: UserWarning: install \"ipywidgets\" for Jupyter support\n",
       "  warnings.warn('install \"ipywidgets\" for Jupyter support')\n"
      ]
     },
     "metadata": {},
     "output_type": "display_data"
    },
    {
     "data": {
      "text/html": [
       "<pre style=\"white-space:pre;overflow-x:auto;line-height:normal;font-family:Menlo,'DejaVu Sans Mono',consolas,'Courier New',monospace\">/Users/Jorge/Library/Caches/pypoetry/virtualenvs/lorawan-chatbot-rag-llm-Kbm_Xz7B-py3.11/lib/python3.11/site-packag\n",
       "es/rich/live.py:231: UserWarning: install \"ipywidgets\" for Jupyter support\n",
       "  warnings.warn('install \"ipywidgets\" for Jupyter support')\n",
       "</pre>\n"
      ],
      "text/plain": [
       "/Users/Jorge/Library/Caches/pypoetry/virtualenvs/lorawan-chatbot-rag-llm-Kbm_Xz7B-py3.11/lib/python3.11/site-packag\n",
       "es/rich/live.py:231: UserWarning: install \"ipywidgets\" for Jupyter support\n",
       "  warnings.warn('install \"ipywidgets\" for Jupyter support')\n"
      ]
     },
     "metadata": {},
     "output_type": "display_data"
    },
    {
     "data": {
      "text/html": [
       "<pre style=\"white-space:pre;overflow-x:auto;line-height:normal;font-family:Menlo,'DejaVu Sans Mono',consolas,'Courier New',monospace\">/Users/Jorge/Library/Caches/pypoetry/virtualenvs/lorawan-chatbot-rag-llm-Kbm_Xz7B-py3.11/lib/python3.11/site-packag\n",
       "es/rich/live.py:231: UserWarning: install \"ipywidgets\" for Jupyter support\n",
       "  warnings.warn('install \"ipywidgets\" for Jupyter support')\n",
       "</pre>\n"
      ],
      "text/plain": [
       "/Users/Jorge/Library/Caches/pypoetry/virtualenvs/lorawan-chatbot-rag-llm-Kbm_Xz7B-py3.11/lib/python3.11/site-packag\n",
       "es/rich/live.py:231: UserWarning: install \"ipywidgets\" for Jupyter support\n",
       "  warnings.warn('install \"ipywidgets\" for Jupyter support')\n"
      ]
     },
     "metadata": {},
     "output_type": "display_data"
    },
    {
     "data": {
      "text/html": [
       "<pre style=\"white-space:pre;overflow-x:auto;line-height:normal;font-family:Menlo,'DejaVu Sans Mono',consolas,'Courier New',monospace\">/Users/Jorge/Library/Caches/pypoetry/virtualenvs/lorawan-chatbot-rag-llm-Kbm_Xz7B-py3.11/lib/python3.11/site-packag\n",
       "es/rich/live.py:231: UserWarning: install \"ipywidgets\" for Jupyter support\n",
       "  warnings.warn('install \"ipywidgets\" for Jupyter support')\n",
       "</pre>\n"
      ],
      "text/plain": [
       "/Users/Jorge/Library/Caches/pypoetry/virtualenvs/lorawan-chatbot-rag-llm-Kbm_Xz7B-py3.11/lib/python3.11/site-packag\n",
       "es/rich/live.py:231: UserWarning: install \"ipywidgets\" for Jupyter support\n",
       "  warnings.warn('install \"ipywidgets\" for Jupyter support')\n"
      ]
     },
     "metadata": {},
     "output_type": "display_data"
    },
    {
     "data": {
      "text/html": [
       "<pre style=\"white-space:pre;overflow-x:auto;line-height:normal;font-family:Menlo,'DejaVu Sans Mono',consolas,'Courier New',monospace\">/Users/Jorge/Library/Caches/pypoetry/virtualenvs/lorawan-chatbot-rag-llm-Kbm_Xz7B-py3.11/lib/python3.11/site-packag\n",
       "es/rich/live.py:231: UserWarning: install \"ipywidgets\" for Jupyter support\n",
       "  warnings.warn('install \"ipywidgets\" for Jupyter support')\n",
       "</pre>\n"
      ],
      "text/plain": [
       "/Users/Jorge/Library/Caches/pypoetry/virtualenvs/lorawan-chatbot-rag-llm-Kbm_Xz7B-py3.11/lib/python3.11/site-packag\n",
       "es/rich/live.py:231: UserWarning: install \"ipywidgets\" for Jupyter support\n",
       "  warnings.warn('install \"ipywidgets\" for Jupyter support')\n"
      ]
     },
     "metadata": {},
     "output_type": "display_data"
    },
    {
     "data": {
      "text/html": [
       "<pre style=\"white-space:pre;overflow-x:auto;line-height:normal;font-family:Menlo,'DejaVu Sans Mono',consolas,'Courier New',monospace\">/Users/Jorge/Library/Caches/pypoetry/virtualenvs/lorawan-chatbot-rag-llm-Kbm_Xz7B-py3.11/lib/python3.11/site-packag\n",
       "es/rich/live.py:231: UserWarning: install \"ipywidgets\" for Jupyter support\n",
       "  warnings.warn('install \"ipywidgets\" for Jupyter support')\n",
       "</pre>\n"
      ],
      "text/plain": [
       "/Users/Jorge/Library/Caches/pypoetry/virtualenvs/lorawan-chatbot-rag-llm-Kbm_Xz7B-py3.11/lib/python3.11/site-packag\n",
       "es/rich/live.py:231: UserWarning: install \"ipywidgets\" for Jupyter support\n",
       "  warnings.warn('install \"ipywidgets\" for Jupyter support')\n"
      ]
     },
     "metadata": {},
     "output_type": "display_data"
    },
    {
     "data": {
      "text/html": [
       "<pre style=\"white-space:pre;overflow-x:auto;line-height:normal;font-family:Menlo,'DejaVu Sans Mono',consolas,'Courier New',monospace\">/Users/Jorge/Library/Caches/pypoetry/virtualenvs/lorawan-chatbot-rag-llm-Kbm_Xz7B-py3.11/lib/python3.11/site-packag\n",
       "es/rich/live.py:231: UserWarning: install \"ipywidgets\" for Jupyter support\n",
       "  warnings.warn('install \"ipywidgets\" for Jupyter support')\n",
       "</pre>\n"
      ],
      "text/plain": [
       "/Users/Jorge/Library/Caches/pypoetry/virtualenvs/lorawan-chatbot-rag-llm-Kbm_Xz7B-py3.11/lib/python3.11/site-packag\n",
       "es/rich/live.py:231: UserWarning: install \"ipywidgets\" for Jupyter support\n",
       "  warnings.warn('install \"ipywidgets\" for Jupyter support')\n"
      ]
     },
     "metadata": {},
     "output_type": "display_data"
    },
    {
     "data": {
      "text/html": [
       "<pre style=\"white-space:pre;overflow-x:auto;line-height:normal;font-family:Menlo,'DejaVu Sans Mono',consolas,'Courier New',monospace\">/Users/Jorge/Library/Caches/pypoetry/virtualenvs/lorawan-chatbot-rag-llm-Kbm_Xz7B-py3.11/lib/python3.11/site-packag\n",
       "es/rich/live.py:231: UserWarning: install \"ipywidgets\" for Jupyter support\n",
       "  warnings.warn('install \"ipywidgets\" for Jupyter support')\n",
       "</pre>\n"
      ],
      "text/plain": [
       "/Users/Jorge/Library/Caches/pypoetry/virtualenvs/lorawan-chatbot-rag-llm-Kbm_Xz7B-py3.11/lib/python3.11/site-packag\n",
       "es/rich/live.py:231: UserWarning: install \"ipywidgets\" for Jupyter support\n",
       "  warnings.warn('install \"ipywidgets\" for Jupyter support')\n"
      ]
     },
     "metadata": {},
     "output_type": "display_data"
    },
    {
     "data": {
      "text/html": [
       "<pre style=\"white-space:pre;overflow-x:auto;line-height:normal;font-family:Menlo,'DejaVu Sans Mono',consolas,'Courier New',monospace\">/Users/Jorge/Library/Caches/pypoetry/virtualenvs/lorawan-chatbot-rag-llm-Kbm_Xz7B-py3.11/lib/python3.11/site-packag\n",
       "es/rich/live.py:231: UserWarning: install \"ipywidgets\" for Jupyter support\n",
       "  warnings.warn('install \"ipywidgets\" for Jupyter support')\n",
       "</pre>\n"
      ],
      "text/plain": [
       "/Users/Jorge/Library/Caches/pypoetry/virtualenvs/lorawan-chatbot-rag-llm-Kbm_Xz7B-py3.11/lib/python3.11/site-packag\n",
       "es/rich/live.py:231: UserWarning: install \"ipywidgets\" for Jupyter support\n",
       "  warnings.warn('install \"ipywidgets\" for Jupyter support')\n"
      ]
     },
     "metadata": {},
     "output_type": "display_data"
    },
    {
     "data": {
      "text/html": [
       "<pre style=\"white-space:pre;overflow-x:auto;line-height:normal;font-family:Menlo,'DejaVu Sans Mono',consolas,'Courier New',monospace\"></pre>\n"
      ],
      "text/plain": []
     },
     "metadata": {},
     "output_type": "display_data"
    },
    {
     "data": {
      "text/html": [
       "<pre style=\"white-space:pre;overflow-x:auto;line-height:normal;font-family:Menlo,'DejaVu Sans Mono',consolas,'Courier New',monospace\">\n",
       "</pre>\n"
      ],
      "text/plain": [
       "\n"
      ]
     },
     "metadata": {},
     "output_type": "display_data"
    },
    {
     "data": {
      "text/html": [
       "<pre style=\"white-space:pre;overflow-x:auto;line-height:normal;font-family:Menlo,'DejaVu Sans Mono',consolas,'Courier New',monospace\">/Users/Jorge/Library/Caches/pypoetry/virtualenvs/lorawan-chatbot-rag-llm-Kbm_Xz7B-py3.11/lib/python3.11/site-packag\n",
       "es/rich/live.py:231: UserWarning: install \"ipywidgets\" for Jupyter support\n",
       "  warnings.warn('install \"ipywidgets\" for Jupyter support')\n",
       "</pre>\n"
      ],
      "text/plain": [
       "/Users/Jorge/Library/Caches/pypoetry/virtualenvs/lorawan-chatbot-rag-llm-Kbm_Xz7B-py3.11/lib/python3.11/site-packag\n",
       "es/rich/live.py:231: UserWarning: install \"ipywidgets\" for Jupyter support\n",
       "  warnings.warn('install \"ipywidgets\" for Jupyter support')\n"
      ]
     },
     "metadata": {},
     "output_type": "display_data"
    },
    {
     "data": {
      "text/html": [
       "<pre style=\"white-space:pre;overflow-x:auto;line-height:normal;font-family:Menlo,'DejaVu Sans Mono',consolas,'Courier New',monospace\">/Users/Jorge/Library/Caches/pypoetry/virtualenvs/lorawan-chatbot-rag-llm-Kbm_Xz7B-py3.11/lib/python3.11/site-packag\n",
       "es/rich/live.py:231: UserWarning: install \"ipywidgets\" for Jupyter support\n",
       "  warnings.warn('install \"ipywidgets\" for Jupyter support')\n",
       "</pre>\n"
      ],
      "text/plain": [
       "/Users/Jorge/Library/Caches/pypoetry/virtualenvs/lorawan-chatbot-rag-llm-Kbm_Xz7B-py3.11/lib/python3.11/site-packag\n",
       "es/rich/live.py:231: UserWarning: install \"ipywidgets\" for Jupyter support\n",
       "  warnings.warn('install \"ipywidgets\" for Jupyter support')\n"
      ]
     },
     "metadata": {},
     "output_type": "display_data"
    },
    {
     "data": {
      "text/html": [
       "<pre style=\"white-space:pre;overflow-x:auto;line-height:normal;font-family:Menlo,'DejaVu Sans Mono',consolas,'Courier New',monospace\">/Users/Jorge/Library/Caches/pypoetry/virtualenvs/lorawan-chatbot-rag-llm-Kbm_Xz7B-py3.11/lib/python3.11/site-packag\n",
       "es/rich/live.py:231: UserWarning: install \"ipywidgets\" for Jupyter support\n",
       "  warnings.warn('install \"ipywidgets\" for Jupyter support')\n",
       "</pre>\n"
      ],
      "text/plain": [
       "/Users/Jorge/Library/Caches/pypoetry/virtualenvs/lorawan-chatbot-rag-llm-Kbm_Xz7B-py3.11/lib/python3.11/site-packag\n",
       "es/rich/live.py:231: UserWarning: install \"ipywidgets\" for Jupyter support\n",
       "  warnings.warn('install \"ipywidgets\" for Jupyter support')\n"
      ]
     },
     "metadata": {},
     "output_type": "display_data"
    },
    {
     "data": {
      "text/html": [
       "<pre style=\"white-space:pre;overflow-x:auto;line-height:normal;font-family:Menlo,'DejaVu Sans Mono',consolas,'Courier New',monospace\">/Users/Jorge/Library/Caches/pypoetry/virtualenvs/lorawan-chatbot-rag-llm-Kbm_Xz7B-py3.11/lib/python3.11/site-packag\n",
       "es/rich/live.py:231: UserWarning: install \"ipywidgets\" for Jupyter support\n",
       "  warnings.warn('install \"ipywidgets\" for Jupyter support')\n",
       "</pre>\n"
      ],
      "text/plain": [
       "/Users/Jorge/Library/Caches/pypoetry/virtualenvs/lorawan-chatbot-rag-llm-Kbm_Xz7B-py3.11/lib/python3.11/site-packag\n",
       "es/rich/live.py:231: UserWarning: install \"ipywidgets\" for Jupyter support\n",
       "  warnings.warn('install \"ipywidgets\" for Jupyter support')\n"
      ]
     },
     "metadata": {},
     "output_type": "display_data"
    },
    {
     "data": {
      "text/html": [
       "<pre style=\"white-space:pre;overflow-x:auto;line-height:normal;font-family:Menlo,'DejaVu Sans Mono',consolas,'Courier New',monospace\">/Users/Jorge/Library/Caches/pypoetry/virtualenvs/lorawan-chatbot-rag-llm-Kbm_Xz7B-py3.11/lib/python3.11/site-packag\n",
       "es/rich/live.py:231: UserWarning: install \"ipywidgets\" for Jupyter support\n",
       "  warnings.warn('install \"ipywidgets\" for Jupyter support')\n",
       "</pre>\n"
      ],
      "text/plain": [
       "/Users/Jorge/Library/Caches/pypoetry/virtualenvs/lorawan-chatbot-rag-llm-Kbm_Xz7B-py3.11/lib/python3.11/site-packag\n",
       "es/rich/live.py:231: UserWarning: install \"ipywidgets\" for Jupyter support\n",
       "  warnings.warn('install \"ipywidgets\" for Jupyter support')\n"
      ]
     },
     "metadata": {},
     "output_type": "display_data"
    },
    {
     "data": {
      "text/html": [
       "<pre style=\"white-space:pre;overflow-x:auto;line-height:normal;font-family:Menlo,'DejaVu Sans Mono',consolas,'Courier New',monospace\">/Users/Jorge/Library/Caches/pypoetry/virtualenvs/lorawan-chatbot-rag-llm-Kbm_Xz7B-py3.11/lib/python3.11/site-packag\n",
       "es/rich/live.py:231: UserWarning: install \"ipywidgets\" for Jupyter support\n",
       "  warnings.warn('install \"ipywidgets\" for Jupyter support')\n",
       "</pre>\n"
      ],
      "text/plain": [
       "/Users/Jorge/Library/Caches/pypoetry/virtualenvs/lorawan-chatbot-rag-llm-Kbm_Xz7B-py3.11/lib/python3.11/site-packag\n",
       "es/rich/live.py:231: UserWarning: install \"ipywidgets\" for Jupyter support\n",
       "  warnings.warn('install \"ipywidgets\" for Jupyter support')\n"
      ]
     },
     "metadata": {},
     "output_type": "display_data"
    },
    {
     "data": {
      "text/html": [
       "<pre style=\"white-space:pre;overflow-x:auto;line-height:normal;font-family:Menlo,'DejaVu Sans Mono',consolas,'Courier New',monospace\">/Users/Jorge/Library/Caches/pypoetry/virtualenvs/lorawan-chatbot-rag-llm-Kbm_Xz7B-py3.11/lib/python3.11/site-packag\n",
       "es/rich/live.py:231: UserWarning: install \"ipywidgets\" for Jupyter support\n",
       "  warnings.warn('install \"ipywidgets\" for Jupyter support')\n",
       "</pre>\n"
      ],
      "text/plain": [
       "/Users/Jorge/Library/Caches/pypoetry/virtualenvs/lorawan-chatbot-rag-llm-Kbm_Xz7B-py3.11/lib/python3.11/site-packag\n",
       "es/rich/live.py:231: UserWarning: install \"ipywidgets\" for Jupyter support\n",
       "  warnings.warn('install \"ipywidgets\" for Jupyter support')\n"
      ]
     },
     "metadata": {},
     "output_type": "display_data"
    },
    {
     "data": {
      "text/html": [
       "<pre style=\"white-space:pre;overflow-x:auto;line-height:normal;font-family:Menlo,'DejaVu Sans Mono',consolas,'Courier New',monospace\">/Users/Jorge/Library/Caches/pypoetry/virtualenvs/lorawan-chatbot-rag-llm-Kbm_Xz7B-py3.11/lib/python3.11/site-packag\n",
       "es/rich/live.py:231: UserWarning: install \"ipywidgets\" for Jupyter support\n",
       "  warnings.warn('install \"ipywidgets\" for Jupyter support')\n",
       "</pre>\n"
      ],
      "text/plain": [
       "/Users/Jorge/Library/Caches/pypoetry/virtualenvs/lorawan-chatbot-rag-llm-Kbm_Xz7B-py3.11/lib/python3.11/site-packag\n",
       "es/rich/live.py:231: UserWarning: install \"ipywidgets\" for Jupyter support\n",
       "  warnings.warn('install \"ipywidgets\" for Jupyter support')\n"
      ]
     },
     "metadata": {},
     "output_type": "display_data"
    },
    {
     "data": {
      "text/html": [
       "<pre style=\"white-space:pre;overflow-x:auto;line-height:normal;font-family:Menlo,'DejaVu Sans Mono',consolas,'Courier New',monospace\">/Users/Jorge/Library/Caches/pypoetry/virtualenvs/lorawan-chatbot-rag-llm-Kbm_Xz7B-py3.11/lib/python3.11/site-packag\n",
       "es/rich/live.py:231: UserWarning: install \"ipywidgets\" for Jupyter support\n",
       "  warnings.warn('install \"ipywidgets\" for Jupyter support')\n",
       "</pre>\n"
      ],
      "text/plain": [
       "/Users/Jorge/Library/Caches/pypoetry/virtualenvs/lorawan-chatbot-rag-llm-Kbm_Xz7B-py3.11/lib/python3.11/site-packag\n",
       "es/rich/live.py:231: UserWarning: install \"ipywidgets\" for Jupyter support\n",
       "  warnings.warn('install \"ipywidgets\" for Jupyter support')\n"
      ]
     },
     "metadata": {},
     "output_type": "display_data"
    },
    {
     "data": {
      "text/html": [
       "<pre style=\"white-space:pre;overflow-x:auto;line-height:normal;font-family:Menlo,'DejaVu Sans Mono',consolas,'Courier New',monospace\">/Users/Jorge/Library/Caches/pypoetry/virtualenvs/lorawan-chatbot-rag-llm-Kbm_Xz7B-py3.11/lib/python3.11/site-packag\n",
       "es/rich/live.py:231: UserWarning: install \"ipywidgets\" for Jupyter support\n",
       "  warnings.warn('install \"ipywidgets\" for Jupyter support')\n",
       "</pre>\n"
      ],
      "text/plain": [
       "/Users/Jorge/Library/Caches/pypoetry/virtualenvs/lorawan-chatbot-rag-llm-Kbm_Xz7B-py3.11/lib/python3.11/site-packag\n",
       "es/rich/live.py:231: UserWarning: install \"ipywidgets\" for Jupyter support\n",
       "  warnings.warn('install \"ipywidgets\" for Jupyter support')\n"
      ]
     },
     "metadata": {},
     "output_type": "display_data"
    },
    {
     "data": {
      "text/html": [
       "<pre style=\"white-space:pre;overflow-x:auto;line-height:normal;font-family:Menlo,'DejaVu Sans Mono',consolas,'Courier New',monospace\">/Users/Jorge/Library/Caches/pypoetry/virtualenvs/lorawan-chatbot-rag-llm-Kbm_Xz7B-py3.11/lib/python3.11/site-packag\n",
       "es/rich/live.py:231: UserWarning: install \"ipywidgets\" for Jupyter support\n",
       "  warnings.warn('install \"ipywidgets\" for Jupyter support')\n",
       "</pre>\n"
      ],
      "text/plain": [
       "/Users/Jorge/Library/Caches/pypoetry/virtualenvs/lorawan-chatbot-rag-llm-Kbm_Xz7B-py3.11/lib/python3.11/site-packag\n",
       "es/rich/live.py:231: UserWarning: install \"ipywidgets\" for Jupyter support\n",
       "  warnings.warn('install \"ipywidgets\" for Jupyter support')\n"
      ]
     },
     "metadata": {},
     "output_type": "display_data"
    },
    {
     "data": {
      "text/html": [
       "<pre style=\"white-space:pre;overflow-x:auto;line-height:normal;font-family:Menlo,'DejaVu Sans Mono',consolas,'Courier New',monospace\"></pre>\n"
      ],
      "text/plain": []
     },
     "metadata": {},
     "output_type": "display_data"
    },
    {
     "data": {
      "text/html": [
       "<pre style=\"white-space:pre;overflow-x:auto;line-height:normal;font-family:Menlo,'DejaVu Sans Mono',consolas,'Courier New',monospace\">\n",
       "</pre>\n"
      ],
      "text/plain": [
       "\n"
      ]
     },
     "metadata": {},
     "output_type": "display_data"
    },
    {
     "data": {
      "text/html": [
       "<pre style=\"white-space:pre;overflow-x:auto;line-height:normal;font-family:Menlo,'DejaVu Sans Mono',consolas,'Courier New',monospace\">/Users/Jorge/Library/Caches/pypoetry/virtualenvs/lorawan-chatbot-rag-llm-Kbm_Xz7B-py3.11/lib/python3.11/site-packag\n",
       "es/rich/live.py:231: UserWarning: install \"ipywidgets\" for Jupyter support\n",
       "  warnings.warn('install \"ipywidgets\" for Jupyter support')\n",
       "</pre>\n"
      ],
      "text/plain": [
       "/Users/Jorge/Library/Caches/pypoetry/virtualenvs/lorawan-chatbot-rag-llm-Kbm_Xz7B-py3.11/lib/python3.11/site-packag\n",
       "es/rich/live.py:231: UserWarning: install \"ipywidgets\" for Jupyter support\n",
       "  warnings.warn('install \"ipywidgets\" for Jupyter support')\n"
      ]
     },
     "metadata": {},
     "output_type": "display_data"
    },
    {
     "data": {
      "text/html": [
       "<pre style=\"white-space:pre;overflow-x:auto;line-height:normal;font-family:Menlo,'DejaVu Sans Mono',consolas,'Courier New',monospace\">/Users/Jorge/Library/Caches/pypoetry/virtualenvs/lorawan-chatbot-rag-llm-Kbm_Xz7B-py3.11/lib/python3.11/site-packag\n",
       "es/rich/live.py:231: UserWarning: install \"ipywidgets\" for Jupyter support\n",
       "  warnings.warn('install \"ipywidgets\" for Jupyter support')\n",
       "</pre>\n"
      ],
      "text/plain": [
       "/Users/Jorge/Library/Caches/pypoetry/virtualenvs/lorawan-chatbot-rag-llm-Kbm_Xz7B-py3.11/lib/python3.11/site-packag\n",
       "es/rich/live.py:231: UserWarning: install \"ipywidgets\" for Jupyter support\n",
       "  warnings.warn('install \"ipywidgets\" for Jupyter support')\n"
      ]
     },
     "metadata": {},
     "output_type": "display_data"
    },
    {
     "data": {
      "text/html": [
       "<pre style=\"white-space:pre;overflow-x:auto;line-height:normal;font-family:Menlo,'DejaVu Sans Mono',consolas,'Courier New',monospace\">/Users/Jorge/Library/Caches/pypoetry/virtualenvs/lorawan-chatbot-rag-llm-Kbm_Xz7B-py3.11/lib/python3.11/site-packag\n",
       "es/rich/live.py:231: UserWarning: install \"ipywidgets\" for Jupyter support\n",
       "  warnings.warn('install \"ipywidgets\" for Jupyter support')\n",
       "</pre>\n"
      ],
      "text/plain": [
       "/Users/Jorge/Library/Caches/pypoetry/virtualenvs/lorawan-chatbot-rag-llm-Kbm_Xz7B-py3.11/lib/python3.11/site-packag\n",
       "es/rich/live.py:231: UserWarning: install \"ipywidgets\" for Jupyter support\n",
       "  warnings.warn('install \"ipywidgets\" for Jupyter support')\n"
      ]
     },
     "metadata": {},
     "output_type": "display_data"
    },
    {
     "data": {
      "text/html": [
       "<pre style=\"white-space:pre;overflow-x:auto;line-height:normal;font-family:Menlo,'DejaVu Sans Mono',consolas,'Courier New',monospace\">/Users/Jorge/Library/Caches/pypoetry/virtualenvs/lorawan-chatbot-rag-llm-Kbm_Xz7B-py3.11/lib/python3.11/site-packag\n",
       "es/rich/live.py:231: UserWarning: install \"ipywidgets\" for Jupyter support\n",
       "  warnings.warn('install \"ipywidgets\" for Jupyter support')\n",
       "</pre>\n"
      ],
      "text/plain": [
       "/Users/Jorge/Library/Caches/pypoetry/virtualenvs/lorawan-chatbot-rag-llm-Kbm_Xz7B-py3.11/lib/python3.11/site-packag\n",
       "es/rich/live.py:231: UserWarning: install \"ipywidgets\" for Jupyter support\n",
       "  warnings.warn('install \"ipywidgets\" for Jupyter support')\n"
      ]
     },
     "metadata": {},
     "output_type": "display_data"
    },
    {
     "data": {
      "text/html": [
       "<pre style=\"white-space:pre;overflow-x:auto;line-height:normal;font-family:Menlo,'DejaVu Sans Mono',consolas,'Courier New',monospace\">/Users/Jorge/Library/Caches/pypoetry/virtualenvs/lorawan-chatbot-rag-llm-Kbm_Xz7B-py3.11/lib/python3.11/site-packag\n",
       "es/rich/live.py:231: UserWarning: install \"ipywidgets\" for Jupyter support\n",
       "  warnings.warn('install \"ipywidgets\" for Jupyter support')\n",
       "</pre>\n"
      ],
      "text/plain": [
       "/Users/Jorge/Library/Caches/pypoetry/virtualenvs/lorawan-chatbot-rag-llm-Kbm_Xz7B-py3.11/lib/python3.11/site-packag\n",
       "es/rich/live.py:231: UserWarning: install \"ipywidgets\" for Jupyter support\n",
       "  warnings.warn('install \"ipywidgets\" for Jupyter support')\n"
      ]
     },
     "metadata": {},
     "output_type": "display_data"
    },
    {
     "data": {
      "text/html": [
       "<pre style=\"white-space:pre;overflow-x:auto;line-height:normal;font-family:Menlo,'DejaVu Sans Mono',consolas,'Courier New',monospace\">/Users/Jorge/Library/Caches/pypoetry/virtualenvs/lorawan-chatbot-rag-llm-Kbm_Xz7B-py3.11/lib/python3.11/site-packag\n",
       "es/rich/live.py:231: UserWarning: install \"ipywidgets\" for Jupyter support\n",
       "  warnings.warn('install \"ipywidgets\" for Jupyter support')\n",
       "</pre>\n"
      ],
      "text/plain": [
       "/Users/Jorge/Library/Caches/pypoetry/virtualenvs/lorawan-chatbot-rag-llm-Kbm_Xz7B-py3.11/lib/python3.11/site-packag\n",
       "es/rich/live.py:231: UserWarning: install \"ipywidgets\" for Jupyter support\n",
       "  warnings.warn('install \"ipywidgets\" for Jupyter support')\n"
      ]
     },
     "metadata": {},
     "output_type": "display_data"
    },
    {
     "data": {
      "text/html": [
       "<pre style=\"white-space:pre;overflow-x:auto;line-height:normal;font-family:Menlo,'DejaVu Sans Mono',consolas,'Courier New',monospace\">/Users/Jorge/Library/Caches/pypoetry/virtualenvs/lorawan-chatbot-rag-llm-Kbm_Xz7B-py3.11/lib/python3.11/site-packag\n",
       "es/rich/live.py:231: UserWarning: install \"ipywidgets\" for Jupyter support\n",
       "  warnings.warn('install \"ipywidgets\" for Jupyter support')\n",
       "</pre>\n"
      ],
      "text/plain": [
       "/Users/Jorge/Library/Caches/pypoetry/virtualenvs/lorawan-chatbot-rag-llm-Kbm_Xz7B-py3.11/lib/python3.11/site-packag\n",
       "es/rich/live.py:231: UserWarning: install \"ipywidgets\" for Jupyter support\n",
       "  warnings.warn('install \"ipywidgets\" for Jupyter support')\n"
      ]
     },
     "metadata": {},
     "output_type": "display_data"
    },
    {
     "data": {
      "text/html": [
       "<pre style=\"white-space:pre;overflow-x:auto;line-height:normal;font-family:Menlo,'DejaVu Sans Mono',consolas,'Courier New',monospace\">/Users/Jorge/Library/Caches/pypoetry/virtualenvs/lorawan-chatbot-rag-llm-Kbm_Xz7B-py3.11/lib/python3.11/site-packag\n",
       "es/rich/live.py:231: UserWarning: install \"ipywidgets\" for Jupyter support\n",
       "  warnings.warn('install \"ipywidgets\" for Jupyter support')\n",
       "</pre>\n"
      ],
      "text/plain": [
       "/Users/Jorge/Library/Caches/pypoetry/virtualenvs/lorawan-chatbot-rag-llm-Kbm_Xz7B-py3.11/lib/python3.11/site-packag\n",
       "es/rich/live.py:231: UserWarning: install \"ipywidgets\" for Jupyter support\n",
       "  warnings.warn('install \"ipywidgets\" for Jupyter support')\n"
      ]
     },
     "metadata": {},
     "output_type": "display_data"
    },
    {
     "data": {
      "text/html": [
       "<pre style=\"white-space:pre;overflow-x:auto;line-height:normal;font-family:Menlo,'DejaVu Sans Mono',consolas,'Courier New',monospace\">/Users/Jorge/Library/Caches/pypoetry/virtualenvs/lorawan-chatbot-rag-llm-Kbm_Xz7B-py3.11/lib/python3.11/site-packag\n",
       "es/rich/live.py:231: UserWarning: install \"ipywidgets\" for Jupyter support\n",
       "  warnings.warn('install \"ipywidgets\" for Jupyter support')\n",
       "</pre>\n"
      ],
      "text/plain": [
       "/Users/Jorge/Library/Caches/pypoetry/virtualenvs/lorawan-chatbot-rag-llm-Kbm_Xz7B-py3.11/lib/python3.11/site-packag\n",
       "es/rich/live.py:231: UserWarning: install \"ipywidgets\" for Jupyter support\n",
       "  warnings.warn('install \"ipywidgets\" for Jupyter support')\n"
      ]
     },
     "metadata": {},
     "output_type": "display_data"
    },
    {
     "data": {
      "text/html": [
       "<pre style=\"white-space:pre;overflow-x:auto;line-height:normal;font-family:Menlo,'DejaVu Sans Mono',consolas,'Courier New',monospace\"></pre>\n"
      ],
      "text/plain": []
     },
     "metadata": {},
     "output_type": "display_data"
    },
    {
     "data": {
      "text/html": [
       "<pre style=\"white-space:pre;overflow-x:auto;line-height:normal;font-family:Menlo,'DejaVu Sans Mono',consolas,'Courier New',monospace\">\n",
       "</pre>\n"
      ],
      "text/plain": [
       "\n"
      ]
     },
     "metadata": {},
     "output_type": "display_data"
    },
    {
     "data": {
      "text/html": [
       "<pre style=\"white-space:pre;overflow-x:auto;line-height:normal;font-family:Menlo,'DejaVu Sans Mono',consolas,'Courier New',monospace\">/Users/Jorge/Library/Caches/pypoetry/virtualenvs/lorawan-chatbot-rag-llm-Kbm_Xz7B-py3.11/lib/python3.11/site-packag\n",
       "es/rich/live.py:231: UserWarning: install \"ipywidgets\" for Jupyter support\n",
       "  warnings.warn('install \"ipywidgets\" for Jupyter support')\n",
       "</pre>\n"
      ],
      "text/plain": [
       "/Users/Jorge/Library/Caches/pypoetry/virtualenvs/lorawan-chatbot-rag-llm-Kbm_Xz7B-py3.11/lib/python3.11/site-packag\n",
       "es/rich/live.py:231: UserWarning: install \"ipywidgets\" for Jupyter support\n",
       "  warnings.warn('install \"ipywidgets\" for Jupyter support')\n"
      ]
     },
     "metadata": {},
     "output_type": "display_data"
    },
    {
     "data": {
      "text/html": [
       "<pre style=\"white-space:pre;overflow-x:auto;line-height:normal;font-family:Menlo,'DejaVu Sans Mono',consolas,'Courier New',monospace\">/Users/Jorge/Library/Caches/pypoetry/virtualenvs/lorawan-chatbot-rag-llm-Kbm_Xz7B-py3.11/lib/python3.11/site-packag\n",
       "es/rich/live.py:231: UserWarning: install \"ipywidgets\" for Jupyter support\n",
       "  warnings.warn('install \"ipywidgets\" for Jupyter support')\n",
       "</pre>\n"
      ],
      "text/plain": [
       "/Users/Jorge/Library/Caches/pypoetry/virtualenvs/lorawan-chatbot-rag-llm-Kbm_Xz7B-py3.11/lib/python3.11/site-packag\n",
       "es/rich/live.py:231: UserWarning: install \"ipywidgets\" for Jupyter support\n",
       "  warnings.warn('install \"ipywidgets\" for Jupyter support')\n"
      ]
     },
     "metadata": {},
     "output_type": "display_data"
    },
    {
     "data": {
      "text/html": [
       "<pre style=\"white-space:pre;overflow-x:auto;line-height:normal;font-family:Menlo,'DejaVu Sans Mono',consolas,'Courier New',monospace\">/Users/Jorge/Library/Caches/pypoetry/virtualenvs/lorawan-chatbot-rag-llm-Kbm_Xz7B-py3.11/lib/python3.11/site-packag\n",
       "es/rich/live.py:231: UserWarning: install \"ipywidgets\" for Jupyter support\n",
       "  warnings.warn('install \"ipywidgets\" for Jupyter support')\n",
       "</pre>\n"
      ],
      "text/plain": [
       "/Users/Jorge/Library/Caches/pypoetry/virtualenvs/lorawan-chatbot-rag-llm-Kbm_Xz7B-py3.11/lib/python3.11/site-packag\n",
       "es/rich/live.py:231: UserWarning: install \"ipywidgets\" for Jupyter support\n",
       "  warnings.warn('install \"ipywidgets\" for Jupyter support')\n"
      ]
     },
     "metadata": {},
     "output_type": "display_data"
    },
    {
     "data": {
      "text/html": [
       "<pre style=\"white-space:pre;overflow-x:auto;line-height:normal;font-family:Menlo,'DejaVu Sans Mono',consolas,'Courier New',monospace\">/Users/Jorge/Library/Caches/pypoetry/virtualenvs/lorawan-chatbot-rag-llm-Kbm_Xz7B-py3.11/lib/python3.11/site-packag\n",
       "es/rich/live.py:231: UserWarning: install \"ipywidgets\" for Jupyter support\n",
       "  warnings.warn('install \"ipywidgets\" for Jupyter support')\n",
       "</pre>\n"
      ],
      "text/plain": [
       "/Users/Jorge/Library/Caches/pypoetry/virtualenvs/lorawan-chatbot-rag-llm-Kbm_Xz7B-py3.11/lib/python3.11/site-packag\n",
       "es/rich/live.py:231: UserWarning: install \"ipywidgets\" for Jupyter support\n",
       "  warnings.warn('install \"ipywidgets\" for Jupyter support')\n"
      ]
     },
     "metadata": {},
     "output_type": "display_data"
    },
    {
     "data": {
      "text/html": [
       "<pre style=\"white-space:pre;overflow-x:auto;line-height:normal;font-family:Menlo,'DejaVu Sans Mono',consolas,'Courier New',monospace\">/Users/Jorge/Library/Caches/pypoetry/virtualenvs/lorawan-chatbot-rag-llm-Kbm_Xz7B-py3.11/lib/python3.11/site-packag\n",
       "es/rich/live.py:231: UserWarning: install \"ipywidgets\" for Jupyter support\n",
       "  warnings.warn('install \"ipywidgets\" for Jupyter support')\n",
       "</pre>\n"
      ],
      "text/plain": [
       "/Users/Jorge/Library/Caches/pypoetry/virtualenvs/lorawan-chatbot-rag-llm-Kbm_Xz7B-py3.11/lib/python3.11/site-packag\n",
       "es/rich/live.py:231: UserWarning: install \"ipywidgets\" for Jupyter support\n",
       "  warnings.warn('install \"ipywidgets\" for Jupyter support')\n"
      ]
     },
     "metadata": {},
     "output_type": "display_data"
    },
    {
     "data": {
      "text/html": [
       "<pre style=\"white-space:pre;overflow-x:auto;line-height:normal;font-family:Menlo,'DejaVu Sans Mono',consolas,'Courier New',monospace\">/Users/Jorge/Library/Caches/pypoetry/virtualenvs/lorawan-chatbot-rag-llm-Kbm_Xz7B-py3.11/lib/python3.11/site-packag\n",
       "es/rich/live.py:231: UserWarning: install \"ipywidgets\" for Jupyter support\n",
       "  warnings.warn('install \"ipywidgets\" for Jupyter support')\n",
       "</pre>\n"
      ],
      "text/plain": [
       "/Users/Jorge/Library/Caches/pypoetry/virtualenvs/lorawan-chatbot-rag-llm-Kbm_Xz7B-py3.11/lib/python3.11/site-packag\n",
       "es/rich/live.py:231: UserWarning: install \"ipywidgets\" for Jupyter support\n",
       "  warnings.warn('install \"ipywidgets\" for Jupyter support')\n"
      ]
     },
     "metadata": {},
     "output_type": "display_data"
    },
    {
     "data": {
      "text/html": [
       "<pre style=\"white-space:pre;overflow-x:auto;line-height:normal;font-family:Menlo,'DejaVu Sans Mono',consolas,'Courier New',monospace\">/Users/Jorge/Library/Caches/pypoetry/virtualenvs/lorawan-chatbot-rag-llm-Kbm_Xz7B-py3.11/lib/python3.11/site-packag\n",
       "es/rich/live.py:231: UserWarning: install \"ipywidgets\" for Jupyter support\n",
       "  warnings.warn('install \"ipywidgets\" for Jupyter support')\n",
       "</pre>\n"
      ],
      "text/plain": [
       "/Users/Jorge/Library/Caches/pypoetry/virtualenvs/lorawan-chatbot-rag-llm-Kbm_Xz7B-py3.11/lib/python3.11/site-packag\n",
       "es/rich/live.py:231: UserWarning: install \"ipywidgets\" for Jupyter support\n",
       "  warnings.warn('install \"ipywidgets\" for Jupyter support')\n"
      ]
     },
     "metadata": {},
     "output_type": "display_data"
    },
    {
     "data": {
      "text/html": [
       "<pre style=\"white-space:pre;overflow-x:auto;line-height:normal;font-family:Menlo,'DejaVu Sans Mono',consolas,'Courier New',monospace\">/Users/Jorge/Library/Caches/pypoetry/virtualenvs/lorawan-chatbot-rag-llm-Kbm_Xz7B-py3.11/lib/python3.11/site-packag\n",
       "es/rich/live.py:231: UserWarning: install \"ipywidgets\" for Jupyter support\n",
       "  warnings.warn('install \"ipywidgets\" for Jupyter support')\n",
       "</pre>\n"
      ],
      "text/plain": [
       "/Users/Jorge/Library/Caches/pypoetry/virtualenvs/lorawan-chatbot-rag-llm-Kbm_Xz7B-py3.11/lib/python3.11/site-packag\n",
       "es/rich/live.py:231: UserWarning: install \"ipywidgets\" for Jupyter support\n",
       "  warnings.warn('install \"ipywidgets\" for Jupyter support')\n"
      ]
     },
     "metadata": {},
     "output_type": "display_data"
    },
    {
     "data": {
      "text/html": [
       "<pre style=\"white-space:pre;overflow-x:auto;line-height:normal;font-family:Menlo,'DejaVu Sans Mono',consolas,'Courier New',monospace\">/Users/Jorge/Library/Caches/pypoetry/virtualenvs/lorawan-chatbot-rag-llm-Kbm_Xz7B-py3.11/lib/python3.11/site-packag\n",
       "es/rich/live.py:231: UserWarning: install \"ipywidgets\" for Jupyter support\n",
       "  warnings.warn('install \"ipywidgets\" for Jupyter support')\n",
       "</pre>\n"
      ],
      "text/plain": [
       "/Users/Jorge/Library/Caches/pypoetry/virtualenvs/lorawan-chatbot-rag-llm-Kbm_Xz7B-py3.11/lib/python3.11/site-packag\n",
       "es/rich/live.py:231: UserWarning: install \"ipywidgets\" for Jupyter support\n",
       "  warnings.warn('install \"ipywidgets\" for Jupyter support')\n"
      ]
     },
     "metadata": {},
     "output_type": "display_data"
    },
    {
     "data": {
      "text/html": [
       "<pre style=\"white-space:pre;overflow-x:auto;line-height:normal;font-family:Menlo,'DejaVu Sans Mono',consolas,'Courier New',monospace\">/Users/Jorge/Library/Caches/pypoetry/virtualenvs/lorawan-chatbot-rag-llm-Kbm_Xz7B-py3.11/lib/python3.11/site-packag\n",
       "es/rich/live.py:231: UserWarning: install \"ipywidgets\" for Jupyter support\n",
       "  warnings.warn('install \"ipywidgets\" for Jupyter support')\n",
       "</pre>\n"
      ],
      "text/plain": [
       "/Users/Jorge/Library/Caches/pypoetry/virtualenvs/lorawan-chatbot-rag-llm-Kbm_Xz7B-py3.11/lib/python3.11/site-packag\n",
       "es/rich/live.py:231: UserWarning: install \"ipywidgets\" for Jupyter support\n",
       "  warnings.warn('install \"ipywidgets\" for Jupyter support')\n"
      ]
     },
     "metadata": {},
     "output_type": "display_data"
    },
    {
     "data": {
      "text/html": [
       "<pre style=\"white-space:pre;overflow-x:auto;line-height:normal;font-family:Menlo,'DejaVu Sans Mono',consolas,'Courier New',monospace\"></pre>\n"
      ],
      "text/plain": []
     },
     "metadata": {},
     "output_type": "display_data"
    },
    {
     "data": {
      "text/html": [
       "<pre style=\"white-space:pre;overflow-x:auto;line-height:normal;font-family:Menlo,'DejaVu Sans Mono',consolas,'Courier New',monospace\">\n",
       "</pre>\n"
      ],
      "text/plain": [
       "\n"
      ]
     },
     "metadata": {},
     "output_type": "display_data"
    },
    {
     "data": {
      "text/html": [
       "<pre style=\"white-space:pre;overflow-x:auto;line-height:normal;font-family:Menlo,'DejaVu Sans Mono',consolas,'Courier New',monospace\">/Users/Jorge/Library/Caches/pypoetry/virtualenvs/lorawan-chatbot-rag-llm-Kbm_Xz7B-py3.11/lib/python3.11/site-packag\n",
       "es/rich/live.py:231: UserWarning: install \"ipywidgets\" for Jupyter support\n",
       "  warnings.warn('install \"ipywidgets\" for Jupyter support')\n",
       "</pre>\n"
      ],
      "text/plain": [
       "/Users/Jorge/Library/Caches/pypoetry/virtualenvs/lorawan-chatbot-rag-llm-Kbm_Xz7B-py3.11/lib/python3.11/site-packag\n",
       "es/rich/live.py:231: UserWarning: install \"ipywidgets\" for Jupyter support\n",
       "  warnings.warn('install \"ipywidgets\" for Jupyter support')\n"
      ]
     },
     "metadata": {},
     "output_type": "display_data"
    },
    {
     "data": {
      "text/html": [
       "<pre style=\"white-space:pre;overflow-x:auto;line-height:normal;font-family:Menlo,'DejaVu Sans Mono',consolas,'Courier New',monospace\">/Users/Jorge/Library/Caches/pypoetry/virtualenvs/lorawan-chatbot-rag-llm-Kbm_Xz7B-py3.11/lib/python3.11/site-packag\n",
       "es/rich/live.py:231: UserWarning: install \"ipywidgets\" for Jupyter support\n",
       "  warnings.warn('install \"ipywidgets\" for Jupyter support')\n",
       "</pre>\n"
      ],
      "text/plain": [
       "/Users/Jorge/Library/Caches/pypoetry/virtualenvs/lorawan-chatbot-rag-llm-Kbm_Xz7B-py3.11/lib/python3.11/site-packag\n",
       "es/rich/live.py:231: UserWarning: install \"ipywidgets\" for Jupyter support\n",
       "  warnings.warn('install \"ipywidgets\" for Jupyter support')\n"
      ]
     },
     "metadata": {},
     "output_type": "display_data"
    },
    {
     "data": {
      "text/html": [
       "<pre style=\"white-space:pre;overflow-x:auto;line-height:normal;font-family:Menlo,'DejaVu Sans Mono',consolas,'Courier New',monospace\">/Users/Jorge/Library/Caches/pypoetry/virtualenvs/lorawan-chatbot-rag-llm-Kbm_Xz7B-py3.11/lib/python3.11/site-packag\n",
       "es/rich/live.py:231: UserWarning: install \"ipywidgets\" for Jupyter support\n",
       "  warnings.warn('install \"ipywidgets\" for Jupyter support')\n",
       "</pre>\n"
      ],
      "text/plain": [
       "/Users/Jorge/Library/Caches/pypoetry/virtualenvs/lorawan-chatbot-rag-llm-Kbm_Xz7B-py3.11/lib/python3.11/site-packag\n",
       "es/rich/live.py:231: UserWarning: install \"ipywidgets\" for Jupyter support\n",
       "  warnings.warn('install \"ipywidgets\" for Jupyter support')\n"
      ]
     },
     "metadata": {},
     "output_type": "display_data"
    },
    {
     "data": {
      "text/html": [
       "<pre style=\"white-space:pre;overflow-x:auto;line-height:normal;font-family:Menlo,'DejaVu Sans Mono',consolas,'Courier New',monospace\">/Users/Jorge/Library/Caches/pypoetry/virtualenvs/lorawan-chatbot-rag-llm-Kbm_Xz7B-py3.11/lib/python3.11/site-packag\n",
       "es/rich/live.py:231: UserWarning: install \"ipywidgets\" for Jupyter support\n",
       "  warnings.warn('install \"ipywidgets\" for Jupyter support')\n",
       "</pre>\n"
      ],
      "text/plain": [
       "/Users/Jorge/Library/Caches/pypoetry/virtualenvs/lorawan-chatbot-rag-llm-Kbm_Xz7B-py3.11/lib/python3.11/site-packag\n",
       "es/rich/live.py:231: UserWarning: install \"ipywidgets\" for Jupyter support\n",
       "  warnings.warn('install \"ipywidgets\" for Jupyter support')\n"
      ]
     },
     "metadata": {},
     "output_type": "display_data"
    },
    {
     "data": {
      "text/html": [
       "<pre style=\"white-space:pre;overflow-x:auto;line-height:normal;font-family:Menlo,'DejaVu Sans Mono',consolas,'Courier New',monospace\">/Users/Jorge/Library/Caches/pypoetry/virtualenvs/lorawan-chatbot-rag-llm-Kbm_Xz7B-py3.11/lib/python3.11/site-packag\n",
       "es/rich/live.py:231: UserWarning: install \"ipywidgets\" for Jupyter support\n",
       "  warnings.warn('install \"ipywidgets\" for Jupyter support')\n",
       "</pre>\n"
      ],
      "text/plain": [
       "/Users/Jorge/Library/Caches/pypoetry/virtualenvs/lorawan-chatbot-rag-llm-Kbm_Xz7B-py3.11/lib/python3.11/site-packag\n",
       "es/rich/live.py:231: UserWarning: install \"ipywidgets\" for Jupyter support\n",
       "  warnings.warn('install \"ipywidgets\" for Jupyter support')\n"
      ]
     },
     "metadata": {},
     "output_type": "display_data"
    },
    {
     "data": {
      "text/html": [
       "<pre style=\"white-space:pre;overflow-x:auto;line-height:normal;font-family:Menlo,'DejaVu Sans Mono',consolas,'Courier New',monospace\">/Users/Jorge/Library/Caches/pypoetry/virtualenvs/lorawan-chatbot-rag-llm-Kbm_Xz7B-py3.11/lib/python3.11/site-packag\n",
       "es/rich/live.py:231: UserWarning: install \"ipywidgets\" for Jupyter support\n",
       "  warnings.warn('install \"ipywidgets\" for Jupyter support')\n",
       "</pre>\n"
      ],
      "text/plain": [
       "/Users/Jorge/Library/Caches/pypoetry/virtualenvs/lorawan-chatbot-rag-llm-Kbm_Xz7B-py3.11/lib/python3.11/site-packag\n",
       "es/rich/live.py:231: UserWarning: install \"ipywidgets\" for Jupyter support\n",
       "  warnings.warn('install \"ipywidgets\" for Jupyter support')\n"
      ]
     },
     "metadata": {},
     "output_type": "display_data"
    },
    {
     "data": {
      "text/html": [
       "<pre style=\"white-space:pre;overflow-x:auto;line-height:normal;font-family:Menlo,'DejaVu Sans Mono',consolas,'Courier New',monospace\">/Users/Jorge/Library/Caches/pypoetry/virtualenvs/lorawan-chatbot-rag-llm-Kbm_Xz7B-py3.11/lib/python3.11/site-packag\n",
       "es/rich/live.py:231: UserWarning: install \"ipywidgets\" for Jupyter support\n",
       "  warnings.warn('install \"ipywidgets\" for Jupyter support')\n",
       "</pre>\n"
      ],
      "text/plain": [
       "/Users/Jorge/Library/Caches/pypoetry/virtualenvs/lorawan-chatbot-rag-llm-Kbm_Xz7B-py3.11/lib/python3.11/site-packag\n",
       "es/rich/live.py:231: UserWarning: install \"ipywidgets\" for Jupyter support\n",
       "  warnings.warn('install \"ipywidgets\" for Jupyter support')\n"
      ]
     },
     "metadata": {},
     "output_type": "display_data"
    },
    {
     "data": {
      "text/html": [
       "<pre style=\"white-space:pre;overflow-x:auto;line-height:normal;font-family:Menlo,'DejaVu Sans Mono',consolas,'Courier New',monospace\">/Users/Jorge/Library/Caches/pypoetry/virtualenvs/lorawan-chatbot-rag-llm-Kbm_Xz7B-py3.11/lib/python3.11/site-packag\n",
       "es/rich/live.py:231: UserWarning: install \"ipywidgets\" for Jupyter support\n",
       "  warnings.warn('install \"ipywidgets\" for Jupyter support')\n",
       "</pre>\n"
      ],
      "text/plain": [
       "/Users/Jorge/Library/Caches/pypoetry/virtualenvs/lorawan-chatbot-rag-llm-Kbm_Xz7B-py3.11/lib/python3.11/site-packag\n",
       "es/rich/live.py:231: UserWarning: install \"ipywidgets\" for Jupyter support\n",
       "  warnings.warn('install \"ipywidgets\" for Jupyter support')\n"
      ]
     },
     "metadata": {},
     "output_type": "display_data"
    },
    {
     "data": {
      "text/html": [
       "<pre style=\"white-space:pre;overflow-x:auto;line-height:normal;font-family:Menlo,'DejaVu Sans Mono',consolas,'Courier New',monospace\"></pre>\n"
      ],
      "text/plain": []
     },
     "metadata": {},
     "output_type": "display_data"
    },
    {
     "data": {
      "text/html": [
       "<pre style=\"white-space:pre;overflow-x:auto;line-height:normal;font-family:Menlo,'DejaVu Sans Mono',consolas,'Courier New',monospace\">\n",
       "</pre>\n"
      ],
      "text/plain": [
       "\n"
      ]
     },
     "metadata": {},
     "output_type": "display_data"
    },
    {
     "data": {
      "text/html": [
       "<pre style=\"white-space:pre;overflow-x:auto;line-height:normal;font-family:Menlo,'DejaVu Sans Mono',consolas,'Courier New',monospace\">/Users/Jorge/Library/Caches/pypoetry/virtualenvs/lorawan-chatbot-rag-llm-Kbm_Xz7B-py3.11/lib/python3.11/site-packag\n",
       "es/rich/live.py:231: UserWarning: install \"ipywidgets\" for Jupyter support\n",
       "  warnings.warn('install \"ipywidgets\" for Jupyter support')\n",
       "</pre>\n"
      ],
      "text/plain": [
       "/Users/Jorge/Library/Caches/pypoetry/virtualenvs/lorawan-chatbot-rag-llm-Kbm_Xz7B-py3.11/lib/python3.11/site-packag\n",
       "es/rich/live.py:231: UserWarning: install \"ipywidgets\" for Jupyter support\n",
       "  warnings.warn('install \"ipywidgets\" for Jupyter support')\n"
      ]
     },
     "metadata": {},
     "output_type": "display_data"
    },
    {
     "data": {
      "text/html": [
       "<pre style=\"white-space:pre;overflow-x:auto;line-height:normal;font-family:Menlo,'DejaVu Sans Mono',consolas,'Courier New',monospace\">/Users/Jorge/Library/Caches/pypoetry/virtualenvs/lorawan-chatbot-rag-llm-Kbm_Xz7B-py3.11/lib/python3.11/site-packag\n",
       "es/rich/live.py:231: UserWarning: install \"ipywidgets\" for Jupyter support\n",
       "  warnings.warn('install \"ipywidgets\" for Jupyter support')\n",
       "</pre>\n"
      ],
      "text/plain": [
       "/Users/Jorge/Library/Caches/pypoetry/virtualenvs/lorawan-chatbot-rag-llm-Kbm_Xz7B-py3.11/lib/python3.11/site-packag\n",
       "es/rich/live.py:231: UserWarning: install \"ipywidgets\" for Jupyter support\n",
       "  warnings.warn('install \"ipywidgets\" for Jupyter support')\n"
      ]
     },
     "metadata": {},
     "output_type": "display_data"
    },
    {
     "data": {
      "text/html": [
       "<pre style=\"white-space:pre;overflow-x:auto;line-height:normal;font-family:Menlo,'DejaVu Sans Mono',consolas,'Courier New',monospace\">/Users/Jorge/Library/Caches/pypoetry/virtualenvs/lorawan-chatbot-rag-llm-Kbm_Xz7B-py3.11/lib/python3.11/site-packag\n",
       "es/rich/live.py:231: UserWarning: install \"ipywidgets\" for Jupyter support\n",
       "  warnings.warn('install \"ipywidgets\" for Jupyter support')\n",
       "</pre>\n"
      ],
      "text/plain": [
       "/Users/Jorge/Library/Caches/pypoetry/virtualenvs/lorawan-chatbot-rag-llm-Kbm_Xz7B-py3.11/lib/python3.11/site-packag\n",
       "es/rich/live.py:231: UserWarning: install \"ipywidgets\" for Jupyter support\n",
       "  warnings.warn('install \"ipywidgets\" for Jupyter support')\n"
      ]
     },
     "metadata": {},
     "output_type": "display_data"
    },
    {
     "data": {
      "text/html": [
       "<pre style=\"white-space:pre;overflow-x:auto;line-height:normal;font-family:Menlo,'DejaVu Sans Mono',consolas,'Courier New',monospace\">/Users/Jorge/Library/Caches/pypoetry/virtualenvs/lorawan-chatbot-rag-llm-Kbm_Xz7B-py3.11/lib/python3.11/site-packag\n",
       "es/rich/live.py:231: UserWarning: install \"ipywidgets\" for Jupyter support\n",
       "  warnings.warn('install \"ipywidgets\" for Jupyter support')\n",
       "</pre>\n"
      ],
      "text/plain": [
       "/Users/Jorge/Library/Caches/pypoetry/virtualenvs/lorawan-chatbot-rag-llm-Kbm_Xz7B-py3.11/lib/python3.11/site-packag\n",
       "es/rich/live.py:231: UserWarning: install \"ipywidgets\" for Jupyter support\n",
       "  warnings.warn('install \"ipywidgets\" for Jupyter support')\n"
      ]
     },
     "metadata": {},
     "output_type": "display_data"
    },
    {
     "data": {
      "text/html": [
       "<pre style=\"white-space:pre;overflow-x:auto;line-height:normal;font-family:Menlo,'DejaVu Sans Mono',consolas,'Courier New',monospace\">/Users/Jorge/Library/Caches/pypoetry/virtualenvs/lorawan-chatbot-rag-llm-Kbm_Xz7B-py3.11/lib/python3.11/site-packag\n",
       "es/rich/live.py:231: UserWarning: install \"ipywidgets\" for Jupyter support\n",
       "  warnings.warn('install \"ipywidgets\" for Jupyter support')\n",
       "</pre>\n"
      ],
      "text/plain": [
       "/Users/Jorge/Library/Caches/pypoetry/virtualenvs/lorawan-chatbot-rag-llm-Kbm_Xz7B-py3.11/lib/python3.11/site-packag\n",
       "es/rich/live.py:231: UserWarning: install \"ipywidgets\" for Jupyter support\n",
       "  warnings.warn('install \"ipywidgets\" for Jupyter support')\n"
      ]
     },
     "metadata": {},
     "output_type": "display_data"
    },
    {
     "data": {
      "text/html": [
       "<pre style=\"white-space:pre;overflow-x:auto;line-height:normal;font-family:Menlo,'DejaVu Sans Mono',consolas,'Courier New',monospace\">/Users/Jorge/Library/Caches/pypoetry/virtualenvs/lorawan-chatbot-rag-llm-Kbm_Xz7B-py3.11/lib/python3.11/site-packag\n",
       "es/rich/live.py:231: UserWarning: install \"ipywidgets\" for Jupyter support\n",
       "  warnings.warn('install \"ipywidgets\" for Jupyter support')\n",
       "</pre>\n"
      ],
      "text/plain": [
       "/Users/Jorge/Library/Caches/pypoetry/virtualenvs/lorawan-chatbot-rag-llm-Kbm_Xz7B-py3.11/lib/python3.11/site-packag\n",
       "es/rich/live.py:231: UserWarning: install \"ipywidgets\" for Jupyter support\n",
       "  warnings.warn('install \"ipywidgets\" for Jupyter support')\n"
      ]
     },
     "metadata": {},
     "output_type": "display_data"
    },
    {
     "data": {
      "text/html": [
       "<pre style=\"white-space:pre;overflow-x:auto;line-height:normal;font-family:Menlo,'DejaVu Sans Mono',consolas,'Courier New',monospace\">/Users/Jorge/Library/Caches/pypoetry/virtualenvs/lorawan-chatbot-rag-llm-Kbm_Xz7B-py3.11/lib/python3.11/site-packag\n",
       "es/rich/live.py:231: UserWarning: install \"ipywidgets\" for Jupyter support\n",
       "  warnings.warn('install \"ipywidgets\" for Jupyter support')\n",
       "</pre>\n"
      ],
      "text/plain": [
       "/Users/Jorge/Library/Caches/pypoetry/virtualenvs/lorawan-chatbot-rag-llm-Kbm_Xz7B-py3.11/lib/python3.11/site-packag\n",
       "es/rich/live.py:231: UserWarning: install \"ipywidgets\" for Jupyter support\n",
       "  warnings.warn('install \"ipywidgets\" for Jupyter support')\n"
      ]
     },
     "metadata": {},
     "output_type": "display_data"
    },
    {
     "data": {
      "text/html": [
       "<pre style=\"white-space:pre;overflow-x:auto;line-height:normal;font-family:Menlo,'DejaVu Sans Mono',consolas,'Courier New',monospace\">/Users/Jorge/Library/Caches/pypoetry/virtualenvs/lorawan-chatbot-rag-llm-Kbm_Xz7B-py3.11/lib/python3.11/site-packag\n",
       "es/rich/live.py:231: UserWarning: install \"ipywidgets\" for Jupyter support\n",
       "  warnings.warn('install \"ipywidgets\" for Jupyter support')\n",
       "</pre>\n"
      ],
      "text/plain": [
       "/Users/Jorge/Library/Caches/pypoetry/virtualenvs/lorawan-chatbot-rag-llm-Kbm_Xz7B-py3.11/lib/python3.11/site-packag\n",
       "es/rich/live.py:231: UserWarning: install \"ipywidgets\" for Jupyter support\n",
       "  warnings.warn('install \"ipywidgets\" for Jupyter support')\n"
      ]
     },
     "metadata": {},
     "output_type": "display_data"
    },
    {
     "data": {
      "text/html": [
       "<pre style=\"white-space:pre;overflow-x:auto;line-height:normal;font-family:Menlo,'DejaVu Sans Mono',consolas,'Courier New',monospace\">/Users/Jorge/Library/Caches/pypoetry/virtualenvs/lorawan-chatbot-rag-llm-Kbm_Xz7B-py3.11/lib/python3.11/site-packag\n",
       "es/rich/live.py:231: UserWarning: install \"ipywidgets\" for Jupyter support\n",
       "  warnings.warn('install \"ipywidgets\" for Jupyter support')\n",
       "</pre>\n"
      ],
      "text/plain": [
       "/Users/Jorge/Library/Caches/pypoetry/virtualenvs/lorawan-chatbot-rag-llm-Kbm_Xz7B-py3.11/lib/python3.11/site-packag\n",
       "es/rich/live.py:231: UserWarning: install \"ipywidgets\" for Jupyter support\n",
       "  warnings.warn('install \"ipywidgets\" for Jupyter support')\n"
      ]
     },
     "metadata": {},
     "output_type": "display_data"
    },
    {
     "data": {
      "text/html": [
       "<pre style=\"white-space:pre;overflow-x:auto;line-height:normal;font-family:Menlo,'DejaVu Sans Mono',consolas,'Courier New',monospace\"></pre>\n"
      ],
      "text/plain": []
     },
     "metadata": {},
     "output_type": "display_data"
    },
    {
     "data": {
      "text/html": [
       "<pre style=\"white-space:pre;overflow-x:auto;line-height:normal;font-family:Menlo,'DejaVu Sans Mono',consolas,'Courier New',monospace\">\n",
       "</pre>\n"
      ],
      "text/plain": [
       "\n"
      ]
     },
     "metadata": {},
     "output_type": "display_data"
    },
    {
     "data": {
      "text/html": [
       "<pre style=\"white-space:pre;overflow-x:auto;line-height:normal;font-family:Menlo,'DejaVu Sans Mono',consolas,'Courier New',monospace\">/Users/Jorge/Library/Caches/pypoetry/virtualenvs/lorawan-chatbot-rag-llm-Kbm_Xz7B-py3.11/lib/python3.11/site-packag\n",
       "es/rich/live.py:231: UserWarning: install \"ipywidgets\" for Jupyter support\n",
       "  warnings.warn('install \"ipywidgets\" for Jupyter support')\n",
       "</pre>\n"
      ],
      "text/plain": [
       "/Users/Jorge/Library/Caches/pypoetry/virtualenvs/lorawan-chatbot-rag-llm-Kbm_Xz7B-py3.11/lib/python3.11/site-packag\n",
       "es/rich/live.py:231: UserWarning: install \"ipywidgets\" for Jupyter support\n",
       "  warnings.warn('install \"ipywidgets\" for Jupyter support')\n"
      ]
     },
     "metadata": {},
     "output_type": "display_data"
    },
    {
     "data": {
      "text/html": [
       "<pre style=\"white-space:pre;overflow-x:auto;line-height:normal;font-family:Menlo,'DejaVu Sans Mono',consolas,'Courier New',monospace\">/Users/Jorge/Library/Caches/pypoetry/virtualenvs/lorawan-chatbot-rag-llm-Kbm_Xz7B-py3.11/lib/python3.11/site-packag\n",
       "es/rich/live.py:231: UserWarning: install \"ipywidgets\" for Jupyter support\n",
       "  warnings.warn('install \"ipywidgets\" for Jupyter support')\n",
       "</pre>\n"
      ],
      "text/plain": [
       "/Users/Jorge/Library/Caches/pypoetry/virtualenvs/lorawan-chatbot-rag-llm-Kbm_Xz7B-py3.11/lib/python3.11/site-packag\n",
       "es/rich/live.py:231: UserWarning: install \"ipywidgets\" for Jupyter support\n",
       "  warnings.warn('install \"ipywidgets\" for Jupyter support')\n"
      ]
     },
     "metadata": {},
     "output_type": "display_data"
    },
    {
     "data": {
      "text/html": [
       "<pre style=\"white-space:pre;overflow-x:auto;line-height:normal;font-family:Menlo,'DejaVu Sans Mono',consolas,'Courier New',monospace\">/Users/Jorge/Library/Caches/pypoetry/virtualenvs/lorawan-chatbot-rag-llm-Kbm_Xz7B-py3.11/lib/python3.11/site-packag\n",
       "es/rich/live.py:231: UserWarning: install \"ipywidgets\" for Jupyter support\n",
       "  warnings.warn('install \"ipywidgets\" for Jupyter support')\n",
       "</pre>\n"
      ],
      "text/plain": [
       "/Users/Jorge/Library/Caches/pypoetry/virtualenvs/lorawan-chatbot-rag-llm-Kbm_Xz7B-py3.11/lib/python3.11/site-packag\n",
       "es/rich/live.py:231: UserWarning: install \"ipywidgets\" for Jupyter support\n",
       "  warnings.warn('install \"ipywidgets\" for Jupyter support')\n"
      ]
     },
     "metadata": {},
     "output_type": "display_data"
    },
    {
     "data": {
      "text/html": [
       "<pre style=\"white-space:pre;overflow-x:auto;line-height:normal;font-family:Menlo,'DejaVu Sans Mono',consolas,'Courier New',monospace\">/Users/Jorge/Library/Caches/pypoetry/virtualenvs/lorawan-chatbot-rag-llm-Kbm_Xz7B-py3.11/lib/python3.11/site-packag\n",
       "es/rich/live.py:231: UserWarning: install \"ipywidgets\" for Jupyter support\n",
       "  warnings.warn('install \"ipywidgets\" for Jupyter support')\n",
       "</pre>\n"
      ],
      "text/plain": [
       "/Users/Jorge/Library/Caches/pypoetry/virtualenvs/lorawan-chatbot-rag-llm-Kbm_Xz7B-py3.11/lib/python3.11/site-packag\n",
       "es/rich/live.py:231: UserWarning: install \"ipywidgets\" for Jupyter support\n",
       "  warnings.warn('install \"ipywidgets\" for Jupyter support')\n"
      ]
     },
     "metadata": {},
     "output_type": "display_data"
    },
    {
     "data": {
      "text/html": [
       "<pre style=\"white-space:pre;overflow-x:auto;line-height:normal;font-family:Menlo,'DejaVu Sans Mono',consolas,'Courier New',monospace\">/Users/Jorge/Library/Caches/pypoetry/virtualenvs/lorawan-chatbot-rag-llm-Kbm_Xz7B-py3.11/lib/python3.11/site-packag\n",
       "es/rich/live.py:231: UserWarning: install \"ipywidgets\" for Jupyter support\n",
       "  warnings.warn('install \"ipywidgets\" for Jupyter support')\n",
       "</pre>\n"
      ],
      "text/plain": [
       "/Users/Jorge/Library/Caches/pypoetry/virtualenvs/lorawan-chatbot-rag-llm-Kbm_Xz7B-py3.11/lib/python3.11/site-packag\n",
       "es/rich/live.py:231: UserWarning: install \"ipywidgets\" for Jupyter support\n",
       "  warnings.warn('install \"ipywidgets\" for Jupyter support')\n"
      ]
     },
     "metadata": {},
     "output_type": "display_data"
    },
    {
     "data": {
      "text/html": [
       "<pre style=\"white-space:pre;overflow-x:auto;line-height:normal;font-family:Menlo,'DejaVu Sans Mono',consolas,'Courier New',monospace\">/Users/Jorge/Library/Caches/pypoetry/virtualenvs/lorawan-chatbot-rag-llm-Kbm_Xz7B-py3.11/lib/python3.11/site-packag\n",
       "es/rich/live.py:231: UserWarning: install \"ipywidgets\" for Jupyter support\n",
       "  warnings.warn('install \"ipywidgets\" for Jupyter support')\n",
       "</pre>\n"
      ],
      "text/plain": [
       "/Users/Jorge/Library/Caches/pypoetry/virtualenvs/lorawan-chatbot-rag-llm-Kbm_Xz7B-py3.11/lib/python3.11/site-packag\n",
       "es/rich/live.py:231: UserWarning: install \"ipywidgets\" for Jupyter support\n",
       "  warnings.warn('install \"ipywidgets\" for Jupyter support')\n"
      ]
     },
     "metadata": {},
     "output_type": "display_data"
    },
    {
     "data": {
      "text/html": [
       "<pre style=\"white-space:pre;overflow-x:auto;line-height:normal;font-family:Menlo,'DejaVu Sans Mono',consolas,'Courier New',monospace\">/Users/Jorge/Library/Caches/pypoetry/virtualenvs/lorawan-chatbot-rag-llm-Kbm_Xz7B-py3.11/lib/python3.11/site-packag\n",
       "es/rich/live.py:231: UserWarning: install \"ipywidgets\" for Jupyter support\n",
       "  warnings.warn('install \"ipywidgets\" for Jupyter support')\n",
       "</pre>\n"
      ],
      "text/plain": [
       "/Users/Jorge/Library/Caches/pypoetry/virtualenvs/lorawan-chatbot-rag-llm-Kbm_Xz7B-py3.11/lib/python3.11/site-packag\n",
       "es/rich/live.py:231: UserWarning: install \"ipywidgets\" for Jupyter support\n",
       "  warnings.warn('install \"ipywidgets\" for Jupyter support')\n"
      ]
     },
     "metadata": {},
     "output_type": "display_data"
    },
    {
     "data": {
      "text/html": [
       "<pre style=\"white-space:pre;overflow-x:auto;line-height:normal;font-family:Menlo,'DejaVu Sans Mono',consolas,'Courier New',monospace\">/Users/Jorge/Library/Caches/pypoetry/virtualenvs/lorawan-chatbot-rag-llm-Kbm_Xz7B-py3.11/lib/python3.11/site-packag\n",
       "es/rich/live.py:231: UserWarning: install \"ipywidgets\" for Jupyter support\n",
       "  warnings.warn('install \"ipywidgets\" for Jupyter support')\n",
       "</pre>\n"
      ],
      "text/plain": [
       "/Users/Jorge/Library/Caches/pypoetry/virtualenvs/lorawan-chatbot-rag-llm-Kbm_Xz7B-py3.11/lib/python3.11/site-packag\n",
       "es/rich/live.py:231: UserWarning: install \"ipywidgets\" for Jupyter support\n",
       "  warnings.warn('install \"ipywidgets\" for Jupyter support')\n"
      ]
     },
     "metadata": {},
     "output_type": "display_data"
    },
    {
     "data": {
      "text/html": [
       "<pre style=\"white-space:pre;overflow-x:auto;line-height:normal;font-family:Menlo,'DejaVu Sans Mono',consolas,'Courier New',monospace\">/Users/Jorge/Library/Caches/pypoetry/virtualenvs/lorawan-chatbot-rag-llm-Kbm_Xz7B-py3.11/lib/python3.11/site-packag\n",
       "es/rich/live.py:231: UserWarning: install \"ipywidgets\" for Jupyter support\n",
       "  warnings.warn('install \"ipywidgets\" for Jupyter support')\n",
       "</pre>\n"
      ],
      "text/plain": [
       "/Users/Jorge/Library/Caches/pypoetry/virtualenvs/lorawan-chatbot-rag-llm-Kbm_Xz7B-py3.11/lib/python3.11/site-packag\n",
       "es/rich/live.py:231: UserWarning: install \"ipywidgets\" for Jupyter support\n",
       "  warnings.warn('install \"ipywidgets\" for Jupyter support')\n"
      ]
     },
     "metadata": {},
     "output_type": "display_data"
    },
    {
     "data": {
      "text/html": [
       "<pre style=\"white-space:pre;overflow-x:auto;line-height:normal;font-family:Menlo,'DejaVu Sans Mono',consolas,'Courier New',monospace\">/Users/Jorge/Library/Caches/pypoetry/virtualenvs/lorawan-chatbot-rag-llm-Kbm_Xz7B-py3.11/lib/python3.11/site-packag\n",
       "es/rich/live.py:231: UserWarning: install \"ipywidgets\" for Jupyter support\n",
       "  warnings.warn('install \"ipywidgets\" for Jupyter support')\n",
       "</pre>\n"
      ],
      "text/plain": [
       "/Users/Jorge/Library/Caches/pypoetry/virtualenvs/lorawan-chatbot-rag-llm-Kbm_Xz7B-py3.11/lib/python3.11/site-packag\n",
       "es/rich/live.py:231: UserWarning: install \"ipywidgets\" for Jupyter support\n",
       "  warnings.warn('install \"ipywidgets\" for Jupyter support')\n"
      ]
     },
     "metadata": {},
     "output_type": "display_data"
    },
    {
     "data": {
      "text/html": [
       "<pre style=\"white-space:pre;overflow-x:auto;line-height:normal;font-family:Menlo,'DejaVu Sans Mono',consolas,'Courier New',monospace\"></pre>\n"
      ],
      "text/plain": []
     },
     "metadata": {},
     "output_type": "display_data"
    },
    {
     "data": {
      "text/html": [
       "<pre style=\"white-space:pre;overflow-x:auto;line-height:normal;font-family:Menlo,'DejaVu Sans Mono',consolas,'Courier New',monospace\">\n",
       "</pre>\n"
      ],
      "text/plain": [
       "\n"
      ]
     },
     "metadata": {},
     "output_type": "display_data"
    },
    {
     "data": {
      "text/html": [
       "<pre style=\"white-space:pre;overflow-x:auto;line-height:normal;font-family:Menlo,'DejaVu Sans Mono',consolas,'Courier New',monospace\">/Users/Jorge/Library/Caches/pypoetry/virtualenvs/lorawan-chatbot-rag-llm-Kbm_Xz7B-py3.11/lib/python3.11/site-packag\n",
       "es/rich/live.py:231: UserWarning: install \"ipywidgets\" for Jupyter support\n",
       "  warnings.warn('install \"ipywidgets\" for Jupyter support')\n",
       "</pre>\n"
      ],
      "text/plain": [
       "/Users/Jorge/Library/Caches/pypoetry/virtualenvs/lorawan-chatbot-rag-llm-Kbm_Xz7B-py3.11/lib/python3.11/site-packag\n",
       "es/rich/live.py:231: UserWarning: install \"ipywidgets\" for Jupyter support\n",
       "  warnings.warn('install \"ipywidgets\" for Jupyter support')\n"
      ]
     },
     "metadata": {},
     "output_type": "display_data"
    },
    {
     "data": {
      "text/html": [
       "<pre style=\"white-space:pre;overflow-x:auto;line-height:normal;font-family:Menlo,'DejaVu Sans Mono',consolas,'Courier New',monospace\">/Users/Jorge/Library/Caches/pypoetry/virtualenvs/lorawan-chatbot-rag-llm-Kbm_Xz7B-py3.11/lib/python3.11/site-packag\n",
       "es/rich/live.py:231: UserWarning: install \"ipywidgets\" for Jupyter support\n",
       "  warnings.warn('install \"ipywidgets\" for Jupyter support')\n",
       "</pre>\n"
      ],
      "text/plain": [
       "/Users/Jorge/Library/Caches/pypoetry/virtualenvs/lorawan-chatbot-rag-llm-Kbm_Xz7B-py3.11/lib/python3.11/site-packag\n",
       "es/rich/live.py:231: UserWarning: install \"ipywidgets\" for Jupyter support\n",
       "  warnings.warn('install \"ipywidgets\" for Jupyter support')\n"
      ]
     },
     "metadata": {},
     "output_type": "display_data"
    },
    {
     "data": {
      "text/html": [
       "<pre style=\"white-space:pre;overflow-x:auto;line-height:normal;font-family:Menlo,'DejaVu Sans Mono',consolas,'Courier New',monospace\">/Users/Jorge/Library/Caches/pypoetry/virtualenvs/lorawan-chatbot-rag-llm-Kbm_Xz7B-py3.11/lib/python3.11/site-packag\n",
       "es/rich/live.py:231: UserWarning: install \"ipywidgets\" for Jupyter support\n",
       "  warnings.warn('install \"ipywidgets\" for Jupyter support')\n",
       "</pre>\n"
      ],
      "text/plain": [
       "/Users/Jorge/Library/Caches/pypoetry/virtualenvs/lorawan-chatbot-rag-llm-Kbm_Xz7B-py3.11/lib/python3.11/site-packag\n",
       "es/rich/live.py:231: UserWarning: install \"ipywidgets\" for Jupyter support\n",
       "  warnings.warn('install \"ipywidgets\" for Jupyter support')\n"
      ]
     },
     "metadata": {},
     "output_type": "display_data"
    },
    {
     "data": {
      "text/html": [
       "<pre style=\"white-space:pre;overflow-x:auto;line-height:normal;font-family:Menlo,'DejaVu Sans Mono',consolas,'Courier New',monospace\">/Users/Jorge/Library/Caches/pypoetry/virtualenvs/lorawan-chatbot-rag-llm-Kbm_Xz7B-py3.11/lib/python3.11/site-packag\n",
       "es/rich/live.py:231: UserWarning: install \"ipywidgets\" for Jupyter support\n",
       "  warnings.warn('install \"ipywidgets\" for Jupyter support')\n",
       "</pre>\n"
      ],
      "text/plain": [
       "/Users/Jorge/Library/Caches/pypoetry/virtualenvs/lorawan-chatbot-rag-llm-Kbm_Xz7B-py3.11/lib/python3.11/site-packag\n",
       "es/rich/live.py:231: UserWarning: install \"ipywidgets\" for Jupyter support\n",
       "  warnings.warn('install \"ipywidgets\" for Jupyter support')\n"
      ]
     },
     "metadata": {},
     "output_type": "display_data"
    },
    {
     "data": {
      "text/html": [
       "<pre style=\"white-space:pre;overflow-x:auto;line-height:normal;font-family:Menlo,'DejaVu Sans Mono',consolas,'Courier New',monospace\">/Users/Jorge/Library/Caches/pypoetry/virtualenvs/lorawan-chatbot-rag-llm-Kbm_Xz7B-py3.11/lib/python3.11/site-packag\n",
       "es/rich/live.py:231: UserWarning: install \"ipywidgets\" for Jupyter support\n",
       "  warnings.warn('install \"ipywidgets\" for Jupyter support')\n",
       "</pre>\n"
      ],
      "text/plain": [
       "/Users/Jorge/Library/Caches/pypoetry/virtualenvs/lorawan-chatbot-rag-llm-Kbm_Xz7B-py3.11/lib/python3.11/site-packag\n",
       "es/rich/live.py:231: UserWarning: install \"ipywidgets\" for Jupyter support\n",
       "  warnings.warn('install \"ipywidgets\" for Jupyter support')\n"
      ]
     },
     "metadata": {},
     "output_type": "display_data"
    },
    {
     "data": {
      "text/html": [
       "<pre style=\"white-space:pre;overflow-x:auto;line-height:normal;font-family:Menlo,'DejaVu Sans Mono',consolas,'Courier New',monospace\">/Users/Jorge/Library/Caches/pypoetry/virtualenvs/lorawan-chatbot-rag-llm-Kbm_Xz7B-py3.11/lib/python3.11/site-packag\n",
       "es/rich/live.py:231: UserWarning: install \"ipywidgets\" for Jupyter support\n",
       "  warnings.warn('install \"ipywidgets\" for Jupyter support')\n",
       "</pre>\n"
      ],
      "text/plain": [
       "/Users/Jorge/Library/Caches/pypoetry/virtualenvs/lorawan-chatbot-rag-llm-Kbm_Xz7B-py3.11/lib/python3.11/site-packag\n",
       "es/rich/live.py:231: UserWarning: install \"ipywidgets\" for Jupyter support\n",
       "  warnings.warn('install \"ipywidgets\" for Jupyter support')\n"
      ]
     },
     "metadata": {},
     "output_type": "display_data"
    },
    {
     "data": {
      "text/html": [
       "<pre style=\"white-space:pre;overflow-x:auto;line-height:normal;font-family:Menlo,'DejaVu Sans Mono',consolas,'Courier New',monospace\">/Users/Jorge/Library/Caches/pypoetry/virtualenvs/lorawan-chatbot-rag-llm-Kbm_Xz7B-py3.11/lib/python3.11/site-packag\n",
       "es/rich/live.py:231: UserWarning: install \"ipywidgets\" for Jupyter support\n",
       "  warnings.warn('install \"ipywidgets\" for Jupyter support')\n",
       "</pre>\n"
      ],
      "text/plain": [
       "/Users/Jorge/Library/Caches/pypoetry/virtualenvs/lorawan-chatbot-rag-llm-Kbm_Xz7B-py3.11/lib/python3.11/site-packag\n",
       "es/rich/live.py:231: UserWarning: install \"ipywidgets\" for Jupyter support\n",
       "  warnings.warn('install \"ipywidgets\" for Jupyter support')\n"
      ]
     },
     "metadata": {},
     "output_type": "display_data"
    },
    {
     "data": {
      "text/html": [
       "<pre style=\"white-space:pre;overflow-x:auto;line-height:normal;font-family:Menlo,'DejaVu Sans Mono',consolas,'Courier New',monospace\">/Users/Jorge/Library/Caches/pypoetry/virtualenvs/lorawan-chatbot-rag-llm-Kbm_Xz7B-py3.11/lib/python3.11/site-packag\n",
       "es/rich/live.py:231: UserWarning: install \"ipywidgets\" for Jupyter support\n",
       "  warnings.warn('install \"ipywidgets\" for Jupyter support')\n",
       "</pre>\n"
      ],
      "text/plain": [
       "/Users/Jorge/Library/Caches/pypoetry/virtualenvs/lorawan-chatbot-rag-llm-Kbm_Xz7B-py3.11/lib/python3.11/site-packag\n",
       "es/rich/live.py:231: UserWarning: install \"ipywidgets\" for Jupyter support\n",
       "  warnings.warn('install \"ipywidgets\" for Jupyter support')\n"
      ]
     },
     "metadata": {},
     "output_type": "display_data"
    },
    {
     "data": {
      "text/html": [
       "<pre style=\"white-space:pre;overflow-x:auto;line-height:normal;font-family:Menlo,'DejaVu Sans Mono',consolas,'Courier New',monospace\">/Users/Jorge/Library/Caches/pypoetry/virtualenvs/lorawan-chatbot-rag-llm-Kbm_Xz7B-py3.11/lib/python3.11/site-packag\n",
       "es/rich/live.py:231: UserWarning: install \"ipywidgets\" for Jupyter support\n",
       "  warnings.warn('install \"ipywidgets\" for Jupyter support')\n",
       "</pre>\n"
      ],
      "text/plain": [
       "/Users/Jorge/Library/Caches/pypoetry/virtualenvs/lorawan-chatbot-rag-llm-Kbm_Xz7B-py3.11/lib/python3.11/site-packag\n",
       "es/rich/live.py:231: UserWarning: install \"ipywidgets\" for Jupyter support\n",
       "  warnings.warn('install \"ipywidgets\" for Jupyter support')\n"
      ]
     },
     "metadata": {},
     "output_type": "display_data"
    },
    {
     "data": {
      "text/html": [
       "<pre style=\"white-space:pre;overflow-x:auto;line-height:normal;font-family:Menlo,'DejaVu Sans Mono',consolas,'Courier New',monospace\">/Users/Jorge/Library/Caches/pypoetry/virtualenvs/lorawan-chatbot-rag-llm-Kbm_Xz7B-py3.11/lib/python3.11/site-packag\n",
       "es/rich/live.py:231: UserWarning: install \"ipywidgets\" for Jupyter support\n",
       "  warnings.warn('install \"ipywidgets\" for Jupyter support')\n",
       "</pre>\n"
      ],
      "text/plain": [
       "/Users/Jorge/Library/Caches/pypoetry/virtualenvs/lorawan-chatbot-rag-llm-Kbm_Xz7B-py3.11/lib/python3.11/site-packag\n",
       "es/rich/live.py:231: UserWarning: install \"ipywidgets\" for Jupyter support\n",
       "  warnings.warn('install \"ipywidgets\" for Jupyter support')\n"
      ]
     },
     "metadata": {},
     "output_type": "display_data"
    },
    {
     "data": {
      "text/html": [
       "<pre style=\"white-space:pre;overflow-x:auto;line-height:normal;font-family:Menlo,'DejaVu Sans Mono',consolas,'Courier New',monospace\">/Users/Jorge/Library/Caches/pypoetry/virtualenvs/lorawan-chatbot-rag-llm-Kbm_Xz7B-py3.11/lib/python3.11/site-packag\n",
       "es/rich/live.py:231: UserWarning: install \"ipywidgets\" for Jupyter support\n",
       "  warnings.warn('install \"ipywidgets\" for Jupyter support')\n",
       "</pre>\n"
      ],
      "text/plain": [
       "/Users/Jorge/Library/Caches/pypoetry/virtualenvs/lorawan-chatbot-rag-llm-Kbm_Xz7B-py3.11/lib/python3.11/site-packag\n",
       "es/rich/live.py:231: UserWarning: install \"ipywidgets\" for Jupyter support\n",
       "  warnings.warn('install \"ipywidgets\" for Jupyter support')\n"
      ]
     },
     "metadata": {},
     "output_type": "display_data"
    },
    {
     "data": {
      "text/html": [
       "<pre style=\"white-space:pre;overflow-x:auto;line-height:normal;font-family:Menlo,'DejaVu Sans Mono',consolas,'Courier New',monospace\"></pre>\n"
      ],
      "text/plain": []
     },
     "metadata": {},
     "output_type": "display_data"
    },
    {
     "data": {
      "text/html": [
       "<pre style=\"white-space:pre;overflow-x:auto;line-height:normal;font-family:Menlo,'DejaVu Sans Mono',consolas,'Courier New',monospace\">\n",
       "</pre>\n"
      ],
      "text/plain": [
       "\n"
      ]
     },
     "metadata": {},
     "output_type": "display_data"
    },
    {
     "data": {
      "text/html": [
       "<pre style=\"white-space:pre;overflow-x:auto;line-height:normal;font-family:Menlo,'DejaVu Sans Mono',consolas,'Courier New',monospace\">/Users/Jorge/Library/Caches/pypoetry/virtualenvs/lorawan-chatbot-rag-llm-Kbm_Xz7B-py3.11/lib/python3.11/site-packag\n",
       "es/rich/live.py:231: UserWarning: install \"ipywidgets\" for Jupyter support\n",
       "  warnings.warn('install \"ipywidgets\" for Jupyter support')\n",
       "</pre>\n"
      ],
      "text/plain": [
       "/Users/Jorge/Library/Caches/pypoetry/virtualenvs/lorawan-chatbot-rag-llm-Kbm_Xz7B-py3.11/lib/python3.11/site-packag\n",
       "es/rich/live.py:231: UserWarning: install \"ipywidgets\" for Jupyter support\n",
       "  warnings.warn('install \"ipywidgets\" for Jupyter support')\n"
      ]
     },
     "metadata": {},
     "output_type": "display_data"
    },
    {
     "data": {
      "text/html": [
       "<pre style=\"white-space:pre;overflow-x:auto;line-height:normal;font-family:Menlo,'DejaVu Sans Mono',consolas,'Courier New',monospace\">/Users/Jorge/Library/Caches/pypoetry/virtualenvs/lorawan-chatbot-rag-llm-Kbm_Xz7B-py3.11/lib/python3.11/site-packag\n",
       "es/rich/live.py:231: UserWarning: install \"ipywidgets\" for Jupyter support\n",
       "  warnings.warn('install \"ipywidgets\" for Jupyter support')\n",
       "</pre>\n"
      ],
      "text/plain": [
       "/Users/Jorge/Library/Caches/pypoetry/virtualenvs/lorawan-chatbot-rag-llm-Kbm_Xz7B-py3.11/lib/python3.11/site-packag\n",
       "es/rich/live.py:231: UserWarning: install \"ipywidgets\" for Jupyter support\n",
       "  warnings.warn('install \"ipywidgets\" for Jupyter support')\n"
      ]
     },
     "metadata": {},
     "output_type": "display_data"
    },
    {
     "data": {
      "text/html": [
       "<pre style=\"white-space:pre;overflow-x:auto;line-height:normal;font-family:Menlo,'DejaVu Sans Mono',consolas,'Courier New',monospace\">/Users/Jorge/Library/Caches/pypoetry/virtualenvs/lorawan-chatbot-rag-llm-Kbm_Xz7B-py3.11/lib/python3.11/site-packag\n",
       "es/rich/live.py:231: UserWarning: install \"ipywidgets\" for Jupyter support\n",
       "  warnings.warn('install \"ipywidgets\" for Jupyter support')\n",
       "</pre>\n"
      ],
      "text/plain": [
       "/Users/Jorge/Library/Caches/pypoetry/virtualenvs/lorawan-chatbot-rag-llm-Kbm_Xz7B-py3.11/lib/python3.11/site-packag\n",
       "es/rich/live.py:231: UserWarning: install \"ipywidgets\" for Jupyter support\n",
       "  warnings.warn('install \"ipywidgets\" for Jupyter support')\n"
      ]
     },
     "metadata": {},
     "output_type": "display_data"
    },
    {
     "data": {
      "text/html": [
       "<pre style=\"white-space:pre;overflow-x:auto;line-height:normal;font-family:Menlo,'DejaVu Sans Mono',consolas,'Courier New',monospace\">/Users/Jorge/Library/Caches/pypoetry/virtualenvs/lorawan-chatbot-rag-llm-Kbm_Xz7B-py3.11/lib/python3.11/site-packag\n",
       "es/rich/live.py:231: UserWarning: install \"ipywidgets\" for Jupyter support\n",
       "  warnings.warn('install \"ipywidgets\" for Jupyter support')\n",
       "</pre>\n"
      ],
      "text/plain": [
       "/Users/Jorge/Library/Caches/pypoetry/virtualenvs/lorawan-chatbot-rag-llm-Kbm_Xz7B-py3.11/lib/python3.11/site-packag\n",
       "es/rich/live.py:231: UserWarning: install \"ipywidgets\" for Jupyter support\n",
       "  warnings.warn('install \"ipywidgets\" for Jupyter support')\n"
      ]
     },
     "metadata": {},
     "output_type": "display_data"
    },
    {
     "data": {
      "text/html": [
       "<pre style=\"white-space:pre;overflow-x:auto;line-height:normal;font-family:Menlo,'DejaVu Sans Mono',consolas,'Courier New',monospace\">/Users/Jorge/Library/Caches/pypoetry/virtualenvs/lorawan-chatbot-rag-llm-Kbm_Xz7B-py3.11/lib/python3.11/site-packag\n",
       "es/rich/live.py:231: UserWarning: install \"ipywidgets\" for Jupyter support\n",
       "  warnings.warn('install \"ipywidgets\" for Jupyter support')\n",
       "</pre>\n"
      ],
      "text/plain": [
       "/Users/Jorge/Library/Caches/pypoetry/virtualenvs/lorawan-chatbot-rag-llm-Kbm_Xz7B-py3.11/lib/python3.11/site-packag\n",
       "es/rich/live.py:231: UserWarning: install \"ipywidgets\" for Jupyter support\n",
       "  warnings.warn('install \"ipywidgets\" for Jupyter support')\n"
      ]
     },
     "metadata": {},
     "output_type": "display_data"
    },
    {
     "data": {
      "text/html": [
       "<pre style=\"white-space:pre;overflow-x:auto;line-height:normal;font-family:Menlo,'DejaVu Sans Mono',consolas,'Courier New',monospace\">/Users/Jorge/Library/Caches/pypoetry/virtualenvs/lorawan-chatbot-rag-llm-Kbm_Xz7B-py3.11/lib/python3.11/site-packag\n",
       "es/rich/live.py:231: UserWarning: install \"ipywidgets\" for Jupyter support\n",
       "  warnings.warn('install \"ipywidgets\" for Jupyter support')\n",
       "</pre>\n"
      ],
      "text/plain": [
       "/Users/Jorge/Library/Caches/pypoetry/virtualenvs/lorawan-chatbot-rag-llm-Kbm_Xz7B-py3.11/lib/python3.11/site-packag\n",
       "es/rich/live.py:231: UserWarning: install \"ipywidgets\" for Jupyter support\n",
       "  warnings.warn('install \"ipywidgets\" for Jupyter support')\n"
      ]
     },
     "metadata": {},
     "output_type": "display_data"
    },
    {
     "data": {
      "text/html": [
       "<pre style=\"white-space:pre;overflow-x:auto;line-height:normal;font-family:Menlo,'DejaVu Sans Mono',consolas,'Courier New',monospace\">/Users/Jorge/Library/Caches/pypoetry/virtualenvs/lorawan-chatbot-rag-llm-Kbm_Xz7B-py3.11/lib/python3.11/site-packag\n",
       "es/rich/live.py:231: UserWarning: install \"ipywidgets\" for Jupyter support\n",
       "  warnings.warn('install \"ipywidgets\" for Jupyter support')\n",
       "</pre>\n"
      ],
      "text/plain": [
       "/Users/Jorge/Library/Caches/pypoetry/virtualenvs/lorawan-chatbot-rag-llm-Kbm_Xz7B-py3.11/lib/python3.11/site-packag\n",
       "es/rich/live.py:231: UserWarning: install \"ipywidgets\" for Jupyter support\n",
       "  warnings.warn('install \"ipywidgets\" for Jupyter support')\n"
      ]
     },
     "metadata": {},
     "output_type": "display_data"
    },
    {
     "data": {
      "text/html": [
       "<pre style=\"white-space:pre;overflow-x:auto;line-height:normal;font-family:Menlo,'DejaVu Sans Mono',consolas,'Courier New',monospace\">/Users/Jorge/Library/Caches/pypoetry/virtualenvs/lorawan-chatbot-rag-llm-Kbm_Xz7B-py3.11/lib/python3.11/site-packag\n",
       "es/rich/live.py:231: UserWarning: install \"ipywidgets\" for Jupyter support\n",
       "  warnings.warn('install \"ipywidgets\" for Jupyter support')\n",
       "</pre>\n"
      ],
      "text/plain": [
       "/Users/Jorge/Library/Caches/pypoetry/virtualenvs/lorawan-chatbot-rag-llm-Kbm_Xz7B-py3.11/lib/python3.11/site-packag\n",
       "es/rich/live.py:231: UserWarning: install \"ipywidgets\" for Jupyter support\n",
       "  warnings.warn('install \"ipywidgets\" for Jupyter support')\n"
      ]
     },
     "metadata": {},
     "output_type": "display_data"
    },
    {
     "data": {
      "text/html": [
       "<pre style=\"white-space:pre;overflow-x:auto;line-height:normal;font-family:Menlo,'DejaVu Sans Mono',consolas,'Courier New',monospace\">/Users/Jorge/Library/Caches/pypoetry/virtualenvs/lorawan-chatbot-rag-llm-Kbm_Xz7B-py3.11/lib/python3.11/site-packag\n",
       "es/rich/live.py:231: UserWarning: install \"ipywidgets\" for Jupyter support\n",
       "  warnings.warn('install \"ipywidgets\" for Jupyter support')\n",
       "</pre>\n"
      ],
      "text/plain": [
       "/Users/Jorge/Library/Caches/pypoetry/virtualenvs/lorawan-chatbot-rag-llm-Kbm_Xz7B-py3.11/lib/python3.11/site-packag\n",
       "es/rich/live.py:231: UserWarning: install \"ipywidgets\" for Jupyter support\n",
       "  warnings.warn('install \"ipywidgets\" for Jupyter support')\n"
      ]
     },
     "metadata": {},
     "output_type": "display_data"
    },
    {
     "data": {
      "text/html": [
       "<pre style=\"white-space:pre;overflow-x:auto;line-height:normal;font-family:Menlo,'DejaVu Sans Mono',consolas,'Courier New',monospace\">/Users/Jorge/Library/Caches/pypoetry/virtualenvs/lorawan-chatbot-rag-llm-Kbm_Xz7B-py3.11/lib/python3.11/site-packag\n",
       "es/rich/live.py:231: UserWarning: install \"ipywidgets\" for Jupyter support\n",
       "  warnings.warn('install \"ipywidgets\" for Jupyter support')\n",
       "</pre>\n"
      ],
      "text/plain": [
       "/Users/Jorge/Library/Caches/pypoetry/virtualenvs/lorawan-chatbot-rag-llm-Kbm_Xz7B-py3.11/lib/python3.11/site-packag\n",
       "es/rich/live.py:231: UserWarning: install \"ipywidgets\" for Jupyter support\n",
       "  warnings.warn('install \"ipywidgets\" for Jupyter support')\n"
      ]
     },
     "metadata": {},
     "output_type": "display_data"
    },
    {
     "data": {
      "text/html": [
       "<pre style=\"white-space:pre;overflow-x:auto;line-height:normal;font-family:Menlo,'DejaVu Sans Mono',consolas,'Courier New',monospace\"></pre>\n"
      ],
      "text/plain": []
     },
     "metadata": {},
     "output_type": "display_data"
    },
    {
     "data": {
      "text/html": [
       "<pre style=\"white-space:pre;overflow-x:auto;line-height:normal;font-family:Menlo,'DejaVu Sans Mono',consolas,'Courier New',monospace\">\n",
       "</pre>\n"
      ],
      "text/plain": [
       "\n"
      ]
     },
     "metadata": {},
     "output_type": "display_data"
    },
    {
     "data": {
      "text/html": [
       "<pre style=\"white-space:pre;overflow-x:auto;line-height:normal;font-family:Menlo,'DejaVu Sans Mono',consolas,'Courier New',monospace\">/Users/Jorge/Library/Caches/pypoetry/virtualenvs/lorawan-chatbot-rag-llm-Kbm_Xz7B-py3.11/lib/python3.11/site-packag\n",
       "es/rich/live.py:231: UserWarning: install \"ipywidgets\" for Jupyter support\n",
       "  warnings.warn('install \"ipywidgets\" for Jupyter support')\n",
       "</pre>\n"
      ],
      "text/plain": [
       "/Users/Jorge/Library/Caches/pypoetry/virtualenvs/lorawan-chatbot-rag-llm-Kbm_Xz7B-py3.11/lib/python3.11/site-packag\n",
       "es/rich/live.py:231: UserWarning: install \"ipywidgets\" for Jupyter support\n",
       "  warnings.warn('install \"ipywidgets\" for Jupyter support')\n"
      ]
     },
     "metadata": {},
     "output_type": "display_data"
    },
    {
     "data": {
      "text/html": [
       "<pre style=\"white-space:pre;overflow-x:auto;line-height:normal;font-family:Menlo,'DejaVu Sans Mono',consolas,'Courier New',monospace\">/Users/Jorge/Library/Caches/pypoetry/virtualenvs/lorawan-chatbot-rag-llm-Kbm_Xz7B-py3.11/lib/python3.11/site-packag\n",
       "es/rich/live.py:231: UserWarning: install \"ipywidgets\" for Jupyter support\n",
       "  warnings.warn('install \"ipywidgets\" for Jupyter support')\n",
       "</pre>\n"
      ],
      "text/plain": [
       "/Users/Jorge/Library/Caches/pypoetry/virtualenvs/lorawan-chatbot-rag-llm-Kbm_Xz7B-py3.11/lib/python3.11/site-packag\n",
       "es/rich/live.py:231: UserWarning: install \"ipywidgets\" for Jupyter support\n",
       "  warnings.warn('install \"ipywidgets\" for Jupyter support')\n"
      ]
     },
     "metadata": {},
     "output_type": "display_data"
    },
    {
     "data": {
      "text/html": [
       "<pre style=\"white-space:pre;overflow-x:auto;line-height:normal;font-family:Menlo,'DejaVu Sans Mono',consolas,'Courier New',monospace\">/Users/Jorge/Library/Caches/pypoetry/virtualenvs/lorawan-chatbot-rag-llm-Kbm_Xz7B-py3.11/lib/python3.11/site-packag\n",
       "es/rich/live.py:231: UserWarning: install \"ipywidgets\" for Jupyter support\n",
       "  warnings.warn('install \"ipywidgets\" for Jupyter support')\n",
       "</pre>\n"
      ],
      "text/plain": [
       "/Users/Jorge/Library/Caches/pypoetry/virtualenvs/lorawan-chatbot-rag-llm-Kbm_Xz7B-py3.11/lib/python3.11/site-packag\n",
       "es/rich/live.py:231: UserWarning: install \"ipywidgets\" for Jupyter support\n",
       "  warnings.warn('install \"ipywidgets\" for Jupyter support')\n"
      ]
     },
     "metadata": {},
     "output_type": "display_data"
    },
    {
     "data": {
      "text/html": [
       "<pre style=\"white-space:pre;overflow-x:auto;line-height:normal;font-family:Menlo,'DejaVu Sans Mono',consolas,'Courier New',monospace\">/Users/Jorge/Library/Caches/pypoetry/virtualenvs/lorawan-chatbot-rag-llm-Kbm_Xz7B-py3.11/lib/python3.11/site-packag\n",
       "es/rich/live.py:231: UserWarning: install \"ipywidgets\" for Jupyter support\n",
       "  warnings.warn('install \"ipywidgets\" for Jupyter support')\n",
       "</pre>\n"
      ],
      "text/plain": [
       "/Users/Jorge/Library/Caches/pypoetry/virtualenvs/lorawan-chatbot-rag-llm-Kbm_Xz7B-py3.11/lib/python3.11/site-packag\n",
       "es/rich/live.py:231: UserWarning: install \"ipywidgets\" for Jupyter support\n",
       "  warnings.warn('install \"ipywidgets\" for Jupyter support')\n"
      ]
     },
     "metadata": {},
     "output_type": "display_data"
    },
    {
     "data": {
      "text/html": [
       "<pre style=\"white-space:pre;overflow-x:auto;line-height:normal;font-family:Menlo,'DejaVu Sans Mono',consolas,'Courier New',monospace\">/Users/Jorge/Library/Caches/pypoetry/virtualenvs/lorawan-chatbot-rag-llm-Kbm_Xz7B-py3.11/lib/python3.11/site-packag\n",
       "es/rich/live.py:231: UserWarning: install \"ipywidgets\" for Jupyter support\n",
       "  warnings.warn('install \"ipywidgets\" for Jupyter support')\n",
       "</pre>\n"
      ],
      "text/plain": [
       "/Users/Jorge/Library/Caches/pypoetry/virtualenvs/lorawan-chatbot-rag-llm-Kbm_Xz7B-py3.11/lib/python3.11/site-packag\n",
       "es/rich/live.py:231: UserWarning: install \"ipywidgets\" for Jupyter support\n",
       "  warnings.warn('install \"ipywidgets\" for Jupyter support')\n"
      ]
     },
     "metadata": {},
     "output_type": "display_data"
    },
    {
     "data": {
      "text/html": [
       "<pre style=\"white-space:pre;overflow-x:auto;line-height:normal;font-family:Menlo,'DejaVu Sans Mono',consolas,'Courier New',monospace\">/Users/Jorge/Library/Caches/pypoetry/virtualenvs/lorawan-chatbot-rag-llm-Kbm_Xz7B-py3.11/lib/python3.11/site-packag\n",
       "es/rich/live.py:231: UserWarning: install \"ipywidgets\" for Jupyter support\n",
       "  warnings.warn('install \"ipywidgets\" for Jupyter support')\n",
       "</pre>\n"
      ],
      "text/plain": [
       "/Users/Jorge/Library/Caches/pypoetry/virtualenvs/lorawan-chatbot-rag-llm-Kbm_Xz7B-py3.11/lib/python3.11/site-packag\n",
       "es/rich/live.py:231: UserWarning: install \"ipywidgets\" for Jupyter support\n",
       "  warnings.warn('install \"ipywidgets\" for Jupyter support')\n"
      ]
     },
     "metadata": {},
     "output_type": "display_data"
    },
    {
     "data": {
      "text/html": [
       "<pre style=\"white-space:pre;overflow-x:auto;line-height:normal;font-family:Menlo,'DejaVu Sans Mono',consolas,'Courier New',monospace\">/Users/Jorge/Library/Caches/pypoetry/virtualenvs/lorawan-chatbot-rag-llm-Kbm_Xz7B-py3.11/lib/python3.11/site-packag\n",
       "es/rich/live.py:231: UserWarning: install \"ipywidgets\" for Jupyter support\n",
       "  warnings.warn('install \"ipywidgets\" for Jupyter support')\n",
       "</pre>\n"
      ],
      "text/plain": [
       "/Users/Jorge/Library/Caches/pypoetry/virtualenvs/lorawan-chatbot-rag-llm-Kbm_Xz7B-py3.11/lib/python3.11/site-packag\n",
       "es/rich/live.py:231: UserWarning: install \"ipywidgets\" for Jupyter support\n",
       "  warnings.warn('install \"ipywidgets\" for Jupyter support')\n"
      ]
     },
     "metadata": {},
     "output_type": "display_data"
    },
    {
     "data": {
      "text/html": [
       "<pre style=\"white-space:pre;overflow-x:auto;line-height:normal;font-family:Menlo,'DejaVu Sans Mono',consolas,'Courier New',monospace\">/Users/Jorge/Library/Caches/pypoetry/virtualenvs/lorawan-chatbot-rag-llm-Kbm_Xz7B-py3.11/lib/python3.11/site-packag\n",
       "es/rich/live.py:231: UserWarning: install \"ipywidgets\" for Jupyter support\n",
       "  warnings.warn('install \"ipywidgets\" for Jupyter support')\n",
       "</pre>\n"
      ],
      "text/plain": [
       "/Users/Jorge/Library/Caches/pypoetry/virtualenvs/lorawan-chatbot-rag-llm-Kbm_Xz7B-py3.11/lib/python3.11/site-packag\n",
       "es/rich/live.py:231: UserWarning: install \"ipywidgets\" for Jupyter support\n",
       "  warnings.warn('install \"ipywidgets\" for Jupyter support')\n"
      ]
     },
     "metadata": {},
     "output_type": "display_data"
    },
    {
     "data": {
      "text/html": [
       "<pre style=\"white-space:pre;overflow-x:auto;line-height:normal;font-family:Menlo,'DejaVu Sans Mono',consolas,'Courier New',monospace\">/Users/Jorge/Library/Caches/pypoetry/virtualenvs/lorawan-chatbot-rag-llm-Kbm_Xz7B-py3.11/lib/python3.11/site-packag\n",
       "es/rich/live.py:231: UserWarning: install \"ipywidgets\" for Jupyter support\n",
       "  warnings.warn('install \"ipywidgets\" for Jupyter support')\n",
       "</pre>\n"
      ],
      "text/plain": [
       "/Users/Jorge/Library/Caches/pypoetry/virtualenvs/lorawan-chatbot-rag-llm-Kbm_Xz7B-py3.11/lib/python3.11/site-packag\n",
       "es/rich/live.py:231: UserWarning: install \"ipywidgets\" for Jupyter support\n",
       "  warnings.warn('install \"ipywidgets\" for Jupyter support')\n"
      ]
     },
     "metadata": {},
     "output_type": "display_data"
    },
    {
     "data": {
      "text/html": [
       "<pre style=\"white-space:pre;overflow-x:auto;line-height:normal;font-family:Menlo,'DejaVu Sans Mono',consolas,'Courier New',monospace\"></pre>\n"
      ],
      "text/plain": []
     },
     "metadata": {},
     "output_type": "display_data"
    },
    {
     "data": {
      "text/html": [
       "<pre style=\"white-space:pre;overflow-x:auto;line-height:normal;font-family:Menlo,'DejaVu Sans Mono',consolas,'Courier New',monospace\">\n",
       "</pre>\n"
      ],
      "text/plain": [
       "\n"
      ]
     },
     "metadata": {},
     "output_type": "display_data"
    },
    {
     "data": {
      "text/html": [
       "<pre style=\"white-space:pre;overflow-x:auto;line-height:normal;font-family:Menlo,'DejaVu Sans Mono',consolas,'Courier New',monospace\">/Users/Jorge/Library/Caches/pypoetry/virtualenvs/lorawan-chatbot-rag-llm-Kbm_Xz7B-py3.11/lib/python3.11/site-packag\n",
       "es/rich/live.py:231: UserWarning: install \"ipywidgets\" for Jupyter support\n",
       "  warnings.warn('install \"ipywidgets\" for Jupyter support')\n",
       "</pre>\n"
      ],
      "text/plain": [
       "/Users/Jorge/Library/Caches/pypoetry/virtualenvs/lorawan-chatbot-rag-llm-Kbm_Xz7B-py3.11/lib/python3.11/site-packag\n",
       "es/rich/live.py:231: UserWarning: install \"ipywidgets\" for Jupyter support\n",
       "  warnings.warn('install \"ipywidgets\" for Jupyter support')\n"
      ]
     },
     "metadata": {},
     "output_type": "display_data"
    },
    {
     "data": {
      "text/html": [
       "<pre style=\"white-space:pre;overflow-x:auto;line-height:normal;font-family:Menlo,'DejaVu Sans Mono',consolas,'Courier New',monospace\">/Users/Jorge/Library/Caches/pypoetry/virtualenvs/lorawan-chatbot-rag-llm-Kbm_Xz7B-py3.11/lib/python3.11/site-packag\n",
       "es/rich/live.py:231: UserWarning: install \"ipywidgets\" for Jupyter support\n",
       "  warnings.warn('install \"ipywidgets\" for Jupyter support')\n",
       "</pre>\n"
      ],
      "text/plain": [
       "/Users/Jorge/Library/Caches/pypoetry/virtualenvs/lorawan-chatbot-rag-llm-Kbm_Xz7B-py3.11/lib/python3.11/site-packag\n",
       "es/rich/live.py:231: UserWarning: install \"ipywidgets\" for Jupyter support\n",
       "  warnings.warn('install \"ipywidgets\" for Jupyter support')\n"
      ]
     },
     "metadata": {},
     "output_type": "display_data"
    },
    {
     "data": {
      "text/html": [
       "<pre style=\"white-space:pre;overflow-x:auto;line-height:normal;font-family:Menlo,'DejaVu Sans Mono',consolas,'Courier New',monospace\">/Users/Jorge/Library/Caches/pypoetry/virtualenvs/lorawan-chatbot-rag-llm-Kbm_Xz7B-py3.11/lib/python3.11/site-packag\n",
       "es/rich/live.py:231: UserWarning: install \"ipywidgets\" for Jupyter support\n",
       "  warnings.warn('install \"ipywidgets\" for Jupyter support')\n",
       "</pre>\n"
      ],
      "text/plain": [
       "/Users/Jorge/Library/Caches/pypoetry/virtualenvs/lorawan-chatbot-rag-llm-Kbm_Xz7B-py3.11/lib/python3.11/site-packag\n",
       "es/rich/live.py:231: UserWarning: install \"ipywidgets\" for Jupyter support\n",
       "  warnings.warn('install \"ipywidgets\" for Jupyter support')\n"
      ]
     },
     "metadata": {},
     "output_type": "display_data"
    },
    {
     "data": {
      "text/html": [
       "<pre style=\"white-space:pre;overflow-x:auto;line-height:normal;font-family:Menlo,'DejaVu Sans Mono',consolas,'Courier New',monospace\">/Users/Jorge/Library/Caches/pypoetry/virtualenvs/lorawan-chatbot-rag-llm-Kbm_Xz7B-py3.11/lib/python3.11/site-packag\n",
       "es/rich/live.py:231: UserWarning: install \"ipywidgets\" for Jupyter support\n",
       "  warnings.warn('install \"ipywidgets\" for Jupyter support')\n",
       "</pre>\n"
      ],
      "text/plain": [
       "/Users/Jorge/Library/Caches/pypoetry/virtualenvs/lorawan-chatbot-rag-llm-Kbm_Xz7B-py3.11/lib/python3.11/site-packag\n",
       "es/rich/live.py:231: UserWarning: install \"ipywidgets\" for Jupyter support\n",
       "  warnings.warn('install \"ipywidgets\" for Jupyter support')\n"
      ]
     },
     "metadata": {},
     "output_type": "display_data"
    },
    {
     "data": {
      "text/html": [
       "<pre style=\"white-space:pre;overflow-x:auto;line-height:normal;font-family:Menlo,'DejaVu Sans Mono',consolas,'Courier New',monospace\">/Users/Jorge/Library/Caches/pypoetry/virtualenvs/lorawan-chatbot-rag-llm-Kbm_Xz7B-py3.11/lib/python3.11/site-packag\n",
       "es/rich/live.py:231: UserWarning: install \"ipywidgets\" for Jupyter support\n",
       "  warnings.warn('install \"ipywidgets\" for Jupyter support')\n",
       "</pre>\n"
      ],
      "text/plain": [
       "/Users/Jorge/Library/Caches/pypoetry/virtualenvs/lorawan-chatbot-rag-llm-Kbm_Xz7B-py3.11/lib/python3.11/site-packag\n",
       "es/rich/live.py:231: UserWarning: install \"ipywidgets\" for Jupyter support\n",
       "  warnings.warn('install \"ipywidgets\" for Jupyter support')\n"
      ]
     },
     "metadata": {},
     "output_type": "display_data"
    },
    {
     "data": {
      "text/html": [
       "<pre style=\"white-space:pre;overflow-x:auto;line-height:normal;font-family:Menlo,'DejaVu Sans Mono',consolas,'Courier New',monospace\">/Users/Jorge/Library/Caches/pypoetry/virtualenvs/lorawan-chatbot-rag-llm-Kbm_Xz7B-py3.11/lib/python3.11/site-packag\n",
       "es/rich/live.py:231: UserWarning: install \"ipywidgets\" for Jupyter support\n",
       "  warnings.warn('install \"ipywidgets\" for Jupyter support')\n",
       "</pre>\n"
      ],
      "text/plain": [
       "/Users/Jorge/Library/Caches/pypoetry/virtualenvs/lorawan-chatbot-rag-llm-Kbm_Xz7B-py3.11/lib/python3.11/site-packag\n",
       "es/rich/live.py:231: UserWarning: install \"ipywidgets\" for Jupyter support\n",
       "  warnings.warn('install \"ipywidgets\" for Jupyter support')\n"
      ]
     },
     "metadata": {},
     "output_type": "display_data"
    },
    {
     "data": {
      "text/html": [
       "<pre style=\"white-space:pre;overflow-x:auto;line-height:normal;font-family:Menlo,'DejaVu Sans Mono',consolas,'Courier New',monospace\">/Users/Jorge/Library/Caches/pypoetry/virtualenvs/lorawan-chatbot-rag-llm-Kbm_Xz7B-py3.11/lib/python3.11/site-packag\n",
       "es/rich/live.py:231: UserWarning: install \"ipywidgets\" for Jupyter support\n",
       "  warnings.warn('install \"ipywidgets\" for Jupyter support')\n",
       "</pre>\n"
      ],
      "text/plain": [
       "/Users/Jorge/Library/Caches/pypoetry/virtualenvs/lorawan-chatbot-rag-llm-Kbm_Xz7B-py3.11/lib/python3.11/site-packag\n",
       "es/rich/live.py:231: UserWarning: install \"ipywidgets\" for Jupyter support\n",
       "  warnings.warn('install \"ipywidgets\" for Jupyter support')\n"
      ]
     },
     "metadata": {},
     "output_type": "display_data"
    },
    {
     "data": {
      "text/html": [
       "<pre style=\"white-space:pre;overflow-x:auto;line-height:normal;font-family:Menlo,'DejaVu Sans Mono',consolas,'Courier New',monospace\">/Users/Jorge/Library/Caches/pypoetry/virtualenvs/lorawan-chatbot-rag-llm-Kbm_Xz7B-py3.11/lib/python3.11/site-packag\n",
       "es/rich/live.py:231: UserWarning: install \"ipywidgets\" for Jupyter support\n",
       "  warnings.warn('install \"ipywidgets\" for Jupyter support')\n",
       "</pre>\n"
      ],
      "text/plain": [
       "/Users/Jorge/Library/Caches/pypoetry/virtualenvs/lorawan-chatbot-rag-llm-Kbm_Xz7B-py3.11/lib/python3.11/site-packag\n",
       "es/rich/live.py:231: UserWarning: install \"ipywidgets\" for Jupyter support\n",
       "  warnings.warn('install \"ipywidgets\" for Jupyter support')\n"
      ]
     },
     "metadata": {},
     "output_type": "display_data"
    },
    {
     "data": {
      "text/html": [
       "<pre style=\"white-space:pre;overflow-x:auto;line-height:normal;font-family:Menlo,'DejaVu Sans Mono',consolas,'Courier New',monospace\">/Users/Jorge/Library/Caches/pypoetry/virtualenvs/lorawan-chatbot-rag-llm-Kbm_Xz7B-py3.11/lib/python3.11/site-packag\n",
       "es/rich/live.py:231: UserWarning: install \"ipywidgets\" for Jupyter support\n",
       "  warnings.warn('install \"ipywidgets\" for Jupyter support')\n",
       "</pre>\n"
      ],
      "text/plain": [
       "/Users/Jorge/Library/Caches/pypoetry/virtualenvs/lorawan-chatbot-rag-llm-Kbm_Xz7B-py3.11/lib/python3.11/site-packag\n",
       "es/rich/live.py:231: UserWarning: install \"ipywidgets\" for Jupyter support\n",
       "  warnings.warn('install \"ipywidgets\" for Jupyter support')\n"
      ]
     },
     "metadata": {},
     "output_type": "display_data"
    },
    {
     "data": {
      "text/html": [
       "<pre style=\"white-space:pre;overflow-x:auto;line-height:normal;font-family:Menlo,'DejaVu Sans Mono',consolas,'Courier New',monospace\">/Users/Jorge/Library/Caches/pypoetry/virtualenvs/lorawan-chatbot-rag-llm-Kbm_Xz7B-py3.11/lib/python3.11/site-packag\n",
       "es/rich/live.py:231: UserWarning: install \"ipywidgets\" for Jupyter support\n",
       "  warnings.warn('install \"ipywidgets\" for Jupyter support')\n",
       "</pre>\n"
      ],
      "text/plain": [
       "/Users/Jorge/Library/Caches/pypoetry/virtualenvs/lorawan-chatbot-rag-llm-Kbm_Xz7B-py3.11/lib/python3.11/site-packag\n",
       "es/rich/live.py:231: UserWarning: install \"ipywidgets\" for Jupyter support\n",
       "  warnings.warn('install \"ipywidgets\" for Jupyter support')\n"
      ]
     },
     "metadata": {},
     "output_type": "display_data"
    },
    {
     "data": {
      "text/html": [
       "<pre style=\"white-space:pre;overflow-x:auto;line-height:normal;font-family:Menlo,'DejaVu Sans Mono',consolas,'Courier New',monospace\">/Users/Jorge/Library/Caches/pypoetry/virtualenvs/lorawan-chatbot-rag-llm-Kbm_Xz7B-py3.11/lib/python3.11/site-packag\n",
       "es/rich/live.py:231: UserWarning: install \"ipywidgets\" for Jupyter support\n",
       "  warnings.warn('install \"ipywidgets\" for Jupyter support')\n",
       "</pre>\n"
      ],
      "text/plain": [
       "/Users/Jorge/Library/Caches/pypoetry/virtualenvs/lorawan-chatbot-rag-llm-Kbm_Xz7B-py3.11/lib/python3.11/site-packag\n",
       "es/rich/live.py:231: UserWarning: install \"ipywidgets\" for Jupyter support\n",
       "  warnings.warn('install \"ipywidgets\" for Jupyter support')\n"
      ]
     },
     "metadata": {},
     "output_type": "display_data"
    },
    {
     "data": {
      "text/html": [
       "<pre style=\"white-space:pre;overflow-x:auto;line-height:normal;font-family:Menlo,'DejaVu Sans Mono',consolas,'Courier New',monospace\"></pre>\n"
      ],
      "text/plain": []
     },
     "metadata": {},
     "output_type": "display_data"
    },
    {
     "data": {
      "text/html": [
       "<pre style=\"white-space:pre;overflow-x:auto;line-height:normal;font-family:Menlo,'DejaVu Sans Mono',consolas,'Courier New',monospace\">\n",
       "</pre>\n"
      ],
      "text/plain": [
       "\n"
      ]
     },
     "metadata": {},
     "output_type": "display_data"
    },
    {
     "data": {
      "text/html": [
       "<pre style=\"white-space:pre;overflow-x:auto;line-height:normal;font-family:Menlo,'DejaVu Sans Mono',consolas,'Courier New',monospace\">/Users/Jorge/Library/Caches/pypoetry/virtualenvs/lorawan-chatbot-rag-llm-Kbm_Xz7B-py3.11/lib/python3.11/site-packag\n",
       "es/rich/live.py:231: UserWarning: install \"ipywidgets\" for Jupyter support\n",
       "  warnings.warn('install \"ipywidgets\" for Jupyter support')\n",
       "</pre>\n"
      ],
      "text/plain": [
       "/Users/Jorge/Library/Caches/pypoetry/virtualenvs/lorawan-chatbot-rag-llm-Kbm_Xz7B-py3.11/lib/python3.11/site-packag\n",
       "es/rich/live.py:231: UserWarning: install \"ipywidgets\" for Jupyter support\n",
       "  warnings.warn('install \"ipywidgets\" for Jupyter support')\n"
      ]
     },
     "metadata": {},
     "output_type": "display_data"
    },
    {
     "data": {
      "text/html": [
       "<pre style=\"white-space:pre;overflow-x:auto;line-height:normal;font-family:Menlo,'DejaVu Sans Mono',consolas,'Courier New',monospace\">/Users/Jorge/Library/Caches/pypoetry/virtualenvs/lorawan-chatbot-rag-llm-Kbm_Xz7B-py3.11/lib/python3.11/site-packag\n",
       "es/rich/live.py:231: UserWarning: install \"ipywidgets\" for Jupyter support\n",
       "  warnings.warn('install \"ipywidgets\" for Jupyter support')\n",
       "</pre>\n"
      ],
      "text/plain": [
       "/Users/Jorge/Library/Caches/pypoetry/virtualenvs/lorawan-chatbot-rag-llm-Kbm_Xz7B-py3.11/lib/python3.11/site-packag\n",
       "es/rich/live.py:231: UserWarning: install \"ipywidgets\" for Jupyter support\n",
       "  warnings.warn('install \"ipywidgets\" for Jupyter support')\n"
      ]
     },
     "metadata": {},
     "output_type": "display_data"
    },
    {
     "data": {
      "text/html": [
       "<pre style=\"white-space:pre;overflow-x:auto;line-height:normal;font-family:Menlo,'DejaVu Sans Mono',consolas,'Courier New',monospace\">/Users/Jorge/Library/Caches/pypoetry/virtualenvs/lorawan-chatbot-rag-llm-Kbm_Xz7B-py3.11/lib/python3.11/site-packag\n",
       "es/rich/live.py:231: UserWarning: install \"ipywidgets\" for Jupyter support\n",
       "  warnings.warn('install \"ipywidgets\" for Jupyter support')\n",
       "</pre>\n"
      ],
      "text/plain": [
       "/Users/Jorge/Library/Caches/pypoetry/virtualenvs/lorawan-chatbot-rag-llm-Kbm_Xz7B-py3.11/lib/python3.11/site-packag\n",
       "es/rich/live.py:231: UserWarning: install \"ipywidgets\" for Jupyter support\n",
       "  warnings.warn('install \"ipywidgets\" for Jupyter support')\n"
      ]
     },
     "metadata": {},
     "output_type": "display_data"
    },
    {
     "data": {
      "text/html": [
       "<pre style=\"white-space:pre;overflow-x:auto;line-height:normal;font-family:Menlo,'DejaVu Sans Mono',consolas,'Courier New',monospace\">/Users/Jorge/Library/Caches/pypoetry/virtualenvs/lorawan-chatbot-rag-llm-Kbm_Xz7B-py3.11/lib/python3.11/site-packag\n",
       "es/rich/live.py:231: UserWarning: install \"ipywidgets\" for Jupyter support\n",
       "  warnings.warn('install \"ipywidgets\" for Jupyter support')\n",
       "</pre>\n"
      ],
      "text/plain": [
       "/Users/Jorge/Library/Caches/pypoetry/virtualenvs/lorawan-chatbot-rag-llm-Kbm_Xz7B-py3.11/lib/python3.11/site-packag\n",
       "es/rich/live.py:231: UserWarning: install \"ipywidgets\" for Jupyter support\n",
       "  warnings.warn('install \"ipywidgets\" for Jupyter support')\n"
      ]
     },
     "metadata": {},
     "output_type": "display_data"
    },
    {
     "data": {
      "text/html": [
       "<pre style=\"white-space:pre;overflow-x:auto;line-height:normal;font-family:Menlo,'DejaVu Sans Mono',consolas,'Courier New',monospace\">/Users/Jorge/Library/Caches/pypoetry/virtualenvs/lorawan-chatbot-rag-llm-Kbm_Xz7B-py3.11/lib/python3.11/site-packag\n",
       "es/rich/live.py:231: UserWarning: install \"ipywidgets\" for Jupyter support\n",
       "  warnings.warn('install \"ipywidgets\" for Jupyter support')\n",
       "</pre>\n"
      ],
      "text/plain": [
       "/Users/Jorge/Library/Caches/pypoetry/virtualenvs/lorawan-chatbot-rag-llm-Kbm_Xz7B-py3.11/lib/python3.11/site-packag\n",
       "es/rich/live.py:231: UserWarning: install \"ipywidgets\" for Jupyter support\n",
       "  warnings.warn('install \"ipywidgets\" for Jupyter support')\n"
      ]
     },
     "metadata": {},
     "output_type": "display_data"
    },
    {
     "data": {
      "text/html": [
       "<pre style=\"white-space:pre;overflow-x:auto;line-height:normal;font-family:Menlo,'DejaVu Sans Mono',consolas,'Courier New',monospace\">/Users/Jorge/Library/Caches/pypoetry/virtualenvs/lorawan-chatbot-rag-llm-Kbm_Xz7B-py3.11/lib/python3.11/site-packag\n",
       "es/rich/live.py:231: UserWarning: install \"ipywidgets\" for Jupyter support\n",
       "  warnings.warn('install \"ipywidgets\" for Jupyter support')\n",
       "</pre>\n"
      ],
      "text/plain": [
       "/Users/Jorge/Library/Caches/pypoetry/virtualenvs/lorawan-chatbot-rag-llm-Kbm_Xz7B-py3.11/lib/python3.11/site-packag\n",
       "es/rich/live.py:231: UserWarning: install \"ipywidgets\" for Jupyter support\n",
       "  warnings.warn('install \"ipywidgets\" for Jupyter support')\n"
      ]
     },
     "metadata": {},
     "output_type": "display_data"
    },
    {
     "data": {
      "text/html": [
       "<pre style=\"white-space:pre;overflow-x:auto;line-height:normal;font-family:Menlo,'DejaVu Sans Mono',consolas,'Courier New',monospace\">/Users/Jorge/Library/Caches/pypoetry/virtualenvs/lorawan-chatbot-rag-llm-Kbm_Xz7B-py3.11/lib/python3.11/site-packag\n",
       "es/rich/live.py:231: UserWarning: install \"ipywidgets\" for Jupyter support\n",
       "  warnings.warn('install \"ipywidgets\" for Jupyter support')\n",
       "</pre>\n"
      ],
      "text/plain": [
       "/Users/Jorge/Library/Caches/pypoetry/virtualenvs/lorawan-chatbot-rag-llm-Kbm_Xz7B-py3.11/lib/python3.11/site-packag\n",
       "es/rich/live.py:231: UserWarning: install \"ipywidgets\" for Jupyter support\n",
       "  warnings.warn('install \"ipywidgets\" for Jupyter support')\n"
      ]
     },
     "metadata": {},
     "output_type": "display_data"
    },
    {
     "data": {
      "text/html": [
       "<pre style=\"white-space:pre;overflow-x:auto;line-height:normal;font-family:Menlo,'DejaVu Sans Mono',consolas,'Courier New',monospace\">/Users/Jorge/Library/Caches/pypoetry/virtualenvs/lorawan-chatbot-rag-llm-Kbm_Xz7B-py3.11/lib/python3.11/site-packag\n",
       "es/rich/live.py:231: UserWarning: install \"ipywidgets\" for Jupyter support\n",
       "  warnings.warn('install \"ipywidgets\" for Jupyter support')\n",
       "</pre>\n"
      ],
      "text/plain": [
       "/Users/Jorge/Library/Caches/pypoetry/virtualenvs/lorawan-chatbot-rag-llm-Kbm_Xz7B-py3.11/lib/python3.11/site-packag\n",
       "es/rich/live.py:231: UserWarning: install \"ipywidgets\" for Jupyter support\n",
       "  warnings.warn('install \"ipywidgets\" for Jupyter support')\n"
      ]
     },
     "metadata": {},
     "output_type": "display_data"
    },
    {
     "data": {
      "text/html": [
       "<pre style=\"white-space:pre;overflow-x:auto;line-height:normal;font-family:Menlo,'DejaVu Sans Mono',consolas,'Courier New',monospace\">/Users/Jorge/Library/Caches/pypoetry/virtualenvs/lorawan-chatbot-rag-llm-Kbm_Xz7B-py3.11/lib/python3.11/site-packag\n",
       "es/rich/live.py:231: UserWarning: install \"ipywidgets\" for Jupyter support\n",
       "  warnings.warn('install \"ipywidgets\" for Jupyter support')\n",
       "</pre>\n"
      ],
      "text/plain": [
       "/Users/Jorge/Library/Caches/pypoetry/virtualenvs/lorawan-chatbot-rag-llm-Kbm_Xz7B-py3.11/lib/python3.11/site-packag\n",
       "es/rich/live.py:231: UserWarning: install \"ipywidgets\" for Jupyter support\n",
       "  warnings.warn('install \"ipywidgets\" for Jupyter support')\n"
      ]
     },
     "metadata": {},
     "output_type": "display_data"
    },
    {
     "data": {
      "text/html": [
       "<pre style=\"white-space:pre;overflow-x:auto;line-height:normal;font-family:Menlo,'DejaVu Sans Mono',consolas,'Courier New',monospace\">/Users/Jorge/Library/Caches/pypoetry/virtualenvs/lorawan-chatbot-rag-llm-Kbm_Xz7B-py3.11/lib/python3.11/site-packag\n",
       "es/rich/live.py:231: UserWarning: install \"ipywidgets\" for Jupyter support\n",
       "  warnings.warn('install \"ipywidgets\" for Jupyter support')\n",
       "</pre>\n"
      ],
      "text/plain": [
       "/Users/Jorge/Library/Caches/pypoetry/virtualenvs/lorawan-chatbot-rag-llm-Kbm_Xz7B-py3.11/lib/python3.11/site-packag\n",
       "es/rich/live.py:231: UserWarning: install \"ipywidgets\" for Jupyter support\n",
       "  warnings.warn('install \"ipywidgets\" for Jupyter support')\n"
      ]
     },
     "metadata": {},
     "output_type": "display_data"
    },
    {
     "data": {
      "text/html": [
       "<pre style=\"white-space:pre;overflow-x:auto;line-height:normal;font-family:Menlo,'DejaVu Sans Mono',consolas,'Courier New',monospace\"></pre>\n"
      ],
      "text/plain": []
     },
     "metadata": {},
     "output_type": "display_data"
    },
    {
     "data": {
      "text/html": [
       "<pre style=\"white-space:pre;overflow-x:auto;line-height:normal;font-family:Menlo,'DejaVu Sans Mono',consolas,'Courier New',monospace\">\n",
       "</pre>\n"
      ],
      "text/plain": [
       "\n"
      ]
     },
     "metadata": {},
     "output_type": "display_data"
    },
    {
     "data": {
      "text/html": [
       "<pre style=\"white-space:pre;overflow-x:auto;line-height:normal;font-family:Menlo,'DejaVu Sans Mono',consolas,'Courier New',monospace\">/Users/Jorge/Library/Caches/pypoetry/virtualenvs/lorawan-chatbot-rag-llm-Kbm_Xz7B-py3.11/lib/python3.11/site-packag\n",
       "es/rich/live.py:231: UserWarning: install \"ipywidgets\" for Jupyter support\n",
       "  warnings.warn('install \"ipywidgets\" for Jupyter support')\n",
       "</pre>\n"
      ],
      "text/plain": [
       "/Users/Jorge/Library/Caches/pypoetry/virtualenvs/lorawan-chatbot-rag-llm-Kbm_Xz7B-py3.11/lib/python3.11/site-packag\n",
       "es/rich/live.py:231: UserWarning: install \"ipywidgets\" for Jupyter support\n",
       "  warnings.warn('install \"ipywidgets\" for Jupyter support')\n"
      ]
     },
     "metadata": {},
     "output_type": "display_data"
    },
    {
     "data": {
      "text/html": [
       "<pre style=\"white-space:pre;overflow-x:auto;line-height:normal;font-family:Menlo,'DejaVu Sans Mono',consolas,'Courier New',monospace\">/Users/Jorge/Library/Caches/pypoetry/virtualenvs/lorawan-chatbot-rag-llm-Kbm_Xz7B-py3.11/lib/python3.11/site-packag\n",
       "es/rich/live.py:231: UserWarning: install \"ipywidgets\" for Jupyter support\n",
       "  warnings.warn('install \"ipywidgets\" for Jupyter support')\n",
       "</pre>\n"
      ],
      "text/plain": [
       "/Users/Jorge/Library/Caches/pypoetry/virtualenvs/lorawan-chatbot-rag-llm-Kbm_Xz7B-py3.11/lib/python3.11/site-packag\n",
       "es/rich/live.py:231: UserWarning: install \"ipywidgets\" for Jupyter support\n",
       "  warnings.warn('install \"ipywidgets\" for Jupyter support')\n"
      ]
     },
     "metadata": {},
     "output_type": "display_data"
    },
    {
     "data": {
      "text/html": [
       "<pre style=\"white-space:pre;overflow-x:auto;line-height:normal;font-family:Menlo,'DejaVu Sans Mono',consolas,'Courier New',monospace\">/Users/Jorge/Library/Caches/pypoetry/virtualenvs/lorawan-chatbot-rag-llm-Kbm_Xz7B-py3.11/lib/python3.11/site-packag\n",
       "es/rich/live.py:231: UserWarning: install \"ipywidgets\" for Jupyter support\n",
       "  warnings.warn('install \"ipywidgets\" for Jupyter support')\n",
       "</pre>\n"
      ],
      "text/plain": [
       "/Users/Jorge/Library/Caches/pypoetry/virtualenvs/lorawan-chatbot-rag-llm-Kbm_Xz7B-py3.11/lib/python3.11/site-packag\n",
       "es/rich/live.py:231: UserWarning: install \"ipywidgets\" for Jupyter support\n",
       "  warnings.warn('install \"ipywidgets\" for Jupyter support')\n"
      ]
     },
     "metadata": {},
     "output_type": "display_data"
    },
    {
     "data": {
      "text/html": [
       "<pre style=\"white-space:pre;overflow-x:auto;line-height:normal;font-family:Menlo,'DejaVu Sans Mono',consolas,'Courier New',monospace\">/Users/Jorge/Library/Caches/pypoetry/virtualenvs/lorawan-chatbot-rag-llm-Kbm_Xz7B-py3.11/lib/python3.11/site-packag\n",
       "es/rich/live.py:231: UserWarning: install \"ipywidgets\" for Jupyter support\n",
       "  warnings.warn('install \"ipywidgets\" for Jupyter support')\n",
       "</pre>\n"
      ],
      "text/plain": [
       "/Users/Jorge/Library/Caches/pypoetry/virtualenvs/lorawan-chatbot-rag-llm-Kbm_Xz7B-py3.11/lib/python3.11/site-packag\n",
       "es/rich/live.py:231: UserWarning: install \"ipywidgets\" for Jupyter support\n",
       "  warnings.warn('install \"ipywidgets\" for Jupyter support')\n"
      ]
     },
     "metadata": {},
     "output_type": "display_data"
    },
    {
     "data": {
      "text/html": [
       "<pre style=\"white-space:pre;overflow-x:auto;line-height:normal;font-family:Menlo,'DejaVu Sans Mono',consolas,'Courier New',monospace\">/Users/Jorge/Library/Caches/pypoetry/virtualenvs/lorawan-chatbot-rag-llm-Kbm_Xz7B-py3.11/lib/python3.11/site-packag\n",
       "es/rich/live.py:231: UserWarning: install \"ipywidgets\" for Jupyter support\n",
       "  warnings.warn('install \"ipywidgets\" for Jupyter support')\n",
       "</pre>\n"
      ],
      "text/plain": [
       "/Users/Jorge/Library/Caches/pypoetry/virtualenvs/lorawan-chatbot-rag-llm-Kbm_Xz7B-py3.11/lib/python3.11/site-packag\n",
       "es/rich/live.py:231: UserWarning: install \"ipywidgets\" for Jupyter support\n",
       "  warnings.warn('install \"ipywidgets\" for Jupyter support')\n"
      ]
     },
     "metadata": {},
     "output_type": "display_data"
    },
    {
     "data": {
      "text/html": [
       "<pre style=\"white-space:pre;overflow-x:auto;line-height:normal;font-family:Menlo,'DejaVu Sans Mono',consolas,'Courier New',monospace\">/Users/Jorge/Library/Caches/pypoetry/virtualenvs/lorawan-chatbot-rag-llm-Kbm_Xz7B-py3.11/lib/python3.11/site-packag\n",
       "es/rich/live.py:231: UserWarning: install \"ipywidgets\" for Jupyter support\n",
       "  warnings.warn('install \"ipywidgets\" for Jupyter support')\n",
       "</pre>\n"
      ],
      "text/plain": [
       "/Users/Jorge/Library/Caches/pypoetry/virtualenvs/lorawan-chatbot-rag-llm-Kbm_Xz7B-py3.11/lib/python3.11/site-packag\n",
       "es/rich/live.py:231: UserWarning: install \"ipywidgets\" for Jupyter support\n",
       "  warnings.warn('install \"ipywidgets\" for Jupyter support')\n"
      ]
     },
     "metadata": {},
     "output_type": "display_data"
    },
    {
     "data": {
      "text/html": [
       "<pre style=\"white-space:pre;overflow-x:auto;line-height:normal;font-family:Menlo,'DejaVu Sans Mono',consolas,'Courier New',monospace\">/Users/Jorge/Library/Caches/pypoetry/virtualenvs/lorawan-chatbot-rag-llm-Kbm_Xz7B-py3.11/lib/python3.11/site-packag\n",
       "es/rich/live.py:231: UserWarning: install \"ipywidgets\" for Jupyter support\n",
       "  warnings.warn('install \"ipywidgets\" for Jupyter support')\n",
       "</pre>\n"
      ],
      "text/plain": [
       "/Users/Jorge/Library/Caches/pypoetry/virtualenvs/lorawan-chatbot-rag-llm-Kbm_Xz7B-py3.11/lib/python3.11/site-packag\n",
       "es/rich/live.py:231: UserWarning: install \"ipywidgets\" for Jupyter support\n",
       "  warnings.warn('install \"ipywidgets\" for Jupyter support')\n"
      ]
     },
     "metadata": {},
     "output_type": "display_data"
    },
    {
     "data": {
      "text/html": [
       "<pre style=\"white-space:pre;overflow-x:auto;line-height:normal;font-family:Menlo,'DejaVu Sans Mono',consolas,'Courier New',monospace\">/Users/Jorge/Library/Caches/pypoetry/virtualenvs/lorawan-chatbot-rag-llm-Kbm_Xz7B-py3.11/lib/python3.11/site-packag\n",
       "es/rich/live.py:231: UserWarning: install \"ipywidgets\" for Jupyter support\n",
       "  warnings.warn('install \"ipywidgets\" for Jupyter support')\n",
       "</pre>\n"
      ],
      "text/plain": [
       "/Users/Jorge/Library/Caches/pypoetry/virtualenvs/lorawan-chatbot-rag-llm-Kbm_Xz7B-py3.11/lib/python3.11/site-packag\n",
       "es/rich/live.py:231: UserWarning: install \"ipywidgets\" for Jupyter support\n",
       "  warnings.warn('install \"ipywidgets\" for Jupyter support')\n"
      ]
     },
     "metadata": {},
     "output_type": "display_data"
    },
    {
     "data": {
      "text/html": [
       "<pre style=\"white-space:pre;overflow-x:auto;line-height:normal;font-family:Menlo,'DejaVu Sans Mono',consolas,'Courier New',monospace\">/Users/Jorge/Library/Caches/pypoetry/virtualenvs/lorawan-chatbot-rag-llm-Kbm_Xz7B-py3.11/lib/python3.11/site-packag\n",
       "es/rich/live.py:231: UserWarning: install \"ipywidgets\" for Jupyter support\n",
       "  warnings.warn('install \"ipywidgets\" for Jupyter support')\n",
       "</pre>\n"
      ],
      "text/plain": [
       "/Users/Jorge/Library/Caches/pypoetry/virtualenvs/lorawan-chatbot-rag-llm-Kbm_Xz7B-py3.11/lib/python3.11/site-packag\n",
       "es/rich/live.py:231: UserWarning: install \"ipywidgets\" for Jupyter support\n",
       "  warnings.warn('install \"ipywidgets\" for Jupyter support')\n"
      ]
     },
     "metadata": {},
     "output_type": "display_data"
    },
    {
     "data": {
      "text/html": [
       "<pre style=\"white-space:pre;overflow-x:auto;line-height:normal;font-family:Menlo,'DejaVu Sans Mono',consolas,'Courier New',monospace\"></pre>\n"
      ],
      "text/plain": []
     },
     "metadata": {},
     "output_type": "display_data"
    },
    {
     "data": {
      "text/html": [
       "<pre style=\"white-space:pre;overflow-x:auto;line-height:normal;font-family:Menlo,'DejaVu Sans Mono',consolas,'Courier New',monospace\">\n",
       "</pre>\n"
      ],
      "text/plain": [
       "\n"
      ]
     },
     "metadata": {},
     "output_type": "display_data"
    },
    {
     "data": {
      "text/html": [
       "<pre style=\"white-space:pre;overflow-x:auto;line-height:normal;font-family:Menlo,'DejaVu Sans Mono',consolas,'Courier New',monospace\">/Users/Jorge/Library/Caches/pypoetry/virtualenvs/lorawan-chatbot-rag-llm-Kbm_Xz7B-py3.11/lib/python3.11/site-packag\n",
       "es/rich/live.py:231: UserWarning: install \"ipywidgets\" for Jupyter support\n",
       "  warnings.warn('install \"ipywidgets\" for Jupyter support')\n",
       "</pre>\n"
      ],
      "text/plain": [
       "/Users/Jorge/Library/Caches/pypoetry/virtualenvs/lorawan-chatbot-rag-llm-Kbm_Xz7B-py3.11/lib/python3.11/site-packag\n",
       "es/rich/live.py:231: UserWarning: install \"ipywidgets\" for Jupyter support\n",
       "  warnings.warn('install \"ipywidgets\" for Jupyter support')\n"
      ]
     },
     "metadata": {},
     "output_type": "display_data"
    },
    {
     "data": {
      "text/html": [
       "<pre style=\"white-space:pre;overflow-x:auto;line-height:normal;font-family:Menlo,'DejaVu Sans Mono',consolas,'Courier New',monospace\">/Users/Jorge/Library/Caches/pypoetry/virtualenvs/lorawan-chatbot-rag-llm-Kbm_Xz7B-py3.11/lib/python3.11/site-packag\n",
       "es/rich/live.py:231: UserWarning: install \"ipywidgets\" for Jupyter support\n",
       "  warnings.warn('install \"ipywidgets\" for Jupyter support')\n",
       "</pre>\n"
      ],
      "text/plain": [
       "/Users/Jorge/Library/Caches/pypoetry/virtualenvs/lorawan-chatbot-rag-llm-Kbm_Xz7B-py3.11/lib/python3.11/site-packag\n",
       "es/rich/live.py:231: UserWarning: install \"ipywidgets\" for Jupyter support\n",
       "  warnings.warn('install \"ipywidgets\" for Jupyter support')\n"
      ]
     },
     "metadata": {},
     "output_type": "display_data"
    },
    {
     "data": {
      "text/html": [
       "<pre style=\"white-space:pre;overflow-x:auto;line-height:normal;font-family:Menlo,'DejaVu Sans Mono',consolas,'Courier New',monospace\">/Users/Jorge/Library/Caches/pypoetry/virtualenvs/lorawan-chatbot-rag-llm-Kbm_Xz7B-py3.11/lib/python3.11/site-packag\n",
       "es/rich/live.py:231: UserWarning: install \"ipywidgets\" for Jupyter support\n",
       "  warnings.warn('install \"ipywidgets\" for Jupyter support')\n",
       "</pre>\n"
      ],
      "text/plain": [
       "/Users/Jorge/Library/Caches/pypoetry/virtualenvs/lorawan-chatbot-rag-llm-Kbm_Xz7B-py3.11/lib/python3.11/site-packag\n",
       "es/rich/live.py:231: UserWarning: install \"ipywidgets\" for Jupyter support\n",
       "  warnings.warn('install \"ipywidgets\" for Jupyter support')\n"
      ]
     },
     "metadata": {},
     "output_type": "display_data"
    },
    {
     "data": {
      "text/html": [
       "<pre style=\"white-space:pre;overflow-x:auto;line-height:normal;font-family:Menlo,'DejaVu Sans Mono',consolas,'Courier New',monospace\">/Users/Jorge/Library/Caches/pypoetry/virtualenvs/lorawan-chatbot-rag-llm-Kbm_Xz7B-py3.11/lib/python3.11/site-packag\n",
       "es/rich/live.py:231: UserWarning: install \"ipywidgets\" for Jupyter support\n",
       "  warnings.warn('install \"ipywidgets\" for Jupyter support')\n",
       "</pre>\n"
      ],
      "text/plain": [
       "/Users/Jorge/Library/Caches/pypoetry/virtualenvs/lorawan-chatbot-rag-llm-Kbm_Xz7B-py3.11/lib/python3.11/site-packag\n",
       "es/rich/live.py:231: UserWarning: install \"ipywidgets\" for Jupyter support\n",
       "  warnings.warn('install \"ipywidgets\" for Jupyter support')\n"
      ]
     },
     "metadata": {},
     "output_type": "display_data"
    },
    {
     "data": {
      "text/html": [
       "<pre style=\"white-space:pre;overflow-x:auto;line-height:normal;font-family:Menlo,'DejaVu Sans Mono',consolas,'Courier New',monospace\">/Users/Jorge/Library/Caches/pypoetry/virtualenvs/lorawan-chatbot-rag-llm-Kbm_Xz7B-py3.11/lib/python3.11/site-packag\n",
       "es/rich/live.py:231: UserWarning: install \"ipywidgets\" for Jupyter support\n",
       "  warnings.warn('install \"ipywidgets\" for Jupyter support')\n",
       "</pre>\n"
      ],
      "text/plain": [
       "/Users/Jorge/Library/Caches/pypoetry/virtualenvs/lorawan-chatbot-rag-llm-Kbm_Xz7B-py3.11/lib/python3.11/site-packag\n",
       "es/rich/live.py:231: UserWarning: install \"ipywidgets\" for Jupyter support\n",
       "  warnings.warn('install \"ipywidgets\" for Jupyter support')\n"
      ]
     },
     "metadata": {},
     "output_type": "display_data"
    },
    {
     "data": {
      "text/html": [
       "<pre style=\"white-space:pre;overflow-x:auto;line-height:normal;font-family:Menlo,'DejaVu Sans Mono',consolas,'Courier New',monospace\">/Users/Jorge/Library/Caches/pypoetry/virtualenvs/lorawan-chatbot-rag-llm-Kbm_Xz7B-py3.11/lib/python3.11/site-packag\n",
       "es/rich/live.py:231: UserWarning: install \"ipywidgets\" for Jupyter support\n",
       "  warnings.warn('install \"ipywidgets\" for Jupyter support')\n",
       "</pre>\n"
      ],
      "text/plain": [
       "/Users/Jorge/Library/Caches/pypoetry/virtualenvs/lorawan-chatbot-rag-llm-Kbm_Xz7B-py3.11/lib/python3.11/site-packag\n",
       "es/rich/live.py:231: UserWarning: install \"ipywidgets\" for Jupyter support\n",
       "  warnings.warn('install \"ipywidgets\" for Jupyter support')\n"
      ]
     },
     "metadata": {},
     "output_type": "display_data"
    },
    {
     "data": {
      "text/html": [
       "<pre style=\"white-space:pre;overflow-x:auto;line-height:normal;font-family:Menlo,'DejaVu Sans Mono',consolas,'Courier New',monospace\">/Users/Jorge/Library/Caches/pypoetry/virtualenvs/lorawan-chatbot-rag-llm-Kbm_Xz7B-py3.11/lib/python3.11/site-packag\n",
       "es/rich/live.py:231: UserWarning: install \"ipywidgets\" for Jupyter support\n",
       "  warnings.warn('install \"ipywidgets\" for Jupyter support')\n",
       "</pre>\n"
      ],
      "text/plain": [
       "/Users/Jorge/Library/Caches/pypoetry/virtualenvs/lorawan-chatbot-rag-llm-Kbm_Xz7B-py3.11/lib/python3.11/site-packag\n",
       "es/rich/live.py:231: UserWarning: install \"ipywidgets\" for Jupyter support\n",
       "  warnings.warn('install \"ipywidgets\" for Jupyter support')\n"
      ]
     },
     "metadata": {},
     "output_type": "display_data"
    },
    {
     "data": {
      "text/html": [
       "<pre style=\"white-space:pre;overflow-x:auto;line-height:normal;font-family:Menlo,'DejaVu Sans Mono',consolas,'Courier New',monospace\">/Users/Jorge/Library/Caches/pypoetry/virtualenvs/lorawan-chatbot-rag-llm-Kbm_Xz7B-py3.11/lib/python3.11/site-packag\n",
       "es/rich/live.py:231: UserWarning: install \"ipywidgets\" for Jupyter support\n",
       "  warnings.warn('install \"ipywidgets\" for Jupyter support')\n",
       "</pre>\n"
      ],
      "text/plain": [
       "/Users/Jorge/Library/Caches/pypoetry/virtualenvs/lorawan-chatbot-rag-llm-Kbm_Xz7B-py3.11/lib/python3.11/site-packag\n",
       "es/rich/live.py:231: UserWarning: install \"ipywidgets\" for Jupyter support\n",
       "  warnings.warn('install \"ipywidgets\" for Jupyter support')\n"
      ]
     },
     "metadata": {},
     "output_type": "display_data"
    },
    {
     "data": {
      "text/html": [
       "<pre style=\"white-space:pre;overflow-x:auto;line-height:normal;font-family:Menlo,'DejaVu Sans Mono',consolas,'Courier New',monospace\">/Users/Jorge/Library/Caches/pypoetry/virtualenvs/lorawan-chatbot-rag-llm-Kbm_Xz7B-py3.11/lib/python3.11/site-packag\n",
       "es/rich/live.py:231: UserWarning: install \"ipywidgets\" for Jupyter support\n",
       "  warnings.warn('install \"ipywidgets\" for Jupyter support')\n",
       "</pre>\n"
      ],
      "text/plain": [
       "/Users/Jorge/Library/Caches/pypoetry/virtualenvs/lorawan-chatbot-rag-llm-Kbm_Xz7B-py3.11/lib/python3.11/site-packag\n",
       "es/rich/live.py:231: UserWarning: install \"ipywidgets\" for Jupyter support\n",
       "  warnings.warn('install \"ipywidgets\" for Jupyter support')\n"
      ]
     },
     "metadata": {},
     "output_type": "display_data"
    },
    {
     "data": {
      "text/html": [
       "<pre style=\"white-space:pre;overflow-x:auto;line-height:normal;font-family:Menlo,'DejaVu Sans Mono',consolas,'Courier New',monospace\">/Users/Jorge/Library/Caches/pypoetry/virtualenvs/lorawan-chatbot-rag-llm-Kbm_Xz7B-py3.11/lib/python3.11/site-packag\n",
       "es/rich/live.py:231: UserWarning: install \"ipywidgets\" for Jupyter support\n",
       "  warnings.warn('install \"ipywidgets\" for Jupyter support')\n",
       "</pre>\n"
      ],
      "text/plain": [
       "/Users/Jorge/Library/Caches/pypoetry/virtualenvs/lorawan-chatbot-rag-llm-Kbm_Xz7B-py3.11/lib/python3.11/site-packag\n",
       "es/rich/live.py:231: UserWarning: install \"ipywidgets\" for Jupyter support\n",
       "  warnings.warn('install \"ipywidgets\" for Jupyter support')\n"
      ]
     },
     "metadata": {},
     "output_type": "display_data"
    },
    {
     "data": {
      "text/html": [
       "<pre style=\"white-space:pre;overflow-x:auto;line-height:normal;font-family:Menlo,'DejaVu Sans Mono',consolas,'Courier New',monospace\">/Users/Jorge/Library/Caches/pypoetry/virtualenvs/lorawan-chatbot-rag-llm-Kbm_Xz7B-py3.11/lib/python3.11/site-packag\n",
       "es/rich/live.py:231: UserWarning: install \"ipywidgets\" for Jupyter support\n",
       "  warnings.warn('install \"ipywidgets\" for Jupyter support')\n",
       "</pre>\n"
      ],
      "text/plain": [
       "/Users/Jorge/Library/Caches/pypoetry/virtualenvs/lorawan-chatbot-rag-llm-Kbm_Xz7B-py3.11/lib/python3.11/site-packag\n",
       "es/rich/live.py:231: UserWarning: install \"ipywidgets\" for Jupyter support\n",
       "  warnings.warn('install \"ipywidgets\" for Jupyter support')\n"
      ]
     },
     "metadata": {},
     "output_type": "display_data"
    },
    {
     "data": {
      "text/html": [
       "<pre style=\"white-space:pre;overflow-x:auto;line-height:normal;font-family:Menlo,'DejaVu Sans Mono',consolas,'Courier New',monospace\"></pre>\n"
      ],
      "text/plain": []
     },
     "metadata": {},
     "output_type": "display_data"
    },
    {
     "data": {
      "text/html": [
       "<pre style=\"white-space:pre;overflow-x:auto;line-height:normal;font-family:Menlo,'DejaVu Sans Mono',consolas,'Courier New',monospace\">\n",
       "</pre>\n"
      ],
      "text/plain": [
       "\n"
      ]
     },
     "metadata": {},
     "output_type": "display_data"
    },
    {
     "data": {
      "text/html": [
       "<pre style=\"white-space:pre;overflow-x:auto;line-height:normal;font-family:Menlo,'DejaVu Sans Mono',consolas,'Courier New',monospace\">/Users/Jorge/Library/Caches/pypoetry/virtualenvs/lorawan-chatbot-rag-llm-Kbm_Xz7B-py3.11/lib/python3.11/site-packag\n",
       "es/rich/live.py:231: UserWarning: install \"ipywidgets\" for Jupyter support\n",
       "  warnings.warn('install \"ipywidgets\" for Jupyter support')\n",
       "</pre>\n"
      ],
      "text/plain": [
       "/Users/Jorge/Library/Caches/pypoetry/virtualenvs/lorawan-chatbot-rag-llm-Kbm_Xz7B-py3.11/lib/python3.11/site-packag\n",
       "es/rich/live.py:231: UserWarning: install \"ipywidgets\" for Jupyter support\n",
       "  warnings.warn('install \"ipywidgets\" for Jupyter support')\n"
      ]
     },
     "metadata": {},
     "output_type": "display_data"
    },
    {
     "data": {
      "text/html": [
       "<pre style=\"white-space:pre;overflow-x:auto;line-height:normal;font-family:Menlo,'DejaVu Sans Mono',consolas,'Courier New',monospace\">/Users/Jorge/Library/Caches/pypoetry/virtualenvs/lorawan-chatbot-rag-llm-Kbm_Xz7B-py3.11/lib/python3.11/site-packag\n",
       "es/rich/live.py:231: UserWarning: install \"ipywidgets\" for Jupyter support\n",
       "  warnings.warn('install \"ipywidgets\" for Jupyter support')\n",
       "</pre>\n"
      ],
      "text/plain": [
       "/Users/Jorge/Library/Caches/pypoetry/virtualenvs/lorawan-chatbot-rag-llm-Kbm_Xz7B-py3.11/lib/python3.11/site-packag\n",
       "es/rich/live.py:231: UserWarning: install \"ipywidgets\" for Jupyter support\n",
       "  warnings.warn('install \"ipywidgets\" for Jupyter support')\n"
      ]
     },
     "metadata": {},
     "output_type": "display_data"
    },
    {
     "data": {
      "text/html": [
       "<pre style=\"white-space:pre;overflow-x:auto;line-height:normal;font-family:Menlo,'DejaVu Sans Mono',consolas,'Courier New',monospace\">/Users/Jorge/Library/Caches/pypoetry/virtualenvs/lorawan-chatbot-rag-llm-Kbm_Xz7B-py3.11/lib/python3.11/site-packag\n",
       "es/rich/live.py:231: UserWarning: install \"ipywidgets\" for Jupyter support\n",
       "  warnings.warn('install \"ipywidgets\" for Jupyter support')\n",
       "</pre>\n"
      ],
      "text/plain": [
       "/Users/Jorge/Library/Caches/pypoetry/virtualenvs/lorawan-chatbot-rag-llm-Kbm_Xz7B-py3.11/lib/python3.11/site-packag\n",
       "es/rich/live.py:231: UserWarning: install \"ipywidgets\" for Jupyter support\n",
       "  warnings.warn('install \"ipywidgets\" for Jupyter support')\n"
      ]
     },
     "metadata": {},
     "output_type": "display_data"
    },
    {
     "data": {
      "text/html": [
       "<pre style=\"white-space:pre;overflow-x:auto;line-height:normal;font-family:Menlo,'DejaVu Sans Mono',consolas,'Courier New',monospace\">/Users/Jorge/Library/Caches/pypoetry/virtualenvs/lorawan-chatbot-rag-llm-Kbm_Xz7B-py3.11/lib/python3.11/site-packag\n",
       "es/rich/live.py:231: UserWarning: install \"ipywidgets\" for Jupyter support\n",
       "  warnings.warn('install \"ipywidgets\" for Jupyter support')\n",
       "</pre>\n"
      ],
      "text/plain": [
       "/Users/Jorge/Library/Caches/pypoetry/virtualenvs/lorawan-chatbot-rag-llm-Kbm_Xz7B-py3.11/lib/python3.11/site-packag\n",
       "es/rich/live.py:231: UserWarning: install \"ipywidgets\" for Jupyter support\n",
       "  warnings.warn('install \"ipywidgets\" for Jupyter support')\n"
      ]
     },
     "metadata": {},
     "output_type": "display_data"
    },
    {
     "data": {
      "text/html": [
       "<pre style=\"white-space:pre;overflow-x:auto;line-height:normal;font-family:Menlo,'DejaVu Sans Mono',consolas,'Courier New',monospace\">/Users/Jorge/Library/Caches/pypoetry/virtualenvs/lorawan-chatbot-rag-llm-Kbm_Xz7B-py3.11/lib/python3.11/site-packag\n",
       "es/rich/live.py:231: UserWarning: install \"ipywidgets\" for Jupyter support\n",
       "  warnings.warn('install \"ipywidgets\" for Jupyter support')\n",
       "</pre>\n"
      ],
      "text/plain": [
       "/Users/Jorge/Library/Caches/pypoetry/virtualenvs/lorawan-chatbot-rag-llm-Kbm_Xz7B-py3.11/lib/python3.11/site-packag\n",
       "es/rich/live.py:231: UserWarning: install \"ipywidgets\" for Jupyter support\n",
       "  warnings.warn('install \"ipywidgets\" for Jupyter support')\n"
      ]
     },
     "metadata": {},
     "output_type": "display_data"
    },
    {
     "data": {
      "text/html": [
       "<pre style=\"white-space:pre;overflow-x:auto;line-height:normal;font-family:Menlo,'DejaVu Sans Mono',consolas,'Courier New',monospace\">/Users/Jorge/Library/Caches/pypoetry/virtualenvs/lorawan-chatbot-rag-llm-Kbm_Xz7B-py3.11/lib/python3.11/site-packag\n",
       "es/rich/live.py:231: UserWarning: install \"ipywidgets\" for Jupyter support\n",
       "  warnings.warn('install \"ipywidgets\" for Jupyter support')\n",
       "</pre>\n"
      ],
      "text/plain": [
       "/Users/Jorge/Library/Caches/pypoetry/virtualenvs/lorawan-chatbot-rag-llm-Kbm_Xz7B-py3.11/lib/python3.11/site-packag\n",
       "es/rich/live.py:231: UserWarning: install \"ipywidgets\" for Jupyter support\n",
       "  warnings.warn('install \"ipywidgets\" for Jupyter support')\n"
      ]
     },
     "metadata": {},
     "output_type": "display_data"
    },
    {
     "data": {
      "text/html": [
       "<pre style=\"white-space:pre;overflow-x:auto;line-height:normal;font-family:Menlo,'DejaVu Sans Mono',consolas,'Courier New',monospace\">/Users/Jorge/Library/Caches/pypoetry/virtualenvs/lorawan-chatbot-rag-llm-Kbm_Xz7B-py3.11/lib/python3.11/site-packag\n",
       "es/rich/live.py:231: UserWarning: install \"ipywidgets\" for Jupyter support\n",
       "  warnings.warn('install \"ipywidgets\" for Jupyter support')\n",
       "</pre>\n"
      ],
      "text/plain": [
       "/Users/Jorge/Library/Caches/pypoetry/virtualenvs/lorawan-chatbot-rag-llm-Kbm_Xz7B-py3.11/lib/python3.11/site-packag\n",
       "es/rich/live.py:231: UserWarning: install \"ipywidgets\" for Jupyter support\n",
       "  warnings.warn('install \"ipywidgets\" for Jupyter support')\n"
      ]
     },
     "metadata": {},
     "output_type": "display_data"
    },
    {
     "data": {
      "text/html": [
       "<pre style=\"white-space:pre;overflow-x:auto;line-height:normal;font-family:Menlo,'DejaVu Sans Mono',consolas,'Courier New',monospace\">/Users/Jorge/Library/Caches/pypoetry/virtualenvs/lorawan-chatbot-rag-llm-Kbm_Xz7B-py3.11/lib/python3.11/site-packag\n",
       "es/rich/live.py:231: UserWarning: install \"ipywidgets\" for Jupyter support\n",
       "  warnings.warn('install \"ipywidgets\" for Jupyter support')\n",
       "</pre>\n"
      ],
      "text/plain": [
       "/Users/Jorge/Library/Caches/pypoetry/virtualenvs/lorawan-chatbot-rag-llm-Kbm_Xz7B-py3.11/lib/python3.11/site-packag\n",
       "es/rich/live.py:231: UserWarning: install \"ipywidgets\" for Jupyter support\n",
       "  warnings.warn('install \"ipywidgets\" for Jupyter support')\n"
      ]
     },
     "metadata": {},
     "output_type": "display_data"
    },
    {
     "data": {
      "text/html": [
       "<pre style=\"white-space:pre;overflow-x:auto;line-height:normal;font-family:Menlo,'DejaVu Sans Mono',consolas,'Courier New',monospace\">/Users/Jorge/Library/Caches/pypoetry/virtualenvs/lorawan-chatbot-rag-llm-Kbm_Xz7B-py3.11/lib/python3.11/site-packag\n",
       "es/rich/live.py:231: UserWarning: install \"ipywidgets\" for Jupyter support\n",
       "  warnings.warn('install \"ipywidgets\" for Jupyter support')\n",
       "</pre>\n"
      ],
      "text/plain": [
       "/Users/Jorge/Library/Caches/pypoetry/virtualenvs/lorawan-chatbot-rag-llm-Kbm_Xz7B-py3.11/lib/python3.11/site-packag\n",
       "es/rich/live.py:231: UserWarning: install \"ipywidgets\" for Jupyter support\n",
       "  warnings.warn('install \"ipywidgets\" for Jupyter support')\n"
      ]
     },
     "metadata": {},
     "output_type": "display_data"
    },
    {
     "data": {
      "text/html": [
       "<pre style=\"white-space:pre;overflow-x:auto;line-height:normal;font-family:Menlo,'DejaVu Sans Mono',consolas,'Courier New',monospace\">/Users/Jorge/Library/Caches/pypoetry/virtualenvs/lorawan-chatbot-rag-llm-Kbm_Xz7B-py3.11/lib/python3.11/site-packag\n",
       "es/rich/live.py:231: UserWarning: install \"ipywidgets\" for Jupyter support\n",
       "  warnings.warn('install \"ipywidgets\" for Jupyter support')\n",
       "</pre>\n"
      ],
      "text/plain": [
       "/Users/Jorge/Library/Caches/pypoetry/virtualenvs/lorawan-chatbot-rag-llm-Kbm_Xz7B-py3.11/lib/python3.11/site-packag\n",
       "es/rich/live.py:231: UserWarning: install \"ipywidgets\" for Jupyter support\n",
       "  warnings.warn('install \"ipywidgets\" for Jupyter support')\n"
      ]
     },
     "metadata": {},
     "output_type": "display_data"
    },
    {
     "data": {
      "text/html": [
       "<pre style=\"white-space:pre;overflow-x:auto;line-height:normal;font-family:Menlo,'DejaVu Sans Mono',consolas,'Courier New',monospace\"></pre>\n"
      ],
      "text/plain": []
     },
     "metadata": {},
     "output_type": "display_data"
    },
    {
     "data": {
      "text/html": [
       "<pre style=\"white-space:pre;overflow-x:auto;line-height:normal;font-family:Menlo,'DejaVu Sans Mono',consolas,'Courier New',monospace\">\n",
       "</pre>\n"
      ],
      "text/plain": [
       "\n"
      ]
     },
     "metadata": {},
     "output_type": "display_data"
    },
    {
     "data": {
      "text/html": [
       "<pre style=\"white-space:pre;overflow-x:auto;line-height:normal;font-family:Menlo,'DejaVu Sans Mono',consolas,'Courier New',monospace\">/Users/Jorge/Library/Caches/pypoetry/virtualenvs/lorawan-chatbot-rag-llm-Kbm_Xz7B-py3.11/lib/python3.11/site-packag\n",
       "es/rich/live.py:231: UserWarning: install \"ipywidgets\" for Jupyter support\n",
       "  warnings.warn('install \"ipywidgets\" for Jupyter support')\n",
       "</pre>\n"
      ],
      "text/plain": [
       "/Users/Jorge/Library/Caches/pypoetry/virtualenvs/lorawan-chatbot-rag-llm-Kbm_Xz7B-py3.11/lib/python3.11/site-packag\n",
       "es/rich/live.py:231: UserWarning: install \"ipywidgets\" for Jupyter support\n",
       "  warnings.warn('install \"ipywidgets\" for Jupyter support')\n"
      ]
     },
     "metadata": {},
     "output_type": "display_data"
    },
    {
     "data": {
      "text/html": [
       "<pre style=\"white-space:pre;overflow-x:auto;line-height:normal;font-family:Menlo,'DejaVu Sans Mono',consolas,'Courier New',monospace\">/Users/Jorge/Library/Caches/pypoetry/virtualenvs/lorawan-chatbot-rag-llm-Kbm_Xz7B-py3.11/lib/python3.11/site-packag\n",
       "es/rich/live.py:231: UserWarning: install \"ipywidgets\" for Jupyter support\n",
       "  warnings.warn('install \"ipywidgets\" for Jupyter support')\n",
       "</pre>\n"
      ],
      "text/plain": [
       "/Users/Jorge/Library/Caches/pypoetry/virtualenvs/lorawan-chatbot-rag-llm-Kbm_Xz7B-py3.11/lib/python3.11/site-packag\n",
       "es/rich/live.py:231: UserWarning: install \"ipywidgets\" for Jupyter support\n",
       "  warnings.warn('install \"ipywidgets\" for Jupyter support')\n"
      ]
     },
     "metadata": {},
     "output_type": "display_data"
    },
    {
     "data": {
      "text/html": [
       "<pre style=\"white-space:pre;overflow-x:auto;line-height:normal;font-family:Menlo,'DejaVu Sans Mono',consolas,'Courier New',monospace\">/Users/Jorge/Library/Caches/pypoetry/virtualenvs/lorawan-chatbot-rag-llm-Kbm_Xz7B-py3.11/lib/python3.11/site-packag\n",
       "es/rich/live.py:231: UserWarning: install \"ipywidgets\" for Jupyter support\n",
       "  warnings.warn('install \"ipywidgets\" for Jupyter support')\n",
       "</pre>\n"
      ],
      "text/plain": [
       "/Users/Jorge/Library/Caches/pypoetry/virtualenvs/lorawan-chatbot-rag-llm-Kbm_Xz7B-py3.11/lib/python3.11/site-packag\n",
       "es/rich/live.py:231: UserWarning: install \"ipywidgets\" for Jupyter support\n",
       "  warnings.warn('install \"ipywidgets\" for Jupyter support')\n"
      ]
     },
     "metadata": {},
     "output_type": "display_data"
    },
    {
     "data": {
      "text/html": [
       "<pre style=\"white-space:pre;overflow-x:auto;line-height:normal;font-family:Menlo,'DejaVu Sans Mono',consolas,'Courier New',monospace\">/Users/Jorge/Library/Caches/pypoetry/virtualenvs/lorawan-chatbot-rag-llm-Kbm_Xz7B-py3.11/lib/python3.11/site-packag\n",
       "es/rich/live.py:231: UserWarning: install \"ipywidgets\" for Jupyter support\n",
       "  warnings.warn('install \"ipywidgets\" for Jupyter support')\n",
       "</pre>\n"
      ],
      "text/plain": [
       "/Users/Jorge/Library/Caches/pypoetry/virtualenvs/lorawan-chatbot-rag-llm-Kbm_Xz7B-py3.11/lib/python3.11/site-packag\n",
       "es/rich/live.py:231: UserWarning: install \"ipywidgets\" for Jupyter support\n",
       "  warnings.warn('install \"ipywidgets\" for Jupyter support')\n"
      ]
     },
     "metadata": {},
     "output_type": "display_data"
    },
    {
     "data": {
      "text/html": [
       "<pre style=\"white-space:pre;overflow-x:auto;line-height:normal;font-family:Menlo,'DejaVu Sans Mono',consolas,'Courier New',monospace\">/Users/Jorge/Library/Caches/pypoetry/virtualenvs/lorawan-chatbot-rag-llm-Kbm_Xz7B-py3.11/lib/python3.11/site-packag\n",
       "es/rich/live.py:231: UserWarning: install \"ipywidgets\" for Jupyter support\n",
       "  warnings.warn('install \"ipywidgets\" for Jupyter support')\n",
       "</pre>\n"
      ],
      "text/plain": [
       "/Users/Jorge/Library/Caches/pypoetry/virtualenvs/lorawan-chatbot-rag-llm-Kbm_Xz7B-py3.11/lib/python3.11/site-packag\n",
       "es/rich/live.py:231: UserWarning: install \"ipywidgets\" for Jupyter support\n",
       "  warnings.warn('install \"ipywidgets\" for Jupyter support')\n"
      ]
     },
     "metadata": {},
     "output_type": "display_data"
    },
    {
     "data": {
      "text/html": [
       "<pre style=\"white-space:pre;overflow-x:auto;line-height:normal;font-family:Menlo,'DejaVu Sans Mono',consolas,'Courier New',monospace\">/Users/Jorge/Library/Caches/pypoetry/virtualenvs/lorawan-chatbot-rag-llm-Kbm_Xz7B-py3.11/lib/python3.11/site-packag\n",
       "es/rich/live.py:231: UserWarning: install \"ipywidgets\" for Jupyter support\n",
       "  warnings.warn('install \"ipywidgets\" for Jupyter support')\n",
       "</pre>\n"
      ],
      "text/plain": [
       "/Users/Jorge/Library/Caches/pypoetry/virtualenvs/lorawan-chatbot-rag-llm-Kbm_Xz7B-py3.11/lib/python3.11/site-packag\n",
       "es/rich/live.py:231: UserWarning: install \"ipywidgets\" for Jupyter support\n",
       "  warnings.warn('install \"ipywidgets\" for Jupyter support')\n"
      ]
     },
     "metadata": {},
     "output_type": "display_data"
    },
    {
     "data": {
      "text/html": [
       "<pre style=\"white-space:pre;overflow-x:auto;line-height:normal;font-family:Menlo,'DejaVu Sans Mono',consolas,'Courier New',monospace\">/Users/Jorge/Library/Caches/pypoetry/virtualenvs/lorawan-chatbot-rag-llm-Kbm_Xz7B-py3.11/lib/python3.11/site-packag\n",
       "es/rich/live.py:231: UserWarning: install \"ipywidgets\" for Jupyter support\n",
       "  warnings.warn('install \"ipywidgets\" for Jupyter support')\n",
       "</pre>\n"
      ],
      "text/plain": [
       "/Users/Jorge/Library/Caches/pypoetry/virtualenvs/lorawan-chatbot-rag-llm-Kbm_Xz7B-py3.11/lib/python3.11/site-packag\n",
       "es/rich/live.py:231: UserWarning: install \"ipywidgets\" for Jupyter support\n",
       "  warnings.warn('install \"ipywidgets\" for Jupyter support')\n"
      ]
     },
     "metadata": {},
     "output_type": "display_data"
    },
    {
     "data": {
      "text/html": [
       "<pre style=\"white-space:pre;overflow-x:auto;line-height:normal;font-family:Menlo,'DejaVu Sans Mono',consolas,'Courier New',monospace\">/Users/Jorge/Library/Caches/pypoetry/virtualenvs/lorawan-chatbot-rag-llm-Kbm_Xz7B-py3.11/lib/python3.11/site-packag\n",
       "es/rich/live.py:231: UserWarning: install \"ipywidgets\" for Jupyter support\n",
       "  warnings.warn('install \"ipywidgets\" for Jupyter support')\n",
       "</pre>\n"
      ],
      "text/plain": [
       "/Users/Jorge/Library/Caches/pypoetry/virtualenvs/lorawan-chatbot-rag-llm-Kbm_Xz7B-py3.11/lib/python3.11/site-packag\n",
       "es/rich/live.py:231: UserWarning: install \"ipywidgets\" for Jupyter support\n",
       "  warnings.warn('install \"ipywidgets\" for Jupyter support')\n"
      ]
     },
     "metadata": {},
     "output_type": "display_data"
    },
    {
     "data": {
      "text/html": [
       "<pre style=\"white-space:pre;overflow-x:auto;line-height:normal;font-family:Menlo,'DejaVu Sans Mono',consolas,'Courier New',monospace\">/Users/Jorge/Library/Caches/pypoetry/virtualenvs/lorawan-chatbot-rag-llm-Kbm_Xz7B-py3.11/lib/python3.11/site-packag\n",
       "es/rich/live.py:231: UserWarning: install \"ipywidgets\" for Jupyter support\n",
       "  warnings.warn('install \"ipywidgets\" for Jupyter support')\n",
       "</pre>\n"
      ],
      "text/plain": [
       "/Users/Jorge/Library/Caches/pypoetry/virtualenvs/lorawan-chatbot-rag-llm-Kbm_Xz7B-py3.11/lib/python3.11/site-packag\n",
       "es/rich/live.py:231: UserWarning: install \"ipywidgets\" for Jupyter support\n",
       "  warnings.warn('install \"ipywidgets\" for Jupyter support')\n"
      ]
     },
     "metadata": {},
     "output_type": "display_data"
    },
    {
     "data": {
      "text/html": [
       "<pre style=\"white-space:pre;overflow-x:auto;line-height:normal;font-family:Menlo,'DejaVu Sans Mono',consolas,'Courier New',monospace\">/Users/Jorge/Library/Caches/pypoetry/virtualenvs/lorawan-chatbot-rag-llm-Kbm_Xz7B-py3.11/lib/python3.11/site-packag\n",
       "es/rich/live.py:231: UserWarning: install \"ipywidgets\" for Jupyter support\n",
       "  warnings.warn('install \"ipywidgets\" for Jupyter support')\n",
       "</pre>\n"
      ],
      "text/plain": [
       "/Users/Jorge/Library/Caches/pypoetry/virtualenvs/lorawan-chatbot-rag-llm-Kbm_Xz7B-py3.11/lib/python3.11/site-packag\n",
       "es/rich/live.py:231: UserWarning: install \"ipywidgets\" for Jupyter support\n",
       "  warnings.warn('install \"ipywidgets\" for Jupyter support')\n"
      ]
     },
     "metadata": {},
     "output_type": "display_data"
    },
    {
     "data": {
      "text/html": [
       "<pre style=\"white-space:pre;overflow-x:auto;line-height:normal;font-family:Menlo,'DejaVu Sans Mono',consolas,'Courier New',monospace\"></pre>\n"
      ],
      "text/plain": []
     },
     "metadata": {},
     "output_type": "display_data"
    },
    {
     "data": {
      "text/html": [
       "<pre style=\"white-space:pre;overflow-x:auto;line-height:normal;font-family:Menlo,'DejaVu Sans Mono',consolas,'Courier New',monospace\">\n",
       "</pre>\n"
      ],
      "text/plain": [
       "\n"
      ]
     },
     "metadata": {},
     "output_type": "display_data"
    },
    {
     "data": {
      "text/html": [
       "<pre style=\"white-space:pre;overflow-x:auto;line-height:normal;font-family:Menlo,'DejaVu Sans Mono',consolas,'Courier New',monospace\">/Users/Jorge/Library/Caches/pypoetry/virtualenvs/lorawan-chatbot-rag-llm-Kbm_Xz7B-py3.11/lib/python3.11/site-packag\n",
       "es/rich/live.py:231: UserWarning: install \"ipywidgets\" for Jupyter support\n",
       "  warnings.warn('install \"ipywidgets\" for Jupyter support')\n",
       "</pre>\n"
      ],
      "text/plain": [
       "/Users/Jorge/Library/Caches/pypoetry/virtualenvs/lorawan-chatbot-rag-llm-Kbm_Xz7B-py3.11/lib/python3.11/site-packag\n",
       "es/rich/live.py:231: UserWarning: install \"ipywidgets\" for Jupyter support\n",
       "  warnings.warn('install \"ipywidgets\" for Jupyter support')\n"
      ]
     },
     "metadata": {},
     "output_type": "display_data"
    },
    {
     "data": {
      "text/html": [
       "<pre style=\"white-space:pre;overflow-x:auto;line-height:normal;font-family:Menlo,'DejaVu Sans Mono',consolas,'Courier New',monospace\">/Users/Jorge/Library/Caches/pypoetry/virtualenvs/lorawan-chatbot-rag-llm-Kbm_Xz7B-py3.11/lib/python3.11/site-packag\n",
       "es/rich/live.py:231: UserWarning: install \"ipywidgets\" for Jupyter support\n",
       "  warnings.warn('install \"ipywidgets\" for Jupyter support')\n",
       "</pre>\n"
      ],
      "text/plain": [
       "/Users/Jorge/Library/Caches/pypoetry/virtualenvs/lorawan-chatbot-rag-llm-Kbm_Xz7B-py3.11/lib/python3.11/site-packag\n",
       "es/rich/live.py:231: UserWarning: install \"ipywidgets\" for Jupyter support\n",
       "  warnings.warn('install \"ipywidgets\" for Jupyter support')\n"
      ]
     },
     "metadata": {},
     "output_type": "display_data"
    },
    {
     "data": {
      "text/html": [
       "<pre style=\"white-space:pre;overflow-x:auto;line-height:normal;font-family:Menlo,'DejaVu Sans Mono',consolas,'Courier New',monospace\">/Users/Jorge/Library/Caches/pypoetry/virtualenvs/lorawan-chatbot-rag-llm-Kbm_Xz7B-py3.11/lib/python3.11/site-packag\n",
       "es/rich/live.py:231: UserWarning: install \"ipywidgets\" for Jupyter support\n",
       "  warnings.warn('install \"ipywidgets\" for Jupyter support')\n",
       "</pre>\n"
      ],
      "text/plain": [
       "/Users/Jorge/Library/Caches/pypoetry/virtualenvs/lorawan-chatbot-rag-llm-Kbm_Xz7B-py3.11/lib/python3.11/site-packag\n",
       "es/rich/live.py:231: UserWarning: install \"ipywidgets\" for Jupyter support\n",
       "  warnings.warn('install \"ipywidgets\" for Jupyter support')\n"
      ]
     },
     "metadata": {},
     "output_type": "display_data"
    },
    {
     "data": {
      "text/html": [
       "<pre style=\"white-space:pre;overflow-x:auto;line-height:normal;font-family:Menlo,'DejaVu Sans Mono',consolas,'Courier New',monospace\">/Users/Jorge/Library/Caches/pypoetry/virtualenvs/lorawan-chatbot-rag-llm-Kbm_Xz7B-py3.11/lib/python3.11/site-packag\n",
       "es/rich/live.py:231: UserWarning: install \"ipywidgets\" for Jupyter support\n",
       "  warnings.warn('install \"ipywidgets\" for Jupyter support')\n",
       "</pre>\n"
      ],
      "text/plain": [
       "/Users/Jorge/Library/Caches/pypoetry/virtualenvs/lorawan-chatbot-rag-llm-Kbm_Xz7B-py3.11/lib/python3.11/site-packag\n",
       "es/rich/live.py:231: UserWarning: install \"ipywidgets\" for Jupyter support\n",
       "  warnings.warn('install \"ipywidgets\" for Jupyter support')\n"
      ]
     },
     "metadata": {},
     "output_type": "display_data"
    },
    {
     "data": {
      "text/html": [
       "<pre style=\"white-space:pre;overflow-x:auto;line-height:normal;font-family:Menlo,'DejaVu Sans Mono',consolas,'Courier New',monospace\">/Users/Jorge/Library/Caches/pypoetry/virtualenvs/lorawan-chatbot-rag-llm-Kbm_Xz7B-py3.11/lib/python3.11/site-packag\n",
       "es/rich/live.py:231: UserWarning: install \"ipywidgets\" for Jupyter support\n",
       "  warnings.warn('install \"ipywidgets\" for Jupyter support')\n",
       "</pre>\n"
      ],
      "text/plain": [
       "/Users/Jorge/Library/Caches/pypoetry/virtualenvs/lorawan-chatbot-rag-llm-Kbm_Xz7B-py3.11/lib/python3.11/site-packag\n",
       "es/rich/live.py:231: UserWarning: install \"ipywidgets\" for Jupyter support\n",
       "  warnings.warn('install \"ipywidgets\" for Jupyter support')\n"
      ]
     },
     "metadata": {},
     "output_type": "display_data"
    },
    {
     "data": {
      "text/html": [
       "<pre style=\"white-space:pre;overflow-x:auto;line-height:normal;font-family:Menlo,'DejaVu Sans Mono',consolas,'Courier New',monospace\">/Users/Jorge/Library/Caches/pypoetry/virtualenvs/lorawan-chatbot-rag-llm-Kbm_Xz7B-py3.11/lib/python3.11/site-packag\n",
       "es/rich/live.py:231: UserWarning: install \"ipywidgets\" for Jupyter support\n",
       "  warnings.warn('install \"ipywidgets\" for Jupyter support')\n",
       "</pre>\n"
      ],
      "text/plain": [
       "/Users/Jorge/Library/Caches/pypoetry/virtualenvs/lorawan-chatbot-rag-llm-Kbm_Xz7B-py3.11/lib/python3.11/site-packag\n",
       "es/rich/live.py:231: UserWarning: install \"ipywidgets\" for Jupyter support\n",
       "  warnings.warn('install \"ipywidgets\" for Jupyter support')\n"
      ]
     },
     "metadata": {},
     "output_type": "display_data"
    },
    {
     "data": {
      "text/html": [
       "<pre style=\"white-space:pre;overflow-x:auto;line-height:normal;font-family:Menlo,'DejaVu Sans Mono',consolas,'Courier New',monospace\">/Users/Jorge/Library/Caches/pypoetry/virtualenvs/lorawan-chatbot-rag-llm-Kbm_Xz7B-py3.11/lib/python3.11/site-packag\n",
       "es/rich/live.py:231: UserWarning: install \"ipywidgets\" for Jupyter support\n",
       "  warnings.warn('install \"ipywidgets\" for Jupyter support')\n",
       "</pre>\n"
      ],
      "text/plain": [
       "/Users/Jorge/Library/Caches/pypoetry/virtualenvs/lorawan-chatbot-rag-llm-Kbm_Xz7B-py3.11/lib/python3.11/site-packag\n",
       "es/rich/live.py:231: UserWarning: install \"ipywidgets\" for Jupyter support\n",
       "  warnings.warn('install \"ipywidgets\" for Jupyter support')\n"
      ]
     },
     "metadata": {},
     "output_type": "display_data"
    },
    {
     "data": {
      "text/html": [
       "<pre style=\"white-space:pre;overflow-x:auto;line-height:normal;font-family:Menlo,'DejaVu Sans Mono',consolas,'Courier New',monospace\">/Users/Jorge/Library/Caches/pypoetry/virtualenvs/lorawan-chatbot-rag-llm-Kbm_Xz7B-py3.11/lib/python3.11/site-packag\n",
       "es/rich/live.py:231: UserWarning: install \"ipywidgets\" for Jupyter support\n",
       "  warnings.warn('install \"ipywidgets\" for Jupyter support')\n",
       "</pre>\n"
      ],
      "text/plain": [
       "/Users/Jorge/Library/Caches/pypoetry/virtualenvs/lorawan-chatbot-rag-llm-Kbm_Xz7B-py3.11/lib/python3.11/site-packag\n",
       "es/rich/live.py:231: UserWarning: install \"ipywidgets\" for Jupyter support\n",
       "  warnings.warn('install \"ipywidgets\" for Jupyter support')\n"
      ]
     },
     "metadata": {},
     "output_type": "display_data"
    },
    {
     "data": {
      "text/html": [
       "<pre style=\"white-space:pre;overflow-x:auto;line-height:normal;font-family:Menlo,'DejaVu Sans Mono',consolas,'Courier New',monospace\"></pre>\n"
      ],
      "text/plain": []
     },
     "metadata": {},
     "output_type": "display_data"
    },
    {
     "data": {
      "text/html": [
       "<pre style=\"white-space:pre;overflow-x:auto;line-height:normal;font-family:Menlo,'DejaVu Sans Mono',consolas,'Courier New',monospace\">\n",
       "</pre>\n"
      ],
      "text/plain": [
       "\n"
      ]
     },
     "metadata": {},
     "output_type": "display_data"
    },
    {
     "data": {
      "text/html": [
       "<pre style=\"white-space:pre;overflow-x:auto;line-height:normal;font-family:Menlo,'DejaVu Sans Mono',consolas,'Courier New',monospace\">/Users/Jorge/Library/Caches/pypoetry/virtualenvs/lorawan-chatbot-rag-llm-Kbm_Xz7B-py3.11/lib/python3.11/site-packag\n",
       "es/rich/live.py:231: UserWarning: install \"ipywidgets\" for Jupyter support\n",
       "  warnings.warn('install \"ipywidgets\" for Jupyter support')\n",
       "</pre>\n"
      ],
      "text/plain": [
       "/Users/Jorge/Library/Caches/pypoetry/virtualenvs/lorawan-chatbot-rag-llm-Kbm_Xz7B-py3.11/lib/python3.11/site-packag\n",
       "es/rich/live.py:231: UserWarning: install \"ipywidgets\" for Jupyter support\n",
       "  warnings.warn('install \"ipywidgets\" for Jupyter support')\n"
      ]
     },
     "metadata": {},
     "output_type": "display_data"
    },
    {
     "data": {
      "text/html": [
       "<pre style=\"white-space:pre;overflow-x:auto;line-height:normal;font-family:Menlo,'DejaVu Sans Mono',consolas,'Courier New',monospace\">/Users/Jorge/Library/Caches/pypoetry/virtualenvs/lorawan-chatbot-rag-llm-Kbm_Xz7B-py3.11/lib/python3.11/site-packag\n",
       "es/rich/live.py:231: UserWarning: install \"ipywidgets\" for Jupyter support\n",
       "  warnings.warn('install \"ipywidgets\" for Jupyter support')\n",
       "</pre>\n"
      ],
      "text/plain": [
       "/Users/Jorge/Library/Caches/pypoetry/virtualenvs/lorawan-chatbot-rag-llm-Kbm_Xz7B-py3.11/lib/python3.11/site-packag\n",
       "es/rich/live.py:231: UserWarning: install \"ipywidgets\" for Jupyter support\n",
       "  warnings.warn('install \"ipywidgets\" for Jupyter support')\n"
      ]
     },
     "metadata": {},
     "output_type": "display_data"
    },
    {
     "data": {
      "text/html": [
       "<pre style=\"white-space:pre;overflow-x:auto;line-height:normal;font-family:Menlo,'DejaVu Sans Mono',consolas,'Courier New',monospace\">/Users/Jorge/Library/Caches/pypoetry/virtualenvs/lorawan-chatbot-rag-llm-Kbm_Xz7B-py3.11/lib/python3.11/site-packag\n",
       "es/rich/live.py:231: UserWarning: install \"ipywidgets\" for Jupyter support\n",
       "  warnings.warn('install \"ipywidgets\" for Jupyter support')\n",
       "</pre>\n"
      ],
      "text/plain": [
       "/Users/Jorge/Library/Caches/pypoetry/virtualenvs/lorawan-chatbot-rag-llm-Kbm_Xz7B-py3.11/lib/python3.11/site-packag\n",
       "es/rich/live.py:231: UserWarning: install \"ipywidgets\" for Jupyter support\n",
       "  warnings.warn('install \"ipywidgets\" for Jupyter support')\n"
      ]
     },
     "metadata": {},
     "output_type": "display_data"
    },
    {
     "data": {
      "text/html": [
       "<pre style=\"white-space:pre;overflow-x:auto;line-height:normal;font-family:Menlo,'DejaVu Sans Mono',consolas,'Courier New',monospace\">/Users/Jorge/Library/Caches/pypoetry/virtualenvs/lorawan-chatbot-rag-llm-Kbm_Xz7B-py3.11/lib/python3.11/site-packag\n",
       "es/rich/live.py:231: UserWarning: install \"ipywidgets\" for Jupyter support\n",
       "  warnings.warn('install \"ipywidgets\" for Jupyter support')\n",
       "</pre>\n"
      ],
      "text/plain": [
       "/Users/Jorge/Library/Caches/pypoetry/virtualenvs/lorawan-chatbot-rag-llm-Kbm_Xz7B-py3.11/lib/python3.11/site-packag\n",
       "es/rich/live.py:231: UserWarning: install \"ipywidgets\" for Jupyter support\n",
       "  warnings.warn('install \"ipywidgets\" for Jupyter support')\n"
      ]
     },
     "metadata": {},
     "output_type": "display_data"
    },
    {
     "data": {
      "text/html": [
       "<pre style=\"white-space:pre;overflow-x:auto;line-height:normal;font-family:Menlo,'DejaVu Sans Mono',consolas,'Courier New',monospace\">/Users/Jorge/Library/Caches/pypoetry/virtualenvs/lorawan-chatbot-rag-llm-Kbm_Xz7B-py3.11/lib/python3.11/site-packag\n",
       "es/rich/live.py:231: UserWarning: install \"ipywidgets\" for Jupyter support\n",
       "  warnings.warn('install \"ipywidgets\" for Jupyter support')\n",
       "</pre>\n"
      ],
      "text/plain": [
       "/Users/Jorge/Library/Caches/pypoetry/virtualenvs/lorawan-chatbot-rag-llm-Kbm_Xz7B-py3.11/lib/python3.11/site-packag\n",
       "es/rich/live.py:231: UserWarning: install \"ipywidgets\" for Jupyter support\n",
       "  warnings.warn('install \"ipywidgets\" for Jupyter support')\n"
      ]
     },
     "metadata": {},
     "output_type": "display_data"
    },
    {
     "data": {
      "text/html": [
       "<pre style=\"white-space:pre;overflow-x:auto;line-height:normal;font-family:Menlo,'DejaVu Sans Mono',consolas,'Courier New',monospace\">/Users/Jorge/Library/Caches/pypoetry/virtualenvs/lorawan-chatbot-rag-llm-Kbm_Xz7B-py3.11/lib/python3.11/site-packag\n",
       "es/rich/live.py:231: UserWarning: install \"ipywidgets\" for Jupyter support\n",
       "  warnings.warn('install \"ipywidgets\" for Jupyter support')\n",
       "</pre>\n"
      ],
      "text/plain": [
       "/Users/Jorge/Library/Caches/pypoetry/virtualenvs/lorawan-chatbot-rag-llm-Kbm_Xz7B-py3.11/lib/python3.11/site-packag\n",
       "es/rich/live.py:231: UserWarning: install \"ipywidgets\" for Jupyter support\n",
       "  warnings.warn('install \"ipywidgets\" for Jupyter support')\n"
      ]
     },
     "metadata": {},
     "output_type": "display_data"
    },
    {
     "data": {
      "text/html": [
       "<pre style=\"white-space:pre;overflow-x:auto;line-height:normal;font-family:Menlo,'DejaVu Sans Mono',consolas,'Courier New',monospace\">/Users/Jorge/Library/Caches/pypoetry/virtualenvs/lorawan-chatbot-rag-llm-Kbm_Xz7B-py3.11/lib/python3.11/site-packag\n",
       "es/rich/live.py:231: UserWarning: install \"ipywidgets\" for Jupyter support\n",
       "  warnings.warn('install \"ipywidgets\" for Jupyter support')\n",
       "</pre>\n"
      ],
      "text/plain": [
       "/Users/Jorge/Library/Caches/pypoetry/virtualenvs/lorawan-chatbot-rag-llm-Kbm_Xz7B-py3.11/lib/python3.11/site-packag\n",
       "es/rich/live.py:231: UserWarning: install \"ipywidgets\" for Jupyter support\n",
       "  warnings.warn('install \"ipywidgets\" for Jupyter support')\n"
      ]
     },
     "metadata": {},
     "output_type": "display_data"
    },
    {
     "data": {
      "text/html": [
       "<pre style=\"white-space:pre;overflow-x:auto;line-height:normal;font-family:Menlo,'DejaVu Sans Mono',consolas,'Courier New',monospace\">/Users/Jorge/Library/Caches/pypoetry/virtualenvs/lorawan-chatbot-rag-llm-Kbm_Xz7B-py3.11/lib/python3.11/site-packag\n",
       "es/rich/live.py:231: UserWarning: install \"ipywidgets\" for Jupyter support\n",
       "  warnings.warn('install \"ipywidgets\" for Jupyter support')\n",
       "</pre>\n"
      ],
      "text/plain": [
       "/Users/Jorge/Library/Caches/pypoetry/virtualenvs/lorawan-chatbot-rag-llm-Kbm_Xz7B-py3.11/lib/python3.11/site-packag\n",
       "es/rich/live.py:231: UserWarning: install \"ipywidgets\" for Jupyter support\n",
       "  warnings.warn('install \"ipywidgets\" for Jupyter support')\n"
      ]
     },
     "metadata": {},
     "output_type": "display_data"
    },
    {
     "data": {
      "text/html": [
       "<pre style=\"white-space:pre;overflow-x:auto;line-height:normal;font-family:Menlo,'DejaVu Sans Mono',consolas,'Courier New',monospace\">/Users/Jorge/Library/Caches/pypoetry/virtualenvs/lorawan-chatbot-rag-llm-Kbm_Xz7B-py3.11/lib/python3.11/site-packag\n",
       "es/rich/live.py:231: UserWarning: install \"ipywidgets\" for Jupyter support\n",
       "  warnings.warn('install \"ipywidgets\" for Jupyter support')\n",
       "</pre>\n"
      ],
      "text/plain": [
       "/Users/Jorge/Library/Caches/pypoetry/virtualenvs/lorawan-chatbot-rag-llm-Kbm_Xz7B-py3.11/lib/python3.11/site-packag\n",
       "es/rich/live.py:231: UserWarning: install \"ipywidgets\" for Jupyter support\n",
       "  warnings.warn('install \"ipywidgets\" for Jupyter support')\n"
      ]
     },
     "metadata": {},
     "output_type": "display_data"
    },
    {
     "data": {
      "text/html": [
       "<pre style=\"white-space:pre;overflow-x:auto;line-height:normal;font-family:Menlo,'DejaVu Sans Mono',consolas,'Courier New',monospace\">/Users/Jorge/Library/Caches/pypoetry/virtualenvs/lorawan-chatbot-rag-llm-Kbm_Xz7B-py3.11/lib/python3.11/site-packag\n",
       "es/rich/live.py:231: UserWarning: install \"ipywidgets\" for Jupyter support\n",
       "  warnings.warn('install \"ipywidgets\" for Jupyter support')\n",
       "</pre>\n"
      ],
      "text/plain": [
       "/Users/Jorge/Library/Caches/pypoetry/virtualenvs/lorawan-chatbot-rag-llm-Kbm_Xz7B-py3.11/lib/python3.11/site-packag\n",
       "es/rich/live.py:231: UserWarning: install \"ipywidgets\" for Jupyter support\n",
       "  warnings.warn('install \"ipywidgets\" for Jupyter support')\n"
      ]
     },
     "metadata": {},
     "output_type": "display_data"
    },
    {
     "data": {
      "text/html": [
       "<pre style=\"white-space:pre;overflow-x:auto;line-height:normal;font-family:Menlo,'DejaVu Sans Mono',consolas,'Courier New',monospace\">/Users/Jorge/Library/Caches/pypoetry/virtualenvs/lorawan-chatbot-rag-llm-Kbm_Xz7B-py3.11/lib/python3.11/site-packag\n",
       "es/rich/live.py:231: UserWarning: install \"ipywidgets\" for Jupyter support\n",
       "  warnings.warn('install \"ipywidgets\" for Jupyter support')\n",
       "</pre>\n"
      ],
      "text/plain": [
       "/Users/Jorge/Library/Caches/pypoetry/virtualenvs/lorawan-chatbot-rag-llm-Kbm_Xz7B-py3.11/lib/python3.11/site-packag\n",
       "es/rich/live.py:231: UserWarning: install \"ipywidgets\" for Jupyter support\n",
       "  warnings.warn('install \"ipywidgets\" for Jupyter support')\n"
      ]
     },
     "metadata": {},
     "output_type": "display_data"
    },
    {
     "data": {
      "text/html": [
       "<pre style=\"white-space:pre;overflow-x:auto;line-height:normal;font-family:Menlo,'DejaVu Sans Mono',consolas,'Courier New',monospace\"></pre>\n"
      ],
      "text/plain": []
     },
     "metadata": {},
     "output_type": "display_data"
    },
    {
     "data": {
      "text/html": [
       "<pre style=\"white-space:pre;overflow-x:auto;line-height:normal;font-family:Menlo,'DejaVu Sans Mono',consolas,'Courier New',monospace\">\n",
       "</pre>\n"
      ],
      "text/plain": [
       "\n"
      ]
     },
     "metadata": {},
     "output_type": "display_data"
    },
    {
     "data": {
      "text/html": [
       "<pre style=\"white-space:pre;overflow-x:auto;line-height:normal;font-family:Menlo,'DejaVu Sans Mono',consolas,'Courier New',monospace\">/Users/Jorge/Library/Caches/pypoetry/virtualenvs/lorawan-chatbot-rag-llm-Kbm_Xz7B-py3.11/lib/python3.11/site-packag\n",
       "es/rich/live.py:231: UserWarning: install \"ipywidgets\" for Jupyter support\n",
       "  warnings.warn('install \"ipywidgets\" for Jupyter support')\n",
       "</pre>\n"
      ],
      "text/plain": [
       "/Users/Jorge/Library/Caches/pypoetry/virtualenvs/lorawan-chatbot-rag-llm-Kbm_Xz7B-py3.11/lib/python3.11/site-packag\n",
       "es/rich/live.py:231: UserWarning: install \"ipywidgets\" for Jupyter support\n",
       "  warnings.warn('install \"ipywidgets\" for Jupyter support')\n"
      ]
     },
     "metadata": {},
     "output_type": "display_data"
    },
    {
     "data": {
      "text/html": [
       "<pre style=\"white-space:pre;overflow-x:auto;line-height:normal;font-family:Menlo,'DejaVu Sans Mono',consolas,'Courier New',monospace\">/Users/Jorge/Library/Caches/pypoetry/virtualenvs/lorawan-chatbot-rag-llm-Kbm_Xz7B-py3.11/lib/python3.11/site-packag\n",
       "es/rich/live.py:231: UserWarning: install \"ipywidgets\" for Jupyter support\n",
       "  warnings.warn('install \"ipywidgets\" for Jupyter support')\n",
       "</pre>\n"
      ],
      "text/plain": [
       "/Users/Jorge/Library/Caches/pypoetry/virtualenvs/lorawan-chatbot-rag-llm-Kbm_Xz7B-py3.11/lib/python3.11/site-packag\n",
       "es/rich/live.py:231: UserWarning: install \"ipywidgets\" for Jupyter support\n",
       "  warnings.warn('install \"ipywidgets\" for Jupyter support')\n"
      ]
     },
     "metadata": {},
     "output_type": "display_data"
    },
    {
     "data": {
      "text/html": [
       "<pre style=\"white-space:pre;overflow-x:auto;line-height:normal;font-family:Menlo,'DejaVu Sans Mono',consolas,'Courier New',monospace\">/Users/Jorge/Library/Caches/pypoetry/virtualenvs/lorawan-chatbot-rag-llm-Kbm_Xz7B-py3.11/lib/python3.11/site-packag\n",
       "es/rich/live.py:231: UserWarning: install \"ipywidgets\" for Jupyter support\n",
       "  warnings.warn('install \"ipywidgets\" for Jupyter support')\n",
       "</pre>\n"
      ],
      "text/plain": [
       "/Users/Jorge/Library/Caches/pypoetry/virtualenvs/lorawan-chatbot-rag-llm-Kbm_Xz7B-py3.11/lib/python3.11/site-packag\n",
       "es/rich/live.py:231: UserWarning: install \"ipywidgets\" for Jupyter support\n",
       "  warnings.warn('install \"ipywidgets\" for Jupyter support')\n"
      ]
     },
     "metadata": {},
     "output_type": "display_data"
    },
    {
     "data": {
      "text/html": [
       "<pre style=\"white-space:pre;overflow-x:auto;line-height:normal;font-family:Menlo,'DejaVu Sans Mono',consolas,'Courier New',monospace\">/Users/Jorge/Library/Caches/pypoetry/virtualenvs/lorawan-chatbot-rag-llm-Kbm_Xz7B-py3.11/lib/python3.11/site-packag\n",
       "es/rich/live.py:231: UserWarning: install \"ipywidgets\" for Jupyter support\n",
       "  warnings.warn('install \"ipywidgets\" for Jupyter support')\n",
       "</pre>\n"
      ],
      "text/plain": [
       "/Users/Jorge/Library/Caches/pypoetry/virtualenvs/lorawan-chatbot-rag-llm-Kbm_Xz7B-py3.11/lib/python3.11/site-packag\n",
       "es/rich/live.py:231: UserWarning: install \"ipywidgets\" for Jupyter support\n",
       "  warnings.warn('install \"ipywidgets\" for Jupyter support')\n"
      ]
     },
     "metadata": {},
     "output_type": "display_data"
    },
    {
     "data": {
      "text/html": [
       "<pre style=\"white-space:pre;overflow-x:auto;line-height:normal;font-family:Menlo,'DejaVu Sans Mono',consolas,'Courier New',monospace\">/Users/Jorge/Library/Caches/pypoetry/virtualenvs/lorawan-chatbot-rag-llm-Kbm_Xz7B-py3.11/lib/python3.11/site-packag\n",
       "es/rich/live.py:231: UserWarning: install \"ipywidgets\" for Jupyter support\n",
       "  warnings.warn('install \"ipywidgets\" for Jupyter support')\n",
       "</pre>\n"
      ],
      "text/plain": [
       "/Users/Jorge/Library/Caches/pypoetry/virtualenvs/lorawan-chatbot-rag-llm-Kbm_Xz7B-py3.11/lib/python3.11/site-packag\n",
       "es/rich/live.py:231: UserWarning: install \"ipywidgets\" for Jupyter support\n",
       "  warnings.warn('install \"ipywidgets\" for Jupyter support')\n"
      ]
     },
     "metadata": {},
     "output_type": "display_data"
    },
    {
     "data": {
      "text/html": [
       "<pre style=\"white-space:pre;overflow-x:auto;line-height:normal;font-family:Menlo,'DejaVu Sans Mono',consolas,'Courier New',monospace\">/Users/Jorge/Library/Caches/pypoetry/virtualenvs/lorawan-chatbot-rag-llm-Kbm_Xz7B-py3.11/lib/python3.11/site-packag\n",
       "es/rich/live.py:231: UserWarning: install \"ipywidgets\" for Jupyter support\n",
       "  warnings.warn('install \"ipywidgets\" for Jupyter support')\n",
       "</pre>\n"
      ],
      "text/plain": [
       "/Users/Jorge/Library/Caches/pypoetry/virtualenvs/lorawan-chatbot-rag-llm-Kbm_Xz7B-py3.11/lib/python3.11/site-packag\n",
       "es/rich/live.py:231: UserWarning: install \"ipywidgets\" for Jupyter support\n",
       "  warnings.warn('install \"ipywidgets\" for Jupyter support')\n"
      ]
     },
     "metadata": {},
     "output_type": "display_data"
    },
    {
     "data": {
      "text/html": [
       "<pre style=\"white-space:pre;overflow-x:auto;line-height:normal;font-family:Menlo,'DejaVu Sans Mono',consolas,'Courier New',monospace\">/Users/Jorge/Library/Caches/pypoetry/virtualenvs/lorawan-chatbot-rag-llm-Kbm_Xz7B-py3.11/lib/python3.11/site-packag\n",
       "es/rich/live.py:231: UserWarning: install \"ipywidgets\" for Jupyter support\n",
       "  warnings.warn('install \"ipywidgets\" for Jupyter support')\n",
       "</pre>\n"
      ],
      "text/plain": [
       "/Users/Jorge/Library/Caches/pypoetry/virtualenvs/lorawan-chatbot-rag-llm-Kbm_Xz7B-py3.11/lib/python3.11/site-packag\n",
       "es/rich/live.py:231: UserWarning: install \"ipywidgets\" for Jupyter support\n",
       "  warnings.warn('install \"ipywidgets\" for Jupyter support')\n"
      ]
     },
     "metadata": {},
     "output_type": "display_data"
    },
    {
     "data": {
      "text/html": [
       "<pre style=\"white-space:pre;overflow-x:auto;line-height:normal;font-family:Menlo,'DejaVu Sans Mono',consolas,'Courier New',monospace\">/Users/Jorge/Library/Caches/pypoetry/virtualenvs/lorawan-chatbot-rag-llm-Kbm_Xz7B-py3.11/lib/python3.11/site-packag\n",
       "es/rich/live.py:231: UserWarning: install \"ipywidgets\" for Jupyter support\n",
       "  warnings.warn('install \"ipywidgets\" for Jupyter support')\n",
       "</pre>\n"
      ],
      "text/plain": [
       "/Users/Jorge/Library/Caches/pypoetry/virtualenvs/lorawan-chatbot-rag-llm-Kbm_Xz7B-py3.11/lib/python3.11/site-packag\n",
       "es/rich/live.py:231: UserWarning: install \"ipywidgets\" for Jupyter support\n",
       "  warnings.warn('install \"ipywidgets\" for Jupyter support')\n"
      ]
     },
     "metadata": {},
     "output_type": "display_data"
    },
    {
     "data": {
      "text/html": [
       "<pre style=\"white-space:pre;overflow-x:auto;line-height:normal;font-family:Menlo,'DejaVu Sans Mono',consolas,'Courier New',monospace\">/Users/Jorge/Library/Caches/pypoetry/virtualenvs/lorawan-chatbot-rag-llm-Kbm_Xz7B-py3.11/lib/python3.11/site-packag\n",
       "es/rich/live.py:231: UserWarning: install \"ipywidgets\" for Jupyter support\n",
       "  warnings.warn('install \"ipywidgets\" for Jupyter support')\n",
       "</pre>\n"
      ],
      "text/plain": [
       "/Users/Jorge/Library/Caches/pypoetry/virtualenvs/lorawan-chatbot-rag-llm-Kbm_Xz7B-py3.11/lib/python3.11/site-packag\n",
       "es/rich/live.py:231: UserWarning: install \"ipywidgets\" for Jupyter support\n",
       "  warnings.warn('install \"ipywidgets\" for Jupyter support')\n"
      ]
     },
     "metadata": {},
     "output_type": "display_data"
    },
    {
     "data": {
      "text/html": [
       "<pre style=\"white-space:pre;overflow-x:auto;line-height:normal;font-family:Menlo,'DejaVu Sans Mono',consolas,'Courier New',monospace\">/Users/Jorge/Library/Caches/pypoetry/virtualenvs/lorawan-chatbot-rag-llm-Kbm_Xz7B-py3.11/lib/python3.11/site-packag\n",
       "es/rich/live.py:231: UserWarning: install \"ipywidgets\" for Jupyter support\n",
       "  warnings.warn('install \"ipywidgets\" for Jupyter support')\n",
       "</pre>\n"
      ],
      "text/plain": [
       "/Users/Jorge/Library/Caches/pypoetry/virtualenvs/lorawan-chatbot-rag-llm-Kbm_Xz7B-py3.11/lib/python3.11/site-packag\n",
       "es/rich/live.py:231: UserWarning: install \"ipywidgets\" for Jupyter support\n",
       "  warnings.warn('install \"ipywidgets\" for Jupyter support')\n"
      ]
     },
     "metadata": {},
     "output_type": "display_data"
    },
    {
     "data": {
      "text/html": [
       "<pre style=\"white-space:pre;overflow-x:auto;line-height:normal;font-family:Menlo,'DejaVu Sans Mono',consolas,'Courier New',monospace\">/Users/Jorge/Library/Caches/pypoetry/virtualenvs/lorawan-chatbot-rag-llm-Kbm_Xz7B-py3.11/lib/python3.11/site-packag\n",
       "es/rich/live.py:231: UserWarning: install \"ipywidgets\" for Jupyter support\n",
       "  warnings.warn('install \"ipywidgets\" for Jupyter support')\n",
       "</pre>\n"
      ],
      "text/plain": [
       "/Users/Jorge/Library/Caches/pypoetry/virtualenvs/lorawan-chatbot-rag-llm-Kbm_Xz7B-py3.11/lib/python3.11/site-packag\n",
       "es/rich/live.py:231: UserWarning: install \"ipywidgets\" for Jupyter support\n",
       "  warnings.warn('install \"ipywidgets\" for Jupyter support')\n"
      ]
     },
     "metadata": {},
     "output_type": "display_data"
    },
    {
     "data": {
      "text/html": [
       "<pre style=\"white-space:pre;overflow-x:auto;line-height:normal;font-family:Menlo,'DejaVu Sans Mono',consolas,'Courier New',monospace\"></pre>\n"
      ],
      "text/plain": []
     },
     "metadata": {},
     "output_type": "display_data"
    },
    {
     "data": {
      "text/html": [
       "<pre style=\"white-space:pre;overflow-x:auto;line-height:normal;font-family:Menlo,'DejaVu Sans Mono',consolas,'Courier New',monospace\">\n",
       "</pre>\n"
      ],
      "text/plain": [
       "\n"
      ]
     },
     "metadata": {},
     "output_type": "display_data"
    },
    {
     "data": {
      "text/html": [
       "<pre style=\"white-space:pre;overflow-x:auto;line-height:normal;font-family:Menlo,'DejaVu Sans Mono',consolas,'Courier New',monospace\">/Users/Jorge/Library/Caches/pypoetry/virtualenvs/lorawan-chatbot-rag-llm-Kbm_Xz7B-py3.11/lib/python3.11/site-packag\n",
       "es/rich/live.py:231: UserWarning: install \"ipywidgets\" for Jupyter support\n",
       "  warnings.warn('install \"ipywidgets\" for Jupyter support')\n",
       "</pre>\n"
      ],
      "text/plain": [
       "/Users/Jorge/Library/Caches/pypoetry/virtualenvs/lorawan-chatbot-rag-llm-Kbm_Xz7B-py3.11/lib/python3.11/site-packag\n",
       "es/rich/live.py:231: UserWarning: install \"ipywidgets\" for Jupyter support\n",
       "  warnings.warn('install \"ipywidgets\" for Jupyter support')\n"
      ]
     },
     "metadata": {},
     "output_type": "display_data"
    },
    {
     "data": {
      "text/html": [
       "<pre style=\"white-space:pre;overflow-x:auto;line-height:normal;font-family:Menlo,'DejaVu Sans Mono',consolas,'Courier New',monospace\">/Users/Jorge/Library/Caches/pypoetry/virtualenvs/lorawan-chatbot-rag-llm-Kbm_Xz7B-py3.11/lib/python3.11/site-packag\n",
       "es/rich/live.py:231: UserWarning: install \"ipywidgets\" for Jupyter support\n",
       "  warnings.warn('install \"ipywidgets\" for Jupyter support')\n",
       "</pre>\n"
      ],
      "text/plain": [
       "/Users/Jorge/Library/Caches/pypoetry/virtualenvs/lorawan-chatbot-rag-llm-Kbm_Xz7B-py3.11/lib/python3.11/site-packag\n",
       "es/rich/live.py:231: UserWarning: install \"ipywidgets\" for Jupyter support\n",
       "  warnings.warn('install \"ipywidgets\" for Jupyter support')\n"
      ]
     },
     "metadata": {},
     "output_type": "display_data"
    },
    {
     "data": {
      "text/html": [
       "<pre style=\"white-space:pre;overflow-x:auto;line-height:normal;font-family:Menlo,'DejaVu Sans Mono',consolas,'Courier New',monospace\">/Users/Jorge/Library/Caches/pypoetry/virtualenvs/lorawan-chatbot-rag-llm-Kbm_Xz7B-py3.11/lib/python3.11/site-packag\n",
       "es/rich/live.py:231: UserWarning: install \"ipywidgets\" for Jupyter support\n",
       "  warnings.warn('install \"ipywidgets\" for Jupyter support')\n",
       "</pre>\n"
      ],
      "text/plain": [
       "/Users/Jorge/Library/Caches/pypoetry/virtualenvs/lorawan-chatbot-rag-llm-Kbm_Xz7B-py3.11/lib/python3.11/site-packag\n",
       "es/rich/live.py:231: UserWarning: install \"ipywidgets\" for Jupyter support\n",
       "  warnings.warn('install \"ipywidgets\" for Jupyter support')\n"
      ]
     },
     "metadata": {},
     "output_type": "display_data"
    },
    {
     "data": {
      "text/html": [
       "<pre style=\"white-space:pre;overflow-x:auto;line-height:normal;font-family:Menlo,'DejaVu Sans Mono',consolas,'Courier New',monospace\">/Users/Jorge/Library/Caches/pypoetry/virtualenvs/lorawan-chatbot-rag-llm-Kbm_Xz7B-py3.11/lib/python3.11/site-packag\n",
       "es/rich/live.py:231: UserWarning: install \"ipywidgets\" for Jupyter support\n",
       "  warnings.warn('install \"ipywidgets\" for Jupyter support')\n",
       "</pre>\n"
      ],
      "text/plain": [
       "/Users/Jorge/Library/Caches/pypoetry/virtualenvs/lorawan-chatbot-rag-llm-Kbm_Xz7B-py3.11/lib/python3.11/site-packag\n",
       "es/rich/live.py:231: UserWarning: install \"ipywidgets\" for Jupyter support\n",
       "  warnings.warn('install \"ipywidgets\" for Jupyter support')\n"
      ]
     },
     "metadata": {},
     "output_type": "display_data"
    },
    {
     "data": {
      "text/html": [
       "<pre style=\"white-space:pre;overflow-x:auto;line-height:normal;font-family:Menlo,'DejaVu Sans Mono',consolas,'Courier New',monospace\">/Users/Jorge/Library/Caches/pypoetry/virtualenvs/lorawan-chatbot-rag-llm-Kbm_Xz7B-py3.11/lib/python3.11/site-packag\n",
       "es/rich/live.py:231: UserWarning: install \"ipywidgets\" for Jupyter support\n",
       "  warnings.warn('install \"ipywidgets\" for Jupyter support')\n",
       "</pre>\n"
      ],
      "text/plain": [
       "/Users/Jorge/Library/Caches/pypoetry/virtualenvs/lorawan-chatbot-rag-llm-Kbm_Xz7B-py3.11/lib/python3.11/site-packag\n",
       "es/rich/live.py:231: UserWarning: install \"ipywidgets\" for Jupyter support\n",
       "  warnings.warn('install \"ipywidgets\" for Jupyter support')\n"
      ]
     },
     "metadata": {},
     "output_type": "display_data"
    },
    {
     "data": {
      "text/html": [
       "<pre style=\"white-space:pre;overflow-x:auto;line-height:normal;font-family:Menlo,'DejaVu Sans Mono',consolas,'Courier New',monospace\">/Users/Jorge/Library/Caches/pypoetry/virtualenvs/lorawan-chatbot-rag-llm-Kbm_Xz7B-py3.11/lib/python3.11/site-packag\n",
       "es/rich/live.py:231: UserWarning: install \"ipywidgets\" for Jupyter support\n",
       "  warnings.warn('install \"ipywidgets\" for Jupyter support')\n",
       "</pre>\n"
      ],
      "text/plain": [
       "/Users/Jorge/Library/Caches/pypoetry/virtualenvs/lorawan-chatbot-rag-llm-Kbm_Xz7B-py3.11/lib/python3.11/site-packag\n",
       "es/rich/live.py:231: UserWarning: install \"ipywidgets\" for Jupyter support\n",
       "  warnings.warn('install \"ipywidgets\" for Jupyter support')\n"
      ]
     },
     "metadata": {},
     "output_type": "display_data"
    },
    {
     "data": {
      "text/html": [
       "<pre style=\"white-space:pre;overflow-x:auto;line-height:normal;font-family:Menlo,'DejaVu Sans Mono',consolas,'Courier New',monospace\">/Users/Jorge/Library/Caches/pypoetry/virtualenvs/lorawan-chatbot-rag-llm-Kbm_Xz7B-py3.11/lib/python3.11/site-packag\n",
       "es/rich/live.py:231: UserWarning: install \"ipywidgets\" for Jupyter support\n",
       "  warnings.warn('install \"ipywidgets\" for Jupyter support')\n",
       "</pre>\n"
      ],
      "text/plain": [
       "/Users/Jorge/Library/Caches/pypoetry/virtualenvs/lorawan-chatbot-rag-llm-Kbm_Xz7B-py3.11/lib/python3.11/site-packag\n",
       "es/rich/live.py:231: UserWarning: install \"ipywidgets\" for Jupyter support\n",
       "  warnings.warn('install \"ipywidgets\" for Jupyter support')\n"
      ]
     },
     "metadata": {},
     "output_type": "display_data"
    },
    {
     "data": {
      "text/html": [
       "<pre style=\"white-space:pre;overflow-x:auto;line-height:normal;font-family:Menlo,'DejaVu Sans Mono',consolas,'Courier New',monospace\">/Users/Jorge/Library/Caches/pypoetry/virtualenvs/lorawan-chatbot-rag-llm-Kbm_Xz7B-py3.11/lib/python3.11/site-packag\n",
       "es/rich/live.py:231: UserWarning: install \"ipywidgets\" for Jupyter support\n",
       "  warnings.warn('install \"ipywidgets\" for Jupyter support')\n",
       "</pre>\n"
      ],
      "text/plain": [
       "/Users/Jorge/Library/Caches/pypoetry/virtualenvs/lorawan-chatbot-rag-llm-Kbm_Xz7B-py3.11/lib/python3.11/site-packag\n",
       "es/rich/live.py:231: UserWarning: install \"ipywidgets\" for Jupyter support\n",
       "  warnings.warn('install \"ipywidgets\" for Jupyter support')\n"
      ]
     },
     "metadata": {},
     "output_type": "display_data"
    },
    {
     "data": {
      "text/html": [
       "<pre style=\"white-space:pre;overflow-x:auto;line-height:normal;font-family:Menlo,'DejaVu Sans Mono',consolas,'Courier New',monospace\">/Users/Jorge/Library/Caches/pypoetry/virtualenvs/lorawan-chatbot-rag-llm-Kbm_Xz7B-py3.11/lib/python3.11/site-packag\n",
       "es/rich/live.py:231: UserWarning: install \"ipywidgets\" for Jupyter support\n",
       "  warnings.warn('install \"ipywidgets\" for Jupyter support')\n",
       "</pre>\n"
      ],
      "text/plain": [
       "/Users/Jorge/Library/Caches/pypoetry/virtualenvs/lorawan-chatbot-rag-llm-Kbm_Xz7B-py3.11/lib/python3.11/site-packag\n",
       "es/rich/live.py:231: UserWarning: install \"ipywidgets\" for Jupyter support\n",
       "  warnings.warn('install \"ipywidgets\" for Jupyter support')\n"
      ]
     },
     "metadata": {},
     "output_type": "display_data"
    },
    {
     "data": {
      "text/html": [
       "<pre style=\"white-space:pre;overflow-x:auto;line-height:normal;font-family:Menlo,'DejaVu Sans Mono',consolas,'Courier New',monospace\"></pre>\n"
      ],
      "text/plain": []
     },
     "metadata": {},
     "output_type": "display_data"
    },
    {
     "data": {
      "text/html": [
       "<pre style=\"white-space:pre;overflow-x:auto;line-height:normal;font-family:Menlo,'DejaVu Sans Mono',consolas,'Courier New',monospace\">\n",
       "</pre>\n"
      ],
      "text/plain": [
       "\n"
      ]
     },
     "metadata": {},
     "output_type": "display_data"
    },
    {
     "data": {
      "text/html": [
       "<pre style=\"white-space:pre;overflow-x:auto;line-height:normal;font-family:Menlo,'DejaVu Sans Mono',consolas,'Courier New',monospace\">/Users/Jorge/Library/Caches/pypoetry/virtualenvs/lorawan-chatbot-rag-llm-Kbm_Xz7B-py3.11/lib/python3.11/site-packag\n",
       "es/rich/live.py:231: UserWarning: install \"ipywidgets\" for Jupyter support\n",
       "  warnings.warn('install \"ipywidgets\" for Jupyter support')\n",
       "</pre>\n"
      ],
      "text/plain": [
       "/Users/Jorge/Library/Caches/pypoetry/virtualenvs/lorawan-chatbot-rag-llm-Kbm_Xz7B-py3.11/lib/python3.11/site-packag\n",
       "es/rich/live.py:231: UserWarning: install \"ipywidgets\" for Jupyter support\n",
       "  warnings.warn('install \"ipywidgets\" for Jupyter support')\n"
      ]
     },
     "metadata": {},
     "output_type": "display_data"
    },
    {
     "data": {
      "text/html": [
       "<pre style=\"white-space:pre;overflow-x:auto;line-height:normal;font-family:Menlo,'DejaVu Sans Mono',consolas,'Courier New',monospace\">/Users/Jorge/Library/Caches/pypoetry/virtualenvs/lorawan-chatbot-rag-llm-Kbm_Xz7B-py3.11/lib/python3.11/site-packag\n",
       "es/rich/live.py:231: UserWarning: install \"ipywidgets\" for Jupyter support\n",
       "  warnings.warn('install \"ipywidgets\" for Jupyter support')\n",
       "</pre>\n"
      ],
      "text/plain": [
       "/Users/Jorge/Library/Caches/pypoetry/virtualenvs/lorawan-chatbot-rag-llm-Kbm_Xz7B-py3.11/lib/python3.11/site-packag\n",
       "es/rich/live.py:231: UserWarning: install \"ipywidgets\" for Jupyter support\n",
       "  warnings.warn('install \"ipywidgets\" for Jupyter support')\n"
      ]
     },
     "metadata": {},
     "output_type": "display_data"
    },
    {
     "data": {
      "text/html": [
       "<pre style=\"white-space:pre;overflow-x:auto;line-height:normal;font-family:Menlo,'DejaVu Sans Mono',consolas,'Courier New',monospace\">/Users/Jorge/Library/Caches/pypoetry/virtualenvs/lorawan-chatbot-rag-llm-Kbm_Xz7B-py3.11/lib/python3.11/site-packag\n",
       "es/rich/live.py:231: UserWarning: install \"ipywidgets\" for Jupyter support\n",
       "  warnings.warn('install \"ipywidgets\" for Jupyter support')\n",
       "</pre>\n"
      ],
      "text/plain": [
       "/Users/Jorge/Library/Caches/pypoetry/virtualenvs/lorawan-chatbot-rag-llm-Kbm_Xz7B-py3.11/lib/python3.11/site-packag\n",
       "es/rich/live.py:231: UserWarning: install \"ipywidgets\" for Jupyter support\n",
       "  warnings.warn('install \"ipywidgets\" for Jupyter support')\n"
      ]
     },
     "metadata": {},
     "output_type": "display_data"
    },
    {
     "data": {
      "text/html": [
       "<pre style=\"white-space:pre;overflow-x:auto;line-height:normal;font-family:Menlo,'DejaVu Sans Mono',consolas,'Courier New',monospace\">/Users/Jorge/Library/Caches/pypoetry/virtualenvs/lorawan-chatbot-rag-llm-Kbm_Xz7B-py3.11/lib/python3.11/site-packag\n",
       "es/rich/live.py:231: UserWarning: install \"ipywidgets\" for Jupyter support\n",
       "  warnings.warn('install \"ipywidgets\" for Jupyter support')\n",
       "</pre>\n"
      ],
      "text/plain": [
       "/Users/Jorge/Library/Caches/pypoetry/virtualenvs/lorawan-chatbot-rag-llm-Kbm_Xz7B-py3.11/lib/python3.11/site-packag\n",
       "es/rich/live.py:231: UserWarning: install \"ipywidgets\" for Jupyter support\n",
       "  warnings.warn('install \"ipywidgets\" for Jupyter support')\n"
      ]
     },
     "metadata": {},
     "output_type": "display_data"
    },
    {
     "data": {
      "text/html": [
       "<pre style=\"white-space:pre;overflow-x:auto;line-height:normal;font-family:Menlo,'DejaVu Sans Mono',consolas,'Courier New',monospace\">/Users/Jorge/Library/Caches/pypoetry/virtualenvs/lorawan-chatbot-rag-llm-Kbm_Xz7B-py3.11/lib/python3.11/site-packag\n",
       "es/rich/live.py:231: UserWarning: install \"ipywidgets\" for Jupyter support\n",
       "  warnings.warn('install \"ipywidgets\" for Jupyter support')\n",
       "</pre>\n"
      ],
      "text/plain": [
       "/Users/Jorge/Library/Caches/pypoetry/virtualenvs/lorawan-chatbot-rag-llm-Kbm_Xz7B-py3.11/lib/python3.11/site-packag\n",
       "es/rich/live.py:231: UserWarning: install \"ipywidgets\" for Jupyter support\n",
       "  warnings.warn('install \"ipywidgets\" for Jupyter support')\n"
      ]
     },
     "metadata": {},
     "output_type": "display_data"
    },
    {
     "data": {
      "text/html": [
       "<pre style=\"white-space:pre;overflow-x:auto;line-height:normal;font-family:Menlo,'DejaVu Sans Mono',consolas,'Courier New',monospace\">/Users/Jorge/Library/Caches/pypoetry/virtualenvs/lorawan-chatbot-rag-llm-Kbm_Xz7B-py3.11/lib/python3.11/site-packag\n",
       "es/rich/live.py:231: UserWarning: install \"ipywidgets\" for Jupyter support\n",
       "  warnings.warn('install \"ipywidgets\" for Jupyter support')\n",
       "</pre>\n"
      ],
      "text/plain": [
       "/Users/Jorge/Library/Caches/pypoetry/virtualenvs/lorawan-chatbot-rag-llm-Kbm_Xz7B-py3.11/lib/python3.11/site-packag\n",
       "es/rich/live.py:231: UserWarning: install \"ipywidgets\" for Jupyter support\n",
       "  warnings.warn('install \"ipywidgets\" for Jupyter support')\n"
      ]
     },
     "metadata": {},
     "output_type": "display_data"
    },
    {
     "data": {
      "text/html": [
       "<pre style=\"white-space:pre;overflow-x:auto;line-height:normal;font-family:Menlo,'DejaVu Sans Mono',consolas,'Courier New',monospace\">/Users/Jorge/Library/Caches/pypoetry/virtualenvs/lorawan-chatbot-rag-llm-Kbm_Xz7B-py3.11/lib/python3.11/site-packag\n",
       "es/rich/live.py:231: UserWarning: install \"ipywidgets\" for Jupyter support\n",
       "  warnings.warn('install \"ipywidgets\" for Jupyter support')\n",
       "</pre>\n"
      ],
      "text/plain": [
       "/Users/Jorge/Library/Caches/pypoetry/virtualenvs/lorawan-chatbot-rag-llm-Kbm_Xz7B-py3.11/lib/python3.11/site-packag\n",
       "es/rich/live.py:231: UserWarning: install \"ipywidgets\" for Jupyter support\n",
       "  warnings.warn('install \"ipywidgets\" for Jupyter support')\n"
      ]
     },
     "metadata": {},
     "output_type": "display_data"
    },
    {
     "data": {
      "text/html": [
       "<pre style=\"white-space:pre;overflow-x:auto;line-height:normal;font-family:Menlo,'DejaVu Sans Mono',consolas,'Courier New',monospace\">/Users/Jorge/Library/Caches/pypoetry/virtualenvs/lorawan-chatbot-rag-llm-Kbm_Xz7B-py3.11/lib/python3.11/site-packag\n",
       "es/rich/live.py:231: UserWarning: install \"ipywidgets\" for Jupyter support\n",
       "  warnings.warn('install \"ipywidgets\" for Jupyter support')\n",
       "</pre>\n"
      ],
      "text/plain": [
       "/Users/Jorge/Library/Caches/pypoetry/virtualenvs/lorawan-chatbot-rag-llm-Kbm_Xz7B-py3.11/lib/python3.11/site-packag\n",
       "es/rich/live.py:231: UserWarning: install \"ipywidgets\" for Jupyter support\n",
       "  warnings.warn('install \"ipywidgets\" for Jupyter support')\n"
      ]
     },
     "metadata": {},
     "output_type": "display_data"
    },
    {
     "data": {
      "text/html": [
       "<pre style=\"white-space:pre;overflow-x:auto;line-height:normal;font-family:Menlo,'DejaVu Sans Mono',consolas,'Courier New',monospace\">/Users/Jorge/Library/Caches/pypoetry/virtualenvs/lorawan-chatbot-rag-llm-Kbm_Xz7B-py3.11/lib/python3.11/site-packag\n",
       "es/rich/live.py:231: UserWarning: install \"ipywidgets\" for Jupyter support\n",
       "  warnings.warn('install \"ipywidgets\" for Jupyter support')\n",
       "</pre>\n"
      ],
      "text/plain": [
       "/Users/Jorge/Library/Caches/pypoetry/virtualenvs/lorawan-chatbot-rag-llm-Kbm_Xz7B-py3.11/lib/python3.11/site-packag\n",
       "es/rich/live.py:231: UserWarning: install \"ipywidgets\" for Jupyter support\n",
       "  warnings.warn('install \"ipywidgets\" for Jupyter support')\n"
      ]
     },
     "metadata": {},
     "output_type": "display_data"
    },
    {
     "data": {
      "text/html": [
       "<pre style=\"white-space:pre;overflow-x:auto;line-height:normal;font-family:Menlo,'DejaVu Sans Mono',consolas,'Courier New',monospace\">/Users/Jorge/Library/Caches/pypoetry/virtualenvs/lorawan-chatbot-rag-llm-Kbm_Xz7B-py3.11/lib/python3.11/site-packag\n",
       "es/rich/live.py:231: UserWarning: install \"ipywidgets\" for Jupyter support\n",
       "  warnings.warn('install \"ipywidgets\" for Jupyter support')\n",
       "</pre>\n"
      ],
      "text/plain": [
       "/Users/Jorge/Library/Caches/pypoetry/virtualenvs/lorawan-chatbot-rag-llm-Kbm_Xz7B-py3.11/lib/python3.11/site-packag\n",
       "es/rich/live.py:231: UserWarning: install \"ipywidgets\" for Jupyter support\n",
       "  warnings.warn('install \"ipywidgets\" for Jupyter support')\n"
      ]
     },
     "metadata": {},
     "output_type": "display_data"
    },
    {
     "data": {
      "text/html": [
       "<pre style=\"white-space:pre;overflow-x:auto;line-height:normal;font-family:Menlo,'DejaVu Sans Mono',consolas,'Courier New',monospace\"></pre>\n"
      ],
      "text/plain": []
     },
     "metadata": {},
     "output_type": "display_data"
    },
    {
     "data": {
      "text/html": [
       "<pre style=\"white-space:pre;overflow-x:auto;line-height:normal;font-family:Menlo,'DejaVu Sans Mono',consolas,'Courier New',monospace\">\n",
       "</pre>\n"
      ],
      "text/plain": [
       "\n"
      ]
     },
     "metadata": {},
     "output_type": "display_data"
    },
    {
     "data": {
      "text/html": [
       "<pre style=\"white-space:pre;overflow-x:auto;line-height:normal;font-family:Menlo,'DejaVu Sans Mono',consolas,'Courier New',monospace\">/Users/Jorge/Library/Caches/pypoetry/virtualenvs/lorawan-chatbot-rag-llm-Kbm_Xz7B-py3.11/lib/python3.11/site-packag\n",
       "es/rich/live.py:231: UserWarning: install \"ipywidgets\" for Jupyter support\n",
       "  warnings.warn('install \"ipywidgets\" for Jupyter support')\n",
       "</pre>\n"
      ],
      "text/plain": [
       "/Users/Jorge/Library/Caches/pypoetry/virtualenvs/lorawan-chatbot-rag-llm-Kbm_Xz7B-py3.11/lib/python3.11/site-packag\n",
       "es/rich/live.py:231: UserWarning: install \"ipywidgets\" for Jupyter support\n",
       "  warnings.warn('install \"ipywidgets\" for Jupyter support')\n"
      ]
     },
     "metadata": {},
     "output_type": "display_data"
    },
    {
     "data": {
      "text/html": [
       "<pre style=\"white-space:pre;overflow-x:auto;line-height:normal;font-family:Menlo,'DejaVu Sans Mono',consolas,'Courier New',monospace\">/Users/Jorge/Library/Caches/pypoetry/virtualenvs/lorawan-chatbot-rag-llm-Kbm_Xz7B-py3.11/lib/python3.11/site-packag\n",
       "es/rich/live.py:231: UserWarning: install \"ipywidgets\" for Jupyter support\n",
       "  warnings.warn('install \"ipywidgets\" for Jupyter support')\n",
       "</pre>\n"
      ],
      "text/plain": [
       "/Users/Jorge/Library/Caches/pypoetry/virtualenvs/lorawan-chatbot-rag-llm-Kbm_Xz7B-py3.11/lib/python3.11/site-packag\n",
       "es/rich/live.py:231: UserWarning: install \"ipywidgets\" for Jupyter support\n",
       "  warnings.warn('install \"ipywidgets\" for Jupyter support')\n"
      ]
     },
     "metadata": {},
     "output_type": "display_data"
    },
    {
     "data": {
      "text/html": [
       "<pre style=\"white-space:pre;overflow-x:auto;line-height:normal;font-family:Menlo,'DejaVu Sans Mono',consolas,'Courier New',monospace\">/Users/Jorge/Library/Caches/pypoetry/virtualenvs/lorawan-chatbot-rag-llm-Kbm_Xz7B-py3.11/lib/python3.11/site-packag\n",
       "es/rich/live.py:231: UserWarning: install \"ipywidgets\" for Jupyter support\n",
       "  warnings.warn('install \"ipywidgets\" for Jupyter support')\n",
       "</pre>\n"
      ],
      "text/plain": [
       "/Users/Jorge/Library/Caches/pypoetry/virtualenvs/lorawan-chatbot-rag-llm-Kbm_Xz7B-py3.11/lib/python3.11/site-packag\n",
       "es/rich/live.py:231: UserWarning: install \"ipywidgets\" for Jupyter support\n",
       "  warnings.warn('install \"ipywidgets\" for Jupyter support')\n"
      ]
     },
     "metadata": {},
     "output_type": "display_data"
    },
    {
     "data": {
      "text/html": [
       "<pre style=\"white-space:pre;overflow-x:auto;line-height:normal;font-family:Menlo,'DejaVu Sans Mono',consolas,'Courier New',monospace\">/Users/Jorge/Library/Caches/pypoetry/virtualenvs/lorawan-chatbot-rag-llm-Kbm_Xz7B-py3.11/lib/python3.11/site-packag\n",
       "es/rich/live.py:231: UserWarning: install \"ipywidgets\" for Jupyter support\n",
       "  warnings.warn('install \"ipywidgets\" for Jupyter support')\n",
       "</pre>\n"
      ],
      "text/plain": [
       "/Users/Jorge/Library/Caches/pypoetry/virtualenvs/lorawan-chatbot-rag-llm-Kbm_Xz7B-py3.11/lib/python3.11/site-packag\n",
       "es/rich/live.py:231: UserWarning: install \"ipywidgets\" for Jupyter support\n",
       "  warnings.warn('install \"ipywidgets\" for Jupyter support')\n"
      ]
     },
     "metadata": {},
     "output_type": "display_data"
    },
    {
     "data": {
      "text/html": [
       "<pre style=\"white-space:pre;overflow-x:auto;line-height:normal;font-family:Menlo,'DejaVu Sans Mono',consolas,'Courier New',monospace\">/Users/Jorge/Library/Caches/pypoetry/virtualenvs/lorawan-chatbot-rag-llm-Kbm_Xz7B-py3.11/lib/python3.11/site-packag\n",
       "es/rich/live.py:231: UserWarning: install \"ipywidgets\" for Jupyter support\n",
       "  warnings.warn('install \"ipywidgets\" for Jupyter support')\n",
       "</pre>\n"
      ],
      "text/plain": [
       "/Users/Jorge/Library/Caches/pypoetry/virtualenvs/lorawan-chatbot-rag-llm-Kbm_Xz7B-py3.11/lib/python3.11/site-packag\n",
       "es/rich/live.py:231: UserWarning: install \"ipywidgets\" for Jupyter support\n",
       "  warnings.warn('install \"ipywidgets\" for Jupyter support')\n"
      ]
     },
     "metadata": {},
     "output_type": "display_data"
    },
    {
     "data": {
      "text/html": [
       "<pre style=\"white-space:pre;overflow-x:auto;line-height:normal;font-family:Menlo,'DejaVu Sans Mono',consolas,'Courier New',monospace\">/Users/Jorge/Library/Caches/pypoetry/virtualenvs/lorawan-chatbot-rag-llm-Kbm_Xz7B-py3.11/lib/python3.11/site-packag\n",
       "es/rich/live.py:231: UserWarning: install \"ipywidgets\" for Jupyter support\n",
       "  warnings.warn('install \"ipywidgets\" for Jupyter support')\n",
       "</pre>\n"
      ],
      "text/plain": [
       "/Users/Jorge/Library/Caches/pypoetry/virtualenvs/lorawan-chatbot-rag-llm-Kbm_Xz7B-py3.11/lib/python3.11/site-packag\n",
       "es/rich/live.py:231: UserWarning: install \"ipywidgets\" for Jupyter support\n",
       "  warnings.warn('install \"ipywidgets\" for Jupyter support')\n"
      ]
     },
     "metadata": {},
     "output_type": "display_data"
    },
    {
     "data": {
      "text/html": [
       "<pre style=\"white-space:pre;overflow-x:auto;line-height:normal;font-family:Menlo,'DejaVu Sans Mono',consolas,'Courier New',monospace\">/Users/Jorge/Library/Caches/pypoetry/virtualenvs/lorawan-chatbot-rag-llm-Kbm_Xz7B-py3.11/lib/python3.11/site-packag\n",
       "es/rich/live.py:231: UserWarning: install \"ipywidgets\" for Jupyter support\n",
       "  warnings.warn('install \"ipywidgets\" for Jupyter support')\n",
       "</pre>\n"
      ],
      "text/plain": [
       "/Users/Jorge/Library/Caches/pypoetry/virtualenvs/lorawan-chatbot-rag-llm-Kbm_Xz7B-py3.11/lib/python3.11/site-packag\n",
       "es/rich/live.py:231: UserWarning: install \"ipywidgets\" for Jupyter support\n",
       "  warnings.warn('install \"ipywidgets\" for Jupyter support')\n"
      ]
     },
     "metadata": {},
     "output_type": "display_data"
    },
    {
     "data": {
      "text/html": [
       "<pre style=\"white-space:pre;overflow-x:auto;line-height:normal;font-family:Menlo,'DejaVu Sans Mono',consolas,'Courier New',monospace\">/Users/Jorge/Library/Caches/pypoetry/virtualenvs/lorawan-chatbot-rag-llm-Kbm_Xz7B-py3.11/lib/python3.11/site-packag\n",
       "es/rich/live.py:231: UserWarning: install \"ipywidgets\" for Jupyter support\n",
       "  warnings.warn('install \"ipywidgets\" for Jupyter support')\n",
       "</pre>\n"
      ],
      "text/plain": [
       "/Users/Jorge/Library/Caches/pypoetry/virtualenvs/lorawan-chatbot-rag-llm-Kbm_Xz7B-py3.11/lib/python3.11/site-packag\n",
       "es/rich/live.py:231: UserWarning: install \"ipywidgets\" for Jupyter support\n",
       "  warnings.warn('install \"ipywidgets\" for Jupyter support')\n"
      ]
     },
     "metadata": {},
     "output_type": "display_data"
    },
    {
     "data": {
      "text/html": [
       "<pre style=\"white-space:pre;overflow-x:auto;line-height:normal;font-family:Menlo,'DejaVu Sans Mono',consolas,'Courier New',monospace\">/Users/Jorge/Library/Caches/pypoetry/virtualenvs/lorawan-chatbot-rag-llm-Kbm_Xz7B-py3.11/lib/python3.11/site-packag\n",
       "es/rich/live.py:231: UserWarning: install \"ipywidgets\" for Jupyter support\n",
       "  warnings.warn('install \"ipywidgets\" for Jupyter support')\n",
       "</pre>\n"
      ],
      "text/plain": [
       "/Users/Jorge/Library/Caches/pypoetry/virtualenvs/lorawan-chatbot-rag-llm-Kbm_Xz7B-py3.11/lib/python3.11/site-packag\n",
       "es/rich/live.py:231: UserWarning: install \"ipywidgets\" for Jupyter support\n",
       "  warnings.warn('install \"ipywidgets\" for Jupyter support')\n"
      ]
     },
     "metadata": {},
     "output_type": "display_data"
    },
    {
     "data": {
      "text/html": [
       "<pre style=\"white-space:pre;overflow-x:auto;line-height:normal;font-family:Menlo,'DejaVu Sans Mono',consolas,'Courier New',monospace\">/Users/Jorge/Library/Caches/pypoetry/virtualenvs/lorawan-chatbot-rag-llm-Kbm_Xz7B-py3.11/lib/python3.11/site-packag\n",
       "es/rich/live.py:231: UserWarning: install \"ipywidgets\" for Jupyter support\n",
       "  warnings.warn('install \"ipywidgets\" for Jupyter support')\n",
       "</pre>\n"
      ],
      "text/plain": [
       "/Users/Jorge/Library/Caches/pypoetry/virtualenvs/lorawan-chatbot-rag-llm-Kbm_Xz7B-py3.11/lib/python3.11/site-packag\n",
       "es/rich/live.py:231: UserWarning: install \"ipywidgets\" for Jupyter support\n",
       "  warnings.warn('install \"ipywidgets\" for Jupyter support')\n"
      ]
     },
     "metadata": {},
     "output_type": "display_data"
    },
    {
     "data": {
      "text/html": [
       "<pre style=\"white-space:pre;overflow-x:auto;line-height:normal;font-family:Menlo,'DejaVu Sans Mono',consolas,'Courier New',monospace\">/Users/Jorge/Library/Caches/pypoetry/virtualenvs/lorawan-chatbot-rag-llm-Kbm_Xz7B-py3.11/lib/python3.11/site-packag\n",
       "es/rich/live.py:231: UserWarning: install \"ipywidgets\" for Jupyter support\n",
       "  warnings.warn('install \"ipywidgets\" for Jupyter support')\n",
       "</pre>\n"
      ],
      "text/plain": [
       "/Users/Jorge/Library/Caches/pypoetry/virtualenvs/lorawan-chatbot-rag-llm-Kbm_Xz7B-py3.11/lib/python3.11/site-packag\n",
       "es/rich/live.py:231: UserWarning: install \"ipywidgets\" for Jupyter support\n",
       "  warnings.warn('install \"ipywidgets\" for Jupyter support')\n"
      ]
     },
     "metadata": {},
     "output_type": "display_data"
    },
    {
     "data": {
      "text/html": [
       "<pre style=\"white-space:pre;overflow-x:auto;line-height:normal;font-family:Menlo,'DejaVu Sans Mono',consolas,'Courier New',monospace\"></pre>\n"
      ],
      "text/plain": []
     },
     "metadata": {},
     "output_type": "display_data"
    },
    {
     "data": {
      "text/html": [
       "<pre style=\"white-space:pre;overflow-x:auto;line-height:normal;font-family:Menlo,'DejaVu Sans Mono',consolas,'Courier New',monospace\">\n",
       "</pre>\n"
      ],
      "text/plain": [
       "\n"
      ]
     },
     "metadata": {},
     "output_type": "display_data"
    },
    {
     "data": {
      "text/html": [
       "<pre style=\"white-space:pre;overflow-x:auto;line-height:normal;font-family:Menlo,'DejaVu Sans Mono',consolas,'Courier New',monospace\">/Users/Jorge/Library/Caches/pypoetry/virtualenvs/lorawan-chatbot-rag-llm-Kbm_Xz7B-py3.11/lib/python3.11/site-packag\n",
       "es/rich/live.py:231: UserWarning: install \"ipywidgets\" for Jupyter support\n",
       "  warnings.warn('install \"ipywidgets\" for Jupyter support')\n",
       "</pre>\n"
      ],
      "text/plain": [
       "/Users/Jorge/Library/Caches/pypoetry/virtualenvs/lorawan-chatbot-rag-llm-Kbm_Xz7B-py3.11/lib/python3.11/site-packag\n",
       "es/rich/live.py:231: UserWarning: install \"ipywidgets\" for Jupyter support\n",
       "  warnings.warn('install \"ipywidgets\" for Jupyter support')\n"
      ]
     },
     "metadata": {},
     "output_type": "display_data"
    },
    {
     "data": {
      "text/html": [
       "<pre style=\"white-space:pre;overflow-x:auto;line-height:normal;font-family:Menlo,'DejaVu Sans Mono',consolas,'Courier New',monospace\">/Users/Jorge/Library/Caches/pypoetry/virtualenvs/lorawan-chatbot-rag-llm-Kbm_Xz7B-py3.11/lib/python3.11/site-packag\n",
       "es/rich/live.py:231: UserWarning: install \"ipywidgets\" for Jupyter support\n",
       "  warnings.warn('install \"ipywidgets\" for Jupyter support')\n",
       "</pre>\n"
      ],
      "text/plain": [
       "/Users/Jorge/Library/Caches/pypoetry/virtualenvs/lorawan-chatbot-rag-llm-Kbm_Xz7B-py3.11/lib/python3.11/site-packag\n",
       "es/rich/live.py:231: UserWarning: install \"ipywidgets\" for Jupyter support\n",
       "  warnings.warn('install \"ipywidgets\" for Jupyter support')\n"
      ]
     },
     "metadata": {},
     "output_type": "display_data"
    },
    {
     "data": {
      "text/html": [
       "<pre style=\"white-space:pre;overflow-x:auto;line-height:normal;font-family:Menlo,'DejaVu Sans Mono',consolas,'Courier New',monospace\">/Users/Jorge/Library/Caches/pypoetry/virtualenvs/lorawan-chatbot-rag-llm-Kbm_Xz7B-py3.11/lib/python3.11/site-packag\n",
       "es/rich/live.py:231: UserWarning: install \"ipywidgets\" for Jupyter support\n",
       "  warnings.warn('install \"ipywidgets\" for Jupyter support')\n",
       "</pre>\n"
      ],
      "text/plain": [
       "/Users/Jorge/Library/Caches/pypoetry/virtualenvs/lorawan-chatbot-rag-llm-Kbm_Xz7B-py3.11/lib/python3.11/site-packag\n",
       "es/rich/live.py:231: UserWarning: install \"ipywidgets\" for Jupyter support\n",
       "  warnings.warn('install \"ipywidgets\" for Jupyter support')\n"
      ]
     },
     "metadata": {},
     "output_type": "display_data"
    },
    {
     "data": {
      "text/html": [
       "<pre style=\"white-space:pre;overflow-x:auto;line-height:normal;font-family:Menlo,'DejaVu Sans Mono',consolas,'Courier New',monospace\">/Users/Jorge/Library/Caches/pypoetry/virtualenvs/lorawan-chatbot-rag-llm-Kbm_Xz7B-py3.11/lib/python3.11/site-packag\n",
       "es/rich/live.py:231: UserWarning: install \"ipywidgets\" for Jupyter support\n",
       "  warnings.warn('install \"ipywidgets\" for Jupyter support')\n",
       "</pre>\n"
      ],
      "text/plain": [
       "/Users/Jorge/Library/Caches/pypoetry/virtualenvs/lorawan-chatbot-rag-llm-Kbm_Xz7B-py3.11/lib/python3.11/site-packag\n",
       "es/rich/live.py:231: UserWarning: install \"ipywidgets\" for Jupyter support\n",
       "  warnings.warn('install \"ipywidgets\" for Jupyter support')\n"
      ]
     },
     "metadata": {},
     "output_type": "display_data"
    },
    {
     "data": {
      "text/html": [
       "<pre style=\"white-space:pre;overflow-x:auto;line-height:normal;font-family:Menlo,'DejaVu Sans Mono',consolas,'Courier New',monospace\">/Users/Jorge/Library/Caches/pypoetry/virtualenvs/lorawan-chatbot-rag-llm-Kbm_Xz7B-py3.11/lib/python3.11/site-packag\n",
       "es/rich/live.py:231: UserWarning: install \"ipywidgets\" for Jupyter support\n",
       "  warnings.warn('install \"ipywidgets\" for Jupyter support')\n",
       "</pre>\n"
      ],
      "text/plain": [
       "/Users/Jorge/Library/Caches/pypoetry/virtualenvs/lorawan-chatbot-rag-llm-Kbm_Xz7B-py3.11/lib/python3.11/site-packag\n",
       "es/rich/live.py:231: UserWarning: install \"ipywidgets\" for Jupyter support\n",
       "  warnings.warn('install \"ipywidgets\" for Jupyter support')\n"
      ]
     },
     "metadata": {},
     "output_type": "display_data"
    },
    {
     "data": {
      "text/html": [
       "<pre style=\"white-space:pre;overflow-x:auto;line-height:normal;font-family:Menlo,'DejaVu Sans Mono',consolas,'Courier New',monospace\">/Users/Jorge/Library/Caches/pypoetry/virtualenvs/lorawan-chatbot-rag-llm-Kbm_Xz7B-py3.11/lib/python3.11/site-packag\n",
       "es/rich/live.py:231: UserWarning: install \"ipywidgets\" for Jupyter support\n",
       "  warnings.warn('install \"ipywidgets\" for Jupyter support')\n",
       "</pre>\n"
      ],
      "text/plain": [
       "/Users/Jorge/Library/Caches/pypoetry/virtualenvs/lorawan-chatbot-rag-llm-Kbm_Xz7B-py3.11/lib/python3.11/site-packag\n",
       "es/rich/live.py:231: UserWarning: install \"ipywidgets\" for Jupyter support\n",
       "  warnings.warn('install \"ipywidgets\" for Jupyter support')\n"
      ]
     },
     "metadata": {},
     "output_type": "display_data"
    },
    {
     "data": {
      "text/html": [
       "<pre style=\"white-space:pre;overflow-x:auto;line-height:normal;font-family:Menlo,'DejaVu Sans Mono',consolas,'Courier New',monospace\">/Users/Jorge/Library/Caches/pypoetry/virtualenvs/lorawan-chatbot-rag-llm-Kbm_Xz7B-py3.11/lib/python3.11/site-packag\n",
       "es/rich/live.py:231: UserWarning: install \"ipywidgets\" for Jupyter support\n",
       "  warnings.warn('install \"ipywidgets\" for Jupyter support')\n",
       "</pre>\n"
      ],
      "text/plain": [
       "/Users/Jorge/Library/Caches/pypoetry/virtualenvs/lorawan-chatbot-rag-llm-Kbm_Xz7B-py3.11/lib/python3.11/site-packag\n",
       "es/rich/live.py:231: UserWarning: install \"ipywidgets\" for Jupyter support\n",
       "  warnings.warn('install \"ipywidgets\" for Jupyter support')\n"
      ]
     },
     "metadata": {},
     "output_type": "display_data"
    },
    {
     "data": {
      "text/html": [
       "<pre style=\"white-space:pre;overflow-x:auto;line-height:normal;font-family:Menlo,'DejaVu Sans Mono',consolas,'Courier New',monospace\">/Users/Jorge/Library/Caches/pypoetry/virtualenvs/lorawan-chatbot-rag-llm-Kbm_Xz7B-py3.11/lib/python3.11/site-packag\n",
       "es/rich/live.py:231: UserWarning: install \"ipywidgets\" for Jupyter support\n",
       "  warnings.warn('install \"ipywidgets\" for Jupyter support')\n",
       "</pre>\n"
      ],
      "text/plain": [
       "/Users/Jorge/Library/Caches/pypoetry/virtualenvs/lorawan-chatbot-rag-llm-Kbm_Xz7B-py3.11/lib/python3.11/site-packag\n",
       "es/rich/live.py:231: UserWarning: install \"ipywidgets\" for Jupyter support\n",
       "  warnings.warn('install \"ipywidgets\" for Jupyter support')\n"
      ]
     },
     "metadata": {},
     "output_type": "display_data"
    },
    {
     "data": {
      "text/html": [
       "<pre style=\"white-space:pre;overflow-x:auto;line-height:normal;font-family:Menlo,'DejaVu Sans Mono',consolas,'Courier New',monospace\">/Users/Jorge/Library/Caches/pypoetry/virtualenvs/lorawan-chatbot-rag-llm-Kbm_Xz7B-py3.11/lib/python3.11/site-packag\n",
       "es/rich/live.py:231: UserWarning: install \"ipywidgets\" for Jupyter support\n",
       "  warnings.warn('install \"ipywidgets\" for Jupyter support')\n",
       "</pre>\n"
      ],
      "text/plain": [
       "/Users/Jorge/Library/Caches/pypoetry/virtualenvs/lorawan-chatbot-rag-llm-Kbm_Xz7B-py3.11/lib/python3.11/site-packag\n",
       "es/rich/live.py:231: UserWarning: install \"ipywidgets\" for Jupyter support\n",
       "  warnings.warn('install \"ipywidgets\" for Jupyter support')\n"
      ]
     },
     "metadata": {},
     "output_type": "display_data"
    },
    {
     "data": {
      "text/html": [
       "<pre style=\"white-space:pre;overflow-x:auto;line-height:normal;font-family:Menlo,'DejaVu Sans Mono',consolas,'Courier New',monospace\">/Users/Jorge/Library/Caches/pypoetry/virtualenvs/lorawan-chatbot-rag-llm-Kbm_Xz7B-py3.11/lib/python3.11/site-packag\n",
       "es/rich/live.py:231: UserWarning: install \"ipywidgets\" for Jupyter support\n",
       "  warnings.warn('install \"ipywidgets\" for Jupyter support')\n",
       "</pre>\n"
      ],
      "text/plain": [
       "/Users/Jorge/Library/Caches/pypoetry/virtualenvs/lorawan-chatbot-rag-llm-Kbm_Xz7B-py3.11/lib/python3.11/site-packag\n",
       "es/rich/live.py:231: UserWarning: install \"ipywidgets\" for Jupyter support\n",
       "  warnings.warn('install \"ipywidgets\" for Jupyter support')\n"
      ]
     },
     "metadata": {},
     "output_type": "display_data"
    },
    {
     "data": {
      "text/html": [
       "<pre style=\"white-space:pre;overflow-x:auto;line-height:normal;font-family:Menlo,'DejaVu Sans Mono',consolas,'Courier New',monospace\"></pre>\n"
      ],
      "text/plain": []
     },
     "metadata": {},
     "output_type": "display_data"
    },
    {
     "data": {
      "text/html": [
       "<pre style=\"white-space:pre;overflow-x:auto;line-height:normal;font-family:Menlo,'DejaVu Sans Mono',consolas,'Courier New',monospace\">\n",
       "</pre>\n"
      ],
      "text/plain": [
       "\n"
      ]
     },
     "metadata": {},
     "output_type": "display_data"
    },
    {
     "data": {
      "text/html": [
       "<pre style=\"white-space:pre;overflow-x:auto;line-height:normal;font-family:Menlo,'DejaVu Sans Mono',consolas,'Courier New',monospace\">/Users/Jorge/Library/Caches/pypoetry/virtualenvs/lorawan-chatbot-rag-llm-Kbm_Xz7B-py3.11/lib/python3.11/site-packag\n",
       "es/rich/live.py:231: UserWarning: install \"ipywidgets\" for Jupyter support\n",
       "  warnings.warn('install \"ipywidgets\" for Jupyter support')\n",
       "</pre>\n"
      ],
      "text/plain": [
       "/Users/Jorge/Library/Caches/pypoetry/virtualenvs/lorawan-chatbot-rag-llm-Kbm_Xz7B-py3.11/lib/python3.11/site-packag\n",
       "es/rich/live.py:231: UserWarning: install \"ipywidgets\" for Jupyter support\n",
       "  warnings.warn('install \"ipywidgets\" for Jupyter support')\n"
      ]
     },
     "metadata": {},
     "output_type": "display_data"
    },
    {
     "data": {
      "text/html": [
       "<pre style=\"white-space:pre;overflow-x:auto;line-height:normal;font-family:Menlo,'DejaVu Sans Mono',consolas,'Courier New',monospace\">/Users/Jorge/Library/Caches/pypoetry/virtualenvs/lorawan-chatbot-rag-llm-Kbm_Xz7B-py3.11/lib/python3.11/site-packag\n",
       "es/rich/live.py:231: UserWarning: install \"ipywidgets\" for Jupyter support\n",
       "  warnings.warn('install \"ipywidgets\" for Jupyter support')\n",
       "</pre>\n"
      ],
      "text/plain": [
       "/Users/Jorge/Library/Caches/pypoetry/virtualenvs/lorawan-chatbot-rag-llm-Kbm_Xz7B-py3.11/lib/python3.11/site-packag\n",
       "es/rich/live.py:231: UserWarning: install \"ipywidgets\" for Jupyter support\n",
       "  warnings.warn('install \"ipywidgets\" for Jupyter support')\n"
      ]
     },
     "metadata": {},
     "output_type": "display_data"
    },
    {
     "data": {
      "text/html": [
       "<pre style=\"white-space:pre;overflow-x:auto;line-height:normal;font-family:Menlo,'DejaVu Sans Mono',consolas,'Courier New',monospace\">/Users/Jorge/Library/Caches/pypoetry/virtualenvs/lorawan-chatbot-rag-llm-Kbm_Xz7B-py3.11/lib/python3.11/site-packag\n",
       "es/rich/live.py:231: UserWarning: install \"ipywidgets\" for Jupyter support\n",
       "  warnings.warn('install \"ipywidgets\" for Jupyter support')\n",
       "</pre>\n"
      ],
      "text/plain": [
       "/Users/Jorge/Library/Caches/pypoetry/virtualenvs/lorawan-chatbot-rag-llm-Kbm_Xz7B-py3.11/lib/python3.11/site-packag\n",
       "es/rich/live.py:231: UserWarning: install \"ipywidgets\" for Jupyter support\n",
       "  warnings.warn('install \"ipywidgets\" for Jupyter support')\n"
      ]
     },
     "metadata": {},
     "output_type": "display_data"
    },
    {
     "data": {
      "text/html": [
       "<pre style=\"white-space:pre;overflow-x:auto;line-height:normal;font-family:Menlo,'DejaVu Sans Mono',consolas,'Courier New',monospace\">/Users/Jorge/Library/Caches/pypoetry/virtualenvs/lorawan-chatbot-rag-llm-Kbm_Xz7B-py3.11/lib/python3.11/site-packag\n",
       "es/rich/live.py:231: UserWarning: install \"ipywidgets\" for Jupyter support\n",
       "  warnings.warn('install \"ipywidgets\" for Jupyter support')\n",
       "</pre>\n"
      ],
      "text/plain": [
       "/Users/Jorge/Library/Caches/pypoetry/virtualenvs/lorawan-chatbot-rag-llm-Kbm_Xz7B-py3.11/lib/python3.11/site-packag\n",
       "es/rich/live.py:231: UserWarning: install \"ipywidgets\" for Jupyter support\n",
       "  warnings.warn('install \"ipywidgets\" for Jupyter support')\n"
      ]
     },
     "metadata": {},
     "output_type": "display_data"
    },
    {
     "data": {
      "text/html": [
       "<pre style=\"white-space:pre;overflow-x:auto;line-height:normal;font-family:Menlo,'DejaVu Sans Mono',consolas,'Courier New',monospace\">/Users/Jorge/Library/Caches/pypoetry/virtualenvs/lorawan-chatbot-rag-llm-Kbm_Xz7B-py3.11/lib/python3.11/site-packag\n",
       "es/rich/live.py:231: UserWarning: install \"ipywidgets\" for Jupyter support\n",
       "  warnings.warn('install \"ipywidgets\" for Jupyter support')\n",
       "</pre>\n"
      ],
      "text/plain": [
       "/Users/Jorge/Library/Caches/pypoetry/virtualenvs/lorawan-chatbot-rag-llm-Kbm_Xz7B-py3.11/lib/python3.11/site-packag\n",
       "es/rich/live.py:231: UserWarning: install \"ipywidgets\" for Jupyter support\n",
       "  warnings.warn('install \"ipywidgets\" for Jupyter support')\n"
      ]
     },
     "metadata": {},
     "output_type": "display_data"
    },
    {
     "data": {
      "text/html": [
       "<pre style=\"white-space:pre;overflow-x:auto;line-height:normal;font-family:Menlo,'DejaVu Sans Mono',consolas,'Courier New',monospace\">/Users/Jorge/Library/Caches/pypoetry/virtualenvs/lorawan-chatbot-rag-llm-Kbm_Xz7B-py3.11/lib/python3.11/site-packag\n",
       "es/rich/live.py:231: UserWarning: install \"ipywidgets\" for Jupyter support\n",
       "  warnings.warn('install \"ipywidgets\" for Jupyter support')\n",
       "</pre>\n"
      ],
      "text/plain": [
       "/Users/Jorge/Library/Caches/pypoetry/virtualenvs/lorawan-chatbot-rag-llm-Kbm_Xz7B-py3.11/lib/python3.11/site-packag\n",
       "es/rich/live.py:231: UserWarning: install \"ipywidgets\" for Jupyter support\n",
       "  warnings.warn('install \"ipywidgets\" for Jupyter support')\n"
      ]
     },
     "metadata": {},
     "output_type": "display_data"
    },
    {
     "data": {
      "text/html": [
       "<pre style=\"white-space:pre;overflow-x:auto;line-height:normal;font-family:Menlo,'DejaVu Sans Mono',consolas,'Courier New',monospace\">/Users/Jorge/Library/Caches/pypoetry/virtualenvs/lorawan-chatbot-rag-llm-Kbm_Xz7B-py3.11/lib/python3.11/site-packag\n",
       "es/rich/live.py:231: UserWarning: install \"ipywidgets\" for Jupyter support\n",
       "  warnings.warn('install \"ipywidgets\" for Jupyter support')\n",
       "</pre>\n"
      ],
      "text/plain": [
       "/Users/Jorge/Library/Caches/pypoetry/virtualenvs/lorawan-chatbot-rag-llm-Kbm_Xz7B-py3.11/lib/python3.11/site-packag\n",
       "es/rich/live.py:231: UserWarning: install \"ipywidgets\" for Jupyter support\n",
       "  warnings.warn('install \"ipywidgets\" for Jupyter support')\n"
      ]
     },
     "metadata": {},
     "output_type": "display_data"
    },
    {
     "data": {
      "text/html": [
       "<pre style=\"white-space:pre;overflow-x:auto;line-height:normal;font-family:Menlo,'DejaVu Sans Mono',consolas,'Courier New',monospace\">/Users/Jorge/Library/Caches/pypoetry/virtualenvs/lorawan-chatbot-rag-llm-Kbm_Xz7B-py3.11/lib/python3.11/site-packag\n",
       "es/rich/live.py:231: UserWarning: install \"ipywidgets\" for Jupyter support\n",
       "  warnings.warn('install \"ipywidgets\" for Jupyter support')\n",
       "</pre>\n"
      ],
      "text/plain": [
       "/Users/Jorge/Library/Caches/pypoetry/virtualenvs/lorawan-chatbot-rag-llm-Kbm_Xz7B-py3.11/lib/python3.11/site-packag\n",
       "es/rich/live.py:231: UserWarning: install \"ipywidgets\" for Jupyter support\n",
       "  warnings.warn('install \"ipywidgets\" for Jupyter support')\n"
      ]
     },
     "metadata": {},
     "output_type": "display_data"
    },
    {
     "data": {
      "text/html": [
       "<pre style=\"white-space:pre;overflow-x:auto;line-height:normal;font-family:Menlo,'DejaVu Sans Mono',consolas,'Courier New',monospace\">/Users/Jorge/Library/Caches/pypoetry/virtualenvs/lorawan-chatbot-rag-llm-Kbm_Xz7B-py3.11/lib/python3.11/site-packag\n",
       "es/rich/live.py:231: UserWarning: install \"ipywidgets\" for Jupyter support\n",
       "  warnings.warn('install \"ipywidgets\" for Jupyter support')\n",
       "</pre>\n"
      ],
      "text/plain": [
       "/Users/Jorge/Library/Caches/pypoetry/virtualenvs/lorawan-chatbot-rag-llm-Kbm_Xz7B-py3.11/lib/python3.11/site-packag\n",
       "es/rich/live.py:231: UserWarning: install \"ipywidgets\" for Jupyter support\n",
       "  warnings.warn('install \"ipywidgets\" for Jupyter support')\n"
      ]
     },
     "metadata": {},
     "output_type": "display_data"
    },
    {
     "data": {
      "text/html": [
       "<pre style=\"white-space:pre;overflow-x:auto;line-height:normal;font-family:Menlo,'DejaVu Sans Mono',consolas,'Courier New',monospace\"></pre>\n"
      ],
      "text/plain": []
     },
     "metadata": {},
     "output_type": "display_data"
    },
    {
     "data": {
      "text/html": [
       "<pre style=\"white-space:pre;overflow-x:auto;line-height:normal;font-family:Menlo,'DejaVu Sans Mono',consolas,'Courier New',monospace\">\n",
       "</pre>\n"
      ],
      "text/plain": [
       "\n"
      ]
     },
     "metadata": {},
     "output_type": "display_data"
    },
    {
     "data": {
      "text/html": [
       "<pre style=\"white-space:pre;overflow-x:auto;line-height:normal;font-family:Menlo,'DejaVu Sans Mono',consolas,'Courier New',monospace\">/Users/Jorge/Library/Caches/pypoetry/virtualenvs/lorawan-chatbot-rag-llm-Kbm_Xz7B-py3.11/lib/python3.11/site-packag\n",
       "es/rich/live.py:231: UserWarning: install \"ipywidgets\" for Jupyter support\n",
       "  warnings.warn('install \"ipywidgets\" for Jupyter support')\n",
       "</pre>\n"
      ],
      "text/plain": [
       "/Users/Jorge/Library/Caches/pypoetry/virtualenvs/lorawan-chatbot-rag-llm-Kbm_Xz7B-py3.11/lib/python3.11/site-packag\n",
       "es/rich/live.py:231: UserWarning: install \"ipywidgets\" for Jupyter support\n",
       "  warnings.warn('install \"ipywidgets\" for Jupyter support')\n"
      ]
     },
     "metadata": {},
     "output_type": "display_data"
    },
    {
     "data": {
      "text/html": [
       "<pre style=\"white-space:pre;overflow-x:auto;line-height:normal;font-family:Menlo,'DejaVu Sans Mono',consolas,'Courier New',monospace\">/Users/Jorge/Library/Caches/pypoetry/virtualenvs/lorawan-chatbot-rag-llm-Kbm_Xz7B-py3.11/lib/python3.11/site-packag\n",
       "es/rich/live.py:231: UserWarning: install \"ipywidgets\" for Jupyter support\n",
       "  warnings.warn('install \"ipywidgets\" for Jupyter support')\n",
       "</pre>\n"
      ],
      "text/plain": [
       "/Users/Jorge/Library/Caches/pypoetry/virtualenvs/lorawan-chatbot-rag-llm-Kbm_Xz7B-py3.11/lib/python3.11/site-packag\n",
       "es/rich/live.py:231: UserWarning: install \"ipywidgets\" for Jupyter support\n",
       "  warnings.warn('install \"ipywidgets\" for Jupyter support')\n"
      ]
     },
     "metadata": {},
     "output_type": "display_data"
    },
    {
     "data": {
      "text/html": [
       "<pre style=\"white-space:pre;overflow-x:auto;line-height:normal;font-family:Menlo,'DejaVu Sans Mono',consolas,'Courier New',monospace\">/Users/Jorge/Library/Caches/pypoetry/virtualenvs/lorawan-chatbot-rag-llm-Kbm_Xz7B-py3.11/lib/python3.11/site-packag\n",
       "es/rich/live.py:231: UserWarning: install \"ipywidgets\" for Jupyter support\n",
       "  warnings.warn('install \"ipywidgets\" for Jupyter support')\n",
       "</pre>\n"
      ],
      "text/plain": [
       "/Users/Jorge/Library/Caches/pypoetry/virtualenvs/lorawan-chatbot-rag-llm-Kbm_Xz7B-py3.11/lib/python3.11/site-packag\n",
       "es/rich/live.py:231: UserWarning: install \"ipywidgets\" for Jupyter support\n",
       "  warnings.warn('install \"ipywidgets\" for Jupyter support')\n"
      ]
     },
     "metadata": {},
     "output_type": "display_data"
    },
    {
     "data": {
      "text/html": [
       "<pre style=\"white-space:pre;overflow-x:auto;line-height:normal;font-family:Menlo,'DejaVu Sans Mono',consolas,'Courier New',monospace\">/Users/Jorge/Library/Caches/pypoetry/virtualenvs/lorawan-chatbot-rag-llm-Kbm_Xz7B-py3.11/lib/python3.11/site-packag\n",
       "es/rich/live.py:231: UserWarning: install \"ipywidgets\" for Jupyter support\n",
       "  warnings.warn('install \"ipywidgets\" for Jupyter support')\n",
       "</pre>\n"
      ],
      "text/plain": [
       "/Users/Jorge/Library/Caches/pypoetry/virtualenvs/lorawan-chatbot-rag-llm-Kbm_Xz7B-py3.11/lib/python3.11/site-packag\n",
       "es/rich/live.py:231: UserWarning: install \"ipywidgets\" for Jupyter support\n",
       "  warnings.warn('install \"ipywidgets\" for Jupyter support')\n"
      ]
     },
     "metadata": {},
     "output_type": "display_data"
    },
    {
     "data": {
      "text/html": [
       "<pre style=\"white-space:pre;overflow-x:auto;line-height:normal;font-family:Menlo,'DejaVu Sans Mono',consolas,'Courier New',monospace\">/Users/Jorge/Library/Caches/pypoetry/virtualenvs/lorawan-chatbot-rag-llm-Kbm_Xz7B-py3.11/lib/python3.11/site-packag\n",
       "es/rich/live.py:231: UserWarning: install \"ipywidgets\" for Jupyter support\n",
       "  warnings.warn('install \"ipywidgets\" for Jupyter support')\n",
       "</pre>\n"
      ],
      "text/plain": [
       "/Users/Jorge/Library/Caches/pypoetry/virtualenvs/lorawan-chatbot-rag-llm-Kbm_Xz7B-py3.11/lib/python3.11/site-packag\n",
       "es/rich/live.py:231: UserWarning: install \"ipywidgets\" for Jupyter support\n",
       "  warnings.warn('install \"ipywidgets\" for Jupyter support')\n"
      ]
     },
     "metadata": {},
     "output_type": "display_data"
    },
    {
     "data": {
      "text/html": [
       "<pre style=\"white-space:pre;overflow-x:auto;line-height:normal;font-family:Menlo,'DejaVu Sans Mono',consolas,'Courier New',monospace\">/Users/Jorge/Library/Caches/pypoetry/virtualenvs/lorawan-chatbot-rag-llm-Kbm_Xz7B-py3.11/lib/python3.11/site-packag\n",
       "es/rich/live.py:231: UserWarning: install \"ipywidgets\" for Jupyter support\n",
       "  warnings.warn('install \"ipywidgets\" for Jupyter support')\n",
       "</pre>\n"
      ],
      "text/plain": [
       "/Users/Jorge/Library/Caches/pypoetry/virtualenvs/lorawan-chatbot-rag-llm-Kbm_Xz7B-py3.11/lib/python3.11/site-packag\n",
       "es/rich/live.py:231: UserWarning: install \"ipywidgets\" for Jupyter support\n",
       "  warnings.warn('install \"ipywidgets\" for Jupyter support')\n"
      ]
     },
     "metadata": {},
     "output_type": "display_data"
    },
    {
     "data": {
      "text/html": [
       "<pre style=\"white-space:pre;overflow-x:auto;line-height:normal;font-family:Menlo,'DejaVu Sans Mono',consolas,'Courier New',monospace\">/Users/Jorge/Library/Caches/pypoetry/virtualenvs/lorawan-chatbot-rag-llm-Kbm_Xz7B-py3.11/lib/python3.11/site-packag\n",
       "es/rich/live.py:231: UserWarning: install \"ipywidgets\" for Jupyter support\n",
       "  warnings.warn('install \"ipywidgets\" for Jupyter support')\n",
       "</pre>\n"
      ],
      "text/plain": [
       "/Users/Jorge/Library/Caches/pypoetry/virtualenvs/lorawan-chatbot-rag-llm-Kbm_Xz7B-py3.11/lib/python3.11/site-packag\n",
       "es/rich/live.py:231: UserWarning: install \"ipywidgets\" for Jupyter support\n",
       "  warnings.warn('install \"ipywidgets\" for Jupyter support')\n"
      ]
     },
     "metadata": {},
     "output_type": "display_data"
    },
    {
     "data": {
      "text/html": [
       "<pre style=\"white-space:pre;overflow-x:auto;line-height:normal;font-family:Menlo,'DejaVu Sans Mono',consolas,'Courier New',monospace\">/Users/Jorge/Library/Caches/pypoetry/virtualenvs/lorawan-chatbot-rag-llm-Kbm_Xz7B-py3.11/lib/python3.11/site-packag\n",
       "es/rich/live.py:231: UserWarning: install \"ipywidgets\" for Jupyter support\n",
       "  warnings.warn('install \"ipywidgets\" for Jupyter support')\n",
       "</pre>\n"
      ],
      "text/plain": [
       "/Users/Jorge/Library/Caches/pypoetry/virtualenvs/lorawan-chatbot-rag-llm-Kbm_Xz7B-py3.11/lib/python3.11/site-packag\n",
       "es/rich/live.py:231: UserWarning: install \"ipywidgets\" for Jupyter support\n",
       "  warnings.warn('install \"ipywidgets\" for Jupyter support')\n"
      ]
     },
     "metadata": {},
     "output_type": "display_data"
    },
    {
     "data": {
      "text/html": [
       "<pre style=\"white-space:pre;overflow-x:auto;line-height:normal;font-family:Menlo,'DejaVu Sans Mono',consolas,'Courier New',monospace\">/Users/Jorge/Library/Caches/pypoetry/virtualenvs/lorawan-chatbot-rag-llm-Kbm_Xz7B-py3.11/lib/python3.11/site-packag\n",
       "es/rich/live.py:231: UserWarning: install \"ipywidgets\" for Jupyter support\n",
       "  warnings.warn('install \"ipywidgets\" for Jupyter support')\n",
       "</pre>\n"
      ],
      "text/plain": [
       "/Users/Jorge/Library/Caches/pypoetry/virtualenvs/lorawan-chatbot-rag-llm-Kbm_Xz7B-py3.11/lib/python3.11/site-packag\n",
       "es/rich/live.py:231: UserWarning: install \"ipywidgets\" for Jupyter support\n",
       "  warnings.warn('install \"ipywidgets\" for Jupyter support')\n"
      ]
     },
     "metadata": {},
     "output_type": "display_data"
    },
    {
     "data": {
      "text/html": [
       "<pre style=\"white-space:pre;overflow-x:auto;line-height:normal;font-family:Menlo,'DejaVu Sans Mono',consolas,'Courier New',monospace\">/Users/Jorge/Library/Caches/pypoetry/virtualenvs/lorawan-chatbot-rag-llm-Kbm_Xz7B-py3.11/lib/python3.11/site-packag\n",
       "es/rich/live.py:231: UserWarning: install \"ipywidgets\" for Jupyter support\n",
       "  warnings.warn('install \"ipywidgets\" for Jupyter support')\n",
       "</pre>\n"
      ],
      "text/plain": [
       "/Users/Jorge/Library/Caches/pypoetry/virtualenvs/lorawan-chatbot-rag-llm-Kbm_Xz7B-py3.11/lib/python3.11/site-packag\n",
       "es/rich/live.py:231: UserWarning: install \"ipywidgets\" for Jupyter support\n",
       "  warnings.warn('install \"ipywidgets\" for Jupyter support')\n"
      ]
     },
     "metadata": {},
     "output_type": "display_data"
    },
    {
     "data": {
      "text/html": [
       "<pre style=\"white-space:pre;overflow-x:auto;line-height:normal;font-family:Menlo,'DejaVu Sans Mono',consolas,'Courier New',monospace\">/Users/Jorge/Library/Caches/pypoetry/virtualenvs/lorawan-chatbot-rag-llm-Kbm_Xz7B-py3.11/lib/python3.11/site-packag\n",
       "es/rich/live.py:231: UserWarning: install \"ipywidgets\" for Jupyter support\n",
       "  warnings.warn('install \"ipywidgets\" for Jupyter support')\n",
       "</pre>\n"
      ],
      "text/plain": [
       "/Users/Jorge/Library/Caches/pypoetry/virtualenvs/lorawan-chatbot-rag-llm-Kbm_Xz7B-py3.11/lib/python3.11/site-packag\n",
       "es/rich/live.py:231: UserWarning: install \"ipywidgets\" for Jupyter support\n",
       "  warnings.warn('install \"ipywidgets\" for Jupyter support')\n"
      ]
     },
     "metadata": {},
     "output_type": "display_data"
    },
    {
     "data": {
      "text/html": [
       "<pre style=\"white-space:pre;overflow-x:auto;line-height:normal;font-family:Menlo,'DejaVu Sans Mono',consolas,'Courier New',monospace\"></pre>\n"
      ],
      "text/plain": []
     },
     "metadata": {},
     "output_type": "display_data"
    },
    {
     "data": {
      "text/html": [
       "<pre style=\"white-space:pre;overflow-x:auto;line-height:normal;font-family:Menlo,'DejaVu Sans Mono',consolas,'Courier New',monospace\">\n",
       "</pre>\n"
      ],
      "text/plain": [
       "\n"
      ]
     },
     "metadata": {},
     "output_type": "display_data"
    },
    {
     "data": {
      "text/html": [
       "<pre style=\"white-space:pre;overflow-x:auto;line-height:normal;font-family:Menlo,'DejaVu Sans Mono',consolas,'Courier New',monospace\">/Users/Jorge/Library/Caches/pypoetry/virtualenvs/lorawan-chatbot-rag-llm-Kbm_Xz7B-py3.11/lib/python3.11/site-packag\n",
       "es/rich/live.py:231: UserWarning: install \"ipywidgets\" for Jupyter support\n",
       "  warnings.warn('install \"ipywidgets\" for Jupyter support')\n",
       "</pre>\n"
      ],
      "text/plain": [
       "/Users/Jorge/Library/Caches/pypoetry/virtualenvs/lorawan-chatbot-rag-llm-Kbm_Xz7B-py3.11/lib/python3.11/site-packag\n",
       "es/rich/live.py:231: UserWarning: install \"ipywidgets\" for Jupyter support\n",
       "  warnings.warn('install \"ipywidgets\" for Jupyter support')\n"
      ]
     },
     "metadata": {},
     "output_type": "display_data"
    },
    {
     "data": {
      "text/html": [
       "<pre style=\"white-space:pre;overflow-x:auto;line-height:normal;font-family:Menlo,'DejaVu Sans Mono',consolas,'Courier New',monospace\">/Users/Jorge/Library/Caches/pypoetry/virtualenvs/lorawan-chatbot-rag-llm-Kbm_Xz7B-py3.11/lib/python3.11/site-packag\n",
       "es/rich/live.py:231: UserWarning: install \"ipywidgets\" for Jupyter support\n",
       "  warnings.warn('install \"ipywidgets\" for Jupyter support')\n",
       "</pre>\n"
      ],
      "text/plain": [
       "/Users/Jorge/Library/Caches/pypoetry/virtualenvs/lorawan-chatbot-rag-llm-Kbm_Xz7B-py3.11/lib/python3.11/site-packag\n",
       "es/rich/live.py:231: UserWarning: install \"ipywidgets\" for Jupyter support\n",
       "  warnings.warn('install \"ipywidgets\" for Jupyter support')\n"
      ]
     },
     "metadata": {},
     "output_type": "display_data"
    },
    {
     "data": {
      "text/html": [
       "<pre style=\"white-space:pre;overflow-x:auto;line-height:normal;font-family:Menlo,'DejaVu Sans Mono',consolas,'Courier New',monospace\">/Users/Jorge/Library/Caches/pypoetry/virtualenvs/lorawan-chatbot-rag-llm-Kbm_Xz7B-py3.11/lib/python3.11/site-packag\n",
       "es/rich/live.py:231: UserWarning: install \"ipywidgets\" for Jupyter support\n",
       "  warnings.warn('install \"ipywidgets\" for Jupyter support')\n",
       "</pre>\n"
      ],
      "text/plain": [
       "/Users/Jorge/Library/Caches/pypoetry/virtualenvs/lorawan-chatbot-rag-llm-Kbm_Xz7B-py3.11/lib/python3.11/site-packag\n",
       "es/rich/live.py:231: UserWarning: install \"ipywidgets\" for Jupyter support\n",
       "  warnings.warn('install \"ipywidgets\" for Jupyter support')\n"
      ]
     },
     "metadata": {},
     "output_type": "display_data"
    },
    {
     "data": {
      "text/html": [
       "<pre style=\"white-space:pre;overflow-x:auto;line-height:normal;font-family:Menlo,'DejaVu Sans Mono',consolas,'Courier New',monospace\">/Users/Jorge/Library/Caches/pypoetry/virtualenvs/lorawan-chatbot-rag-llm-Kbm_Xz7B-py3.11/lib/python3.11/site-packag\n",
       "es/rich/live.py:231: UserWarning: install \"ipywidgets\" for Jupyter support\n",
       "  warnings.warn('install \"ipywidgets\" for Jupyter support')\n",
       "</pre>\n"
      ],
      "text/plain": [
       "/Users/Jorge/Library/Caches/pypoetry/virtualenvs/lorawan-chatbot-rag-llm-Kbm_Xz7B-py3.11/lib/python3.11/site-packag\n",
       "es/rich/live.py:231: UserWarning: install \"ipywidgets\" for Jupyter support\n",
       "  warnings.warn('install \"ipywidgets\" for Jupyter support')\n"
      ]
     },
     "metadata": {},
     "output_type": "display_data"
    },
    {
     "data": {
      "text/html": [
       "<pre style=\"white-space:pre;overflow-x:auto;line-height:normal;font-family:Menlo,'DejaVu Sans Mono',consolas,'Courier New',monospace\">/Users/Jorge/Library/Caches/pypoetry/virtualenvs/lorawan-chatbot-rag-llm-Kbm_Xz7B-py3.11/lib/python3.11/site-packag\n",
       "es/rich/live.py:231: UserWarning: install \"ipywidgets\" for Jupyter support\n",
       "  warnings.warn('install \"ipywidgets\" for Jupyter support')\n",
       "</pre>\n"
      ],
      "text/plain": [
       "/Users/Jorge/Library/Caches/pypoetry/virtualenvs/lorawan-chatbot-rag-llm-Kbm_Xz7B-py3.11/lib/python3.11/site-packag\n",
       "es/rich/live.py:231: UserWarning: install \"ipywidgets\" for Jupyter support\n",
       "  warnings.warn('install \"ipywidgets\" for Jupyter support')\n"
      ]
     },
     "metadata": {},
     "output_type": "display_data"
    },
    {
     "data": {
      "text/html": [
       "<pre style=\"white-space:pre;overflow-x:auto;line-height:normal;font-family:Menlo,'DejaVu Sans Mono',consolas,'Courier New',monospace\">/Users/Jorge/Library/Caches/pypoetry/virtualenvs/lorawan-chatbot-rag-llm-Kbm_Xz7B-py3.11/lib/python3.11/site-packag\n",
       "es/rich/live.py:231: UserWarning: install \"ipywidgets\" for Jupyter support\n",
       "  warnings.warn('install \"ipywidgets\" for Jupyter support')\n",
       "</pre>\n"
      ],
      "text/plain": [
       "/Users/Jorge/Library/Caches/pypoetry/virtualenvs/lorawan-chatbot-rag-llm-Kbm_Xz7B-py3.11/lib/python3.11/site-packag\n",
       "es/rich/live.py:231: UserWarning: install \"ipywidgets\" for Jupyter support\n",
       "  warnings.warn('install \"ipywidgets\" for Jupyter support')\n"
      ]
     },
     "metadata": {},
     "output_type": "display_data"
    },
    {
     "data": {
      "text/html": [
       "<pre style=\"white-space:pre;overflow-x:auto;line-height:normal;font-family:Menlo,'DejaVu Sans Mono',consolas,'Courier New',monospace\">/Users/Jorge/Library/Caches/pypoetry/virtualenvs/lorawan-chatbot-rag-llm-Kbm_Xz7B-py3.11/lib/python3.11/site-packag\n",
       "es/rich/live.py:231: UserWarning: install \"ipywidgets\" for Jupyter support\n",
       "  warnings.warn('install \"ipywidgets\" for Jupyter support')\n",
       "</pre>\n"
      ],
      "text/plain": [
       "/Users/Jorge/Library/Caches/pypoetry/virtualenvs/lorawan-chatbot-rag-llm-Kbm_Xz7B-py3.11/lib/python3.11/site-packag\n",
       "es/rich/live.py:231: UserWarning: install \"ipywidgets\" for Jupyter support\n",
       "  warnings.warn('install \"ipywidgets\" for Jupyter support')\n"
      ]
     },
     "metadata": {},
     "output_type": "display_data"
    },
    {
     "data": {
      "text/html": [
       "<pre style=\"white-space:pre;overflow-x:auto;line-height:normal;font-family:Menlo,'DejaVu Sans Mono',consolas,'Courier New',monospace\">/Users/Jorge/Library/Caches/pypoetry/virtualenvs/lorawan-chatbot-rag-llm-Kbm_Xz7B-py3.11/lib/python3.11/site-packag\n",
       "es/rich/live.py:231: UserWarning: install \"ipywidgets\" for Jupyter support\n",
       "  warnings.warn('install \"ipywidgets\" for Jupyter support')\n",
       "</pre>\n"
      ],
      "text/plain": [
       "/Users/Jorge/Library/Caches/pypoetry/virtualenvs/lorawan-chatbot-rag-llm-Kbm_Xz7B-py3.11/lib/python3.11/site-packag\n",
       "es/rich/live.py:231: UserWarning: install \"ipywidgets\" for Jupyter support\n",
       "  warnings.warn('install \"ipywidgets\" for Jupyter support')\n"
      ]
     },
     "metadata": {},
     "output_type": "display_data"
    },
    {
     "data": {
      "text/html": [
       "<pre style=\"white-space:pre;overflow-x:auto;line-height:normal;font-family:Menlo,'DejaVu Sans Mono',consolas,'Courier New',monospace\">/Users/Jorge/Library/Caches/pypoetry/virtualenvs/lorawan-chatbot-rag-llm-Kbm_Xz7B-py3.11/lib/python3.11/site-packag\n",
       "es/rich/live.py:231: UserWarning: install \"ipywidgets\" for Jupyter support\n",
       "  warnings.warn('install \"ipywidgets\" for Jupyter support')\n",
       "</pre>\n"
      ],
      "text/plain": [
       "/Users/Jorge/Library/Caches/pypoetry/virtualenvs/lorawan-chatbot-rag-llm-Kbm_Xz7B-py3.11/lib/python3.11/site-packag\n",
       "es/rich/live.py:231: UserWarning: install \"ipywidgets\" for Jupyter support\n",
       "  warnings.warn('install \"ipywidgets\" for Jupyter support')\n"
      ]
     },
     "metadata": {},
     "output_type": "display_data"
    },
    {
     "data": {
      "text/html": [
       "<pre style=\"white-space:pre;overflow-x:auto;line-height:normal;font-family:Menlo,'DejaVu Sans Mono',consolas,'Courier New',monospace\"></pre>\n"
      ],
      "text/plain": []
     },
     "metadata": {},
     "output_type": "display_data"
    },
    {
     "data": {
      "text/html": [
       "<pre style=\"white-space:pre;overflow-x:auto;line-height:normal;font-family:Menlo,'DejaVu Sans Mono',consolas,'Courier New',monospace\">\n",
       "</pre>\n"
      ],
      "text/plain": [
       "\n"
      ]
     },
     "metadata": {},
     "output_type": "display_data"
    },
    {
     "data": {
      "text/html": [
       "<pre style=\"white-space:pre;overflow-x:auto;line-height:normal;font-family:Menlo,'DejaVu Sans Mono',consolas,'Courier New',monospace\">/Users/Jorge/Library/Caches/pypoetry/virtualenvs/lorawan-chatbot-rag-llm-Kbm_Xz7B-py3.11/lib/python3.11/site-packag\n",
       "es/rich/live.py:231: UserWarning: install \"ipywidgets\" for Jupyter support\n",
       "  warnings.warn('install \"ipywidgets\" for Jupyter support')\n",
       "</pre>\n"
      ],
      "text/plain": [
       "/Users/Jorge/Library/Caches/pypoetry/virtualenvs/lorawan-chatbot-rag-llm-Kbm_Xz7B-py3.11/lib/python3.11/site-packag\n",
       "es/rich/live.py:231: UserWarning: install \"ipywidgets\" for Jupyter support\n",
       "  warnings.warn('install \"ipywidgets\" for Jupyter support')\n"
      ]
     },
     "metadata": {},
     "output_type": "display_data"
    },
    {
     "data": {
      "text/html": [
       "<pre style=\"white-space:pre;overflow-x:auto;line-height:normal;font-family:Menlo,'DejaVu Sans Mono',consolas,'Courier New',monospace\">/Users/Jorge/Library/Caches/pypoetry/virtualenvs/lorawan-chatbot-rag-llm-Kbm_Xz7B-py3.11/lib/python3.11/site-packag\n",
       "es/rich/live.py:231: UserWarning: install \"ipywidgets\" for Jupyter support\n",
       "  warnings.warn('install \"ipywidgets\" for Jupyter support')\n",
       "</pre>\n"
      ],
      "text/plain": [
       "/Users/Jorge/Library/Caches/pypoetry/virtualenvs/lorawan-chatbot-rag-llm-Kbm_Xz7B-py3.11/lib/python3.11/site-packag\n",
       "es/rich/live.py:231: UserWarning: install \"ipywidgets\" for Jupyter support\n",
       "  warnings.warn('install \"ipywidgets\" for Jupyter support')\n"
      ]
     },
     "metadata": {},
     "output_type": "display_data"
    },
    {
     "data": {
      "text/html": [
       "<pre style=\"white-space:pre;overflow-x:auto;line-height:normal;font-family:Menlo,'DejaVu Sans Mono',consolas,'Courier New',monospace\">/Users/Jorge/Library/Caches/pypoetry/virtualenvs/lorawan-chatbot-rag-llm-Kbm_Xz7B-py3.11/lib/python3.11/site-packag\n",
       "es/rich/live.py:231: UserWarning: install \"ipywidgets\" for Jupyter support\n",
       "  warnings.warn('install \"ipywidgets\" for Jupyter support')\n",
       "</pre>\n"
      ],
      "text/plain": [
       "/Users/Jorge/Library/Caches/pypoetry/virtualenvs/lorawan-chatbot-rag-llm-Kbm_Xz7B-py3.11/lib/python3.11/site-packag\n",
       "es/rich/live.py:231: UserWarning: install \"ipywidgets\" for Jupyter support\n",
       "  warnings.warn('install \"ipywidgets\" for Jupyter support')\n"
      ]
     },
     "metadata": {},
     "output_type": "display_data"
    },
    {
     "data": {
      "text/html": [
       "<pre style=\"white-space:pre;overflow-x:auto;line-height:normal;font-family:Menlo,'DejaVu Sans Mono',consolas,'Courier New',monospace\">/Users/Jorge/Library/Caches/pypoetry/virtualenvs/lorawan-chatbot-rag-llm-Kbm_Xz7B-py3.11/lib/python3.11/site-packag\n",
       "es/rich/live.py:231: UserWarning: install \"ipywidgets\" for Jupyter support\n",
       "  warnings.warn('install \"ipywidgets\" for Jupyter support')\n",
       "</pre>\n"
      ],
      "text/plain": [
       "/Users/Jorge/Library/Caches/pypoetry/virtualenvs/lorawan-chatbot-rag-llm-Kbm_Xz7B-py3.11/lib/python3.11/site-packag\n",
       "es/rich/live.py:231: UserWarning: install \"ipywidgets\" for Jupyter support\n",
       "  warnings.warn('install \"ipywidgets\" for Jupyter support')\n"
      ]
     },
     "metadata": {},
     "output_type": "display_data"
    },
    {
     "data": {
      "text/html": [
       "<pre style=\"white-space:pre;overflow-x:auto;line-height:normal;font-family:Menlo,'DejaVu Sans Mono',consolas,'Courier New',monospace\">/Users/Jorge/Library/Caches/pypoetry/virtualenvs/lorawan-chatbot-rag-llm-Kbm_Xz7B-py3.11/lib/python3.11/site-packag\n",
       "es/rich/live.py:231: UserWarning: install \"ipywidgets\" for Jupyter support\n",
       "  warnings.warn('install \"ipywidgets\" for Jupyter support')\n",
       "</pre>\n"
      ],
      "text/plain": [
       "/Users/Jorge/Library/Caches/pypoetry/virtualenvs/lorawan-chatbot-rag-llm-Kbm_Xz7B-py3.11/lib/python3.11/site-packag\n",
       "es/rich/live.py:231: UserWarning: install \"ipywidgets\" for Jupyter support\n",
       "  warnings.warn('install \"ipywidgets\" for Jupyter support')\n"
      ]
     },
     "metadata": {},
     "output_type": "display_data"
    },
    {
     "data": {
      "text/html": [
       "<pre style=\"white-space:pre;overflow-x:auto;line-height:normal;font-family:Menlo,'DejaVu Sans Mono',consolas,'Courier New',monospace\">/Users/Jorge/Library/Caches/pypoetry/virtualenvs/lorawan-chatbot-rag-llm-Kbm_Xz7B-py3.11/lib/python3.11/site-packag\n",
       "es/rich/live.py:231: UserWarning: install \"ipywidgets\" for Jupyter support\n",
       "  warnings.warn('install \"ipywidgets\" for Jupyter support')\n",
       "</pre>\n"
      ],
      "text/plain": [
       "/Users/Jorge/Library/Caches/pypoetry/virtualenvs/lorawan-chatbot-rag-llm-Kbm_Xz7B-py3.11/lib/python3.11/site-packag\n",
       "es/rich/live.py:231: UserWarning: install \"ipywidgets\" for Jupyter support\n",
       "  warnings.warn('install \"ipywidgets\" for Jupyter support')\n"
      ]
     },
     "metadata": {},
     "output_type": "display_data"
    },
    {
     "data": {
      "text/html": [
       "<pre style=\"white-space:pre;overflow-x:auto;line-height:normal;font-family:Menlo,'DejaVu Sans Mono',consolas,'Courier New',monospace\">/Users/Jorge/Library/Caches/pypoetry/virtualenvs/lorawan-chatbot-rag-llm-Kbm_Xz7B-py3.11/lib/python3.11/site-packag\n",
       "es/rich/live.py:231: UserWarning: install \"ipywidgets\" for Jupyter support\n",
       "  warnings.warn('install \"ipywidgets\" for Jupyter support')\n",
       "</pre>\n"
      ],
      "text/plain": [
       "/Users/Jorge/Library/Caches/pypoetry/virtualenvs/lorawan-chatbot-rag-llm-Kbm_Xz7B-py3.11/lib/python3.11/site-packag\n",
       "es/rich/live.py:231: UserWarning: install \"ipywidgets\" for Jupyter support\n",
       "  warnings.warn('install \"ipywidgets\" for Jupyter support')\n"
      ]
     },
     "metadata": {},
     "output_type": "display_data"
    },
    {
     "data": {
      "text/html": [
       "<pre style=\"white-space:pre;overflow-x:auto;line-height:normal;font-family:Menlo,'DejaVu Sans Mono',consolas,'Courier New',monospace\">/Users/Jorge/Library/Caches/pypoetry/virtualenvs/lorawan-chatbot-rag-llm-Kbm_Xz7B-py3.11/lib/python3.11/site-packag\n",
       "es/rich/live.py:231: UserWarning: install \"ipywidgets\" for Jupyter support\n",
       "  warnings.warn('install \"ipywidgets\" for Jupyter support')\n",
       "</pre>\n"
      ],
      "text/plain": [
       "/Users/Jorge/Library/Caches/pypoetry/virtualenvs/lorawan-chatbot-rag-llm-Kbm_Xz7B-py3.11/lib/python3.11/site-packag\n",
       "es/rich/live.py:231: UserWarning: install \"ipywidgets\" for Jupyter support\n",
       "  warnings.warn('install \"ipywidgets\" for Jupyter support')\n"
      ]
     },
     "metadata": {},
     "output_type": "display_data"
    },
    {
     "data": {
      "text/html": [
       "<pre style=\"white-space:pre;overflow-x:auto;line-height:normal;font-family:Menlo,'DejaVu Sans Mono',consolas,'Courier New',monospace\">/Users/Jorge/Library/Caches/pypoetry/virtualenvs/lorawan-chatbot-rag-llm-Kbm_Xz7B-py3.11/lib/python3.11/site-packag\n",
       "es/rich/live.py:231: UserWarning: install \"ipywidgets\" for Jupyter support\n",
       "  warnings.warn('install \"ipywidgets\" for Jupyter support')\n",
       "</pre>\n"
      ],
      "text/plain": [
       "/Users/Jorge/Library/Caches/pypoetry/virtualenvs/lorawan-chatbot-rag-llm-Kbm_Xz7B-py3.11/lib/python3.11/site-packag\n",
       "es/rich/live.py:231: UserWarning: install \"ipywidgets\" for Jupyter support\n",
       "  warnings.warn('install \"ipywidgets\" for Jupyter support')\n"
      ]
     },
     "metadata": {},
     "output_type": "display_data"
    },
    {
     "data": {
      "text/html": [
       "<pre style=\"white-space:pre;overflow-x:auto;line-height:normal;font-family:Menlo,'DejaVu Sans Mono',consolas,'Courier New',monospace\">/Users/Jorge/Library/Caches/pypoetry/virtualenvs/lorawan-chatbot-rag-llm-Kbm_Xz7B-py3.11/lib/python3.11/site-packag\n",
       "es/rich/live.py:231: UserWarning: install \"ipywidgets\" for Jupyter support\n",
       "  warnings.warn('install \"ipywidgets\" for Jupyter support')\n",
       "</pre>\n"
      ],
      "text/plain": [
       "/Users/Jorge/Library/Caches/pypoetry/virtualenvs/lorawan-chatbot-rag-llm-Kbm_Xz7B-py3.11/lib/python3.11/site-packag\n",
       "es/rich/live.py:231: UserWarning: install \"ipywidgets\" for Jupyter support\n",
       "  warnings.warn('install \"ipywidgets\" for Jupyter support')\n"
      ]
     },
     "metadata": {},
     "output_type": "display_data"
    },
    {
     "data": {
      "text/html": [
       "<pre style=\"white-space:pre;overflow-x:auto;line-height:normal;font-family:Menlo,'DejaVu Sans Mono',consolas,'Courier New',monospace\"></pre>\n"
      ],
      "text/plain": []
     },
     "metadata": {},
     "output_type": "display_data"
    },
    {
     "data": {
      "text/html": [
       "<pre style=\"white-space:pre;overflow-x:auto;line-height:normal;font-family:Menlo,'DejaVu Sans Mono',consolas,'Courier New',monospace\">\n",
       "</pre>\n"
      ],
      "text/plain": [
       "\n"
      ]
     },
     "metadata": {},
     "output_type": "display_data"
    },
    {
     "data": {
      "text/html": [
       "<pre style=\"white-space:pre;overflow-x:auto;line-height:normal;font-family:Menlo,'DejaVu Sans Mono',consolas,'Courier New',monospace\">/Users/Jorge/Library/Caches/pypoetry/virtualenvs/lorawan-chatbot-rag-llm-Kbm_Xz7B-py3.11/lib/python3.11/site-packag\n",
       "es/rich/live.py:231: UserWarning: install \"ipywidgets\" for Jupyter support\n",
       "  warnings.warn('install \"ipywidgets\" for Jupyter support')\n",
       "</pre>\n"
      ],
      "text/plain": [
       "/Users/Jorge/Library/Caches/pypoetry/virtualenvs/lorawan-chatbot-rag-llm-Kbm_Xz7B-py3.11/lib/python3.11/site-packag\n",
       "es/rich/live.py:231: UserWarning: install \"ipywidgets\" for Jupyter support\n",
       "  warnings.warn('install \"ipywidgets\" for Jupyter support')\n"
      ]
     },
     "metadata": {},
     "output_type": "display_data"
    },
    {
     "data": {
      "text/html": [
       "<pre style=\"white-space:pre;overflow-x:auto;line-height:normal;font-family:Menlo,'DejaVu Sans Mono',consolas,'Courier New',monospace\">/Users/Jorge/Library/Caches/pypoetry/virtualenvs/lorawan-chatbot-rag-llm-Kbm_Xz7B-py3.11/lib/python3.11/site-packag\n",
       "es/rich/live.py:231: UserWarning: install \"ipywidgets\" for Jupyter support\n",
       "  warnings.warn('install \"ipywidgets\" for Jupyter support')\n",
       "</pre>\n"
      ],
      "text/plain": [
       "/Users/Jorge/Library/Caches/pypoetry/virtualenvs/lorawan-chatbot-rag-llm-Kbm_Xz7B-py3.11/lib/python3.11/site-packag\n",
       "es/rich/live.py:231: UserWarning: install \"ipywidgets\" for Jupyter support\n",
       "  warnings.warn('install \"ipywidgets\" for Jupyter support')\n"
      ]
     },
     "metadata": {},
     "output_type": "display_data"
    },
    {
     "data": {
      "text/html": [
       "<pre style=\"white-space:pre;overflow-x:auto;line-height:normal;font-family:Menlo,'DejaVu Sans Mono',consolas,'Courier New',monospace\">/Users/Jorge/Library/Caches/pypoetry/virtualenvs/lorawan-chatbot-rag-llm-Kbm_Xz7B-py3.11/lib/python3.11/site-packag\n",
       "es/rich/live.py:231: UserWarning: install \"ipywidgets\" for Jupyter support\n",
       "  warnings.warn('install \"ipywidgets\" for Jupyter support')\n",
       "</pre>\n"
      ],
      "text/plain": [
       "/Users/Jorge/Library/Caches/pypoetry/virtualenvs/lorawan-chatbot-rag-llm-Kbm_Xz7B-py3.11/lib/python3.11/site-packag\n",
       "es/rich/live.py:231: UserWarning: install \"ipywidgets\" for Jupyter support\n",
       "  warnings.warn('install \"ipywidgets\" for Jupyter support')\n"
      ]
     },
     "metadata": {},
     "output_type": "display_data"
    },
    {
     "data": {
      "text/html": [
       "<pre style=\"white-space:pre;overflow-x:auto;line-height:normal;font-family:Menlo,'DejaVu Sans Mono',consolas,'Courier New',monospace\">/Users/Jorge/Library/Caches/pypoetry/virtualenvs/lorawan-chatbot-rag-llm-Kbm_Xz7B-py3.11/lib/python3.11/site-packag\n",
       "es/rich/live.py:231: UserWarning: install \"ipywidgets\" for Jupyter support\n",
       "  warnings.warn('install \"ipywidgets\" for Jupyter support')\n",
       "</pre>\n"
      ],
      "text/plain": [
       "/Users/Jorge/Library/Caches/pypoetry/virtualenvs/lorawan-chatbot-rag-llm-Kbm_Xz7B-py3.11/lib/python3.11/site-packag\n",
       "es/rich/live.py:231: UserWarning: install \"ipywidgets\" for Jupyter support\n",
       "  warnings.warn('install \"ipywidgets\" for Jupyter support')\n"
      ]
     },
     "metadata": {},
     "output_type": "display_data"
    },
    {
     "data": {
      "text/html": [
       "<pre style=\"white-space:pre;overflow-x:auto;line-height:normal;font-family:Menlo,'DejaVu Sans Mono',consolas,'Courier New',monospace\">/Users/Jorge/Library/Caches/pypoetry/virtualenvs/lorawan-chatbot-rag-llm-Kbm_Xz7B-py3.11/lib/python3.11/site-packag\n",
       "es/rich/live.py:231: UserWarning: install \"ipywidgets\" for Jupyter support\n",
       "  warnings.warn('install \"ipywidgets\" for Jupyter support')\n",
       "</pre>\n"
      ],
      "text/plain": [
       "/Users/Jorge/Library/Caches/pypoetry/virtualenvs/lorawan-chatbot-rag-llm-Kbm_Xz7B-py3.11/lib/python3.11/site-packag\n",
       "es/rich/live.py:231: UserWarning: install \"ipywidgets\" for Jupyter support\n",
       "  warnings.warn('install \"ipywidgets\" for Jupyter support')\n"
      ]
     },
     "metadata": {},
     "output_type": "display_data"
    },
    {
     "data": {
      "text/html": [
       "<pre style=\"white-space:pre;overflow-x:auto;line-height:normal;font-family:Menlo,'DejaVu Sans Mono',consolas,'Courier New',monospace\">/Users/Jorge/Library/Caches/pypoetry/virtualenvs/lorawan-chatbot-rag-llm-Kbm_Xz7B-py3.11/lib/python3.11/site-packag\n",
       "es/rich/live.py:231: UserWarning: install \"ipywidgets\" for Jupyter support\n",
       "  warnings.warn('install \"ipywidgets\" for Jupyter support')\n",
       "</pre>\n"
      ],
      "text/plain": [
       "/Users/Jorge/Library/Caches/pypoetry/virtualenvs/lorawan-chatbot-rag-llm-Kbm_Xz7B-py3.11/lib/python3.11/site-packag\n",
       "es/rich/live.py:231: UserWarning: install \"ipywidgets\" for Jupyter support\n",
       "  warnings.warn('install \"ipywidgets\" for Jupyter support')\n"
      ]
     },
     "metadata": {},
     "output_type": "display_data"
    },
    {
     "data": {
      "text/html": [
       "<pre style=\"white-space:pre;overflow-x:auto;line-height:normal;font-family:Menlo,'DejaVu Sans Mono',consolas,'Courier New',monospace\">/Users/Jorge/Library/Caches/pypoetry/virtualenvs/lorawan-chatbot-rag-llm-Kbm_Xz7B-py3.11/lib/python3.11/site-packag\n",
       "es/rich/live.py:231: UserWarning: install \"ipywidgets\" for Jupyter support\n",
       "  warnings.warn('install \"ipywidgets\" for Jupyter support')\n",
       "</pre>\n"
      ],
      "text/plain": [
       "/Users/Jorge/Library/Caches/pypoetry/virtualenvs/lorawan-chatbot-rag-llm-Kbm_Xz7B-py3.11/lib/python3.11/site-packag\n",
       "es/rich/live.py:231: UserWarning: install \"ipywidgets\" for Jupyter support\n",
       "  warnings.warn('install \"ipywidgets\" for Jupyter support')\n"
      ]
     },
     "metadata": {},
     "output_type": "display_data"
    },
    {
     "data": {
      "text/html": [
       "<pre style=\"white-space:pre;overflow-x:auto;line-height:normal;font-family:Menlo,'DejaVu Sans Mono',consolas,'Courier New',monospace\">/Users/Jorge/Library/Caches/pypoetry/virtualenvs/lorawan-chatbot-rag-llm-Kbm_Xz7B-py3.11/lib/python3.11/site-packag\n",
       "es/rich/live.py:231: UserWarning: install \"ipywidgets\" for Jupyter support\n",
       "  warnings.warn('install \"ipywidgets\" for Jupyter support')\n",
       "</pre>\n"
      ],
      "text/plain": [
       "/Users/Jorge/Library/Caches/pypoetry/virtualenvs/lorawan-chatbot-rag-llm-Kbm_Xz7B-py3.11/lib/python3.11/site-packag\n",
       "es/rich/live.py:231: UserWarning: install \"ipywidgets\" for Jupyter support\n",
       "  warnings.warn('install \"ipywidgets\" for Jupyter support')\n"
      ]
     },
     "metadata": {},
     "output_type": "display_data"
    },
    {
     "data": {
      "text/html": [
       "<pre style=\"white-space:pre;overflow-x:auto;line-height:normal;font-family:Menlo,'DejaVu Sans Mono',consolas,'Courier New',monospace\">/Users/Jorge/Library/Caches/pypoetry/virtualenvs/lorawan-chatbot-rag-llm-Kbm_Xz7B-py3.11/lib/python3.11/site-packag\n",
       "es/rich/live.py:231: UserWarning: install \"ipywidgets\" for Jupyter support\n",
       "  warnings.warn('install \"ipywidgets\" for Jupyter support')\n",
       "</pre>\n"
      ],
      "text/plain": [
       "/Users/Jorge/Library/Caches/pypoetry/virtualenvs/lorawan-chatbot-rag-llm-Kbm_Xz7B-py3.11/lib/python3.11/site-packag\n",
       "es/rich/live.py:231: UserWarning: install \"ipywidgets\" for Jupyter support\n",
       "  warnings.warn('install \"ipywidgets\" for Jupyter support')\n"
      ]
     },
     "metadata": {},
     "output_type": "display_data"
    },
    {
     "data": {
      "text/html": [
       "<pre style=\"white-space:pre;overflow-x:auto;line-height:normal;font-family:Menlo,'DejaVu Sans Mono',consolas,'Courier New',monospace\">/Users/Jorge/Library/Caches/pypoetry/virtualenvs/lorawan-chatbot-rag-llm-Kbm_Xz7B-py3.11/lib/python3.11/site-packag\n",
       "es/rich/live.py:231: UserWarning: install \"ipywidgets\" for Jupyter support\n",
       "  warnings.warn('install \"ipywidgets\" for Jupyter support')\n",
       "</pre>\n"
      ],
      "text/plain": [
       "/Users/Jorge/Library/Caches/pypoetry/virtualenvs/lorawan-chatbot-rag-llm-Kbm_Xz7B-py3.11/lib/python3.11/site-packag\n",
       "es/rich/live.py:231: UserWarning: install \"ipywidgets\" for Jupyter support\n",
       "  warnings.warn('install \"ipywidgets\" for Jupyter support')\n"
      ]
     },
     "metadata": {},
     "output_type": "display_data"
    },
    {
     "data": {
      "text/html": [
       "<pre style=\"white-space:pre;overflow-x:auto;line-height:normal;font-family:Menlo,'DejaVu Sans Mono',consolas,'Courier New',monospace\">/Users/Jorge/Library/Caches/pypoetry/virtualenvs/lorawan-chatbot-rag-llm-Kbm_Xz7B-py3.11/lib/python3.11/site-packag\n",
       "es/rich/live.py:231: UserWarning: install \"ipywidgets\" for Jupyter support\n",
       "  warnings.warn('install \"ipywidgets\" for Jupyter support')\n",
       "</pre>\n"
      ],
      "text/plain": [
       "/Users/Jorge/Library/Caches/pypoetry/virtualenvs/lorawan-chatbot-rag-llm-Kbm_Xz7B-py3.11/lib/python3.11/site-packag\n",
       "es/rich/live.py:231: UserWarning: install \"ipywidgets\" for Jupyter support\n",
       "  warnings.warn('install \"ipywidgets\" for Jupyter support')\n"
      ]
     },
     "metadata": {},
     "output_type": "display_data"
    },
    {
     "data": {
      "text/html": [
       "<pre style=\"white-space:pre;overflow-x:auto;line-height:normal;font-family:Menlo,'DejaVu Sans Mono',consolas,'Courier New',monospace\"></pre>\n"
      ],
      "text/plain": []
     },
     "metadata": {},
     "output_type": "display_data"
    },
    {
     "data": {
      "text/html": [
       "<pre style=\"white-space:pre;overflow-x:auto;line-height:normal;font-family:Menlo,'DejaVu Sans Mono',consolas,'Courier New',monospace\">\n",
       "</pre>\n"
      ],
      "text/plain": [
       "\n"
      ]
     },
     "metadata": {},
     "output_type": "display_data"
    },
    {
     "data": {
      "text/html": [
       "<pre style=\"white-space:pre;overflow-x:auto;line-height:normal;font-family:Menlo,'DejaVu Sans Mono',consolas,'Courier New',monospace\">/Users/Jorge/Library/Caches/pypoetry/virtualenvs/lorawan-chatbot-rag-llm-Kbm_Xz7B-py3.11/lib/python3.11/site-packag\n",
       "es/rich/live.py:231: UserWarning: install \"ipywidgets\" for Jupyter support\n",
       "  warnings.warn('install \"ipywidgets\" for Jupyter support')\n",
       "</pre>\n"
      ],
      "text/plain": [
       "/Users/Jorge/Library/Caches/pypoetry/virtualenvs/lorawan-chatbot-rag-llm-Kbm_Xz7B-py3.11/lib/python3.11/site-packag\n",
       "es/rich/live.py:231: UserWarning: install \"ipywidgets\" for Jupyter support\n",
       "  warnings.warn('install \"ipywidgets\" for Jupyter support')\n"
      ]
     },
     "metadata": {},
     "output_type": "display_data"
    },
    {
     "data": {
      "text/html": [
       "<pre style=\"white-space:pre;overflow-x:auto;line-height:normal;font-family:Menlo,'DejaVu Sans Mono',consolas,'Courier New',monospace\">/Users/Jorge/Library/Caches/pypoetry/virtualenvs/lorawan-chatbot-rag-llm-Kbm_Xz7B-py3.11/lib/python3.11/site-packag\n",
       "es/rich/live.py:231: UserWarning: install \"ipywidgets\" for Jupyter support\n",
       "  warnings.warn('install \"ipywidgets\" for Jupyter support')\n",
       "</pre>\n"
      ],
      "text/plain": [
       "/Users/Jorge/Library/Caches/pypoetry/virtualenvs/lorawan-chatbot-rag-llm-Kbm_Xz7B-py3.11/lib/python3.11/site-packag\n",
       "es/rich/live.py:231: UserWarning: install \"ipywidgets\" for Jupyter support\n",
       "  warnings.warn('install \"ipywidgets\" for Jupyter support')\n"
      ]
     },
     "metadata": {},
     "output_type": "display_data"
    },
    {
     "data": {
      "text/html": [
       "<pre style=\"white-space:pre;overflow-x:auto;line-height:normal;font-family:Menlo,'DejaVu Sans Mono',consolas,'Courier New',monospace\">/Users/Jorge/Library/Caches/pypoetry/virtualenvs/lorawan-chatbot-rag-llm-Kbm_Xz7B-py3.11/lib/python3.11/site-packag\n",
       "es/rich/live.py:231: UserWarning: install \"ipywidgets\" for Jupyter support\n",
       "  warnings.warn('install \"ipywidgets\" for Jupyter support')\n",
       "</pre>\n"
      ],
      "text/plain": [
       "/Users/Jorge/Library/Caches/pypoetry/virtualenvs/lorawan-chatbot-rag-llm-Kbm_Xz7B-py3.11/lib/python3.11/site-packag\n",
       "es/rich/live.py:231: UserWarning: install \"ipywidgets\" for Jupyter support\n",
       "  warnings.warn('install \"ipywidgets\" for Jupyter support')\n"
      ]
     },
     "metadata": {},
     "output_type": "display_data"
    },
    {
     "data": {
      "text/html": [
       "<pre style=\"white-space:pre;overflow-x:auto;line-height:normal;font-family:Menlo,'DejaVu Sans Mono',consolas,'Courier New',monospace\">/Users/Jorge/Library/Caches/pypoetry/virtualenvs/lorawan-chatbot-rag-llm-Kbm_Xz7B-py3.11/lib/python3.11/site-packag\n",
       "es/rich/live.py:231: UserWarning: install \"ipywidgets\" for Jupyter support\n",
       "  warnings.warn('install \"ipywidgets\" for Jupyter support')\n",
       "</pre>\n"
      ],
      "text/plain": [
       "/Users/Jorge/Library/Caches/pypoetry/virtualenvs/lorawan-chatbot-rag-llm-Kbm_Xz7B-py3.11/lib/python3.11/site-packag\n",
       "es/rich/live.py:231: UserWarning: install \"ipywidgets\" for Jupyter support\n",
       "  warnings.warn('install \"ipywidgets\" for Jupyter support')\n"
      ]
     },
     "metadata": {},
     "output_type": "display_data"
    },
    {
     "data": {
      "text/html": [
       "<pre style=\"white-space:pre;overflow-x:auto;line-height:normal;font-family:Menlo,'DejaVu Sans Mono',consolas,'Courier New',monospace\">/Users/Jorge/Library/Caches/pypoetry/virtualenvs/lorawan-chatbot-rag-llm-Kbm_Xz7B-py3.11/lib/python3.11/site-packag\n",
       "es/rich/live.py:231: UserWarning: install \"ipywidgets\" for Jupyter support\n",
       "  warnings.warn('install \"ipywidgets\" for Jupyter support')\n",
       "</pre>\n"
      ],
      "text/plain": [
       "/Users/Jorge/Library/Caches/pypoetry/virtualenvs/lorawan-chatbot-rag-llm-Kbm_Xz7B-py3.11/lib/python3.11/site-packag\n",
       "es/rich/live.py:231: UserWarning: install \"ipywidgets\" for Jupyter support\n",
       "  warnings.warn('install \"ipywidgets\" for Jupyter support')\n"
      ]
     },
     "metadata": {},
     "output_type": "display_data"
    },
    {
     "data": {
      "text/html": [
       "<pre style=\"white-space:pre;overflow-x:auto;line-height:normal;font-family:Menlo,'DejaVu Sans Mono',consolas,'Courier New',monospace\">/Users/Jorge/Library/Caches/pypoetry/virtualenvs/lorawan-chatbot-rag-llm-Kbm_Xz7B-py3.11/lib/python3.11/site-packag\n",
       "es/rich/live.py:231: UserWarning: install \"ipywidgets\" for Jupyter support\n",
       "  warnings.warn('install \"ipywidgets\" for Jupyter support')\n",
       "</pre>\n"
      ],
      "text/plain": [
       "/Users/Jorge/Library/Caches/pypoetry/virtualenvs/lorawan-chatbot-rag-llm-Kbm_Xz7B-py3.11/lib/python3.11/site-packag\n",
       "es/rich/live.py:231: UserWarning: install \"ipywidgets\" for Jupyter support\n",
       "  warnings.warn('install \"ipywidgets\" for Jupyter support')\n"
      ]
     },
     "metadata": {},
     "output_type": "display_data"
    },
    {
     "data": {
      "text/html": [
       "<pre style=\"white-space:pre;overflow-x:auto;line-height:normal;font-family:Menlo,'DejaVu Sans Mono',consolas,'Courier New',monospace\">/Users/Jorge/Library/Caches/pypoetry/virtualenvs/lorawan-chatbot-rag-llm-Kbm_Xz7B-py3.11/lib/python3.11/site-packag\n",
       "es/rich/live.py:231: UserWarning: install \"ipywidgets\" for Jupyter support\n",
       "  warnings.warn('install \"ipywidgets\" for Jupyter support')\n",
       "</pre>\n"
      ],
      "text/plain": [
       "/Users/Jorge/Library/Caches/pypoetry/virtualenvs/lorawan-chatbot-rag-llm-Kbm_Xz7B-py3.11/lib/python3.11/site-packag\n",
       "es/rich/live.py:231: UserWarning: install \"ipywidgets\" for Jupyter support\n",
       "  warnings.warn('install \"ipywidgets\" for Jupyter support')\n"
      ]
     },
     "metadata": {},
     "output_type": "display_data"
    },
    {
     "data": {
      "text/html": [
       "<pre style=\"white-space:pre;overflow-x:auto;line-height:normal;font-family:Menlo,'DejaVu Sans Mono',consolas,'Courier New',monospace\">/Users/Jorge/Library/Caches/pypoetry/virtualenvs/lorawan-chatbot-rag-llm-Kbm_Xz7B-py3.11/lib/python3.11/site-packag\n",
       "es/rich/live.py:231: UserWarning: install \"ipywidgets\" for Jupyter support\n",
       "  warnings.warn('install \"ipywidgets\" for Jupyter support')\n",
       "</pre>\n"
      ],
      "text/plain": [
       "/Users/Jorge/Library/Caches/pypoetry/virtualenvs/lorawan-chatbot-rag-llm-Kbm_Xz7B-py3.11/lib/python3.11/site-packag\n",
       "es/rich/live.py:231: UserWarning: install \"ipywidgets\" for Jupyter support\n",
       "  warnings.warn('install \"ipywidgets\" for Jupyter support')\n"
      ]
     },
     "metadata": {},
     "output_type": "display_data"
    },
    {
     "data": {
      "text/html": [
       "<pre style=\"white-space:pre;overflow-x:auto;line-height:normal;font-family:Menlo,'DejaVu Sans Mono',consolas,'Courier New',monospace\">/Users/Jorge/Library/Caches/pypoetry/virtualenvs/lorawan-chatbot-rag-llm-Kbm_Xz7B-py3.11/lib/python3.11/site-packag\n",
       "es/rich/live.py:231: UserWarning: install \"ipywidgets\" for Jupyter support\n",
       "  warnings.warn('install \"ipywidgets\" for Jupyter support')\n",
       "</pre>\n"
      ],
      "text/plain": [
       "/Users/Jorge/Library/Caches/pypoetry/virtualenvs/lorawan-chatbot-rag-llm-Kbm_Xz7B-py3.11/lib/python3.11/site-packag\n",
       "es/rich/live.py:231: UserWarning: install \"ipywidgets\" for Jupyter support\n",
       "  warnings.warn('install \"ipywidgets\" for Jupyter support')\n"
      ]
     },
     "metadata": {},
     "output_type": "display_data"
    },
    {
     "data": {
      "text/html": [
       "<pre style=\"white-space:pre;overflow-x:auto;line-height:normal;font-family:Menlo,'DejaVu Sans Mono',consolas,'Courier New',monospace\">/Users/Jorge/Library/Caches/pypoetry/virtualenvs/lorawan-chatbot-rag-llm-Kbm_Xz7B-py3.11/lib/python3.11/site-packag\n",
       "es/rich/live.py:231: UserWarning: install \"ipywidgets\" for Jupyter support\n",
       "  warnings.warn('install \"ipywidgets\" for Jupyter support')\n",
       "</pre>\n"
      ],
      "text/plain": [
       "/Users/Jorge/Library/Caches/pypoetry/virtualenvs/lorawan-chatbot-rag-llm-Kbm_Xz7B-py3.11/lib/python3.11/site-packag\n",
       "es/rich/live.py:231: UserWarning: install \"ipywidgets\" for Jupyter support\n",
       "  warnings.warn('install \"ipywidgets\" for Jupyter support')\n"
      ]
     },
     "metadata": {},
     "output_type": "display_data"
    },
    {
     "data": {
      "text/html": [
       "<pre style=\"white-space:pre;overflow-x:auto;line-height:normal;font-family:Menlo,'DejaVu Sans Mono',consolas,'Courier New',monospace\">/Users/Jorge/Library/Caches/pypoetry/virtualenvs/lorawan-chatbot-rag-llm-Kbm_Xz7B-py3.11/lib/python3.11/site-packag\n",
       "es/rich/live.py:231: UserWarning: install \"ipywidgets\" for Jupyter support\n",
       "  warnings.warn('install \"ipywidgets\" for Jupyter support')\n",
       "</pre>\n"
      ],
      "text/plain": [
       "/Users/Jorge/Library/Caches/pypoetry/virtualenvs/lorawan-chatbot-rag-llm-Kbm_Xz7B-py3.11/lib/python3.11/site-packag\n",
       "es/rich/live.py:231: UserWarning: install \"ipywidgets\" for Jupyter support\n",
       "  warnings.warn('install \"ipywidgets\" for Jupyter support')\n"
      ]
     },
     "metadata": {},
     "output_type": "display_data"
    },
    {
     "data": {
      "text/html": [
       "<pre style=\"white-space:pre;overflow-x:auto;line-height:normal;font-family:Menlo,'DejaVu Sans Mono',consolas,'Courier New',monospace\"></pre>\n"
      ],
      "text/plain": []
     },
     "metadata": {},
     "output_type": "display_data"
    },
    {
     "data": {
      "text/html": [
       "<pre style=\"white-space:pre;overflow-x:auto;line-height:normal;font-family:Menlo,'DejaVu Sans Mono',consolas,'Courier New',monospace\">\n",
       "</pre>\n"
      ],
      "text/plain": [
       "\n"
      ]
     },
     "metadata": {},
     "output_type": "display_data"
    },
    {
     "data": {
      "text/html": [
       "<pre style=\"white-space:pre;overflow-x:auto;line-height:normal;font-family:Menlo,'DejaVu Sans Mono',consolas,'Courier New',monospace\">/Users/Jorge/Library/Caches/pypoetry/virtualenvs/lorawan-chatbot-rag-llm-Kbm_Xz7B-py3.11/lib/python3.11/site-packag\n",
       "es/rich/live.py:231: UserWarning: install \"ipywidgets\" for Jupyter support\n",
       "  warnings.warn('install \"ipywidgets\" for Jupyter support')\n",
       "</pre>\n"
      ],
      "text/plain": [
       "/Users/Jorge/Library/Caches/pypoetry/virtualenvs/lorawan-chatbot-rag-llm-Kbm_Xz7B-py3.11/lib/python3.11/site-packag\n",
       "es/rich/live.py:231: UserWarning: install \"ipywidgets\" for Jupyter support\n",
       "  warnings.warn('install \"ipywidgets\" for Jupyter support')\n"
      ]
     },
     "metadata": {},
     "output_type": "display_data"
    },
    {
     "data": {
      "text/html": [
       "<pre style=\"white-space:pre;overflow-x:auto;line-height:normal;font-family:Menlo,'DejaVu Sans Mono',consolas,'Courier New',monospace\">/Users/Jorge/Library/Caches/pypoetry/virtualenvs/lorawan-chatbot-rag-llm-Kbm_Xz7B-py3.11/lib/python3.11/site-packag\n",
       "es/rich/live.py:231: UserWarning: install \"ipywidgets\" for Jupyter support\n",
       "  warnings.warn('install \"ipywidgets\" for Jupyter support')\n",
       "</pre>\n"
      ],
      "text/plain": [
       "/Users/Jorge/Library/Caches/pypoetry/virtualenvs/lorawan-chatbot-rag-llm-Kbm_Xz7B-py3.11/lib/python3.11/site-packag\n",
       "es/rich/live.py:231: UserWarning: install \"ipywidgets\" for Jupyter support\n",
       "  warnings.warn('install \"ipywidgets\" for Jupyter support')\n"
      ]
     },
     "metadata": {},
     "output_type": "display_data"
    },
    {
     "data": {
      "text/html": [
       "<pre style=\"white-space:pre;overflow-x:auto;line-height:normal;font-family:Menlo,'DejaVu Sans Mono',consolas,'Courier New',monospace\">/Users/Jorge/Library/Caches/pypoetry/virtualenvs/lorawan-chatbot-rag-llm-Kbm_Xz7B-py3.11/lib/python3.11/site-packag\n",
       "es/rich/live.py:231: UserWarning: install \"ipywidgets\" for Jupyter support\n",
       "  warnings.warn('install \"ipywidgets\" for Jupyter support')\n",
       "</pre>\n"
      ],
      "text/plain": [
       "/Users/Jorge/Library/Caches/pypoetry/virtualenvs/lorawan-chatbot-rag-llm-Kbm_Xz7B-py3.11/lib/python3.11/site-packag\n",
       "es/rich/live.py:231: UserWarning: install \"ipywidgets\" for Jupyter support\n",
       "  warnings.warn('install \"ipywidgets\" for Jupyter support')\n"
      ]
     },
     "metadata": {},
     "output_type": "display_data"
    },
    {
     "data": {
      "text/html": [
       "<pre style=\"white-space:pre;overflow-x:auto;line-height:normal;font-family:Menlo,'DejaVu Sans Mono',consolas,'Courier New',monospace\">/Users/Jorge/Library/Caches/pypoetry/virtualenvs/lorawan-chatbot-rag-llm-Kbm_Xz7B-py3.11/lib/python3.11/site-packag\n",
       "es/rich/live.py:231: UserWarning: install \"ipywidgets\" for Jupyter support\n",
       "  warnings.warn('install \"ipywidgets\" for Jupyter support')\n",
       "</pre>\n"
      ],
      "text/plain": [
       "/Users/Jorge/Library/Caches/pypoetry/virtualenvs/lorawan-chatbot-rag-llm-Kbm_Xz7B-py3.11/lib/python3.11/site-packag\n",
       "es/rich/live.py:231: UserWarning: install \"ipywidgets\" for Jupyter support\n",
       "  warnings.warn('install \"ipywidgets\" for Jupyter support')\n"
      ]
     },
     "metadata": {},
     "output_type": "display_data"
    },
    {
     "data": {
      "text/html": [
       "<pre style=\"white-space:pre;overflow-x:auto;line-height:normal;font-family:Menlo,'DejaVu Sans Mono',consolas,'Courier New',monospace\">/Users/Jorge/Library/Caches/pypoetry/virtualenvs/lorawan-chatbot-rag-llm-Kbm_Xz7B-py3.11/lib/python3.11/site-packag\n",
       "es/rich/live.py:231: UserWarning: install \"ipywidgets\" for Jupyter support\n",
       "  warnings.warn('install \"ipywidgets\" for Jupyter support')\n",
       "</pre>\n"
      ],
      "text/plain": [
       "/Users/Jorge/Library/Caches/pypoetry/virtualenvs/lorawan-chatbot-rag-llm-Kbm_Xz7B-py3.11/lib/python3.11/site-packag\n",
       "es/rich/live.py:231: UserWarning: install \"ipywidgets\" for Jupyter support\n",
       "  warnings.warn('install \"ipywidgets\" for Jupyter support')\n"
      ]
     },
     "metadata": {},
     "output_type": "display_data"
    },
    {
     "data": {
      "text/html": [
       "<pre style=\"white-space:pre;overflow-x:auto;line-height:normal;font-family:Menlo,'DejaVu Sans Mono',consolas,'Courier New',monospace\">/Users/Jorge/Library/Caches/pypoetry/virtualenvs/lorawan-chatbot-rag-llm-Kbm_Xz7B-py3.11/lib/python3.11/site-packag\n",
       "es/rich/live.py:231: UserWarning: install \"ipywidgets\" for Jupyter support\n",
       "  warnings.warn('install \"ipywidgets\" for Jupyter support')\n",
       "</pre>\n"
      ],
      "text/plain": [
       "/Users/Jorge/Library/Caches/pypoetry/virtualenvs/lorawan-chatbot-rag-llm-Kbm_Xz7B-py3.11/lib/python3.11/site-packag\n",
       "es/rich/live.py:231: UserWarning: install \"ipywidgets\" for Jupyter support\n",
       "  warnings.warn('install \"ipywidgets\" for Jupyter support')\n"
      ]
     },
     "metadata": {},
     "output_type": "display_data"
    },
    {
     "data": {
      "text/html": [
       "<pre style=\"white-space:pre;overflow-x:auto;line-height:normal;font-family:Menlo,'DejaVu Sans Mono',consolas,'Courier New',monospace\">/Users/Jorge/Library/Caches/pypoetry/virtualenvs/lorawan-chatbot-rag-llm-Kbm_Xz7B-py3.11/lib/python3.11/site-packag\n",
       "es/rich/live.py:231: UserWarning: install \"ipywidgets\" for Jupyter support\n",
       "  warnings.warn('install \"ipywidgets\" for Jupyter support')\n",
       "</pre>\n"
      ],
      "text/plain": [
       "/Users/Jorge/Library/Caches/pypoetry/virtualenvs/lorawan-chatbot-rag-llm-Kbm_Xz7B-py3.11/lib/python3.11/site-packag\n",
       "es/rich/live.py:231: UserWarning: install \"ipywidgets\" for Jupyter support\n",
       "  warnings.warn('install \"ipywidgets\" for Jupyter support')\n"
      ]
     },
     "metadata": {},
     "output_type": "display_data"
    },
    {
     "data": {
      "text/html": [
       "<pre style=\"white-space:pre;overflow-x:auto;line-height:normal;font-family:Menlo,'DejaVu Sans Mono',consolas,'Courier New',monospace\">/Users/Jorge/Library/Caches/pypoetry/virtualenvs/lorawan-chatbot-rag-llm-Kbm_Xz7B-py3.11/lib/python3.11/site-packag\n",
       "es/rich/live.py:231: UserWarning: install \"ipywidgets\" for Jupyter support\n",
       "  warnings.warn('install \"ipywidgets\" for Jupyter support')\n",
       "</pre>\n"
      ],
      "text/plain": [
       "/Users/Jorge/Library/Caches/pypoetry/virtualenvs/lorawan-chatbot-rag-llm-Kbm_Xz7B-py3.11/lib/python3.11/site-packag\n",
       "es/rich/live.py:231: UserWarning: install \"ipywidgets\" for Jupyter support\n",
       "  warnings.warn('install \"ipywidgets\" for Jupyter support')\n"
      ]
     },
     "metadata": {},
     "output_type": "display_data"
    },
    {
     "data": {
      "text/html": [
       "<pre style=\"white-space:pre;overflow-x:auto;line-height:normal;font-family:Menlo,'DejaVu Sans Mono',consolas,'Courier New',monospace\">/Users/Jorge/Library/Caches/pypoetry/virtualenvs/lorawan-chatbot-rag-llm-Kbm_Xz7B-py3.11/lib/python3.11/site-packag\n",
       "es/rich/live.py:231: UserWarning: install \"ipywidgets\" for Jupyter support\n",
       "  warnings.warn('install \"ipywidgets\" for Jupyter support')\n",
       "</pre>\n"
      ],
      "text/plain": [
       "/Users/Jorge/Library/Caches/pypoetry/virtualenvs/lorawan-chatbot-rag-llm-Kbm_Xz7B-py3.11/lib/python3.11/site-packag\n",
       "es/rich/live.py:231: UserWarning: install \"ipywidgets\" for Jupyter support\n",
       "  warnings.warn('install \"ipywidgets\" for Jupyter support')\n"
      ]
     },
     "metadata": {},
     "output_type": "display_data"
    },
    {
     "data": {
      "text/html": [
       "<pre style=\"white-space:pre;overflow-x:auto;line-height:normal;font-family:Menlo,'DejaVu Sans Mono',consolas,'Courier New',monospace\"></pre>\n"
      ],
      "text/plain": []
     },
     "metadata": {},
     "output_type": "display_data"
    },
    {
     "data": {
      "text/html": [
       "<pre style=\"white-space:pre;overflow-x:auto;line-height:normal;font-family:Menlo,'DejaVu Sans Mono',consolas,'Courier New',monospace\">\n",
       "</pre>\n"
      ],
      "text/plain": [
       "\n"
      ]
     },
     "metadata": {},
     "output_type": "display_data"
    },
    {
     "data": {
      "text/html": [
       "<pre style=\"white-space:pre;overflow-x:auto;line-height:normal;font-family:Menlo,'DejaVu Sans Mono',consolas,'Courier New',monospace\">/Users/Jorge/Library/Caches/pypoetry/virtualenvs/lorawan-chatbot-rag-llm-Kbm_Xz7B-py3.11/lib/python3.11/site-packag\n",
       "es/rich/live.py:231: UserWarning: install \"ipywidgets\" for Jupyter support\n",
       "  warnings.warn('install \"ipywidgets\" for Jupyter support')\n",
       "</pre>\n"
      ],
      "text/plain": [
       "/Users/Jorge/Library/Caches/pypoetry/virtualenvs/lorawan-chatbot-rag-llm-Kbm_Xz7B-py3.11/lib/python3.11/site-packag\n",
       "es/rich/live.py:231: UserWarning: install \"ipywidgets\" for Jupyter support\n",
       "  warnings.warn('install \"ipywidgets\" for Jupyter support')\n"
      ]
     },
     "metadata": {},
     "output_type": "display_data"
    },
    {
     "data": {
      "text/html": [
       "<pre style=\"white-space:pre;overflow-x:auto;line-height:normal;font-family:Menlo,'DejaVu Sans Mono',consolas,'Courier New',monospace\">/Users/Jorge/Library/Caches/pypoetry/virtualenvs/lorawan-chatbot-rag-llm-Kbm_Xz7B-py3.11/lib/python3.11/site-packag\n",
       "es/rich/live.py:231: UserWarning: install \"ipywidgets\" for Jupyter support\n",
       "  warnings.warn('install \"ipywidgets\" for Jupyter support')\n",
       "</pre>\n"
      ],
      "text/plain": [
       "/Users/Jorge/Library/Caches/pypoetry/virtualenvs/lorawan-chatbot-rag-llm-Kbm_Xz7B-py3.11/lib/python3.11/site-packag\n",
       "es/rich/live.py:231: UserWarning: install \"ipywidgets\" for Jupyter support\n",
       "  warnings.warn('install \"ipywidgets\" for Jupyter support')\n"
      ]
     },
     "metadata": {},
     "output_type": "display_data"
    },
    {
     "data": {
      "text/html": [
       "<pre style=\"white-space:pre;overflow-x:auto;line-height:normal;font-family:Menlo,'DejaVu Sans Mono',consolas,'Courier New',monospace\">/Users/Jorge/Library/Caches/pypoetry/virtualenvs/lorawan-chatbot-rag-llm-Kbm_Xz7B-py3.11/lib/python3.11/site-packag\n",
       "es/rich/live.py:231: UserWarning: install \"ipywidgets\" for Jupyter support\n",
       "  warnings.warn('install \"ipywidgets\" for Jupyter support')\n",
       "</pre>\n"
      ],
      "text/plain": [
       "/Users/Jorge/Library/Caches/pypoetry/virtualenvs/lorawan-chatbot-rag-llm-Kbm_Xz7B-py3.11/lib/python3.11/site-packag\n",
       "es/rich/live.py:231: UserWarning: install \"ipywidgets\" for Jupyter support\n",
       "  warnings.warn('install \"ipywidgets\" for Jupyter support')\n"
      ]
     },
     "metadata": {},
     "output_type": "display_data"
    },
    {
     "data": {
      "text/html": [
       "<pre style=\"white-space:pre;overflow-x:auto;line-height:normal;font-family:Menlo,'DejaVu Sans Mono',consolas,'Courier New',monospace\">/Users/Jorge/Library/Caches/pypoetry/virtualenvs/lorawan-chatbot-rag-llm-Kbm_Xz7B-py3.11/lib/python3.11/site-packag\n",
       "es/rich/live.py:231: UserWarning: install \"ipywidgets\" for Jupyter support\n",
       "  warnings.warn('install \"ipywidgets\" for Jupyter support')\n",
       "</pre>\n"
      ],
      "text/plain": [
       "/Users/Jorge/Library/Caches/pypoetry/virtualenvs/lorawan-chatbot-rag-llm-Kbm_Xz7B-py3.11/lib/python3.11/site-packag\n",
       "es/rich/live.py:231: UserWarning: install \"ipywidgets\" for Jupyter support\n",
       "  warnings.warn('install \"ipywidgets\" for Jupyter support')\n"
      ]
     },
     "metadata": {},
     "output_type": "display_data"
    },
    {
     "data": {
      "text/html": [
       "<pre style=\"white-space:pre;overflow-x:auto;line-height:normal;font-family:Menlo,'DejaVu Sans Mono',consolas,'Courier New',monospace\">/Users/Jorge/Library/Caches/pypoetry/virtualenvs/lorawan-chatbot-rag-llm-Kbm_Xz7B-py3.11/lib/python3.11/site-packag\n",
       "es/rich/live.py:231: UserWarning: install \"ipywidgets\" for Jupyter support\n",
       "  warnings.warn('install \"ipywidgets\" for Jupyter support')\n",
       "</pre>\n"
      ],
      "text/plain": [
       "/Users/Jorge/Library/Caches/pypoetry/virtualenvs/lorawan-chatbot-rag-llm-Kbm_Xz7B-py3.11/lib/python3.11/site-packag\n",
       "es/rich/live.py:231: UserWarning: install \"ipywidgets\" for Jupyter support\n",
       "  warnings.warn('install \"ipywidgets\" for Jupyter support')\n"
      ]
     },
     "metadata": {},
     "output_type": "display_data"
    },
    {
     "data": {
      "text/html": [
       "<pre style=\"white-space:pre;overflow-x:auto;line-height:normal;font-family:Menlo,'DejaVu Sans Mono',consolas,'Courier New',monospace\">/Users/Jorge/Library/Caches/pypoetry/virtualenvs/lorawan-chatbot-rag-llm-Kbm_Xz7B-py3.11/lib/python3.11/site-packag\n",
       "es/rich/live.py:231: UserWarning: install \"ipywidgets\" for Jupyter support\n",
       "  warnings.warn('install \"ipywidgets\" for Jupyter support')\n",
       "</pre>\n"
      ],
      "text/plain": [
       "/Users/Jorge/Library/Caches/pypoetry/virtualenvs/lorawan-chatbot-rag-llm-Kbm_Xz7B-py3.11/lib/python3.11/site-packag\n",
       "es/rich/live.py:231: UserWarning: install \"ipywidgets\" for Jupyter support\n",
       "  warnings.warn('install \"ipywidgets\" for Jupyter support')\n"
      ]
     },
     "metadata": {},
     "output_type": "display_data"
    },
    {
     "data": {
      "text/html": [
       "<pre style=\"white-space:pre;overflow-x:auto;line-height:normal;font-family:Menlo,'DejaVu Sans Mono',consolas,'Courier New',monospace\">/Users/Jorge/Library/Caches/pypoetry/virtualenvs/lorawan-chatbot-rag-llm-Kbm_Xz7B-py3.11/lib/python3.11/site-packag\n",
       "es/rich/live.py:231: UserWarning: install \"ipywidgets\" for Jupyter support\n",
       "  warnings.warn('install \"ipywidgets\" for Jupyter support')\n",
       "</pre>\n"
      ],
      "text/plain": [
       "/Users/Jorge/Library/Caches/pypoetry/virtualenvs/lorawan-chatbot-rag-llm-Kbm_Xz7B-py3.11/lib/python3.11/site-packag\n",
       "es/rich/live.py:231: UserWarning: install \"ipywidgets\" for Jupyter support\n",
       "  warnings.warn('install \"ipywidgets\" for Jupyter support')\n"
      ]
     },
     "metadata": {},
     "output_type": "display_data"
    },
    {
     "data": {
      "text/html": [
       "<pre style=\"white-space:pre;overflow-x:auto;line-height:normal;font-family:Menlo,'DejaVu Sans Mono',consolas,'Courier New',monospace\">/Users/Jorge/Library/Caches/pypoetry/virtualenvs/lorawan-chatbot-rag-llm-Kbm_Xz7B-py3.11/lib/python3.11/site-packag\n",
       "es/rich/live.py:231: UserWarning: install \"ipywidgets\" for Jupyter support\n",
       "  warnings.warn('install \"ipywidgets\" for Jupyter support')\n",
       "</pre>\n"
      ],
      "text/plain": [
       "/Users/Jorge/Library/Caches/pypoetry/virtualenvs/lorawan-chatbot-rag-llm-Kbm_Xz7B-py3.11/lib/python3.11/site-packag\n",
       "es/rich/live.py:231: UserWarning: install \"ipywidgets\" for Jupyter support\n",
       "  warnings.warn('install \"ipywidgets\" for Jupyter support')\n"
      ]
     },
     "metadata": {},
     "output_type": "display_data"
    },
    {
     "data": {
      "text/html": [
       "<pre style=\"white-space:pre;overflow-x:auto;line-height:normal;font-family:Menlo,'DejaVu Sans Mono',consolas,'Courier New',monospace\">/Users/Jorge/Library/Caches/pypoetry/virtualenvs/lorawan-chatbot-rag-llm-Kbm_Xz7B-py3.11/lib/python3.11/site-packag\n",
       "es/rich/live.py:231: UserWarning: install \"ipywidgets\" for Jupyter support\n",
       "  warnings.warn('install \"ipywidgets\" for Jupyter support')\n",
       "</pre>\n"
      ],
      "text/plain": [
       "/Users/Jorge/Library/Caches/pypoetry/virtualenvs/lorawan-chatbot-rag-llm-Kbm_Xz7B-py3.11/lib/python3.11/site-packag\n",
       "es/rich/live.py:231: UserWarning: install \"ipywidgets\" for Jupyter support\n",
       "  warnings.warn('install \"ipywidgets\" for Jupyter support')\n"
      ]
     },
     "metadata": {},
     "output_type": "display_data"
    },
    {
     "data": {
      "text/html": [
       "<pre style=\"white-space:pre;overflow-x:auto;line-height:normal;font-family:Menlo,'DejaVu Sans Mono',consolas,'Courier New',monospace\">/Users/Jorge/Library/Caches/pypoetry/virtualenvs/lorawan-chatbot-rag-llm-Kbm_Xz7B-py3.11/lib/python3.11/site-packag\n",
       "es/rich/live.py:231: UserWarning: install \"ipywidgets\" for Jupyter support\n",
       "  warnings.warn('install \"ipywidgets\" for Jupyter support')\n",
       "</pre>\n"
      ],
      "text/plain": [
       "/Users/Jorge/Library/Caches/pypoetry/virtualenvs/lorawan-chatbot-rag-llm-Kbm_Xz7B-py3.11/lib/python3.11/site-packag\n",
       "es/rich/live.py:231: UserWarning: install \"ipywidgets\" for Jupyter support\n",
       "  warnings.warn('install \"ipywidgets\" for Jupyter support')\n"
      ]
     },
     "metadata": {},
     "output_type": "display_data"
    },
    {
     "data": {
      "text/html": [
       "<pre style=\"white-space:pre;overflow-x:auto;line-height:normal;font-family:Menlo,'DejaVu Sans Mono',consolas,'Courier New',monospace\"></pre>\n"
      ],
      "text/plain": []
     },
     "metadata": {},
     "output_type": "display_data"
    },
    {
     "data": {
      "text/html": [
       "<pre style=\"white-space:pre;overflow-x:auto;line-height:normal;font-family:Menlo,'DejaVu Sans Mono',consolas,'Courier New',monospace\">\n",
       "</pre>\n"
      ],
      "text/plain": [
       "\n"
      ]
     },
     "metadata": {},
     "output_type": "display_data"
    },
    {
     "data": {
      "text/html": [
       "<pre style=\"white-space:pre;overflow-x:auto;line-height:normal;font-family:Menlo,'DejaVu Sans Mono',consolas,'Courier New',monospace\">/Users/Jorge/Library/Caches/pypoetry/virtualenvs/lorawan-chatbot-rag-llm-Kbm_Xz7B-py3.11/lib/python3.11/site-packag\n",
       "es/rich/live.py:231: UserWarning: install \"ipywidgets\" for Jupyter support\n",
       "  warnings.warn('install \"ipywidgets\" for Jupyter support')\n",
       "</pre>\n"
      ],
      "text/plain": [
       "/Users/Jorge/Library/Caches/pypoetry/virtualenvs/lorawan-chatbot-rag-llm-Kbm_Xz7B-py3.11/lib/python3.11/site-packag\n",
       "es/rich/live.py:231: UserWarning: install \"ipywidgets\" for Jupyter support\n",
       "  warnings.warn('install \"ipywidgets\" for Jupyter support')\n"
      ]
     },
     "metadata": {},
     "output_type": "display_data"
    },
    {
     "data": {
      "text/html": [
       "<pre style=\"white-space:pre;overflow-x:auto;line-height:normal;font-family:Menlo,'DejaVu Sans Mono',consolas,'Courier New',monospace\">/Users/Jorge/Library/Caches/pypoetry/virtualenvs/lorawan-chatbot-rag-llm-Kbm_Xz7B-py3.11/lib/python3.11/site-packag\n",
       "es/rich/live.py:231: UserWarning: install \"ipywidgets\" for Jupyter support\n",
       "  warnings.warn('install \"ipywidgets\" for Jupyter support')\n",
       "</pre>\n"
      ],
      "text/plain": [
       "/Users/Jorge/Library/Caches/pypoetry/virtualenvs/lorawan-chatbot-rag-llm-Kbm_Xz7B-py3.11/lib/python3.11/site-packag\n",
       "es/rich/live.py:231: UserWarning: install \"ipywidgets\" for Jupyter support\n",
       "  warnings.warn('install \"ipywidgets\" for Jupyter support')\n"
      ]
     },
     "metadata": {},
     "output_type": "display_data"
    },
    {
     "data": {
      "text/html": [
       "<pre style=\"white-space:pre;overflow-x:auto;line-height:normal;font-family:Menlo,'DejaVu Sans Mono',consolas,'Courier New',monospace\">/Users/Jorge/Library/Caches/pypoetry/virtualenvs/lorawan-chatbot-rag-llm-Kbm_Xz7B-py3.11/lib/python3.11/site-packag\n",
       "es/rich/live.py:231: UserWarning: install \"ipywidgets\" for Jupyter support\n",
       "  warnings.warn('install \"ipywidgets\" for Jupyter support')\n",
       "</pre>\n"
      ],
      "text/plain": [
       "/Users/Jorge/Library/Caches/pypoetry/virtualenvs/lorawan-chatbot-rag-llm-Kbm_Xz7B-py3.11/lib/python3.11/site-packag\n",
       "es/rich/live.py:231: UserWarning: install \"ipywidgets\" for Jupyter support\n",
       "  warnings.warn('install \"ipywidgets\" for Jupyter support')\n"
      ]
     },
     "metadata": {},
     "output_type": "display_data"
    },
    {
     "data": {
      "text/html": [
       "<pre style=\"white-space:pre;overflow-x:auto;line-height:normal;font-family:Menlo,'DejaVu Sans Mono',consolas,'Courier New',monospace\">/Users/Jorge/Library/Caches/pypoetry/virtualenvs/lorawan-chatbot-rag-llm-Kbm_Xz7B-py3.11/lib/python3.11/site-packag\n",
       "es/rich/live.py:231: UserWarning: install \"ipywidgets\" for Jupyter support\n",
       "  warnings.warn('install \"ipywidgets\" for Jupyter support')\n",
       "</pre>\n"
      ],
      "text/plain": [
       "/Users/Jorge/Library/Caches/pypoetry/virtualenvs/lorawan-chatbot-rag-llm-Kbm_Xz7B-py3.11/lib/python3.11/site-packag\n",
       "es/rich/live.py:231: UserWarning: install \"ipywidgets\" for Jupyter support\n",
       "  warnings.warn('install \"ipywidgets\" for Jupyter support')\n"
      ]
     },
     "metadata": {},
     "output_type": "display_data"
    },
    {
     "data": {
      "text/html": [
       "<pre style=\"white-space:pre;overflow-x:auto;line-height:normal;font-family:Menlo,'DejaVu Sans Mono',consolas,'Courier New',monospace\">/Users/Jorge/Library/Caches/pypoetry/virtualenvs/lorawan-chatbot-rag-llm-Kbm_Xz7B-py3.11/lib/python3.11/site-packag\n",
       "es/rich/live.py:231: UserWarning: install \"ipywidgets\" for Jupyter support\n",
       "  warnings.warn('install \"ipywidgets\" for Jupyter support')\n",
       "</pre>\n"
      ],
      "text/plain": [
       "/Users/Jorge/Library/Caches/pypoetry/virtualenvs/lorawan-chatbot-rag-llm-Kbm_Xz7B-py3.11/lib/python3.11/site-packag\n",
       "es/rich/live.py:231: UserWarning: install \"ipywidgets\" for Jupyter support\n",
       "  warnings.warn('install \"ipywidgets\" for Jupyter support')\n"
      ]
     },
     "metadata": {},
     "output_type": "display_data"
    },
    {
     "data": {
      "text/html": [
       "<pre style=\"white-space:pre;overflow-x:auto;line-height:normal;font-family:Menlo,'DejaVu Sans Mono',consolas,'Courier New',monospace\">/Users/Jorge/Library/Caches/pypoetry/virtualenvs/lorawan-chatbot-rag-llm-Kbm_Xz7B-py3.11/lib/python3.11/site-packag\n",
       "es/rich/live.py:231: UserWarning: install \"ipywidgets\" for Jupyter support\n",
       "  warnings.warn('install \"ipywidgets\" for Jupyter support')\n",
       "</pre>\n"
      ],
      "text/plain": [
       "/Users/Jorge/Library/Caches/pypoetry/virtualenvs/lorawan-chatbot-rag-llm-Kbm_Xz7B-py3.11/lib/python3.11/site-packag\n",
       "es/rich/live.py:231: UserWarning: install \"ipywidgets\" for Jupyter support\n",
       "  warnings.warn('install \"ipywidgets\" for Jupyter support')\n"
      ]
     },
     "metadata": {},
     "output_type": "display_data"
    },
    {
     "data": {
      "text/html": [
       "<pre style=\"white-space:pre;overflow-x:auto;line-height:normal;font-family:Menlo,'DejaVu Sans Mono',consolas,'Courier New',monospace\">/Users/Jorge/Library/Caches/pypoetry/virtualenvs/lorawan-chatbot-rag-llm-Kbm_Xz7B-py3.11/lib/python3.11/site-packag\n",
       "es/rich/live.py:231: UserWarning: install \"ipywidgets\" for Jupyter support\n",
       "  warnings.warn('install \"ipywidgets\" for Jupyter support')\n",
       "</pre>\n"
      ],
      "text/plain": [
       "/Users/Jorge/Library/Caches/pypoetry/virtualenvs/lorawan-chatbot-rag-llm-Kbm_Xz7B-py3.11/lib/python3.11/site-packag\n",
       "es/rich/live.py:231: UserWarning: install \"ipywidgets\" for Jupyter support\n",
       "  warnings.warn('install \"ipywidgets\" for Jupyter support')\n"
      ]
     },
     "metadata": {},
     "output_type": "display_data"
    },
    {
     "data": {
      "text/html": [
       "<pre style=\"white-space:pre;overflow-x:auto;line-height:normal;font-family:Menlo,'DejaVu Sans Mono',consolas,'Courier New',monospace\">/Users/Jorge/Library/Caches/pypoetry/virtualenvs/lorawan-chatbot-rag-llm-Kbm_Xz7B-py3.11/lib/python3.11/site-packag\n",
       "es/rich/live.py:231: UserWarning: install \"ipywidgets\" for Jupyter support\n",
       "  warnings.warn('install \"ipywidgets\" for Jupyter support')\n",
       "</pre>\n"
      ],
      "text/plain": [
       "/Users/Jorge/Library/Caches/pypoetry/virtualenvs/lorawan-chatbot-rag-llm-Kbm_Xz7B-py3.11/lib/python3.11/site-packag\n",
       "es/rich/live.py:231: UserWarning: install \"ipywidgets\" for Jupyter support\n",
       "  warnings.warn('install \"ipywidgets\" for Jupyter support')\n"
      ]
     },
     "metadata": {},
     "output_type": "display_data"
    },
    {
     "data": {
      "text/html": [
       "<pre style=\"white-space:pre;overflow-x:auto;line-height:normal;font-family:Menlo,'DejaVu Sans Mono',consolas,'Courier New',monospace\">/Users/Jorge/Library/Caches/pypoetry/virtualenvs/lorawan-chatbot-rag-llm-Kbm_Xz7B-py3.11/lib/python3.11/site-packag\n",
       "es/rich/live.py:231: UserWarning: install \"ipywidgets\" for Jupyter support\n",
       "  warnings.warn('install \"ipywidgets\" for Jupyter support')\n",
       "</pre>\n"
      ],
      "text/plain": [
       "/Users/Jorge/Library/Caches/pypoetry/virtualenvs/lorawan-chatbot-rag-llm-Kbm_Xz7B-py3.11/lib/python3.11/site-packag\n",
       "es/rich/live.py:231: UserWarning: install \"ipywidgets\" for Jupyter support\n",
       "  warnings.warn('install \"ipywidgets\" for Jupyter support')\n"
      ]
     },
     "metadata": {},
     "output_type": "display_data"
    },
    {
     "data": {
      "text/html": [
       "<pre style=\"white-space:pre;overflow-x:auto;line-height:normal;font-family:Menlo,'DejaVu Sans Mono',consolas,'Courier New',monospace\"></pre>\n"
      ],
      "text/plain": []
     },
     "metadata": {},
     "output_type": "display_data"
    },
    {
     "data": {
      "text/html": [
       "<pre style=\"white-space:pre;overflow-x:auto;line-height:normal;font-family:Menlo,'DejaVu Sans Mono',consolas,'Courier New',monospace\">\n",
       "</pre>\n"
      ],
      "text/plain": [
       "\n"
      ]
     },
     "metadata": {},
     "output_type": "display_data"
    },
    {
     "data": {
      "text/html": [
       "<pre style=\"white-space:pre;overflow-x:auto;line-height:normal;font-family:Menlo,'DejaVu Sans Mono',consolas,'Courier New',monospace\">/Users/Jorge/Library/Caches/pypoetry/virtualenvs/lorawan-chatbot-rag-llm-Kbm_Xz7B-py3.11/lib/python3.11/site-packag\n",
       "es/rich/live.py:231: UserWarning: install \"ipywidgets\" for Jupyter support\n",
       "  warnings.warn('install \"ipywidgets\" for Jupyter support')\n",
       "</pre>\n"
      ],
      "text/plain": [
       "/Users/Jorge/Library/Caches/pypoetry/virtualenvs/lorawan-chatbot-rag-llm-Kbm_Xz7B-py3.11/lib/python3.11/site-packag\n",
       "es/rich/live.py:231: UserWarning: install \"ipywidgets\" for Jupyter support\n",
       "  warnings.warn('install \"ipywidgets\" for Jupyter support')\n"
      ]
     },
     "metadata": {},
     "output_type": "display_data"
    },
    {
     "data": {
      "text/html": [
       "<pre style=\"white-space:pre;overflow-x:auto;line-height:normal;font-family:Menlo,'DejaVu Sans Mono',consolas,'Courier New',monospace\">/Users/Jorge/Library/Caches/pypoetry/virtualenvs/lorawan-chatbot-rag-llm-Kbm_Xz7B-py3.11/lib/python3.11/site-packag\n",
       "es/rich/live.py:231: UserWarning: install \"ipywidgets\" for Jupyter support\n",
       "  warnings.warn('install \"ipywidgets\" for Jupyter support')\n",
       "</pre>\n"
      ],
      "text/plain": [
       "/Users/Jorge/Library/Caches/pypoetry/virtualenvs/lorawan-chatbot-rag-llm-Kbm_Xz7B-py3.11/lib/python3.11/site-packag\n",
       "es/rich/live.py:231: UserWarning: install \"ipywidgets\" for Jupyter support\n",
       "  warnings.warn('install \"ipywidgets\" for Jupyter support')\n"
      ]
     },
     "metadata": {},
     "output_type": "display_data"
    },
    {
     "data": {
      "text/html": [
       "<pre style=\"white-space:pre;overflow-x:auto;line-height:normal;font-family:Menlo,'DejaVu Sans Mono',consolas,'Courier New',monospace\">/Users/Jorge/Library/Caches/pypoetry/virtualenvs/lorawan-chatbot-rag-llm-Kbm_Xz7B-py3.11/lib/python3.11/site-packag\n",
       "es/rich/live.py:231: UserWarning: install \"ipywidgets\" for Jupyter support\n",
       "  warnings.warn('install \"ipywidgets\" for Jupyter support')\n",
       "</pre>\n"
      ],
      "text/plain": [
       "/Users/Jorge/Library/Caches/pypoetry/virtualenvs/lorawan-chatbot-rag-llm-Kbm_Xz7B-py3.11/lib/python3.11/site-packag\n",
       "es/rich/live.py:231: UserWarning: install \"ipywidgets\" for Jupyter support\n",
       "  warnings.warn('install \"ipywidgets\" for Jupyter support')\n"
      ]
     },
     "metadata": {},
     "output_type": "display_data"
    },
    {
     "data": {
      "text/html": [
       "<pre style=\"white-space:pre;overflow-x:auto;line-height:normal;font-family:Menlo,'DejaVu Sans Mono',consolas,'Courier New',monospace\">/Users/Jorge/Library/Caches/pypoetry/virtualenvs/lorawan-chatbot-rag-llm-Kbm_Xz7B-py3.11/lib/python3.11/site-packag\n",
       "es/rich/live.py:231: UserWarning: install \"ipywidgets\" for Jupyter support\n",
       "  warnings.warn('install \"ipywidgets\" for Jupyter support')\n",
       "</pre>\n"
      ],
      "text/plain": [
       "/Users/Jorge/Library/Caches/pypoetry/virtualenvs/lorawan-chatbot-rag-llm-Kbm_Xz7B-py3.11/lib/python3.11/site-packag\n",
       "es/rich/live.py:231: UserWarning: install \"ipywidgets\" for Jupyter support\n",
       "  warnings.warn('install \"ipywidgets\" for Jupyter support')\n"
      ]
     },
     "metadata": {},
     "output_type": "display_data"
    },
    {
     "data": {
      "text/html": [
       "<pre style=\"white-space:pre;overflow-x:auto;line-height:normal;font-family:Menlo,'DejaVu Sans Mono',consolas,'Courier New',monospace\">/Users/Jorge/Library/Caches/pypoetry/virtualenvs/lorawan-chatbot-rag-llm-Kbm_Xz7B-py3.11/lib/python3.11/site-packag\n",
       "es/rich/live.py:231: UserWarning: install \"ipywidgets\" for Jupyter support\n",
       "  warnings.warn('install \"ipywidgets\" for Jupyter support')\n",
       "</pre>\n"
      ],
      "text/plain": [
       "/Users/Jorge/Library/Caches/pypoetry/virtualenvs/lorawan-chatbot-rag-llm-Kbm_Xz7B-py3.11/lib/python3.11/site-packag\n",
       "es/rich/live.py:231: UserWarning: install \"ipywidgets\" for Jupyter support\n",
       "  warnings.warn('install \"ipywidgets\" for Jupyter support')\n"
      ]
     },
     "metadata": {},
     "output_type": "display_data"
    },
    {
     "data": {
      "text/html": [
       "<pre style=\"white-space:pre;overflow-x:auto;line-height:normal;font-family:Menlo,'DejaVu Sans Mono',consolas,'Courier New',monospace\">/Users/Jorge/Library/Caches/pypoetry/virtualenvs/lorawan-chatbot-rag-llm-Kbm_Xz7B-py3.11/lib/python3.11/site-packag\n",
       "es/rich/live.py:231: UserWarning: install \"ipywidgets\" for Jupyter support\n",
       "  warnings.warn('install \"ipywidgets\" for Jupyter support')\n",
       "</pre>\n"
      ],
      "text/plain": [
       "/Users/Jorge/Library/Caches/pypoetry/virtualenvs/lorawan-chatbot-rag-llm-Kbm_Xz7B-py3.11/lib/python3.11/site-packag\n",
       "es/rich/live.py:231: UserWarning: install \"ipywidgets\" for Jupyter support\n",
       "  warnings.warn('install \"ipywidgets\" for Jupyter support')\n"
      ]
     },
     "metadata": {},
     "output_type": "display_data"
    },
    {
     "data": {
      "text/html": [
       "<pre style=\"white-space:pre;overflow-x:auto;line-height:normal;font-family:Menlo,'DejaVu Sans Mono',consolas,'Courier New',monospace\">/Users/Jorge/Library/Caches/pypoetry/virtualenvs/lorawan-chatbot-rag-llm-Kbm_Xz7B-py3.11/lib/python3.11/site-packag\n",
       "es/rich/live.py:231: UserWarning: install \"ipywidgets\" for Jupyter support\n",
       "  warnings.warn('install \"ipywidgets\" for Jupyter support')\n",
       "</pre>\n"
      ],
      "text/plain": [
       "/Users/Jorge/Library/Caches/pypoetry/virtualenvs/lorawan-chatbot-rag-llm-Kbm_Xz7B-py3.11/lib/python3.11/site-packag\n",
       "es/rich/live.py:231: UserWarning: install \"ipywidgets\" for Jupyter support\n",
       "  warnings.warn('install \"ipywidgets\" for Jupyter support')\n"
      ]
     },
     "metadata": {},
     "output_type": "display_data"
    },
    {
     "data": {
      "text/html": [
       "<pre style=\"white-space:pre;overflow-x:auto;line-height:normal;font-family:Menlo,'DejaVu Sans Mono',consolas,'Courier New',monospace\">/Users/Jorge/Library/Caches/pypoetry/virtualenvs/lorawan-chatbot-rag-llm-Kbm_Xz7B-py3.11/lib/python3.11/site-packag\n",
       "es/rich/live.py:231: UserWarning: install \"ipywidgets\" for Jupyter support\n",
       "  warnings.warn('install \"ipywidgets\" for Jupyter support')\n",
       "</pre>\n"
      ],
      "text/plain": [
       "/Users/Jorge/Library/Caches/pypoetry/virtualenvs/lorawan-chatbot-rag-llm-Kbm_Xz7B-py3.11/lib/python3.11/site-packag\n",
       "es/rich/live.py:231: UserWarning: install \"ipywidgets\" for Jupyter support\n",
       "  warnings.warn('install \"ipywidgets\" for Jupyter support')\n"
      ]
     },
     "metadata": {},
     "output_type": "display_data"
    },
    {
     "data": {
      "text/html": [
       "<pre style=\"white-space:pre;overflow-x:auto;line-height:normal;font-family:Menlo,'DejaVu Sans Mono',consolas,'Courier New',monospace\">/Users/Jorge/Library/Caches/pypoetry/virtualenvs/lorawan-chatbot-rag-llm-Kbm_Xz7B-py3.11/lib/python3.11/site-packag\n",
       "es/rich/live.py:231: UserWarning: install \"ipywidgets\" for Jupyter support\n",
       "  warnings.warn('install \"ipywidgets\" for Jupyter support')\n",
       "</pre>\n"
      ],
      "text/plain": [
       "/Users/Jorge/Library/Caches/pypoetry/virtualenvs/lorawan-chatbot-rag-llm-Kbm_Xz7B-py3.11/lib/python3.11/site-packag\n",
       "es/rich/live.py:231: UserWarning: install \"ipywidgets\" for Jupyter support\n",
       "  warnings.warn('install \"ipywidgets\" for Jupyter support')\n"
      ]
     },
     "metadata": {},
     "output_type": "display_data"
    },
    {
     "data": {
      "text/html": [
       "<pre style=\"white-space:pre;overflow-x:auto;line-height:normal;font-family:Menlo,'DejaVu Sans Mono',consolas,'Courier New',monospace\">/Users/Jorge/Library/Caches/pypoetry/virtualenvs/lorawan-chatbot-rag-llm-Kbm_Xz7B-py3.11/lib/python3.11/site-packag\n",
       "es/rich/live.py:231: UserWarning: install \"ipywidgets\" for Jupyter support\n",
       "  warnings.warn('install \"ipywidgets\" for Jupyter support')\n",
       "</pre>\n"
      ],
      "text/plain": [
       "/Users/Jorge/Library/Caches/pypoetry/virtualenvs/lorawan-chatbot-rag-llm-Kbm_Xz7B-py3.11/lib/python3.11/site-packag\n",
       "es/rich/live.py:231: UserWarning: install \"ipywidgets\" for Jupyter support\n",
       "  warnings.warn('install \"ipywidgets\" for Jupyter support')\n"
      ]
     },
     "metadata": {},
     "output_type": "display_data"
    },
    {
     "data": {
      "text/html": [
       "<pre style=\"white-space:pre;overflow-x:auto;line-height:normal;font-family:Menlo,'DejaVu Sans Mono',consolas,'Courier New',monospace\"></pre>\n"
      ],
      "text/plain": []
     },
     "metadata": {},
     "output_type": "display_data"
    },
    {
     "data": {
      "text/html": [
       "<pre style=\"white-space:pre;overflow-x:auto;line-height:normal;font-family:Menlo,'DejaVu Sans Mono',consolas,'Courier New',monospace\">\n",
       "</pre>\n"
      ],
      "text/plain": [
       "\n"
      ]
     },
     "metadata": {},
     "output_type": "display_data"
    },
    {
     "data": {
      "text/html": [
       "<pre style=\"white-space:pre;overflow-x:auto;line-height:normal;font-family:Menlo,'DejaVu Sans Mono',consolas,'Courier New',monospace\">/Users/Jorge/Library/Caches/pypoetry/virtualenvs/lorawan-chatbot-rag-llm-Kbm_Xz7B-py3.11/lib/python3.11/site-packag\n",
       "es/rich/live.py:231: UserWarning: install \"ipywidgets\" for Jupyter support\n",
       "  warnings.warn('install \"ipywidgets\" for Jupyter support')\n",
       "</pre>\n"
      ],
      "text/plain": [
       "/Users/Jorge/Library/Caches/pypoetry/virtualenvs/lorawan-chatbot-rag-llm-Kbm_Xz7B-py3.11/lib/python3.11/site-packag\n",
       "es/rich/live.py:231: UserWarning: install \"ipywidgets\" for Jupyter support\n",
       "  warnings.warn('install \"ipywidgets\" for Jupyter support')\n"
      ]
     },
     "metadata": {},
     "output_type": "display_data"
    },
    {
     "data": {
      "text/html": [
       "<pre style=\"white-space:pre;overflow-x:auto;line-height:normal;font-family:Menlo,'DejaVu Sans Mono',consolas,'Courier New',monospace\">/Users/Jorge/Library/Caches/pypoetry/virtualenvs/lorawan-chatbot-rag-llm-Kbm_Xz7B-py3.11/lib/python3.11/site-packag\n",
       "es/rich/live.py:231: UserWarning: install \"ipywidgets\" for Jupyter support\n",
       "  warnings.warn('install \"ipywidgets\" for Jupyter support')\n",
       "</pre>\n"
      ],
      "text/plain": [
       "/Users/Jorge/Library/Caches/pypoetry/virtualenvs/lorawan-chatbot-rag-llm-Kbm_Xz7B-py3.11/lib/python3.11/site-packag\n",
       "es/rich/live.py:231: UserWarning: install \"ipywidgets\" for Jupyter support\n",
       "  warnings.warn('install \"ipywidgets\" for Jupyter support')\n"
      ]
     },
     "metadata": {},
     "output_type": "display_data"
    },
    {
     "data": {
      "text/html": [
       "<pre style=\"white-space:pre;overflow-x:auto;line-height:normal;font-family:Menlo,'DejaVu Sans Mono',consolas,'Courier New',monospace\">/Users/Jorge/Library/Caches/pypoetry/virtualenvs/lorawan-chatbot-rag-llm-Kbm_Xz7B-py3.11/lib/python3.11/site-packag\n",
       "es/rich/live.py:231: UserWarning: install \"ipywidgets\" for Jupyter support\n",
       "  warnings.warn('install \"ipywidgets\" for Jupyter support')\n",
       "</pre>\n"
      ],
      "text/plain": [
       "/Users/Jorge/Library/Caches/pypoetry/virtualenvs/lorawan-chatbot-rag-llm-Kbm_Xz7B-py3.11/lib/python3.11/site-packag\n",
       "es/rich/live.py:231: UserWarning: install \"ipywidgets\" for Jupyter support\n",
       "  warnings.warn('install \"ipywidgets\" for Jupyter support')\n"
      ]
     },
     "metadata": {},
     "output_type": "display_data"
    },
    {
     "data": {
      "text/html": [
       "<pre style=\"white-space:pre;overflow-x:auto;line-height:normal;font-family:Menlo,'DejaVu Sans Mono',consolas,'Courier New',monospace\">/Users/Jorge/Library/Caches/pypoetry/virtualenvs/lorawan-chatbot-rag-llm-Kbm_Xz7B-py3.11/lib/python3.11/site-packag\n",
       "es/rich/live.py:231: UserWarning: install \"ipywidgets\" for Jupyter support\n",
       "  warnings.warn('install \"ipywidgets\" for Jupyter support')\n",
       "</pre>\n"
      ],
      "text/plain": [
       "/Users/Jorge/Library/Caches/pypoetry/virtualenvs/lorawan-chatbot-rag-llm-Kbm_Xz7B-py3.11/lib/python3.11/site-packag\n",
       "es/rich/live.py:231: UserWarning: install \"ipywidgets\" for Jupyter support\n",
       "  warnings.warn('install \"ipywidgets\" for Jupyter support')\n"
      ]
     },
     "metadata": {},
     "output_type": "display_data"
    },
    {
     "data": {
      "text/html": [
       "<pre style=\"white-space:pre;overflow-x:auto;line-height:normal;font-family:Menlo,'DejaVu Sans Mono',consolas,'Courier New',monospace\">/Users/Jorge/Library/Caches/pypoetry/virtualenvs/lorawan-chatbot-rag-llm-Kbm_Xz7B-py3.11/lib/python3.11/site-packag\n",
       "es/rich/live.py:231: UserWarning: install \"ipywidgets\" for Jupyter support\n",
       "  warnings.warn('install \"ipywidgets\" for Jupyter support')\n",
       "</pre>\n"
      ],
      "text/plain": [
       "/Users/Jorge/Library/Caches/pypoetry/virtualenvs/lorawan-chatbot-rag-llm-Kbm_Xz7B-py3.11/lib/python3.11/site-packag\n",
       "es/rich/live.py:231: UserWarning: install \"ipywidgets\" for Jupyter support\n",
       "  warnings.warn('install \"ipywidgets\" for Jupyter support')\n"
      ]
     },
     "metadata": {},
     "output_type": "display_data"
    },
    {
     "data": {
      "text/html": [
       "<pre style=\"white-space:pre;overflow-x:auto;line-height:normal;font-family:Menlo,'DejaVu Sans Mono',consolas,'Courier New',monospace\">/Users/Jorge/Library/Caches/pypoetry/virtualenvs/lorawan-chatbot-rag-llm-Kbm_Xz7B-py3.11/lib/python3.11/site-packag\n",
       "es/rich/live.py:231: UserWarning: install \"ipywidgets\" for Jupyter support\n",
       "  warnings.warn('install \"ipywidgets\" for Jupyter support')\n",
       "</pre>\n"
      ],
      "text/plain": [
       "/Users/Jorge/Library/Caches/pypoetry/virtualenvs/lorawan-chatbot-rag-llm-Kbm_Xz7B-py3.11/lib/python3.11/site-packag\n",
       "es/rich/live.py:231: UserWarning: install \"ipywidgets\" for Jupyter support\n",
       "  warnings.warn('install \"ipywidgets\" for Jupyter support')\n"
      ]
     },
     "metadata": {},
     "output_type": "display_data"
    },
    {
     "data": {
      "text/html": [
       "<pre style=\"white-space:pre;overflow-x:auto;line-height:normal;font-family:Menlo,'DejaVu Sans Mono',consolas,'Courier New',monospace\">/Users/Jorge/Library/Caches/pypoetry/virtualenvs/lorawan-chatbot-rag-llm-Kbm_Xz7B-py3.11/lib/python3.11/site-packag\n",
       "es/rich/live.py:231: UserWarning: install \"ipywidgets\" for Jupyter support\n",
       "  warnings.warn('install \"ipywidgets\" for Jupyter support')\n",
       "</pre>\n"
      ],
      "text/plain": [
       "/Users/Jorge/Library/Caches/pypoetry/virtualenvs/lorawan-chatbot-rag-llm-Kbm_Xz7B-py3.11/lib/python3.11/site-packag\n",
       "es/rich/live.py:231: UserWarning: install \"ipywidgets\" for Jupyter support\n",
       "  warnings.warn('install \"ipywidgets\" for Jupyter support')\n"
      ]
     },
     "metadata": {},
     "output_type": "display_data"
    },
    {
     "data": {
      "text/html": [
       "<pre style=\"white-space:pre;overflow-x:auto;line-height:normal;font-family:Menlo,'DejaVu Sans Mono',consolas,'Courier New',monospace\">/Users/Jorge/Library/Caches/pypoetry/virtualenvs/lorawan-chatbot-rag-llm-Kbm_Xz7B-py3.11/lib/python3.11/site-packag\n",
       "es/rich/live.py:231: UserWarning: install \"ipywidgets\" for Jupyter support\n",
       "  warnings.warn('install \"ipywidgets\" for Jupyter support')\n",
       "</pre>\n"
      ],
      "text/plain": [
       "/Users/Jorge/Library/Caches/pypoetry/virtualenvs/lorawan-chatbot-rag-llm-Kbm_Xz7B-py3.11/lib/python3.11/site-packag\n",
       "es/rich/live.py:231: UserWarning: install \"ipywidgets\" for Jupyter support\n",
       "  warnings.warn('install \"ipywidgets\" for Jupyter support')\n"
      ]
     },
     "metadata": {},
     "output_type": "display_data"
    },
    {
     "data": {
      "text/html": [
       "<pre style=\"white-space:pre;overflow-x:auto;line-height:normal;font-family:Menlo,'DejaVu Sans Mono',consolas,'Courier New',monospace\"></pre>\n"
      ],
      "text/plain": []
     },
     "metadata": {},
     "output_type": "display_data"
    },
    {
     "data": {
      "text/html": [
       "<pre style=\"white-space:pre;overflow-x:auto;line-height:normal;font-family:Menlo,'DejaVu Sans Mono',consolas,'Courier New',monospace\">\n",
       "</pre>\n"
      ],
      "text/plain": [
       "\n"
      ]
     },
     "metadata": {},
     "output_type": "display_data"
    },
    {
     "data": {
      "text/html": [
       "<pre style=\"white-space:pre;overflow-x:auto;line-height:normal;font-family:Menlo,'DejaVu Sans Mono',consolas,'Courier New',monospace\">/Users/Jorge/Library/Caches/pypoetry/virtualenvs/lorawan-chatbot-rag-llm-Kbm_Xz7B-py3.11/lib/python3.11/site-packag\n",
       "es/rich/live.py:231: UserWarning: install \"ipywidgets\" for Jupyter support\n",
       "  warnings.warn('install \"ipywidgets\" for Jupyter support')\n",
       "</pre>\n"
      ],
      "text/plain": [
       "/Users/Jorge/Library/Caches/pypoetry/virtualenvs/lorawan-chatbot-rag-llm-Kbm_Xz7B-py3.11/lib/python3.11/site-packag\n",
       "es/rich/live.py:231: UserWarning: install \"ipywidgets\" for Jupyter support\n",
       "  warnings.warn('install \"ipywidgets\" for Jupyter support')\n"
      ]
     },
     "metadata": {},
     "output_type": "display_data"
    },
    {
     "data": {
      "text/html": [
       "<pre style=\"white-space:pre;overflow-x:auto;line-height:normal;font-family:Menlo,'DejaVu Sans Mono',consolas,'Courier New',monospace\">/Users/Jorge/Library/Caches/pypoetry/virtualenvs/lorawan-chatbot-rag-llm-Kbm_Xz7B-py3.11/lib/python3.11/site-packag\n",
       "es/rich/live.py:231: UserWarning: install \"ipywidgets\" for Jupyter support\n",
       "  warnings.warn('install \"ipywidgets\" for Jupyter support')\n",
       "</pre>\n"
      ],
      "text/plain": [
       "/Users/Jorge/Library/Caches/pypoetry/virtualenvs/lorawan-chatbot-rag-llm-Kbm_Xz7B-py3.11/lib/python3.11/site-packag\n",
       "es/rich/live.py:231: UserWarning: install \"ipywidgets\" for Jupyter support\n",
       "  warnings.warn('install \"ipywidgets\" for Jupyter support')\n"
      ]
     },
     "metadata": {},
     "output_type": "display_data"
    },
    {
     "data": {
      "text/html": [
       "<pre style=\"white-space:pre;overflow-x:auto;line-height:normal;font-family:Menlo,'DejaVu Sans Mono',consolas,'Courier New',monospace\">/Users/Jorge/Library/Caches/pypoetry/virtualenvs/lorawan-chatbot-rag-llm-Kbm_Xz7B-py3.11/lib/python3.11/site-packag\n",
       "es/rich/live.py:231: UserWarning: install \"ipywidgets\" for Jupyter support\n",
       "  warnings.warn('install \"ipywidgets\" for Jupyter support')\n",
       "</pre>\n"
      ],
      "text/plain": [
       "/Users/Jorge/Library/Caches/pypoetry/virtualenvs/lorawan-chatbot-rag-llm-Kbm_Xz7B-py3.11/lib/python3.11/site-packag\n",
       "es/rich/live.py:231: UserWarning: install \"ipywidgets\" for Jupyter support\n",
       "  warnings.warn('install \"ipywidgets\" for Jupyter support')\n"
      ]
     },
     "metadata": {},
     "output_type": "display_data"
    },
    {
     "data": {
      "text/html": [
       "<pre style=\"white-space:pre;overflow-x:auto;line-height:normal;font-family:Menlo,'DejaVu Sans Mono',consolas,'Courier New',monospace\">/Users/Jorge/Library/Caches/pypoetry/virtualenvs/lorawan-chatbot-rag-llm-Kbm_Xz7B-py3.11/lib/python3.11/site-packag\n",
       "es/rich/live.py:231: UserWarning: install \"ipywidgets\" for Jupyter support\n",
       "  warnings.warn('install \"ipywidgets\" for Jupyter support')\n",
       "</pre>\n"
      ],
      "text/plain": [
       "/Users/Jorge/Library/Caches/pypoetry/virtualenvs/lorawan-chatbot-rag-llm-Kbm_Xz7B-py3.11/lib/python3.11/site-packag\n",
       "es/rich/live.py:231: UserWarning: install \"ipywidgets\" for Jupyter support\n",
       "  warnings.warn('install \"ipywidgets\" for Jupyter support')\n"
      ]
     },
     "metadata": {},
     "output_type": "display_data"
    },
    {
     "data": {
      "text/html": [
       "<pre style=\"white-space:pre;overflow-x:auto;line-height:normal;font-family:Menlo,'DejaVu Sans Mono',consolas,'Courier New',monospace\">/Users/Jorge/Library/Caches/pypoetry/virtualenvs/lorawan-chatbot-rag-llm-Kbm_Xz7B-py3.11/lib/python3.11/site-packag\n",
       "es/rich/live.py:231: UserWarning: install \"ipywidgets\" for Jupyter support\n",
       "  warnings.warn('install \"ipywidgets\" for Jupyter support')\n",
       "</pre>\n"
      ],
      "text/plain": [
       "/Users/Jorge/Library/Caches/pypoetry/virtualenvs/lorawan-chatbot-rag-llm-Kbm_Xz7B-py3.11/lib/python3.11/site-packag\n",
       "es/rich/live.py:231: UserWarning: install \"ipywidgets\" for Jupyter support\n",
       "  warnings.warn('install \"ipywidgets\" for Jupyter support')\n"
      ]
     },
     "metadata": {},
     "output_type": "display_data"
    },
    {
     "data": {
      "text/html": [
       "<pre style=\"white-space:pre;overflow-x:auto;line-height:normal;font-family:Menlo,'DejaVu Sans Mono',consolas,'Courier New',monospace\">/Users/Jorge/Library/Caches/pypoetry/virtualenvs/lorawan-chatbot-rag-llm-Kbm_Xz7B-py3.11/lib/python3.11/site-packag\n",
       "es/rich/live.py:231: UserWarning: install \"ipywidgets\" for Jupyter support\n",
       "  warnings.warn('install \"ipywidgets\" for Jupyter support')\n",
       "</pre>\n"
      ],
      "text/plain": [
       "/Users/Jorge/Library/Caches/pypoetry/virtualenvs/lorawan-chatbot-rag-llm-Kbm_Xz7B-py3.11/lib/python3.11/site-packag\n",
       "es/rich/live.py:231: UserWarning: install \"ipywidgets\" for Jupyter support\n",
       "  warnings.warn('install \"ipywidgets\" for Jupyter support')\n"
      ]
     },
     "metadata": {},
     "output_type": "display_data"
    },
    {
     "data": {
      "text/html": [
       "<pre style=\"white-space:pre;overflow-x:auto;line-height:normal;font-family:Menlo,'DejaVu Sans Mono',consolas,'Courier New',monospace\">/Users/Jorge/Library/Caches/pypoetry/virtualenvs/lorawan-chatbot-rag-llm-Kbm_Xz7B-py3.11/lib/python3.11/site-packag\n",
       "es/rich/live.py:231: UserWarning: install \"ipywidgets\" for Jupyter support\n",
       "  warnings.warn('install \"ipywidgets\" for Jupyter support')\n",
       "</pre>\n"
      ],
      "text/plain": [
       "/Users/Jorge/Library/Caches/pypoetry/virtualenvs/lorawan-chatbot-rag-llm-Kbm_Xz7B-py3.11/lib/python3.11/site-packag\n",
       "es/rich/live.py:231: UserWarning: install \"ipywidgets\" for Jupyter support\n",
       "  warnings.warn('install \"ipywidgets\" for Jupyter support')\n"
      ]
     },
     "metadata": {},
     "output_type": "display_data"
    },
    {
     "data": {
      "text/html": [
       "<pre style=\"white-space:pre;overflow-x:auto;line-height:normal;font-family:Menlo,'DejaVu Sans Mono',consolas,'Courier New',monospace\">/Users/Jorge/Library/Caches/pypoetry/virtualenvs/lorawan-chatbot-rag-llm-Kbm_Xz7B-py3.11/lib/python3.11/site-packag\n",
       "es/rich/live.py:231: UserWarning: install \"ipywidgets\" for Jupyter support\n",
       "  warnings.warn('install \"ipywidgets\" for Jupyter support')\n",
       "</pre>\n"
      ],
      "text/plain": [
       "/Users/Jorge/Library/Caches/pypoetry/virtualenvs/lorawan-chatbot-rag-llm-Kbm_Xz7B-py3.11/lib/python3.11/site-packag\n",
       "es/rich/live.py:231: UserWarning: install \"ipywidgets\" for Jupyter support\n",
       "  warnings.warn('install \"ipywidgets\" for Jupyter support')\n"
      ]
     },
     "metadata": {},
     "output_type": "display_data"
    },
    {
     "data": {
      "text/html": [
       "<pre style=\"white-space:pre;overflow-x:auto;line-height:normal;font-family:Menlo,'DejaVu Sans Mono',consolas,'Courier New',monospace\">/Users/Jorge/Library/Caches/pypoetry/virtualenvs/lorawan-chatbot-rag-llm-Kbm_Xz7B-py3.11/lib/python3.11/site-packag\n",
       "es/rich/live.py:231: UserWarning: install \"ipywidgets\" for Jupyter support\n",
       "  warnings.warn('install \"ipywidgets\" for Jupyter support')\n",
       "</pre>\n"
      ],
      "text/plain": [
       "/Users/Jorge/Library/Caches/pypoetry/virtualenvs/lorawan-chatbot-rag-llm-Kbm_Xz7B-py3.11/lib/python3.11/site-packag\n",
       "es/rich/live.py:231: UserWarning: install \"ipywidgets\" for Jupyter support\n",
       "  warnings.warn('install \"ipywidgets\" for Jupyter support')\n"
      ]
     },
     "metadata": {},
     "output_type": "display_data"
    },
    {
     "data": {
      "text/html": [
       "<pre style=\"white-space:pre;overflow-x:auto;line-height:normal;font-family:Menlo,'DejaVu Sans Mono',consolas,'Courier New',monospace\">/Users/Jorge/Library/Caches/pypoetry/virtualenvs/lorawan-chatbot-rag-llm-Kbm_Xz7B-py3.11/lib/python3.11/site-packag\n",
       "es/rich/live.py:231: UserWarning: install \"ipywidgets\" for Jupyter support\n",
       "  warnings.warn('install \"ipywidgets\" for Jupyter support')\n",
       "</pre>\n"
      ],
      "text/plain": [
       "/Users/Jorge/Library/Caches/pypoetry/virtualenvs/lorawan-chatbot-rag-llm-Kbm_Xz7B-py3.11/lib/python3.11/site-packag\n",
       "es/rich/live.py:231: UserWarning: install \"ipywidgets\" for Jupyter support\n",
       "  warnings.warn('install \"ipywidgets\" for Jupyter support')\n"
      ]
     },
     "metadata": {},
     "output_type": "display_data"
    },
    {
     "data": {
      "text/html": [
       "<pre style=\"white-space:pre;overflow-x:auto;line-height:normal;font-family:Menlo,'DejaVu Sans Mono',consolas,'Courier New',monospace\">/Users/Jorge/Library/Caches/pypoetry/virtualenvs/lorawan-chatbot-rag-llm-Kbm_Xz7B-py3.11/lib/python3.11/site-packag\n",
       "es/rich/live.py:231: UserWarning: install \"ipywidgets\" for Jupyter support\n",
       "  warnings.warn('install \"ipywidgets\" for Jupyter support')\n",
       "</pre>\n"
      ],
      "text/plain": [
       "/Users/Jorge/Library/Caches/pypoetry/virtualenvs/lorawan-chatbot-rag-llm-Kbm_Xz7B-py3.11/lib/python3.11/site-packag\n",
       "es/rich/live.py:231: UserWarning: install \"ipywidgets\" for Jupyter support\n",
       "  warnings.warn('install \"ipywidgets\" for Jupyter support')\n"
      ]
     },
     "metadata": {},
     "output_type": "display_data"
    },
    {
     "data": {
      "text/html": [
       "<pre style=\"white-space:pre;overflow-x:auto;line-height:normal;font-family:Menlo,'DejaVu Sans Mono',consolas,'Courier New',monospace\"></pre>\n"
      ],
      "text/plain": []
     },
     "metadata": {},
     "output_type": "display_data"
    },
    {
     "data": {
      "text/html": [
       "<pre style=\"white-space:pre;overflow-x:auto;line-height:normal;font-family:Menlo,'DejaVu Sans Mono',consolas,'Courier New',monospace\">\n",
       "</pre>\n"
      ],
      "text/plain": [
       "\n"
      ]
     },
     "metadata": {},
     "output_type": "display_data"
    },
    {
     "data": {
      "text/html": [
       "<pre style=\"white-space:pre;overflow-x:auto;line-height:normal;font-family:Menlo,'DejaVu Sans Mono',consolas,'Courier New',monospace\">/Users/Jorge/Library/Caches/pypoetry/virtualenvs/lorawan-chatbot-rag-llm-Kbm_Xz7B-py3.11/lib/python3.11/site-packag\n",
       "es/rich/live.py:231: UserWarning: install \"ipywidgets\" for Jupyter support\n",
       "  warnings.warn('install \"ipywidgets\" for Jupyter support')\n",
       "</pre>\n"
      ],
      "text/plain": [
       "/Users/Jorge/Library/Caches/pypoetry/virtualenvs/lorawan-chatbot-rag-llm-Kbm_Xz7B-py3.11/lib/python3.11/site-packag\n",
       "es/rich/live.py:231: UserWarning: install \"ipywidgets\" for Jupyter support\n",
       "  warnings.warn('install \"ipywidgets\" for Jupyter support')\n"
      ]
     },
     "metadata": {},
     "output_type": "display_data"
    },
    {
     "data": {
      "text/html": [
       "<pre style=\"white-space:pre;overflow-x:auto;line-height:normal;font-family:Menlo,'DejaVu Sans Mono',consolas,'Courier New',monospace\">/Users/Jorge/Library/Caches/pypoetry/virtualenvs/lorawan-chatbot-rag-llm-Kbm_Xz7B-py3.11/lib/python3.11/site-packag\n",
       "es/rich/live.py:231: UserWarning: install \"ipywidgets\" for Jupyter support\n",
       "  warnings.warn('install \"ipywidgets\" for Jupyter support')\n",
       "</pre>\n"
      ],
      "text/plain": [
       "/Users/Jorge/Library/Caches/pypoetry/virtualenvs/lorawan-chatbot-rag-llm-Kbm_Xz7B-py3.11/lib/python3.11/site-packag\n",
       "es/rich/live.py:231: UserWarning: install \"ipywidgets\" for Jupyter support\n",
       "  warnings.warn('install \"ipywidgets\" for Jupyter support')\n"
      ]
     },
     "metadata": {},
     "output_type": "display_data"
    },
    {
     "data": {
      "text/html": [
       "<pre style=\"white-space:pre;overflow-x:auto;line-height:normal;font-family:Menlo,'DejaVu Sans Mono',consolas,'Courier New',monospace\">/Users/Jorge/Library/Caches/pypoetry/virtualenvs/lorawan-chatbot-rag-llm-Kbm_Xz7B-py3.11/lib/python3.11/site-packag\n",
       "es/rich/live.py:231: UserWarning: install \"ipywidgets\" for Jupyter support\n",
       "  warnings.warn('install \"ipywidgets\" for Jupyter support')\n",
       "</pre>\n"
      ],
      "text/plain": [
       "/Users/Jorge/Library/Caches/pypoetry/virtualenvs/lorawan-chatbot-rag-llm-Kbm_Xz7B-py3.11/lib/python3.11/site-packag\n",
       "es/rich/live.py:231: UserWarning: install \"ipywidgets\" for Jupyter support\n",
       "  warnings.warn('install \"ipywidgets\" for Jupyter support')\n"
      ]
     },
     "metadata": {},
     "output_type": "display_data"
    },
    {
     "data": {
      "text/html": [
       "<pre style=\"white-space:pre;overflow-x:auto;line-height:normal;font-family:Menlo,'DejaVu Sans Mono',consolas,'Courier New',monospace\">/Users/Jorge/Library/Caches/pypoetry/virtualenvs/lorawan-chatbot-rag-llm-Kbm_Xz7B-py3.11/lib/python3.11/site-packag\n",
       "es/rich/live.py:231: UserWarning: install \"ipywidgets\" for Jupyter support\n",
       "  warnings.warn('install \"ipywidgets\" for Jupyter support')\n",
       "</pre>\n"
      ],
      "text/plain": [
       "/Users/Jorge/Library/Caches/pypoetry/virtualenvs/lorawan-chatbot-rag-llm-Kbm_Xz7B-py3.11/lib/python3.11/site-packag\n",
       "es/rich/live.py:231: UserWarning: install \"ipywidgets\" for Jupyter support\n",
       "  warnings.warn('install \"ipywidgets\" for Jupyter support')\n"
      ]
     },
     "metadata": {},
     "output_type": "display_data"
    },
    {
     "data": {
      "text/html": [
       "<pre style=\"white-space:pre;overflow-x:auto;line-height:normal;font-family:Menlo,'DejaVu Sans Mono',consolas,'Courier New',monospace\">/Users/Jorge/Library/Caches/pypoetry/virtualenvs/lorawan-chatbot-rag-llm-Kbm_Xz7B-py3.11/lib/python3.11/site-packag\n",
       "es/rich/live.py:231: UserWarning: install \"ipywidgets\" for Jupyter support\n",
       "  warnings.warn('install \"ipywidgets\" for Jupyter support')\n",
       "</pre>\n"
      ],
      "text/plain": [
       "/Users/Jorge/Library/Caches/pypoetry/virtualenvs/lorawan-chatbot-rag-llm-Kbm_Xz7B-py3.11/lib/python3.11/site-packag\n",
       "es/rich/live.py:231: UserWarning: install \"ipywidgets\" for Jupyter support\n",
       "  warnings.warn('install \"ipywidgets\" for Jupyter support')\n"
      ]
     },
     "metadata": {},
     "output_type": "display_data"
    },
    {
     "data": {
      "text/html": [
       "<pre style=\"white-space:pre;overflow-x:auto;line-height:normal;font-family:Menlo,'DejaVu Sans Mono',consolas,'Courier New',monospace\">/Users/Jorge/Library/Caches/pypoetry/virtualenvs/lorawan-chatbot-rag-llm-Kbm_Xz7B-py3.11/lib/python3.11/site-packag\n",
       "es/rich/live.py:231: UserWarning: install \"ipywidgets\" for Jupyter support\n",
       "  warnings.warn('install \"ipywidgets\" for Jupyter support')\n",
       "</pre>\n"
      ],
      "text/plain": [
       "/Users/Jorge/Library/Caches/pypoetry/virtualenvs/lorawan-chatbot-rag-llm-Kbm_Xz7B-py3.11/lib/python3.11/site-packag\n",
       "es/rich/live.py:231: UserWarning: install \"ipywidgets\" for Jupyter support\n",
       "  warnings.warn('install \"ipywidgets\" for Jupyter support')\n"
      ]
     },
     "metadata": {},
     "output_type": "display_data"
    },
    {
     "data": {
      "text/html": [
       "<pre style=\"white-space:pre;overflow-x:auto;line-height:normal;font-family:Menlo,'DejaVu Sans Mono',consolas,'Courier New',monospace\">/Users/Jorge/Library/Caches/pypoetry/virtualenvs/lorawan-chatbot-rag-llm-Kbm_Xz7B-py3.11/lib/python3.11/site-packag\n",
       "es/rich/live.py:231: UserWarning: install \"ipywidgets\" for Jupyter support\n",
       "  warnings.warn('install \"ipywidgets\" for Jupyter support')\n",
       "</pre>\n"
      ],
      "text/plain": [
       "/Users/Jorge/Library/Caches/pypoetry/virtualenvs/lorawan-chatbot-rag-llm-Kbm_Xz7B-py3.11/lib/python3.11/site-packag\n",
       "es/rich/live.py:231: UserWarning: install \"ipywidgets\" for Jupyter support\n",
       "  warnings.warn('install \"ipywidgets\" for Jupyter support')\n"
      ]
     },
     "metadata": {},
     "output_type": "display_data"
    },
    {
     "data": {
      "text/html": [
       "<pre style=\"white-space:pre;overflow-x:auto;line-height:normal;font-family:Menlo,'DejaVu Sans Mono',consolas,'Courier New',monospace\">/Users/Jorge/Library/Caches/pypoetry/virtualenvs/lorawan-chatbot-rag-llm-Kbm_Xz7B-py3.11/lib/python3.11/site-packag\n",
       "es/rich/live.py:231: UserWarning: install \"ipywidgets\" for Jupyter support\n",
       "  warnings.warn('install \"ipywidgets\" for Jupyter support')\n",
       "</pre>\n"
      ],
      "text/plain": [
       "/Users/Jorge/Library/Caches/pypoetry/virtualenvs/lorawan-chatbot-rag-llm-Kbm_Xz7B-py3.11/lib/python3.11/site-packag\n",
       "es/rich/live.py:231: UserWarning: install \"ipywidgets\" for Jupyter support\n",
       "  warnings.warn('install \"ipywidgets\" for Jupyter support')\n"
      ]
     },
     "metadata": {},
     "output_type": "display_data"
    },
    {
     "data": {
      "text/html": [
       "<pre style=\"white-space:pre;overflow-x:auto;line-height:normal;font-family:Menlo,'DejaVu Sans Mono',consolas,'Courier New',monospace\"></pre>\n"
      ],
      "text/plain": []
     },
     "metadata": {},
     "output_type": "display_data"
    },
    {
     "data": {
      "text/html": [
       "<pre style=\"white-space:pre;overflow-x:auto;line-height:normal;font-family:Menlo,'DejaVu Sans Mono',consolas,'Courier New',monospace\">\n",
       "</pre>\n"
      ],
      "text/plain": [
       "\n"
      ]
     },
     "metadata": {},
     "output_type": "display_data"
    },
    {
     "data": {
      "text/html": [
       "<pre style=\"white-space:pre;overflow-x:auto;line-height:normal;font-family:Menlo,'DejaVu Sans Mono',consolas,'Courier New',monospace\">/Users/Jorge/Library/Caches/pypoetry/virtualenvs/lorawan-chatbot-rag-llm-Kbm_Xz7B-py3.11/lib/python3.11/site-packag\n",
       "es/rich/live.py:231: UserWarning: install \"ipywidgets\" for Jupyter support\n",
       "  warnings.warn('install \"ipywidgets\" for Jupyter support')\n",
       "</pre>\n"
      ],
      "text/plain": [
       "/Users/Jorge/Library/Caches/pypoetry/virtualenvs/lorawan-chatbot-rag-llm-Kbm_Xz7B-py3.11/lib/python3.11/site-packag\n",
       "es/rich/live.py:231: UserWarning: install \"ipywidgets\" for Jupyter support\n",
       "  warnings.warn('install \"ipywidgets\" for Jupyter support')\n"
      ]
     },
     "metadata": {},
     "output_type": "display_data"
    },
    {
     "data": {
      "text/html": [
       "<pre style=\"white-space:pre;overflow-x:auto;line-height:normal;font-family:Menlo,'DejaVu Sans Mono',consolas,'Courier New',monospace\">/Users/Jorge/Library/Caches/pypoetry/virtualenvs/lorawan-chatbot-rag-llm-Kbm_Xz7B-py3.11/lib/python3.11/site-packag\n",
       "es/rich/live.py:231: UserWarning: install \"ipywidgets\" for Jupyter support\n",
       "  warnings.warn('install \"ipywidgets\" for Jupyter support')\n",
       "</pre>\n"
      ],
      "text/plain": [
       "/Users/Jorge/Library/Caches/pypoetry/virtualenvs/lorawan-chatbot-rag-llm-Kbm_Xz7B-py3.11/lib/python3.11/site-packag\n",
       "es/rich/live.py:231: UserWarning: install \"ipywidgets\" for Jupyter support\n",
       "  warnings.warn('install \"ipywidgets\" for Jupyter support')\n"
      ]
     },
     "metadata": {},
     "output_type": "display_data"
    },
    {
     "data": {
      "text/html": [
       "<pre style=\"white-space:pre;overflow-x:auto;line-height:normal;font-family:Menlo,'DejaVu Sans Mono',consolas,'Courier New',monospace\">/Users/Jorge/Library/Caches/pypoetry/virtualenvs/lorawan-chatbot-rag-llm-Kbm_Xz7B-py3.11/lib/python3.11/site-packag\n",
       "es/rich/live.py:231: UserWarning: install \"ipywidgets\" for Jupyter support\n",
       "  warnings.warn('install \"ipywidgets\" for Jupyter support')\n",
       "</pre>\n"
      ],
      "text/plain": [
       "/Users/Jorge/Library/Caches/pypoetry/virtualenvs/lorawan-chatbot-rag-llm-Kbm_Xz7B-py3.11/lib/python3.11/site-packag\n",
       "es/rich/live.py:231: UserWarning: install \"ipywidgets\" for Jupyter support\n",
       "  warnings.warn('install \"ipywidgets\" for Jupyter support')\n"
      ]
     },
     "metadata": {},
     "output_type": "display_data"
    },
    {
     "data": {
      "text/html": [
       "<pre style=\"white-space:pre;overflow-x:auto;line-height:normal;font-family:Menlo,'DejaVu Sans Mono',consolas,'Courier New',monospace\">/Users/Jorge/Library/Caches/pypoetry/virtualenvs/lorawan-chatbot-rag-llm-Kbm_Xz7B-py3.11/lib/python3.11/site-packag\n",
       "es/rich/live.py:231: UserWarning: install \"ipywidgets\" for Jupyter support\n",
       "  warnings.warn('install \"ipywidgets\" for Jupyter support')\n",
       "</pre>\n"
      ],
      "text/plain": [
       "/Users/Jorge/Library/Caches/pypoetry/virtualenvs/lorawan-chatbot-rag-llm-Kbm_Xz7B-py3.11/lib/python3.11/site-packag\n",
       "es/rich/live.py:231: UserWarning: install \"ipywidgets\" for Jupyter support\n",
       "  warnings.warn('install \"ipywidgets\" for Jupyter support')\n"
      ]
     },
     "metadata": {},
     "output_type": "display_data"
    },
    {
     "data": {
      "text/html": [
       "<pre style=\"white-space:pre;overflow-x:auto;line-height:normal;font-family:Menlo,'DejaVu Sans Mono',consolas,'Courier New',monospace\">/Users/Jorge/Library/Caches/pypoetry/virtualenvs/lorawan-chatbot-rag-llm-Kbm_Xz7B-py3.11/lib/python3.11/site-packag\n",
       "es/rich/live.py:231: UserWarning: install \"ipywidgets\" for Jupyter support\n",
       "  warnings.warn('install \"ipywidgets\" for Jupyter support')\n",
       "</pre>\n"
      ],
      "text/plain": [
       "/Users/Jorge/Library/Caches/pypoetry/virtualenvs/lorawan-chatbot-rag-llm-Kbm_Xz7B-py3.11/lib/python3.11/site-packag\n",
       "es/rich/live.py:231: UserWarning: install \"ipywidgets\" for Jupyter support\n",
       "  warnings.warn('install \"ipywidgets\" for Jupyter support')\n"
      ]
     },
     "metadata": {},
     "output_type": "display_data"
    },
    {
     "data": {
      "text/html": [
       "<pre style=\"white-space:pre;overflow-x:auto;line-height:normal;font-family:Menlo,'DejaVu Sans Mono',consolas,'Courier New',monospace\">/Users/Jorge/Library/Caches/pypoetry/virtualenvs/lorawan-chatbot-rag-llm-Kbm_Xz7B-py3.11/lib/python3.11/site-packag\n",
       "es/rich/live.py:231: UserWarning: install \"ipywidgets\" for Jupyter support\n",
       "  warnings.warn('install \"ipywidgets\" for Jupyter support')\n",
       "</pre>\n"
      ],
      "text/plain": [
       "/Users/Jorge/Library/Caches/pypoetry/virtualenvs/lorawan-chatbot-rag-llm-Kbm_Xz7B-py3.11/lib/python3.11/site-packag\n",
       "es/rich/live.py:231: UserWarning: install \"ipywidgets\" for Jupyter support\n",
       "  warnings.warn('install \"ipywidgets\" for Jupyter support')\n"
      ]
     },
     "metadata": {},
     "output_type": "display_data"
    },
    {
     "data": {
      "text/html": [
       "<pre style=\"white-space:pre;overflow-x:auto;line-height:normal;font-family:Menlo,'DejaVu Sans Mono',consolas,'Courier New',monospace\">/Users/Jorge/Library/Caches/pypoetry/virtualenvs/lorawan-chatbot-rag-llm-Kbm_Xz7B-py3.11/lib/python3.11/site-packag\n",
       "es/rich/live.py:231: UserWarning: install \"ipywidgets\" for Jupyter support\n",
       "  warnings.warn('install \"ipywidgets\" for Jupyter support')\n",
       "</pre>\n"
      ],
      "text/plain": [
       "/Users/Jorge/Library/Caches/pypoetry/virtualenvs/lorawan-chatbot-rag-llm-Kbm_Xz7B-py3.11/lib/python3.11/site-packag\n",
       "es/rich/live.py:231: UserWarning: install \"ipywidgets\" for Jupyter support\n",
       "  warnings.warn('install \"ipywidgets\" for Jupyter support')\n"
      ]
     },
     "metadata": {},
     "output_type": "display_data"
    },
    {
     "data": {
      "text/html": [
       "<pre style=\"white-space:pre;overflow-x:auto;line-height:normal;font-family:Menlo,'DejaVu Sans Mono',consolas,'Courier New',monospace\">/Users/Jorge/Library/Caches/pypoetry/virtualenvs/lorawan-chatbot-rag-llm-Kbm_Xz7B-py3.11/lib/python3.11/site-packag\n",
       "es/rich/live.py:231: UserWarning: install \"ipywidgets\" for Jupyter support\n",
       "  warnings.warn('install \"ipywidgets\" for Jupyter support')\n",
       "</pre>\n"
      ],
      "text/plain": [
       "/Users/Jorge/Library/Caches/pypoetry/virtualenvs/lorawan-chatbot-rag-llm-Kbm_Xz7B-py3.11/lib/python3.11/site-packag\n",
       "es/rich/live.py:231: UserWarning: install \"ipywidgets\" for Jupyter support\n",
       "  warnings.warn('install \"ipywidgets\" for Jupyter support')\n"
      ]
     },
     "metadata": {},
     "output_type": "display_data"
    },
    {
     "data": {
      "text/html": [
       "<pre style=\"white-space:pre;overflow-x:auto;line-height:normal;font-family:Menlo,'DejaVu Sans Mono',consolas,'Courier New',monospace\">/Users/Jorge/Library/Caches/pypoetry/virtualenvs/lorawan-chatbot-rag-llm-Kbm_Xz7B-py3.11/lib/python3.11/site-packag\n",
       "es/rich/live.py:231: UserWarning: install \"ipywidgets\" for Jupyter support\n",
       "  warnings.warn('install \"ipywidgets\" for Jupyter support')\n",
       "</pre>\n"
      ],
      "text/plain": [
       "/Users/Jorge/Library/Caches/pypoetry/virtualenvs/lorawan-chatbot-rag-llm-Kbm_Xz7B-py3.11/lib/python3.11/site-packag\n",
       "es/rich/live.py:231: UserWarning: install \"ipywidgets\" for Jupyter support\n",
       "  warnings.warn('install \"ipywidgets\" for Jupyter support')\n"
      ]
     },
     "metadata": {},
     "output_type": "display_data"
    },
    {
     "data": {
      "text/html": [
       "<pre style=\"white-space:pre;overflow-x:auto;line-height:normal;font-family:Menlo,'DejaVu Sans Mono',consolas,'Courier New',monospace\">/Users/Jorge/Library/Caches/pypoetry/virtualenvs/lorawan-chatbot-rag-llm-Kbm_Xz7B-py3.11/lib/python3.11/site-packag\n",
       "es/rich/live.py:231: UserWarning: install \"ipywidgets\" for Jupyter support\n",
       "  warnings.warn('install \"ipywidgets\" for Jupyter support')\n",
       "</pre>\n"
      ],
      "text/plain": [
       "/Users/Jorge/Library/Caches/pypoetry/virtualenvs/lorawan-chatbot-rag-llm-Kbm_Xz7B-py3.11/lib/python3.11/site-packag\n",
       "es/rich/live.py:231: UserWarning: install \"ipywidgets\" for Jupyter support\n",
       "  warnings.warn('install \"ipywidgets\" for Jupyter support')\n"
      ]
     },
     "metadata": {},
     "output_type": "display_data"
    },
    {
     "data": {
      "text/html": [
       "<pre style=\"white-space:pre;overflow-x:auto;line-height:normal;font-family:Menlo,'DejaVu Sans Mono',consolas,'Courier New',monospace\"></pre>\n"
      ],
      "text/plain": []
     },
     "metadata": {},
     "output_type": "display_data"
    },
    {
     "data": {
      "text/html": [
       "<pre style=\"white-space:pre;overflow-x:auto;line-height:normal;font-family:Menlo,'DejaVu Sans Mono',consolas,'Courier New',monospace\">\n",
       "</pre>\n"
      ],
      "text/plain": [
       "\n"
      ]
     },
     "metadata": {},
     "output_type": "display_data"
    },
    {
     "data": {
      "text/html": [
       "<pre style=\"white-space:pre;overflow-x:auto;line-height:normal;font-family:Menlo,'DejaVu Sans Mono',consolas,'Courier New',monospace\">/Users/Jorge/Library/Caches/pypoetry/virtualenvs/lorawan-chatbot-rag-llm-Kbm_Xz7B-py3.11/lib/python3.11/site-packag\n",
       "es/rich/live.py:231: UserWarning: install \"ipywidgets\" for Jupyter support\n",
       "  warnings.warn('install \"ipywidgets\" for Jupyter support')\n",
       "</pre>\n"
      ],
      "text/plain": [
       "/Users/Jorge/Library/Caches/pypoetry/virtualenvs/lorawan-chatbot-rag-llm-Kbm_Xz7B-py3.11/lib/python3.11/site-packag\n",
       "es/rich/live.py:231: UserWarning: install \"ipywidgets\" for Jupyter support\n",
       "  warnings.warn('install \"ipywidgets\" for Jupyter support')\n"
      ]
     },
     "metadata": {},
     "output_type": "display_data"
    },
    {
     "data": {
      "text/html": [
       "<pre style=\"white-space:pre;overflow-x:auto;line-height:normal;font-family:Menlo,'DejaVu Sans Mono',consolas,'Courier New',monospace\">/Users/Jorge/Library/Caches/pypoetry/virtualenvs/lorawan-chatbot-rag-llm-Kbm_Xz7B-py3.11/lib/python3.11/site-packag\n",
       "es/rich/live.py:231: UserWarning: install \"ipywidgets\" for Jupyter support\n",
       "  warnings.warn('install \"ipywidgets\" for Jupyter support')\n",
       "</pre>\n"
      ],
      "text/plain": [
       "/Users/Jorge/Library/Caches/pypoetry/virtualenvs/lorawan-chatbot-rag-llm-Kbm_Xz7B-py3.11/lib/python3.11/site-packag\n",
       "es/rich/live.py:231: UserWarning: install \"ipywidgets\" for Jupyter support\n",
       "  warnings.warn('install \"ipywidgets\" for Jupyter support')\n"
      ]
     },
     "metadata": {},
     "output_type": "display_data"
    },
    {
     "data": {
      "text/html": [
       "<pre style=\"white-space:pre;overflow-x:auto;line-height:normal;font-family:Menlo,'DejaVu Sans Mono',consolas,'Courier New',monospace\">/Users/Jorge/Library/Caches/pypoetry/virtualenvs/lorawan-chatbot-rag-llm-Kbm_Xz7B-py3.11/lib/python3.11/site-packag\n",
       "es/rich/live.py:231: UserWarning: install \"ipywidgets\" for Jupyter support\n",
       "  warnings.warn('install \"ipywidgets\" for Jupyter support')\n",
       "</pre>\n"
      ],
      "text/plain": [
       "/Users/Jorge/Library/Caches/pypoetry/virtualenvs/lorawan-chatbot-rag-llm-Kbm_Xz7B-py3.11/lib/python3.11/site-packag\n",
       "es/rich/live.py:231: UserWarning: install \"ipywidgets\" for Jupyter support\n",
       "  warnings.warn('install \"ipywidgets\" for Jupyter support')\n"
      ]
     },
     "metadata": {},
     "output_type": "display_data"
    },
    {
     "data": {
      "text/html": [
       "<pre style=\"white-space:pre;overflow-x:auto;line-height:normal;font-family:Menlo,'DejaVu Sans Mono',consolas,'Courier New',monospace\">/Users/Jorge/Library/Caches/pypoetry/virtualenvs/lorawan-chatbot-rag-llm-Kbm_Xz7B-py3.11/lib/python3.11/site-packag\n",
       "es/rich/live.py:231: UserWarning: install \"ipywidgets\" for Jupyter support\n",
       "  warnings.warn('install \"ipywidgets\" for Jupyter support')\n",
       "</pre>\n"
      ],
      "text/plain": [
       "/Users/Jorge/Library/Caches/pypoetry/virtualenvs/lorawan-chatbot-rag-llm-Kbm_Xz7B-py3.11/lib/python3.11/site-packag\n",
       "es/rich/live.py:231: UserWarning: install \"ipywidgets\" for Jupyter support\n",
       "  warnings.warn('install \"ipywidgets\" for Jupyter support')\n"
      ]
     },
     "metadata": {},
     "output_type": "display_data"
    },
    {
     "data": {
      "text/html": [
       "<pre style=\"white-space:pre;overflow-x:auto;line-height:normal;font-family:Menlo,'DejaVu Sans Mono',consolas,'Courier New',monospace\">/Users/Jorge/Library/Caches/pypoetry/virtualenvs/lorawan-chatbot-rag-llm-Kbm_Xz7B-py3.11/lib/python3.11/site-packag\n",
       "es/rich/live.py:231: UserWarning: install \"ipywidgets\" for Jupyter support\n",
       "  warnings.warn('install \"ipywidgets\" for Jupyter support')\n",
       "</pre>\n"
      ],
      "text/plain": [
       "/Users/Jorge/Library/Caches/pypoetry/virtualenvs/lorawan-chatbot-rag-llm-Kbm_Xz7B-py3.11/lib/python3.11/site-packag\n",
       "es/rich/live.py:231: UserWarning: install \"ipywidgets\" for Jupyter support\n",
       "  warnings.warn('install \"ipywidgets\" for Jupyter support')\n"
      ]
     },
     "metadata": {},
     "output_type": "display_data"
    },
    {
     "data": {
      "text/html": [
       "<pre style=\"white-space:pre;overflow-x:auto;line-height:normal;font-family:Menlo,'DejaVu Sans Mono',consolas,'Courier New',monospace\">/Users/Jorge/Library/Caches/pypoetry/virtualenvs/lorawan-chatbot-rag-llm-Kbm_Xz7B-py3.11/lib/python3.11/site-packag\n",
       "es/rich/live.py:231: UserWarning: install \"ipywidgets\" for Jupyter support\n",
       "  warnings.warn('install \"ipywidgets\" for Jupyter support')\n",
       "</pre>\n"
      ],
      "text/plain": [
       "/Users/Jorge/Library/Caches/pypoetry/virtualenvs/lorawan-chatbot-rag-llm-Kbm_Xz7B-py3.11/lib/python3.11/site-packag\n",
       "es/rich/live.py:231: UserWarning: install \"ipywidgets\" for Jupyter support\n",
       "  warnings.warn('install \"ipywidgets\" for Jupyter support')\n"
      ]
     },
     "metadata": {},
     "output_type": "display_data"
    },
    {
     "data": {
      "text/html": [
       "<pre style=\"white-space:pre;overflow-x:auto;line-height:normal;font-family:Menlo,'DejaVu Sans Mono',consolas,'Courier New',monospace\">/Users/Jorge/Library/Caches/pypoetry/virtualenvs/lorawan-chatbot-rag-llm-Kbm_Xz7B-py3.11/lib/python3.11/site-packag\n",
       "es/rich/live.py:231: UserWarning: install \"ipywidgets\" for Jupyter support\n",
       "  warnings.warn('install \"ipywidgets\" for Jupyter support')\n",
       "</pre>\n"
      ],
      "text/plain": [
       "/Users/Jorge/Library/Caches/pypoetry/virtualenvs/lorawan-chatbot-rag-llm-Kbm_Xz7B-py3.11/lib/python3.11/site-packag\n",
       "es/rich/live.py:231: UserWarning: install \"ipywidgets\" for Jupyter support\n",
       "  warnings.warn('install \"ipywidgets\" for Jupyter support')\n"
      ]
     },
     "metadata": {},
     "output_type": "display_data"
    },
    {
     "data": {
      "text/html": [
       "<pre style=\"white-space:pre;overflow-x:auto;line-height:normal;font-family:Menlo,'DejaVu Sans Mono',consolas,'Courier New',monospace\">/Users/Jorge/Library/Caches/pypoetry/virtualenvs/lorawan-chatbot-rag-llm-Kbm_Xz7B-py3.11/lib/python3.11/site-packag\n",
       "es/rich/live.py:231: UserWarning: install \"ipywidgets\" for Jupyter support\n",
       "  warnings.warn('install \"ipywidgets\" for Jupyter support')\n",
       "</pre>\n"
      ],
      "text/plain": [
       "/Users/Jorge/Library/Caches/pypoetry/virtualenvs/lorawan-chatbot-rag-llm-Kbm_Xz7B-py3.11/lib/python3.11/site-packag\n",
       "es/rich/live.py:231: UserWarning: install \"ipywidgets\" for Jupyter support\n",
       "  warnings.warn('install \"ipywidgets\" for Jupyter support')\n"
      ]
     },
     "metadata": {},
     "output_type": "display_data"
    },
    {
     "data": {
      "text/html": [
       "<pre style=\"white-space:pre;overflow-x:auto;line-height:normal;font-family:Menlo,'DejaVu Sans Mono',consolas,'Courier New',monospace\">/Users/Jorge/Library/Caches/pypoetry/virtualenvs/lorawan-chatbot-rag-llm-Kbm_Xz7B-py3.11/lib/python3.11/site-packag\n",
       "es/rich/live.py:231: UserWarning: install \"ipywidgets\" for Jupyter support\n",
       "  warnings.warn('install \"ipywidgets\" for Jupyter support')\n",
       "</pre>\n"
      ],
      "text/plain": [
       "/Users/Jorge/Library/Caches/pypoetry/virtualenvs/lorawan-chatbot-rag-llm-Kbm_Xz7B-py3.11/lib/python3.11/site-packag\n",
       "es/rich/live.py:231: UserWarning: install \"ipywidgets\" for Jupyter support\n",
       "  warnings.warn('install \"ipywidgets\" for Jupyter support')\n"
      ]
     },
     "metadata": {},
     "output_type": "display_data"
    },
    {
     "data": {
      "text/html": [
       "<pre style=\"white-space:pre;overflow-x:auto;line-height:normal;font-family:Menlo,'DejaVu Sans Mono',consolas,'Courier New',monospace\">/Users/Jorge/Library/Caches/pypoetry/virtualenvs/lorawan-chatbot-rag-llm-Kbm_Xz7B-py3.11/lib/python3.11/site-packag\n",
       "es/rich/live.py:231: UserWarning: install \"ipywidgets\" for Jupyter support\n",
       "  warnings.warn('install \"ipywidgets\" for Jupyter support')\n",
       "</pre>\n"
      ],
      "text/plain": [
       "/Users/Jorge/Library/Caches/pypoetry/virtualenvs/lorawan-chatbot-rag-llm-Kbm_Xz7B-py3.11/lib/python3.11/site-packag\n",
       "es/rich/live.py:231: UserWarning: install \"ipywidgets\" for Jupyter support\n",
       "  warnings.warn('install \"ipywidgets\" for Jupyter support')\n"
      ]
     },
     "metadata": {},
     "output_type": "display_data"
    },
    {
     "data": {
      "text/html": [
       "<pre style=\"white-space:pre;overflow-x:auto;line-height:normal;font-family:Menlo,'DejaVu Sans Mono',consolas,'Courier New',monospace\"></pre>\n"
      ],
      "text/plain": []
     },
     "metadata": {},
     "output_type": "display_data"
    },
    {
     "data": {
      "text/html": [
       "<pre style=\"white-space:pre;overflow-x:auto;line-height:normal;font-family:Menlo,'DejaVu Sans Mono',consolas,'Courier New',monospace\">\n",
       "</pre>\n"
      ],
      "text/plain": [
       "\n"
      ]
     },
     "metadata": {},
     "output_type": "display_data"
    },
    {
     "data": {
      "text/html": [
       "<pre style=\"white-space:pre;overflow-x:auto;line-height:normal;font-family:Menlo,'DejaVu Sans Mono',consolas,'Courier New',monospace\">/Users/Jorge/Library/Caches/pypoetry/virtualenvs/lorawan-chatbot-rag-llm-Kbm_Xz7B-py3.11/lib/python3.11/site-packag\n",
       "es/rich/live.py:231: UserWarning: install \"ipywidgets\" for Jupyter support\n",
       "  warnings.warn('install \"ipywidgets\" for Jupyter support')\n",
       "</pre>\n"
      ],
      "text/plain": [
       "/Users/Jorge/Library/Caches/pypoetry/virtualenvs/lorawan-chatbot-rag-llm-Kbm_Xz7B-py3.11/lib/python3.11/site-packag\n",
       "es/rich/live.py:231: UserWarning: install \"ipywidgets\" for Jupyter support\n",
       "  warnings.warn('install \"ipywidgets\" for Jupyter support')\n"
      ]
     },
     "metadata": {},
     "output_type": "display_data"
    },
    {
     "data": {
      "text/html": [
       "<pre style=\"white-space:pre;overflow-x:auto;line-height:normal;font-family:Menlo,'DejaVu Sans Mono',consolas,'Courier New',monospace\">/Users/Jorge/Library/Caches/pypoetry/virtualenvs/lorawan-chatbot-rag-llm-Kbm_Xz7B-py3.11/lib/python3.11/site-packag\n",
       "es/rich/live.py:231: UserWarning: install \"ipywidgets\" for Jupyter support\n",
       "  warnings.warn('install \"ipywidgets\" for Jupyter support')\n",
       "</pre>\n"
      ],
      "text/plain": [
       "/Users/Jorge/Library/Caches/pypoetry/virtualenvs/lorawan-chatbot-rag-llm-Kbm_Xz7B-py3.11/lib/python3.11/site-packag\n",
       "es/rich/live.py:231: UserWarning: install \"ipywidgets\" for Jupyter support\n",
       "  warnings.warn('install \"ipywidgets\" for Jupyter support')\n"
      ]
     },
     "metadata": {},
     "output_type": "display_data"
    },
    {
     "data": {
      "text/html": [
       "<pre style=\"white-space:pre;overflow-x:auto;line-height:normal;font-family:Menlo,'DejaVu Sans Mono',consolas,'Courier New',monospace\">/Users/Jorge/Library/Caches/pypoetry/virtualenvs/lorawan-chatbot-rag-llm-Kbm_Xz7B-py3.11/lib/python3.11/site-packag\n",
       "es/rich/live.py:231: UserWarning: install \"ipywidgets\" for Jupyter support\n",
       "  warnings.warn('install \"ipywidgets\" for Jupyter support')\n",
       "</pre>\n"
      ],
      "text/plain": [
       "/Users/Jorge/Library/Caches/pypoetry/virtualenvs/lorawan-chatbot-rag-llm-Kbm_Xz7B-py3.11/lib/python3.11/site-packag\n",
       "es/rich/live.py:231: UserWarning: install \"ipywidgets\" for Jupyter support\n",
       "  warnings.warn('install \"ipywidgets\" for Jupyter support')\n"
      ]
     },
     "metadata": {},
     "output_type": "display_data"
    },
    {
     "data": {
      "text/html": [
       "<pre style=\"white-space:pre;overflow-x:auto;line-height:normal;font-family:Menlo,'DejaVu Sans Mono',consolas,'Courier New',monospace\">/Users/Jorge/Library/Caches/pypoetry/virtualenvs/lorawan-chatbot-rag-llm-Kbm_Xz7B-py3.11/lib/python3.11/site-packag\n",
       "es/rich/live.py:231: UserWarning: install \"ipywidgets\" for Jupyter support\n",
       "  warnings.warn('install \"ipywidgets\" for Jupyter support')\n",
       "</pre>\n"
      ],
      "text/plain": [
       "/Users/Jorge/Library/Caches/pypoetry/virtualenvs/lorawan-chatbot-rag-llm-Kbm_Xz7B-py3.11/lib/python3.11/site-packag\n",
       "es/rich/live.py:231: UserWarning: install \"ipywidgets\" for Jupyter support\n",
       "  warnings.warn('install \"ipywidgets\" for Jupyter support')\n"
      ]
     },
     "metadata": {},
     "output_type": "display_data"
    },
    {
     "data": {
      "text/html": [
       "<pre style=\"white-space:pre;overflow-x:auto;line-height:normal;font-family:Menlo,'DejaVu Sans Mono',consolas,'Courier New',monospace\">/Users/Jorge/Library/Caches/pypoetry/virtualenvs/lorawan-chatbot-rag-llm-Kbm_Xz7B-py3.11/lib/python3.11/site-packag\n",
       "es/rich/live.py:231: UserWarning: install \"ipywidgets\" for Jupyter support\n",
       "  warnings.warn('install \"ipywidgets\" for Jupyter support')\n",
       "</pre>\n"
      ],
      "text/plain": [
       "/Users/Jorge/Library/Caches/pypoetry/virtualenvs/lorawan-chatbot-rag-llm-Kbm_Xz7B-py3.11/lib/python3.11/site-packag\n",
       "es/rich/live.py:231: UserWarning: install \"ipywidgets\" for Jupyter support\n",
       "  warnings.warn('install \"ipywidgets\" for Jupyter support')\n"
      ]
     },
     "metadata": {},
     "output_type": "display_data"
    },
    {
     "data": {
      "text/html": [
       "<pre style=\"white-space:pre;overflow-x:auto;line-height:normal;font-family:Menlo,'DejaVu Sans Mono',consolas,'Courier New',monospace\">/Users/Jorge/Library/Caches/pypoetry/virtualenvs/lorawan-chatbot-rag-llm-Kbm_Xz7B-py3.11/lib/python3.11/site-packag\n",
       "es/rich/live.py:231: UserWarning: install \"ipywidgets\" for Jupyter support\n",
       "  warnings.warn('install \"ipywidgets\" for Jupyter support')\n",
       "</pre>\n"
      ],
      "text/plain": [
       "/Users/Jorge/Library/Caches/pypoetry/virtualenvs/lorawan-chatbot-rag-llm-Kbm_Xz7B-py3.11/lib/python3.11/site-packag\n",
       "es/rich/live.py:231: UserWarning: install \"ipywidgets\" for Jupyter support\n",
       "  warnings.warn('install \"ipywidgets\" for Jupyter support')\n"
      ]
     },
     "metadata": {},
     "output_type": "display_data"
    },
    {
     "data": {
      "text/html": [
       "<pre style=\"white-space:pre;overflow-x:auto;line-height:normal;font-family:Menlo,'DejaVu Sans Mono',consolas,'Courier New',monospace\">/Users/Jorge/Library/Caches/pypoetry/virtualenvs/lorawan-chatbot-rag-llm-Kbm_Xz7B-py3.11/lib/python3.11/site-packag\n",
       "es/rich/live.py:231: UserWarning: install \"ipywidgets\" for Jupyter support\n",
       "  warnings.warn('install \"ipywidgets\" for Jupyter support')\n",
       "</pre>\n"
      ],
      "text/plain": [
       "/Users/Jorge/Library/Caches/pypoetry/virtualenvs/lorawan-chatbot-rag-llm-Kbm_Xz7B-py3.11/lib/python3.11/site-packag\n",
       "es/rich/live.py:231: UserWarning: install \"ipywidgets\" for Jupyter support\n",
       "  warnings.warn('install \"ipywidgets\" for Jupyter support')\n"
      ]
     },
     "metadata": {},
     "output_type": "display_data"
    },
    {
     "data": {
      "text/html": [
       "<pre style=\"white-space:pre;overflow-x:auto;line-height:normal;font-family:Menlo,'DejaVu Sans Mono',consolas,'Courier New',monospace\">/Users/Jorge/Library/Caches/pypoetry/virtualenvs/lorawan-chatbot-rag-llm-Kbm_Xz7B-py3.11/lib/python3.11/site-packag\n",
       "es/rich/live.py:231: UserWarning: install \"ipywidgets\" for Jupyter support\n",
       "  warnings.warn('install \"ipywidgets\" for Jupyter support')\n",
       "</pre>\n"
      ],
      "text/plain": [
       "/Users/Jorge/Library/Caches/pypoetry/virtualenvs/lorawan-chatbot-rag-llm-Kbm_Xz7B-py3.11/lib/python3.11/site-packag\n",
       "es/rich/live.py:231: UserWarning: install \"ipywidgets\" for Jupyter support\n",
       "  warnings.warn('install \"ipywidgets\" for Jupyter support')\n"
      ]
     },
     "metadata": {},
     "output_type": "display_data"
    },
    {
     "data": {
      "text/html": [
       "<pre style=\"white-space:pre;overflow-x:auto;line-height:normal;font-family:Menlo,'DejaVu Sans Mono',consolas,'Courier New',monospace\">/Users/Jorge/Library/Caches/pypoetry/virtualenvs/lorawan-chatbot-rag-llm-Kbm_Xz7B-py3.11/lib/python3.11/site-packag\n",
       "es/rich/live.py:231: UserWarning: install \"ipywidgets\" for Jupyter support\n",
       "  warnings.warn('install \"ipywidgets\" for Jupyter support')\n",
       "</pre>\n"
      ],
      "text/plain": [
       "/Users/Jorge/Library/Caches/pypoetry/virtualenvs/lorawan-chatbot-rag-llm-Kbm_Xz7B-py3.11/lib/python3.11/site-packag\n",
       "es/rich/live.py:231: UserWarning: install \"ipywidgets\" for Jupyter support\n",
       "  warnings.warn('install \"ipywidgets\" for Jupyter support')\n"
      ]
     },
     "metadata": {},
     "output_type": "display_data"
    },
    {
     "data": {
      "text/html": [
       "<pre style=\"white-space:pre;overflow-x:auto;line-height:normal;font-family:Menlo,'DejaVu Sans Mono',consolas,'Courier New',monospace\"></pre>\n"
      ],
      "text/plain": []
     },
     "metadata": {},
     "output_type": "display_data"
    },
    {
     "data": {
      "text/html": [
       "<pre style=\"white-space:pre;overflow-x:auto;line-height:normal;font-family:Menlo,'DejaVu Sans Mono',consolas,'Courier New',monospace\">\n",
       "</pre>\n"
      ],
      "text/plain": [
       "\n"
      ]
     },
     "metadata": {},
     "output_type": "display_data"
    },
    {
     "data": {
      "text/html": [
       "<pre style=\"white-space:pre;overflow-x:auto;line-height:normal;font-family:Menlo,'DejaVu Sans Mono',consolas,'Courier New',monospace\">/Users/Jorge/Library/Caches/pypoetry/virtualenvs/lorawan-chatbot-rag-llm-Kbm_Xz7B-py3.11/lib/python3.11/site-packag\n",
       "es/rich/live.py:231: UserWarning: install \"ipywidgets\" for Jupyter support\n",
       "  warnings.warn('install \"ipywidgets\" for Jupyter support')\n",
       "</pre>\n"
      ],
      "text/plain": [
       "/Users/Jorge/Library/Caches/pypoetry/virtualenvs/lorawan-chatbot-rag-llm-Kbm_Xz7B-py3.11/lib/python3.11/site-packag\n",
       "es/rich/live.py:231: UserWarning: install \"ipywidgets\" for Jupyter support\n",
       "  warnings.warn('install \"ipywidgets\" for Jupyter support')\n"
      ]
     },
     "metadata": {},
     "output_type": "display_data"
    },
    {
     "data": {
      "text/html": [
       "<pre style=\"white-space:pre;overflow-x:auto;line-height:normal;font-family:Menlo,'DejaVu Sans Mono',consolas,'Courier New',monospace\">/Users/Jorge/Library/Caches/pypoetry/virtualenvs/lorawan-chatbot-rag-llm-Kbm_Xz7B-py3.11/lib/python3.11/site-packag\n",
       "es/rich/live.py:231: UserWarning: install \"ipywidgets\" for Jupyter support\n",
       "  warnings.warn('install \"ipywidgets\" for Jupyter support')\n",
       "</pre>\n"
      ],
      "text/plain": [
       "/Users/Jorge/Library/Caches/pypoetry/virtualenvs/lorawan-chatbot-rag-llm-Kbm_Xz7B-py3.11/lib/python3.11/site-packag\n",
       "es/rich/live.py:231: UserWarning: install \"ipywidgets\" for Jupyter support\n",
       "  warnings.warn('install \"ipywidgets\" for Jupyter support')\n"
      ]
     },
     "metadata": {},
     "output_type": "display_data"
    },
    {
     "data": {
      "text/html": [
       "<pre style=\"white-space:pre;overflow-x:auto;line-height:normal;font-family:Menlo,'DejaVu Sans Mono',consolas,'Courier New',monospace\">/Users/Jorge/Library/Caches/pypoetry/virtualenvs/lorawan-chatbot-rag-llm-Kbm_Xz7B-py3.11/lib/python3.11/site-packag\n",
       "es/rich/live.py:231: UserWarning: install \"ipywidgets\" for Jupyter support\n",
       "  warnings.warn('install \"ipywidgets\" for Jupyter support')\n",
       "</pre>\n"
      ],
      "text/plain": [
       "/Users/Jorge/Library/Caches/pypoetry/virtualenvs/lorawan-chatbot-rag-llm-Kbm_Xz7B-py3.11/lib/python3.11/site-packag\n",
       "es/rich/live.py:231: UserWarning: install \"ipywidgets\" for Jupyter support\n",
       "  warnings.warn('install \"ipywidgets\" for Jupyter support')\n"
      ]
     },
     "metadata": {},
     "output_type": "display_data"
    },
    {
     "data": {
      "text/html": [
       "<pre style=\"white-space:pre;overflow-x:auto;line-height:normal;font-family:Menlo,'DejaVu Sans Mono',consolas,'Courier New',monospace\">/Users/Jorge/Library/Caches/pypoetry/virtualenvs/lorawan-chatbot-rag-llm-Kbm_Xz7B-py3.11/lib/python3.11/site-packag\n",
       "es/rich/live.py:231: UserWarning: install \"ipywidgets\" for Jupyter support\n",
       "  warnings.warn('install \"ipywidgets\" for Jupyter support')\n",
       "</pre>\n"
      ],
      "text/plain": [
       "/Users/Jorge/Library/Caches/pypoetry/virtualenvs/lorawan-chatbot-rag-llm-Kbm_Xz7B-py3.11/lib/python3.11/site-packag\n",
       "es/rich/live.py:231: UserWarning: install \"ipywidgets\" for Jupyter support\n",
       "  warnings.warn('install \"ipywidgets\" for Jupyter support')\n"
      ]
     },
     "metadata": {},
     "output_type": "display_data"
    },
    {
     "data": {
      "text/html": [
       "<pre style=\"white-space:pre;overflow-x:auto;line-height:normal;font-family:Menlo,'DejaVu Sans Mono',consolas,'Courier New',monospace\">/Users/Jorge/Library/Caches/pypoetry/virtualenvs/lorawan-chatbot-rag-llm-Kbm_Xz7B-py3.11/lib/python3.11/site-packag\n",
       "es/rich/live.py:231: UserWarning: install \"ipywidgets\" for Jupyter support\n",
       "  warnings.warn('install \"ipywidgets\" for Jupyter support')\n",
       "</pre>\n"
      ],
      "text/plain": [
       "/Users/Jorge/Library/Caches/pypoetry/virtualenvs/lorawan-chatbot-rag-llm-Kbm_Xz7B-py3.11/lib/python3.11/site-packag\n",
       "es/rich/live.py:231: UserWarning: install \"ipywidgets\" for Jupyter support\n",
       "  warnings.warn('install \"ipywidgets\" for Jupyter support')\n"
      ]
     },
     "metadata": {},
     "output_type": "display_data"
    },
    {
     "data": {
      "text/html": [
       "<pre style=\"white-space:pre;overflow-x:auto;line-height:normal;font-family:Menlo,'DejaVu Sans Mono',consolas,'Courier New',monospace\">/Users/Jorge/Library/Caches/pypoetry/virtualenvs/lorawan-chatbot-rag-llm-Kbm_Xz7B-py3.11/lib/python3.11/site-packag\n",
       "es/rich/live.py:231: UserWarning: install \"ipywidgets\" for Jupyter support\n",
       "  warnings.warn('install \"ipywidgets\" for Jupyter support')\n",
       "</pre>\n"
      ],
      "text/plain": [
       "/Users/Jorge/Library/Caches/pypoetry/virtualenvs/lorawan-chatbot-rag-llm-Kbm_Xz7B-py3.11/lib/python3.11/site-packag\n",
       "es/rich/live.py:231: UserWarning: install \"ipywidgets\" for Jupyter support\n",
       "  warnings.warn('install \"ipywidgets\" for Jupyter support')\n"
      ]
     },
     "metadata": {},
     "output_type": "display_data"
    },
    {
     "data": {
      "text/html": [
       "<pre style=\"white-space:pre;overflow-x:auto;line-height:normal;font-family:Menlo,'DejaVu Sans Mono',consolas,'Courier New',monospace\">/Users/Jorge/Library/Caches/pypoetry/virtualenvs/lorawan-chatbot-rag-llm-Kbm_Xz7B-py3.11/lib/python3.11/site-packag\n",
       "es/rich/live.py:231: UserWarning: install \"ipywidgets\" for Jupyter support\n",
       "  warnings.warn('install \"ipywidgets\" for Jupyter support')\n",
       "</pre>\n"
      ],
      "text/plain": [
       "/Users/Jorge/Library/Caches/pypoetry/virtualenvs/lorawan-chatbot-rag-llm-Kbm_Xz7B-py3.11/lib/python3.11/site-packag\n",
       "es/rich/live.py:231: UserWarning: install \"ipywidgets\" for Jupyter support\n",
       "  warnings.warn('install \"ipywidgets\" for Jupyter support')\n"
      ]
     },
     "metadata": {},
     "output_type": "display_data"
    },
    {
     "data": {
      "text/html": [
       "<pre style=\"white-space:pre;overflow-x:auto;line-height:normal;font-family:Menlo,'DejaVu Sans Mono',consolas,'Courier New',monospace\">/Users/Jorge/Library/Caches/pypoetry/virtualenvs/lorawan-chatbot-rag-llm-Kbm_Xz7B-py3.11/lib/python3.11/site-packag\n",
       "es/rich/live.py:231: UserWarning: install \"ipywidgets\" for Jupyter support\n",
       "  warnings.warn('install \"ipywidgets\" for Jupyter support')\n",
       "</pre>\n"
      ],
      "text/plain": [
       "/Users/Jorge/Library/Caches/pypoetry/virtualenvs/lorawan-chatbot-rag-llm-Kbm_Xz7B-py3.11/lib/python3.11/site-packag\n",
       "es/rich/live.py:231: UserWarning: install \"ipywidgets\" for Jupyter support\n",
       "  warnings.warn('install \"ipywidgets\" for Jupyter support')\n"
      ]
     },
     "metadata": {},
     "output_type": "display_data"
    },
    {
     "data": {
      "text/html": [
       "<pre style=\"white-space:pre;overflow-x:auto;line-height:normal;font-family:Menlo,'DejaVu Sans Mono',consolas,'Courier New',monospace\">/Users/Jorge/Library/Caches/pypoetry/virtualenvs/lorawan-chatbot-rag-llm-Kbm_Xz7B-py3.11/lib/python3.11/site-packag\n",
       "es/rich/live.py:231: UserWarning: install \"ipywidgets\" for Jupyter support\n",
       "  warnings.warn('install \"ipywidgets\" for Jupyter support')\n",
       "</pre>\n"
      ],
      "text/plain": [
       "/Users/Jorge/Library/Caches/pypoetry/virtualenvs/lorawan-chatbot-rag-llm-Kbm_Xz7B-py3.11/lib/python3.11/site-packag\n",
       "es/rich/live.py:231: UserWarning: install \"ipywidgets\" for Jupyter support\n",
       "  warnings.warn('install \"ipywidgets\" for Jupyter support')\n"
      ]
     },
     "metadata": {},
     "output_type": "display_data"
    },
    {
     "data": {
      "text/html": [
       "<pre style=\"white-space:pre;overflow-x:auto;line-height:normal;font-family:Menlo,'DejaVu Sans Mono',consolas,'Courier New',monospace\">/Users/Jorge/Library/Caches/pypoetry/virtualenvs/lorawan-chatbot-rag-llm-Kbm_Xz7B-py3.11/lib/python3.11/site-packag\n",
       "es/rich/live.py:231: UserWarning: install \"ipywidgets\" for Jupyter support\n",
       "  warnings.warn('install \"ipywidgets\" for Jupyter support')\n",
       "</pre>\n"
      ],
      "text/plain": [
       "/Users/Jorge/Library/Caches/pypoetry/virtualenvs/lorawan-chatbot-rag-llm-Kbm_Xz7B-py3.11/lib/python3.11/site-packag\n",
       "es/rich/live.py:231: UserWarning: install \"ipywidgets\" for Jupyter support\n",
       "  warnings.warn('install \"ipywidgets\" for Jupyter support')\n"
      ]
     },
     "metadata": {},
     "output_type": "display_data"
    },
    {
     "data": {
      "text/html": [
       "<pre style=\"white-space:pre;overflow-x:auto;line-height:normal;font-family:Menlo,'DejaVu Sans Mono',consolas,'Courier New',monospace\">/Users/Jorge/Library/Caches/pypoetry/virtualenvs/lorawan-chatbot-rag-llm-Kbm_Xz7B-py3.11/lib/python3.11/site-packag\n",
       "es/rich/live.py:231: UserWarning: install \"ipywidgets\" for Jupyter support\n",
       "  warnings.warn('install \"ipywidgets\" for Jupyter support')\n",
       "</pre>\n"
      ],
      "text/plain": [
       "/Users/Jorge/Library/Caches/pypoetry/virtualenvs/lorawan-chatbot-rag-llm-Kbm_Xz7B-py3.11/lib/python3.11/site-packag\n",
       "es/rich/live.py:231: UserWarning: install \"ipywidgets\" for Jupyter support\n",
       "  warnings.warn('install \"ipywidgets\" for Jupyter support')\n"
      ]
     },
     "metadata": {},
     "output_type": "display_data"
    },
    {
     "data": {
      "text/html": [
       "<pre style=\"white-space:pre;overflow-x:auto;line-height:normal;font-family:Menlo,'DejaVu Sans Mono',consolas,'Courier New',monospace\"></pre>\n"
      ],
      "text/plain": []
     },
     "metadata": {},
     "output_type": "display_data"
    },
    {
     "data": {
      "text/html": [
       "<pre style=\"white-space:pre;overflow-x:auto;line-height:normal;font-family:Menlo,'DejaVu Sans Mono',consolas,'Courier New',monospace\">\n",
       "</pre>\n"
      ],
      "text/plain": [
       "\n"
      ]
     },
     "metadata": {},
     "output_type": "display_data"
    },
    {
     "data": {
      "text/html": [
       "<pre style=\"white-space:pre;overflow-x:auto;line-height:normal;font-family:Menlo,'DejaVu Sans Mono',consolas,'Courier New',monospace\">/Users/Jorge/Library/Caches/pypoetry/virtualenvs/lorawan-chatbot-rag-llm-Kbm_Xz7B-py3.11/lib/python3.11/site-packag\n",
       "es/rich/live.py:231: UserWarning: install \"ipywidgets\" for Jupyter support\n",
       "  warnings.warn('install \"ipywidgets\" for Jupyter support')\n",
       "</pre>\n"
      ],
      "text/plain": [
       "/Users/Jorge/Library/Caches/pypoetry/virtualenvs/lorawan-chatbot-rag-llm-Kbm_Xz7B-py3.11/lib/python3.11/site-packag\n",
       "es/rich/live.py:231: UserWarning: install \"ipywidgets\" for Jupyter support\n",
       "  warnings.warn('install \"ipywidgets\" for Jupyter support')\n"
      ]
     },
     "metadata": {},
     "output_type": "display_data"
    },
    {
     "data": {
      "text/html": [
       "<pre style=\"white-space:pre;overflow-x:auto;line-height:normal;font-family:Menlo,'DejaVu Sans Mono',consolas,'Courier New',monospace\">/Users/Jorge/Library/Caches/pypoetry/virtualenvs/lorawan-chatbot-rag-llm-Kbm_Xz7B-py3.11/lib/python3.11/site-packag\n",
       "es/rich/live.py:231: UserWarning: install \"ipywidgets\" for Jupyter support\n",
       "  warnings.warn('install \"ipywidgets\" for Jupyter support')\n",
       "</pre>\n"
      ],
      "text/plain": [
       "/Users/Jorge/Library/Caches/pypoetry/virtualenvs/lorawan-chatbot-rag-llm-Kbm_Xz7B-py3.11/lib/python3.11/site-packag\n",
       "es/rich/live.py:231: UserWarning: install \"ipywidgets\" for Jupyter support\n",
       "  warnings.warn('install \"ipywidgets\" for Jupyter support')\n"
      ]
     },
     "metadata": {},
     "output_type": "display_data"
    },
    {
     "data": {
      "text/html": [
       "<pre style=\"white-space:pre;overflow-x:auto;line-height:normal;font-family:Menlo,'DejaVu Sans Mono',consolas,'Courier New',monospace\">/Users/Jorge/Library/Caches/pypoetry/virtualenvs/lorawan-chatbot-rag-llm-Kbm_Xz7B-py3.11/lib/python3.11/site-packag\n",
       "es/rich/live.py:231: UserWarning: install \"ipywidgets\" for Jupyter support\n",
       "  warnings.warn('install \"ipywidgets\" for Jupyter support')\n",
       "</pre>\n"
      ],
      "text/plain": [
       "/Users/Jorge/Library/Caches/pypoetry/virtualenvs/lorawan-chatbot-rag-llm-Kbm_Xz7B-py3.11/lib/python3.11/site-packag\n",
       "es/rich/live.py:231: UserWarning: install \"ipywidgets\" for Jupyter support\n",
       "  warnings.warn('install \"ipywidgets\" for Jupyter support')\n"
      ]
     },
     "metadata": {},
     "output_type": "display_data"
    },
    {
     "data": {
      "text/html": [
       "<pre style=\"white-space:pre;overflow-x:auto;line-height:normal;font-family:Menlo,'DejaVu Sans Mono',consolas,'Courier New',monospace\">/Users/Jorge/Library/Caches/pypoetry/virtualenvs/lorawan-chatbot-rag-llm-Kbm_Xz7B-py3.11/lib/python3.11/site-packag\n",
       "es/rich/live.py:231: UserWarning: install \"ipywidgets\" for Jupyter support\n",
       "  warnings.warn('install \"ipywidgets\" for Jupyter support')\n",
       "</pre>\n"
      ],
      "text/plain": [
       "/Users/Jorge/Library/Caches/pypoetry/virtualenvs/lorawan-chatbot-rag-llm-Kbm_Xz7B-py3.11/lib/python3.11/site-packag\n",
       "es/rich/live.py:231: UserWarning: install \"ipywidgets\" for Jupyter support\n",
       "  warnings.warn('install \"ipywidgets\" for Jupyter support')\n"
      ]
     },
     "metadata": {},
     "output_type": "display_data"
    },
    {
     "data": {
      "text/html": [
       "<pre style=\"white-space:pre;overflow-x:auto;line-height:normal;font-family:Menlo,'DejaVu Sans Mono',consolas,'Courier New',monospace\">/Users/Jorge/Library/Caches/pypoetry/virtualenvs/lorawan-chatbot-rag-llm-Kbm_Xz7B-py3.11/lib/python3.11/site-packag\n",
       "es/rich/live.py:231: UserWarning: install \"ipywidgets\" for Jupyter support\n",
       "  warnings.warn('install \"ipywidgets\" for Jupyter support')\n",
       "</pre>\n"
      ],
      "text/plain": [
       "/Users/Jorge/Library/Caches/pypoetry/virtualenvs/lorawan-chatbot-rag-llm-Kbm_Xz7B-py3.11/lib/python3.11/site-packag\n",
       "es/rich/live.py:231: UserWarning: install \"ipywidgets\" for Jupyter support\n",
       "  warnings.warn('install \"ipywidgets\" for Jupyter support')\n"
      ]
     },
     "metadata": {},
     "output_type": "display_data"
    },
    {
     "data": {
      "text/html": [
       "<pre style=\"white-space:pre;overflow-x:auto;line-height:normal;font-family:Menlo,'DejaVu Sans Mono',consolas,'Courier New',monospace\">/Users/Jorge/Library/Caches/pypoetry/virtualenvs/lorawan-chatbot-rag-llm-Kbm_Xz7B-py3.11/lib/python3.11/site-packag\n",
       "es/rich/live.py:231: UserWarning: install \"ipywidgets\" for Jupyter support\n",
       "  warnings.warn('install \"ipywidgets\" for Jupyter support')\n",
       "</pre>\n"
      ],
      "text/plain": [
       "/Users/Jorge/Library/Caches/pypoetry/virtualenvs/lorawan-chatbot-rag-llm-Kbm_Xz7B-py3.11/lib/python3.11/site-packag\n",
       "es/rich/live.py:231: UserWarning: install \"ipywidgets\" for Jupyter support\n",
       "  warnings.warn('install \"ipywidgets\" for Jupyter support')\n"
      ]
     },
     "metadata": {},
     "output_type": "display_data"
    },
    {
     "data": {
      "text/html": [
       "<pre style=\"white-space:pre;overflow-x:auto;line-height:normal;font-family:Menlo,'DejaVu Sans Mono',consolas,'Courier New',monospace\">/Users/Jorge/Library/Caches/pypoetry/virtualenvs/lorawan-chatbot-rag-llm-Kbm_Xz7B-py3.11/lib/python3.11/site-packag\n",
       "es/rich/live.py:231: UserWarning: install \"ipywidgets\" for Jupyter support\n",
       "  warnings.warn('install \"ipywidgets\" for Jupyter support')\n",
       "</pre>\n"
      ],
      "text/plain": [
       "/Users/Jorge/Library/Caches/pypoetry/virtualenvs/lorawan-chatbot-rag-llm-Kbm_Xz7B-py3.11/lib/python3.11/site-packag\n",
       "es/rich/live.py:231: UserWarning: install \"ipywidgets\" for Jupyter support\n",
       "  warnings.warn('install \"ipywidgets\" for Jupyter support')\n"
      ]
     },
     "metadata": {},
     "output_type": "display_data"
    },
    {
     "data": {
      "text/html": [
       "<pre style=\"white-space:pre;overflow-x:auto;line-height:normal;font-family:Menlo,'DejaVu Sans Mono',consolas,'Courier New',monospace\">/Users/Jorge/Library/Caches/pypoetry/virtualenvs/lorawan-chatbot-rag-llm-Kbm_Xz7B-py3.11/lib/python3.11/site-packag\n",
       "es/rich/live.py:231: UserWarning: install \"ipywidgets\" for Jupyter support\n",
       "  warnings.warn('install \"ipywidgets\" for Jupyter support')\n",
       "</pre>\n"
      ],
      "text/plain": [
       "/Users/Jorge/Library/Caches/pypoetry/virtualenvs/lorawan-chatbot-rag-llm-Kbm_Xz7B-py3.11/lib/python3.11/site-packag\n",
       "es/rich/live.py:231: UserWarning: install \"ipywidgets\" for Jupyter support\n",
       "  warnings.warn('install \"ipywidgets\" for Jupyter support')\n"
      ]
     },
     "metadata": {},
     "output_type": "display_data"
    },
    {
     "data": {
      "text/html": [
       "<pre style=\"white-space:pre;overflow-x:auto;line-height:normal;font-family:Menlo,'DejaVu Sans Mono',consolas,'Courier New',monospace\">/Users/Jorge/Library/Caches/pypoetry/virtualenvs/lorawan-chatbot-rag-llm-Kbm_Xz7B-py3.11/lib/python3.11/site-packag\n",
       "es/rich/live.py:231: UserWarning: install \"ipywidgets\" for Jupyter support\n",
       "  warnings.warn('install \"ipywidgets\" for Jupyter support')\n",
       "</pre>\n"
      ],
      "text/plain": [
       "/Users/Jorge/Library/Caches/pypoetry/virtualenvs/lorawan-chatbot-rag-llm-Kbm_Xz7B-py3.11/lib/python3.11/site-packag\n",
       "es/rich/live.py:231: UserWarning: install \"ipywidgets\" for Jupyter support\n",
       "  warnings.warn('install \"ipywidgets\" for Jupyter support')\n"
      ]
     },
     "metadata": {},
     "output_type": "display_data"
    },
    {
     "data": {
      "text/html": [
       "<pre style=\"white-space:pre;overflow-x:auto;line-height:normal;font-family:Menlo,'DejaVu Sans Mono',consolas,'Courier New',monospace\">/Users/Jorge/Library/Caches/pypoetry/virtualenvs/lorawan-chatbot-rag-llm-Kbm_Xz7B-py3.11/lib/python3.11/site-packag\n",
       "es/rich/live.py:231: UserWarning: install \"ipywidgets\" for Jupyter support\n",
       "  warnings.warn('install \"ipywidgets\" for Jupyter support')\n",
       "</pre>\n"
      ],
      "text/plain": [
       "/Users/Jorge/Library/Caches/pypoetry/virtualenvs/lorawan-chatbot-rag-llm-Kbm_Xz7B-py3.11/lib/python3.11/site-packag\n",
       "es/rich/live.py:231: UserWarning: install \"ipywidgets\" for Jupyter support\n",
       "  warnings.warn('install \"ipywidgets\" for Jupyter support')\n"
      ]
     },
     "metadata": {},
     "output_type": "display_data"
    },
    {
     "data": {
      "text/html": [
       "<pre style=\"white-space:pre;overflow-x:auto;line-height:normal;font-family:Menlo,'DejaVu Sans Mono',consolas,'Courier New',monospace\"></pre>\n"
      ],
      "text/plain": []
     },
     "metadata": {},
     "output_type": "display_data"
    },
    {
     "data": {
      "text/html": [
       "<pre style=\"white-space:pre;overflow-x:auto;line-height:normal;font-family:Menlo,'DejaVu Sans Mono',consolas,'Courier New',monospace\">\n",
       "</pre>\n"
      ],
      "text/plain": [
       "\n"
      ]
     },
     "metadata": {},
     "output_type": "display_data"
    },
    {
     "data": {
      "text/html": [
       "<pre style=\"white-space:pre;overflow-x:auto;line-height:normal;font-family:Menlo,'DejaVu Sans Mono',consolas,'Courier New',monospace\">/Users/Jorge/Library/Caches/pypoetry/virtualenvs/lorawan-chatbot-rag-llm-Kbm_Xz7B-py3.11/lib/python3.11/site-packag\n",
       "es/rich/live.py:231: UserWarning: install \"ipywidgets\" for Jupyter support\n",
       "  warnings.warn('install \"ipywidgets\" for Jupyter support')\n",
       "</pre>\n"
      ],
      "text/plain": [
       "/Users/Jorge/Library/Caches/pypoetry/virtualenvs/lorawan-chatbot-rag-llm-Kbm_Xz7B-py3.11/lib/python3.11/site-packag\n",
       "es/rich/live.py:231: UserWarning: install \"ipywidgets\" for Jupyter support\n",
       "  warnings.warn('install \"ipywidgets\" for Jupyter support')\n"
      ]
     },
     "metadata": {},
     "output_type": "display_data"
    },
    {
     "data": {
      "text/html": [
       "<pre style=\"white-space:pre;overflow-x:auto;line-height:normal;font-family:Menlo,'DejaVu Sans Mono',consolas,'Courier New',monospace\">/Users/Jorge/Library/Caches/pypoetry/virtualenvs/lorawan-chatbot-rag-llm-Kbm_Xz7B-py3.11/lib/python3.11/site-packag\n",
       "es/rich/live.py:231: UserWarning: install \"ipywidgets\" for Jupyter support\n",
       "  warnings.warn('install \"ipywidgets\" for Jupyter support')\n",
       "</pre>\n"
      ],
      "text/plain": [
       "/Users/Jorge/Library/Caches/pypoetry/virtualenvs/lorawan-chatbot-rag-llm-Kbm_Xz7B-py3.11/lib/python3.11/site-packag\n",
       "es/rich/live.py:231: UserWarning: install \"ipywidgets\" for Jupyter support\n",
       "  warnings.warn('install \"ipywidgets\" for Jupyter support')\n"
      ]
     },
     "metadata": {},
     "output_type": "display_data"
    },
    {
     "data": {
      "text/html": [
       "<pre style=\"white-space:pre;overflow-x:auto;line-height:normal;font-family:Menlo,'DejaVu Sans Mono',consolas,'Courier New',monospace\">/Users/Jorge/Library/Caches/pypoetry/virtualenvs/lorawan-chatbot-rag-llm-Kbm_Xz7B-py3.11/lib/python3.11/site-packag\n",
       "es/rich/live.py:231: UserWarning: install \"ipywidgets\" for Jupyter support\n",
       "  warnings.warn('install \"ipywidgets\" for Jupyter support')\n",
       "</pre>\n"
      ],
      "text/plain": [
       "/Users/Jorge/Library/Caches/pypoetry/virtualenvs/lorawan-chatbot-rag-llm-Kbm_Xz7B-py3.11/lib/python3.11/site-packag\n",
       "es/rich/live.py:231: UserWarning: install \"ipywidgets\" for Jupyter support\n",
       "  warnings.warn('install \"ipywidgets\" for Jupyter support')\n"
      ]
     },
     "metadata": {},
     "output_type": "display_data"
    },
    {
     "data": {
      "text/html": [
       "<pre style=\"white-space:pre;overflow-x:auto;line-height:normal;font-family:Menlo,'DejaVu Sans Mono',consolas,'Courier New',monospace\">/Users/Jorge/Library/Caches/pypoetry/virtualenvs/lorawan-chatbot-rag-llm-Kbm_Xz7B-py3.11/lib/python3.11/site-packag\n",
       "es/rich/live.py:231: UserWarning: install \"ipywidgets\" for Jupyter support\n",
       "  warnings.warn('install \"ipywidgets\" for Jupyter support')\n",
       "</pre>\n"
      ],
      "text/plain": [
       "/Users/Jorge/Library/Caches/pypoetry/virtualenvs/lorawan-chatbot-rag-llm-Kbm_Xz7B-py3.11/lib/python3.11/site-packag\n",
       "es/rich/live.py:231: UserWarning: install \"ipywidgets\" for Jupyter support\n",
       "  warnings.warn('install \"ipywidgets\" for Jupyter support')\n"
      ]
     },
     "metadata": {},
     "output_type": "display_data"
    },
    {
     "data": {
      "text/html": [
       "<pre style=\"white-space:pre;overflow-x:auto;line-height:normal;font-family:Menlo,'DejaVu Sans Mono',consolas,'Courier New',monospace\">/Users/Jorge/Library/Caches/pypoetry/virtualenvs/lorawan-chatbot-rag-llm-Kbm_Xz7B-py3.11/lib/python3.11/site-packag\n",
       "es/rich/live.py:231: UserWarning: install \"ipywidgets\" for Jupyter support\n",
       "  warnings.warn('install \"ipywidgets\" for Jupyter support')\n",
       "</pre>\n"
      ],
      "text/plain": [
       "/Users/Jorge/Library/Caches/pypoetry/virtualenvs/lorawan-chatbot-rag-llm-Kbm_Xz7B-py3.11/lib/python3.11/site-packag\n",
       "es/rich/live.py:231: UserWarning: install \"ipywidgets\" for Jupyter support\n",
       "  warnings.warn('install \"ipywidgets\" for Jupyter support')\n"
      ]
     },
     "metadata": {},
     "output_type": "display_data"
    },
    {
     "data": {
      "text/html": [
       "<pre style=\"white-space:pre;overflow-x:auto;line-height:normal;font-family:Menlo,'DejaVu Sans Mono',consolas,'Courier New',monospace\">/Users/Jorge/Library/Caches/pypoetry/virtualenvs/lorawan-chatbot-rag-llm-Kbm_Xz7B-py3.11/lib/python3.11/site-packag\n",
       "es/rich/live.py:231: UserWarning: install \"ipywidgets\" for Jupyter support\n",
       "  warnings.warn('install \"ipywidgets\" for Jupyter support')\n",
       "</pre>\n"
      ],
      "text/plain": [
       "/Users/Jorge/Library/Caches/pypoetry/virtualenvs/lorawan-chatbot-rag-llm-Kbm_Xz7B-py3.11/lib/python3.11/site-packag\n",
       "es/rich/live.py:231: UserWarning: install \"ipywidgets\" for Jupyter support\n",
       "  warnings.warn('install \"ipywidgets\" for Jupyter support')\n"
      ]
     },
     "metadata": {},
     "output_type": "display_data"
    },
    {
     "data": {
      "text/html": [
       "<pre style=\"white-space:pre;overflow-x:auto;line-height:normal;font-family:Menlo,'DejaVu Sans Mono',consolas,'Courier New',monospace\">/Users/Jorge/Library/Caches/pypoetry/virtualenvs/lorawan-chatbot-rag-llm-Kbm_Xz7B-py3.11/lib/python3.11/site-packag\n",
       "es/rich/live.py:231: UserWarning: install \"ipywidgets\" for Jupyter support\n",
       "  warnings.warn('install \"ipywidgets\" for Jupyter support')\n",
       "</pre>\n"
      ],
      "text/plain": [
       "/Users/Jorge/Library/Caches/pypoetry/virtualenvs/lorawan-chatbot-rag-llm-Kbm_Xz7B-py3.11/lib/python3.11/site-packag\n",
       "es/rich/live.py:231: UserWarning: install \"ipywidgets\" for Jupyter support\n",
       "  warnings.warn('install \"ipywidgets\" for Jupyter support')\n"
      ]
     },
     "metadata": {},
     "output_type": "display_data"
    },
    {
     "data": {
      "text/html": [
       "<pre style=\"white-space:pre;overflow-x:auto;line-height:normal;font-family:Menlo,'DejaVu Sans Mono',consolas,'Courier New',monospace\">/Users/Jorge/Library/Caches/pypoetry/virtualenvs/lorawan-chatbot-rag-llm-Kbm_Xz7B-py3.11/lib/python3.11/site-packag\n",
       "es/rich/live.py:231: UserWarning: install \"ipywidgets\" for Jupyter support\n",
       "  warnings.warn('install \"ipywidgets\" for Jupyter support')\n",
       "</pre>\n"
      ],
      "text/plain": [
       "/Users/Jorge/Library/Caches/pypoetry/virtualenvs/lorawan-chatbot-rag-llm-Kbm_Xz7B-py3.11/lib/python3.11/site-packag\n",
       "es/rich/live.py:231: UserWarning: install \"ipywidgets\" for Jupyter support\n",
       "  warnings.warn('install \"ipywidgets\" for Jupyter support')\n"
      ]
     },
     "metadata": {},
     "output_type": "display_data"
    },
    {
     "data": {
      "text/html": [
       "<pre style=\"white-space:pre;overflow-x:auto;line-height:normal;font-family:Menlo,'DejaVu Sans Mono',consolas,'Courier New',monospace\">/Users/Jorge/Library/Caches/pypoetry/virtualenvs/lorawan-chatbot-rag-llm-Kbm_Xz7B-py3.11/lib/python3.11/site-packag\n",
       "es/rich/live.py:231: UserWarning: install \"ipywidgets\" for Jupyter support\n",
       "  warnings.warn('install \"ipywidgets\" for Jupyter support')\n",
       "</pre>\n"
      ],
      "text/plain": [
       "/Users/Jorge/Library/Caches/pypoetry/virtualenvs/lorawan-chatbot-rag-llm-Kbm_Xz7B-py3.11/lib/python3.11/site-packag\n",
       "es/rich/live.py:231: UserWarning: install \"ipywidgets\" for Jupyter support\n",
       "  warnings.warn('install \"ipywidgets\" for Jupyter support')\n"
      ]
     },
     "metadata": {},
     "output_type": "display_data"
    },
    {
     "data": {
      "text/html": [
       "<pre style=\"white-space:pre;overflow-x:auto;line-height:normal;font-family:Menlo,'DejaVu Sans Mono',consolas,'Courier New',monospace\">/Users/Jorge/Library/Caches/pypoetry/virtualenvs/lorawan-chatbot-rag-llm-Kbm_Xz7B-py3.11/lib/python3.11/site-packag\n",
       "es/rich/live.py:231: UserWarning: install \"ipywidgets\" for Jupyter support\n",
       "  warnings.warn('install \"ipywidgets\" for Jupyter support')\n",
       "</pre>\n"
      ],
      "text/plain": [
       "/Users/Jorge/Library/Caches/pypoetry/virtualenvs/lorawan-chatbot-rag-llm-Kbm_Xz7B-py3.11/lib/python3.11/site-packag\n",
       "es/rich/live.py:231: UserWarning: install \"ipywidgets\" for Jupyter support\n",
       "  warnings.warn('install \"ipywidgets\" for Jupyter support')\n"
      ]
     },
     "metadata": {},
     "output_type": "display_data"
    },
    {
     "data": {
      "text/html": [
       "<pre style=\"white-space:pre;overflow-x:auto;line-height:normal;font-family:Menlo,'DejaVu Sans Mono',consolas,'Courier New',monospace\">/Users/Jorge/Library/Caches/pypoetry/virtualenvs/lorawan-chatbot-rag-llm-Kbm_Xz7B-py3.11/lib/python3.11/site-packag\n",
       "es/rich/live.py:231: UserWarning: install \"ipywidgets\" for Jupyter support\n",
       "  warnings.warn('install \"ipywidgets\" for Jupyter support')\n",
       "</pre>\n"
      ],
      "text/plain": [
       "/Users/Jorge/Library/Caches/pypoetry/virtualenvs/lorawan-chatbot-rag-llm-Kbm_Xz7B-py3.11/lib/python3.11/site-packag\n",
       "es/rich/live.py:231: UserWarning: install \"ipywidgets\" for Jupyter support\n",
       "  warnings.warn('install \"ipywidgets\" for Jupyter support')\n"
      ]
     },
     "metadata": {},
     "output_type": "display_data"
    },
    {
     "data": {
      "text/html": [
       "<pre style=\"white-space:pre;overflow-x:auto;line-height:normal;font-family:Menlo,'DejaVu Sans Mono',consolas,'Courier New',monospace\"></pre>\n"
      ],
      "text/plain": []
     },
     "metadata": {},
     "output_type": "display_data"
    },
    {
     "data": {
      "text/html": [
       "<pre style=\"white-space:pre;overflow-x:auto;line-height:normal;font-family:Menlo,'DejaVu Sans Mono',consolas,'Courier New',monospace\">\n",
       "</pre>\n"
      ],
      "text/plain": [
       "\n"
      ]
     },
     "metadata": {},
     "output_type": "display_data"
    },
    {
     "data": {
      "text/html": [
       "<pre style=\"white-space:pre;overflow-x:auto;line-height:normal;font-family:Menlo,'DejaVu Sans Mono',consolas,'Courier New',monospace\">/Users/Jorge/Library/Caches/pypoetry/virtualenvs/lorawan-chatbot-rag-llm-Kbm_Xz7B-py3.11/lib/python3.11/site-packag\n",
       "es/rich/live.py:231: UserWarning: install \"ipywidgets\" for Jupyter support\n",
       "  warnings.warn('install \"ipywidgets\" for Jupyter support')\n",
       "</pre>\n"
      ],
      "text/plain": [
       "/Users/Jorge/Library/Caches/pypoetry/virtualenvs/lorawan-chatbot-rag-llm-Kbm_Xz7B-py3.11/lib/python3.11/site-packag\n",
       "es/rich/live.py:231: UserWarning: install \"ipywidgets\" for Jupyter support\n",
       "  warnings.warn('install \"ipywidgets\" for Jupyter support')\n"
      ]
     },
     "metadata": {},
     "output_type": "display_data"
    },
    {
     "data": {
      "text/html": [
       "<pre style=\"white-space:pre;overflow-x:auto;line-height:normal;font-family:Menlo,'DejaVu Sans Mono',consolas,'Courier New',monospace\">/Users/Jorge/Library/Caches/pypoetry/virtualenvs/lorawan-chatbot-rag-llm-Kbm_Xz7B-py3.11/lib/python3.11/site-packag\n",
       "es/rich/live.py:231: UserWarning: install \"ipywidgets\" for Jupyter support\n",
       "  warnings.warn('install \"ipywidgets\" for Jupyter support')\n",
       "</pre>\n"
      ],
      "text/plain": [
       "/Users/Jorge/Library/Caches/pypoetry/virtualenvs/lorawan-chatbot-rag-llm-Kbm_Xz7B-py3.11/lib/python3.11/site-packag\n",
       "es/rich/live.py:231: UserWarning: install \"ipywidgets\" for Jupyter support\n",
       "  warnings.warn('install \"ipywidgets\" for Jupyter support')\n"
      ]
     },
     "metadata": {},
     "output_type": "display_data"
    },
    {
     "data": {
      "text/html": [
       "<pre style=\"white-space:pre;overflow-x:auto;line-height:normal;font-family:Menlo,'DejaVu Sans Mono',consolas,'Courier New',monospace\">/Users/Jorge/Library/Caches/pypoetry/virtualenvs/lorawan-chatbot-rag-llm-Kbm_Xz7B-py3.11/lib/python3.11/site-packag\n",
       "es/rich/live.py:231: UserWarning: install \"ipywidgets\" for Jupyter support\n",
       "  warnings.warn('install \"ipywidgets\" for Jupyter support')\n",
       "</pre>\n"
      ],
      "text/plain": [
       "/Users/Jorge/Library/Caches/pypoetry/virtualenvs/lorawan-chatbot-rag-llm-Kbm_Xz7B-py3.11/lib/python3.11/site-packag\n",
       "es/rich/live.py:231: UserWarning: install \"ipywidgets\" for Jupyter support\n",
       "  warnings.warn('install \"ipywidgets\" for Jupyter support')\n"
      ]
     },
     "metadata": {},
     "output_type": "display_data"
    },
    {
     "data": {
      "text/html": [
       "<pre style=\"white-space:pre;overflow-x:auto;line-height:normal;font-family:Menlo,'DejaVu Sans Mono',consolas,'Courier New',monospace\">/Users/Jorge/Library/Caches/pypoetry/virtualenvs/lorawan-chatbot-rag-llm-Kbm_Xz7B-py3.11/lib/python3.11/site-packag\n",
       "es/rich/live.py:231: UserWarning: install \"ipywidgets\" for Jupyter support\n",
       "  warnings.warn('install \"ipywidgets\" for Jupyter support')\n",
       "</pre>\n"
      ],
      "text/plain": [
       "/Users/Jorge/Library/Caches/pypoetry/virtualenvs/lorawan-chatbot-rag-llm-Kbm_Xz7B-py3.11/lib/python3.11/site-packag\n",
       "es/rich/live.py:231: UserWarning: install \"ipywidgets\" for Jupyter support\n",
       "  warnings.warn('install \"ipywidgets\" for Jupyter support')\n"
      ]
     },
     "metadata": {},
     "output_type": "display_data"
    },
    {
     "data": {
      "text/html": [
       "<pre style=\"white-space:pre;overflow-x:auto;line-height:normal;font-family:Menlo,'DejaVu Sans Mono',consolas,'Courier New',monospace\">/Users/Jorge/Library/Caches/pypoetry/virtualenvs/lorawan-chatbot-rag-llm-Kbm_Xz7B-py3.11/lib/python3.11/site-packag\n",
       "es/rich/live.py:231: UserWarning: install \"ipywidgets\" for Jupyter support\n",
       "  warnings.warn('install \"ipywidgets\" for Jupyter support')\n",
       "</pre>\n"
      ],
      "text/plain": [
       "/Users/Jorge/Library/Caches/pypoetry/virtualenvs/lorawan-chatbot-rag-llm-Kbm_Xz7B-py3.11/lib/python3.11/site-packag\n",
       "es/rich/live.py:231: UserWarning: install \"ipywidgets\" for Jupyter support\n",
       "  warnings.warn('install \"ipywidgets\" for Jupyter support')\n"
      ]
     },
     "metadata": {},
     "output_type": "display_data"
    },
    {
     "data": {
      "text/html": [
       "<pre style=\"white-space:pre;overflow-x:auto;line-height:normal;font-family:Menlo,'DejaVu Sans Mono',consolas,'Courier New',monospace\">/Users/Jorge/Library/Caches/pypoetry/virtualenvs/lorawan-chatbot-rag-llm-Kbm_Xz7B-py3.11/lib/python3.11/site-packag\n",
       "es/rich/live.py:231: UserWarning: install \"ipywidgets\" for Jupyter support\n",
       "  warnings.warn('install \"ipywidgets\" for Jupyter support')\n",
       "</pre>\n"
      ],
      "text/plain": [
       "/Users/Jorge/Library/Caches/pypoetry/virtualenvs/lorawan-chatbot-rag-llm-Kbm_Xz7B-py3.11/lib/python3.11/site-packag\n",
       "es/rich/live.py:231: UserWarning: install \"ipywidgets\" for Jupyter support\n",
       "  warnings.warn('install \"ipywidgets\" for Jupyter support')\n"
      ]
     },
     "metadata": {},
     "output_type": "display_data"
    },
    {
     "data": {
      "text/html": [
       "<pre style=\"white-space:pre;overflow-x:auto;line-height:normal;font-family:Menlo,'DejaVu Sans Mono',consolas,'Courier New',monospace\">/Users/Jorge/Library/Caches/pypoetry/virtualenvs/lorawan-chatbot-rag-llm-Kbm_Xz7B-py3.11/lib/python3.11/site-packag\n",
       "es/rich/live.py:231: UserWarning: install \"ipywidgets\" for Jupyter support\n",
       "  warnings.warn('install \"ipywidgets\" for Jupyter support')\n",
       "</pre>\n"
      ],
      "text/plain": [
       "/Users/Jorge/Library/Caches/pypoetry/virtualenvs/lorawan-chatbot-rag-llm-Kbm_Xz7B-py3.11/lib/python3.11/site-packag\n",
       "es/rich/live.py:231: UserWarning: install \"ipywidgets\" for Jupyter support\n",
       "  warnings.warn('install \"ipywidgets\" for Jupyter support')\n"
      ]
     },
     "metadata": {},
     "output_type": "display_data"
    },
    {
     "data": {
      "text/html": [
       "<pre style=\"white-space:pre;overflow-x:auto;line-height:normal;font-family:Menlo,'DejaVu Sans Mono',consolas,'Courier New',monospace\">/Users/Jorge/Library/Caches/pypoetry/virtualenvs/lorawan-chatbot-rag-llm-Kbm_Xz7B-py3.11/lib/python3.11/site-packag\n",
       "es/rich/live.py:231: UserWarning: install \"ipywidgets\" for Jupyter support\n",
       "  warnings.warn('install \"ipywidgets\" for Jupyter support')\n",
       "</pre>\n"
      ],
      "text/plain": [
       "/Users/Jorge/Library/Caches/pypoetry/virtualenvs/lorawan-chatbot-rag-llm-Kbm_Xz7B-py3.11/lib/python3.11/site-packag\n",
       "es/rich/live.py:231: UserWarning: install \"ipywidgets\" for Jupyter support\n",
       "  warnings.warn('install \"ipywidgets\" for Jupyter support')\n"
      ]
     },
     "metadata": {},
     "output_type": "display_data"
    },
    {
     "data": {
      "text/html": [
       "<pre style=\"white-space:pre;overflow-x:auto;line-height:normal;font-family:Menlo,'DejaVu Sans Mono',consolas,'Courier New',monospace\">/Users/Jorge/Library/Caches/pypoetry/virtualenvs/lorawan-chatbot-rag-llm-Kbm_Xz7B-py3.11/lib/python3.11/site-packag\n",
       "es/rich/live.py:231: UserWarning: install \"ipywidgets\" for Jupyter support\n",
       "  warnings.warn('install \"ipywidgets\" for Jupyter support')\n",
       "</pre>\n"
      ],
      "text/plain": [
       "/Users/Jorge/Library/Caches/pypoetry/virtualenvs/lorawan-chatbot-rag-llm-Kbm_Xz7B-py3.11/lib/python3.11/site-packag\n",
       "es/rich/live.py:231: UserWarning: install \"ipywidgets\" for Jupyter support\n",
       "  warnings.warn('install \"ipywidgets\" for Jupyter support')\n"
      ]
     },
     "metadata": {},
     "output_type": "display_data"
    },
    {
     "data": {
      "text/html": [
       "<pre style=\"white-space:pre;overflow-x:auto;line-height:normal;font-family:Menlo,'DejaVu Sans Mono',consolas,'Courier New',monospace\">/Users/Jorge/Library/Caches/pypoetry/virtualenvs/lorawan-chatbot-rag-llm-Kbm_Xz7B-py3.11/lib/python3.11/site-packag\n",
       "es/rich/live.py:231: UserWarning: install \"ipywidgets\" for Jupyter support\n",
       "  warnings.warn('install \"ipywidgets\" for Jupyter support')\n",
       "</pre>\n"
      ],
      "text/plain": [
       "/Users/Jorge/Library/Caches/pypoetry/virtualenvs/lorawan-chatbot-rag-llm-Kbm_Xz7B-py3.11/lib/python3.11/site-packag\n",
       "es/rich/live.py:231: UserWarning: install \"ipywidgets\" for Jupyter support\n",
       "  warnings.warn('install \"ipywidgets\" for Jupyter support')\n"
      ]
     },
     "metadata": {},
     "output_type": "display_data"
    },
    {
     "data": {
      "text/html": [
       "<pre style=\"white-space:pre;overflow-x:auto;line-height:normal;font-family:Menlo,'DejaVu Sans Mono',consolas,'Courier New',monospace\"></pre>\n"
      ],
      "text/plain": []
     },
     "metadata": {},
     "output_type": "display_data"
    },
    {
     "data": {
      "text/html": [
       "<pre style=\"white-space:pre;overflow-x:auto;line-height:normal;font-family:Menlo,'DejaVu Sans Mono',consolas,'Courier New',monospace\">\n",
       "</pre>\n"
      ],
      "text/plain": [
       "\n"
      ]
     },
     "metadata": {},
     "output_type": "display_data"
    },
    {
     "data": {
      "text/html": [
       "<pre style=\"white-space:pre;overflow-x:auto;line-height:normal;font-family:Menlo,'DejaVu Sans Mono',consolas,'Courier New',monospace\">/Users/Jorge/Library/Caches/pypoetry/virtualenvs/lorawan-chatbot-rag-llm-Kbm_Xz7B-py3.11/lib/python3.11/site-packag\n",
       "es/rich/live.py:231: UserWarning: install \"ipywidgets\" for Jupyter support\n",
       "  warnings.warn('install \"ipywidgets\" for Jupyter support')\n",
       "</pre>\n"
      ],
      "text/plain": [
       "/Users/Jorge/Library/Caches/pypoetry/virtualenvs/lorawan-chatbot-rag-llm-Kbm_Xz7B-py3.11/lib/python3.11/site-packag\n",
       "es/rich/live.py:231: UserWarning: install \"ipywidgets\" for Jupyter support\n",
       "  warnings.warn('install \"ipywidgets\" for Jupyter support')\n"
      ]
     },
     "metadata": {},
     "output_type": "display_data"
    },
    {
     "data": {
      "text/html": [
       "<pre style=\"white-space:pre;overflow-x:auto;line-height:normal;font-family:Menlo,'DejaVu Sans Mono',consolas,'Courier New',monospace\">/Users/Jorge/Library/Caches/pypoetry/virtualenvs/lorawan-chatbot-rag-llm-Kbm_Xz7B-py3.11/lib/python3.11/site-packag\n",
       "es/rich/live.py:231: UserWarning: install \"ipywidgets\" for Jupyter support\n",
       "  warnings.warn('install \"ipywidgets\" for Jupyter support')\n",
       "</pre>\n"
      ],
      "text/plain": [
       "/Users/Jorge/Library/Caches/pypoetry/virtualenvs/lorawan-chatbot-rag-llm-Kbm_Xz7B-py3.11/lib/python3.11/site-packag\n",
       "es/rich/live.py:231: UserWarning: install \"ipywidgets\" for Jupyter support\n",
       "  warnings.warn('install \"ipywidgets\" for Jupyter support')\n"
      ]
     },
     "metadata": {},
     "output_type": "display_data"
    },
    {
     "data": {
      "text/html": [
       "<pre style=\"white-space:pre;overflow-x:auto;line-height:normal;font-family:Menlo,'DejaVu Sans Mono',consolas,'Courier New',monospace\">/Users/Jorge/Library/Caches/pypoetry/virtualenvs/lorawan-chatbot-rag-llm-Kbm_Xz7B-py3.11/lib/python3.11/site-packag\n",
       "es/rich/live.py:231: UserWarning: install \"ipywidgets\" for Jupyter support\n",
       "  warnings.warn('install \"ipywidgets\" for Jupyter support')\n",
       "</pre>\n"
      ],
      "text/plain": [
       "/Users/Jorge/Library/Caches/pypoetry/virtualenvs/lorawan-chatbot-rag-llm-Kbm_Xz7B-py3.11/lib/python3.11/site-packag\n",
       "es/rich/live.py:231: UserWarning: install \"ipywidgets\" for Jupyter support\n",
       "  warnings.warn('install \"ipywidgets\" for Jupyter support')\n"
      ]
     },
     "metadata": {},
     "output_type": "display_data"
    },
    {
     "data": {
      "text/html": [
       "<pre style=\"white-space:pre;overflow-x:auto;line-height:normal;font-family:Menlo,'DejaVu Sans Mono',consolas,'Courier New',monospace\">/Users/Jorge/Library/Caches/pypoetry/virtualenvs/lorawan-chatbot-rag-llm-Kbm_Xz7B-py3.11/lib/python3.11/site-packag\n",
       "es/rich/live.py:231: UserWarning: install \"ipywidgets\" for Jupyter support\n",
       "  warnings.warn('install \"ipywidgets\" for Jupyter support')\n",
       "</pre>\n"
      ],
      "text/plain": [
       "/Users/Jorge/Library/Caches/pypoetry/virtualenvs/lorawan-chatbot-rag-llm-Kbm_Xz7B-py3.11/lib/python3.11/site-packag\n",
       "es/rich/live.py:231: UserWarning: install \"ipywidgets\" for Jupyter support\n",
       "  warnings.warn('install \"ipywidgets\" for Jupyter support')\n"
      ]
     },
     "metadata": {},
     "output_type": "display_data"
    },
    {
     "data": {
      "text/html": [
       "<pre style=\"white-space:pre;overflow-x:auto;line-height:normal;font-family:Menlo,'DejaVu Sans Mono',consolas,'Courier New',monospace\">/Users/Jorge/Library/Caches/pypoetry/virtualenvs/lorawan-chatbot-rag-llm-Kbm_Xz7B-py3.11/lib/python3.11/site-packag\n",
       "es/rich/live.py:231: UserWarning: install \"ipywidgets\" for Jupyter support\n",
       "  warnings.warn('install \"ipywidgets\" for Jupyter support')\n",
       "</pre>\n"
      ],
      "text/plain": [
       "/Users/Jorge/Library/Caches/pypoetry/virtualenvs/lorawan-chatbot-rag-llm-Kbm_Xz7B-py3.11/lib/python3.11/site-packag\n",
       "es/rich/live.py:231: UserWarning: install \"ipywidgets\" for Jupyter support\n",
       "  warnings.warn('install \"ipywidgets\" for Jupyter support')\n"
      ]
     },
     "metadata": {},
     "output_type": "display_data"
    },
    {
     "data": {
      "text/html": [
       "<pre style=\"white-space:pre;overflow-x:auto;line-height:normal;font-family:Menlo,'DejaVu Sans Mono',consolas,'Courier New',monospace\">/Users/Jorge/Library/Caches/pypoetry/virtualenvs/lorawan-chatbot-rag-llm-Kbm_Xz7B-py3.11/lib/python3.11/site-packag\n",
       "es/rich/live.py:231: UserWarning: install \"ipywidgets\" for Jupyter support\n",
       "  warnings.warn('install \"ipywidgets\" for Jupyter support')\n",
       "</pre>\n"
      ],
      "text/plain": [
       "/Users/Jorge/Library/Caches/pypoetry/virtualenvs/lorawan-chatbot-rag-llm-Kbm_Xz7B-py3.11/lib/python3.11/site-packag\n",
       "es/rich/live.py:231: UserWarning: install \"ipywidgets\" for Jupyter support\n",
       "  warnings.warn('install \"ipywidgets\" for Jupyter support')\n"
      ]
     },
     "metadata": {},
     "output_type": "display_data"
    },
    {
     "data": {
      "text/html": [
       "<pre style=\"white-space:pre;overflow-x:auto;line-height:normal;font-family:Menlo,'DejaVu Sans Mono',consolas,'Courier New',monospace\">/Users/Jorge/Library/Caches/pypoetry/virtualenvs/lorawan-chatbot-rag-llm-Kbm_Xz7B-py3.11/lib/python3.11/site-packag\n",
       "es/rich/live.py:231: UserWarning: install \"ipywidgets\" for Jupyter support\n",
       "  warnings.warn('install \"ipywidgets\" for Jupyter support')\n",
       "</pre>\n"
      ],
      "text/plain": [
       "/Users/Jorge/Library/Caches/pypoetry/virtualenvs/lorawan-chatbot-rag-llm-Kbm_Xz7B-py3.11/lib/python3.11/site-packag\n",
       "es/rich/live.py:231: UserWarning: install \"ipywidgets\" for Jupyter support\n",
       "  warnings.warn('install \"ipywidgets\" for Jupyter support')\n"
      ]
     },
     "metadata": {},
     "output_type": "display_data"
    },
    {
     "data": {
      "text/html": [
       "<pre style=\"white-space:pre;overflow-x:auto;line-height:normal;font-family:Menlo,'DejaVu Sans Mono',consolas,'Courier New',monospace\">/Users/Jorge/Library/Caches/pypoetry/virtualenvs/lorawan-chatbot-rag-llm-Kbm_Xz7B-py3.11/lib/python3.11/site-packag\n",
       "es/rich/live.py:231: UserWarning: install \"ipywidgets\" for Jupyter support\n",
       "  warnings.warn('install \"ipywidgets\" for Jupyter support')\n",
       "</pre>\n"
      ],
      "text/plain": [
       "/Users/Jorge/Library/Caches/pypoetry/virtualenvs/lorawan-chatbot-rag-llm-Kbm_Xz7B-py3.11/lib/python3.11/site-packag\n",
       "es/rich/live.py:231: UserWarning: install \"ipywidgets\" for Jupyter support\n",
       "  warnings.warn('install \"ipywidgets\" for Jupyter support')\n"
      ]
     },
     "metadata": {},
     "output_type": "display_data"
    },
    {
     "data": {
      "text/html": [
       "<pre style=\"white-space:pre;overflow-x:auto;line-height:normal;font-family:Menlo,'DejaVu Sans Mono',consolas,'Courier New',monospace\">/Users/Jorge/Library/Caches/pypoetry/virtualenvs/lorawan-chatbot-rag-llm-Kbm_Xz7B-py3.11/lib/python3.11/site-packag\n",
       "es/rich/live.py:231: UserWarning: install \"ipywidgets\" for Jupyter support\n",
       "  warnings.warn('install \"ipywidgets\" for Jupyter support')\n",
       "</pre>\n"
      ],
      "text/plain": [
       "/Users/Jorge/Library/Caches/pypoetry/virtualenvs/lorawan-chatbot-rag-llm-Kbm_Xz7B-py3.11/lib/python3.11/site-packag\n",
       "es/rich/live.py:231: UserWarning: install \"ipywidgets\" for Jupyter support\n",
       "  warnings.warn('install \"ipywidgets\" for Jupyter support')\n"
      ]
     },
     "metadata": {},
     "output_type": "display_data"
    },
    {
     "data": {
      "text/html": [
       "<pre style=\"white-space:pre;overflow-x:auto;line-height:normal;font-family:Menlo,'DejaVu Sans Mono',consolas,'Courier New',monospace\"></pre>\n"
      ],
      "text/plain": []
     },
     "metadata": {},
     "output_type": "display_data"
    },
    {
     "data": {
      "text/html": [
       "<pre style=\"white-space:pre;overflow-x:auto;line-height:normal;font-family:Menlo,'DejaVu Sans Mono',consolas,'Courier New',monospace\">\n",
       "</pre>\n"
      ],
      "text/plain": [
       "\n"
      ]
     },
     "metadata": {},
     "output_type": "display_data"
    },
    {
     "data": {
      "text/html": [
       "<pre style=\"white-space:pre;overflow-x:auto;line-height:normal;font-family:Menlo,'DejaVu Sans Mono',consolas,'Courier New',monospace\">/Users/Jorge/Library/Caches/pypoetry/virtualenvs/lorawan-chatbot-rag-llm-Kbm_Xz7B-py3.11/lib/python3.11/site-packag\n",
       "es/rich/live.py:231: UserWarning: install \"ipywidgets\" for Jupyter support\n",
       "  warnings.warn('install \"ipywidgets\" for Jupyter support')\n",
       "</pre>\n"
      ],
      "text/plain": [
       "/Users/Jorge/Library/Caches/pypoetry/virtualenvs/lorawan-chatbot-rag-llm-Kbm_Xz7B-py3.11/lib/python3.11/site-packag\n",
       "es/rich/live.py:231: UserWarning: install \"ipywidgets\" for Jupyter support\n",
       "  warnings.warn('install \"ipywidgets\" for Jupyter support')\n"
      ]
     },
     "metadata": {},
     "output_type": "display_data"
    },
    {
     "data": {
      "text/html": [
       "<pre style=\"white-space:pre;overflow-x:auto;line-height:normal;font-family:Menlo,'DejaVu Sans Mono',consolas,'Courier New',monospace\">/Users/Jorge/Library/Caches/pypoetry/virtualenvs/lorawan-chatbot-rag-llm-Kbm_Xz7B-py3.11/lib/python3.11/site-packag\n",
       "es/rich/live.py:231: UserWarning: install \"ipywidgets\" for Jupyter support\n",
       "  warnings.warn('install \"ipywidgets\" for Jupyter support')\n",
       "</pre>\n"
      ],
      "text/plain": [
       "/Users/Jorge/Library/Caches/pypoetry/virtualenvs/lorawan-chatbot-rag-llm-Kbm_Xz7B-py3.11/lib/python3.11/site-packag\n",
       "es/rich/live.py:231: UserWarning: install \"ipywidgets\" for Jupyter support\n",
       "  warnings.warn('install \"ipywidgets\" for Jupyter support')\n"
      ]
     },
     "metadata": {},
     "output_type": "display_data"
    },
    {
     "data": {
      "text/html": [
       "<pre style=\"white-space:pre;overflow-x:auto;line-height:normal;font-family:Menlo,'DejaVu Sans Mono',consolas,'Courier New',monospace\">/Users/Jorge/Library/Caches/pypoetry/virtualenvs/lorawan-chatbot-rag-llm-Kbm_Xz7B-py3.11/lib/python3.11/site-packag\n",
       "es/rich/live.py:231: UserWarning: install \"ipywidgets\" for Jupyter support\n",
       "  warnings.warn('install \"ipywidgets\" for Jupyter support')\n",
       "</pre>\n"
      ],
      "text/plain": [
       "/Users/Jorge/Library/Caches/pypoetry/virtualenvs/lorawan-chatbot-rag-llm-Kbm_Xz7B-py3.11/lib/python3.11/site-packag\n",
       "es/rich/live.py:231: UserWarning: install \"ipywidgets\" for Jupyter support\n",
       "  warnings.warn('install \"ipywidgets\" for Jupyter support')\n"
      ]
     },
     "metadata": {},
     "output_type": "display_data"
    },
    {
     "data": {
      "text/html": [
       "<pre style=\"white-space:pre;overflow-x:auto;line-height:normal;font-family:Menlo,'DejaVu Sans Mono',consolas,'Courier New',monospace\">/Users/Jorge/Library/Caches/pypoetry/virtualenvs/lorawan-chatbot-rag-llm-Kbm_Xz7B-py3.11/lib/python3.11/site-packag\n",
       "es/rich/live.py:231: UserWarning: install \"ipywidgets\" for Jupyter support\n",
       "  warnings.warn('install \"ipywidgets\" for Jupyter support')\n",
       "</pre>\n"
      ],
      "text/plain": [
       "/Users/Jorge/Library/Caches/pypoetry/virtualenvs/lorawan-chatbot-rag-llm-Kbm_Xz7B-py3.11/lib/python3.11/site-packag\n",
       "es/rich/live.py:231: UserWarning: install \"ipywidgets\" for Jupyter support\n",
       "  warnings.warn('install \"ipywidgets\" for Jupyter support')\n"
      ]
     },
     "metadata": {},
     "output_type": "display_data"
    },
    {
     "data": {
      "text/html": [
       "<pre style=\"white-space:pre;overflow-x:auto;line-height:normal;font-family:Menlo,'DejaVu Sans Mono',consolas,'Courier New',monospace\">/Users/Jorge/Library/Caches/pypoetry/virtualenvs/lorawan-chatbot-rag-llm-Kbm_Xz7B-py3.11/lib/python3.11/site-packag\n",
       "es/rich/live.py:231: UserWarning: install \"ipywidgets\" for Jupyter support\n",
       "  warnings.warn('install \"ipywidgets\" for Jupyter support')\n",
       "</pre>\n"
      ],
      "text/plain": [
       "/Users/Jorge/Library/Caches/pypoetry/virtualenvs/lorawan-chatbot-rag-llm-Kbm_Xz7B-py3.11/lib/python3.11/site-packag\n",
       "es/rich/live.py:231: UserWarning: install \"ipywidgets\" for Jupyter support\n",
       "  warnings.warn('install \"ipywidgets\" for Jupyter support')\n"
      ]
     },
     "metadata": {},
     "output_type": "display_data"
    },
    {
     "data": {
      "text/html": [
       "<pre style=\"white-space:pre;overflow-x:auto;line-height:normal;font-family:Menlo,'DejaVu Sans Mono',consolas,'Courier New',monospace\">/Users/Jorge/Library/Caches/pypoetry/virtualenvs/lorawan-chatbot-rag-llm-Kbm_Xz7B-py3.11/lib/python3.11/site-packag\n",
       "es/rich/live.py:231: UserWarning: install \"ipywidgets\" for Jupyter support\n",
       "  warnings.warn('install \"ipywidgets\" for Jupyter support')\n",
       "</pre>\n"
      ],
      "text/plain": [
       "/Users/Jorge/Library/Caches/pypoetry/virtualenvs/lorawan-chatbot-rag-llm-Kbm_Xz7B-py3.11/lib/python3.11/site-packag\n",
       "es/rich/live.py:231: UserWarning: install \"ipywidgets\" for Jupyter support\n",
       "  warnings.warn('install \"ipywidgets\" for Jupyter support')\n"
      ]
     },
     "metadata": {},
     "output_type": "display_data"
    },
    {
     "data": {
      "text/html": [
       "<pre style=\"white-space:pre;overflow-x:auto;line-height:normal;font-family:Menlo,'DejaVu Sans Mono',consolas,'Courier New',monospace\">/Users/Jorge/Library/Caches/pypoetry/virtualenvs/lorawan-chatbot-rag-llm-Kbm_Xz7B-py3.11/lib/python3.11/site-packag\n",
       "es/rich/live.py:231: UserWarning: install \"ipywidgets\" for Jupyter support\n",
       "  warnings.warn('install \"ipywidgets\" for Jupyter support')\n",
       "</pre>\n"
      ],
      "text/plain": [
       "/Users/Jorge/Library/Caches/pypoetry/virtualenvs/lorawan-chatbot-rag-llm-Kbm_Xz7B-py3.11/lib/python3.11/site-packag\n",
       "es/rich/live.py:231: UserWarning: install \"ipywidgets\" for Jupyter support\n",
       "  warnings.warn('install \"ipywidgets\" for Jupyter support')\n"
      ]
     },
     "metadata": {},
     "output_type": "display_data"
    },
    {
     "data": {
      "text/html": [
       "<pre style=\"white-space:pre;overflow-x:auto;line-height:normal;font-family:Menlo,'DejaVu Sans Mono',consolas,'Courier New',monospace\">/Users/Jorge/Library/Caches/pypoetry/virtualenvs/lorawan-chatbot-rag-llm-Kbm_Xz7B-py3.11/lib/python3.11/site-packag\n",
       "es/rich/live.py:231: UserWarning: install \"ipywidgets\" for Jupyter support\n",
       "  warnings.warn('install \"ipywidgets\" for Jupyter support')\n",
       "</pre>\n"
      ],
      "text/plain": [
       "/Users/Jorge/Library/Caches/pypoetry/virtualenvs/lorawan-chatbot-rag-llm-Kbm_Xz7B-py3.11/lib/python3.11/site-packag\n",
       "es/rich/live.py:231: UserWarning: install \"ipywidgets\" for Jupyter support\n",
       "  warnings.warn('install \"ipywidgets\" for Jupyter support')\n"
      ]
     },
     "metadata": {},
     "output_type": "display_data"
    },
    {
     "data": {
      "text/html": [
       "<pre style=\"white-space:pre;overflow-x:auto;line-height:normal;font-family:Menlo,'DejaVu Sans Mono',consolas,'Courier New',monospace\">/Users/Jorge/Library/Caches/pypoetry/virtualenvs/lorawan-chatbot-rag-llm-Kbm_Xz7B-py3.11/lib/python3.11/site-packag\n",
       "es/rich/live.py:231: UserWarning: install \"ipywidgets\" for Jupyter support\n",
       "  warnings.warn('install \"ipywidgets\" for Jupyter support')\n",
       "</pre>\n"
      ],
      "text/plain": [
       "/Users/Jorge/Library/Caches/pypoetry/virtualenvs/lorawan-chatbot-rag-llm-Kbm_Xz7B-py3.11/lib/python3.11/site-packag\n",
       "es/rich/live.py:231: UserWarning: install \"ipywidgets\" for Jupyter support\n",
       "  warnings.warn('install \"ipywidgets\" for Jupyter support')\n"
      ]
     },
     "metadata": {},
     "output_type": "display_data"
    },
    {
     "data": {
      "text/html": [
       "<pre style=\"white-space:pre;overflow-x:auto;line-height:normal;font-family:Menlo,'DejaVu Sans Mono',consolas,'Courier New',monospace\">/Users/Jorge/Library/Caches/pypoetry/virtualenvs/lorawan-chatbot-rag-llm-Kbm_Xz7B-py3.11/lib/python3.11/site-packag\n",
       "es/rich/live.py:231: UserWarning: install \"ipywidgets\" for Jupyter support\n",
       "  warnings.warn('install \"ipywidgets\" for Jupyter support')\n",
       "</pre>\n"
      ],
      "text/plain": [
       "/Users/Jorge/Library/Caches/pypoetry/virtualenvs/lorawan-chatbot-rag-llm-Kbm_Xz7B-py3.11/lib/python3.11/site-packag\n",
       "es/rich/live.py:231: UserWarning: install \"ipywidgets\" for Jupyter support\n",
       "  warnings.warn('install \"ipywidgets\" for Jupyter support')\n"
      ]
     },
     "metadata": {},
     "output_type": "display_data"
    },
    {
     "data": {
      "text/html": [
       "<pre style=\"white-space:pre;overflow-x:auto;line-height:normal;font-family:Menlo,'DejaVu Sans Mono',consolas,'Courier New',monospace\">/Users/Jorge/Library/Caches/pypoetry/virtualenvs/lorawan-chatbot-rag-llm-Kbm_Xz7B-py3.11/lib/python3.11/site-packag\n",
       "es/rich/live.py:231: UserWarning: install \"ipywidgets\" for Jupyter support\n",
       "  warnings.warn('install \"ipywidgets\" for Jupyter support')\n",
       "</pre>\n"
      ],
      "text/plain": [
       "/Users/Jorge/Library/Caches/pypoetry/virtualenvs/lorawan-chatbot-rag-llm-Kbm_Xz7B-py3.11/lib/python3.11/site-packag\n",
       "es/rich/live.py:231: UserWarning: install \"ipywidgets\" for Jupyter support\n",
       "  warnings.warn('install \"ipywidgets\" for Jupyter support')\n"
      ]
     },
     "metadata": {},
     "output_type": "display_data"
    },
    {
     "data": {
      "text/html": [
       "<pre style=\"white-space:pre;overflow-x:auto;line-height:normal;font-family:Menlo,'DejaVu Sans Mono',consolas,'Courier New',monospace\"></pre>\n"
      ],
      "text/plain": []
     },
     "metadata": {},
     "output_type": "display_data"
    },
    {
     "data": {
      "text/html": [
       "<pre style=\"white-space:pre;overflow-x:auto;line-height:normal;font-family:Menlo,'DejaVu Sans Mono',consolas,'Courier New',monospace\">\n",
       "</pre>\n"
      ],
      "text/plain": [
       "\n"
      ]
     },
     "metadata": {},
     "output_type": "display_data"
    },
    {
     "data": {
      "text/html": [
       "<pre style=\"white-space:pre;overflow-x:auto;line-height:normal;font-family:Menlo,'DejaVu Sans Mono',consolas,'Courier New',monospace\">/Users/Jorge/Library/Caches/pypoetry/virtualenvs/lorawan-chatbot-rag-llm-Kbm_Xz7B-py3.11/lib/python3.11/site-packag\n",
       "es/rich/live.py:231: UserWarning: install \"ipywidgets\" for Jupyter support\n",
       "  warnings.warn('install \"ipywidgets\" for Jupyter support')\n",
       "</pre>\n"
      ],
      "text/plain": [
       "/Users/Jorge/Library/Caches/pypoetry/virtualenvs/lorawan-chatbot-rag-llm-Kbm_Xz7B-py3.11/lib/python3.11/site-packag\n",
       "es/rich/live.py:231: UserWarning: install \"ipywidgets\" for Jupyter support\n",
       "  warnings.warn('install \"ipywidgets\" for Jupyter support')\n"
      ]
     },
     "metadata": {},
     "output_type": "display_data"
    },
    {
     "data": {
      "text/html": [
       "<pre style=\"white-space:pre;overflow-x:auto;line-height:normal;font-family:Menlo,'DejaVu Sans Mono',consolas,'Courier New',monospace\">/Users/Jorge/Library/Caches/pypoetry/virtualenvs/lorawan-chatbot-rag-llm-Kbm_Xz7B-py3.11/lib/python3.11/site-packag\n",
       "es/rich/live.py:231: UserWarning: install \"ipywidgets\" for Jupyter support\n",
       "  warnings.warn('install \"ipywidgets\" for Jupyter support')\n",
       "</pre>\n"
      ],
      "text/plain": [
       "/Users/Jorge/Library/Caches/pypoetry/virtualenvs/lorawan-chatbot-rag-llm-Kbm_Xz7B-py3.11/lib/python3.11/site-packag\n",
       "es/rich/live.py:231: UserWarning: install \"ipywidgets\" for Jupyter support\n",
       "  warnings.warn('install \"ipywidgets\" for Jupyter support')\n"
      ]
     },
     "metadata": {},
     "output_type": "display_data"
    },
    {
     "data": {
      "text/html": [
       "<pre style=\"white-space:pre;overflow-x:auto;line-height:normal;font-family:Menlo,'DejaVu Sans Mono',consolas,'Courier New',monospace\">/Users/Jorge/Library/Caches/pypoetry/virtualenvs/lorawan-chatbot-rag-llm-Kbm_Xz7B-py3.11/lib/python3.11/site-packag\n",
       "es/rich/live.py:231: UserWarning: install \"ipywidgets\" for Jupyter support\n",
       "  warnings.warn('install \"ipywidgets\" for Jupyter support')\n",
       "</pre>\n"
      ],
      "text/plain": [
       "/Users/Jorge/Library/Caches/pypoetry/virtualenvs/lorawan-chatbot-rag-llm-Kbm_Xz7B-py3.11/lib/python3.11/site-packag\n",
       "es/rich/live.py:231: UserWarning: install \"ipywidgets\" for Jupyter support\n",
       "  warnings.warn('install \"ipywidgets\" for Jupyter support')\n"
      ]
     },
     "metadata": {},
     "output_type": "display_data"
    },
    {
     "data": {
      "text/html": [
       "<pre style=\"white-space:pre;overflow-x:auto;line-height:normal;font-family:Menlo,'DejaVu Sans Mono',consolas,'Courier New',monospace\">/Users/Jorge/Library/Caches/pypoetry/virtualenvs/lorawan-chatbot-rag-llm-Kbm_Xz7B-py3.11/lib/python3.11/site-packag\n",
       "es/rich/live.py:231: UserWarning: install \"ipywidgets\" for Jupyter support\n",
       "  warnings.warn('install \"ipywidgets\" for Jupyter support')\n",
       "</pre>\n"
      ],
      "text/plain": [
       "/Users/Jorge/Library/Caches/pypoetry/virtualenvs/lorawan-chatbot-rag-llm-Kbm_Xz7B-py3.11/lib/python3.11/site-packag\n",
       "es/rich/live.py:231: UserWarning: install \"ipywidgets\" for Jupyter support\n",
       "  warnings.warn('install \"ipywidgets\" for Jupyter support')\n"
      ]
     },
     "metadata": {},
     "output_type": "display_data"
    },
    {
     "data": {
      "text/html": [
       "<pre style=\"white-space:pre;overflow-x:auto;line-height:normal;font-family:Menlo,'DejaVu Sans Mono',consolas,'Courier New',monospace\">/Users/Jorge/Library/Caches/pypoetry/virtualenvs/lorawan-chatbot-rag-llm-Kbm_Xz7B-py3.11/lib/python3.11/site-packag\n",
       "es/rich/live.py:231: UserWarning: install \"ipywidgets\" for Jupyter support\n",
       "  warnings.warn('install \"ipywidgets\" for Jupyter support')\n",
       "</pre>\n"
      ],
      "text/plain": [
       "/Users/Jorge/Library/Caches/pypoetry/virtualenvs/lorawan-chatbot-rag-llm-Kbm_Xz7B-py3.11/lib/python3.11/site-packag\n",
       "es/rich/live.py:231: UserWarning: install \"ipywidgets\" for Jupyter support\n",
       "  warnings.warn('install \"ipywidgets\" for Jupyter support')\n"
      ]
     },
     "metadata": {},
     "output_type": "display_data"
    },
    {
     "data": {
      "text/html": [
       "<pre style=\"white-space:pre;overflow-x:auto;line-height:normal;font-family:Menlo,'DejaVu Sans Mono',consolas,'Courier New',monospace\">/Users/Jorge/Library/Caches/pypoetry/virtualenvs/lorawan-chatbot-rag-llm-Kbm_Xz7B-py3.11/lib/python3.11/site-packag\n",
       "es/rich/live.py:231: UserWarning: install \"ipywidgets\" for Jupyter support\n",
       "  warnings.warn('install \"ipywidgets\" for Jupyter support')\n",
       "</pre>\n"
      ],
      "text/plain": [
       "/Users/Jorge/Library/Caches/pypoetry/virtualenvs/lorawan-chatbot-rag-llm-Kbm_Xz7B-py3.11/lib/python3.11/site-packag\n",
       "es/rich/live.py:231: UserWarning: install \"ipywidgets\" for Jupyter support\n",
       "  warnings.warn('install \"ipywidgets\" for Jupyter support')\n"
      ]
     },
     "metadata": {},
     "output_type": "display_data"
    },
    {
     "data": {
      "text/html": [
       "<pre style=\"white-space:pre;overflow-x:auto;line-height:normal;font-family:Menlo,'DejaVu Sans Mono',consolas,'Courier New',monospace\">/Users/Jorge/Library/Caches/pypoetry/virtualenvs/lorawan-chatbot-rag-llm-Kbm_Xz7B-py3.11/lib/python3.11/site-packag\n",
       "es/rich/live.py:231: UserWarning: install \"ipywidgets\" for Jupyter support\n",
       "  warnings.warn('install \"ipywidgets\" for Jupyter support')\n",
       "</pre>\n"
      ],
      "text/plain": [
       "/Users/Jorge/Library/Caches/pypoetry/virtualenvs/lorawan-chatbot-rag-llm-Kbm_Xz7B-py3.11/lib/python3.11/site-packag\n",
       "es/rich/live.py:231: UserWarning: install \"ipywidgets\" for Jupyter support\n",
       "  warnings.warn('install \"ipywidgets\" for Jupyter support')\n"
      ]
     },
     "metadata": {},
     "output_type": "display_data"
    },
    {
     "data": {
      "text/html": [
       "<pre style=\"white-space:pre;overflow-x:auto;line-height:normal;font-family:Menlo,'DejaVu Sans Mono',consolas,'Courier New',monospace\">/Users/Jorge/Library/Caches/pypoetry/virtualenvs/lorawan-chatbot-rag-llm-Kbm_Xz7B-py3.11/lib/python3.11/site-packag\n",
       "es/rich/live.py:231: UserWarning: install \"ipywidgets\" for Jupyter support\n",
       "  warnings.warn('install \"ipywidgets\" for Jupyter support')\n",
       "</pre>\n"
      ],
      "text/plain": [
       "/Users/Jorge/Library/Caches/pypoetry/virtualenvs/lorawan-chatbot-rag-llm-Kbm_Xz7B-py3.11/lib/python3.11/site-packag\n",
       "es/rich/live.py:231: UserWarning: install \"ipywidgets\" for Jupyter support\n",
       "  warnings.warn('install \"ipywidgets\" for Jupyter support')\n"
      ]
     },
     "metadata": {},
     "output_type": "display_data"
    },
    {
     "data": {
      "text/html": [
       "<pre style=\"white-space:pre;overflow-x:auto;line-height:normal;font-family:Menlo,'DejaVu Sans Mono',consolas,'Courier New',monospace\">/Users/Jorge/Library/Caches/pypoetry/virtualenvs/lorawan-chatbot-rag-llm-Kbm_Xz7B-py3.11/lib/python3.11/site-packag\n",
       "es/rich/live.py:231: UserWarning: install \"ipywidgets\" for Jupyter support\n",
       "  warnings.warn('install \"ipywidgets\" for Jupyter support')\n",
       "</pre>\n"
      ],
      "text/plain": [
       "/Users/Jorge/Library/Caches/pypoetry/virtualenvs/lorawan-chatbot-rag-llm-Kbm_Xz7B-py3.11/lib/python3.11/site-packag\n",
       "es/rich/live.py:231: UserWarning: install \"ipywidgets\" for Jupyter support\n",
       "  warnings.warn('install \"ipywidgets\" for Jupyter support')\n"
      ]
     },
     "metadata": {},
     "output_type": "display_data"
    },
    {
     "data": {
      "text/html": [
       "<pre style=\"white-space:pre;overflow-x:auto;line-height:normal;font-family:Menlo,'DejaVu Sans Mono',consolas,'Courier New',monospace\"></pre>\n"
      ],
      "text/plain": []
     },
     "metadata": {},
     "output_type": "display_data"
    },
    {
     "data": {
      "text/html": [
       "<pre style=\"white-space:pre;overflow-x:auto;line-height:normal;font-family:Menlo,'DejaVu Sans Mono',consolas,'Courier New',monospace\">\n",
       "</pre>\n"
      ],
      "text/plain": [
       "\n"
      ]
     },
     "metadata": {},
     "output_type": "display_data"
    },
    {
     "data": {
      "text/html": [
       "<pre style=\"white-space:pre;overflow-x:auto;line-height:normal;font-family:Menlo,'DejaVu Sans Mono',consolas,'Courier New',monospace\">/Users/Jorge/Library/Caches/pypoetry/virtualenvs/lorawan-chatbot-rag-llm-Kbm_Xz7B-py3.11/lib/python3.11/site-packag\n",
       "es/rich/live.py:231: UserWarning: install \"ipywidgets\" for Jupyter support\n",
       "  warnings.warn('install \"ipywidgets\" for Jupyter support')\n",
       "</pre>\n"
      ],
      "text/plain": [
       "/Users/Jorge/Library/Caches/pypoetry/virtualenvs/lorawan-chatbot-rag-llm-Kbm_Xz7B-py3.11/lib/python3.11/site-packag\n",
       "es/rich/live.py:231: UserWarning: install \"ipywidgets\" for Jupyter support\n",
       "  warnings.warn('install \"ipywidgets\" for Jupyter support')\n"
      ]
     },
     "metadata": {},
     "output_type": "display_data"
    },
    {
     "data": {
      "text/html": [
       "<pre style=\"white-space:pre;overflow-x:auto;line-height:normal;font-family:Menlo,'DejaVu Sans Mono',consolas,'Courier New',monospace\">/Users/Jorge/Library/Caches/pypoetry/virtualenvs/lorawan-chatbot-rag-llm-Kbm_Xz7B-py3.11/lib/python3.11/site-packag\n",
       "es/rich/live.py:231: UserWarning: install \"ipywidgets\" for Jupyter support\n",
       "  warnings.warn('install \"ipywidgets\" for Jupyter support')\n",
       "</pre>\n"
      ],
      "text/plain": [
       "/Users/Jorge/Library/Caches/pypoetry/virtualenvs/lorawan-chatbot-rag-llm-Kbm_Xz7B-py3.11/lib/python3.11/site-packag\n",
       "es/rich/live.py:231: UserWarning: install \"ipywidgets\" for Jupyter support\n",
       "  warnings.warn('install \"ipywidgets\" for Jupyter support')\n"
      ]
     },
     "metadata": {},
     "output_type": "display_data"
    },
    {
     "data": {
      "text/html": [
       "<pre style=\"white-space:pre;overflow-x:auto;line-height:normal;font-family:Menlo,'DejaVu Sans Mono',consolas,'Courier New',monospace\">/Users/Jorge/Library/Caches/pypoetry/virtualenvs/lorawan-chatbot-rag-llm-Kbm_Xz7B-py3.11/lib/python3.11/site-packag\n",
       "es/rich/live.py:231: UserWarning: install \"ipywidgets\" for Jupyter support\n",
       "  warnings.warn('install \"ipywidgets\" for Jupyter support')\n",
       "</pre>\n"
      ],
      "text/plain": [
       "/Users/Jorge/Library/Caches/pypoetry/virtualenvs/lorawan-chatbot-rag-llm-Kbm_Xz7B-py3.11/lib/python3.11/site-packag\n",
       "es/rich/live.py:231: UserWarning: install \"ipywidgets\" for Jupyter support\n",
       "  warnings.warn('install \"ipywidgets\" for Jupyter support')\n"
      ]
     },
     "metadata": {},
     "output_type": "display_data"
    },
    {
     "data": {
      "text/html": [
       "<pre style=\"white-space:pre;overflow-x:auto;line-height:normal;font-family:Menlo,'DejaVu Sans Mono',consolas,'Courier New',monospace\">/Users/Jorge/Library/Caches/pypoetry/virtualenvs/lorawan-chatbot-rag-llm-Kbm_Xz7B-py3.11/lib/python3.11/site-packag\n",
       "es/rich/live.py:231: UserWarning: install \"ipywidgets\" for Jupyter support\n",
       "  warnings.warn('install \"ipywidgets\" for Jupyter support')\n",
       "</pre>\n"
      ],
      "text/plain": [
       "/Users/Jorge/Library/Caches/pypoetry/virtualenvs/lorawan-chatbot-rag-llm-Kbm_Xz7B-py3.11/lib/python3.11/site-packag\n",
       "es/rich/live.py:231: UserWarning: install \"ipywidgets\" for Jupyter support\n",
       "  warnings.warn('install \"ipywidgets\" for Jupyter support')\n"
      ]
     },
     "metadata": {},
     "output_type": "display_data"
    },
    {
     "data": {
      "text/html": [
       "<pre style=\"white-space:pre;overflow-x:auto;line-height:normal;font-family:Menlo,'DejaVu Sans Mono',consolas,'Courier New',monospace\">/Users/Jorge/Library/Caches/pypoetry/virtualenvs/lorawan-chatbot-rag-llm-Kbm_Xz7B-py3.11/lib/python3.11/site-packag\n",
       "es/rich/live.py:231: UserWarning: install \"ipywidgets\" for Jupyter support\n",
       "  warnings.warn('install \"ipywidgets\" for Jupyter support')\n",
       "</pre>\n"
      ],
      "text/plain": [
       "/Users/Jorge/Library/Caches/pypoetry/virtualenvs/lorawan-chatbot-rag-llm-Kbm_Xz7B-py3.11/lib/python3.11/site-packag\n",
       "es/rich/live.py:231: UserWarning: install \"ipywidgets\" for Jupyter support\n",
       "  warnings.warn('install \"ipywidgets\" for Jupyter support')\n"
      ]
     },
     "metadata": {},
     "output_type": "display_data"
    },
    {
     "data": {
      "text/html": [
       "<pre style=\"white-space:pre;overflow-x:auto;line-height:normal;font-family:Menlo,'DejaVu Sans Mono',consolas,'Courier New',monospace\">/Users/Jorge/Library/Caches/pypoetry/virtualenvs/lorawan-chatbot-rag-llm-Kbm_Xz7B-py3.11/lib/python3.11/site-packag\n",
       "es/rich/live.py:231: UserWarning: install \"ipywidgets\" for Jupyter support\n",
       "  warnings.warn('install \"ipywidgets\" for Jupyter support')\n",
       "</pre>\n"
      ],
      "text/plain": [
       "/Users/Jorge/Library/Caches/pypoetry/virtualenvs/lorawan-chatbot-rag-llm-Kbm_Xz7B-py3.11/lib/python3.11/site-packag\n",
       "es/rich/live.py:231: UserWarning: install \"ipywidgets\" for Jupyter support\n",
       "  warnings.warn('install \"ipywidgets\" for Jupyter support')\n"
      ]
     },
     "metadata": {},
     "output_type": "display_data"
    },
    {
     "data": {
      "text/html": [
       "<pre style=\"white-space:pre;overflow-x:auto;line-height:normal;font-family:Menlo,'DejaVu Sans Mono',consolas,'Courier New',monospace\">/Users/Jorge/Library/Caches/pypoetry/virtualenvs/lorawan-chatbot-rag-llm-Kbm_Xz7B-py3.11/lib/python3.11/site-packag\n",
       "es/rich/live.py:231: UserWarning: install \"ipywidgets\" for Jupyter support\n",
       "  warnings.warn('install \"ipywidgets\" for Jupyter support')\n",
       "</pre>\n"
      ],
      "text/plain": [
       "/Users/Jorge/Library/Caches/pypoetry/virtualenvs/lorawan-chatbot-rag-llm-Kbm_Xz7B-py3.11/lib/python3.11/site-packag\n",
       "es/rich/live.py:231: UserWarning: install \"ipywidgets\" for Jupyter support\n",
       "  warnings.warn('install \"ipywidgets\" for Jupyter support')\n"
      ]
     },
     "metadata": {},
     "output_type": "display_data"
    },
    {
     "data": {
      "text/html": [
       "<pre style=\"white-space:pre;overflow-x:auto;line-height:normal;font-family:Menlo,'DejaVu Sans Mono',consolas,'Courier New',monospace\">/Users/Jorge/Library/Caches/pypoetry/virtualenvs/lorawan-chatbot-rag-llm-Kbm_Xz7B-py3.11/lib/python3.11/site-packag\n",
       "es/rich/live.py:231: UserWarning: install \"ipywidgets\" for Jupyter support\n",
       "  warnings.warn('install \"ipywidgets\" for Jupyter support')\n",
       "</pre>\n"
      ],
      "text/plain": [
       "/Users/Jorge/Library/Caches/pypoetry/virtualenvs/lorawan-chatbot-rag-llm-Kbm_Xz7B-py3.11/lib/python3.11/site-packag\n",
       "es/rich/live.py:231: UserWarning: install \"ipywidgets\" for Jupyter support\n",
       "  warnings.warn('install \"ipywidgets\" for Jupyter support')\n"
      ]
     },
     "metadata": {},
     "output_type": "display_data"
    },
    {
     "data": {
      "text/html": [
       "<pre style=\"white-space:pre;overflow-x:auto;line-height:normal;font-family:Menlo,'DejaVu Sans Mono',consolas,'Courier New',monospace\">/Users/Jorge/Library/Caches/pypoetry/virtualenvs/lorawan-chatbot-rag-llm-Kbm_Xz7B-py3.11/lib/python3.11/site-packag\n",
       "es/rich/live.py:231: UserWarning: install \"ipywidgets\" for Jupyter support\n",
       "  warnings.warn('install \"ipywidgets\" for Jupyter support')\n",
       "</pre>\n"
      ],
      "text/plain": [
       "/Users/Jorge/Library/Caches/pypoetry/virtualenvs/lorawan-chatbot-rag-llm-Kbm_Xz7B-py3.11/lib/python3.11/site-packag\n",
       "es/rich/live.py:231: UserWarning: install \"ipywidgets\" for Jupyter support\n",
       "  warnings.warn('install \"ipywidgets\" for Jupyter support')\n"
      ]
     },
     "metadata": {},
     "output_type": "display_data"
    },
    {
     "data": {
      "text/html": [
       "<pre style=\"white-space:pre;overflow-x:auto;line-height:normal;font-family:Menlo,'DejaVu Sans Mono',consolas,'Courier New',monospace\">/Users/Jorge/Library/Caches/pypoetry/virtualenvs/lorawan-chatbot-rag-llm-Kbm_Xz7B-py3.11/lib/python3.11/site-packag\n",
       "es/rich/live.py:231: UserWarning: install \"ipywidgets\" for Jupyter support\n",
       "  warnings.warn('install \"ipywidgets\" for Jupyter support')\n",
       "</pre>\n"
      ],
      "text/plain": [
       "/Users/Jorge/Library/Caches/pypoetry/virtualenvs/lorawan-chatbot-rag-llm-Kbm_Xz7B-py3.11/lib/python3.11/site-packag\n",
       "es/rich/live.py:231: UserWarning: install \"ipywidgets\" for Jupyter support\n",
       "  warnings.warn('install \"ipywidgets\" for Jupyter support')\n"
      ]
     },
     "metadata": {},
     "output_type": "display_data"
    },
    {
     "data": {
      "text/html": [
       "<pre style=\"white-space:pre;overflow-x:auto;line-height:normal;font-family:Menlo,'DejaVu Sans Mono',consolas,'Courier New',monospace\"></pre>\n"
      ],
      "text/plain": []
     },
     "metadata": {},
     "output_type": "display_data"
    },
    {
     "data": {
      "text/html": [
       "<pre style=\"white-space:pre;overflow-x:auto;line-height:normal;font-family:Menlo,'DejaVu Sans Mono',consolas,'Courier New',monospace\">\n",
       "</pre>\n"
      ],
      "text/plain": [
       "\n"
      ]
     },
     "metadata": {},
     "output_type": "display_data"
    },
    {
     "data": {
      "text/html": [
       "<pre style=\"white-space:pre;overflow-x:auto;line-height:normal;font-family:Menlo,'DejaVu Sans Mono',consolas,'Courier New',monospace\">/Users/Jorge/Library/Caches/pypoetry/virtualenvs/lorawan-chatbot-rag-llm-Kbm_Xz7B-py3.11/lib/python3.11/site-packag\n",
       "es/rich/live.py:231: UserWarning: install \"ipywidgets\" for Jupyter support\n",
       "  warnings.warn('install \"ipywidgets\" for Jupyter support')\n",
       "</pre>\n"
      ],
      "text/plain": [
       "/Users/Jorge/Library/Caches/pypoetry/virtualenvs/lorawan-chatbot-rag-llm-Kbm_Xz7B-py3.11/lib/python3.11/site-packag\n",
       "es/rich/live.py:231: UserWarning: install \"ipywidgets\" for Jupyter support\n",
       "  warnings.warn('install \"ipywidgets\" for Jupyter support')\n"
      ]
     },
     "metadata": {},
     "output_type": "display_data"
    },
    {
     "data": {
      "text/html": [
       "<pre style=\"white-space:pre;overflow-x:auto;line-height:normal;font-family:Menlo,'DejaVu Sans Mono',consolas,'Courier New',monospace\">/Users/Jorge/Library/Caches/pypoetry/virtualenvs/lorawan-chatbot-rag-llm-Kbm_Xz7B-py3.11/lib/python3.11/site-packag\n",
       "es/rich/live.py:231: UserWarning: install \"ipywidgets\" for Jupyter support\n",
       "  warnings.warn('install \"ipywidgets\" for Jupyter support')\n",
       "</pre>\n"
      ],
      "text/plain": [
       "/Users/Jorge/Library/Caches/pypoetry/virtualenvs/lorawan-chatbot-rag-llm-Kbm_Xz7B-py3.11/lib/python3.11/site-packag\n",
       "es/rich/live.py:231: UserWarning: install \"ipywidgets\" for Jupyter support\n",
       "  warnings.warn('install \"ipywidgets\" for Jupyter support')\n"
      ]
     },
     "metadata": {},
     "output_type": "display_data"
    },
    {
     "data": {
      "text/html": [
       "<pre style=\"white-space:pre;overflow-x:auto;line-height:normal;font-family:Menlo,'DejaVu Sans Mono',consolas,'Courier New',monospace\">/Users/Jorge/Library/Caches/pypoetry/virtualenvs/lorawan-chatbot-rag-llm-Kbm_Xz7B-py3.11/lib/python3.11/site-packag\n",
       "es/rich/live.py:231: UserWarning: install \"ipywidgets\" for Jupyter support\n",
       "  warnings.warn('install \"ipywidgets\" for Jupyter support')\n",
       "</pre>\n"
      ],
      "text/plain": [
       "/Users/Jorge/Library/Caches/pypoetry/virtualenvs/lorawan-chatbot-rag-llm-Kbm_Xz7B-py3.11/lib/python3.11/site-packag\n",
       "es/rich/live.py:231: UserWarning: install \"ipywidgets\" for Jupyter support\n",
       "  warnings.warn('install \"ipywidgets\" for Jupyter support')\n"
      ]
     },
     "metadata": {},
     "output_type": "display_data"
    },
    {
     "data": {
      "text/html": [
       "<pre style=\"white-space:pre;overflow-x:auto;line-height:normal;font-family:Menlo,'DejaVu Sans Mono',consolas,'Courier New',monospace\">/Users/Jorge/Library/Caches/pypoetry/virtualenvs/lorawan-chatbot-rag-llm-Kbm_Xz7B-py3.11/lib/python3.11/site-packag\n",
       "es/rich/live.py:231: UserWarning: install \"ipywidgets\" for Jupyter support\n",
       "  warnings.warn('install \"ipywidgets\" for Jupyter support')\n",
       "</pre>\n"
      ],
      "text/plain": [
       "/Users/Jorge/Library/Caches/pypoetry/virtualenvs/lorawan-chatbot-rag-llm-Kbm_Xz7B-py3.11/lib/python3.11/site-packag\n",
       "es/rich/live.py:231: UserWarning: install \"ipywidgets\" for Jupyter support\n",
       "  warnings.warn('install \"ipywidgets\" for Jupyter support')\n"
      ]
     },
     "metadata": {},
     "output_type": "display_data"
    },
    {
     "data": {
      "text/html": [
       "<pre style=\"white-space:pre;overflow-x:auto;line-height:normal;font-family:Menlo,'DejaVu Sans Mono',consolas,'Courier New',monospace\">/Users/Jorge/Library/Caches/pypoetry/virtualenvs/lorawan-chatbot-rag-llm-Kbm_Xz7B-py3.11/lib/python3.11/site-packag\n",
       "es/rich/live.py:231: UserWarning: install \"ipywidgets\" for Jupyter support\n",
       "  warnings.warn('install \"ipywidgets\" for Jupyter support')\n",
       "</pre>\n"
      ],
      "text/plain": [
       "/Users/Jorge/Library/Caches/pypoetry/virtualenvs/lorawan-chatbot-rag-llm-Kbm_Xz7B-py3.11/lib/python3.11/site-packag\n",
       "es/rich/live.py:231: UserWarning: install \"ipywidgets\" for Jupyter support\n",
       "  warnings.warn('install \"ipywidgets\" for Jupyter support')\n"
      ]
     },
     "metadata": {},
     "output_type": "display_data"
    },
    {
     "data": {
      "text/html": [
       "<pre style=\"white-space:pre;overflow-x:auto;line-height:normal;font-family:Menlo,'DejaVu Sans Mono',consolas,'Courier New',monospace\">/Users/Jorge/Library/Caches/pypoetry/virtualenvs/lorawan-chatbot-rag-llm-Kbm_Xz7B-py3.11/lib/python3.11/site-packag\n",
       "es/rich/live.py:231: UserWarning: install \"ipywidgets\" for Jupyter support\n",
       "  warnings.warn('install \"ipywidgets\" for Jupyter support')\n",
       "</pre>\n"
      ],
      "text/plain": [
       "/Users/Jorge/Library/Caches/pypoetry/virtualenvs/lorawan-chatbot-rag-llm-Kbm_Xz7B-py3.11/lib/python3.11/site-packag\n",
       "es/rich/live.py:231: UserWarning: install \"ipywidgets\" for Jupyter support\n",
       "  warnings.warn('install \"ipywidgets\" for Jupyter support')\n"
      ]
     },
     "metadata": {},
     "output_type": "display_data"
    },
    {
     "data": {
      "text/html": [
       "<pre style=\"white-space:pre;overflow-x:auto;line-height:normal;font-family:Menlo,'DejaVu Sans Mono',consolas,'Courier New',monospace\">/Users/Jorge/Library/Caches/pypoetry/virtualenvs/lorawan-chatbot-rag-llm-Kbm_Xz7B-py3.11/lib/python3.11/site-packag\n",
       "es/rich/live.py:231: UserWarning: install \"ipywidgets\" for Jupyter support\n",
       "  warnings.warn('install \"ipywidgets\" for Jupyter support')\n",
       "</pre>\n"
      ],
      "text/plain": [
       "/Users/Jorge/Library/Caches/pypoetry/virtualenvs/lorawan-chatbot-rag-llm-Kbm_Xz7B-py3.11/lib/python3.11/site-packag\n",
       "es/rich/live.py:231: UserWarning: install \"ipywidgets\" for Jupyter support\n",
       "  warnings.warn('install \"ipywidgets\" for Jupyter support')\n"
      ]
     },
     "metadata": {},
     "output_type": "display_data"
    },
    {
     "data": {
      "text/html": [
       "<pre style=\"white-space:pre;overflow-x:auto;line-height:normal;font-family:Menlo,'DejaVu Sans Mono',consolas,'Courier New',monospace\">/Users/Jorge/Library/Caches/pypoetry/virtualenvs/lorawan-chatbot-rag-llm-Kbm_Xz7B-py3.11/lib/python3.11/site-packag\n",
       "es/rich/live.py:231: UserWarning: install \"ipywidgets\" for Jupyter support\n",
       "  warnings.warn('install \"ipywidgets\" for Jupyter support')\n",
       "</pre>\n"
      ],
      "text/plain": [
       "/Users/Jorge/Library/Caches/pypoetry/virtualenvs/lorawan-chatbot-rag-llm-Kbm_Xz7B-py3.11/lib/python3.11/site-packag\n",
       "es/rich/live.py:231: UserWarning: install \"ipywidgets\" for Jupyter support\n",
       "  warnings.warn('install \"ipywidgets\" for Jupyter support')\n"
      ]
     },
     "metadata": {},
     "output_type": "display_data"
    },
    {
     "data": {
      "text/html": [
       "<pre style=\"white-space:pre;overflow-x:auto;line-height:normal;font-family:Menlo,'DejaVu Sans Mono',consolas,'Courier New',monospace\">/Users/Jorge/Library/Caches/pypoetry/virtualenvs/lorawan-chatbot-rag-llm-Kbm_Xz7B-py3.11/lib/python3.11/site-packag\n",
       "es/rich/live.py:231: UserWarning: install \"ipywidgets\" for Jupyter support\n",
       "  warnings.warn('install \"ipywidgets\" for Jupyter support')\n",
       "</pre>\n"
      ],
      "text/plain": [
       "/Users/Jorge/Library/Caches/pypoetry/virtualenvs/lorawan-chatbot-rag-llm-Kbm_Xz7B-py3.11/lib/python3.11/site-packag\n",
       "es/rich/live.py:231: UserWarning: install \"ipywidgets\" for Jupyter support\n",
       "  warnings.warn('install \"ipywidgets\" for Jupyter support')\n"
      ]
     },
     "metadata": {},
     "output_type": "display_data"
    },
    {
     "data": {
      "text/html": [
       "<pre style=\"white-space:pre;overflow-x:auto;line-height:normal;font-family:Menlo,'DejaVu Sans Mono',consolas,'Courier New',monospace\">/Users/Jorge/Library/Caches/pypoetry/virtualenvs/lorawan-chatbot-rag-llm-Kbm_Xz7B-py3.11/lib/python3.11/site-packag\n",
       "es/rich/live.py:231: UserWarning: install \"ipywidgets\" for Jupyter support\n",
       "  warnings.warn('install \"ipywidgets\" for Jupyter support')\n",
       "</pre>\n"
      ],
      "text/plain": [
       "/Users/Jorge/Library/Caches/pypoetry/virtualenvs/lorawan-chatbot-rag-llm-Kbm_Xz7B-py3.11/lib/python3.11/site-packag\n",
       "es/rich/live.py:231: UserWarning: install \"ipywidgets\" for Jupyter support\n",
       "  warnings.warn('install \"ipywidgets\" for Jupyter support')\n"
      ]
     },
     "metadata": {},
     "output_type": "display_data"
    },
    {
     "data": {
      "text/html": [
       "<pre style=\"white-space:pre;overflow-x:auto;line-height:normal;font-family:Menlo,'DejaVu Sans Mono',consolas,'Courier New',monospace\"></pre>\n"
      ],
      "text/plain": []
     },
     "metadata": {},
     "output_type": "display_data"
    },
    {
     "data": {
      "text/html": [
       "<pre style=\"white-space:pre;overflow-x:auto;line-height:normal;font-family:Menlo,'DejaVu Sans Mono',consolas,'Courier New',monospace\">\n",
       "</pre>\n"
      ],
      "text/plain": [
       "\n"
      ]
     },
     "metadata": {},
     "output_type": "display_data"
    },
    {
     "name": "stdout",
     "output_type": "stream",
     "text": [
      "\n",
      "======================================================================\n",
      "\n",
      "Metrics Summary\n",
      "\n",
      "  - ❌ Answer Relevancy (score: 0.6666666666666666, threshold: 0.7, strict: False, evaluation model: gpt-4o-mini, reason: The score is 0.67 because while some relevant information may have been provided, several statements were irrelevant to the specific question about LoRaWAN's handling of message fragmentation and reassembly. These irrelevant statements suggested seeking outside resources instead of giving direct answers, which detracted from the overall relevance., error: None)\n",
      "  - ✅ Faithfulness (score: 1.0, threshold: 0.7, strict: False, evaluation model: gpt-4o-mini, reason: The score is 1.00 because there are no contradictions present, indicating perfect alignment between the actual output and the retrieval context., error: None)\n",
      "\n",
      "For test case:\n",
      "\n",
      "  - input: How does LoRaWAN handle message fragmentation and reassembly?\n",
      "  - actual output: The provided context doesn't contain information about how LoRaWAN handles message fragmentation and reassembly. \n",
      "\n",
      "To answer your question, you'll need to consult additional resources about LoRaWAN, such as:\n",
      "\n",
      "* **The LoRaWAN specification:** This document will provide detailed information about the protocol's capabilities and limitations.\n",
      "* **Technical articles and blog posts:** Many resources online discuss LoRaWAN's features, including message handling.\n",
      "* **LoRaWAN device documentation:** The documentation for specific LoRaWAN devices may provide information about their message fragmentation and reassembly capabilities.\n",
      "\n",
      "Once you have access to these resources, you can find the answer to your question. \n",
      "\n",
      "  - expected output: LoRaWAN handles message fragmentation and reassembly through the protocol stack, allowing larger messages to be split into smaller packets for transmission and reassembled at the destination.\n",
      "  - context: None\n",
      "  - retrieval context: ['LoRaWAN®', 'Limitations\\n\\nLoRaWAN is not suitable for every use-case, so it is important that you understand the limitations. Here’s a quick overview:']\n",
      "\n",
      "======================================================================\n",
      "\n",
      "Metrics Summary\n",
      "\n",
      "  - ✅ Answer Relevancy (score: 0.7142857142857143, threshold: 0.7, strict: False, evaluation model: gpt-4o-mini, reason: The score is 0.71 because while the response acknowledges the question about LoRaWAN regional parameters, it includes irrelevant statements that do not contribute to the significance of those parameters. The presence of these irrelevant statements prevents a higher score, but the response still manages to recognize the topic at hand., error: None)\n",
      "  - ✅ Faithfulness (score: 1.0, threshold: 0.7, strict: False, evaluation model: gpt-4o-mini, reason: The score is 1.00 because there are no contradictions, indicating that the actual output perfectly aligns with the information presented in the retrieval context., error: None)\n",
      "\n",
      "For test case:\n",
      "\n",
      "  - input: What is the significance of the LoRaWAN regional parameters?\n",
      "  - actual output: The provided context doesn't contain information about LoRaWAN regional parameters. Therefore, I cannot answer your question. \n",
      "\n",
      "To answer your question, I would need more context about LoRaWAN regional parameters. For example, you could provide:\n",
      "\n",
      "* **A definition of LoRaWAN regional parameters:** What are they, and what do they affect?\n",
      "* **A list of LoRaWAN regional parameters:** What are the specific parameters that vary by region?\n",
      "* **An explanation of the significance of these parameters:** Why are they important, and how do they impact LoRaWAN deployments?\n",
      "\n",
      "With more information, I can help you understand the significance of LoRaWAN regional parameters. \n",
      "\n",
      "  - expected output: LoRaWAN regional parameters define the frequency bands, channel plans, and other region-specific settings to ensure regulatory compliance and optimal performance.\n",
      "  - context: None\n",
      "  - retrieval context: ['LoRaWAN®', 'Limitations\\n\\nLoRaWAN is not suitable for every use-case, so it is important that you understand the limitations. Here’s a quick overview:']\n",
      "\n",
      "======================================================================\n",
      "\n",
      "Metrics Summary\n",
      "\n",
      "  - ❌ Answer Relevancy (score: 0.5714285714285714, threshold: 0.7, strict: False, evaluation model: gpt-4o-mini, reason: The score is 0.57 because there were several irrelevant statements that did not directly address how LoRaWAN manages different data rates, impacting the overall relevance of the response., error: None)\n",
      "  - ❌ Faithfulness (score: 0.6, threshold: 0.7, strict: False, evaluation model: gpt-4o-mini, reason: The score is 0.60 because the actual output fails to acknowledge that LoRaWAN is not suitable for every use-case and does not clarify that it supports varying data rates based on signal strength and network conditions., error: None)\n",
      "\n",
      "For test case:\n",
      "\n",
      "  - input: How does LoRaWAN handle different data rates?\n",
      "  - actual output: The provided context doesn't explicitly state how LoRaWAN handles different data rates. It only mentions that LoRaWAN is not suitable for real-time data and that you can only send small packets every couple of minutes. \n",
      "\n",
      "To understand how LoRaWAN handles data rates, you would need to look for additional information about the technology. Here are some key aspects to consider:\n",
      "\n",
      "* **Data Rate Flexibility:** LoRaWAN supports different data rates, allowing for flexibility based on the application's needs.\n",
      "* **Adaptive Data Rate:** LoRaWAN devices can adjust their data rate based on factors like signal strength and network congestion.\n",
      "* **Spread Spectrum Modulation:** LoRaWAN uses spread spectrum modulation, which allows for low data rates but provides robust communication in challenging environments.\n",
      "\n",
      "To get a more comprehensive understanding of LoRaWAN's data rate handling, you should consult the LoRaWAN specification or other technical resources. \n",
      "\n",
      "  - expected output: LoRaWAN handles different data rates by using adaptive data rate (ADR), allowing devices to dynamically adjust their data rate based on network conditions.\n",
      "  - context: None\n",
      "  - retrieval context: ['Limitations\\n\\nLoRaWAN is not suitable for every use-case, so it is important that you understand the limitations. Here’s a quick overview:', 'Not Suitable for LoRaWAN:\\n\\n* **Realtime data** - you can only send small packets every couple of minutes\\n* **Phone calls** - you can do that with GPRS/3G/LTE\\n* **Controlling lights in your house** - check out ZigBee or BlueTooth\\n* **Sending photos, watching Netflix** - check out WiFi']\n",
      "\n",
      "======================================================================\n",
      "\n",
      "Metrics Summary\n",
      "\n",
      "  - ❌ Answer Relevancy (score: 0.25, threshold: 0.7, strict: False, evaluation model: gpt-4o-mini, reason: The score is 0.25 because many statements in the output did not directly address how LoRaWAN enables long-range communication, focusing instead on its limitations and unsuitability for certain use-cases., error: None)\n",
      "  - ✅ Faithfulness (score: 1.0, threshold: 0.7, strict: False, evaluation model: gpt-4o-mini, reason: The score is 1.00 because there are no contradictions, indicating complete alignment between the actual output and the retrieval context. Great job!, error: None)\n",
      "\n",
      "For test case:\n",
      "\n",
      "  - input: How does LoRaWAN enable long-range communication?\n",
      "  - actual output: The provided context doesn't contain information about how LoRaWAN enables long-range communication. It only mentions that LoRaWAN has limitations and is not suitable for every use-case. \n",
      "\n",
      "To answer your question, you would need to provide additional context or information about LoRaWAN's technology and features. \n",
      "\n",
      "  - expected output: LoRaWAN enables long-range communication using a robust modulation technique (LoRa) that is resistant to interference and supports extended transmission distances.\n",
      "  - context: None\n",
      "  - retrieval context: ['LoRaWAN®', 'Limitations\\n\\nLoRaWAN is not suitable for every use-case, so it is important that you understand the limitations. Here’s a quick overview:']\n",
      "\n",
      "======================================================================\n",
      "\n",
      "Metrics Summary\n",
      "\n",
      "  - ✅ Answer Relevancy (score: 1.0, threshold: 0.7, strict: False, evaluation model: gpt-4o-mini, reason: The score is 1.00 because the output directly addresses the function of the network server in a LoRaWAN network without any irrelevant statements., error: None)\n",
      "  - ✅ Faithfulness (score: 1.0, threshold: 0.7, strict: False, evaluation model: gpt-4o-mini, reason: The score is 1.00 because there are no contradictions, indicating that the actual output perfectly aligns with the retrieval context., error: None)\n",
      "\n",
      "For test case:\n",
      "\n",
      "  - input: What is the function of the network server in a LoRaWAN network?\n",
      "  - actual output: The Network Server in a LoRaWAN network acts as the central hub for managing and controlling the entire network. Its key functions include:\n",
      "\n",
      "* **Managing gateways, end-devices, applications, and users:** It oversees the communication and interaction between all components of the network.\n",
      "* **Establishing secure connections:** It ensures secure communication between end-devices and the Application Server using 128-bit AES encryption.\n",
      "* **Authenticating and validating:** It verifies the authenticity of end devices and the integrity of messages to prevent unauthorized access and data manipulation.\n",
      "* **Deduplicating uplink messages:** It prevents duplicate messages from being sent to the Application Server, ensuring efficient data transmission.\n",
      "* **Routing messages:** It selects the optimal gateway for routing downlink messages to end devices and forwards uplink messages to the appropriate Application Server.\n",
      "* **Optimizing data rates:** It uses Adaptive Data Rate (ADR) commands to adjust the data rate of devices for optimal performance and battery life.\n",
      "* **Providing acknowledgements:** It sends acknowledgements for confirmed uplink data messages, ensuring reliable communication.\n",
      "* **Handling Join-requests and Join-accepts:** It facilitates the process of new devices joining the network.\n",
      "* **Responding to MAC layer commands:** It manages all communication at the MAC layer, ensuring proper network operation. \n",
      "\n",
      "  - expected output: The network server manages device registrations, routes data between devices and application servers, and ensures security and compliance with the LoRaWAN protocol.\n",
      "  - context: None\n",
      "  - retrieval context: ['Definition:\\n\\nThe Network Server manages the LoRaWAN network. It receives uplink messages from gateways as IP traffic, and routes downlink messages for end devices. The Network Server is also responsible for end device activation, message deduplication, message acknowledgement, geolocation of end devices, and adaptive data rate control of the network.', 'Network Server\\n\\nThe Network Server manages gateways, end-devices, applications, and users in the entire LoRaWAN network.\\nA typical LoRaWAN Network Server has the following features.\\n* Establishing secure 128-bit AES connections for the transport of messages between end-devices and the Application Server (end-to-end security).\\n* Validating the authenticity of end devices and integrity of messages.\\n* Deduplicating uplink messages.\\n* Selecting the best gateway for routing downlink messages.\\n* Sending ADR commands to optimize the data rate of devices.\\n* Device address checking.\\n* Providing acknowledgements of confirmed uplink data messages.\\n* Forwarding uplink application payloads to the appropriate application servers\\n* Routing uplink application payloads to the appropriate Application Server.\\n* Forwarding Join-request and Join-accept messages between the devices and the join server\\n* Responding to all MAC layer commands.']\n",
      "\n",
      "======================================================================\n",
      "\n",
      "Metrics Summary\n",
      "\n",
      "  - ❌ Answer Relevancy (score: 0.2, threshold: 0.7, strict: False, evaluation model: gpt-4o-mini, reason: The score is 0.20 because there are multiple irrelevant statements that do not address the question about how LoRaWAN optimizes network performance. These statements focus on limitations and unrelated content, which detracts from the relevance of the response., error: None)\n",
      "  - ✅ Faithfulness (score: 1.0, threshold: 0.7, strict: False, evaluation model: gpt-4o-mini, reason: The score is 1.00 because there are no contradictions, indicating complete alignment between the actual output and the retrieval context., error: None)\n",
      "\n",
      "For test case:\n",
      "\n",
      "  - input: How does LoRaWAN optimize network performance?\n",
      "  - actual output: The provided context doesn't contain information about how LoRaWAN optimizes network performance. It only mentions that LoRaWAN has limitations and provides a link to a file that likely discusses those limitations. \n",
      "\n",
      "To answer your question, you would need to access the file \"11-limitations.md\" and look for information about LoRaWAN's performance optimization strategies. \n",
      "\n",
      "  - expected output: LoRaWAN optimizes network performance using techniques like adaptive data rate (ADR), channel hopping, and duty cycle management to ensure efficient communication.\n",
      "  - context: None\n",
      "  - retrieval context: ['LoRaWAN®', 'Limitations\\n\\nLoRaWAN is not suitable for every use-case, so it is important that you understand the limitations. Here’s a quick overview:']\n",
      "\n",
      "======================================================================\n",
      "\n",
      "Metrics Summary\n",
      "\n",
      "  - ❌ Answer Relevancy (score: 0.0, threshold: 0.7, strict: False, evaluation model: gpt-4o-mini, reason: The score is 0.00 because the response provides irrelevant information and fails to address the specific question about LoRaWAN's device authentication management., error: None)\n",
      "  - ✅ Faithfulness (score: 1.0, threshold: 0.7, strict: False, evaluation model: gpt-4o-mini, reason: The score is 1.00 because there are no contradictions, indicating that the actual output aligns perfectly with the retrieval context., error: None)\n",
      "\n",
      "For test case:\n",
      "\n",
      "  - input: How does LoRaWAN manage device authentication?\n",
      "  - actual output: The provided context doesn't contain information about how LoRaWAN manages device authentication.  You'll need to look for a different document or resource that specifically addresses LoRaWAN authentication. \n",
      "\n",
      "  - expected output: LoRaWAN manages device authentication using unique identifiers (DevEUI, AppEUI) and keys (AppKey, NwkKey) to authenticate devices during the join process.\n",
      "  - context: None\n",
      "  - retrieval context: ['LoRaWAN®', 'Limitations\\n\\nLoRaWAN is not suitable for every use-case, so it is important that you understand the limitations. Here’s a quick overview:']\n",
      "\n",
      "======================================================================\n",
      "\n",
      "Metrics Summary\n",
      "\n",
      "  - ✅ Answer Relevancy (score: 1.0, threshold: 0.7, strict: False, evaluation model: gpt-4o-mini, reason: The score is 1.00 because the response directly addresses the purpose of the AppEUI in LoRaWAN without any irrelevant statements., error: None)\n",
      "  - ✅ Faithfulness (score: 1.0, threshold: 0.7, strict: False, evaluation model: gpt-4o-mini, reason: The score is 1.00 because there are no contradictions, indicating a perfect alignment between the actual output and the retrieval context., error: None)\n",
      "\n",
      "For test case:\n",
      "\n",
      "  - input: What is the purpose of the AppEUI in LoRaWAN?\n",
      "  - actual output: The AppEUI is a 64-bit unique identifier for applications in LoRaWAN. It serves to distinguish different applications within the network. \n",
      "\n",
      "  - expected output: The AppEUI is a unique identifier for the application provider, used during the join procedure to identify the application server associated with the device.\n",
      "  - context: None\n",
      "  - retrieval context: ['Addressing\\n\\nLoRaWAN knows a number of identifiers for devices, applications and gateways.\\n* `DevEUI` - 64 bit end-device identifier, EUI-64 (unique)\\n* `DevAddr` - 32 bit device address (non-unique)\\n* `AppEUI` - 64 bit application identifier, EUI-64 (unique)\\n* `GatewayEUI` - 64 bit gateway identifier, EUI-64 (unique)', 'Applications\\n\\nApplications in LoRaWAN and The Things Network have a 64 bit unique identifier ( AppEUI ). When you create an application, The Things Network’s account server allocates an AppEUI from the address block of The Things Network Foundation. This means that every application has at least an AppEUI that starts with 70B3D57ED . If you have your own AppEUI s, you can also add those to your application.']\n",
      "\n",
      "======================================================================\n",
      "\n",
      "Metrics Summary\n",
      "\n",
      "  - ❌ Answer Relevancy (score: 0.3333333333333333, threshold: 0.7, strict: False, evaluation model: gpt-4o-mini, reason: The score is 0.33 because the output contains irrelevant statements that do not address the benefits of LoRaWAN for asset tracking, which is the main focus of the input. This includes comments on the absence of benefits and a discussion solely of limitations, detracting from the relevance of the response., error: None)\n",
      "  - ✅ Faithfulness (score: 1.0, threshold: 0.7, strict: False, evaluation model: gpt-4o-mini, reason: The score is 1.00 because there are no contradictions, indicating perfect alignment between the actual output and the retrieval context., error: None)\n",
      "\n",
      "For test case:\n",
      "\n",
      "  - input: What are the benefits of using LoRaWAN for asset tracking?\n",
      "  - actual output: The provided context doesn't mention any benefits of using LoRaWAN for asset tracking. It only discusses the limitations of LoRaWAN. \n",
      "\n",
      "To answer your question, you'll need to provide more context about the benefits of LoRaWAN for asset tracking. \n",
      "\n",
      "  - expected output: Benefits of using LoRaWAN for asset tracking include long-range communication, low power consumption, and the ability to cover large areas with minimal infrastructure.\n",
      "  - context: None\n",
      "  - retrieval context: ['LoRaWAN®', 'Limitations\\n\\nLoRaWAN is not suitable for every use-case, so it is important that you understand the limitations. Here’s a quick overview:']\n",
      "\n",
      "======================================================================\n",
      "\n",
      "Metrics Summary\n",
      "\n",
      "  - ✅ Answer Relevancy (score: 0.75, threshold: 0.7, strict: False, evaluation model: gpt-4o-mini, reason: The score is 0.75 because while the response contains valuable information about LoRaWAN, it includes an irrelevant statement that detracts from the overall relevance of the answer regarding firmware updates., error: None)\n",
      "  - ✅ Faithfulness (score: 1.0, threshold: 0.7, strict: False, evaluation model: gpt-4o-mini, reason: The score is 1.00 because there are no contradictions present, indicating that the actual output is fully aligned with the retrieval context., error: None)\n",
      "\n",
      "For test case:\n",
      "\n",
      "  - input: How does LoRaWAN support device firmware updates?\n",
      "  - actual output: The provided context doesn't explicitly state how LoRaWAN supports device firmware updates. However, it does mention that during firmware upgrades over-the-air (FUOTA), a device must be switched to Class B or Class C. \n",
      "\n",
      "This implies that LoRaWAN likely uses Class B or Class C functionality to facilitate FUOTA.  \n",
      "\n",
      "To get a definitive answer, you would need to consult additional documentation or resources that specifically address LoRaWAN's FUOTA capabilities. \n",
      "\n",
      "  - expected output: LoRaWAN supports device firmware updates through over-the-air updates (OTA), allowing devices to receive and apply updates via downlink messages.\n",
      "  - context: None\n",
      "  - retrieval context: ['Device Classes\\n\\nThe LoRaWAN specification defines three device types: Class A , Class B , and Class C . All LoRaWAN devices must implement Class A, whereas Class B and Class C are extensions to the specification of Class A devices. All device classes support bi-directional communication (uplink and downlink). During firmware upgrades over-the-air (FUOTA), a device must be switched to Class B or Class C.', 'LoRaWAN®']\n",
      "\n",
      "======================================================================\n",
      "\n",
      "Metrics Summary\n",
      "\n",
      "  - ❌ Answer Relevancy (score: 0.6666666666666666, threshold: 0.7, strict: False, evaluation model: gpt-4o-mini, reason: The score is 0.67 because while some relevant information about LoRaWAN device join requests is provided, there are several irrelevant statements that do not directly address the question. These irrelevant statements detract from the overall relevance, preventing a higher score., error: None)\n",
      "  - ✅ Faithfulness (score: 1.0, threshold: 0.7, strict: False, evaluation model: gpt-4o-mini, reason: The score is 1.00 because there are no contradictions, indicating perfect alignment between the actual output and the retrieval context., error: None)\n",
      "\n",
      "For test case:\n",
      "\n",
      "  - input: How does LoRaWAN manage device join requests?\n",
      "  - actual output: Based on the provided context, here's how LoRaWAN manages device join requests:\n",
      "\n",
      "* **Join-request message:** An end device initiates this message and sends it to the Network Server.\n",
      "* **Forwarding:**\n",
      "    * **LoRaWAN versions earlier than 1.0.4:** The Network Server forwards the Join-request message to the Application Server.\n",
      "    * **LoRaWAN 1.1 and 1.0.4+:** The Network Server forwards the Join-request message to the device's Join Server.\n",
      "* **Encryption:** The Join-request message is not encrypted.\n",
      "\n",
      "**In summary:** LoRaWAN handles device join requests by having the end device send a Join-request message to the Network Server, which then forwards it to either the Application Server (in older versions) or the Join Server (in newer versions). This process is not encrypted. \n",
      "\n",
      "  - expected output: LoRaWAN manages device join requests through the join procedure, using Over-the-Air Activation (OTAA) or Activation by Personalization (ABP) to securely connect devices.\n",
      "  - context: None\n",
      "  - retrieval context: ['Join-request\\n\\nThe Join-request message is always initiated by an end device and sent to the Network Server. In LoRaWAN versions earlier than 1.0.4 the Join-request message is forwarded by the Network Server to the Application Server. In LoRaWAN 1.1 and 1.0.4+, the Network Server forwards the Join-request message to the device’s Join Server. The Join-request message is not encrypted.', 'LoRaWAN®']\n",
      "\n",
      "======================================================================\n",
      "\n",
      "Metrics Summary\n",
      "\n",
      "  - ❌ Answer Relevancy (score: 0.6666666666666666, threshold: 0.7, strict: False, evaluation model: gpt-4o-mini, reason: The score is 0.67 because the output includes irrelevant statements that do not address the specifics of LoRaWAN's data encryption, which is the main focus of the input., error: None)\n",
      "  - ✅ Faithfulness (score: 1.0, threshold: 0.7, strict: False, evaluation model: gpt-4o-mini, reason: The score is 1.00 because there are no contradictions, indicating complete alignment between the actual output and the retrieval context., error: None)\n",
      "\n",
      "For test case:\n",
      "\n",
      "  - input: How does LoRaWAN handle data encryption?\n",
      "  - actual output: The provided context doesn't contain information about how LoRaWAN handles data encryption.  To answer your question, I need more information about LoRaWAN's encryption mechanisms. \n",
      "\n",
      "Please provide additional context or specify the source you're referring to. \n",
      "\n",
      "  - expected output: LoRaWAN handles data encryption using session keys (AppSKey, NwkSKey) to encrypt and decrypt messages, ensuring data confidentiality and security.\n",
      "  - context: None\n",
      "  - retrieval context: ['LoRaWAN®', 'LoRa']\n",
      "\n",
      "======================================================================\n",
      "\n",
      "Metrics Summary\n",
      "\n",
      "  - ❌ Answer Relevancy (score: 0.25, threshold: 0.7, strict: False, evaluation model: gpt-4o-mini, reason: The score is 0.25 because the output contains several irrelevant statements that do not address the significance of the NwkKey, such as mentions of other keys and their functionalities, which distract from the main question., error: None)\n",
      "  - ❌ Faithfulness (score: 0.6666666666666666, threshold: 0.7, strict: False, evaluation model: gpt-4o-mini, reason: The score is 0.67 because the actual output incorrectly refers to 'NwkKey' instead of 'NwkSKey', misrepresents the mapping process by implying NwkSKey is involved, and overlooks that the context does not assert NwkSKey is essential for device identification., error: None)\n",
      "\n",
      "For test case:\n",
      "\n",
      "  - input: What is the significance of the network key (NwkKey) in LoRaWAN?\n",
      "  - actual output: The provided context doesn't mention a \"NwkKey\". It only discusses \"NwkSKey\" (Network Session Key) and \"AppSKey\" (Application Session Key). \n",
      "\n",
      "The **NwkSKey** is crucial for:\n",
      "\n",
      "* **Message Integrity:** It's used to calculate a Message Integrity Code (MIC) for each message sent between the node and the network server. This MIC acts as a checksum, ensuring the message hasn't been tampered with.\n",
      "* **Device Identification:** The network server uses the NwkSKey to verify the integrity of messages and map a non-unique device address (DevAddr) to a unique DevEUI and AppEUI, effectively identifying the device.\n",
      "\n",
      "Therefore, the NwkSKey is essential for secure communication and device identification within the LoRaWAN network. \n",
      "\n",
      "  - expected output: The network key (NwkKey) is used for authenticating devices during the join procedure and securing network layer communications.\n",
      "  - context: None\n",
      "  - retrieval context: ['Session Keys\\n\\nWhen a device joins the network (this is called a join or activation), an application session key AppSKey and a network session key NwkSKey are generated. The NwkSKey is shared with the network, while the AppSKey is kept private. These session keys will be used for the duration of the session.\\nThe Network Session Key ( NwkSKey ) is used for interaction between the Node and the Network Server. This key is used to validate the integrity of each message by its Message Integrity Code (MIC check). This MIC is similar to a checksum, except that it prevents intentional tampering with a message. For this, LoRaWAN uses AES-CMAC. In the backend of The Things Network this validation is also used to map a non-unique device address ( DevAddr ) to a unique DevEUI and AppEUI .\\nThe Application Session Key ( AppSKey ) is used for encryption and decryption of the payload. The payload is fully encrypted between the Node and the Handler/Application Server component of The Things Network (which you will be able to run on your own server). This means that nobody except you is able to read the contents of messages you send or receive.\\nThese two session keys ( NwkSKey and AppSKey ) are unique per device, per session. If you dynamically activate your device (OTAA), these keys are re-generated on every activation. If you statically activate your device (ABP), these keys stay the same until you change them.', 'Security Keys\\n\\nLoRaWAN 1.0 specifies a number of security keys: NwkSKey , AppSKey and AppKey . All keys have a length of 128 bits.\\nThe algorithm used for this is AES-128, similar to the algorithm used in the 802.15.4 standard.']\n",
      "\n",
      "======================================================================\n",
      "\n",
      "Metrics Summary\n",
      "\n",
      "  - ❌ Answer Relevancy (score: 0.0, threshold: 0.7, strict: False, evaluation model: gpt-4o-mini, reason: The score is 0.00 because the output included irrelevant statements that did not address the importance of the frame counter in LoRaWAN, such as mentioning a lack of information and expressing an inability to answer the question., error: None)\n",
      "  - ✅ Faithfulness (score: 1.0, threshold: 0.7, strict: False, evaluation model: gpt-4o-mini, reason: The score is 1.00 because there are no contradictions, indicating that the actual output is perfectly aligned with the information in the retrieval context., error: None)\n",
      "\n",
      "For test case:\n",
      "\n",
      "  - input: What is the importance of the frame counter in LoRaWAN?\n",
      "  - actual output: The provided context does not contain information about the frame counter in LoRaWAN. Therefore, I cannot answer your question. \n",
      "\n",
      "  - expected output: The frame counter in LoRaWAN prevents replay attacks by ensuring that each message has a unique sequence number, enhancing security.\n",
      "  - context: None\n",
      "  - retrieval context: ['Limitations\\n\\nLoRaWAN is not suitable for every use-case, so it is important that you understand the limitations. Here’s a quick overview:', 'LoRaWAN®']\n",
      "\n",
      "======================================================================\n",
      "\n",
      "Metrics Summary\n",
      "\n",
      "  - ✅ Answer Relevancy (score: 0.8888888888888888, threshold: 0.7, strict: False, evaluation model: gpt-4o-mini, reason: The score is 0.89 because the output included an irrelevant statement about the lack of information in the provided context, which detracted from addressing how LoRaWAN supports large-scale deployments. However, the majority of the response likely contained relevant information, justifying a high score., error: None)\n",
      "  - ✅ Faithfulness (score: 1.0, threshold: 0.7, strict: False, evaluation model: gpt-4o-mini, reason: The score is 1.00 because there are no contradictions present, indicating perfect alignment between the actual output and the retrieval context., error: None)\n",
      "\n",
      "For test case:\n",
      "\n",
      "  - input: How does LoRaWAN support large-scale deployments?\n",
      "  - actual output: The provided context doesn't contain information about how LoRaWAN supports large-scale deployments. It only mentions that LoRaWAN has limitations and is not suitable for every use-case. \n",
      "\n",
      "To answer your question, you'll need to provide more context about LoRaWAN's capabilities. \n",
      "\n",
      "Here are some potential reasons why LoRaWAN is suitable for large-scale deployments:\n",
      "\n",
      "* **Scalability:** LoRaWAN can handle a large number of devices and supports a wide range of network sizes.\n",
      "* **Long Range:** LoRaWAN's long-range capabilities allow for wide coverage and fewer base stations, making it cost-effective for large deployments.\n",
      "* **Low Power Consumption:** LoRaWAN devices are designed for low power consumption, enabling them to operate for extended periods without needing frequent battery replacements. This is crucial for large deployments where battery replacement can be challenging.\n",
      "* **Network Architecture:** LoRaWAN's star network architecture allows for efficient communication between devices and gateways, even in dense environments.\n",
      "\n",
      "To get a more accurate answer, you'll need to provide more information about LoRaWAN's features and capabilities. \n",
      "\n",
      "  - expected output: LoRaWAN supports large-scale deployments through its ability to handle thousands of devices per gateway, efficient spectrum use, and features like adaptive data rate (ADR).\n",
      "  - context: None\n",
      "  - retrieval context: ['LoRaWAN®', 'Limitations\\n\\nLoRaWAN is not suitable for every use-case, so it is important that you understand the limitations. Here’s a quick overview:']\n",
      "\n",
      "======================================================================\n",
      "\n",
      "Metrics Summary\n",
      "\n",
      "  - ✅ Answer Relevancy (score: 1.0, threshold: 0.7, strict: False, evaluation model: gpt-4o-mini, reason: The score is 1.00 because the response directly addresses the input question about the different classes of devices in LoRaWAN without any irrelevant statements., error: None)\n",
      "  - ✅ Faithfulness (score: 1.0, threshold: 0.7, strict: False, evaluation model: gpt-4o-mini, reason: The score is 1.00 because there are no contradictions, indicating that the actual output fully aligns with the retrieval context., error: None)\n",
      "\n",
      "For test case:\n",
      "\n",
      "  - input: What are the different classes of devices in LoRaWAN?\n",
      "  - actual output: The different classes of devices in LoRaWAN are:\n",
      "\n",
      "* **Class A**\n",
      "* **Class B**\n",
      "* **Class C** \n",
      "\n",
      "  - expected output: LoRaWAN defines three classes of devices: Class A, Class B, and Class C, each with different uplink and downlink communication capabilities.\n",
      "  - context: None\n",
      "  - retrieval context: ['Device Classes\\n\\nThe LoRaWAN specification defines three device types: Class A , Class B , and Class C . All LoRaWAN devices must implement Class A, whereas Class B and Class C are extensions to the specification of Class A devices. All device classes support bi-directional communication (uplink and downlink). During firmware upgrades over-the-air (FUOTA), a device must be switched to Class B or Class C.', 'The Opportunity:\\n\\nDevice classes provide a suitable LoRaWAN solution for many different use cases. Class A devices maximize battery life by listening for downlinks only after an uplink, and spending most of their time in sleep. For applications which do not need guaranteed downlink latency, Class A provides years of battery life on a single cell. Class B devices add guaranteed latency at the cost of some battery life. Class C devices can receive downlinks anytime, but are typically mains powered.']\n",
      "\n",
      "======================================================================\n",
      "\n",
      "Metrics Summary\n",
      "\n",
      "  - ✅ Answer Relevancy (score: 1.0, threshold: 0.7, strict: False, evaluation model: gpt-4o-mini, reason: The score is 1.00 because the response directly addresses the impact of spreading factor on LoRaWAN communication without any irrelevant statements., error: None)\n",
      "  - ✅ Faithfulness (score: 0.7, threshold: 0.7, strict: False, evaluation model: gpt-4o-mini, reason: The score is 0.70 because the actual output incorrectly asserts relationships between spreading factors and data rates, transmission speed, and power consumption, while the retrieval context does not specify these relationships., error: None)\n",
      "\n",
      "For test case:\n",
      "\n",
      "  - input: What is the impact of spreading factor on LoRaWAN communication?\n",
      "  - actual output: The spreading factor in LoRaWAN communication impacts several key aspects:\n",
      "\n",
      "* **Data Rate:** Higher spreading factors (SF12) result in lower data rates, while lower spreading factors (SF7) allow for faster data transmission.\n",
      "* **Time-on-Air:** Higher spreading factors require longer transmission times, while lower spreading factors lead to shorter transmission times.\n",
      "* **Battery Life:**  Higher spreading factors consume less power, extending battery life, while lower spreading factors drain the battery faster.\n",
      "* **Receiver Sensitivity:** Higher spreading factors offer better receiver sensitivity, allowing for weaker signals to be received, while lower spreading factors require stronger signals.\n",
      "\n",
      "In essence, the spreading factor acts as a trade-off between data rate, transmission time, battery life, and receiver sensitivity. Choosing the appropriate spreading factor depends on the specific application requirements. \n",
      "\n",
      "  - expected output: The spreading factor impacts the range and data rate of LoRaWAN communication, with higher spreading factors providing longer range but lower data rates.\n",
      "  - context: None\n",
      "  - retrieval context: ['Influence of Spreading Factors\\n\\nLoRa modulation has a total of 6 spreading factors from SF7 to SF12. Spreading factors influence data rate, time-on-air, battery life, and receiver sensitivity, as described here.', 'Definition:\\n\\nThe spreading factor defines a spreading pattern applied to the bitstream before modulation, which increases processing gain and aids in decoding of LoRaWAN messages. LoRaWAN defines 6 spreading factors - SF7 to SF12.']\n",
      "\n",
      "======================================================================\n",
      "\n",
      "Metrics Summary\n",
      "\n",
      "  - ❌ Answer Relevancy (score: 0.6666666666666666, threshold: 0.7, strict: False, evaluation model: gpt-4o-mini, reason: The score is 0.67 because while the response touches on the topic of duty cycle regulations, it includes irrelevant statements that detract from directly addressing their importance in LoRaWAN., error: None)\n",
      "  - ✅ Faithfulness (score: 1.0, threshold: 0.7, strict: False, evaluation model: gpt-4o-mini, reason: The score is 1.00 because there are no contradictions present, indicating that the actual output aligns perfectly with the retrieval context., error: None)\n",
      "\n",
      "For test case:\n",
      "\n",
      "  - input: What is the importance of duty cycle regulations in LoRaWAN?\n",
      "  - actual output: The provided context doesn't contain information about duty cycle regulations in LoRaWAN. To answer your question, I need more information about duty cycle regulations in LoRaWAN. \n",
      "\n",
      "Please provide me with additional context or information about duty cycle regulations in LoRaWAN. \n",
      "\n",
      "  - expected output: Duty cycle regulations limit the amount of time a device can transmit on a given frequency, ensuring fair use and reducing the risk of interference.\n",
      "  - context: None\n",
      "  - retrieval context: ['LoRaWAN®', 'Limitations\\n\\nLoRaWAN is not suitable for every use-case, so it is important that you understand the limitations. Here’s a quick overview:']\n",
      "\n",
      "======================================================================\n",
      "\n",
      "Metrics Summary\n",
      "\n",
      "  - ✅ Answer Relevancy (score: 1.0, threshold: 0.7, strict: False, evaluation model: gpt-4o-mini, reason: The score is 1.00 because all statements were relevant and addressed the question about LoRaWAN's downlink message scheduling for Class A devices effectively., error: None)\n",
      "  - ✅ Faithfulness (score: 0.8888888888888888, threshold: 0.7, strict: False, evaluation model: gpt-4o-mini, reason: The score is 0.89 because the actual output incorrectly states that downlink messages are scheduled during receive windows opened by Class A devices, which is not supported by the retrieval context that only mentions Class A devices opening receive windows after an uplink., error: None)\n",
      "\n",
      "For test case:\n",
      "\n",
      "  - input: How does LoRaWAN handle downlink message scheduling for Class A devices?\n",
      "  - actual output: Class A devices in LoRaWAN open receive windows immediately after sending an uplink message. This means that downlink messages are scheduled to be sent during these short windows. \n",
      "\n",
      "Here's how it works:\n",
      "\n",
      "* **Uplink Transmission:** When a Class A device sends an uplink message, it opens a receive window immediately after the transmission.\n",
      "* **Downlink Scheduling:** The gateway or network server schedules downlink messages to be sent during these receive windows.\n",
      "* **Receive Window:** The device listens for downlink messages during the pre-defined receive window.\n",
      "* **Limited Downlink Opportunities:**  Class A devices have limited opportunities for receiving downlinks, as they only open receive windows after uplink transmissions.\n",
      "\n",
      "This approach balances power consumption and responsiveness. While it provides a basic level of downlink communication, it's not ideal for applications requiring frequent or time-critical downlink messages. \n",
      "\n",
      "  - expected output: For Class A devices, downlink messages are scheduled in response to uplink messages, within two short receive windows after the uplink transmission.\n",
      "  - context: None\n",
      "  - retrieval context: ['Definition:\\n\\nThe LoRaWAN specification defines three device types - Class A (All), Class B (Beacon), and Class C (Continuous). Class A devices open windows to receive downlinks immediately following an uplink. Class B devices add periodic receive windows. Class C devices listen continuously for downlinks. All LoRaWAN devices must implement Class A, whereas Class B and Class C are extensions to the specification of Class A devices.', 'Device Classes\\n\\nThe LoRaWAN specification defines three device types: Class A , Class B , and Class C . All LoRaWAN devices must implement Class A, whereas Class B and Class C are extensions to the specification of Class A devices. All device classes support bi-directional communication (uplink and downlink). During firmware upgrades over-the-air (FUOTA), a device must be switched to Class B or Class C.']\n",
      "\n",
      "======================================================================\n",
      "\n",
      "Metrics Summary\n",
      "\n",
      "  - ✅ Answer Relevancy (score: 0.7142857142857143, threshold: 0.7, strict: False, evaluation model: gpt-4o-mini, reason: The score is 0.71 because there are irrelevant statements that divert from the main focus on LoRaWAN's role in smart agriculture, such as discussing file names and creation dates. However, the output does contain some relevant information about LoRaWAN, which maintains a moderate score., error: None)\n",
      "  - ❌ Faithfulness (score: 0.6666666666666666, threshold: 0.7, strict: False, evaluation model: gpt-4o-mini, reason: The score is 0.67 because the actual output claims to mention file names and creation dates, which are not supported by the retrieval context that lacks such details., error: None)\n",
      "\n",
      "For test case:\n",
      "\n",
      "  - input: What is the role of the LoRaWAN protocol in smart agriculture?\n",
      "  - actual output: The provided context doesn't give any information about the role of LoRaWAN in smart agriculture. It only mentions the terms \"LoRaWAN\" and \"LoRa\" and their file names and creation dates. \n",
      "\n",
      "To answer your question, I need more information about the context of LoRaWAN in smart agriculture. For example:\n",
      "\n",
      "* **What are the specific applications of LoRaWAN in smart agriculture?** (e.g., monitoring soil moisture, controlling irrigation systems, tracking livestock)\n",
      "* **What are the benefits of using LoRaWAN in smart agriculture?** (e.g., long-range communication, low power consumption, cost-effectiveness)\n",
      "* **How does LoRaWAN compare to other technologies used in smart agriculture?** (e.g., Wi-Fi, cellular networks)\n",
      "\n",
      "Please provide more context so I can give you a comprehensive answer about the role of LoRaWAN in smart agriculture. \n",
      "\n",
      "  - expected output: The LoRaWAN protocol enables remote monitoring and control of agricultural parameters, enhancing efficiency, resource management, and crop yield.\n",
      "  - context: None\n",
      "  - retrieval context: ['LoRaWAN®', 'LoRa']\n",
      "\n",
      "======================================================================\n",
      "\n",
      "Metrics Summary\n",
      "\n",
      "  - ❌ Answer Relevancy (score: 0.0, threshold: 0.7, strict: False, evaluation model: gpt-4o-mini, reason: The score is 0.00 because the output contained multiple irrelevant statements that failed to address the question about the function of the device profile in LoRaWAN, such as discussing limitations and suggesting alternative sources instead of providing the requested information., error: None)\n",
      "  - ✅ Faithfulness (score: 1.0, threshold: 0.7, strict: False, evaluation model: gpt-4o-mini, reason: The score is 1.00 because there are no contradictions, indicating perfect alignment between the actual output and the retrieval context., error: None)\n",
      "\n",
      "For test case:\n",
      "\n",
      "  - input: What is the function of the device profile in LoRaWAN?\n",
      "  - actual output: The provided context doesn't contain information about the function of the device profile in LoRaWAN. The text focuses on the limitations of LoRaWAN, not its specific features. \n",
      "\n",
      "To answer your question, you'll need to consult a different source that specifically describes the device profile in LoRaWAN. \n",
      "\n",
      "  - expected output: The device profile in LoRaWAN specifies device capabilities, supported features, and configuration settings, aiding in device management and network optimization.\n",
      "  - context: None\n",
      "  - retrieval context: ['LoRaWAN®', 'Limitations\\n\\nLoRaWAN is not suitable for every use-case, so it is important that you understand the limitations. Here’s a quick overview:']\n",
      "\n",
      "======================================================================\n",
      "\n",
      "Metrics Summary\n",
      "\n",
      "  - ✅ Answer Relevancy (score: 0.7777777777777778, threshold: 0.7, strict: False, evaluation model: gpt-4o-mini, reason: The score is 0.78 because while the output provides some relevant information about the MIC in LoRaWAN, it includes vague statements like 'Data Integrity.' and 'Authentication.' that do not specifically explain the significance of MIC, which prevents a higher score., error: None)\n",
      "  - ✅ Faithfulness (score: 1.0, threshold: 0.7, strict: False, evaluation model: gpt-4o-mini, reason: The score is 1.00 because there are no contradictions, indicating a perfect alignment between the actual output and retrieval context., error: None)\n",
      "\n",
      "For test case:\n",
      "\n",
      "  - input: What is the importance of the message integrity code (MIC) in LoRaWAN?\n",
      "  - actual output: The Message Integrity Code (MIC) in LoRaWAN is crucial for ensuring the **integrity and authenticity** of messages transmitted over the network. Here's why:\n",
      "\n",
      "* **Data Integrity:** The MIC verifies that the message content hasn't been altered during transmission. This is essential to prevent malicious actors from tampering with data sent between devices and the network server.\n",
      "* **Authentication:** The MIC confirms that the message originates from a legitimate source. This helps prevent spoofing attacks where an attacker might try to impersonate a device to send unauthorized commands or data.\n",
      "\n",
      "In essence, the MIC acts as a digital fingerprint for each message, ensuring its trustworthiness and protecting the LoRaWAN network from various security threats. \n",
      "\n",
      "  - expected output: The message integrity code (MIC) ensures the authenticity and integrity of messages, preventing tampering and unauthorized modifications.\n",
      "  - context: None\n",
      "  - retrieval context: ['Calculating the Message Integrity Code (MIC)\\n\\nThe Message Integrity Code (MIC) ensures the integrity and authenticity of a message. The message integrity code is calculated over all the fields in the message and then added to the message itself. The following list shows what fields are used to calculate the MIC for each message type in LoRaWAN 1.0.x and 1.1.\\n\\n|  |  |  |\\n| --- | --- | --- |\\n| **LoRaWAN version** | **Message Type** | **Fields** |\\n| 1.0.x\\n  | Join-request\\n  | MHDR | AppEUI | DevEUI | DevNonce\\n  |\\n| 1.0.x\\n  | Join-accept\\n  | MHDR | AppNonce | NetID | DevAddr | DLSettings | RxDelay | CFList\\n  |\\n| 1.0.x\\n  | Data messages (up and down)\\n  | MHDR | FHDR | FPort | FRMPayload\\n  |\\n| 1.1\\n  | Join-request\\n  | MHDR | JoinEUI | DevEUI | DevNonce\\n  |\\n| 1.1\\n  | Join-accept\\n  | MHDR | JoinNonce | NetID | DevAddr | DLSettings | RxDelay | CFList\\n  |\\n| 1.1\\n  | Rejoin-request Type 0 and 2\\n  | MHDR | Rejoin Type | NetID | DevEUI | RJcount0\\n  |\\n| 1.1\\n  | Rejoin-request Type 1\\n  | MHDR | Rejoin Type | JoinEUI | DevEUI | RJcount1\\n  |\\n| 1.1\\n  | Data messages (up and down)\\n  | MHDR | FHDR | FPort | FRMPayload\\n  |\\n\\nThe following table presents which key is used to calculate the MIC of each message type in LoRaWAN 1.0.x and 1.1.\\n\\n|  |  |  |\\n| --- | --- | --- |\\n| **LoRaWAN version** | **Message Type** | **Key** |\\n| 1.0.x\\n  | Join-request\\n  | AppKey\\n  |\\n| 1.0.x\\n  | Join-accept\\n  | AppKey\\n  |\\n| 1.0.x\\n  | Uplink data message\\n  | NwkSKey\\n  |\\n| 1.0.x\\n  | Downlink data messages\\n  | NwkSKey\\n  |\\n| 1.1\\n  | Join-request\\n  | NwkKey\\n  |\\n| 1.1\\n  | Join-accept\\n  | JSIntKey\\n  |\\n| 1.1\\n  | Rejoin-request Type 0 and 2\\n  | SNwkSIntKey\\n  |\\n| 1.1\\n  | Rejoin-request Type 1\\n  | JSIntKey\\n  |\\n| 1.1\\n  | Uplink data messages\\n  | FNwkSIntKey and SNwkSIntKey\\n  |\\n| 1.1\\n  | Downlink data message\\n  | SNwkSIntKey\\n  |\\n\\nWhen a LoRaWAN 1.1 device is provisioned with a LoRaWAN 1.0.x Network Server, the MIC of each message is calculated as shown in the following table.', 'Computing MIC\\n\\nThe MIC is calculated after encrypting the payload. The MIC is computed for each packet (entire PHYPayload) using the AES-CMAC.\\nThe following table presents which key is used to calculate the MIC of each data message type in LoRaWAN 1.0.x and 1.1.\\n\\nWhen a LoRaWAN 1.1 device is provisioned with a LoRaWAN 1.0.x Network Server, the MIC of the uplink and downlink data messages are computed with the FNwkSIntKey.']\n",
      "\n",
      "======================================================================\n",
      "\n",
      "Metrics Summary\n",
      "\n",
      "  - ✅ Answer Relevancy (score: 1.0, threshold: 0.7, strict: False, evaluation model: gpt-4o-mini, reason: The score is 1.00 because the response directly addresses the significance of the AppKey in LoRaWAN without any irrelevant statements. Great job on staying focused and relevant!, error: None)\n",
      "  - ✅ Faithfulness (score: 0.8, threshold: 0.7, strict: False, evaluation model: gpt-4o-mini, reason: The score is 0.80 because the actual output makes unsupported claims about the AppKey being used for encryption between the end device and application server, and it inaccurately states that the AppKey is a shared secret, both of which contradict the retrieval context., error: None)\n",
      "\n",
      "For test case:\n",
      "\n",
      "  - input: What is the significance of the AppKey in LoRaWAN?\n",
      "  - actual output: The AppKey is a crucial security element in LoRaWAN. Here's its significance:\n",
      "\n",
      "* **Root Key:** It serves as the **root key** for encrypting and decrypting data exchanged between the end device and the application server. \n",
      "* **Shared Secret:** The AppKey is a **shared secret** known by both the end device and the network server. This ensures that only authorized entities can access and manipulate the data.\n",
      "* **Data Security:** The AppKey is used to **encrypt and decrypt application data** transmitted between the end device and the application server, ensuring data confidentiality and integrity.\n",
      "* **Authentication:** The AppKey plays a role in **authenticating the end device** during the join procedure, verifying its legitimacy to the network.\n",
      "\n",
      "In essence, the AppKey is the foundation of secure communication between the end device and the application server in LoRaWAN. \n",
      "\n",
      "  - expected output: The AppKey is used during the Over-the-Air Activation (OTAA) process to generate session keys for secure communication between a device and the application server.\n",
      "  - context: None\n",
      "  - retrieval context: ['Over The Air Activation in LoRaWAN 1.0.x\\n\\nIn LoRaWAN 1.0.x, the join procedure requires two MAC messages to be exchanged between the end device and the Network Server:\\n* Join-request - from end device to the Network Server\\n* Join-accept - from Network Server to the end device\\n\\nBefore activation, the AppEUI , DevEUI , and AppKey should be stored in the end device. The AppKey is an AES-128 bit secret key known as the root key . The same AppKey should be provisioned onto the network where the end device is going to register. The AppEUI and DevEUI are not secret and are visible to everyone.', 'Security Keys\\n\\nLoRaWAN 1.0 specifies a number of security keys: NwkSKey , AppSKey and AppKey . All keys have a length of 128 bits.\\nThe algorithm used for this is AES-128, similar to the algorithm used in the 802.15.4 standard.']\n",
      "\n",
      "======================================================================\n",
      "\n",
      "Metrics Summary\n",
      "\n",
      "  - ❌ Answer Relevancy (score: 0.6666666666666666, threshold: 0.7, strict: False, evaluation model: gpt-4o-mini, reason: The score is 0.67 because some statements in the output did not address the specifics of how LoRaWAN ensures reliable data transmission, indicating a lack of relevance to the input question., error: None)\n",
      "  - ✅ Faithfulness (score: 1.0, threshold: 0.7, strict: False, evaluation model: gpt-4o-mini, reason: The score is 1.00 because there are no contradictions, indicating perfect alignment between the actual output and the retrieval context., error: None)\n",
      "\n",
      "For test case:\n",
      "\n",
      "  - input: How does LoRaWAN ensure reliable data transmission?\n",
      "  - actual output: The provided context doesn't contain information about how LoRaWAN ensures reliable data transmission. It only mentions that LoRaWAN has limitations and is not suitable for every use-case. \n",
      "\n",
      "To answer your question, you would need to provide additional context or research the topic of LoRaWAN data transmission reliability. \n",
      "\n",
      "  - expected output: LoRaWAN ensures reliable data transmission through features like forward error correction, adaptive data rate (ADR), and robust modulation techniques.\n",
      "  - context: None\n",
      "  - retrieval context: ['LoRaWAN®', 'Limitations\\n\\nLoRaWAN is not suitable for every use-case, so it is important that you understand the limitations. Here’s a quick overview:']\n",
      "\n",
      "======================================================================\n",
      "\n",
      "Metrics Summary\n",
      "\n",
      "  - ❌ Answer Relevancy (score: 0.0, threshold: 0.7, strict: False, evaluation model: gpt-4o-mini, reason: The score is 0.00 because the output contains multiple irrelevant statements that fail to address the specific question about how LoRaWAN handles frequency management, leading to a complete lack of relevance., error: None)\n",
      "  - ✅ Faithfulness (score: 1.0, threshold: 0.7, strict: False, evaluation model: gpt-4o-mini, reason: The score is 1.00 because there are no contradictions, indicating perfect alignment between the actual output and the retrieval context., error: None)\n",
      "\n",
      "For test case:\n",
      "\n",
      "  - input: How does LoRaWAN handle frequency management?\n",
      "  - actual output: The provided context doesn't contain information about how LoRaWAN handles frequency management. It only mentions that LoRaWAN has limitations and provides a link to a file named \"11-limitations.md\". \n",
      "\n",
      "To answer your question, you would need to access the content of \"11-limitations.md\" or search for information about LoRaWAN frequency management in other resources. \n",
      "\n",
      "  - expected output: LoRaWAN handles frequency management through channel plans, adaptive data rate (ADR), and regulatory compliance, ensuring efficient spectrum use.\n",
      "  - context: None\n",
      "  - retrieval context: ['LoRaWAN®', 'Limitations\\n\\nLoRaWAN is not suitable for every use-case, so it is important that you understand the limitations. Here’s a quick overview:']\n",
      "\n",
      "======================================================================\n",
      "\n",
      "Metrics Summary\n",
      "\n",
      "  - ✅ Answer Relevancy (score: 0.7692307692307693, threshold: 0.7, strict: False, evaluation model: gpt-4o-mini, reason: The score is 0.77 because while the response provides some relevant information, it includes irrelevant statements suggesting a lack of information about LoRaWAN's handling of mobility, as well as recommendations for additional resources and research. These aspects detract from the overall relevance, preventing a higher score., error: None)\n",
      "  - ✅ Faithfulness (score: 1.0, threshold: 0.7, strict: False, evaluation model: gpt-4o-mini, reason: The score is 1.00 because there are no contradictions present, indicating perfect alignment between the actual output and the retrieval context., error: None)\n",
      "\n",
      "For test case:\n",
      "\n",
      "  - input: How does LoRaWAN handle mobility of end devices?\n",
      "  - actual output: The provided context doesn't contain information about how LoRaWAN handles mobility of end devices. \n",
      "\n",
      "To answer your question, you'll need to consult additional resources about LoRaWAN. Here's what you can find out:\n",
      "\n",
      "* **LoRaWAN and Mobility:** LoRaWAN is generally designed for static or slow-moving devices. It doesn't have built-in mechanisms for seamless handover between gateways like cellular networks. \n",
      "* **Solutions for Mobility:**  There are ways to address mobility in LoRaWAN deployments, but they often involve custom solutions or specific network configurations. These might include:\n",
      "    * **Multiple Gateways:** Using multiple gateways with overlapping coverage areas to ensure connectivity even when a device moves.\n",
      "    * **Network Handoff:** Implementing mechanisms for devices to switch between gateways as they move.\n",
      "    * **Hybrid Solutions:** Combining LoRaWAN with other technologies like cellular for situations where mobility is critical.\n",
      "\n",
      "To get a more precise answer, you'll need to research specific LoRaWAN implementations and their capabilities related to mobility. \n",
      "\n",
      "  - expected output: LoRaWAN handles mobility by allowing devices to connect to any available gateway within range, facilitating seamless communication as devices move.\n",
      "  - context: None\n",
      "  - retrieval context: ['LoRaWAN®', 'Limitations\\n\\nLoRaWAN is not suitable for every use-case, so it is important that you understand the limitations. Here’s a quick overview:']\n",
      "\n",
      "======================================================================\n",
      "\n",
      "Metrics Summary\n",
      "\n",
      "  - ✅ Answer Relevancy (score: 0.9230769230769231, threshold: 0.7, strict: False, evaluation model: gpt-4o-mini, reason: The score is 0.92 because while most of the response effectively addresses the key considerations for deploying a LoRaWAN network in urban areas, there is a statement that fails to provide relevant information, slightly detracting from the overall relevance., error: None)\n",
      "  - ✅ Faithfulness (score: 1.0, threshold: 0.7, strict: False, evaluation model: gpt-4o-mini, reason: The score is 1.00 because there are no contradictions, indicating complete alignment between the actual output and the retrieval context., error: None)\n",
      "\n",
      "For test case:\n",
      "\n",
      "  - input: What are the key considerations for deploying a LoRaWAN network in urban areas?\n",
      "  - actual output: The provided context doesn't contain information about the key considerations for deploying a LoRaWAN network in urban areas. It only mentions that LoRaWAN has limitations and provides a glossary definition of LoRaWAN. \n",
      "\n",
      "To answer your question, I need more information about the specific challenges and considerations for deploying LoRaWAN in urban environments. \n",
      "\n",
      "Here are some potential factors that could be relevant:\n",
      "\n",
      "* **Signal interference:** Urban areas have high levels of radio frequency interference from various sources, which can impact LoRaWAN signal propagation.\n",
      "* **Building penetration:** Dense urban environments with tall buildings can significantly hinder LoRaWAN signal penetration, requiring careful network planning and potentially additional gateways.\n",
      "* **Data security:** Urban deployments often involve sensitive data, making security a critical consideration for LoRaWAN networks.\n",
      "* **Network capacity:** High device density in urban areas can strain network capacity, requiring careful planning and potentially network optimization techniques.\n",
      "* **Regulatory compliance:** Urban areas may have specific regulations regarding radio frequency usage, which need to be considered during LoRaWAN deployment.\n",
      "\n",
      "To get a comprehensive answer to your question, I recommend researching these factors and their implications for LoRaWAN deployments in urban areas. \n",
      "\n",
      "  - expected output: Key considerations include potential interference, the need for more gateways to ensure coverage, and compliance with local frequency regulations.\n",
      "  - context: None\n",
      "  - retrieval context: ['Limitations\\n\\nLoRaWAN is not suitable for every use-case, so it is important that you understand the limitations. Here’s a quick overview:', 'LoRaWAN®']\n",
      "\n",
      "======================================================================\n",
      "\n",
      "Metrics Summary\n",
      "\n",
      "  - ❌ Answer Relevancy (score: 0.3333333333333333, threshold: 0.7, strict: False, evaluation model: gpt-4o-mini, reason: The score is 0.33 because the output included irrelevant statements that failed to address the benefits of using the 2.4 GHz band for LoRaWAN, focusing instead on limitations and unrelated aspects., error: None)\n",
      "  - ✅ Faithfulness (score: 1.0, threshold: 0.7, strict: False, evaluation model: gpt-4o-mini, reason: The score is 1.00 because there are no contradictions, indicating complete alignment between the actual output and the retrieval context., error: None)\n",
      "\n",
      "For test case:\n",
      "\n",
      "  - input: What are the benefits of using the 2.4 GHz band for LoRaWAN?\n",
      "  - actual output: The provided context does not mention any benefits of using the 2.4 GHz band for LoRaWAN. It only lists limitations and alternative technologies for specific use cases. \n",
      "\n",
      "To answer your question, you would need to provide additional context or information about the benefits of using the 2.4 GHz band for LoRaWAN. \n",
      "\n",
      "  - expected output: The 2.4 GHz band can support higher data rates and has global availability, though it offers shorter range compared to sub-GHz bands like 868 MHz or 915 MHz.\n",
      "  - context: None\n",
      "  - retrieval context: ['Not Suitable for LoRaWAN:\\n\\n* **Realtime data** - you can only send small packets every couple of minutes\\n* **Phone calls** - you can do that with GPRS/3G/LTE\\n* **Controlling lights in your house** - check out ZigBee or BlueTooth\\n* **Sending photos, watching Netflix** - check out WiFi', 'Limitations\\n\\nLoRaWAN is not suitable for every use-case, so it is important that you understand the limitations. Here’s a quick overview:']\n",
      "\n",
      "======================================================================\n",
      "\n",
      "Metrics Summary\n",
      "\n",
      "  - ✅ Answer Relevancy (score: 0.7692307692307693, threshold: 0.7, strict: False, evaluation model: gpt-4o-mini, reason: The score is 0.77 because while the output provides some relevant information about LoRaWAN, it includes several irrelevant statements that fail to directly address the question about different types of network architectures., error: None)\n",
      "  - ✅ Faithfulness (score: 1.0, threshold: 0.7, strict: False, evaluation model: gpt-4o-mini, reason: The score is 1.00 because there are no contradictions present, indicating perfect alignment between the actual output and the retrieval context., error: None)\n",
      "\n",
      "For test case:\n",
      "\n",
      "  - input: What are the different types of LoRaWAN network architectures?\n",
      "  - actual output: The provided context focuses on the components of a LoRaWAN network (end devices and gateways) but doesn't explicitly mention different network architectures. \n",
      "\n",
      "To answer your question about different LoRaWAN network architectures, we need to look beyond the provided context. \n",
      "\n",
      "Here are the common LoRaWAN network architectures:\n",
      "\n",
      "* **Star Architecture:** This is the most basic and common architecture. End devices communicate directly with a single gateway, which then forwards data to the network server. This is suitable for small-scale deployments with a limited number of devices.\n",
      "* **Mesh Architecture:** In this architecture, gateways can communicate with each other, forming a mesh network. This allows for longer ranges and better coverage, as data can be relayed through multiple gateways. This is suitable for larger deployments with a wider geographical area.\n",
      "* **Hybrid Architecture:** This combines elements of both star and mesh architectures. It can be used to optimize coverage and performance based on the specific needs of the deployment.\n",
      "\n",
      "The context you provided doesn't specify which architecture is being discussed, so it's impossible to determine the specific architecture from the given information. \n",
      "\n",
      "  - expected output: LoRaWAN network architectures include public networks managed by telecom operators and private networks deployed by enterprises for specific applications.\n",
      "  - context: None\n",
      "  - retrieval context: ['End devices\\n\\nA LoRaWAN end device can be a sensor, an actuator, or both. They are often battery operated. These end devices are wirelessly connected to the LoRaWAN network through gateways using LoRa RF modulation. The following figure shows an end device that consists of sensors like temperature, humidity, and fall detection.', 'Gateways\\n\\nEach gateway is registered (using configuration settings) to a LoRaWAN network server. A gateway receives LoRa messages from end devices and simply forwards them to the LoRaWAN network server. Gateways are connected to the Network Server using a backhaul like Cellular (3G/4G/5G), WiFi, Ethernet, fiber-optic or 2.4 GHz radio links.']\n",
      "\n",
      "======================================================================\n",
      "\n",
      "Metrics Summary\n",
      "\n",
      "  - ✅ Answer Relevancy (score: 1.0, threshold: 0.7, strict: False, evaluation model: gpt-4o-mini, reason: The score is 1.00 because the output directly addresses the question about how gateways in a LoRaWAN network manage data traffic without including any irrelevant statements., error: None)\n",
      "  - ✅ Faithfulness (score: 1.0, threshold: 0.7, strict: False, evaluation model: gpt-4o-mini, reason: The score is 1.00 because there are no contradictions, indicating that the actual output aligns perfectly with the retrieval context., error: None)\n",
      "\n",
      "For test case:\n",
      "\n",
      "  - input: How do gateways in a LoRaWAN network manage data traffic?\n",
      "  - actual output: Based on the provided context, here's how gateways in a LoRaWAN network manage data traffic:\n",
      "\n",
      "* **Receive LoRa messages from end devices:** Gateways act as the bridge between end devices (sensors, actuators) and the LoRaWAN network. They receive LoRa messages transmitted by these devices.\n",
      "* **Forward messages to the LoRaWAN network server:** Gateways don't process or interpret the data themselves. They simply forward the received LoRa messages to the LoRaWAN network server. This server is responsible for handling the data, routing it to the appropriate applications, and managing the network.\n",
      "* **Utilize various backhaul connections:** Gateways connect to the network server using different backhaul options like cellular, WiFi, Ethernet, fiber-optic, or 2.4 GHz radio links. The choice of backhaul depends on factors like cost, availability, and network coverage.\n",
      "\n",
      "**In summary, gateways in a LoRaWAN network act as data forwarders, receiving messages from end devices and relaying them to the network server for further processing.** \n",
      "\n",
      "  - expected output: Gateways forward data from end devices to the network server and vice versa, handling data traffic efficiently by using multiple channels and concurrent transmissions.\n",
      "  - context: None\n",
      "  - retrieval context: ['Gateways\\n\\nEach gateway is registered (using configuration settings) to a LoRaWAN network server. A gateway receives LoRa messages from end devices and simply forwards them to the LoRaWAN network server. Gateways are connected to the Network Server using a backhaul like Cellular (3G/4G/5G), WiFi, Ethernet, fiber-optic or 2.4 GHz radio links.', 'Not Suitable for LoRaWAN:\\n\\n* **Realtime data** - you can only send small packets every couple of minutes\\n* **Phone calls** - you can do that with GPRS/3G/LTE\\n* **Controlling lights in your house** - check out ZigBee or BlueTooth\\n* **Sending photos, watching Netflix** - check out WiFi']\n",
      "\n",
      "======================================================================\n",
      "\n",
      "Metrics Summary\n",
      "\n",
      "  - ✅ Answer Relevancy (score: 0.7142857142857143, threshold: 0.7, strict: False, evaluation model: gpt-4o-mini, reason: The score is 0.71 because while the response addresses the topic of channel diversity in LoRaWAN, it includes irrelevant statements that do not contribute to the explanation of its importance, such as dismissing the provided context and saying it cannot answer the question., error: None)\n",
      "  - ✅ Faithfulness (score: 1.0, threshold: 0.7, strict: False, evaluation model: gpt-4o-mini, reason: The score is 1.00 because there are no contradictions, indicating that the actual output perfectly aligns with the retrieval context., error: None)\n",
      "\n",
      "For test case:\n",
      "\n",
      "  - input: What is the importance of channel diversity in LoRaWAN?\n",
      "  - actual output: The provided context doesn't contain information about channel diversity in LoRaWAN. Therefore, I cannot answer your question. \n",
      "\n",
      "To answer your question, I would need more context about LoRaWAN and channel diversity. For example, I would need information about:\n",
      "\n",
      "* **How LoRaWAN uses channels:** Does it use multiple channels for communication? How are these channels selected?\n",
      "* **The benefits of channel diversity:** What are the advantages of using multiple channels in LoRaWAN?\n",
      "* **The limitations of channel diversity:** Are there any drawbacks to using multiple channels in LoRaWAN?\n",
      "\n",
      "Please provide more context about LoRaWAN and channel diversity so I can answer your question accurately. \n",
      "\n",
      "  - expected output: Channel diversity helps minimize interference and maximize network capacity by allowing devices to use multiple channels for communication.\n",
      "  - context: None\n",
      "  - retrieval context: ['LoRaWAN®', 'Limitations\\n\\nLoRaWAN is not suitable for every use-case, so it is important that you understand the limitations. Here’s a quick overview:']\n",
      "\n",
      "======================================================================\n",
      "\n",
      "Metrics Summary\n",
      "\n",
      "  - ✅ Answer Relevancy (score: 0.75, threshold: 0.7, strict: False, evaluation model: gpt-4o-mini, reason: The score is 0.75 because while the response provides relevant information about the LoRaWAN application server, it includes an irrelevant statement regarding downlink payloads that distracts from the main question., error: None)\n",
      "  - ❌ Faithfulness (score: 0.5, threshold: 0.7, strict: False, evaluation model: gpt-4o-mini, reason: The score is 0.50 because the actual output inaccurately states that the Application Server generates all application-layer downlink payloads, whereas the retrieval context specifically claims it only generates those for sending through the Network Server, leading to a misalignment in understanding., error: None)\n",
      "\n",
      "For test case:\n",
      "\n",
      "  - input: What is the role of the LoRaWAN application server?\n",
      "  - actual output: The LoRaWAN application server plays a crucial role in processing application-specific data messages received from end devices. It also generates downlink payloads for sending to connected end devices through the network server. \n",
      "\n",
      "  - expected output: The application server processes and stores data from end devices, manages application-specific logic, and sends control commands to devices.\n",
      "  - context: None\n",
      "  - retrieval context: ['Application Server\\n\\nThe Application Server processes application-specific data messages received from end devices. It also generates all the application-layer downlink payloads and sends them to the connected end devices through the Network Server. A LoRaWAN network can have more than one Application Server. The collected data can be interpreted by applying techniques like machine learning and artificial intelligence to solve business problems.', 'Definition:\\n\\nThe application server processes application-specific data messages received from end devices. It also generates all the application-layer downlink payloads and sends them to connected end devices through the network server. A LoRaWAN network can have more than one application server.']\n",
      "\n",
      "======================================================================\n",
      "\n",
      "Metrics Summary\n",
      "\n",
      "  - ✅ Answer Relevancy (score: 0.7, threshold: 0.7, strict: False, evaluation model: gpt-4o-mini, reason: The score is 0.70 because there were several irrelevant statements that did not directly address the question about how LoRaWAN optimizes power consumption, such as discussing limitations and vague terms. However, some relevant points were made, which is why the score is not lower., error: None)\n",
      "  - ✅ Faithfulness (score: 1.0, threshold: 0.7, strict: False, evaluation model: gpt-4o-mini, reason: The score is 1.00 because there are no contradictions, indicating that the actual output aligns perfectly with the retrieval context., error: None)\n",
      "\n",
      "For test case:\n",
      "\n",
      "  - input: How does LoRaWAN optimize power consumption for end devices?\n",
      "  - actual output: The provided context doesn't contain information about how LoRaWAN optimizes power consumption for end devices.  It only mentions that LoRaWAN has limitations and is not suitable for every use case. \n",
      "\n",
      "To answer your question, you'll need to look for additional information about LoRaWAN's power management features. Here are some common techniques used by LoRaWAN to optimize power consumption:\n",
      "\n",
      "* **Low Data Rates:** LoRaWAN uses low data rates, which reduces the amount of energy required to transmit data.\n",
      "* **Duty Cycling:** End devices are only allowed to transmit data at specific times, reducing their overall power consumption.\n",
      "* **Sleep Modes:** End devices can enter low-power sleep modes when not actively transmitting or receiving data.\n",
      "* **Adaptive Data Rates:** LoRaWAN can adjust the data rate based on signal strength and interference, further optimizing power consumption.\n",
      "\n",
      "To find more specific details about LoRaWAN's power optimization techniques, you can consult the LoRaWAN specification or search for resources on the LoRa Alliance website. \n",
      "\n",
      "  - expected output: LoRaWAN optimizes power consumption through low power modulation techniques, adaptive data rate (ADR), and energy-efficient communication classes.\n",
      "  - context: None\n",
      "  - retrieval context: ['LoRaWAN®', 'Limitations\\n\\nLoRaWAN is not suitable for every use-case, so it is important that you understand the limitations. Here’s a quick overview:']\n",
      "\n",
      "======================================================================\n",
      "\n",
      "Metrics Summary\n",
      "\n",
      "  - ✅ Answer Relevancy (score: 0.75, threshold: 0.7, strict: False, evaluation model: gpt-4o-mini, reason: The score is 0.75 because while the output addresses the question, it includes an irrelevant statement about the lack of context regarding types of gateways, which detracts from its overall relevance. However, the core question about types of gateways is acknowledged, justifying a score above 0.5., error: None)\n",
      "  - ❌ Faithfulness (score: 0.5, threshold: 0.7, strict: False, evaluation model: gpt-4o-mini, reason: The score is 0.50 because the actual output inaccurately states that the gateway receives LoRa messages from end devices only, while the retrieval context indicates it also forwards messages from other sources to the LoRaWAN network server., error: None)\n",
      "\n",
      "For test case:\n",
      "\n",
      "  - input: What are the different types of gateways in a LoRaWAN network?\n",
      "  - actual output: The provided context doesn't specify different types of gateways in a LoRaWAN network. It only mentions that each gateway is registered to a LoRaWAN network server and forwards messages from end devices. \n",
      "\n",
      "To answer your question, you would need to consult additional resources or documentation on LoRaWAN gateways. \n",
      "\n",
      "  - expected output: Types of gateways include indoor, outdoor, and industrial-grade gateways, each suited for different deployment environments and use cases.\n",
      "  - context: None\n",
      "  - retrieval context: ['Gateways\\n\\nEach gateway is registered (using configuration settings) to a LoRaWAN network server. A gateway receives LoRa messages from end devices and simply forwards them to the LoRaWAN network server. Gateways are connected to the Network Server using a backhaul like Cellular (3G/4G/5G), WiFi, Ethernet, fiber-optic or 2.4 GHz radio links.', 'Antenna Types\\n\\nIn this tutorial, you will learn about some of the popular antenna types used with LoRaWAN end devices and gateways.']\n",
      "\n",
      "======================================================================\n",
      "\n",
      "Metrics Summary\n",
      "\n",
      "  - ❌ Answer Relevancy (score: 0.25, threshold: 0.7, strict: False, evaluation model: gpt-4o-mini, reason: The score is 0.25 because while some information about LoRaWAN is provided, several irrelevant statements detract from the overall relevance to the question about device commissioning. The inclusion of irrelevant details about limitations and context without directly addressing the input question significantly lowers the score., error: None)\n",
      "  - ✅ Faithfulness (score: 1.0, threshold: 0.7, strict: False, evaluation model: gpt-4o-mini, reason: The score is 1.00 because there are no contradictions present, indicating a perfect alignment between the actual output and the retrieval context., error: None)\n",
      "\n",
      "For test case:\n",
      "\n",
      "  - input: How does LoRaWAN support device commissioning?\n",
      "  - actual output: The provided context doesn't contain information about how LoRaWAN supports device commissioning.  It only mentions that LoRaWAN has limitations and provides a brief overview of them. \n",
      "\n",
      "To answer your question, you'll need to consult additional resources about LoRaWAN device commissioning. \n",
      "\n",
      "  - expected output: LoRaWAN supports device commissioning by allowing devices to join the network through Over-the-Air Activation (OTAA) or Activation by Personalization (ABP).\n",
      "  - context: None\n",
      "  - retrieval context: ['LoRaWAN®', 'Limitations\\n\\nLoRaWAN is not suitable for every use-case, so it is important that you understand the limitations. Here’s a quick overview:']\n",
      "\n",
      "======================================================================\n",
      "\n",
      "Metrics Summary\n",
      "\n",
      "  - ✅ Answer Relevancy (score: 1.0, threshold: 0.7, strict: False, evaluation model: gpt-4o-mini, reason: The score is 1.00 because the response directly addresses the question about the role of LoRaWAN backend infrastructure without any irrelevant statements., error: None)\n",
      "  - ✅ Faithfulness (score: 0.9375, threshold: 0.7, strict: False, evaluation model: gpt-4o-mini, reason: The score is 0.94 because the actual output asserts that the Network Server ensures end devices are registered and authorized, which is not explicitly mentioned in the retrieval context., error: None)\n",
      "\n",
      "For test case:\n",
      "\n",
      "  - input: What role does the LoRaWAN backend infrastructure play?\n",
      "  - actual output: The LoRaWAN backend infrastructure, specifically the Network Server, plays a crucial role in managing the entire LoRaWAN network. Here's a breakdown of its key functions:\n",
      "\n",
      "* **Message Routing:** It acts as a central hub, receiving uplink messages from gateways (as IP traffic) and routing downlink messages to end devices.\n",
      "* **End Device Management:** It handles end device activation, ensuring they are properly registered and authorized to communicate on the network.\n",
      "* **Message Integrity:** It ensures message deduplication (preventing duplicate messages) and message acknowledgement (confirming successful message delivery).\n",
      "* **Network Optimization:** It performs geolocation of end devices, enabling network operators to understand device locations and optimize network coverage. It also manages adaptive data rate control, adjusting data rates for individual devices based on network conditions and device capabilities.\n",
      "\n",
      "In essence, the Network Server acts as the brain of the LoRaWAN network, orchestrating communication, managing devices, and ensuring efficient and reliable data transmission. \n",
      "\n",
      "  - expected output: The LoRaWAN backend infrastructure includes network servers and application servers, managing device communication, data routing, and security enforcement.\n",
      "  - context: None\n",
      "  - retrieval context: ['Definition:\\n\\nThe Network Server manages the LoRaWAN network. It receives uplink messages from gateways as IP traffic, and routes downlink messages for end devices. The Network Server is also responsible for end device activation, message deduplication, message acknowledgement, geolocation of end devices, and adaptive data rate control of the network.', 'Gateways\\n\\nEach gateway is registered (using configuration settings) to a LoRaWAN network server. A gateway receives LoRa messages from end devices and simply forwards them to the LoRaWAN network server. Gateways are connected to the Network Server using a backhaul like Cellular (3G/4G/5G), WiFi, Ethernet, fiber-optic or 2.4 GHz radio links.']\n",
      "\n",
      "======================================================================\n",
      "\n",
      "Metrics Summary\n",
      "\n",
      "  - ✅ Answer Relevancy (score: 1.0, threshold: 0.7, strict: False, evaluation model: gpt-4o-mini, reason: The score is 1.00 because the output directly addresses the advantages of using LoRaWAN for remote monitoring without including any irrelevant statements., error: None)\n",
      "  - ✅ Faithfulness (score: 0.8, threshold: 0.7, strict: False, evaluation model: gpt-4o-mini, reason: The score is 0.80 because the actual output suggests that LoRaWAN devices and gateways are low cost, while the retrieval context indicates that the CAPEX per node is less than 20€, which does not necessarily support the claim of being low cost., error: None)\n",
      "\n",
      "For test case:\n",
      "\n",
      "  - input: What are the advantages of using LoRaWAN for remote monitoring?\n",
      "  - actual output: Based on the provided context, here are the advantages of using LoRaWAN for remote monitoring:\n",
      "\n",
      "* **Long range:** LoRaWAN's long range capabilities allow for monitoring devices in remote locations without the need for complex infrastructure.\n",
      "* **Low power:**  The low power consumption of LoRaWAN devices means they can operate for years on a single battery, making them ideal for remote monitoring applications where battery replacement is difficult or impossible.\n",
      "* **Low cost:** The low cost of LoRaWAN devices and gateways makes it a cost-effective solution for remote monitoring, especially for large-scale deployments.\n",
      "* **Coverage everywhere:**  LoRaWAN allows you to build your own network, providing coverage in areas where traditional cellular networks are not available.\n",
      "* **Secure:** LoRaWAN's 128-bit end-to-end encryption ensures the security of data transmitted between devices and gateways. \n",
      "\n",
      "  - expected output: Advantages include long-range communication, low power consumption, secure data transmission, and the ability to cover large and remote areas.\n",
      "  - context: None\n",
      "  - retrieval context: ['Suitable use-cases for LoRaWAN:\\n\\n* **Long range** - multiple kilometers\\n* **Low power** - can last years on a battery\\n* **Low cost** - less than 20€ CAPEX per node, almost no OPEX\\n* **Low bandwidth** - between 250bit/s and 11kbit/s in Europe using LoRa modulation (depending on the spreading factor)\\n* **Coverage everywhere** - you are the network! Just install your own gateways\\n* **Secure** - 128bit end-to-end encrypted', 'Limitations\\n\\nLoRaWAN is not suitable for every use-case, so it is important that you understand the limitations. Here’s a quick overview:']\n",
      "\n",
      "======================================================================\n",
      "\n",
      "Metrics Summary\n",
      "\n",
      "  - ✅ Answer Relevancy (score: 0.75, threshold: 0.7, strict: False, evaluation model: gpt-4o-mini, reason: The score is 0.75 because while the response provided valuable information on LoRaWAN's security features, it included a statement that suggested limitations in those features, which did not directly address the question asked., error: None)\n",
      "  - ✅ Faithfulness (score: 0.75, threshold: 0.7, strict: False, evaluation model: gpt-4o-mini, reason: The score is 0.75 because the actual output incorrectly suggests that LoRaWAN uses both HTTPS and VPN together for securing communication, whereas the retrieval context clarifies that they are used separately., error: None)\n",
      "\n",
      "For test case:\n",
      "\n",
      "  - input: What are the security features of the LoRaWAN protocol?\n",
      "  - actual output: Based on the provided context, we can infer that LoRaWAN uses **HTTPS and VPN** to secure communication between network elements like the Network Server, Application Servers, and the Join Server. \n",
      "\n",
      "However, the context doesn't explicitly state that these are the only security features of LoRaWAN. It's possible that there are other security features not mentioned in the provided snippets. \n",
      "\n",
      "To get a complete picture of LoRaWAN's security features, you would need to consult the official LoRaWAN documentation or other reliable sources. \n",
      "\n",
      "  - expected output: LoRaWAN security features include end-to-end encryption, message integrity checks, and secure key exchange mechanisms to protect data and prevent unauthorized access.\n",
      "  - context: None\n",
      "  - retrieval context: ['Securing Communication Between Network Elements\\n\\nLoRaWAN uses HTTPS and VPN for securing communication among network elements (backend interfaces) such as the Network Server, Application Servers, and the Join Server.', 'LoRaWAN®']\n",
      "\n",
      "======================================================================\n",
      "\n",
      "Metrics Summary\n",
      "\n",
      "  - ❌ Answer Relevancy (score: 0.6666666666666666, threshold: 0.7, strict: False, evaluation model: gpt-4o-mini, reason: The score is 0.67 because the irrelevant statement regarding the lack of information about LBT in LoRaWAN detracts from the focus on its significance, which is crucial for a higher relevancy score., error: None)\n",
      "  - ✅ Faithfulness (score: 1.0, threshold: 0.7, strict: False, evaluation model: gpt-4o-mini, reason: The score is 1.00 because there are no contradictions, indicating that the actual output perfectly aligns with the retrieval context., error: None)\n",
      "\n",
      "For test case:\n",
      "\n",
      "  - input: What is the significance of listen-before-talk (LBT) in LoRaWAN?\n",
      "  - actual output: The provided context doesn't contain information about Listen-Before-Talk (LBT) in LoRaWAN. To answer your question, I need more context about LBT in LoRaWAN. \n",
      "\n",
      "Please provide me with additional information from the files mentioned or any other relevant resources. \n",
      "\n",
      "  - expected output: Listen-before-talk (LBT) is a feature that ensures a channel is clear before transmitting, reducing the risk of interference and improving communication reliability.\n",
      "  - context: None\n",
      "  - retrieval context: ['LoRaWAN®', 'Limitations\\n\\nLoRaWAN is not suitable for every use-case, so it is important that you understand the limitations. Here’s a quick overview:']\n",
      "\n",
      "======================================================================\n",
      "\n",
      "Metrics Summary\n",
      "\n",
      "  - ❌ Answer Relevancy (score: 0.25, threshold: 0.7, strict: False, evaluation model: gpt-4o-mini, reason: The score is 0.25 because several irrelevant statements failed to address the significance of the DevNonce in LoRaWAN, focusing instead on a lack of context or unrelated requests. However, there may be some relevant information present, which maintains a minimal score., error: None)\n",
      "  - ✅ Faithfulness (score: 1.0, threshold: 0.7, strict: False, evaluation model: gpt-4o-mini, reason: The score is 1.00 because there are no contradictions, indicating that the actual output perfectly aligns with the retrieval context., error: None)\n",
      "\n",
      "For test case:\n",
      "\n",
      "  - input: What is the significance of the DevNonce in LoRaWAN?\n",
      "  - actual output: The provided context doesn't contain information about the DevNonce. To answer your question about the significance of the DevNonce in LoRaWAN, I need more context. \n",
      "\n",
      "Please provide me with the content of the file \"11-limitations.md\" or any other relevant information about LoRaWAN and the DevNonce. \n",
      "\n",
      "  - expected output: The DevNonce is a unique value used during the join procedure to ensure the security of the key exchange process and prevent replay attacks.\n",
      "  - context: None\n",
      "  - retrieval context: ['LoRaWAN®', 'Limitations\\n\\nLoRaWAN is not suitable for every use-case, so it is important that you understand the limitations. Here’s a quick overview:']\n",
      "\n",
      "======================================================================\n",
      "\n",
      "Metrics Summary\n",
      "\n",
      "  - ❌ Answer Relevancy (score: 0.6923076923076923, threshold: 0.7, strict: False, evaluation model: gpt-4o-mini, reason: The score is 0.69 because the output includes several irrelevant statements that fail to address how LoRaWAN manages interference, suggesting instead to consult external resources without providing direct information., error: None)\n",
      "  - ✅ Faithfulness (score: 1.0, threshold: 0.7, strict: False, evaluation model: gpt-4o-mini, reason: The score is 1.00 because there are no contradictions, indicating a perfect alignment between the actual output and the retrieval context., error: None)\n",
      "\n",
      "For test case:\n",
      "\n",
      "  - input: How does LoRaWAN handle interference from other wireless technologies?\n",
      "  - actual output: The provided context doesn't contain information about how LoRaWAN handles interference from other wireless technologies. \n",
      "\n",
      "To answer your question, you'll need to consult additional resources about LoRaWAN. Here are some key points to consider:\n",
      "\n",
      "* **Spread Spectrum Technology:** LoRaWAN uses spread spectrum technology, which helps it resist interference by spreading the signal over a wider frequency band. This makes it less susceptible to narrowband interference from other devices.\n",
      "* **Adaptive Data Rates:** LoRaWAN devices can adjust their data rates to optimize performance in the presence of interference. If interference is detected, the device can switch to a lower data rate to ensure reliable communication.\n",
      "* **Channel Hopping:** Some LoRaWAN implementations use channel hopping, where the device switches between different frequencies to avoid persistent interference sources.\n",
      "\n",
      "To get a more comprehensive understanding of LoRaWAN's interference handling capabilities, I recommend researching the following:\n",
      "\n",
      "* **LoRaWAN specifications:** The official LoRaWAN specifications will provide detailed information about the technology's interference mitigation techniques.\n",
      "* **Technical articles and white papers:** Many resources are available online that discuss LoRaWAN's performance in the presence of interference.\n",
      "* **Manufacturer documentation:** The documentation for specific LoRaWAN devices and gateways will often provide information about their interference handling capabilities. \n",
      "\n",
      "  - expected output: LoRaWAN handles interference using spread spectrum modulation, which makes it resistant to interference from other wireless technologies operating in the same frequency bands.\n",
      "  - context: None\n",
      "  - retrieval context: ['LoRaWAN®', 'Limitations\\n\\nLoRaWAN is not suitable for every use-case, so it is important that you understand the limitations. Here’s a quick overview:']\n",
      "\n",
      "======================================================================\n",
      "\n",
      "Metrics Summary\n",
      "\n",
      "  - ✅ Answer Relevancy (score: 1.0, threshold: 0.7, strict: False, evaluation model: gpt-4o-mini, reason: The score is 1.00 because the response directly addresses the input question about the role of the join procedure in LoRaWAN without any irrelevant statements., error: None)\n",
      "  - ✅ Faithfulness (score: 0.8571428571428571, threshold: 0.7, strict: False, evaluation model: gpt-4o-mini, reason: The score is 0.86 because the actual output incorrectly claims that the Join Server generates unique session keys, whereas the retrieval context only mentions that it generates session keys without specifying their uniqueness., error: None)\n",
      "\n",
      "For test case:\n",
      "\n",
      "  - input: What is the role of the join procedure in LoRaWAN?\n",
      "  - actual output: The join procedure in LoRaWAN is the process by which an end device securely activates itself and establishes communication with the network. This involves:\n",
      "\n",
      "* **Sending a Join-request message:** The end device initiates the join procedure by sending a Join-request message to the Join Server through the Network Server.\n",
      "* **Generating session keys:** The Join Server processes the Join-request message, generates unique session keys (NwkSKey and AppSKey) for the device.\n",
      "* **Transferring session keys:** The Join Server securely transfers the NwkSKey to the Network Server and the AppSKey to the Application Server.\n",
      "\n",
      "This process ensures secure communication between the end device, the network, and the application server. \n",
      "\n",
      "  - expected output: The join procedure authenticates and securely connects a device to the network, using Over-the-Air Activation (OTAA) or Activation by Personalization (ABP).\n",
      "  - context: None\n",
      "  - retrieval context: ['Join Server\\n\\nThe Join Server assists in secure device activation, root key storage, and session key generation. The join procedure is initiated by the end device by sending the Join-request message to the Join Server through the Network Server. The Join-server processes the Join-request message, generates session keys, and transfers NwkSKey and AppSKey to the Network server and the Application server respectively.\\nThe Join Server was first introduced with LoRaWAN v1.1. It is also availabe in LoRaWAN v1.0.4.', 'Definition:\\n\\nThe Join Server processes join-request messages sent by end devices. It stores root keys, generates session keys, and transfers those session keys to the network server and the application server. The Join Server is introduced in LoRaWAN 1.1 and 1.0.4.']\n",
      "\n",
      "======================================================================\n",
      "\n",
      "Metrics Summary\n",
      "\n",
      "  - ✅ Answer Relevancy (score: 1.0, threshold: 0.7, strict: False, evaluation model: gpt-4o-mini, reason: The score is 1.00 because the response directly addressed the question about the role of the LoRaWAN alliance without including any irrelevant statements., error: None)\n",
      "  - ✅ Faithfulness (score: 1.0, threshold: 0.7, strict: False, evaluation model: gpt-4o-mini, reason: The score is 1.00 because there are no contradictions, indicating perfect alignment between the actual output and the retrieval context., error: None)\n",
      "\n",
      "For test case:\n",
      "\n",
      "  - input: What is the role of the LoRaWAN alliance?\n",
      "  - actual output: The LoRa Alliance is an open, non-profit association that supports the development of the LoRaWAN protocol and ensures interoperability of all LoRaWAN products and technologies. \n",
      "\n",
      "  - expected output: The LoRaWAN alliance promotes the global adoption and development of the LoRaWAN protocol, ensuring interoperability and driving industry standards.\n",
      "  - context: None\n",
      "  - retrieval context: ['LoRa Alliance\\n\\nThe LoRa Alliance® is an open, non-profit association established in 2015. It supports development of the LoRaWAN protocol and ensures interoperability of all LoRaWAN products and technologies. Today, the LoRa Alliance has over 500 members around the globe .\\nThe LoRa Alliance provides LoRaWAN certification for end devices. Certified end devices provide users with confidence that the end device is reliable and compliant with the LoRaWAN specification. You can learn more about LoRaWAN certification by visiting the LoRa Alliance website . Certification is only available for device manufacturers that are members of the LoRa Alliance. Once certified, the manufacturer can use the LoRaWAN Certified mark with the product.', 'LoRaWAN®']\n",
      "\n",
      "======================================================================\n",
      "\n",
      "Metrics Summary\n",
      "\n",
      "  - ❌ Answer Relevancy (score: 0.0, threshold: 0.7, strict: False, evaluation model: gpt-4o-mini, reason: The score is 0.00 because the output fails to provide relevant information on how LoRaWAN handles message retries and suggests looking elsewhere, which does not address the user's query., error: None)\n",
      "  - ✅ Faithfulness (score: 1.0, threshold: 0.7, strict: False, evaluation model: gpt-4o-mini, reason: The score is 1.00 because there are no contradictions, indicating complete alignment between the actual output and the retrieval context., error: None)\n",
      "\n",
      "For test case:\n",
      "\n",
      "  - input: How does LoRaWAN handle message retries?\n",
      "  - actual output: The provided context doesn't contain information about how LoRaWAN handles message retries.  You'll need to look for information in other files or resources to find the answer. \n",
      "\n",
      "  - expected output: LoRaWAN handles message retries by allowing devices to retransmit unacknowledged messages, using features like adaptive data rate (ADR) to optimize retries.\n",
      "  - context: None\n",
      "  - retrieval context: ['LoRaWAN®', 'Limitations\\n\\nLoRaWAN is not suitable for every use-case, so it is important that you understand the limitations. Here’s a quick overview:']\n",
      "\n",
      "======================================================================\n",
      "\n",
      "Metrics Summary\n",
      "\n",
      "  - ❌ Answer Relevancy (score: 0.0, threshold: 0.7, strict: False, evaluation model: gpt-4o-mini, reason: The score is 0.00 because the output fails to address the specific question about LoRaWAN's support for time synchronization in Class B devices, instead providing irrelevant information that does not contribute to the inquiry., error: None)\n",
      "  - ✅ Faithfulness (score: 1.0, threshold: 0.7, strict: False, evaluation model: gpt-4o-mini, reason: The score is 1.00 because there are no contradictions, indicating that the actual output perfectly aligns with the retrieval context., error: None)\n",
      "\n",
      "For test case:\n",
      "\n",
      "  - input: How does LoRaWAN support time synchronization for Class B devices?\n",
      "  - actual output: The provided context does not contain information about how LoRaWAN supports time synchronization for Class B devices. \n",
      "\n",
      "To answer your question, you would need to consult additional documentation or resources specifically related to LoRaWAN Class B device time synchronization. \n",
      "\n",
      "  - expected output: LoRaWAN supports time synchronization for Class B devices through periodic beacons sent by gateways, enabling scheduled receive windows for downlink messages.\n",
      "  - context: None\n",
      "  - retrieval context: ['Device Classes\\n\\nThe LoRaWAN specification defines three device types: Class A , Class B , and Class C . All LoRaWAN devices must implement Class A, whereas Class B and Class C are extensions to the specification of Class A devices. All device classes support bi-directional communication (uplink and downlink). During firmware upgrades over-the-air (FUOTA), a device must be switched to Class B or Class C.', 'LoRaWAN®']\n",
      "\n",
      "======================================================================\n",
      "\n",
      "Metrics Summary\n",
      "\n",
      "  - ❌ Answer Relevancy (score: 0.5714285714285714, threshold: 0.7, strict: False, evaluation model: gpt-4o-mini, reason: The score is 0.57 because while the output contains some relevant information about LoRaWAN, it also includes vague statements like 'Dynamic.', 'Efficient.', and 'Security.' that do not directly address the specific purpose of the device address (DevAddr). These irrelevant statements lower the score, as they detract from the clarity and focus needed to answer the question., error: None)\n",
      "  - ❌ Faithfulness (score: 0.625, threshold: 0.7, strict: False, evaluation model: gpt-4o-mini, reason: The score is 0.62 because the actual output contradicts the retrieval context by stating that the DevAddr is assigned during activation, when it is actually dynamically assigned for communication. Additionally, it incorrectly implies that shorter addresses improve efficiency without acknowledging the unique benefits of the DevEUI., error: None)\n",
      "\n",
      "For test case:\n",
      "\n",
      "  - input: What is the purpose of the device address (DevAddr) in LoRaWAN?\n",
      "  - actual output: The device address (DevAddr) in LoRaWAN is used for **communication** between the device and the network. It's a dynamic 32-bit address that is assigned to the device during the activation process. \n",
      "\n",
      "Here's why it's important:\n",
      "\n",
      "* **Dynamic:**  It allows for a large number of devices to be connected to the network, as the DevAddr can be reused by different devices over time.\n",
      "* **Efficient:**  Using a shorter address (32 bits) compared to the unique DevEUI (64 bits) makes communication more efficient.\n",
      "* **Security:**  The DevAddr is assigned during activation, which involves a secure process that ensures the device is authorized to use the network. \n",
      "\n",
      "  - expected output: The device address (DevAddr) uniquely identifies a device within the network, used for addressing and routing messages between devices and the network server.\n",
      "  - context: None\n",
      "  - retrieval context: ['Addressing\\n\\nLoRaWAN knows a number of identifiers for devices, applications and gateways.\\n* `DevEUI` - 64 bit end-device identifier, EUI-64 (unique)\\n* `DevAddr` - 32 bit device address (non-unique)\\n* `AppEUI` - 64 bit application identifier, EUI-64 (unique)\\n* `GatewayEUI` - 64 bit gateway identifier, EUI-64 (unique)', 'Activation\\n\\nLoRaWAN devices have a 64 bit unique identifier ( DevEUI ) that is assigned to the device by the chip manufacturer. However, all communication is done with a dynamic 32 bit device address ( DevAddr ) of which 7 bits are fixed for The Things Network, leaving 25 bits that can be assigned to individual devices, a procedure called Activation .']\n",
      "\n",
      "======================================================================\n",
      "\n",
      "Metrics Summary\n",
      "\n",
      "  - ✅ Answer Relevancy (score: 0.8888888888888888, threshold: 0.7, strict: False, evaluation model: gpt-4o-mini, reason: The score is 0.89 because while the response was mostly relevant, it lacked specific details on how LoRaWAN addresses device decommissioning, which detracted from its overall completeness., error: None)\n",
      "  - ✅ Faithfulness (score: 0.8, threshold: 0.7, strict: False, evaluation model: gpt-4o-mini, reason: The score is 0.80 because the actual output incorrectly introduces details about LoRaWAN implementation guides and device decommissioning that are not present in the retrieval context., error: None)\n",
      "\n",
      "For test case:\n",
      "\n",
      "  - input: How does LoRaWAN handle device decommissioning?\n",
      "  - actual output: The provided context doesn't contain information about how LoRaWAN handles device decommissioning.  \n",
      "\n",
      "To answer your question, you'll need to consult additional resources about LoRaWAN, such as:\n",
      "\n",
      "* **The LoRaWAN specification:** This document will outline the protocol's features and how devices are managed.\n",
      "* **LoRaWAN implementation guides:** These guides often provide details on specific aspects of the protocol, including device decommissioning.\n",
      "* **Online forums and communities:**  LoRaWAN developers and users often discuss these topics in online forums and communities. \n",
      "\n",
      "Let me know if you have other questions about LoRaWAN. \n",
      "\n",
      "  - expected output: LoRaWAN handles device decommissioning by removing the device from the network server and invalidating its keys, ensuring it cannot communicate with the network.\n",
      "  - context: None\n",
      "  - retrieval context: ['LoRaWAN®', 'Limitations\\n\\nLoRaWAN is not suitable for every use-case, so it is important that you understand the limitations. Here’s a quick overview:']\n",
      "\n",
      "======================================================================\n",
      "\n",
      "Metrics Summary\n",
      "\n",
      "  - ✅ Answer Relevancy (score: 0.8, threshold: 0.7, strict: False, evaluation model: gpt-4o-mini, reason: The score is 0.80 because while the response addresses the significance of the LoRaWAN ADR feature, it includes an irrelevant statement regarding the lack of context information, which detracts from its focus on the main question., error: None)\n",
      "  - ✅ Faithfulness (score: 1.0, threshold: 0.7, strict: False, evaluation model: gpt-4o-mini, reason: The score is 1.00 because there are no contradictions, indicating that the actual output fully aligns with the retrieval context., error: None)\n",
      "\n",
      "For test case:\n",
      "\n",
      "  - input: What is the significance of the LoRaWAN adaptive data rate (ADR) feature?\n",
      "  - actual output: The provided context doesn't contain information about the significance of the LoRaWAN adaptive data rate (ADR) feature. The context only mentions that there is a file named \"10-adaptive-data-rate.md\" which likely contains information about ADR. \n",
      "\n",
      "To answer your question, I need the content of the file \"10-adaptive-data-rate.md\". Please provide the content of that file. \n",
      "\n",
      "  - expected output: The adaptive data rate (ADR) feature optimizes the data rate and power consumption of devices, improving battery life and network capacity.\n",
      "  - context: None\n",
      "  - retrieval context: ['ADR in The Things Stack', 'Limitations\\n\\nLoRaWAN is not suitable for every use-case, so it is important that you understand the limitations. Here’s a quick overview:']\n",
      "\n",
      "======================================================================\n",
      "\n",
      "Metrics Summary\n",
      "\n",
      "  - ❌ Answer Relevancy (score: 0.25, threshold: 0.7, strict: False, evaluation model: gpt-4o-mini, reason: The score is 0.25 because the output included several irrelevant statements that did not directly address the question about how LoRaWAN gateways synchronize with end devices, such as discussing the lack of information and the general role of gateways., error: None)\n",
      "  - ✅ Faithfulness (score: 1.0, threshold: 0.7, strict: False, evaluation model: gpt-4o-mini, reason: The score is 1.00 because there are no contradictions, indicating that the actual output aligns perfectly with the retrieval context., error: None)\n",
      "\n",
      "For test case:\n",
      "\n",
      "  - input: How do LoRaWAN gateways synchronize with end devices?\n",
      "  - actual output: The provided context does not contain information about how LoRaWAN gateways synchronize with end devices. \n",
      "\n",
      "The text describes the role of gateways in forwarding messages from end devices to the LoRaWAN network server, but it doesn't mention the synchronization process. \n",
      "\n",
      "To answer your question, you would need to consult additional resources or documentation specific to LoRaWAN synchronization mechanisms. \n",
      "\n",
      "  - expected output: LoRaWAN gateways synchronize with end devices using beacons and timestamps, ensuring accurate timing for scheduled communications, especially for Class B devices.\n",
      "  - context: None\n",
      "  - retrieval context: ['Gateways\\n\\nEach gateway is registered (using configuration settings) to a LoRaWAN network server. A gateway receives LoRa messages from end devices and simply forwards them to the LoRaWAN network server. Gateways are connected to the Network Server using a backhaul like Cellular (3G/4G/5G), WiFi, Ethernet, fiber-optic or 2.4 GHz radio links.', 'LoRaWAN®']\n",
      "\n",
      "======================================================================\n",
      "\n",
      "Metrics Summary\n",
      "\n",
      "  - ✅ Answer Relevancy (score: 0.8571428571428571, threshold: 0.7, strict: False, evaluation model: gpt-4o-mini, reason: The score is 0.86 because while the output contains relevant information about LoRaWAN, it includes some irrelevant statements that do not directly address the question of how LoRaWAN facilitates data aggregation. These irrelevant statements prevent the score from being higher, but the overall response still provides valuable insights related to the topic., error: None)\n",
      "  - ✅ Faithfulness (score: 1.0, threshold: 0.7, strict: False, evaluation model: gpt-4o-mini, reason: The score is 1.00 because there are no contradictions, indicating perfect alignment between the actual output and the retrieval context., error: None)\n",
      "\n",
      "For test case:\n",
      "\n",
      "  - input: How does LoRaWAN facilitate data aggregation?\n",
      "  - actual output: The provided context doesn't offer any information about how LoRaWAN facilitates data aggregation.  \n",
      "\n",
      "To answer your question, we need more information about LoRaWAN.  \n",
      "\n",
      "**Here's what we need to know:**\n",
      "\n",
      "* **LoRaWAN Architecture:** How is LoRaWAN structured? Does it have a star topology, a mesh network, or something else?\n",
      "* **Data Transmission:** How does LoRaWAN handle data transmission between devices and gateways?\n",
      "* **Network Server:** What role does the network server play in LoRaWAN?\n",
      "\n",
      "**Once we have this information, we can explain how LoRaWAN facilitates data aggregation.**\n",
      "\n",
      "**Here's a general explanation of data aggregation in LoRaWAN:**\n",
      "\n",
      "LoRaWAN can facilitate data aggregation through its network architecture and communication protocols. Here's how:\n",
      "\n",
      "* **Gateway Aggregation:** Gateways can collect data from multiple end devices and aggregate it before sending it to the network server. This reduces the number of transmissions and saves bandwidth.\n",
      "* **Network Server Aggregation:** The network server can further aggregate data from multiple gateways, reducing the amount of data that needs to be sent to the application server.\n",
      "* **Data Filtering:** LoRaWAN allows for data filtering, so only relevant data is transmitted. This can reduce the amount of data that needs to be aggregated.\n",
      "\n",
      "**Note:** The specific implementation of data aggregation in LoRaWAN can vary depending on the network provider and the application. \n",
      "\n",
      "  - expected output: LoRaWAN facilitates data aggregation by collecting data from multiple end devices at gateways and forwarding it to centralized network and application servers.\n",
      "  - context: None\n",
      "  - retrieval context: ['LoRaWAN®', 'LoRa']\n",
      "\n",
      "======================================================================\n",
      "\n",
      "Metrics Summary\n",
      "\n",
      "  - ✅ Answer Relevancy (score: 1.0, threshold: 0.7, strict: False, evaluation model: gpt-4o-mini, reason: The score is 1.00 because the response is fully relevant and directly addresses the significance of the DevEUI in LoRaWAN without any irrelevant statements., error: None)\n",
      "  - ✅ Faithfulness (score: 1.0, threshold: 0.7, strict: False, evaluation model: gpt-4o-mini, reason: The score is 1.00 because there are no contradictions, indicating that the actual output aligns perfectly with the retrieval context., error: None)\n",
      "\n",
      "For test case:\n",
      "\n",
      "  - input: What is the significance of the DevEUI in LoRaWAN?\n",
      "  - actual output: The DevEUI is a **64-bit unique identifier** assigned to each LoRaWAN device by the chip manufacturer. It serves as the **permanent and globally unique identifier** for the device, ensuring that it can be distinguished from all other LoRaWAN devices. \n",
      "\n",
      "  - expected output: The DevEUI is a unique identifier for each LoRaWAN device, used during the join procedure and for device management in the network.\n",
      "  - context: None\n",
      "  - retrieval context: ['Addressing\\n\\nLoRaWAN knows a number of identifiers for devices, applications and gateways.\\n* `DevEUI` - 64 bit end-device identifier, EUI-64 (unique)\\n* `DevAddr` - 32 bit device address (non-unique)\\n* `AppEUI` - 64 bit application identifier, EUI-64 (unique)\\n* `GatewayEUI` - 64 bit gateway identifier, EUI-64 (unique)', 'Activation\\n\\nLoRaWAN devices have a 64 bit unique identifier ( DevEUI ) that is assigned to the device by the chip manufacturer. However, all communication is done with a dynamic 32 bit device address ( DevAddr ) of which 7 bits are fixed for The Things Network, leaving 25 bits that can be assigned to individual devices, a procedure called Activation .']\n",
      "\n",
      "======================================================================\n",
      "\n",
      "Metrics Summary\n",
      "\n",
      "  - ✅ Answer Relevancy (score: 0.7777777777777778, threshold: 0.7, strict: False, evaluation model: gpt-4o-mini, reason: The score is 0.78 because while the response contains useful information, it includes irrelevant statements that do not directly address the question about LoRaWAN acknowledgments. The presence of these unrelated comments prevents the score from being higher, but the relevant parts still provide a solid foundation of understanding., error: None)\n",
      "  - ✅ Faithfulness (score: 1.0, threshold: 0.7, strict: False, evaluation model: gpt-4o-mini, reason: The score is 1.00 because there are no contradictions, indicating perfect alignment between the actual output and the retrieval context., error: None)\n",
      "\n",
      "For test case:\n",
      "\n",
      "  - input: How does LoRaWAN handle acknowledgments for message delivery?\n",
      "  - actual output: The provided context doesn't contain information about how LoRaWAN handles acknowledgments for message delivery. \n",
      "\n",
      "To answer your question, we need more information about LoRaWAN.  \n",
      "\n",
      "**Here's what you can do:**\n",
      "\n",
      "* **Provide more context:**  Share the content of the file \"15-glossary.md\" or any other relevant documentation about LoRaWAN.\n",
      "* **Specify your search:**  Be more specific about what you're looking for. For example, are you interested in:\n",
      "    * **The mechanism used for acknowledgments:**  Is it through a separate message, a specific field in the data packet, or something else?\n",
      "    * **The frequency of acknowledgments:**  Are acknowledgments sent for every message, or only for certain types of messages?\n",
      "    * **The handling of lost acknowledgments:**  What happens if an acknowledgment is not received?\n",
      "\n",
      "Once you provide more information, I can help you understand how LoRaWAN handles acknowledgments. \n",
      "\n",
      "  - expected output: LoRaWAN can handle acknowledgments by using confirmed messages, where the receiver sends an acknowledgment back to the sender.\n",
      "  - context: None\n",
      "  - retrieval context: ['LoRaWAN®', 'LoRa']\n",
      "\n",
      "======================================================================\n",
      "\n",
      "Metrics Summary\n",
      "\n",
      "  - ✅ Answer Relevancy (score: 0.9230769230769231, threshold: 0.7, strict: False, evaluation model: gpt-4o-mini, reason: The score is 0.92 because while the response addresses the question about LoRaWAN's handling of multi-gateway environments effectively, it includes an irrelevant statement that does not contribute to the understanding of the topic., error: None)\n",
      "  - ✅ Faithfulness (score: 0.7777777777777778, threshold: 0.7, strict: False, evaluation model: gpt-4o-mini, reason: The score is 0.78 because the actual output inaccurately states the network server's role in managing communication and receiving messages, whereas the retrieval context only indicates that gateways are registered and forward messages to the server., error: None)\n",
      "\n",
      "For test case:\n",
      "\n",
      "  - input: How does LoRaWAN handle multi-gateway environments?\n",
      "  - actual output: The provided context doesn't explicitly mention how LoRaWAN handles multi-gateway environments.  However, we can infer some information:\n",
      "\n",
      "* **Gateways forward messages to the network server:** This implies that multiple gateways can exist in a network and each will independently forward messages they receive from end devices.\n",
      "* **Gateways are registered to a LoRaWAN network server:** This suggests that the network server is responsible for managing the communication from multiple gateways.\n",
      "\n",
      "Based on this, we can assume that LoRaWAN likely handles multi-gateway environments by:\n",
      "\n",
      "* **Centralized message handling:** The network server acts as a central point for receiving messages from all gateways.\n",
      "* **Redundancy and reliability:** Having multiple gateways increases the likelihood of successful message delivery, as even if one gateway fails, others can still transmit data.\n",
      "* **Network optimization:** The network server can potentially optimize message routing based on gateway locations and network conditions.\n",
      "\n",
      "**To get a more definitive answer, you would need to consult additional documentation or resources specifically addressing LoRaWAN multi-gateway environments.** \n",
      "\n",
      "  - expected output: LoRaWAN handles multi-gateway environments by allowing devices to communicate with multiple gateways, improving network reliability and coverage.\n",
      "  - context: None\n",
      "  - retrieval context: ['Gateways\\n\\nEach gateway is registered (using configuration settings) to a LoRaWAN network server. A gateway receives LoRa messages from end devices and simply forwards them to the LoRaWAN network server. Gateways are connected to the Network Server using a backhaul like Cellular (3G/4G/5G), WiFi, Ethernet, fiber-optic or 2.4 GHz radio links.', 'Limitations\\n\\nLoRaWAN is not suitable for every use-case, so it is important that you understand the limitations. Here’s a quick overview:']\n",
      "\n",
      "======================================================================\n",
      "\n",
      "Metrics Summary\n",
      "\n",
      "  - ❌ Answer Relevancy (score: 0.25, threshold: 0.7, strict: False, evaluation model: gpt-4o-mini, reason: The score is 0.25 because the output included several irrelevant statements that did not address how LoRaWAN ensures fair use of spectrum, such as discussing limitations and definitions instead of the actual mechanisms of spectrum management., error: None)\n",
      "  - ✅ Faithfulness (score: 1.0, threshold: 0.7, strict: False, evaluation model: gpt-4o-mini, reason: The score is 1.00 because there are no contradictions, indicating perfect alignment between the actual output and the retrieval context., error: None)\n",
      "\n",
      "For test case:\n",
      "\n",
      "  - input: How does LoRaWAN ensure fair use of spectrum?\n",
      "  - actual output: The provided context does not contain information about how LoRaWAN ensures fair use of spectrum. \n",
      "\n",
      "The first file discusses limitations of LoRaWAN, and the second file simply defines the term \"LoRaWAN\".  To answer your question, you would need to consult additional resources on LoRaWAN technology and its spectrum management practices. \n",
      "\n",
      "  - expected output: LoRaWAN uses features like duty cycle limitations and listen-before-talk (LBT) to ensure fair and efficient use of the spectrum, avoiding interference.\n",
      "  - context: None\n",
      "  - retrieval context: ['Limitations\\n\\nLoRaWAN is not suitable for every use-case, so it is important that you understand the limitations. Here’s a quick overview:', 'LoRaWAN®']\n",
      "\n",
      "======================================================================\n",
      "\n",
      "Metrics Summary\n",
      "\n",
      "  - ❌ Answer Relevancy (score: 0.4, threshold: 0.7, strict: False, evaluation model: gpt-4o-mini, reason: The score is 0.40 because several irrelevant statements were included, such as those discussing file names and context details that do not address the question about LoRaWAN message types. These distractions lower the overall relevance, but some useful information may still have been present, justifying the current score., error: None)\n",
      "  - ✅ Faithfulness (score: 0.75, threshold: 0.7, strict: False, evaluation model: gpt-4o-mini, reason: The score is 0.75 because the actual output focuses solely on file names and creation dates, neglecting the important context regarding popular antenna types used with LoRaWAN end devices and gateways., error: None)\n",
      "\n",
      "For test case:\n",
      "\n",
      "  - input: What are the different message types in LoRaWAN?\n",
      "  - actual output: The provided context does not contain information about different message types in LoRaWAN. It only mentions the file names and creation dates of two files, one about LoRaWAN and the other about antenna types. \n",
      "\n",
      "To answer your question about LoRaWAN message types, you would need to consult a different source, such as the LoRaWAN specification or a dedicated tutorial on LoRaWAN messaging. \n",
      "\n",
      "  - expected output: LoRaWAN messages include join requests, join accepts, uplink messages, downlink messages, and acknowledgments.\n",
      "  - context: None\n",
      "  - retrieval context: ['LoRaWAN®', 'Antenna Types\\n\\nIn this tutorial, you will learn about some of the popular antenna types used with LoRaWAN end devices and gateways.']\n",
      "\n",
      "======================================================================\n",
      "\n",
      "Metrics Summary\n",
      "\n",
      "  - ❌ Answer Relevancy (score: 0.25, threshold: 0.7, strict: False, evaluation model: gpt-4o-mini, reason: The score is 0.25 because while some relevant information may be present, a significant portion of the output included irrelevant statements that did not address the question about typical applications of LoRaWAN in smart cities., error: None)\n",
      "  - ✅ Faithfulness (score: 1.0, threshold: 0.7, strict: False, evaluation model: gpt-4o-mini, reason: The score is 1.00 because there are no contradictions, indicating a perfect alignment between the actual output and the retrieval context., error: None)\n",
      "\n",
      "For test case:\n",
      "\n",
      "  - input: What are the typical applications of LoRaWAN in smart cities?\n",
      "  - actual output: The provided context doesn't give any information about the typical applications of LoRaWAN in smart cities. It only mentions that LoRaWAN has limitations and is not suitable for every use-case. \n",
      "\n",
      "To answer your question, we need more information about LoRaWAN's capabilities and applications in smart cities. \n",
      "\n",
      "  - expected output: Applications include smart lighting, waste management, air quality monitoring, parking management, and water distribution systems.\n",
      "  - context: None\n",
      "  - retrieval context: ['LoRaWAN®', 'Limitations\\n\\nLoRaWAN is not suitable for every use-case, so it is important that you understand the limitations. Here’s a quick overview:']\n",
      "\n",
      "======================================================================\n",
      "\n",
      "Metrics Summary\n",
      "\n",
      "  - ❌ Answer Relevancy (score: 0.3333333333333333, threshold: 0.7, strict: False, evaluation model: gpt-4o-mini, reason: The score is 0.33 because several irrelevant statements detracted from the focus on the benefits of LoRaWAN, such as discussing the provided context and limitations instead of directly addressing the benefits requested., error: None)\n",
      "  - ✅ Faithfulness (score: 1.0, threshold: 0.7, strict: False, evaluation model: gpt-4o-mini, reason: The score is 1.00 because there are no contradictions, indicating perfect alignment between the actual output and the retrieval context., error: None)\n",
      "\n",
      "For test case:\n",
      "\n",
      "  - input: What are the benefits of using LoRaWAN for industrial IoT applications?\n",
      "  - actual output: The provided context doesn't mention the benefits of using LoRaWAN for industrial IoT applications. It only discusses the limitations. \n",
      "\n",
      "To answer your question, you'll need to provide additional context or information about the benefits of LoRaWAN in industrial IoT. \n",
      "\n",
      "  - expected output: Benefits include long-range communication, low power consumption, robust security, and the ability to support a large number of devices in diverse industrial environments.\n",
      "  - context: None\n",
      "  - retrieval context: ['LoRaWAN®', 'Limitations\\n\\nLoRaWAN is not suitable for every use-case, so it is important that you understand the limitations. Here’s a quick overview:']\n",
      "\n",
      "======================================================================\n",
      "\n",
      "Metrics Summary\n",
      "\n",
      "  - ✅ Answer Relevancy (score: 1.0, threshold: 0.7, strict: False, evaluation model: gpt-4o-mini, reason: The score is 1.00 because the response directly addresses the question about the role of the application session key (AppSKey) in LoRaWAN without any irrelevant statements., error: None)\n",
      "  - ❌ Faithfulness (score: 0.6666666666666666, threshold: 0.7, strict: False, evaluation model: gpt-4o-mini, reason: The score is 0.67 because the actual output inaccurately states that only the owner can read messages, contradicting the retrieval context which claims that only authorized parties can access message contents., error: None)\n",
      "\n",
      "For test case:\n",
      "\n",
      "  - input: What is the role of the application session key (AppSKey) in LoRaWAN?\n",
      "  - actual output: The Application Session Key (AppSKey) in LoRaWAN is used for **encryption and decryption of the payload**. This means that the data sent between the device and the application server is protected, ensuring only authorized parties can read the message contents. \n",
      "\n",
      "  - expected output: The application session key (AppSKey) is used to encrypt and decrypt the payload of messages between a device and the application server, ensuring data confidentiality.\n",
      "  - context: None\n",
      "  - retrieval context: ['Session Keys\\n\\nWhen a device joins the network (this is called a join or activation), an application session key AppSKey and a network session key NwkSKey are generated. The NwkSKey is shared with the network, while the AppSKey is kept private. These session keys will be used for the duration of the session.\\nThe Network Session Key ( NwkSKey ) is used for interaction between the Node and the Network Server. This key is used to validate the integrity of each message by its Message Integrity Code (MIC check). This MIC is similar to a checksum, except that it prevents intentional tampering with a message. For this, LoRaWAN uses AES-CMAC. In the backend of The Things Network this validation is also used to map a non-unique device address ( DevAddr ) to a unique DevEUI and AppEUI .\\nThe Application Session Key ( AppSKey ) is used for encryption and decryption of the payload. The payload is fully encrypted between the Node and the Handler/Application Server component of The Things Network (which you will be able to run on your own server). This means that nobody except you is able to read the contents of messages you send or receive.\\nThese two session keys ( NwkSKey and AppSKey ) are unique per device, per session. If you dynamically activate your device (OTAA), these keys are re-generated on every activation. If you statically activate your device (ABP), these keys stay the same until you change them.', 'Application Key\\n\\nThe application key ( AppKey ) is only known by the device and by the application. Dynamically activated devices (OTAA) use the Application Key ( AppKey ) to derive the two session keys during the activation procedure. In The Things Network you can have a AppKey which will be used to activate all devices, or customize the AppKey per device.']\n",
      "\n",
      "======================================================================\n",
      "\n",
      "Metrics Summary\n",
      "\n",
      "  - ❌ Answer Relevancy (score: 0.3333333333333333, threshold: 0.7, strict: False, evaluation model: gpt-4o-mini, reason: The score is 0.33 because the output included irrelevant statements that discussed limitations of LoRaWAN and failed to focus on its advantages for smart metering., error: None)\n",
      "  - ✅ Faithfulness (score: 1.0, threshold: 0.7, strict: False, evaluation model: gpt-4o-mini, reason: The score is 1.00 because there are no contradictions, indicating perfect alignment between the actual output and the retrieval context., error: None)\n",
      "\n",
      "For test case:\n",
      "\n",
      "  - input: What are the advantages of using LoRaWAN for smart metering?\n",
      "  - actual output: The provided context doesn't contain information about the advantages of using LoRaWAN for smart metering. It only mentions the limitations of LoRaWAN. \n",
      "\n",
      "To answer your question, you'll need to provide additional context or information about the advantages of LoRaWAN for smart metering. \n",
      "\n",
      "  - expected output: Advantages include long-range communication, low power consumption, secure data transmission, and the ability to handle large-scale deployments.\n",
      "  - context: None\n",
      "  - retrieval context: ['LoRaWAN®', 'Limitations\\n\\nLoRaWAN is not suitable for every use-case, so it is important that you understand the limitations. Here’s a quick overview:']\n",
      "\n",
      "======================================================================\n",
      "\n",
      "Metrics Summary\n",
      "\n",
      "  - ✅ Answer Relevancy (score: 0.9230769230769231, threshold: 0.7, strict: False, evaluation model: gpt-4o-mini, reason: The score is 0.92 because the output primarily focused on the importance of channel plans in LoRaWAN, but it included an irrelevant statement about the context not answering the question, which detracted slightly from the overall relevance., error: None)\n",
      "  - ✅ Faithfulness (score: 0.8888888888888888, threshold: 0.7, strict: False, evaluation model: gpt-4o-mini, reason: The score is 0.89 because the actual output inaccurately states that channel plans ensure device operation within regional parameters, while the retrieval context correctly identifies that a Frequency Plan complies with LoRaWAN Regional Parameters., error: None)\n",
      "\n",
      "For test case:\n",
      "\n",
      "  - input: What is the importance of channel plans in LoRaWAN?\n",
      "  - actual output: The provided context doesn't directly answer the question about the importance of channel plans in LoRaWAN. However, it does provide information about Frequency Plans, which are closely related to channel plans. \n",
      "\n",
      "Based on the context, we can infer the importance of channel plans in LoRaWAN:\n",
      "\n",
      "* **Channel plans ensure efficient use of the available spectrum:** By defining data rates and channels, channel plans help avoid interference between devices and ensure that the available bandwidth is used effectively.\n",
      "* **Channel plans enable regional compliance:** LoRaWAN Regional Parameters specify the allowed frequencies and data rates for different regions. Channel plans ensure that devices operate within these parameters, complying with local regulations.\n",
      "* **Channel plans facilitate device activation and communication:** Devices are configured with a specific Frequency Plan during activation, allowing them to communicate with the network and other devices using the defined channels and data rates.\n",
      "\n",
      "Therefore, channel plans are crucial for the proper functioning and compliance of LoRaWAN networks. They ensure efficient communication, prevent interference, and enable devices to operate within the specified regional parameters. \n",
      "\n",
      "  - expected output: Channel plans in LoRaWAN define the specific frequencies and channels that devices use for communication, ensuring efficient spectrum use and regulatory compliance.\n",
      "  - context: None\n",
      "  - retrieval context: ['Definition:\\n\\nA Frequency Plan defines data rates and channels which comply with the LoRaWAN Regional Parameters for a band or geographical area. Devices are configured for a particular Frequency Plan as part of activation, and can use any Frequency Plan within a supported band', 'LoRaWAN®']\n",
      "\n",
      "======================================================================\n",
      "\n",
      "Metrics Summary\n",
      "\n",
      "  - ✅ Answer Relevancy (score: 0.875, threshold: 0.7, strict: False, evaluation model: gpt-4o-mini, reason: The score is 0.88 because while the majority of the response provided relevant information about LoRaWAN, it included an irrelevant statement regarding a lack of information on secure device provisioning, which detracted from the overall focus on the question., error: None)\n",
      "  - ✅ Faithfulness (score: 1.0, threshold: 0.7, strict: False, evaluation model: gpt-4o-mini, reason: The score is 1.00 because there are no contradictions, indicating that the actual output aligns perfectly with the retrieval context., error: None)\n",
      "\n",
      "For test case:\n",
      "\n",
      "  - input: How does LoRaWAN ensure secure device provisioning?\n",
      "  - actual output: The provided context doesn't contain information about how LoRaWAN ensures secure device provisioning.  \n",
      "\n",
      "To answer your question, we need more information about LoRaWAN's security features.  \n",
      "\n",
      "Here are some general security aspects of LoRaWAN that might be relevant:\n",
      "\n",
      "* **Device Authentication:** LoRaWAN uses a unique device EUI (Extended Unique Identifier) and a shared secret key to authenticate devices during the joining process. This prevents unauthorized devices from joining the network.\n",
      "* **Encryption:** LoRaWAN uses Advanced Encryption Standard (AES) to encrypt data transmitted between devices and gateways. This ensures that data is secure even if intercepted.\n",
      "* **Network Security:** LoRaWAN networks typically use a secure network server that manages device authentication, data encryption, and other security aspects.\n",
      "\n",
      "To get a more specific answer about how LoRaWAN ensures secure device provisioning, you'll need to consult the LoRaWAN specification or other relevant documentation. \n",
      "\n",
      "  - expected output: LoRaWAN ensures secure device provisioning through unique identifiers and keys, encrypted join requests, and secure key exchange mechanisms.\n",
      "  - context: None\n",
      "  - retrieval context: ['LoRaWAN®', 'LoRa']\n",
      "\n",
      "======================================================================\n",
      "\n",
      "Metrics Summary\n",
      "\n",
      "  - ✅ Answer Relevancy (score: 0.9166666666666666, threshold: 0.7, strict: False, evaluation model: gpt-4o-mini, reason: The score is 0.92 because the output contains a statement that diverges from the central question about how LoRaWAN supports OTA updates, which slightly detracts from its overall relevance., error: None)\n",
      "  - ✅ Faithfulness (score: 1.0, threshold: 0.7, strict: False, evaluation model: gpt-4o-mini, reason: The score is 1.00 because there are no contradictions, indicating that the actual output fully aligns with the retrieval context., error: None)\n",
      "\n",
      "For test case:\n",
      "\n",
      "  - input: How does LoRaWAN support over-the-air updates (OTA)?\n",
      "  - actual output: The provided context doesn't explicitly state how LoRaWAN supports over-the-air updates (OTA).  It mentions that during firmware upgrades over-the-air (FUOTA), a device must be switched to Class B or Class C. \n",
      "\n",
      "To answer your question, we need more information about how Class B and Class C devices facilitate OTA updates.  \n",
      "\n",
      "**Here's what we can infer:**\n",
      "\n",
      "* **Class B and C are likely involved in OTA updates:** The context suggests that switching to Class B or C is necessary for FUOTA. This implies that these classes offer features or capabilities that support OTA updates.\n",
      "* **Further research is needed:** To understand the specific mechanisms of OTA updates in LoRaWAN, we need to consult additional resources like the LoRaWAN specification or documentation related to Class B and C devices.\n",
      "\n",
      "**To get a complete answer, I recommend:**\n",
      "\n",
      "1. **Refer to the LoRaWAN specification:** The official LoRaWAN specification will provide detailed information on how OTA updates are implemented.\n",
      "2. **Search for documentation on Class B and C devices:** Look for resources that explain the features and capabilities of these device classes, particularly in relation to OTA updates. \n",
      "\n",
      "  - expected output: LoRaWAN supports over-the-air updates by allowing devices to receive firmware updates through downlink messages, ensuring they can stay updated remotely.\n",
      "  - context: None\n",
      "  - retrieval context: ['Device Classes\\n\\nThe LoRaWAN specification defines three device types: Class A , Class B , and Class C . All LoRaWAN devices must implement Class A, whereas Class B and Class C are extensions to the specification of Class A devices. All device classes support bi-directional communication (uplink and downlink). During firmware upgrades over-the-air (FUOTA), a device must be switched to Class B or Class C.', 'LoRaWAN®']\n",
      "\n",
      "======================================================================\n",
      "\n",
      "Metrics Summary\n",
      "\n",
      "  - ✅ Answer Relevancy (score: 1.0, threshold: 0.7, strict: False, evaluation model: gpt-4o-mini, reason: The score is 1.00 because the response directly addresses the role of payload encryption in LoRaWAN without any irrelevant statements., error: None)\n",
      "  - ✅ Faithfulness (score: 1.0, threshold: 0.7, strict: False, evaluation model: gpt-4o-mini, reason: The score is 1.00 because there are no contradictions present, indicating that the actual output perfectly aligns with the retrieval context., error: None)\n",
      "\n",
      "For test case:\n",
      "\n",
      "  - input: What is the role of the payload encryption in LoRaWAN?\n",
      "  - actual output: The role of payload encryption in LoRaWAN is to ensure only authorized parties can access the data transmitted between devices. This is achieved by encrypting both the MAC payload (between the end device and Network Server) and the application payload (between the end device and Application Server). This prevents eavesdropping and ensures data confidentiality. \n",
      "\n",
      "  - expected output: Payload encryption in LoRaWAN ensures that the data transmitted by devices is protected from unauthorized access, maintaining confidentiality.\n",
      "  - context: None\n",
      "  - retrieval context: ['End-to-end Security\\n\\nLoRaWAN provides end-to-end encryption for application payload exchange between end devices and the Application Server. Application payload refers to the data contained in the FRMPayload field. The Network Server also verifies the DevAddr for authenticating received messages.', 'Eavesdropping\\n\\nSince LoRaWAN provides two layers of security, the MAC payload is encrypted between the end device and the Network Server whereas the application payload is encrypted between the end device and the Application Server. This ensures only the authorised parties (end device, Network Server, Application Server) that hold the security keys (NwkSKey and AppSKey) can decrypt the payload and read the plain text content.']\n",
      "\n",
      "======================================================================\n",
      "\n",
      "Metrics Summary\n",
      "\n",
      "  - ✅ Answer Relevancy (score: 0.8, threshold: 0.7, strict: False, evaluation model: gpt-4o-mini, reason: The score is 0.80 because while the output provides some relevant information about LoRaWAN, it includes statements that highlight a lack of information and focus on limitations, which do not directly address the question of how LoRaWAN facilitates network interoperability., error: None)\n",
      "  - ✅ Faithfulness (score: 1.0, threshold: 0.7, strict: False, evaluation model: gpt-4o-mini, reason: The score is 1.00 because there are no contradictions, indicating that the actual output aligns perfectly with the retrieval context., error: None)\n",
      "\n",
      "For test case:\n",
      "\n",
      "  - input: How does LoRaWAN facilitate network interoperability?\n",
      "  - actual output: The provided context doesn't contain information about how LoRaWAN facilitates network interoperability. It only mentions that LoRaWAN has limitations and provides a brief overview of them. \n",
      "\n",
      "To answer your question, we need more information about LoRaWAN's features and capabilities. \n",
      "\n",
      "**Here's what you can do to find the answer:**\n",
      "\n",
      "1. **Search for \"LoRaWAN interoperability\" online:** This will likely lead you to resources that explain how LoRaWAN promotes interoperability between different networks and devices.\n",
      "2. **Check the LoRaWAN specification:** The official LoRaWAN specification document will contain detailed information about the technology's design and how it enables interoperability.\n",
      "3. **Consult LoRaWAN community forums:** Online forums dedicated to LoRaWAN are a great place to ask questions and get insights from experienced users and developers.\n",
      "\n",
      "Once you have gathered more information, you'll be able to understand how LoRaWAN facilitates network interoperability. \n",
      "\n",
      "  - expected output: LoRaWAN facilitates network interoperability by adhering to standardized protocols and regional parameters, allowing devices from different manufacturers to work together.\n",
      "  - context: None\n",
      "  - retrieval context: ['LoRaWAN®', 'Limitations\\n\\nLoRaWAN is not suitable for every use-case, so it is important that you understand the limitations. Here’s a quick overview:']\n",
      "\n",
      "======================================================================\n",
      "\n",
      "Metrics Summary\n",
      "\n",
      "  - ✅ Answer Relevancy (score: 1.0, threshold: 0.7, strict: False, evaluation model: gpt-4o-mini, reason: The score is 1.00 because the response directly addresses the role of the join server in LoRaWAN without any irrelevant statements., error: None)\n",
      "  - ✅ Faithfulness (score: 0.8, threshold: 0.7, strict: False, evaluation model: gpt-4o-mini, reason: The score is 0.80 because the actual output inaccurately states that the Join Server transfers generated session keys, while it only transfers specific keys (NwkSKey and AppSKey), leading to confusion about the key transfer process., error: None)\n",
      "\n",
      "For test case:\n",
      "\n",
      "  - input: What is the role of the join server in LoRaWAN?\n",
      "  - actual output: The Join Server plays a crucial role in LoRaWAN by:\n",
      "\n",
      "* **Secure Device Activation:** It facilitates the secure activation of end devices.\n",
      "* **Root Key Storage:** It securely stores the root keys used for device authentication.\n",
      "* **Session Key Generation:** It generates unique session keys for each device, ensuring secure communication.\n",
      "* **Key Distribution:** It transfers the generated session keys to the Network Server and Application Server, enabling secure communication between the device and the network. \n",
      "\n",
      "  - expected output: The join server manages the authentication and key exchange during the Over-the-Air Activation (OTAA) process, ensuring secure network access for devices.\n",
      "  - context: None\n",
      "  - retrieval context: ['Join Server\\n\\nThe Join Server assists in secure device activation, root key storage, and session key generation. The join procedure is initiated by the end device by sending the Join-request message to the Join Server through the Network Server. The Join-server processes the Join-request message, generates session keys, and transfers NwkSKey and AppSKey to the Network server and the Application server respectively.\\nThe Join Server was first introduced with LoRaWAN v1.1. It is also availabe in LoRaWAN v1.0.4.', 'Definition:\\n\\nThe Join Server processes join-request messages sent by end devices. It stores root keys, generates session keys, and transfers those session keys to the network server and the application server. The Join Server is introduced in LoRaWAN 1.1 and 1.0.4.']\n",
      "\n",
      "======================================================================\n",
      "\n",
      "Metrics Summary\n",
      "\n",
      "  - ❌ Answer Relevancy (score: 0.6666666666666666, threshold: 0.7, strict: False, evaluation model: gpt-4o-mini, reason: The score is 0.67 because there are several irrelevant statements that fail to address the specific key considerations for LoRaWAN deployment in remote areas, which diminishes the overall relevance of the response., error: None)\n",
      "  - ✅ Faithfulness (score: 1.0, threshold: 0.7, strict: False, evaluation model: gpt-4o-mini, reason: The score is 1.00 because there are no contradictions, indicating perfect alignment between the actual output and the retrieval context., error: None)\n",
      "\n",
      "For test case:\n",
      "\n",
      "  - input: What are the key considerations for LoRaWAN deployment in remote areas?\n",
      "  - actual output: The provided context doesn't contain information about key considerations for LoRaWAN deployment in remote areas. The information provided focuses on limitations of LoRaWAN and a definition of LoRaWAN. \n",
      "\n",
      "To answer your question, I need more information about the specific challenges and considerations for LoRaWAN deployment in remote areas. For example, I need to know:\n",
      "\n",
      "* **What are the specific challenges of remote areas?** (e.g., lack of infrastructure, harsh weather conditions, limited access to power)\n",
      "* **What are the specific requirements for LoRaWAN deployment in these areas?** (e.g., range, data rate, battery life)\n",
      "\n",
      "Once I have this information, I can provide you with a more comprehensive answer. \n",
      "\n",
      "  - expected output: Key considerations include ensuring sufficient gateway coverage, reliable power sources for devices, and compliance with local frequency regulations.\n",
      "  - context: None\n",
      "  - retrieval context: ['Limitations\\n\\nLoRaWAN is not suitable for every use-case, so it is important that you understand the limitations. Here’s a quick overview:', 'LoRaWAN®']\n",
      "\n",
      "======================================================================\n",
      "\n",
      "Metrics Summary\n",
      "\n",
      "  - ❌ Answer Relevancy (score: 0.25, threshold: 0.7, strict: False, evaluation model: gpt-4o-mini, reason: The score is 0.25 because the output included several irrelevant statements that did not address the question about the benefits of LoRaWAN for environmental monitoring. These irrelevant points detracted from the overall usefulness of the response, preventing a higher score. However, the presence of some relevant content still contributed to maintaining a minimal score., error: None)\n",
      "  - ✅ Faithfulness (score: 1.0, threshold: 0.7, strict: False, evaluation model: gpt-4o-mini, reason: The score is 1.00 because there are no contradictions found, indicating that the actual output aligns perfectly with the retrieval context., error: None)\n",
      "\n",
      "For test case:\n",
      "\n",
      "  - input: What are the benefits of using LoRaWAN for environmental monitoring?\n",
      "  - actual output: The provided context doesn't mention any benefits of using LoRaWAN for environmental monitoring. It only mentions that LoRaWAN has limitations and is not suitable for every use-case. \n",
      "\n",
      "To answer your question, you would need to provide additional context about the benefits of LoRaWAN for environmental monitoring. \n",
      "\n",
      "  - expected output: Benefits include the ability to cover large areas, low power consumption for long battery life, and secure data transmission for reliable monitoring.\n",
      "  - context: None\n",
      "  - retrieval context: ['LoRaWAN®', 'Limitations\\n\\nLoRaWAN is not suitable for every use-case, so it is important that you understand the limitations. Here’s a quick overview:']\n",
      "\n",
      "======================================================================\n",
      "\n",
      "Metrics Summary\n",
      "\n",
      "  - ✅ Answer Relevancy (score: 0.9, threshold: 0.7, strict: False, evaluation model: gpt-4o-mini, reason: The score is 0.90 because while the output generally addresses how LoRaWAN supports long battery life, it included an irrelevant statement that detracted from the overall focus on the topic., error: None)\n",
      "  - ✅ Faithfulness (score: 1.0, threshold: 0.7, strict: False, evaluation model: gpt-4o-mini, reason: The score is 1.00 because there are no contradictions, indicating that the actual output is fully aligned with the retrieval context., error: None)\n",
      "\n",
      "For test case:\n",
      "\n",
      "  - input: How does LoRaWAN support long battery life for devices?\n",
      "  - actual output: The provided context doesn't explicitly state how LoRaWAN supports long battery life. However, it does mention that LoRaWAN is **low power**, which implies long battery life. \n",
      "\n",
      "Here's how LoRaWAN achieves this:\n",
      "\n",
      "* **Low power consumption:** LoRaWAN devices are designed to consume very little power. They use low-power microcontrollers and operate in sleep mode most of the time, only waking up to transmit data.\n",
      "* **Efficient communication:** LoRaWAN uses a spread spectrum modulation technique called LoRa, which allows for long-range communication with minimal power consumption.\n",
      "* **Duty cycling:** LoRaWAN devices can be configured to transmit data only at specific intervals, further reducing power consumption.\n",
      "\n",
      "Therefore, the combination of these factors contributes to the long battery life of LoRaWAN devices. \n",
      "\n",
      "  - expected output: LoRaWAN supports long battery life through low power modulation, adaptive data rate (ADR), and energy-efficient communication protocols.\n",
      "  - context: None\n",
      "  - retrieval context: ['Suitable use-cases for LoRaWAN:\\n\\n* **Long range** - multiple kilometers\\n* **Low power** - can last years on a battery\\n* **Low cost** - less than 20€ CAPEX per node, almost no OPEX\\n* **Low bandwidth** - between 250bit/s and 11kbit/s in Europe using LoRa modulation (depending on the spreading factor)\\n* **Coverage everywhere** - you are the network! Just install your own gateways\\n* **Secure** - 128bit end-to-end encrypted', 'LoRaWAN®']\n",
      "\n",
      "======================================================================\n",
      "\n",
      "Metrics Summary\n",
      "\n",
      "  - ❌ Answer Relevancy (score: 0.5454545454545454, threshold: 0.7, strict: False, evaluation model: gpt-4o-mini, reason: The score is 0.55 because while some relevant points were touched upon, many statements were irrelevant as they highlighted a lack of information or asked for more context without answering the specific question about data integrity in LoRaWAN., error: None)\n",
      "  - ✅ Faithfulness (score: 1.0, threshold: 0.7, strict: False, evaluation model: gpt-4o-mini, reason: The score is 1.00 because there are no contradictions, indicating the actual output perfectly aligns with the retrieval context., error: None)\n",
      "\n",
      "For test case:\n",
      "\n",
      "  - input: How does LoRaWAN ensure data integrity?\n",
      "  - actual output: The provided context doesn't contain information about how LoRaWAN ensures data integrity. \n",
      "\n",
      "To answer your question, we need more information about LoRaWAN.  \n",
      "\n",
      "**Here's what you can do:**\n",
      "\n",
      "* **Provide more context:**  Share the actual content of the file \"15-glossary.md\" or any other relevant information about LoRaWAN.\n",
      "* **Search for information:**  Look for resources online that discuss LoRaWAN data integrity. You can search for terms like \"LoRaWAN security,\" \"LoRaWAN data encryption,\" or \"LoRaWAN data integrity.\"\n",
      "\n",
      "**General information about LoRaWAN security:**\n",
      "\n",
      "LoRaWAN typically uses several mechanisms to ensure data integrity:\n",
      "\n",
      "* **Encryption:**  Data is encrypted using symmetric key cryptography, ensuring that only authorized devices can access it.\n",
      "* **Authentication:**  Devices are authenticated using unique identifiers and cryptographic keys, preventing unauthorized access.\n",
      "* **Frame Counter:**  Each message includes a frame counter, which helps detect message replay attacks.\n",
      "* **CRC Checksum:**  A Cyclic Redundancy Check (CRC) checksum is used to detect errors in data transmission.\n",
      "\n",
      "**Remember:**  The specific security features implemented in a LoRaWAN network can vary depending on the network provider and configuration. \n",
      "\n",
      "  - expected output: LoRaWAN ensures data integrity by using message integrity codes (MIC) to verify that data has not been tampered with during transmission.\n",
      "  - context: None\n",
      "  - retrieval context: ['LoRaWAN®', 'LoRa']\n",
      "\n",
      "======================================================================\n",
      "\n",
      "Metrics Summary\n",
      "\n",
      "  - ❌ Answer Relevancy (score: 0.2, threshold: 0.7, strict: False, evaluation model: gpt-4o-mini, reason: The score is 0.20 because the output included multiple irrelevant statements that failed to address the question of how LoRaWAN supports secure data transmission. These statements were too vague and did not provide the necessary context or explanation for the inquiry., error: None)\n",
      "  - ❌ Faithfulness (score: 0.6666666666666666, threshold: 0.7, strict: False, evaluation model: gpt-4o-mini, reason: The score is 0.67 because the actual output incorrectly states that LoRaWAN uses VPN for securing communication, while the retrieval context clearly mentions that it uses HTTPS., error: None)\n",
      "\n",
      "For test case:\n",
      "\n",
      "  - input: How does LoRaWAN support secure data transmission?\n",
      "  - actual output: Based on the provided context, LoRaWAN uses **HTTPS and VPN** to secure communication between network elements like the Network Server, Application Servers, and the Join Server. \n",
      "\n",
      "  - expected output: LoRaWAN supports secure data transmission through end-to-end encryption, message integrity checks, and secure key exchange mechanisms.\n",
      "  - context: None\n",
      "  - retrieval context: ['Securing Communication Between Network Elements\\n\\nLoRaWAN uses HTTPS and VPN for securing communication among network elements (backend interfaces) such as the Network Server, Application Servers, and the Join Server.', 'LoRaWAN®']\n",
      "\n",
      "======================================================================\n",
      "\n",
      "Metrics Summary\n",
      "\n",
      "  - ✅ Answer Relevancy (score: 0.75, threshold: 0.7, strict: False, evaluation model: gpt-4o-mini, reason: The score is 0.75 because the output included an irrelevant statement about the lack of information on LoRaWAN's management of network congestion, which did not contribute to a clear answer. However, the remaining content likely addressed the core subject, justifying a solid score., error: None)\n",
      "  - ✅ Faithfulness (score: 1.0, threshold: 0.7, strict: False, evaluation model: gpt-4o-mini, reason: The score is 1.00 because there are no contradictions, indicating that the actual output perfectly aligns with the retrieval context., error: None)\n",
      "\n",
      "For test case:\n",
      "\n",
      "  - input: How does LoRaWAN manage network congestion?\n",
      "  - actual output: The provided context doesn't contain information about how LoRaWAN manages network congestion. It only mentions that LoRaWAN has limitations and is not suitable for every use case. \n",
      "\n",
      "To answer your question, you'll need to consult additional resources about LoRaWAN network management. \n",
      "\n",
      "  - expected output: LoRaWAN manages network congestion using adaptive data rate (ADR), duty cycle limitations, and efficient spectrum use to balance the load and optimize performance.\n",
      "  - context: None\n",
      "  - retrieval context: ['LoRaWAN®', 'Limitations\\n\\nLoRaWAN is not suitable for every use-case, so it is important that you understand the limitations. Here’s a quick overview:']\n",
      "\n",
      "======================================================================\n",
      "\n",
      "Metrics Summary\n",
      "\n",
      "  - ✅ Answer Relevancy (score: 1.0, threshold: 0.7, strict: False, evaluation model: gpt-4o-mini, reason: The score is 1.00 because the response directly and completely addresses the question about the different communication classes in LoRaWAN without any irrelevant statements., error: None)\n",
      "  - ✅ Faithfulness (score: 1.0, threshold: 0.7, strict: False, evaluation model: gpt-4o-mini, reason: The score is 1.00 because there are no contradictions present, indicating perfect alignment between the actual output and the retrieval context., error: None)\n",
      "\n",
      "For test case:\n",
      "\n",
      "  - input: What are the different communication classes in LoRaWAN?\n",
      "  - actual output: The different communication classes in LoRaWAN are:\n",
      "\n",
      "* **Class A**\n",
      "* **Class B**\n",
      "* **Class C** \n",
      "\n",
      "  - expected output: The communication classes in LoRaWAN are Class A (low power, bi-directional), Class B (scheduled receive slots), and Class C (almost continuous receive windows).\n",
      "  - context: None\n",
      "  - retrieval context: ['Device Classes\\n\\nThe LoRaWAN specification defines three device types: Class A , Class B , and Class C . All LoRaWAN devices must implement Class A, whereas Class B and Class C are extensions to the specification of Class A devices. All device classes support bi-directional communication (uplink and downlink). During firmware upgrades over-the-air (FUOTA), a device must be switched to Class B or Class C.', 'LoRaWAN®']\n",
      "\n",
      "======================================================================\n",
      "\n",
      "Metrics Summary\n",
      "\n",
      "  - ❌ Answer Relevancy (score: 0.14285714285714285, threshold: 0.7, strict: False, evaluation model: gpt-4o-mini, reason: The score is 0.14 because the output contains several irrelevant statements that do not address the specific question about downlink message scheduling in LoRaWAN, focusing instead on its limitations in other areas., error: None)\n",
      "  - ✅ Faithfulness (score: 0.8571428571428571, threshold: 0.7, strict: False, evaluation model: gpt-4o-mini, reason: The score is 0.86 because the actual output incorrectly states that LoRaWAN is unsuitable for phone calls, while the retrieval context explicitly mentions that phone calls cannot be made using LoRaWAN., error: None)\n",
      "\n",
      "For test case:\n",
      "\n",
      "  - input: How does LoRaWAN handle downlink message scheduling?\n",
      "  - actual output: The provided context doesn't contain information about how LoRaWAN handles downlink message scheduling. \n",
      "\n",
      "The context focuses on the limitations of LoRaWAN, highlighting its unsuitability for real-time data, phone calls, controlling lights, and sending large files. \n",
      "\n",
      "To answer your question about downlink message scheduling, you would need to consult additional resources on LoRaWAN technology. \n",
      "\n",
      "  - expected output: LoRaWAN handles downlink message scheduling using scheduled receive windows in Class B and nearly continuous receive windows in Class C devices.\n",
      "  - context: None\n",
      "  - retrieval context: ['LoRaWAN®', 'Not Suitable for LoRaWAN:\\n\\n* **Realtime data** - you can only send small packets every couple of minutes\\n* **Phone calls** - you can do that with GPRS/3G/LTE\\n* **Controlling lights in your house** - check out ZigBee or BlueTooth\\n* **Sending photos, watching Netflix** - check out WiFi']\n",
      "\n",
      "======================================================================\n",
      "\n",
      "Metrics Summary\n",
      "\n",
      "  - ✅ Answer Relevancy (score: 0.8461538461538461, threshold: 0.7, strict: False, evaluation model: gpt-4o-mini, reason: The score is 0.85 because while the response contains valuable information about LoRaWAN, it includes irrelevant statements that do not directly address the question of how LoRaWAN facilitates network scalability, such as comments about limitations and unrelated context., error: None)\n",
      "  - ✅ Faithfulness (score: 0.8888888888888888, threshold: 0.7, strict: False, evaluation model: gpt-4o-mini, reason: The score is 0.89 because the actual output fails to mention that LoRaWAN employs frequency hopping spread spectrum (FHSS) to mitigate interference, which is a key detail not included in the retrieval context., error: None)\n",
      "\n",
      "For test case:\n",
      "\n",
      "  - input: How does LoRaWAN facilitate network scalability?\n",
      "  - actual output: The provided context doesn't contain information about how LoRaWAN facilitates network scalability.  It only mentions that LoRaWAN has limitations and provides a link to a file that might contain more information. \n",
      "\n",
      "To answer your question, we need more information about LoRaWAN's scalability features.  \n",
      "\n",
      "Here are some general ways that LoRaWAN can facilitate network scalability:\n",
      "\n",
      "* **Star topology:** LoRaWAN uses a star topology, where many end devices communicate with a single gateway. This allows for a large number of devices to be connected to a single network.\n",
      "* **Frequency hopping:** LoRaWAN uses frequency hopping spread spectrum (FHSS) to avoid interference and improve network capacity.\n",
      "* **Adaptive data rates:** LoRaWAN allows devices to adjust their data rates based on the quality of the signal and the available bandwidth. This helps to optimize network performance and ensure that devices can communicate effectively even in challenging environments.\n",
      "* **Multiple gateways:** LoRaWAN networks can be deployed with multiple gateways, which can improve coverage and capacity.\n",
      "* **Network management tools:** LoRaWAN networks are typically managed by software platforms that provide tools for monitoring network performance, managing devices, and configuring network settings. These tools can help to ensure that the network remains scalable and reliable.\n",
      "\n",
      "To get a more specific answer to your question, you would need to consult the documentation for the specific LoRaWAN implementation you are interested in. \n",
      "\n",
      "  - expected output: LoRaWAN facilitates network scalability through features like adaptive data rate (ADR), efficient spectrum use, and the ability to support many devices per gateway.\n",
      "  - context: None\n",
      "  - retrieval context: ['LoRaWAN®', 'Limitations\\n\\nLoRaWAN is not suitable for every use-case, so it is important that you understand the limitations. Here’s a quick overview:']\n",
      "\n",
      "======================================================================\n",
      "\n",
      "Metrics Summary\n",
      "\n",
      "  - ❌ Answer Relevancy (score: 0.3333333333333333, threshold: 0.7, strict: False, evaluation model: gpt-4o-mini, reason: The score is 0.33 because the output included irrelevant statements that did not directly address how LoRaWAN supports high-density deployments, such as discussing the lack of context and focusing on limitations instead of the advantages that pertain to the question., error: None)\n",
      "  - ✅ Faithfulness (score: 1.0, threshold: 0.7, strict: False, evaluation model: gpt-4o-mini, reason: The score is 1.00 because there are no contradictions, indicating that the actual output perfectly aligns with the retrieval context., error: None)\n",
      "\n",
      "For test case:\n",
      "\n",
      "  - input: How does LoRaWAN support high-density deployments?\n",
      "  - actual output: The provided context doesn't contain information about how LoRaWAN supports high-density deployments. The text focuses on the limitations of LoRaWAN, not its strengths. \n",
      "\n",
      "To answer your question, you'll need to consult additional resources about LoRaWAN and its capabilities. \n",
      "\n",
      "  - expected output: LoRaWAN supports high-density deployments through features like adaptive data rate (ADR), channel diversity, and efficient spectrum use.\n",
      "  - context: None\n",
      "  - retrieval context: ['LoRaWAN®', 'Limitations\\n\\nLoRaWAN is not suitable for every use-case, so it is important that you understand the limitations. Here’s a quick overview:']\n",
      "\n",
      "======================================================================\n",
      "\n",
      "Overall Metric Pass Rates\n",
      "\n",
      "Answer Relevancy: 54.67% pass rate\n",
      "Faithfulness: 89.33% pass rate\n",
      "\n",
      "======================================================================\n",
      "\n"
     ]
    },
    {
     "data": {
      "text/html": [
       "<pre style=\"white-space:pre;overflow-x:auto;line-height:normal;font-family:Menlo,'DejaVu Sans Mono',consolas,'Courier New',monospace\">Sending a large test run to Confident, this might take a bit longer than usual<span style=\"color: #808000; text-decoration-color: #808000\">...</span>\n",
       "</pre>\n"
      ],
      "text/plain": [
       "Sending a large test run to Confident, this might take a bit longer than usual\u001b[33m...\u001b[0m\n"
      ]
     },
     "metadata": {},
     "output_type": "display_data"
    },
    {
     "data": {
      "text/html": [
       "<pre style=\"white-space:pre;overflow-x:auto;line-height:normal;font-family:Menlo,'DejaVu Sans Mono',consolas,'Courier New',monospace\">✅ Tests finished! View results on \n",
       "<a href=\"https://app.confident-ai.com/project/clzer4xud07q8rvbpt5obxs67/unit-tests/clzhin8d208ob8vdmohqsbx1u/test-cases\" target=\"_blank\"><span style=\"color: #0000ff; text-decoration-color: #0000ff; text-decoration: underline\">https://app.confident-ai.com/project/clzer4xud07q8rvbpt5obxs67/unit-tests/clzhin8d208ob8vdmohqsbx1u/test-cases</span></a>\n",
       "</pre>\n"
      ],
      "text/plain": [
       "✅ Tests finished! View results on \n",
       "\u001b]8;id=408268;https://app.confident-ai.com/project/clzer4xud07q8rvbpt5obxs67/unit-tests/clzhin8d208ob8vdmohqsbx1u/test-cases\u001b\\\u001b[4;94mhttps://app.confident-ai.com/project/clzer4xud07q8rvbpt5obxs67/unit-tests/clzhin8d208ob8vdmohqsbx1u/test-cases\u001b[0m\u001b]8;;\u001b\\\n"
      ]
     },
     "metadata": {},
     "output_type": "display_data"
    }
   ],
   "source": [
    "for param, param_test_cases in test_dataset:\n",
    "    (\n",
    "        prompt_template,\n",
    "        similiarity_top_k,\n",
    "        sparse_top_k,\n",
    "        rerank_top_n,\n",
    "        llm,\n",
    "    ) = param\n",
    "    evaluate(\n",
    "        test_cases=param_test_cases,\n",
    "        metrics=[\n",
    "            relevancy,\n",
    "            faithfulness,\n",
    "        ],\n",
    "        hyperparameters={\n",
    "            \"model\": \"Gemini 1.5 Flash\",\n",
    "            \"prompt template\": prompt_template,\n",
    "            \"similiarity_top_k\": similiarity_top_k,\n",
    "            \"sparse_top_k\": sparse_top_k,\n",
    "            \"rerank_top_n\": rerank_top_n,\n",
    "        }\n",
    "    )"
   ]
  },
  {
   "cell_type": "code",
   "execution_count": null,
   "metadata": {},
   "outputs": [],
   "source": []
  }
 ],
 "metadata": {
  "kernelspec": {
   "display_name": "lorawan-chatbot-rag-llm-Kbm_Xz7B-py3.11",
   "language": "python",
   "name": "python3"
  },
  "language_info": {
   "codemirror_mode": {
    "name": "ipython",
    "version": 3
   },
   "file_extension": ".py",
   "mimetype": "text/x-python",
   "name": "python",
   "nbconvert_exporter": "python",
   "pygments_lexer": "ipython3",
   "version": "3.11.9"
  }
 },
 "nbformat": 4,
 "nbformat_minor": 2
}
